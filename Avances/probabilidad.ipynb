{
 "cells": [
  {
   "cell_type": "code",
   "execution_count": 1,
   "id": "accepting-degree",
   "metadata": {},
   "outputs": [],
   "source": [
    "import io\n",
    "import matplotlib\n",
    "import matplotlib.pyplot as plt\n",
    "import numpy\n",
    "import pandas as pd\n",
    "import seaborn\n",
    "\n",
    "seaborn.set_context('talk')"
   ]
  },
  {
   "cell_type": "code",
   "execution_count": 4,
   "id": "commercial-primary",
   "metadata": {},
   "outputs": [],
   "source": [
    "url = 'https://cs.famaf.unc.edu.ar/~mteruel/datasets/diplodatos/sysarmy_survey_2020_processed.csv'\n",
    "df = pd.read_csv(url)"
   ]
  },
  {
   "cell_type": "code",
   "execution_count": 6,
   "id": "appropriate-compound",
   "metadata": {
    "scrolled": true
   },
   "outputs": [
    {
     "data": {
      "text/html": [
       "<div>\n",
       "<style scoped>\n",
       "    .dataframe tbody tr th:only-of-type {\n",
       "        vertical-align: middle;\n",
       "    }\n",
       "\n",
       "    .dataframe tbody tr th {\n",
       "        vertical-align: top;\n",
       "    }\n",
       "\n",
       "    .dataframe thead th {\n",
       "        text-align: right;\n",
       "    }\n",
       "</style>\n",
       "<table border=\"1\" class=\"dataframe\">\n",
       "  <thead>\n",
       "    <tr style=\"text-align: right;\">\n",
       "      <th></th>\n",
       "      <th>profile_gender</th>\n",
       "      <th>profile_age</th>\n",
       "      <th>work_country</th>\n",
       "      <th>work_province</th>\n",
       "      <th>profile_years_experience</th>\n",
       "      <th>work_years_in_company</th>\n",
       "      <th>work_years_in_current_position</th>\n",
       "      <th>work_people_in_charge_of</th>\n",
       "      <th>profile_studies_level</th>\n",
       "      <th>profile_studies_level_state</th>\n",
       "      <th>...</th>\n",
       "      <th>work_has_violence_situations</th>\n",
       "      <th>profile_sexual_orientation</th>\n",
       "      <th>profile_has_disabilities</th>\n",
       "      <th>profile_has_disabilities_hiring_difficulties</th>\n",
       "      <th>company_employee_number</th>\n",
       "      <th>company_main_activity</th>\n",
       "      <th>company_recommended</th>\n",
       "      <th>company_diversity_policies</th>\n",
       "      <th>company_extra_benefits</th>\n",
       "      <th>company_best_companies_city</th>\n",
       "    </tr>\n",
       "  </thead>\n",
       "  <tbody>\n",
       "    <tr>\n",
       "      <th>0</th>\n",
       "      <td>Mujer</td>\n",
       "      <td>26</td>\n",
       "      <td>Argentina</td>\n",
       "      <td>Ciudad Autónoma de Buenos Aires</td>\n",
       "      <td>3.0</td>\n",
       "      <td>3.0</td>\n",
       "      <td>3.0</td>\n",
       "      <td>0</td>\n",
       "      <td>Universitario</td>\n",
       "      <td>En curso</td>\n",
       "      <td>...</td>\n",
       "      <td>En mi trabajo actual</td>\n",
       "      <td>Homosexual</td>\n",
       "      <td>NaN</td>\n",
       "      <td>NaN</td>\n",
       "      <td>501-1000</td>\n",
       "      <td>Servicios / Consultoría de Software / Digital</td>\n",
       "      <td>7</td>\n",
       "      <td>2</td>\n",
       "      <td>Capacitaciones y/o cursos, Comidas pagas / sub...</td>\n",
       "      <td>NaN</td>\n",
       "    </tr>\n",
       "    <tr>\n",
       "      <th>1</th>\n",
       "      <td>Hombre</td>\n",
       "      <td>29</td>\n",
       "      <td>Argentina</td>\n",
       "      <td>Corrientes</td>\n",
       "      <td>5.0</td>\n",
       "      <td>2.0</td>\n",
       "      <td>2.0</td>\n",
       "      <td>4</td>\n",
       "      <td>Universitario</td>\n",
       "      <td>En curso</td>\n",
       "      <td>...</td>\n",
       "      <td>Jamás</td>\n",
       "      <td>Heterosexual</td>\n",
       "      <td>Visual</td>\n",
       "      <td>No</td>\n",
       "      <td>201-500</td>\n",
       "      <td>Otras industrias</td>\n",
       "      <td>8</td>\n",
       "      <td>9</td>\n",
       "      <td>Horarios flexibles, Stock options / RSUs, Viát...</td>\n",
       "      <td>NaN</td>\n",
       "    </tr>\n",
       "    <tr>\n",
       "      <th>2</th>\n",
       "      <td>Mujer</td>\n",
       "      <td>22</td>\n",
       "      <td>Argentina</td>\n",
       "      <td>Ciudad Autónoma de Buenos Aires</td>\n",
       "      <td>2.0</td>\n",
       "      <td>0.0</td>\n",
       "      <td>0.0</td>\n",
       "      <td>0</td>\n",
       "      <td>Secundario</td>\n",
       "      <td>Completado</td>\n",
       "      <td>...</td>\n",
       "      <td>En un trabajo anterior</td>\n",
       "      <td>Bisexual o queer</td>\n",
       "      <td>NaN</td>\n",
       "      <td>No</td>\n",
       "      <td>2001-5000</td>\n",
       "      <td>Otras industrias</td>\n",
       "      <td>6</td>\n",
       "      <td>9</td>\n",
       "      <td>Clases de gimnasia online, Comidas pagas / sub...</td>\n",
       "      <td>NaN</td>\n",
       "    </tr>\n",
       "  </tbody>\n",
       "</table>\n",
       "<p>3 rows × 48 columns</p>\n",
       "</div>"
      ],
      "text/plain": [
       "  profile_gender  profile_age work_country                    work_province  \\\n",
       "0          Mujer           26    Argentina  Ciudad Autónoma de Buenos Aires   \n",
       "1         Hombre           29    Argentina                       Corrientes   \n",
       "2          Mujer           22    Argentina  Ciudad Autónoma de Buenos Aires   \n",
       "\n",
       "   profile_years_experience  work_years_in_company  \\\n",
       "0                       3.0                    3.0   \n",
       "1                       5.0                    2.0   \n",
       "2                       2.0                    0.0   \n",
       "\n",
       "   work_years_in_current_position  work_people_in_charge_of  \\\n",
       "0                             3.0                         0   \n",
       "1                             2.0                         4   \n",
       "2                             0.0                         0   \n",
       "\n",
       "  profile_studies_level profile_studies_level_state  ...  \\\n",
       "0         Universitario                    En curso  ...   \n",
       "1         Universitario                    En curso  ...   \n",
       "2            Secundario                  Completado  ...   \n",
       "\n",
       "  work_has_violence_situations profile_sexual_orientation  \\\n",
       "0         En mi trabajo actual                 Homosexual   \n",
       "1                        Jamás               Heterosexual   \n",
       "2       En un trabajo anterior           Bisexual o queer   \n",
       "\n",
       "  profile_has_disabilities profile_has_disabilities_hiring_difficulties  \\\n",
       "0                      NaN                                          NaN   \n",
       "1                   Visual                                           No   \n",
       "2                      NaN                                           No   \n",
       "\n",
       "  company_employee_number                          company_main_activity  \\\n",
       "0                501-1000  Servicios / Consultoría de Software / Digital   \n",
       "1                 201-500                               Otras industrias   \n",
       "2               2001-5000                               Otras industrias   \n",
       "\n",
       "  company_recommended company_diversity_policies  \\\n",
       "0                   7                          2   \n",
       "1                   8                          9   \n",
       "2                   6                          9   \n",
       "\n",
       "                              company_extra_benefits  \\\n",
       "0  Capacitaciones y/o cursos, Comidas pagas / sub...   \n",
       "1  Horarios flexibles, Stock options / RSUs, Viát...   \n",
       "2  Clases de gimnasia online, Comidas pagas / sub...   \n",
       "\n",
       "  company_best_companies_city  \n",
       "0                         NaN  \n",
       "1                         NaN  \n",
       "2                         NaN  \n",
       "\n",
       "[3 rows x 48 columns]"
      ]
     },
     "execution_count": 6,
     "metadata": {},
     "output_type": "execute_result"
    }
   ],
   "source": [
    "df.head(3)"
   ]
  },
  {
   "cell_type": "markdown",
   "id": "experimental-glass",
   "metadata": {},
   "source": [
    "### Histograma de salario neto"
   ]
  },
  {
   "cell_type": "code",
   "execution_count": 7,
   "id": "challenging-blade",
   "metadata": {
    "scrolled": true
   },
   "outputs": [
    {
     "data": {
      "image/png": "[encoded data removed]",
      "text/plain": [
       "<Figure size 720x360 with 1 Axes>"
      ]
     },
     "metadata": {
      "needs_background": "light"
     },
     "output_type": "display_data"
    }
   ],
   "source": [
    "seaborn.displot(df.salary_monthly_NETO, aspect=2)\n",
    "## para evitar la notación científica en las etiquetas\n",
    "plt.ticklabel_format(style='plain', axis='x')"
   ]
  },
  {
   "cell_type": "markdown",
   "id": "centered-cameroon",
   "metadata": {},
   "source": [
    "### Conclusiones\n",
    "\n",
    "* El rango de valores tomados por la columna va desde 0 hasta aproximadamente 2M.\n",
    "* La mayoría de los valores se condensa por debajo de los 250K, y pocos superan los 500K.\n",
    "* Los valores más frencuentes aparentan estar cerca de los 100K.\n",
    "* Hay un pico de ocurrencias en el valor 0."
   ]
  },
  {
   "cell_type": "markdown",
   "id": "boring-frank",
   "metadata": {},
   "source": [
    "### VA numérica"
   ]
  },
  {
   "cell_type": "code",
   "execution_count": 28,
   "id": "australian-clear",
   "metadata": {},
   "outputs": [
    {
     "data": {
      "text/plain": [
       "count     6095.000000\n",
       "mean        41.181952\n",
       "std        665.721175\n",
       "min         18.000000\n",
       "25%         27.000000\n",
       "50%         31.000000\n",
       "75%         37.000000\n",
       "max      52000.000000\n",
       "Name: profile_age, dtype: float64"
      ]
     },
     "execution_count": 28,
     "metadata": {},
     "output_type": "execute_result"
    }
   ],
   "source": [
    "df.profile_age.describe()"
   ]
  },
  {
   "cell_type": "code",
   "execution_count": 8,
   "id": "incorporated-three",
   "metadata": {},
   "outputs": [
    {
     "data": {
      "text/plain": [
       "(18, 52000)"
      ]
     },
     "execution_count": 8,
     "metadata": {},
     "output_type": "execute_result"
    }
   ],
   "source": [
    "# Obtenemos el rango de valores observados de la variable\n",
    "df.profile_age.min(), df.profile_age.max()"
   ]
  },
  {
   "cell_type": "code",
   "execution_count": 30,
   "id": "endless-cherry",
   "metadata": {
    "scrolled": true
   },
   "outputs": [
    {
     "data": {
      "text/plain": [
       "<seaborn.axisgrid.FacetGrid at 0x7f3aeb7a4df0>"
      ]
     },
     "execution_count": 30,
     "metadata": {},
     "output_type": "execute_result"
    },
    {
     "data": {
      "image/png": "[encoded data removed]",
      "text/plain": [
       "<Figure size 1440x360 with 1 Axes>"
      ]
     },
     "metadata": {
      "needs_background": "light"
     },
     "output_type": "display_data"
    }
   ],
   "source": [
    "seaborn.displot(df.profile_age[df.profile_age < 100].dropna(), stat='count', aspect=4)"
   ]
  },
  {
   "cell_type": "markdown",
   "id": "polish-alfred",
   "metadata": {},
   "source": [
    "los histogramas pueden ocultar información porque agrupan rangos de valores en intervalos inferidos automáticamente"
   ]
  },
  {
   "cell_type": "code",
   "execution_count": 10,
   "id": "passive-stuart",
   "metadata": {
    "scrolled": false
   },
   "outputs": [
    {
     "name": "stderr",
     "output_type": "stream",
     "text": [
      "<ipython-input-10-039ea6518dc7>:17: UserWarning: Matplotlib is currently using module://ipykernel.pylab.backend_inline, which is a non-GUI backend, so cannot show the figure.\n",
      "  fig.show()\n"
     ]
    },
    {
     "data": {
      "image/png": "[encoded data removed]",
      "text/plain": [
       "<Figure size 1080x720 with 6 Axes>"
      ]
     },
     "metadata": {
      "needs_background": "light"
     },
     "output_type": "display_data"
    }
   ],
   "source": [
    "# Un ejemplo más avanzado\n",
    "fig, ax = plt.subplots(nrows=2, ncols=3, figsize=(15,10), sharey='row')\n",
    "seaborn.histplot(df.profile_age[df.profile_age < 100].dropna(), ax=ax[0,0],\n",
    "                 stat='count')\n",
    "seaborn.histplot(df.profile_age[df.profile_age < 100].dropna(), ax=ax[0,1],\n",
    "                 bins=20, stat='count')\n",
    "seaborn.histplot(df.profile_age[df.profile_age < 100].dropna(), ax=ax[0,2],\n",
    "                 bins=5, stat='count')\n",
    "\n",
    "seaborn.histplot(df.profile_age[df.profile_age < 100].dropna(), ax=ax[1,0],\n",
    "                 stat='frequency')\n",
    "seaborn.histplot(df.profile_age[df.profile_age < 100].dropna(), ax=ax[1,1],\n",
    "                 bins=20, stat='frequency')\n",
    "seaborn.histplot(df.profile_age[df.profile_age < 100].dropna(), ax=ax[1,2],\n",
    "                 bins=5, stat='frequency')\n",
    "\n",
    "fig.show()"
   ]
  },
  {
   "cell_type": "markdown",
   "id": "structured-mississippi",
   "metadata": {},
   "source": [
    "Para variables discretas puede usarse un gráfico de línea, que permite visualizar el conteo de cada uno de los puntos en el rango observado."
   ]
  },
  {
   "cell_type": "code",
   "execution_count": 32,
   "id": "monetary-addition",
   "metadata": {
    "scrolled": true
   },
   "outputs": [
    {
     "name": "stderr",
     "output_type": "stream",
     "text": [
      "/home/exequiel/.local/lib/python3.9/site-packages/seaborn/_decorators.py:36: FutureWarning: Pass the following variables as keyword args: x, y. From version 0.12, the only valid positional argument will be `data`, and passing other arguments without an explicit keyword will result in an error or misinterpretation.\n",
      "  warnings.warn(\n"
     ]
    },
    {
     "data": {
      "image/png": "[encoded data removed]",
      "text/plain": [
       "<Figure size 1152x288 with 1 Axes>"
      ]
     },
     "metadata": {
      "needs_background": "light"
     },
     "output_type": "display_data"
    }
   ],
   "source": [
    "fig = plt.figure(figsize=(16,4))\n",
    "age_counts = df[df.profile_age < 100].profile_age.value_counts()\n",
    "seaborn.lineplot(age_counts.index, age_counts.values, color='steelblue')\n",
    "plt.xticks(fontsize=14)  # Achicamos la letra para que se vea mejor\n",
    "seaborn.despine()"
   ]
  },
  {
   "cell_type": "code",
   "execution_count": 41,
   "id": "hawaiian-aerospace",
   "metadata": {
    "scrolled": true
   },
   "outputs": [
    {
     "data": {
      "text/plain": [
       "80000.0     149\n",
       "100000.0    139\n",
       "90000.0     116\n",
       "110000.0    111\n",
       "120000.0    104\n",
       "           ... \n",
       "50451.0       1\n",
       "297000.0      1\n",
       "73413.5       1\n",
       "73350.0       1\n",
       "77800.0       1\n",
       "Name: salary_monthly_NETO, Length: 1379, dtype: int64"
      ]
     },
     "execution_count": 41,
     "metadata": {},
     "output_type": "execute_result"
    }
   ],
   "source": [
    "df.salary_monthly_NETO.value_counts()"
   ]
  },
  {
   "cell_type": "code",
   "execution_count": 40,
   "id": "authentic-sandwich",
   "metadata": {
    "scrolled": true
   },
   "outputs": [
    {
     "data": {
      "text/plain": [
       "29    380\n",
       "28    364\n",
       "30    356\n",
       "31    341\n",
       "26    322\n",
       "33    308\n",
       "27    305\n",
       "25    300\n",
       "32    291\n",
       "34    288\n",
       "35    286\n",
       "37    237\n",
       "36    231\n",
       "24    227\n",
       "38    207\n",
       "39    178\n",
       "23    175\n",
       "40    172\n",
       "42    144\n",
       "22    133\n",
       "41    122\n",
       "43    121\n",
       "45     90\n",
       "21     77\n",
       "46     54\n",
       "20     49\n",
       "44     49\n",
       "47     42\n",
       "48     38\n",
       "52     35\n",
       "49     26\n",
       "51     23\n",
       "19     23\n",
       "50     18\n",
       "54     18\n",
       "53     14\n",
       "57     13\n",
       "55     12\n",
       "56      4\n",
       "58      4\n",
       "60      3\n",
       "64      3\n",
       "59      2\n",
       "18      2\n",
       "62      2\n",
       "61      2\n",
       "65      1\n",
       "67      1\n",
       "Name: profile_age, dtype: int64"
      ]
     },
     "execution_count": 40,
     "metadata": {},
     "output_type": "execute_result"
    }
   ],
   "source": [
    "df[df.profile_age < 100].profile_age.value_counts()"
   ]
  },
  {
   "cell_type": "code",
   "execution_count": 46,
   "id": "applicable-bunny",
   "metadata": {},
   "outputs": [
    {
     "data": {
      "text/plain": [
       "0        43000.000\n",
       "1        63000.000\n",
       "2       127000.000\n",
       "3       102000.000\n",
       "4       106000.000\n",
       "           ...    \n",
       "6090     97000.000\n",
       "6091     71000.000\n",
       "6092        45.753\n",
       "6093        72.000\n",
       "6094     65000.000\n",
       "Name: salary_monthly_NETO, Length: 5824, dtype: float64"
      ]
     },
     "execution_count": 46,
     "metadata": {},
     "output_type": "execute_result"
    }
   ],
   "source": [
    "df[df.salary_monthly_NETO < 500000].salary_monthly_NETO"
   ]
  },
  {
   "cell_type": "code",
   "execution_count": 48,
   "id": "enclosed-negotiation",
   "metadata": {
    "scrolled": true
   },
   "outputs": [
    {
     "name": "stderr",
     "output_type": "stream",
     "text": [
      "/home/exequiel/.local/lib/python3.9/site-packages/seaborn/_decorators.py:36: FutureWarning: Pass the following variables as keyword args: x, y. From version 0.12, the only valid positional argument will be `data`, and passing other arguments without an explicit keyword will result in an error or misinterpretation.\n",
      "  warnings.warn(\n"
     ]
    },
    {
     "data": {
      "image/png": "[encoded data removed]",
      "text/plain": [
       "<Figure size 1152x288 with 1 Axes>"
      ]
     },
     "metadata": {
      "needs_background": "light"
     },
     "output_type": "display_data"
    }
   ],
   "source": [
    "fig = plt.figure(figsize=(16,4))\n",
    "salary_counts = df[df.salary_monthly_NETO < 200000].salary_monthly_NETO.value_counts()\n",
    "seaborn.lineplot(salary_counts.index, salary_counts.values, color='steelblue')\n",
    "plt.xticks(fontsize=14)  # Achicamos la letra para que se vea mejor\n",
    "seaborn.despine()"
   ]
  },
  {
   "cell_type": "markdown",
   "id": "distributed-commons",
   "metadata": {},
   "source": [
    "---"
   ]
  },
  {
   "cell_type": "markdown",
   "id": "caroline-timothy",
   "metadata": {},
   "source": [
    "### VA Categóricas"
   ]
  },
  {
   "cell_type": "code",
   "execution_count": 15,
   "id": "lasting-native",
   "metadata": {
    "scrolled": false
   },
   "outputs": [
    {
     "data": {
      "text/plain": [
       "array(['Mujer', 'Hombre', 'Otros'], dtype=object)"
      ]
     },
     "execution_count": 15,
     "metadata": {},
     "output_type": "execute_result"
    }
   ],
   "source": [
    "df.profile_gender.unique()"
   ]
  },
  {
   "cell_type": "code",
   "execution_count": 57,
   "id": "offshore-lottery",
   "metadata": {
    "scrolled": true
   },
   "outputs": [
    {
     "data": {
      "text/plain": [
       "array(['Ciudad Autónoma de Buenos Aires', 'Corrientes',\n",
       "       'Provincia de Buenos Aires', 'Entre Ríos', 'Córdoba', 'Tucumán',\n",
       "       'GBA', 'Santa Fe', 'Neuquén', 'Mendoza', 'Misiones', 'Chaco',\n",
       "       'Chubut', 'Jujuy', 'La Rioja', 'Río Negro', 'Salta',\n",
       "       'Tierra del Fuego', 'San Luis', 'Catamarca', 'San Juan',\n",
       "       'Santiago del Estero', 'La Pampa', 'Formosa', 'Santa Cruz'],\n",
       "      dtype=object)"
      ]
     },
     "execution_count": 57,
     "metadata": {},
     "output_type": "execute_result"
    }
   ],
   "source": [
    "df.work_province.unique()"
   ]
  },
  {
   "cell_type": "code",
   "execution_count": 59,
   "id": "ranging-orange",
   "metadata": {
    "scrolled": true
   },
   "outputs": [
    {
     "data": {
      "text/plain": [
       "array(['Universitario', 'Secundario', 'Posgrado', 'Terciario',\n",
       "       'Doctorado', 'Posdoctorado', 'Primario'], dtype=object)"
      ]
     },
     "execution_count": 59,
     "metadata": {},
     "output_type": "execute_result"
    }
   ],
   "source": [
    "df.profile_studies_level.unique()"
   ]
  },
  {
   "cell_type": "code",
   "execution_count": 62,
   "id": "nervous-shopper",
   "metadata": {},
   "outputs": [
    {
     "data": {
      "text/plain": [
       "array(['En curso', 'Completado', 'Incompleto'], dtype=object)"
      ]
     },
     "execution_count": 62,
     "metadata": {},
     "output_type": "execute_result"
    }
   ],
   "source": [
    "df.profile_studies_level_state.unique()"
   ]
  },
  {
   "cell_type": "code",
   "execution_count": 63,
   "id": "typical-breathing",
   "metadata": {
    "scrolled": true
   },
   "outputs": [
    {
     "data": {
      "text/plain": [
       "array(['En mi trabajo actual', 'Jamás', 'En un trabajo anterior', nan],\n",
       "      dtype=object)"
      ]
     },
     "execution_count": 63,
     "metadata": {},
     "output_type": "execute_result"
    }
   ],
   "source": [
    "df.work_has_violence_situations.unique()"
   ]
  },
  {
   "cell_type": "code",
   "execution_count": 66,
   "id": "encouraging-cheese",
   "metadata": {
    "scrolled": true
   },
   "outputs": [
    {
     "data": {
      "text/plain": [
       "array(['Homosexual', 'Heterosexual', 'Bisexual o queer',\n",
       "       '¿Qué les importa?', nan,\n",
       "       'No se programa con los genitales ni con la orientacion sexual.',\n",
       "       'Queer no es una Orientación Sexual. Es una Identidad de Género. Soy QUEER y PANSEXUAL.',\n",
       "       'Nose ni me importa', 'Demisexual', 'Oveja', 'Asexual',\n",
       "       'Gordo lesbiano trans', 'edad', 'Puto el que lee',\n",
       "       'Comentarios malintencionado',\n",
       "       'Bi con atracción hacia las personas que leen encuestas',\n",
       "       'Helicóptero apache andino de bigote tupido', 'Pansexual ',\n",
       "       'Pansexual', 'No aplica', 'Una falange no es penal', 'others',\n",
       "       'a quien le importa?', 'Normal',\n",
       "       'Soy una mujer trans lesbiana = hombre heterosexual', 'asexual',\n",
       "       'Me cabe vestirme de mujer', 'Intersexual', '--',\n",
       "       'No es relevante', 'Asexual ', 'Juajua', 'bien macho carajo!',\n",
       "       'Apache Helicopter', 'helicoptero apache', '¿?',\n",
       "       'Cuando hay hambre, no hay pan duro.', 'grissexual',\n",
       "       'Me exita comer pan', 'No me interesa',\n",
       "       'no hay ningún tipo de distinción', 'soy jirafa',\n",
       "       'Corten con el bullshit de la diversidad , equidad e inclusión.'],\n",
       "      dtype=object)"
      ]
     },
     "execution_count": 66,
     "metadata": {},
     "output_type": "execute_result"
    }
   ],
   "source": [
    "df.profile_sexual_orientation.unique()"
   ]
  },
  {
   "cell_type": "code",
   "execution_count": 67,
   "id": "settled-storm",
   "metadata": {
    "scrolled": true
   },
   "outputs": [
    {
     "data": {
      "text/plain": [
       "array(['Servicios / Consultoría de Software / Digital',\n",
       "       'Otras industrias', 'Producto basado en Software'], dtype=object)"
      ]
     },
     "execution_count": 67,
     "metadata": {},
     "output_type": "execute_result"
    }
   ],
   "source": [
    "df.company_main_activity.unique()"
   ]
  },
  {
   "cell_type": "code",
   "execution_count": 68,
   "id": "enormous-sussex",
   "metadata": {},
   "outputs": [
    {
     "data": {
      "text/plain": [
       "array(['Capacitaciones y/o cursos, Comidas pagas / subvencionadas, Cuota para universidad / posgrados, Descuentos varios (Mercado Pago, Clarín 365, Club La Nación, etc), Horarios flexibles, Lactario en la oficina, Licencia de paternidad/maternidad extendida, Viáticos',\n",
       "       'Horarios flexibles, Stock options / RSUs, Viáticos',\n",
       "       'Clases de gimnasia online, Comidas pagas / subvencionadas, Descuentos varios (Mercado Pago, Clarín 365, Club La Nación, etc)',\n",
       "       ...,\n",
       "       'Abono de celular, Clases de gimnasia online, Clases de idiomas, Horarios flexibles, Vacaciones flexibles (adicionales a las reglamentarias), Viáticos',\n",
       "       'Capacitaciones y/o cursos, Clases de gimnasia online, Clases de idiomas, Cuota para universidad / posgrados, Vacaciones flexibles (adicionales a las reglamentarias)',\n",
       "       'Abono de celular, Capacitaciones y/o cursos, Descuentos varios (Mercado Pago, Clarín 365, Club La Nación, etc), Lactario en la oficina, Licencia de paternidad/maternidad extendida, Viáticos'],\n",
       "      dtype=object)"
      ]
     },
     "execution_count": 68,
     "metadata": {},
     "output_type": "execute_result"
    }
   ],
   "source": [
    "df.company_extra_benefits.unique()"
   ]
  },
  {
   "cell_type": "code",
   "execution_count": 55,
   "id": "japanese-monaco",
   "metadata": {},
   "outputs": [
    {
     "data": {
      "text/html": [
       "<div>\n",
       "<style scoped>\n",
       "    .dataframe tbody tr th:only-of-type {\n",
       "        vertical-align: middle;\n",
       "    }\n",
       "\n",
       "    .dataframe tbody tr th {\n",
       "        vertical-align: top;\n",
       "    }\n",
       "\n",
       "    .dataframe thead th {\n",
       "        text-align: right;\n",
       "    }\n",
       "</style>\n",
       "<table border=\"1\" class=\"dataframe\">\n",
       "  <thead>\n",
       "    <tr style=\"text-align: right;\">\n",
       "      <th></th>\n",
       "      <th>profile_gender</th>\n",
       "      <th>profile_age</th>\n",
       "      <th>work_country</th>\n",
       "      <th>work_province</th>\n",
       "      <th>profile_years_experience</th>\n",
       "      <th>work_years_in_company</th>\n",
       "      <th>work_years_in_current_position</th>\n",
       "      <th>work_people_in_charge_of</th>\n",
       "      <th>profile_studies_level</th>\n",
       "      <th>profile_studies_level_state</th>\n",
       "      <th>...</th>\n",
       "      <th>work_has_violence_situations</th>\n",
       "      <th>profile_sexual_orientation</th>\n",
       "      <th>profile_has_disabilities</th>\n",
       "      <th>profile_has_disabilities_hiring_difficulties</th>\n",
       "      <th>company_employee_number</th>\n",
       "      <th>company_main_activity</th>\n",
       "      <th>company_recommended</th>\n",
       "      <th>company_diversity_policies</th>\n",
       "      <th>company_extra_benefits</th>\n",
       "      <th>company_best_companies_city</th>\n",
       "    </tr>\n",
       "  </thead>\n",
       "  <tbody>\n",
       "    <tr>\n",
       "      <th>0</th>\n",
       "      <td>Mujer</td>\n",
       "      <td>26</td>\n",
       "      <td>Argentina</td>\n",
       "      <td>Ciudad Autónoma de Buenos Aires</td>\n",
       "      <td>3.0</td>\n",
       "      <td>3.0</td>\n",
       "      <td>3.0</td>\n",
       "      <td>0</td>\n",
       "      <td>Universitario</td>\n",
       "      <td>En curso</td>\n",
       "      <td>...</td>\n",
       "      <td>En mi trabajo actual</td>\n",
       "      <td>Homosexual</td>\n",
       "      <td>NaN</td>\n",
       "      <td>NaN</td>\n",
       "      <td>501-1000</td>\n",
       "      <td>Servicios / Consultoría de Software / Digital</td>\n",
       "      <td>7</td>\n",
       "      <td>2</td>\n",
       "      <td>Capacitaciones y/o cursos, Comidas pagas / sub...</td>\n",
       "      <td>NaN</td>\n",
       "    </tr>\n",
       "    <tr>\n",
       "      <th>1</th>\n",
       "      <td>Hombre</td>\n",
       "      <td>29</td>\n",
       "      <td>Argentina</td>\n",
       "      <td>Corrientes</td>\n",
       "      <td>5.0</td>\n",
       "      <td>2.0</td>\n",
       "      <td>2.0</td>\n",
       "      <td>4</td>\n",
       "      <td>Universitario</td>\n",
       "      <td>En curso</td>\n",
       "      <td>...</td>\n",
       "      <td>Jamás</td>\n",
       "      <td>Heterosexual</td>\n",
       "      <td>Visual</td>\n",
       "      <td>No</td>\n",
       "      <td>201-500</td>\n",
       "      <td>Otras industrias</td>\n",
       "      <td>8</td>\n",
       "      <td>9</td>\n",
       "      <td>Horarios flexibles, Stock options / RSUs, Viát...</td>\n",
       "      <td>NaN</td>\n",
       "    </tr>\n",
       "    <tr>\n",
       "      <th>2</th>\n",
       "      <td>Mujer</td>\n",
       "      <td>22</td>\n",
       "      <td>Argentina</td>\n",
       "      <td>Ciudad Autónoma de Buenos Aires</td>\n",
       "      <td>2.0</td>\n",
       "      <td>0.0</td>\n",
       "      <td>0.0</td>\n",
       "      <td>0</td>\n",
       "      <td>Secundario</td>\n",
       "      <td>Completado</td>\n",
       "      <td>...</td>\n",
       "      <td>En un trabajo anterior</td>\n",
       "      <td>Bisexual o queer</td>\n",
       "      <td>NaN</td>\n",
       "      <td>No</td>\n",
       "      <td>2001-5000</td>\n",
       "      <td>Otras industrias</td>\n",
       "      <td>6</td>\n",
       "      <td>9</td>\n",
       "      <td>Clases de gimnasia online, Comidas pagas / sub...</td>\n",
       "      <td>NaN</td>\n",
       "    </tr>\n",
       "    <tr>\n",
       "      <th>3</th>\n",
       "      <td>Hombre</td>\n",
       "      <td>39</td>\n",
       "      <td>Argentina</td>\n",
       "      <td>Corrientes</td>\n",
       "      <td>15.0</td>\n",
       "      <td>15.0</td>\n",
       "      <td>13.0</td>\n",
       "      <td>5</td>\n",
       "      <td>Posgrado</td>\n",
       "      <td>Incompleto</td>\n",
       "      <td>...</td>\n",
       "      <td>En mi trabajo actual</td>\n",
       "      <td>Heterosexual</td>\n",
       "      <td>NaN</td>\n",
       "      <td>NaN</td>\n",
       "      <td>501-1000</td>\n",
       "      <td>Otras industrias</td>\n",
       "      <td>7</td>\n",
       "      <td>6</td>\n",
       "      <td>Abono de celular, Capacitaciones y/o cursos, C...</td>\n",
       "      <td>NaN</td>\n",
       "    </tr>\n",
       "    <tr>\n",
       "      <th>4</th>\n",
       "      <td>Hombre</td>\n",
       "      <td>32</td>\n",
       "      <td>Argentina</td>\n",
       "      <td>Ciudad Autónoma de Buenos Aires</td>\n",
       "      <td>9.0</td>\n",
       "      <td>6.0</td>\n",
       "      <td>6.0</td>\n",
       "      <td>0</td>\n",
       "      <td>Universitario</td>\n",
       "      <td>En curso</td>\n",
       "      <td>...</td>\n",
       "      <td>Jamás</td>\n",
       "      <td>Heterosexual</td>\n",
       "      <td>NaN</td>\n",
       "      <td>NaN</td>\n",
       "      <td>11-50</td>\n",
       "      <td>Servicios / Consultoría de Software / Digital</td>\n",
       "      <td>6</td>\n",
       "      <td>6</td>\n",
       "      <td>Clases de idiomas, Horarios flexibles, Vacacio...</td>\n",
       "      <td>NaN</td>\n",
       "    </tr>\n",
       "  </tbody>\n",
       "</table>\n",
       "<p>5 rows × 48 columns</p>\n",
       "</div>"
      ],
      "text/plain": [
       "  profile_gender  profile_age work_country                    work_province  \\\n",
       "0          Mujer           26    Argentina  Ciudad Autónoma de Buenos Aires   \n",
       "1         Hombre           29    Argentina                       Corrientes   \n",
       "2          Mujer           22    Argentina  Ciudad Autónoma de Buenos Aires   \n",
       "3         Hombre           39    Argentina                       Corrientes   \n",
       "4         Hombre           32    Argentina  Ciudad Autónoma de Buenos Aires   \n",
       "\n",
       "   profile_years_experience  work_years_in_company  \\\n",
       "0                       3.0                    3.0   \n",
       "1                       5.0                    2.0   \n",
       "2                       2.0                    0.0   \n",
       "3                      15.0                   15.0   \n",
       "4                       9.0                    6.0   \n",
       "\n",
       "   work_years_in_current_position  work_people_in_charge_of  \\\n",
       "0                             3.0                         0   \n",
       "1                             2.0                         4   \n",
       "2                             0.0                         0   \n",
       "3                            13.0                         5   \n",
       "4                             6.0                         0   \n",
       "\n",
       "  profile_studies_level profile_studies_level_state  ...  \\\n",
       "0         Universitario                    En curso  ...   \n",
       "1         Universitario                    En curso  ...   \n",
       "2            Secundario                  Completado  ...   \n",
       "3              Posgrado                  Incompleto  ...   \n",
       "4         Universitario                    En curso  ...   \n",
       "\n",
       "  work_has_violence_situations profile_sexual_orientation  \\\n",
       "0         En mi trabajo actual                 Homosexual   \n",
       "1                        Jamás               Heterosexual   \n",
       "2       En un trabajo anterior           Bisexual o queer   \n",
       "3         En mi trabajo actual               Heterosexual   \n",
       "4                        Jamás               Heterosexual   \n",
       "\n",
       "  profile_has_disabilities profile_has_disabilities_hiring_difficulties  \\\n",
       "0                      NaN                                          NaN   \n",
       "1                   Visual                                           No   \n",
       "2                      NaN                                           No   \n",
       "3                      NaN                                          NaN   \n",
       "4                      NaN                                          NaN   \n",
       "\n",
       "  company_employee_number                          company_main_activity  \\\n",
       "0                501-1000  Servicios / Consultoría de Software / Digital   \n",
       "1                 201-500                               Otras industrias   \n",
       "2               2001-5000                               Otras industrias   \n",
       "3                501-1000                               Otras industrias   \n",
       "4                   11-50  Servicios / Consultoría de Software / Digital   \n",
       "\n",
       "  company_recommended company_diversity_policies  \\\n",
       "0                   7                          2   \n",
       "1                   8                          9   \n",
       "2                   6                          9   \n",
       "3                   7                          6   \n",
       "4                   6                          6   \n",
       "\n",
       "                              company_extra_benefits  \\\n",
       "0  Capacitaciones y/o cursos, Comidas pagas / sub...   \n",
       "1  Horarios flexibles, Stock options / RSUs, Viát...   \n",
       "2  Clases de gimnasia online, Comidas pagas / sub...   \n",
       "3  Abono de celular, Capacitaciones y/o cursos, C...   \n",
       "4  Clases de idiomas, Horarios flexibles, Vacacio...   \n",
       "\n",
       "  company_best_companies_city  \n",
       "0                         NaN  \n",
       "1                         NaN  \n",
       "2                         NaN  \n",
       "3                         NaN  \n",
       "4                         NaN  \n",
       "\n",
       "[5 rows x 48 columns]"
      ]
     },
     "execution_count": 55,
     "metadata": {},
     "output_type": "execute_result"
    }
   ],
   "source": [
    "df.head()"
   ]
  },
  {
   "cell_type": "code",
   "execution_count": 78,
   "id": "given-pocket",
   "metadata": {
    "scrolled": false
   },
   "outputs": [
    {
     "name": "stderr",
     "output_type": "stream",
     "text": [
      "/home/exequiel/.local/lib/python3.9/site-packages/seaborn/_decorators.py:36: FutureWarning: Pass the following variable as a keyword arg: x. From version 0.12, the only valid positional argument will be `data`, and passing other arguments without an explicit keyword will result in an error or misinterpretation.\n",
      "  warnings.warn(\n",
      "/home/exequiel/.local/lib/python3.9/site-packages/seaborn/_decorators.py:36: FutureWarning: Pass the following variable as a keyword arg: x. From version 0.12, the only valid positional argument will be `data`, and passing other arguments without an explicit keyword will result in an error or misinterpretation.\n",
      "  warnings.warn(\n",
      "/home/exequiel/.local/lib/python3.9/site-packages/seaborn/_decorators.py:36: FutureWarning: Pass the following variable as a keyword arg: x. From version 0.12, the only valid positional argument will be `data`, and passing other arguments without an explicit keyword will result in an error or misinterpretation.\n",
      "  warnings.warn(\n",
      "/home/exequiel/.local/lib/python3.9/site-packages/seaborn/_decorators.py:36: FutureWarning: Pass the following variable as a keyword arg: x. From version 0.12, the only valid positional argument will be `data`, and passing other arguments without an explicit keyword will result in an error or misinterpretation.\n",
      "  warnings.warn(\n",
      "<ipython-input-78-f9750d2caec1>:7: UserWarning: Matplotlib is currently using module://ipykernel.pylab.backend_inline, which is a non-GUI backend, so cannot show the figure.\n",
      "  fig.show()\n"
     ]
    },
    {
     "data": {
      "text/plain": [
       "<Figure size 576x432 with 0 Axes>"
      ]
     },
     "metadata": {},
     "output_type": "display_data"
    },
    {
     "data": {
      "image/png": "[encoded data removed]",
      "text/plain": [
       "<Figure size 1080x1080 with 4 Axes>"
      ]
     },
     "metadata": {
      "needs_background": "light"
     },
     "output_type": "display_data"
    }
   ],
   "source": [
    "fig = plt.figure(figsize=(8,6))\n",
    "fig, ax = plt.subplots(nrows=2, ncols=2, figsize=(15,15), sharey='row')\n",
    "seaborn.countplot(df.profile_gender, color='steelblue',ax=ax[0,0])\n",
    "seaborn.countplot(df.profile_studies_level_state, color='steelblue',ax=ax[0,1])\n",
    "seaborn.countplot(df.profile_studies_level, color='steelblue',ax=ax[1,0])\n",
    "seaborn.countplot(df.company_main_activity, color='steelblue',ax=ax[1,1])\n",
    "fig.show()"
   ]
  },
  {
   "cell_type": "markdown",
   "id": "inclusive-minutes",
   "metadata": {
    "id": "LNKEYz22aZLz"
   },
   "source": [
    "Las variables categóricas pueden ser *ordinales*, si existe un orden lógico entre sus valores. Esto es independiente de que sean numéricas. En caso de que un orden exista, es adecuado incluirlo en el gráfico."
   ]
  },
  {
   "cell_type": "code",
   "execution_count": 79,
   "id": "metropolitan-sculpture",
   "metadata": {},
   "outputs": [
    {
     "name": "stderr",
     "output_type": "stream",
     "text": [
      "/home/exequiel/.local/lib/python3.9/site-packages/seaborn/_decorators.py:36: FutureWarning: Pass the following variable as a keyword arg: x. From version 0.12, the only valid positional argument will be `data`, and passing other arguments without an explicit keyword will result in an error or misinterpretation.\n",
      "  warnings.warn(\n",
      "/home/exequiel/.local/lib/python3.9/site-packages/seaborn/_decorators.py:36: FutureWarning: Pass the following variable as a keyword arg: x. From version 0.12, the only valid positional argument will be `data`, and passing other arguments without an explicit keyword will result in an error or misinterpretation.\n",
      "  warnings.warn(\n"
     ]
    },
    {
     "data": {
      "image/png": "[encoded data removed]",
      "text/plain": [
       "<Figure size 1080x432 with 2 Axes>"
      ]
     },
     "metadata": {
      "needs_background": "light"
     },
     "output_type": "display_data"
    }
   ],
   "source": [
    "sorted_studies_levels = ['Primario', 'Secundario', 'Terciario', 'Universitario',\n",
    "                         'Posgrado', 'Doctorado', 'Posdoctorado']\n",
    "fig, axes = plt.subplots(ncols=2, figsize=(15,6))\n",
    "g = seaborn.countplot(df.profile_studies_level, color='steelblue', ax=axes[0])\n",
    "g = seaborn.countplot(df.profile_studies_level, color='steelblue', ax=axes[1],\n",
    "                  order=sorted_studies_levels)\n",
    "for ax in axes:\n",
    "  ax.tick_params(labelrotation=30)"
   ]
  },
  {
   "cell_type": "markdown",
   "id": "smoking-texas",
   "metadata": {},
   "source": [
    "### Tipos de datos"
   ]
  },
  {
   "cell_type": "code",
   "execution_count": 80,
   "id": "framed-circuit",
   "metadata": {},
   "outputs": [
    {
     "data": {
      "text/plain": [
       "numpy.int64"
      ]
     },
     "execution_count": 80,
     "metadata": {},
     "output_type": "execute_result"
    }
   ],
   "source": [
    "age = df.profile_age.iloc[0]\n",
    "type(age)"
   ]
  },
  {
   "cell_type": "code",
   "execution_count": 82,
   "id": "modular-bahamas",
   "metadata": {},
   "outputs": [
    {
     "name": "stdout",
     "output_type": "stream",
     "text": [
      "<class 'int'> <class 'float'> <class 'float'>\n",
      "-9223372036854775808 9223372036854775807\n"
     ]
    },
    {
     "name": "stderr",
     "output_type": "stream",
     "text": [
      "<ipython-input-82-0a082d85077f>:4: RuntimeWarning: overflow encountered in long_scalars\n",
      "  numpy.int64(numpy.iinfo('int64').max) + 1\n"
     ]
    },
    {
     "ename": "OverflowError",
     "evalue": "Python int too large to convert to C long",
     "output_type": "error",
     "traceback": [
      "\u001b[0;31m---------------------------------------------------------------------------\u001b[0m",
      "\u001b[0;31mOverflowError\u001b[0m                             Traceback (most recent call last)",
      "\u001b[0;32m<ipython-input-82-0a082d85077f>\u001b[0m in \u001b[0;36m<module>\u001b[0;34m\u001b[0m\n\u001b[1;32m      3\u001b[0m \u001b[0mprint\u001b[0m\u001b[0;34m(\u001b[0m\u001b[0mnumpy\u001b[0m\u001b[0;34m.\u001b[0m\u001b[0miinfo\u001b[0m\u001b[0;34m(\u001b[0m\u001b[0;34m'int64'\u001b[0m\u001b[0;34m)\u001b[0m\u001b[0;34m.\u001b[0m\u001b[0mmin\u001b[0m\u001b[0;34m,\u001b[0m \u001b[0mnumpy\u001b[0m\u001b[0;34m.\u001b[0m\u001b[0miinfo\u001b[0m\u001b[0;34m(\u001b[0m\u001b[0;34m'int64'\u001b[0m\u001b[0;34m)\u001b[0m\u001b[0;34m.\u001b[0m\u001b[0mmax\u001b[0m\u001b[0;34m)\u001b[0m\u001b[0;34m\u001b[0m\u001b[0;34m\u001b[0m\u001b[0m\n\u001b[1;32m      4\u001b[0m \u001b[0mnumpy\u001b[0m\u001b[0;34m.\u001b[0m\u001b[0mint64\u001b[0m\u001b[0;34m(\u001b[0m\u001b[0mnumpy\u001b[0m\u001b[0;34m.\u001b[0m\u001b[0miinfo\u001b[0m\u001b[0;34m(\u001b[0m\u001b[0;34m'int64'\u001b[0m\u001b[0;34m)\u001b[0m\u001b[0;34m.\u001b[0m\u001b[0mmax\u001b[0m\u001b[0;34m)\u001b[0m \u001b[0;34m+\u001b[0m \u001b[0;36m1\u001b[0m\u001b[0;34m\u001b[0m\u001b[0;34m\u001b[0m\u001b[0m\n\u001b[0;32m----> 5\u001b[0;31m \u001b[0mnumpy\u001b[0m\u001b[0;34m.\u001b[0m\u001b[0mint64\u001b[0m\u001b[0;34m(\u001b[0m\u001b[0mnumpy\u001b[0m\u001b[0;34m.\u001b[0m\u001b[0miinfo\u001b[0m\u001b[0;34m(\u001b[0m\u001b[0;34m'int64'\u001b[0m\u001b[0;34m)\u001b[0m\u001b[0;34m.\u001b[0m\u001b[0mmax\u001b[0m \u001b[0;34m+\u001b[0m \u001b[0;36m1\u001b[0m\u001b[0;34m)\u001b[0m\u001b[0;34m\u001b[0m\u001b[0;34m\u001b[0m\u001b[0m\n\u001b[0m",
      "\u001b[0;31mOverflowError\u001b[0m: Python int too large to convert to C long"
     ]
    }
   ],
   "source": [
    "print(type(3), type(3.44), type(1/3))  # 1/3 es un numero irracional\n",
    "import numpy\n",
    "print(numpy.iinfo('int64').min, numpy.iinfo('int64').max)\n",
    "numpy.int64(numpy.iinfo('int64').max) + 1\n",
    "numpy.int64(numpy.iinfo('int64').max + 1)"
   ]
  },
  {
   "cell_type": "code",
   "execution_count": 84,
   "id": "electronic-aerospace",
   "metadata": {},
   "outputs": [
    {
     "data": {
      "text/plain": [
       "profile_gender                                   object\n",
       "profile_age                                       int64\n",
       "work_country                                     object\n",
       "work_province                                    object\n",
       "profile_years_experience                        float64\n",
       "work_years_in_company                           float64\n",
       "work_years_in_current_position                  float64\n",
       "work_people_in_charge_of                          int64\n",
       "profile_studies_level                            object\n",
       "profile_studies_level_state                      object\n",
       "profile_career                                   object\n",
       "profile_university                               object\n",
       "profile_specialization_courses                   object\n",
       "profile_open_source_contributions                object\n",
       "profile_programming_as_hobby                     object\n",
       "work_role                                        object\n",
       "tools_platform                                   object\n",
       "tools_programming_languages                      object\n",
       "tools_frameworks                                 object\n",
       "tools_data_bases                                 object\n",
       "tools_qa_testing                                 object\n",
       "tools_IDEs                                       object\n",
       "tools_work_pc_os                                 object\n",
       "tools_cellphone_os                               object\n",
       "work_on_call_duty                                object\n",
       "salary_on_call_duty_charge                      float64\n",
       "work_on_call_duty_charge_type                    object\n",
       "work_contract_type                               object\n",
       "salary_monthly_BRUTO                            float64\n",
       "salary_monthly_NETO                             float64\n",
       "salary_in_usd                                    object\n",
       "salary_satisfaction                               int64\n",
       "salary_comparison_last_semester                   int64\n",
       "salary_has_bonus                                 object\n",
       "salary_bonus_tied_to                             object\n",
       "salary_inflation_adjustment_2020                 object\n",
       "salary_percentage_inflation_adjustment_2020     float64\n",
       "salary_month_last_inflation_adjustment            int64\n",
       "work_has_violence_situations                     object\n",
       "profile_sexual_orientation                       object\n",
       "profile_has_disabilities                         object\n",
       "profile_has_disabilities_hiring_difficulties     object\n",
       "company_employee_number                          object\n",
       "company_main_activity                            object\n",
       "company_recommended                               int64\n",
       "company_diversity_policies                        int64\n",
       "company_extra_benefits                           object\n",
       "company_best_companies_city                      object\n",
       "dtype: object"
      ]
     },
     "execution_count": 84,
     "metadata": {},
     "output_type": "execute_result"
    }
   ],
   "source": [
    "df.dtypes"
   ]
  },
  {
   "cell_type": "code",
   "execution_count": 90,
   "id": "adjustable-playlist",
   "metadata": {},
   "outputs": [
    {
     "data": {
      "text/plain": [
       "array([nan, 'Mi sueldo está dolarizado'], dtype=object)"
      ]
     },
     "execution_count": 90,
     "metadata": {},
     "output_type": "execute_result"
    }
   ],
   "source": [
    "df.salary_in_usd.unique()"
   ]
  },
  {
   "cell_type": "code",
   "execution_count": 92,
   "id": "enabling-justice",
   "metadata": {},
   "outputs": [
    {
     "data": {
      "text/plain": [
       "array([False,  True])"
      ]
     },
     "execution_count": 92,
     "metadata": {},
     "output_type": "execute_result"
    }
   ],
   "source": [
    "df.loc[:,'salary_in_usd_bool'] = df.salary_in_usd.replace({'Mi sueldo está dolarizado': True}).fillna(False)\n",
    "df.salary_in_usd_bool.unique()"
   ]
  },
  {
   "cell_type": "code",
   "execution_count": 96,
   "id": "developmental-parish",
   "metadata": {},
   "outputs": [
    {
     "name": "stderr",
     "output_type": "stream",
     "text": [
      "<__array_function__ internals>:5: RuntimeWarning: Converting input from bool to <class 'numpy.uint8'> for compatibility.\n",
      "<__array_function__ internals>:5: RuntimeWarning: Converting input from bool to <class 'numpy.uint8'> for compatibility.\n"
     ]
    },
    {
     "data": {
      "text/plain": [
       "<AxesSubplot:xlabel='salary_in_usd_bool', ylabel='Count'>"
      ]
     },
     "execution_count": 96,
     "metadata": {},
     "output_type": "execute_result"
    },
    {
     "data": {
      "image/png": "[encoded data removed]",
      "text/plain": [
       "<Figure size 432x288 with 1 Axes>"
      ]
     },
     "metadata": {
      "needs_background": "light"
     },
     "output_type": "display_data"
    }
   ],
   "source": [
    "seaborn.histplot(df.salary_in_usd_bool, bins=2)"
   ]
  },
  {
   "cell_type": "code",
   "execution_count": 97,
   "id": "italian-hydrogen",
   "metadata": {},
   "outputs": [
    {
     "data": {
      "image/png": "[encoded data removed]",
      "text/plain": [
       "<Figure size 1152x288 with 1 Axes>"
      ]
     },
     "metadata": {
      "needs_background": "light"
     },
     "output_type": "display_data"
    }
   ],
   "source": [
    "count_by_province = df.work_province.value_counts()\n",
    "fig = plt.figure(figsize=(16, 4))\n",
    "seaborn.lineplot(x=count_by_province.index, y=count_by_province.values)\n",
    "plt.xticks(rotation=45)\n",
    "seaborn.despine()"
   ]
  },
  {
   "cell_type": "code",
   "execution_count": 98,
   "id": "looking-chaos",
   "metadata": {},
   "outputs": [
    {
     "data": {
      "text/plain": [
       "array(['Ciudad Autónoma de Buenos Aires', 'Corrientes',\n",
       "       'Provincia de Buenos Aires', 'Entre Ríos', 'Córdoba', 'Tucumán',\n",
       "       'GBA', 'Santa Fe', 'Neuquén', 'Mendoza', 'Misiones', 'Chaco',\n",
       "       'Chubut', 'Jujuy', 'La Rioja', 'Río Negro', 'Salta',\n",
       "       'Tierra del Fuego', 'San Luis', 'Catamarca', 'San Juan',\n",
       "       'Santiago del Estero', 'La Pampa', 'Formosa', 'Santa Cruz'],\n",
       "      dtype=object)"
      ]
     },
     "execution_count": 98,
     "metadata": {},
     "output_type": "execute_result"
    }
   ],
   "source": [
    "df.work_province.unique()"
   ]
  },
  {
   "cell_type": "markdown",
   "id": "possible-corpus",
   "metadata": {
    "id": "PaQBY7c3oGk7"
   },
   "source": [
    "# Análisis del impacto de los años de experiencia\n",
    "\n",
    "**¿Tener más años de experiencia significa que se cobra más?**\n",
    "\n",
    "Para responder a esta pregunta, analizamos la probabilidad de que un programador tenga un salario mensual mayor que el promedio, cuando tiene una experiencia mayor que 5 años."
   ]
  },
  {
   "cell_type": "code",
   "execution_count": 103,
   "id": "destroyed-burst",
   "metadata": {},
   "outputs": [
    {
     "data": {
      "text/plain": [
       "94907.9491018188"
      ]
     },
     "execution_count": 103,
     "metadata": {},
     "output_type": "execute_result"
    }
   ],
   "source": [
    "avg_salary = df.salary_monthly_NETO.mean()\n",
    "avg_salary"
   ]
  },
  {
   "cell_type": "code",
   "execution_count": 122,
   "id": "thousand-cargo",
   "metadata": {
    "scrolled": true
   },
   "outputs": [
    {
     "data": {
      "text/plain": [
       "2019"
      ]
     },
     "execution_count": 122,
     "metadata": {},
     "output_type": "execute_result"
    }
   ],
   "source": [
    "len(df[df.salary_monthly_NETO >= avg_salary])"
   ]
  },
  {
   "cell_type": "markdown",
   "id": "british-brick",
   "metadata": {},
   "source": [
    "Hay 2019 que cobran mas que el promedio"
   ]
  },
  {
   "cell_type": "code",
   "execution_count": 123,
   "id": "dental-quick",
   "metadata": {
    "scrolled": true
   },
   "outputs": [
    {
     "data": {
      "text/plain": [
       "6095"
      ]
     },
     "execution_count": 123,
     "metadata": {},
     "output_type": "execute_result"
    }
   ],
   "source": [
    "len(df)"
   ]
  },
  {
   "cell_type": "markdown",
   "id": "funny-avenue",
   "metadata": {},
   "source": [
    "Hay en total 6095 registros"
   ]
  },
  {
   "cell_type": "code",
   "execution_count": 105,
   "id": "grave-green",
   "metadata": {},
   "outputs": [
    {
     "data": {
      "text/plain": [
       "0.33125512715340444"
      ]
     },
     "execution_count": 105,
     "metadata": {},
     "output_type": "execute_result"
    }
   ],
   "source": [
    "p_above_avg = len(df[df.salary_monthly_NETO >= avg_salary]) / len(df)\n",
    "p_above_avg"
   ]
  },
  {
   "cell_type": "markdown",
   "id": "psychological-department",
   "metadata": {
    "id": "0EC-NAnOuy_s"
   },
   "source": [
    "Hay una probabilidad de 33% de cobrar mas por tener mas de 5 años de experiencia"
   ]
  },
  {
   "cell_type": "markdown",
   "id": "civil-warrant",
   "metadata": {
    "id": "s4KuOb_tn2zG"
   },
   "source": [
    "## Ejercicio\n",
    "\n",
    "Reponder: **¿Si uno tiene más de 5 años de experiencia, la probabilidad de cobrar más que el promedio aumenta? ¿Estos eventos, son independientes?**\n"
   ]
  },
  {
   "cell_type": "code",
   "execution_count": 125,
   "id": "crucial-leadership",
   "metadata": {},
   "outputs": [
    {
     "data": {
      "text/plain": [
       "1634"
      ]
     },
     "execution_count": 125,
     "metadata": {},
     "output_type": "execute_result"
    }
   ],
   "source": [
    "is_above_avg = df.salary_monthly_NETO > avg_salary\n",
    "experience_greater_5 = df.profile_years_experience > 5\n",
    "intersection_count = len(df[is_above_avg & experience_greater_5])\n",
    "intersection_count"
   ]
  },
  {
   "cell_type": "code",
   "execution_count": 113,
   "id": "bigger-johnston",
   "metadata": {
    "scrolled": true
   },
   "outputs": [
    {
     "data": {
      "text/html": [
       "<div>\n",
       "<style scoped>\n",
       "    .dataframe tbody tr th:only-of-type {\n",
       "        vertical-align: middle;\n",
       "    }\n",
       "\n",
       "    .dataframe tbody tr th {\n",
       "        vertical-align: top;\n",
       "    }\n",
       "\n",
       "    .dataframe thead th {\n",
       "        text-align: right;\n",
       "    }\n",
       "</style>\n",
       "<table border=\"1\" class=\"dataframe\">\n",
       "  <thead>\n",
       "    <tr style=\"text-align: right;\">\n",
       "      <th></th>\n",
       "      <th>profile_gender</th>\n",
       "      <th>profile_age</th>\n",
       "      <th>work_country</th>\n",
       "      <th>work_province</th>\n",
       "      <th>profile_years_experience</th>\n",
       "      <th>work_years_in_company</th>\n",
       "      <th>work_years_in_current_position</th>\n",
       "      <th>work_people_in_charge_of</th>\n",
       "      <th>profile_studies_level</th>\n",
       "      <th>profile_studies_level_state</th>\n",
       "      <th>...</th>\n",
       "      <th>profile_sexual_orientation</th>\n",
       "      <th>profile_has_disabilities</th>\n",
       "      <th>profile_has_disabilities_hiring_difficulties</th>\n",
       "      <th>company_employee_number</th>\n",
       "      <th>company_main_activity</th>\n",
       "      <th>company_recommended</th>\n",
       "      <th>company_diversity_policies</th>\n",
       "      <th>company_extra_benefits</th>\n",
       "      <th>company_best_companies_city</th>\n",
       "      <th>salary_in_usd_bool</th>\n",
       "    </tr>\n",
       "  </thead>\n",
       "  <tbody>\n",
       "    <tr>\n",
       "      <th>3</th>\n",
       "      <td>Hombre</td>\n",
       "      <td>39</td>\n",
       "      <td>Argentina</td>\n",
       "      <td>Corrientes</td>\n",
       "      <td>15.0</td>\n",
       "      <td>15.0</td>\n",
       "      <td>13.0</td>\n",
       "      <td>5</td>\n",
       "      <td>Posgrado</td>\n",
       "      <td>Incompleto</td>\n",
       "      <td>...</td>\n",
       "      <td>Heterosexual</td>\n",
       "      <td>NaN</td>\n",
       "      <td>NaN</td>\n",
       "      <td>501-1000</td>\n",
       "      <td>Otras industrias</td>\n",
       "      <td>7</td>\n",
       "      <td>6</td>\n",
       "      <td>Abono de celular, Capacitaciones y/o cursos, C...</td>\n",
       "      <td>NaN</td>\n",
       "      <td>False</td>\n",
       "    </tr>\n",
       "    <tr>\n",
       "      <th>4</th>\n",
       "      <td>Hombre</td>\n",
       "      <td>32</td>\n",
       "      <td>Argentina</td>\n",
       "      <td>Ciudad Autónoma de Buenos Aires</td>\n",
       "      <td>9.0</td>\n",
       "      <td>6.0</td>\n",
       "      <td>6.0</td>\n",
       "      <td>0</td>\n",
       "      <td>Universitario</td>\n",
       "      <td>En curso</td>\n",
       "      <td>...</td>\n",
       "      <td>Heterosexual</td>\n",
       "      <td>NaN</td>\n",
       "      <td>NaN</td>\n",
       "      <td>11-50</td>\n",
       "      <td>Servicios / Consultoría de Software / Digital</td>\n",
       "      <td>6</td>\n",
       "      <td>6</td>\n",
       "      <td>Clases de idiomas, Horarios flexibles, Vacacio...</td>\n",
       "      <td>NaN</td>\n",
       "      <td>False</td>\n",
       "    </tr>\n",
       "    <tr>\n",
       "      <th>25</th>\n",
       "      <td>Mujer</td>\n",
       "      <td>30</td>\n",
       "      <td>Argentina</td>\n",
       "      <td>Ciudad Autónoma de Buenos Aires</td>\n",
       "      <td>12.0</td>\n",
       "      <td>0.0</td>\n",
       "      <td>4.0</td>\n",
       "      <td>14</td>\n",
       "      <td>Universitario</td>\n",
       "      <td>Completado</td>\n",
       "      <td>...</td>\n",
       "      <td>Heterosexual</td>\n",
       "      <td>NaN</td>\n",
       "      <td>NaN</td>\n",
       "      <td>11-50</td>\n",
       "      <td>Servicios / Consultoría de Software / Digital</td>\n",
       "      <td>8</td>\n",
       "      <td>4</td>\n",
       "      <td>Clases de idiomas, Horarios flexibles, Vacacio...</td>\n",
       "      <td>NaN</td>\n",
       "      <td>True</td>\n",
       "    </tr>\n",
       "    <tr>\n",
       "      <th>30</th>\n",
       "      <td>Hombre</td>\n",
       "      <td>53</td>\n",
       "      <td>Argentina</td>\n",
       "      <td>GBA</td>\n",
       "      <td>30.0</td>\n",
       "      <td>10.0</td>\n",
       "      <td>10.0</td>\n",
       "      <td>5</td>\n",
       "      <td>Universitario</td>\n",
       "      <td>En curso</td>\n",
       "      <td>...</td>\n",
       "      <td>Heterosexual</td>\n",
       "      <td>NaN</td>\n",
       "      <td>NaN</td>\n",
       "      <td>201-500</td>\n",
       "      <td>Otras industrias</td>\n",
       "      <td>6</td>\n",
       "      <td>1</td>\n",
       "      <td>Abono de celular, Comidas pagas / subvencionad...</td>\n",
       "      <td>NaN</td>\n",
       "      <td>False</td>\n",
       "    </tr>\n",
       "    <tr>\n",
       "      <th>33</th>\n",
       "      <td>Hombre</td>\n",
       "      <td>35</td>\n",
       "      <td>Argentina</td>\n",
       "      <td>Ciudad Autónoma de Buenos Aires</td>\n",
       "      <td>12.0</td>\n",
       "      <td>4.0</td>\n",
       "      <td>0.0</td>\n",
       "      <td>0</td>\n",
       "      <td>Universitario</td>\n",
       "      <td>Incompleto</td>\n",
       "      <td>...</td>\n",
       "      <td>Heterosexual</td>\n",
       "      <td>NaN</td>\n",
       "      <td>No</td>\n",
       "      <td>11-50</td>\n",
       "      <td>Producto basado en Software</td>\n",
       "      <td>5</td>\n",
       "      <td>3</td>\n",
       "      <td>Clases de idiomas, Horarios flexibles</td>\n",
       "      <td>NaN</td>\n",
       "      <td>False</td>\n",
       "    </tr>\n",
       "  </tbody>\n",
       "</table>\n",
       "<p>5 rows × 49 columns</p>\n",
       "</div>"
      ],
      "text/plain": [
       "   profile_gender  profile_age work_country                    work_province  \\\n",
       "3          Hombre           39    Argentina                       Corrientes   \n",
       "4          Hombre           32    Argentina  Ciudad Autónoma de Buenos Aires   \n",
       "25          Mujer           30    Argentina  Ciudad Autónoma de Buenos Aires   \n",
       "30         Hombre           53    Argentina                              GBA   \n",
       "33         Hombre           35    Argentina  Ciudad Autónoma de Buenos Aires   \n",
       "\n",
       "    profile_years_experience  work_years_in_company  \\\n",
       "3                       15.0                   15.0   \n",
       "4                        9.0                    6.0   \n",
       "25                      12.0                    0.0   \n",
       "30                      30.0                   10.0   \n",
       "33                      12.0                    4.0   \n",
       "\n",
       "    work_years_in_current_position  work_people_in_charge_of  \\\n",
       "3                             13.0                         5   \n",
       "4                              6.0                         0   \n",
       "25                             4.0                        14   \n",
       "30                            10.0                         5   \n",
       "33                             0.0                         0   \n",
       "\n",
       "   profile_studies_level profile_studies_level_state  ...  \\\n",
       "3               Posgrado                  Incompleto  ...   \n",
       "4          Universitario                    En curso  ...   \n",
       "25         Universitario                  Completado  ...   \n",
       "30         Universitario                    En curso  ...   \n",
       "33         Universitario                  Incompleto  ...   \n",
       "\n",
       "   profile_sexual_orientation profile_has_disabilities  \\\n",
       "3                Heterosexual                      NaN   \n",
       "4                Heterosexual                      NaN   \n",
       "25               Heterosexual                      NaN   \n",
       "30               Heterosexual                      NaN   \n",
       "33               Heterosexual                      NaN   \n",
       "\n",
       "   profile_has_disabilities_hiring_difficulties company_employee_number  \\\n",
       "3                                           NaN                501-1000   \n",
       "4                                           NaN                   11-50   \n",
       "25                                          NaN                   11-50   \n",
       "30                                          NaN                 201-500   \n",
       "33                                           No                   11-50   \n",
       "\n",
       "                            company_main_activity company_recommended  \\\n",
       "3                                Otras industrias                   7   \n",
       "4   Servicios / Consultoría de Software / Digital                   6   \n",
       "25  Servicios / Consultoría de Software / Digital                   8   \n",
       "30                               Otras industrias                   6   \n",
       "33                    Producto basado en Software                   5   \n",
       "\n",
       "   company_diversity_policies  \\\n",
       "3                           6   \n",
       "4                           6   \n",
       "25                          4   \n",
       "30                          1   \n",
       "33                          3   \n",
       "\n",
       "                               company_extra_benefits  \\\n",
       "3   Abono de celular, Capacitaciones y/o cursos, C...   \n",
       "4   Clases de idiomas, Horarios flexibles, Vacacio...   \n",
       "25  Clases de idiomas, Horarios flexibles, Vacacio...   \n",
       "30  Abono de celular, Comidas pagas / subvencionad...   \n",
       "33              Clases de idiomas, Horarios flexibles   \n",
       "\n",
       "   company_best_companies_city salary_in_usd_bool  \n",
       "3                          NaN              False  \n",
       "4                          NaN              False  \n",
       "25                         NaN               True  \n",
       "30                         NaN              False  \n",
       "33                         NaN              False  \n",
       "\n",
       "[5 rows x 49 columns]"
      ]
     },
     "execution_count": 113,
     "metadata": {},
     "output_type": "execute_result"
    }
   ],
   "source": [
    "df[is_above_avg & experience_greater_5].head()"
   ]
  },
  {
   "cell_type": "code",
   "execution_count": 126,
   "id": "fuzzy-thesaurus",
   "metadata": {},
   "outputs": [
    {
     "data": {
      "text/html": [
       "<div>\n",
       "<style scoped>\n",
       "    .dataframe tbody tr th:only-of-type {\n",
       "        vertical-align: middle;\n",
       "    }\n",
       "\n",
       "    .dataframe tbody tr th {\n",
       "        vertical-align: top;\n",
       "    }\n",
       "\n",
       "    .dataframe thead th {\n",
       "        text-align: right;\n",
       "    }\n",
       "</style>\n",
       "<table border=\"1\" class=\"dataframe\">\n",
       "  <thead>\n",
       "    <tr style=\"text-align: right;\">\n",
       "      <th></th>\n",
       "      <th>profile_age</th>\n",
       "      <th>profile_years_experience</th>\n",
       "      <th>work_years_in_company</th>\n",
       "      <th>work_years_in_current_position</th>\n",
       "      <th>work_people_in_charge_of</th>\n",
       "      <th>salary_on_call_duty_charge</th>\n",
       "      <th>salary_monthly_BRUTO</th>\n",
       "      <th>salary_monthly_NETO</th>\n",
       "      <th>salary_satisfaction</th>\n",
       "      <th>salary_comparison_last_semester</th>\n",
       "      <th>salary_percentage_inflation_adjustment_2020</th>\n",
       "      <th>salary_month_last_inflation_adjustment</th>\n",
       "      <th>company_recommended</th>\n",
       "      <th>company_diversity_policies</th>\n",
       "    </tr>\n",
       "  </thead>\n",
       "  <tbody>\n",
       "    <tr>\n",
       "      <th>count</th>\n",
       "      <td>1634.00000</td>\n",
       "      <td>1634.000000</td>\n",
       "      <td>1634.000000</td>\n",
       "      <td>1634.000000</td>\n",
       "      <td>1634.000000</td>\n",
       "      <td>1634.000000</td>\n",
       "      <td>1.634000e+03</td>\n",
       "      <td>1.634000e+03</td>\n",
       "      <td>1634.000000</td>\n",
       "      <td>1634.000000</td>\n",
       "      <td>1634.000000</td>\n",
       "      <td>1634.000000</td>\n",
       "      <td>1634.000000</td>\n",
       "      <td>1634.000000</td>\n",
       "    </tr>\n",
       "    <tr>\n",
       "      <th>mean</th>\n",
       "      <td>36.93880</td>\n",
       "      <td>13.948898</td>\n",
       "      <td>4.222460</td>\n",
       "      <td>3.587515</td>\n",
       "      <td>5.832925</td>\n",
       "      <td>1384.096695</td>\n",
       "      <td>2.221700e+05</td>\n",
       "      <td>1.707728e+05</td>\n",
       "      <td>2.985312</td>\n",
       "      <td>2.687882</td>\n",
       "      <td>12.383807</td>\n",
       "      <td>3.112607</td>\n",
       "      <td>7.876377</td>\n",
       "      <td>8.022032</td>\n",
       "    </tr>\n",
       "    <tr>\n",
       "      <th>std</th>\n",
       "      <td>14.52708</td>\n",
       "      <td>6.318015</td>\n",
       "      <td>5.121391</td>\n",
       "      <td>3.763645</td>\n",
       "      <td>63.291332</td>\n",
       "      <td>18990.237054</td>\n",
       "      <td>1.688778e+05</td>\n",
       "      <td>1.441367e+05</td>\n",
       "      <td>0.732271</td>\n",
       "      <td>0.889766</td>\n",
       "      <td>13.179065</td>\n",
       "      <td>2.927924</td>\n",
       "      <td>1.762894</td>\n",
       "      <td>2.102867</td>\n",
       "    </tr>\n",
       "    <tr>\n",
       "      <th>min</th>\n",
       "      <td>23.00000</td>\n",
       "      <td>5.500000</td>\n",
       "      <td>0.000000</td>\n",
       "      <td>0.000000</td>\n",
       "      <td>0.000000</td>\n",
       "      <td>0.000000</td>\n",
       "      <td>1.800000e+01</td>\n",
       "      <td>9.492000e+04</td>\n",
       "      <td>1.000000</td>\n",
       "      <td>1.000000</td>\n",
       "      <td>0.000000</td>\n",
       "      <td>0.000000</td>\n",
       "      <td>1.000000</td>\n",
       "      <td>1.000000</td>\n",
       "    </tr>\n",
       "    <tr>\n",
       "      <th>25%</th>\n",
       "      <td>32.00000</td>\n",
       "      <td>10.000000</td>\n",
       "      <td>1.000000</td>\n",
       "      <td>1.000000</td>\n",
       "      <td>0.000000</td>\n",
       "      <td>0.000000</td>\n",
       "      <td>1.400000e+05</td>\n",
       "      <td>1.060000e+05</td>\n",
       "      <td>3.000000</td>\n",
       "      <td>2.000000</td>\n",
       "      <td>0.000000</td>\n",
       "      <td>0.000000</td>\n",
       "      <td>7.000000</td>\n",
       "      <td>7.000000</td>\n",
       "    </tr>\n",
       "    <tr>\n",
       "      <th>50%</th>\n",
       "      <td>36.00000</td>\n",
       "      <td>13.000000</td>\n",
       "      <td>2.000000</td>\n",
       "      <td>2.000000</td>\n",
       "      <td>0.000000</td>\n",
       "      <td>0.000000</td>\n",
       "      <td>1.750000e+05</td>\n",
       "      <td>1.250000e+05</td>\n",
       "      <td>3.000000</td>\n",
       "      <td>3.000000</td>\n",
       "      <td>10.000000</td>\n",
       "      <td>3.000000</td>\n",
       "      <td>8.000000</td>\n",
       "      <td>9.000000</td>\n",
       "    </tr>\n",
       "    <tr>\n",
       "      <th>75%</th>\n",
       "      <td>40.00000</td>\n",
       "      <td>17.000000</td>\n",
       "      <td>6.000000</td>\n",
       "      <td>5.000000</td>\n",
       "      <td>4.000000</td>\n",
       "      <td>0.000000</td>\n",
       "      <td>2.353750e+05</td>\n",
       "      <td>1.700000e+05</td>\n",
       "      <td>3.000000</td>\n",
       "      <td>3.000000</td>\n",
       "      <td>20.000000</td>\n",
       "      <td>6.750000</td>\n",
       "      <td>9.000000</td>\n",
       "      <td>10.000000</td>\n",
       "    </tr>\n",
       "    <tr>\n",
       "      <th>max</th>\n",
       "      <td>567.00000</td>\n",
       "      <td>115.000000</td>\n",
       "      <td>43.000000</td>\n",
       "      <td>30.000000</td>\n",
       "      <td>2500.000000</td>\n",
       "      <td>650000.000000</td>\n",
       "      <td>2.180000e+06</td>\n",
       "      <td>2.080000e+06</td>\n",
       "      <td>4.000000</td>\n",
       "      <td>4.000000</td>\n",
       "      <td>90.000000</td>\n",
       "      <td>8.000000</td>\n",
       "      <td>10.000000</td>\n",
       "      <td>10.000000</td>\n",
       "    </tr>\n",
       "  </tbody>\n",
       "</table>\n",
       "</div>"
      ],
      "text/plain": [
       "       profile_age  profile_years_experience  work_years_in_company  \\\n",
       "count   1634.00000               1634.000000            1634.000000   \n",
       "mean      36.93880                 13.948898               4.222460   \n",
       "std       14.52708                  6.318015               5.121391   \n",
       "min       23.00000                  5.500000               0.000000   \n",
       "25%       32.00000                 10.000000               1.000000   \n",
       "50%       36.00000                 13.000000               2.000000   \n",
       "75%       40.00000                 17.000000               6.000000   \n",
       "max      567.00000                115.000000              43.000000   \n",
       "\n",
       "       work_years_in_current_position  work_people_in_charge_of  \\\n",
       "count                     1634.000000               1634.000000   \n",
       "mean                         3.587515                  5.832925   \n",
       "std                          3.763645                 63.291332   \n",
       "min                          0.000000                  0.000000   \n",
       "25%                          1.000000                  0.000000   \n",
       "50%                          2.000000                  0.000000   \n",
       "75%                          5.000000                  4.000000   \n",
       "max                         30.000000               2500.000000   \n",
       "\n",
       "       salary_on_call_duty_charge  salary_monthly_BRUTO  salary_monthly_NETO  \\\n",
       "count                 1634.000000          1.634000e+03         1.634000e+03   \n",
       "mean                  1384.096695          2.221700e+05         1.707728e+05   \n",
       "std                  18990.237054          1.688778e+05         1.441367e+05   \n",
       "min                      0.000000          1.800000e+01         9.492000e+04   \n",
       "25%                      0.000000          1.400000e+05         1.060000e+05   \n",
       "50%                      0.000000          1.750000e+05         1.250000e+05   \n",
       "75%                      0.000000          2.353750e+05         1.700000e+05   \n",
       "max                 650000.000000          2.180000e+06         2.080000e+06   \n",
       "\n",
       "       salary_satisfaction  salary_comparison_last_semester  \\\n",
       "count          1634.000000                      1634.000000   \n",
       "mean              2.985312                         2.687882   \n",
       "std               0.732271                         0.889766   \n",
       "min               1.000000                         1.000000   \n",
       "25%               3.000000                         2.000000   \n",
       "50%               3.000000                         3.000000   \n",
       "75%               3.000000                         3.000000   \n",
       "max               4.000000                         4.000000   \n",
       "\n",
       "       salary_percentage_inflation_adjustment_2020  \\\n",
       "count                                  1634.000000   \n",
       "mean                                     12.383807   \n",
       "std                                      13.179065   \n",
       "min                                       0.000000   \n",
       "25%                                       0.000000   \n",
       "50%                                      10.000000   \n",
       "75%                                      20.000000   \n",
       "max                                      90.000000   \n",
       "\n",
       "       salary_month_last_inflation_adjustment  company_recommended  \\\n",
       "count                             1634.000000          1634.000000   \n",
       "mean                                 3.112607             7.876377   \n",
       "std                                  2.927924             1.762894   \n",
       "min                                  0.000000             1.000000   \n",
       "25%                                  0.000000             7.000000   \n",
       "50%                                  3.000000             8.000000   \n",
       "75%                                  6.750000             9.000000   \n",
       "max                                  8.000000            10.000000   \n",
       "\n",
       "       company_diversity_policies  \n",
       "count                 1634.000000  \n",
       "mean                     8.022032  \n",
       "std                      2.102867  \n",
       "min                      1.000000  \n",
       "25%                      7.000000  \n",
       "50%                      9.000000  \n",
       "75%                     10.000000  \n",
       "max                     10.000000  "
      ]
     },
     "execution_count": 126,
     "metadata": {},
     "output_type": "execute_result"
    }
   ],
   "source": [
    "df[is_above_avg & experience_greater_5].describe()"
   ]
  },
  {
   "cell_type": "code",
   "execution_count": null,
   "id": "induced-controversy",
   "metadata": {},
   "outputs": [],
   "source": []
  }
 ],
 "metadata": {
  "kernelspec": {
   "display_name": "Python 3",
   "language": "python",
   "name": "python3"
  },
  "language_info": {
   "codemirror_mode": {
    "name": "ipython",
    "version": 3
   },
   "file_extension": ".py",
   "mimetype": "text/x-python",
   "name": "python",
   "nbconvert_exporter": "python",
   "pygments_lexer": "ipython3",
   "version": "3.9.4"
  }
 },
 "nbformat": 4,
 "nbformat_minor": 5
}
