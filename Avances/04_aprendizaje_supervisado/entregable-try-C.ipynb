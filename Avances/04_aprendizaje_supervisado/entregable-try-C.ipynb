{
 "cells": [
  {
   "cell_type": "markdown",
   "id": "84facf85-470f-4548-a5d1-27df51652311",
   "metadata": {},
   "source": [
    "## Try 3"
   ]
  },
  {
   "cell_type": "markdown",
   "id": "6ec9accc-5091-4107-9010-5cc77c37d56e",
   "metadata": {},
   "source": [
    "Utilizamos GridSearchCV con RandomForestClassifier. Las transformaciones son las mismas que la del baseline."
   ]
  },
  {
   "cell_type": "code",
   "execution_count": 1,
   "id": "2e81c224-d014-4ad3-b90a-9fde86d7f13e",
   "metadata": {},
   "outputs": [],
   "source": [
    "# Import the required packages\n",
    "import os\n",
    "\n",
    "import numpy as np\n",
    "import pandas as pd\n",
    "import matplotlib.pyplot as plt"
   ]
  },
  {
   "cell_type": "code",
   "execution_count": 2,
   "id": "4d78f1e0-9b84-4ce8-9216-0da73dd91b62",
   "metadata": {},
   "outputs": [],
   "source": [
    "train_df = pd.read_csv(\"../data/travel_insurance_prediction_train.csv\")\n",
    "test_df = pd.read_csv(\"../data/travel_insurance_prediction_test.csv\")"
   ]
  },
  {
   "cell_type": "code",
   "execution_count": 6,
   "id": "ea767d24-7f7b-43bc-b27c-64b9291d668e",
   "metadata": {},
   "outputs": [],
   "source": [
    "from sklearn.compose import make_column_transformer\n",
    "from sklearn.linear_model import LogisticRegression\n",
    "from sklearn.metrics import classification_report, f1_score\n",
    "from sklearn.model_selection import KFold, cross_val_score, GridSearchCV, train_test_split, RandomizedSearchCV\n",
    "from sklearn.preprocessing import KBinsDiscretizer, OneHotEncoder\n",
    "from sklearn.tree import DecisionTreeClassifier\n",
    "from sklearn.preprocessing import MinMaxScaler\n",
    "from sklearn.ensemble import RandomForestClassifier, GradientBoostingClassifier\n",
    "from xgboost import XGBClassifier\n",
    "from imblearn.over_sampling import SMOTE\n",
    "from sklearn.neighbors import KNeighborsClassifier"
   ]
  },
  {
   "cell_type": "code",
   "execution_count": 7,
   "id": "4cfc743e-7f13-453b-99bb-ac6f1fecf2fc",
   "metadata": {},
   "outputs": [],
   "source": [
    "transformer = make_column_transformer(\n",
    "    (KBinsDiscretizer(n_bins=5, encode=\"ordinal\", strategy=\"quantile\"), [\"Age\"]),\n",
    "    (OneHotEncoder(categories=\"auto\", dtype=\"int\", handle_unknown=\"ignore\"),\n",
    "     [\"Employment Type\", \"GraduateOrNot\", \"FamilyMembers\", \"FrequentFlyer\", \"EverTravelledAbroad\"]),\n",
    "    (MinMaxScaler(),[\"AnnualIncome\"]),\n",
    "    remainder=\"passthrough\")"
   ]
  },
  {
   "cell_type": "code",
   "execution_count": 8,
   "id": "86cd76ec-7d0f-456f-a128-5ba4ba69a2ab",
   "metadata": {},
   "outputs": [],
   "source": [
    "X = transformer.fit_transform(train_df.drop(columns=[\"Customer\", \"TravelInsurance\"]))\n",
    "y = train_df[\"TravelInsurance\"].values\n",
    "X_test_transform = transformer.transform(test_df.drop(columns=[\"Customer\"]))"
   ]
  },
  {
   "cell_type": "code",
   "execution_count": 20,
   "id": "1571a39a-4183-4fd9-87b2-eaabd1dd8015",
   "metadata": {},
   "outputs": [
    {
     "name": "stderr",
     "output_type": "stream",
     "text": [
      "/home/exequiel/anaconda3/envs/Diplomatura2021/lib/python3.8/site-packages/sklearn/model_selection/_search.py:922: UserWarning: One or more of the test scores are non-finite: [0.69083581 0.68404354 0.69024645 0.68800289 0.68946221 0.6825614\n",
      " 0.68122803 0.68828413 0.70586802 0.71335548 0.71142217 0.71760922\n",
      " 0.71256739 0.71314782 0.71664552 0.71223423        nan        nan\n",
      "        nan        nan        nan        nan        nan        nan\n",
      " 0.7126338  0.71117347 0.71339101 0.70807739 0.70384445 0.70883\n",
      " 0.71331843 0.7067267  0.70436366 0.71117061 0.70590366 0.70069359\n",
      " 0.70530723 0.7104391  0.70588455 0.70074044 0.68628511 0.68689673\n",
      " 0.68618371 0.6869821  0.69515916 0.6839288  0.68554286 0.68972316\n",
      " 0.71364699 0.71546662 0.70664119 0.71275292 0.71428019 0.71920138\n",
      " 0.71869444 0.71949172        nan        nan        nan        nan\n",
      "        nan        nan        nan        nan 0.71095577 0.709016\n",
      " 0.71122511 0.7141386  0.71270198 0.71018222 0.7054677  0.71417456\n",
      " 0.6990628  0.70072809 0.70299679 0.70917854 0.70518955 0.71118028\n",
      " 0.70525178 0.70448678 0.6879705  0.68769493 0.68756837 0.68143343\n",
      " 0.68767673 0.6890162  0.6916551  0.6846866  0.71201013 0.71109046\n",
      " 0.7093148  0.71577517 0.71527203 0.72191546 0.71590227 0.71551077\n",
      "        nan        nan        nan        nan        nan        nan\n",
      "        nan        nan 0.71021279 0.7118962  0.70668924 0.70673228\n",
      " 0.71063457 0.71019101 0.70837184 0.70972815 0.70783365 0.70538437\n",
      " 0.7066242  0.71136989 0.70812977 0.70748849 0.70471726 0.71028654\n",
      " 0.70442233 0.70590108 0.70520934 0.7054111  0.70087608 0.69933315\n",
      " 0.70075044 0.70395249 0.70845343 0.70173433 0.7040445  0.70834881\n",
      " 0.70421226 0.7070981  0.70799279 0.70861701        nan        nan\n",
      "        nan        nan        nan        nan        nan        nan\n",
      " 0.70737417 0.70988557 0.70661348 0.71553755 0.70437869 0.7065319\n",
      " 0.70590553 0.71026984 0.70434109 0.7060331  0.7051228  0.70693775\n",
      " 0.70369802 0.7058971  0.70603616 0.70608437]\n",
      "  warnings.warn(\n"
     ]
    },
    {
     "name": "stdout",
     "output_type": "stream",
     "text": [
      "              precision    recall  f1-score   support\n",
      "\n",
      "           0       0.87      0.96      0.91       958\n",
      "           1       0.91      0.74      0.82       532\n",
      "\n",
      "    accuracy                           0.88      1490\n",
      "   macro avg       0.89      0.85      0.87      1490\n",
      "weighted avg       0.89      0.88      0.88      1490\n",
      "\n"
     ]
    }
   ],
   "source": [
    "rfc = RandomForestClassifier()\n",
    "param = {\n",
    "    'n_estimators':[*range(100,300,25)],\n",
    "    'criterion':['gini'],\n",
    "    'max_depth':[25,20,None,10],\n",
    "    'min_samples_split':[2,5,None,15,20]\n",
    "}\n",
    "cv = GridSearchCV(estimator=rfc,param_grid=param, scoring='f1',n_jobs=-1,cv=5)\n",
    "cv.fit(X, y)\n",
    "from sklearn.metrics import classification_report\n",
    "print(classification_report(y, cv.predict(X)))\n",
    "best_tree_clf = cv.best_estimator_"
   ]
  },
  {
   "cell_type": "code",
   "execution_count": 23,
   "id": "1e0e70d4-21d0-4b6c-ba93-27f0513c18a5",
   "metadata": {},
   "outputs": [],
   "source": [
    "test_id = test_df[\"Customer\"]\n",
    "test_pred = best_tree_clf.predict(X_test_transform)"
   ]
  },
  {
   "cell_type": "code",
   "execution_count": 24,
   "id": "6d7eccac-9f42-4863-bb31-31cf1fdb2114",
   "metadata": {},
   "outputs": [],
   "source": [
    "submission = pd.DataFrame(list(zip(test_id, test_pred)), columns=[\"Customer\", \"TravelInsurance\"])"
   ]
  },
  {
   "cell_type": "code",
   "execution_count": 25,
   "id": "02dec39f-8f42-43f9-80d3-628a3d015c61",
   "metadata": {},
   "outputs": [],
   "source": [
    "submission.to_csv(\"travel_insurance_submission-try-C.csv\", header=True, index=False)"
   ]
  },
  {
   "cell_type": "markdown",
   "id": "85281e57-b401-465c-b664-a61eea3e4817",
   "metadata": {},
   "source": [
    "## Observación\n",
    "\n",
    "Realizamos mas pruebas para la competencia con diferentes algoritmos, solamente mostramos las notebooks que mejor resultados nos dieron en la competencia de kaggle"
   ]
  },
  {
   "cell_type": "code",
   "execution_count": null,
   "id": "23aa41ed-c04a-444f-b51c-b9a645c8a882",
   "metadata": {},
   "outputs": [],
   "source": []
  }
 ],
 "metadata": {
  "kernelspec": {
   "display_name": "Python 3",
   "language": "python",
   "name": "python3"
  },
  "language_info": {
   "codemirror_mode": {
    "name": "ipython",
    "version": 3
   },
   "file_extension": ".py",
   "mimetype": "text/x-python",
   "name": "python",
   "nbconvert_exporter": "python",
   "pygments_lexer": "ipython3",
   "version": "3.8.10"
  }
 },
 "nbformat": 4,
 "nbformat_minor": 5
}
