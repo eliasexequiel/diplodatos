{
 "cells": [
  {
   "cell_type": "code",
   "execution_count": 1,
   "metadata": {},
   "outputs": [],
   "source": [
    "import os\n",
    "import numpy as np\n",
    "import pandas as pd\n",
    "import matplotlib.pyplot as plt\n",
    "import seaborn"
   ]
  },
  {
   "cell_type": "markdown",
   "metadata": {},
   "source": [
    "# DATA"
   ]
  },
  {
   "cell_type": "code",
   "execution_count": 2,
   "metadata": {},
   "outputs": [],
   "source": [
    "train_df = pd.read_csv(\"../data/travel_insurance_prediction_train.csv\")\n",
    "test_df = pd.read_csv(\"../data/travel_insurance_prediction_test.csv\")"
   ]
  },
  {
   "cell_type": "code",
   "execution_count": 3,
   "metadata": {},
   "outputs": [
    {
     "data": {
      "text/plain": [
       "(['Employment Type', 'GraduateOrNot', 'FrequentFlyer', 'EverTravelledAbroad'],\n",
       " ['Age', 'AnnualIncome', 'FamilyMembers', 'ChronicDiseases'])"
      ]
     },
     "execution_count": 3,
     "metadata": {},
     "output_type": "execute_result"
    }
   ],
   "source": [
    "X_cat = train_df.drop([\"Customer\",\"TravelInsurance\"],axis=1).select_dtypes(include='object').columns\n",
    "X_num = train_df.drop([\"Customer\",\"TravelInsurance\"],axis=1).select_dtypes(include='int64').columns\n",
    "X_scaler = [\"AnnualIncome\",\"Age\",\"FamilyMembers\"]\n",
    "X_cat.tolist(), X_num.tolist()"
   ]
  },
  {
   "cell_type": "code",
   "execution_count": 4,
   "metadata": {},
   "outputs": [],
   "source": [
    "from sklearn.preprocessing import OneHotEncoder, MinMaxScaler\n",
    "from sklearn.compose import make_column_transformer\n",
    "from sklearn.model_selection import train_test_split\n",
    "encoder = OneHotEncoder(categories=\"auto\", dtype=\"int\", handle_unknown=\"ignore\")\n",
    "scaler = MinMaxScaler()\n",
    "transformer = make_column_transformer((encoder, X_cat),(scaler,X_scaler),remainder=\"passthrough\")\n",
    "#train, validation = train_test_split(train_df)\n",
    "X = transformer.fit_transform(train_df.drop(columns=[\"Customer\", \"TravelInsurance\"]))\n",
    "y = train_df[\"TravelInsurance\"].values\n",
    "X_test = transformer.transform(test_df.drop(columns=[\"Customer\"]))"
   ]
  },
  {
   "cell_type": "code",
   "execution_count": 5,
   "metadata": {},
   "outputs": [],
   "source": [
    "X_train, X_val, y_train, y_val = train_test_split(X, y, test_size=0.25, random_state=2, stratify=y)"
   ]
  },
  {
   "cell_type": "code",
   "execution_count": 7,
   "metadata": {},
   "outputs": [
    {
     "name": "stdout",
     "output_type": "stream",
     "text": [
      "              precision    recall  f1-score   support\n",
      "\n",
      "           0       0.87      0.97      0.92       718\n",
      "           1       0.93      0.75      0.83       399\n",
      "\n",
      "    accuracy                           0.89      1117\n",
      "   macro avg       0.90      0.86      0.87      1117\n",
      "weighted avg       0.89      0.89      0.89      1117\n",
      "\n",
      "              precision    recall  f1-score   support\n",
      "\n",
      "           0       0.84      0.88      0.86       240\n",
      "           1       0.76      0.70      0.73       133\n",
      "\n",
      "    accuracy                           0.81       373\n",
      "   macro avg       0.80      0.79      0.79       373\n",
      "weighted avg       0.81      0.81      0.81       373\n",
      "\n"
     ]
    }
   ],
   "source": [
    "from sklearn.ensemble import RandomForestClassifier\n",
    "from sklearn.model_selection import GridSearchCV\n",
    "rfc = RandomForestClassifier()\n",
    "param = {\n",
    "    'n_estimators':[50],\n",
    "    'criterion':['gini'],\n",
    "    'max_depth':[25,20,15,10],\n",
    "    'min_samples_split':[2,5,10,15,20]\n",
    "}\n",
    "cv = GridSearchCV(estimator=rfc,param_grid=param, scoring='f1',n_jobs=-1,cv=5)\n",
    "cv.fit(X_train, y_train)\n",
    "from sklearn.metrics import classification_report\n",
    "print(classification_report(y_train, cv.predict(X_train)))\n",
    "print(classification_report(y_val, cv.predict(X_val)))"
   ]
  },
  {
   "cell_type": "markdown",
   "metadata": {},
   "source": [
    "# OUTPUT"
   ]
  },
  {
   "cell_type": "code",
   "execution_count": null,
   "metadata": {},
   "outputs": [],
   "source": [
    "test_id = test_df[\"Customer\"]\n",
    "test_pred = best_tree_clf.predict(X_test)"
   ]
  },
  {
   "cell_type": "code",
   "execution_count": null,
   "metadata": {},
   "outputs": [],
   "source": [
    "submission = pd.DataFrame(list(zip(test_id, test_pred)), columns=[\"Customer\", \"TravelInsurance\"])"
   ]
  },
  {
   "cell_type": "code",
   "execution_count": null,
   "metadata": {},
   "outputs": [],
   "source": [
    "submission.head()"
   ]
  },
  {
   "cell_type": "code",
   "execution_count": null,
   "metadata": {},
   "outputs": [],
   "source": [
    "submission.to_csv(\"../data/travel_insurance_submission-try-2.csv\", header=True, index=False)"
   ]
  },
  {
   "cell_type": "code",
   "execution_count": null,
   "metadata": {},
   "outputs": [],
   "source": []
  }
 ],
 "metadata": {
  "kernelspec": {
   "display_name": "Python 3",
   "language": "python",
   "name": "python3"
  },
  "language_info": {
   "codemirror_mode": {
    "name": "ipython",
    "version": 3
   },
   "file_extension": ".py",
   "mimetype": "text/x-python",
   "name": "python",
   "nbconvert_exporter": "python",
   "pygments_lexer": "ipython3",
   "version": "3.8.10"
  }
 },
 "nbformat": 4,
 "nbformat_minor": 4
}
