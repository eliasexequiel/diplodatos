{
 "cells": [
  {
   "cell_type": "markdown",
   "metadata": {},
   "source": [
    "# Diplodatos Kaggle Competition"
   ]
  },
  {
   "cell_type": "markdown",
   "metadata": {},
   "source": [
    "We present this peace of code to create the baseline for the competition, and as an example of how to deal with these kind of problems. The main goals are that you:\n",
    "\n",
    "1. Explore the data and learn from it\n",
    "1. Try different models and see which one fits the best the given data\n",
    "1. Get a higher score than the given one in the current baseline example\n",
    "1. Try to get the highest score in the class :)"
   ]
  },
  {
   "cell_type": "code",
   "execution_count": 1,
   "metadata": {},
   "outputs": [],
   "source": [
    "# Import the required packages\n",
    "import os\n",
    "\n",
    "import numpy as np\n",
    "import pandas as pd\n",
    "import matplotlib.pyplot as plt"
   ]
  },
  {
   "cell_type": "markdown",
   "metadata": {},
   "source": [
    "## Read Data"
   ]
  },
  {
   "cell_type": "code",
   "execution_count": 2,
   "metadata": {},
   "outputs": [],
   "source": [
    "train_df = pd.read_csv(\"../data/travel_insurance_prediction_train.csv\")\n",
    "test_df = pd.read_csv(\"../data/travel_insurance_prediction_test.csv\")"
   ]
  },
  {
   "cell_type": "markdown",
   "metadata": {},
   "source": [
    "## Explore the Data\n",
    "\n",
    "Is your task to explore the data, do analysis over it and get insights, then use those insights to better pick a model."
   ]
  },
  {
   "cell_type": "code",
   "execution_count": 3,
   "metadata": {},
   "outputs": [
    {
     "data": {
      "text/html": [
       "<div>\n",
       "<style scoped>\n",
       "    .dataframe tbody tr th:only-of-type {\n",
       "        vertical-align: middle;\n",
       "    }\n",
       "\n",
       "    .dataframe tbody tr th {\n",
       "        vertical-align: top;\n",
       "    }\n",
       "\n",
       "    .dataframe thead th {\n",
       "        text-align: right;\n",
       "    }\n",
       "</style>\n",
       "<table border=\"1\" class=\"dataframe\">\n",
       "  <thead>\n",
       "    <tr style=\"text-align: right;\">\n",
       "      <th></th>\n",
       "      <th>Customer</th>\n",
       "      <th>Age</th>\n",
       "      <th>Employment Type</th>\n",
       "      <th>GraduateOrNot</th>\n",
       "      <th>AnnualIncome</th>\n",
       "      <th>FamilyMembers</th>\n",
       "      <th>ChronicDiseases</th>\n",
       "      <th>FrequentFlyer</th>\n",
       "      <th>EverTravelledAbroad</th>\n",
       "      <th>TravelInsurance</th>\n",
       "    </tr>\n",
       "  </thead>\n",
       "  <tbody>\n",
       "    <tr>\n",
       "      <th>0</th>\n",
       "      <td>1</td>\n",
       "      <td>33</td>\n",
       "      <td>Private Sector/Self Employed</td>\n",
       "      <td>Yes</td>\n",
       "      <td>550000</td>\n",
       "      <td>6</td>\n",
       "      <td>0</td>\n",
       "      <td>No</td>\n",
       "      <td>No</td>\n",
       "      <td>1</td>\n",
       "    </tr>\n",
       "    <tr>\n",
       "      <th>1</th>\n",
       "      <td>2</td>\n",
       "      <td>28</td>\n",
       "      <td>Private Sector/Self Employed</td>\n",
       "      <td>Yes</td>\n",
       "      <td>800000</td>\n",
       "      <td>7</td>\n",
       "      <td>0</td>\n",
       "      <td>Yes</td>\n",
       "      <td>No</td>\n",
       "      <td>0</td>\n",
       "    </tr>\n",
       "    <tr>\n",
       "      <th>2</th>\n",
       "      <td>3</td>\n",
       "      <td>31</td>\n",
       "      <td>Private Sector/Self Employed</td>\n",
       "      <td>Yes</td>\n",
       "      <td>1250000</td>\n",
       "      <td>4</td>\n",
       "      <td>0</td>\n",
       "      <td>No</td>\n",
       "      <td>No</td>\n",
       "      <td>0</td>\n",
       "    </tr>\n",
       "    <tr>\n",
       "      <th>3</th>\n",
       "      <td>4</td>\n",
       "      <td>31</td>\n",
       "      <td>Government Sector</td>\n",
       "      <td>No</td>\n",
       "      <td>300000</td>\n",
       "      <td>7</td>\n",
       "      <td>0</td>\n",
       "      <td>No</td>\n",
       "      <td>No</td>\n",
       "      <td>0</td>\n",
       "    </tr>\n",
       "    <tr>\n",
       "      <th>4</th>\n",
       "      <td>5</td>\n",
       "      <td>28</td>\n",
       "      <td>Private Sector/Self Employed</td>\n",
       "      <td>Yes</td>\n",
       "      <td>1250000</td>\n",
       "      <td>3</td>\n",
       "      <td>0</td>\n",
       "      <td>No</td>\n",
       "      <td>No</td>\n",
       "      <td>0</td>\n",
       "    </tr>\n",
       "  </tbody>\n",
       "</table>\n",
       "</div>"
      ],
      "text/plain": [
       "   Customer  Age               Employment Type GraduateOrNot  AnnualIncome  \\\n",
       "0         1   33  Private Sector/Self Employed           Yes        550000   \n",
       "1         2   28  Private Sector/Self Employed           Yes        800000   \n",
       "2         3   31  Private Sector/Self Employed           Yes       1250000   \n",
       "3         4   31             Government Sector            No        300000   \n",
       "4         5   28  Private Sector/Self Employed           Yes       1250000   \n",
       "\n",
       "   FamilyMembers  ChronicDiseases FrequentFlyer EverTravelledAbroad  \\\n",
       "0              6                0            No                  No   \n",
       "1              7                0           Yes                  No   \n",
       "2              4                0            No                  No   \n",
       "3              7                0            No                  No   \n",
       "4              3                0            No                  No   \n",
       "\n",
       "   TravelInsurance  \n",
       "0                1  \n",
       "1                0  \n",
       "2                0  \n",
       "3                0  \n",
       "4                0  "
      ]
     },
     "execution_count": 3,
     "metadata": {},
     "output_type": "execute_result"
    }
   ],
   "source": [
    "train_df.head()"
   ]
  },
  {
   "cell_type": "code",
   "execution_count": 4,
   "metadata": {},
   "outputs": [
    {
     "data": {
      "text/html": [
       "<div>\n",
       "<style scoped>\n",
       "    .dataframe tbody tr th:only-of-type {\n",
       "        vertical-align: middle;\n",
       "    }\n",
       "\n",
       "    .dataframe tbody tr th {\n",
       "        vertical-align: top;\n",
       "    }\n",
       "\n",
       "    .dataframe thead th {\n",
       "        text-align: right;\n",
       "    }\n",
       "</style>\n",
       "<table border=\"1\" class=\"dataframe\">\n",
       "  <thead>\n",
       "    <tr style=\"text-align: right;\">\n",
       "      <th></th>\n",
       "      <th>Customer</th>\n",
       "      <th>Age</th>\n",
       "      <th>Employment Type</th>\n",
       "      <th>GraduateOrNot</th>\n",
       "      <th>AnnualIncome</th>\n",
       "      <th>FamilyMembers</th>\n",
       "      <th>ChronicDiseases</th>\n",
       "      <th>FrequentFlyer</th>\n",
       "      <th>EverTravelledAbroad</th>\n",
       "    </tr>\n",
       "  </thead>\n",
       "  <tbody>\n",
       "    <tr>\n",
       "      <th>0</th>\n",
       "      <td>1491</td>\n",
       "      <td>29</td>\n",
       "      <td>Private Sector/Self Employed</td>\n",
       "      <td>Yes</td>\n",
       "      <td>1100000</td>\n",
       "      <td>4</td>\n",
       "      <td>0</td>\n",
       "      <td>No</td>\n",
       "      <td>No</td>\n",
       "    </tr>\n",
       "    <tr>\n",
       "      <th>1</th>\n",
       "      <td>1492</td>\n",
       "      <td>28</td>\n",
       "      <td>Private Sector/Self Employed</td>\n",
       "      <td>Yes</td>\n",
       "      <td>750000</td>\n",
       "      <td>5</td>\n",
       "      <td>1</td>\n",
       "      <td>Yes</td>\n",
       "      <td>No</td>\n",
       "    </tr>\n",
       "    <tr>\n",
       "      <th>2</th>\n",
       "      <td>1493</td>\n",
       "      <td>31</td>\n",
       "      <td>Government Sector</td>\n",
       "      <td>Yes</td>\n",
       "      <td>1500000</td>\n",
       "      <td>4</td>\n",
       "      <td>0</td>\n",
       "      <td>Yes</td>\n",
       "      <td>Yes</td>\n",
       "    </tr>\n",
       "    <tr>\n",
       "      <th>3</th>\n",
       "      <td>1494</td>\n",
       "      <td>28</td>\n",
       "      <td>Private Sector/Self Employed</td>\n",
       "      <td>Yes</td>\n",
       "      <td>1400000</td>\n",
       "      <td>3</td>\n",
       "      <td>0</td>\n",
       "      <td>No</td>\n",
       "      <td>Yes</td>\n",
       "    </tr>\n",
       "    <tr>\n",
       "      <th>4</th>\n",
       "      <td>1495</td>\n",
       "      <td>33</td>\n",
       "      <td>Private Sector/Self Employed</td>\n",
       "      <td>Yes</td>\n",
       "      <td>1500000</td>\n",
       "      <td>4</td>\n",
       "      <td>0</td>\n",
       "      <td>Yes</td>\n",
       "      <td>Yes</td>\n",
       "    </tr>\n",
       "  </tbody>\n",
       "</table>\n",
       "</div>"
      ],
      "text/plain": [
       "   Customer  Age               Employment Type GraduateOrNot  AnnualIncome  \\\n",
       "0      1491   29  Private Sector/Self Employed           Yes       1100000   \n",
       "1      1492   28  Private Sector/Self Employed           Yes        750000   \n",
       "2      1493   31             Government Sector           Yes       1500000   \n",
       "3      1494   28  Private Sector/Self Employed           Yes       1400000   \n",
       "4      1495   33  Private Sector/Self Employed           Yes       1500000   \n",
       "\n",
       "   FamilyMembers  ChronicDiseases FrequentFlyer EverTravelledAbroad  \n",
       "0              4                0            No                  No  \n",
       "1              5                1           Yes                  No  \n",
       "2              4                0           Yes                 Yes  \n",
       "3              3                0            No                 Yes  \n",
       "4              4                0           Yes                 Yes  "
      ]
     },
     "execution_count": 4,
     "metadata": {},
     "output_type": "execute_result"
    }
   ],
   "source": [
    "test_df.head()"
   ]
  },
  {
   "cell_type": "markdown",
   "metadata": {},
   "source": [
    "**TravelInsurance** is the column that we should predict. That column is not present in the test set."
   ]
  },
  {
   "cell_type": "code",
   "execution_count": 5,
   "metadata": {},
   "outputs": [
    {
     "name": "stdout",
     "output_type": "stream",
     "text": [
      "<class 'pandas.core.frame.DataFrame'>\n",
      "RangeIndex: 1490 entries, 0 to 1489\n",
      "Data columns (total 10 columns):\n",
      " #   Column               Non-Null Count  Dtype \n",
      "---  ------               --------------  ----- \n",
      " 0   Customer             1490 non-null   int64 \n",
      " 1   Age                  1490 non-null   int64 \n",
      " 2   Employment Type      1490 non-null   object\n",
      " 3   GraduateOrNot        1490 non-null   object\n",
      " 4   AnnualIncome         1490 non-null   int64 \n",
      " 5   FamilyMembers        1490 non-null   int64 \n",
      " 6   ChronicDiseases      1490 non-null   int64 \n",
      " 7   FrequentFlyer        1490 non-null   object\n",
      " 8   EverTravelledAbroad  1490 non-null   object\n",
      " 9   TravelInsurance      1490 non-null   int64 \n",
      "dtypes: int64(6), object(4)\n",
      "memory usage: 116.5+ KB\n"
     ]
    }
   ],
   "source": [
    "train_df.info()"
   ]
  },
  {
   "cell_type": "code",
   "execution_count": 6,
   "metadata": {},
   "outputs": [
    {
     "name": "stdout",
     "output_type": "stream",
     "text": [
      "<class 'pandas.core.frame.DataFrame'>\n",
      "RangeIndex: 497 entries, 0 to 496\n",
      "Data columns (total 9 columns):\n",
      " #   Column               Non-Null Count  Dtype \n",
      "---  ------               --------------  ----- \n",
      " 0   Customer             497 non-null    int64 \n",
      " 1   Age                  497 non-null    int64 \n",
      " 2   Employment Type      497 non-null    object\n",
      " 3   GraduateOrNot        497 non-null    object\n",
      " 4   AnnualIncome         497 non-null    int64 \n",
      " 5   FamilyMembers        497 non-null    int64 \n",
      " 6   ChronicDiseases      497 non-null    int64 \n",
      " 7   FrequentFlyer        497 non-null    object\n",
      " 8   EverTravelledAbroad  497 non-null    object\n",
      "dtypes: int64(5), object(4)\n",
      "memory usage: 35.1+ KB\n"
     ]
    }
   ],
   "source": [
    "test_df.info()"
   ]
  },
  {
   "cell_type": "code",
   "execution_count": 7,
   "metadata": {},
   "outputs": [
    {
     "data": {
      "text/html": [
       "<div>\n",
       "<style scoped>\n",
       "    .dataframe tbody tr th:only-of-type {\n",
       "        vertical-align: middle;\n",
       "    }\n",
       "\n",
       "    .dataframe tbody tr th {\n",
       "        vertical-align: top;\n",
       "    }\n",
       "\n",
       "    .dataframe thead th {\n",
       "        text-align: right;\n",
       "    }\n",
       "</style>\n",
       "<table border=\"1\" class=\"dataframe\">\n",
       "  <thead>\n",
       "    <tr style=\"text-align: right;\">\n",
       "      <th></th>\n",
       "      <th>Customer</th>\n",
       "      <th>Age</th>\n",
       "      <th>AnnualIncome</th>\n",
       "      <th>FamilyMembers</th>\n",
       "      <th>ChronicDiseases</th>\n",
       "      <th>TravelInsurance</th>\n",
       "    </tr>\n",
       "  </thead>\n",
       "  <tbody>\n",
       "    <tr>\n",
       "      <th>count</th>\n",
       "      <td>1490.000000</td>\n",
       "      <td>1490.000000</td>\n",
       "      <td>1.490000e+03</td>\n",
       "      <td>1490.000000</td>\n",
       "      <td>1490.000000</td>\n",
       "      <td>1490.000000</td>\n",
       "    </tr>\n",
       "    <tr>\n",
       "      <th>mean</th>\n",
       "      <td>745.500000</td>\n",
       "      <td>29.667114</td>\n",
       "      <td>9.278188e+05</td>\n",
       "      <td>4.777181</td>\n",
       "      <td>0.275839</td>\n",
       "      <td>0.357047</td>\n",
       "    </tr>\n",
       "    <tr>\n",
       "      <th>std</th>\n",
       "      <td>430.270264</td>\n",
       "      <td>2.880994</td>\n",
       "      <td>3.811715e+05</td>\n",
       "      <td>1.640248</td>\n",
       "      <td>0.447086</td>\n",
       "      <td>0.479290</td>\n",
       "    </tr>\n",
       "    <tr>\n",
       "      <th>min</th>\n",
       "      <td>1.000000</td>\n",
       "      <td>25.000000</td>\n",
       "      <td>3.000000e+05</td>\n",
       "      <td>2.000000</td>\n",
       "      <td>0.000000</td>\n",
       "      <td>0.000000</td>\n",
       "    </tr>\n",
       "    <tr>\n",
       "      <th>25%</th>\n",
       "      <td>373.250000</td>\n",
       "      <td>28.000000</td>\n",
       "      <td>6.000000e+05</td>\n",
       "      <td>4.000000</td>\n",
       "      <td>0.000000</td>\n",
       "      <td>0.000000</td>\n",
       "    </tr>\n",
       "    <tr>\n",
       "      <th>50%</th>\n",
       "      <td>745.500000</td>\n",
       "      <td>29.000000</td>\n",
       "      <td>9.000000e+05</td>\n",
       "      <td>5.000000</td>\n",
       "      <td>0.000000</td>\n",
       "      <td>0.000000</td>\n",
       "    </tr>\n",
       "    <tr>\n",
       "      <th>75%</th>\n",
       "      <td>1117.750000</td>\n",
       "      <td>32.000000</td>\n",
       "      <td>1.250000e+06</td>\n",
       "      <td>6.000000</td>\n",
       "      <td>1.000000</td>\n",
       "      <td>1.000000</td>\n",
       "    </tr>\n",
       "    <tr>\n",
       "      <th>max</th>\n",
       "      <td>1490.000000</td>\n",
       "      <td>35.000000</td>\n",
       "      <td>1.800000e+06</td>\n",
       "      <td>9.000000</td>\n",
       "      <td>1.000000</td>\n",
       "      <td>1.000000</td>\n",
       "    </tr>\n",
       "  </tbody>\n",
       "</table>\n",
       "</div>"
      ],
      "text/plain": [
       "          Customer          Age  AnnualIncome  FamilyMembers  ChronicDiseases  \\\n",
       "count  1490.000000  1490.000000  1.490000e+03    1490.000000      1490.000000   \n",
       "mean    745.500000    29.667114  9.278188e+05       4.777181         0.275839   \n",
       "std     430.270264     2.880994  3.811715e+05       1.640248         0.447086   \n",
       "min       1.000000    25.000000  3.000000e+05       2.000000         0.000000   \n",
       "25%     373.250000    28.000000  6.000000e+05       4.000000         0.000000   \n",
       "50%     745.500000    29.000000  9.000000e+05       5.000000         0.000000   \n",
       "75%    1117.750000    32.000000  1.250000e+06       6.000000         1.000000   \n",
       "max    1490.000000    35.000000  1.800000e+06       9.000000         1.000000   \n",
       "\n",
       "       TravelInsurance  \n",
       "count      1490.000000  \n",
       "mean          0.357047  \n",
       "std           0.479290  \n",
       "min           0.000000  \n",
       "25%           0.000000  \n",
       "50%           0.000000  \n",
       "75%           1.000000  \n",
       "max           1.000000  "
      ]
     },
     "execution_count": 7,
     "metadata": {},
     "output_type": "execute_result"
    }
   ],
   "source": [
    "train_df.describe()"
   ]
  },
  {
   "cell_type": "code",
   "execution_count": 8,
   "metadata": {},
   "outputs": [
    {
     "data": {
      "text/html": [
       "<div>\n",
       "<style scoped>\n",
       "    .dataframe tbody tr th:only-of-type {\n",
       "        vertical-align: middle;\n",
       "    }\n",
       "\n",
       "    .dataframe tbody tr th {\n",
       "        vertical-align: top;\n",
       "    }\n",
       "\n",
       "    .dataframe thead th {\n",
       "        text-align: right;\n",
       "    }\n",
       "</style>\n",
       "<table border=\"1\" class=\"dataframe\">\n",
       "  <thead>\n",
       "    <tr style=\"text-align: right;\">\n",
       "      <th></th>\n",
       "      <th>Customer</th>\n",
       "      <th>Age</th>\n",
       "      <th>AnnualIncome</th>\n",
       "      <th>FamilyMembers</th>\n",
       "      <th>ChronicDiseases</th>\n",
       "    </tr>\n",
       "  </thead>\n",
       "  <tbody>\n",
       "    <tr>\n",
       "      <th>count</th>\n",
       "      <td>497.000000</td>\n",
       "      <td>497.000000</td>\n",
       "      <td>4.970000e+02</td>\n",
       "      <td>497.00000</td>\n",
       "      <td>497.000000</td>\n",
       "    </tr>\n",
       "    <tr>\n",
       "      <th>mean</th>\n",
       "      <td>1739.000000</td>\n",
       "      <td>29.599598</td>\n",
       "      <td>9.475855e+05</td>\n",
       "      <td>4.68008</td>\n",
       "      <td>0.283702</td>\n",
       "    </tr>\n",
       "    <tr>\n",
       "      <th>std</th>\n",
       "      <td>143.615807</td>\n",
       "      <td>3.010506</td>\n",
       "      <td>3.635818e+05</td>\n",
       "      <td>1.51347</td>\n",
       "      <td>0.451248</td>\n",
       "    </tr>\n",
       "    <tr>\n",
       "      <th>min</th>\n",
       "      <td>1491.000000</td>\n",
       "      <td>25.000000</td>\n",
       "      <td>3.000000e+05</td>\n",
       "      <td>2.00000</td>\n",
       "      <td>0.000000</td>\n",
       "    </tr>\n",
       "    <tr>\n",
       "      <th>25%</th>\n",
       "      <td>1615.000000</td>\n",
       "      <td>28.000000</td>\n",
       "      <td>6.500000e+05</td>\n",
       "      <td>4.00000</td>\n",
       "      <td>0.000000</td>\n",
       "    </tr>\n",
       "    <tr>\n",
       "      <th>50%</th>\n",
       "      <td>1739.000000</td>\n",
       "      <td>29.000000</td>\n",
       "      <td>9.500000e+05</td>\n",
       "      <td>4.00000</td>\n",
       "      <td>0.000000</td>\n",
       "    </tr>\n",
       "    <tr>\n",
       "      <th>75%</th>\n",
       "      <td>1863.000000</td>\n",
       "      <td>32.000000</td>\n",
       "      <td>1.250000e+06</td>\n",
       "      <td>6.00000</td>\n",
       "      <td>1.000000</td>\n",
       "    </tr>\n",
       "    <tr>\n",
       "      <th>max</th>\n",
       "      <td>1987.000000</td>\n",
       "      <td>35.000000</td>\n",
       "      <td>1.750000e+06</td>\n",
       "      <td>9.00000</td>\n",
       "      <td>1.000000</td>\n",
       "    </tr>\n",
       "  </tbody>\n",
       "</table>\n",
       "</div>"
      ],
      "text/plain": [
       "          Customer         Age  AnnualIncome  FamilyMembers  ChronicDiseases\n",
       "count   497.000000  497.000000  4.970000e+02      497.00000       497.000000\n",
       "mean   1739.000000   29.599598  9.475855e+05        4.68008         0.283702\n",
       "std     143.615807    3.010506  3.635818e+05        1.51347         0.451248\n",
       "min    1491.000000   25.000000  3.000000e+05        2.00000         0.000000\n",
       "25%    1615.000000   28.000000  6.500000e+05        4.00000         0.000000\n",
       "50%    1739.000000   29.000000  9.500000e+05        4.00000         0.000000\n",
       "75%    1863.000000   32.000000  1.250000e+06        6.00000         1.000000\n",
       "max    1987.000000   35.000000  1.750000e+06        9.00000         1.000000"
      ]
     },
     "execution_count": 8,
     "metadata": {},
     "output_type": "execute_result"
    }
   ],
   "source": [
    "test_df.describe()"
   ]
  },
  {
   "cell_type": "markdown",
   "metadata": {},
   "source": [
    "## Baseline\n",
    "\n",
    "In this section we present a baseline based on a decision tree classifier.\n",
    "\n",
    "Many of the attributes are binary, there are a couple of numeric attributes, we might be able to one-hot (e.g. family members), or event discretize (age and anual income), this will come more clearly after the EDA."
   ]
  },
  {
   "cell_type": "code",
   "execution_count": 19,
   "metadata": {},
   "outputs": [],
   "source": [
    "from sklearn.compose import make_column_transformer\n",
    "from sklearn.metrics import classification_report, confusion_matrix, plot_confusion_matrix, mean_squared_error\n",
    "from sklearn.model_selection import GridSearchCV, RandomizedSearchCV, ParameterGrid, train_test_split\n",
    "from sklearn.preprocessing import KBinsDiscretizer, OneHotEncoder, StandardScaler\n",
    "from sklearn.tree import DecisionTreeClassifier\n",
    "from sklearn.pipeline import make_pipeline\n",
    "from sklearn.linear_model import SGDClassifier"
   ]
  },
  {
   "cell_type": "markdown",
   "metadata": {},
   "source": [
    "### Transform the columns into features\n",
    "\n",
    "First we need to transform the columns into features. The type of features we use will have a direct impact on the final result. In this example we decided to discretize some numeric features and make a one hot encoding of others. The number of bins, what we use as a one hot encoding, etc, is all up to you to try it out."
   ]
  },
  {
   "cell_type": "code",
   "execution_count": 10,
   "metadata": {},
   "outputs": [],
   "source": [
    "transformer = make_column_transformer(\n",
    "    (KBinsDiscretizer(n_bins=5, encode=\"ordinal\", strategy=\"quantile\"), [\"Age\", \"AnnualIncome\"]),\n",
    "    (OneHotEncoder(categories=\"auto\", dtype=\"int\", handle_unknown=\"ignore\"),\n",
    "     [\"Employment Type\", \"GraduateOrNot\", \"FamilyMembers\", \"FrequentFlyer\", \"EverTravelledAbroad\"]),\n",
    "    remainder=\"passthrough\")"
   ]
  },
  {
   "cell_type": "markdown",
   "metadata": {},
   "source": [
    "We transform the train and test data. In order to avoid overfitting is better to remove the `Customer` column and we don't want the `TravelInsurance` column as part of the attributes either."
   ]
  },
  {
   "cell_type": "code",
   "execution_count": 11,
   "metadata": {},
   "outputs": [],
   "source": [
    "# The data for training the model\n",
    "X_train = transformer.fit_transform(train_df.drop(columns=[\"Customer\", \"TravelInsurance\"]))\n",
    "y_train = train_df[\"TravelInsurance\"].values\n",
    "\n",
    "# The test data is only for generating the submission\n",
    "X_test = transformer.transform(test_df.drop(columns=[\"Customer\"]))"
   ]
  },
  {
   "cell_type": "markdown",
   "metadata": {},
   "source": [
    "### Grid Search\n",
    "\n",
    "We do a Grid Search for the Decision Tree (this can be replaced by a randomized search if the model is too complex)."
   ]
  },
  {
   "cell_type": "code",
   "execution_count": 12,
   "metadata": {},
   "outputs": [],
   "source": [
    "search_params = {\n",
    "    'criterion': ['gini', 'entropy'],\n",
    "    'min_samples_leaf': [1, 2, 5],\n",
    "    'max_depth': [3, 6, 10]\n",
    "}\n",
    "tree = DecisionTreeClassifier(random_state=42)\n",
    "tree_clf = GridSearchCV(tree, search_params, cv=5, scoring='f1', n_jobs=-1)\n",
    "tree_clf.fit(X_train, y_train)\n",
    "\n",
    "best_tree_clf = tree_clf.best_estimator_"
   ]
  },
  {
   "cell_type": "markdown",
   "metadata": {},
   "source": [
    "### Check Results\n",
    "\n",
    "We can print the results of the best estimator found on the whole training set (we could also set apart a validation set if we find it useful)."
   ]
  },
  {
   "cell_type": "code",
   "execution_count": 13,
   "metadata": {},
   "outputs": [
    {
     "name": "stdout",
     "output_type": "stream",
     "text": [
      "              precision    recall  f1-score   support\n",
      "\n",
      "           0       0.83      0.94      0.88       958\n",
      "           1       0.86      0.66      0.75       532\n",
      "\n",
      "    accuracy                           0.84      1490\n",
      "   macro avg       0.85      0.80      0.82      1490\n",
      "weighted avg       0.84      0.84      0.84      1490\n",
      "\n"
     ]
    }
   ],
   "source": [
    "print(classification_report(y_train, best_tree_clf.predict(X_train)))"
   ]
  },
  {
   "cell_type": "markdown",
   "metadata": {},
   "source": [
    "## Generate the output\n",
    "\n",
    "The last thing we do is generating a file that should be *submitted* on kaggle"
   ]
  },
  {
   "cell_type": "code",
   "execution_count": 14,
   "metadata": {},
   "outputs": [],
   "source": [
    "test_id = test_df[\"Customer\"]\n",
    "test_pred = best_tree_clf.predict(X_test)\n",
    "\n",
    "submission = pd.DataFrame(list(zip(test_id, test_pred)), columns=[\"Customer\", \"TravelInsurance\"])\n",
    "submission.to_csv(\"../data/travel_insurance_submission.csv\", header=True, index=False)"
   ]
  },
  {
   "cell_type": "markdown",
   "metadata": {},
   "source": [
    "### DATA"
   ]
  },
  {
   "cell_type": "code",
   "execution_count": 21,
   "metadata": {},
   "outputs": [
    {
     "data": {
      "text/plain": [
       "((1192, 4), (298, 4), (1192,), (298,))"
      ]
     },
     "execution_count": 21,
     "metadata": {},
     "output_type": "execute_result"
    }
   ],
   "source": [
    "train_df \n",
    "# División entre instancias y etiquetas\n",
    "feature_names = ['Age', 'AnnualIncome', 'FamilyMembers', 'ChronicDiseases']\n",
    "\n",
    "X, y = train_df[feature_names], train_df['TravelInsurance']\n",
    "X_train_1, X_test_1, y_train_1, y_test_1 = train_test_split(X, y, train_size=0.8, random_state=0)\n",
    "X_train_1.shape, X_test_1.shape, y_train_1.shape, y_test_1.shape"
   ]
  },
  {
   "cell_type": "markdown",
   "metadata": {},
   "source": [
    "### Try 1: DecisionTreeClassifier con hiperparámetros por defecto"
   ]
  },
  {
   "cell_type": "code",
   "execution_count": 25,
   "metadata": {},
   "outputs": [
    {
     "name": "stdout",
     "output_type": "stream",
     "text": [
      "Reporte de test\n",
      "              precision    recall  f1-score   support\n",
      "\n",
      "           0       0.82      0.89      0.85       192\n",
      "           1       0.76      0.64      0.69       106\n",
      "\n",
      "    accuracy                           0.80       298\n",
      "   macro avg       0.79      0.76      0.77       298\n",
      "weighted avg       0.80      0.80      0.79       298\n",
      "\n"
     ]
    }
   ],
   "source": [
    "model_dtc = DecisionTreeClassifier(random_state=100)\n",
    "model_dtc.fit(X_train_1, y_train_1)\n",
    "y_train_pred1 = model_dtc.predict(X_train_1)\n",
    "y_test_pred1 = model_dtc.predict(X_test_1)\n",
    "#print(\"Reporte de train\")\n",
    "#print(classification_report(y_train_1, y_train_pred1))\n",
    "print(\"Reporte de test\")\n",
    "print(classification_report(y_test_1, y_test_pred1)) "
   ]
  },
  {
   "cell_type": "code",
   "execution_count": 24,
   "metadata": {},
   "outputs": [
    {
     "name": "stdout",
     "output_type": "stream",
     "text": [
      "matriz de confusion test\n",
      "[[170  22]\n",
      " [ 38  68]]\n",
      "matriz de confusion test\n"
     ]
    },
    {
     "data": {
      "text/plain": [
       "<sklearn.metrics._plot.confusion_matrix.ConfusionMatrixDisplay at 0x7ffc919c2850>"
      ]
     },
     "execution_count": 24,
     "metadata": {},
     "output_type": "execute_result"
    },
    {
     "data": {
      "image/png": "[encoded data removed]",
      "text/plain": [
       "<Figure size 432x288 with 2 Axes>"
      ]
     },
     "metadata": {
      "needs_background": "light"
     },
     "output_type": "display_data"
    }
   ],
   "source": [
    "# Matriz de confusión\n",
    "cm=confusion_matrix(y_test_1,y_test_pred1)\n",
    "print('matriz de confusion test')\n",
    "print(cm)\n",
    "tn, fp, fn, tp = confusion_matrix(y_test_1,y_test_pred1).ravel()\n",
    "print('matriz de confusion test')\n",
    "plot_confusion_matrix(model_dtc, X_test_1, y_test_1)"
   ]
  },
  {
   "cell_type": "markdown",
   "metadata": {},
   "source": [
    "### Try 2: SGDClassifier con hiperparámetros por defecto"
   ]
  },
  {
   "cell_type": "code",
   "execution_count": 28,
   "metadata": {},
   "outputs": [
    {
     "name": "stdout",
     "output_type": "stream",
     "text": [
      "Reporte de test\n",
      "              precision    recall  f1-score   support\n",
      "\n",
      "           0       0.75      0.83      0.79       192\n",
      "           1       0.62      0.49      0.55       106\n",
      "\n",
      "    accuracy                           0.71       298\n",
      "   macro avg       0.68      0.66      0.67       298\n",
      "weighted avg       0.70      0.71      0.70       298\n",
      "\n"
     ]
    }
   ],
   "source": [
    "#pruebo escalando previamente los datos por recomendacion de la documentacion\n",
    "model_sgd = make_pipeline(StandardScaler(), SGDClassifier(random_state=123))\n",
    "model_sgd.fit(X_train_1, y_train_1)\n",
    "y_train_pred2 = model_sgd.predict(X_train_1)\n",
    "y_test_pred2 = model_sgd.predict(X_test_1)\n",
    "print(\"Reporte de test\")\n",
    "print(classification_report(y_test_1, y_test_pred2)) "
   ]
  },
  {
   "cell_type": "code",
   "execution_count": 29,
   "metadata": {},
   "outputs": [
    {
     "name": "stdout",
     "output_type": "stream",
     "text": [
      "matriz de confusion test\n",
      "[[160  32]\n",
      " [ 54  52]]\n",
      "matriz de confusion test\n"
     ]
    },
    {
     "data": {
      "text/plain": [
       "<sklearn.metrics._plot.confusion_matrix.ConfusionMatrixDisplay at 0x7ffc93f475e0>"
      ]
     },
     "execution_count": 29,
     "metadata": {},
     "output_type": "execute_result"
    },
    {
     "data": {
      "image/png": "[encoded data removed]",
      "text/plain": [
       "<Figure size 432x288 with 2 Axes>"
      ]
     },
     "metadata": {
      "needs_background": "light"
     },
     "output_type": "display_data"
    }
   ],
   "source": [
    "# Matriz de confusión\n",
    "cm2=confusion_matrix(y_test_1,y_test_pred2)\n",
    "print('matriz de confusion test')\n",
    "print(cm2)\n",
    "tn, fp, fn, tp = confusion_matrix(y_test_1,y_test_pred1).ravel()\n",
    "print('matriz de confusion test')\n",
    "plot_confusion_matrix(model_sgd, X_test_1, y_test_1)"
   ]
  },
  {
   "cell_type": "markdown",
   "metadata": {},
   "source": [
    "### Try 3: DecisionTreeClassifier con ajustes de hiperparámetros"
   ]
  },
  {
   "cell_type": "code",
   "execution_count": 30,
   "metadata": {},
   "outputs": [],
   "source": [
    "param_grid = {\n",
    "    'criterion': [ 'gini', 'entropy'],\n",
    "    'max_depth': [4,5,6,7,8,9,10,11,12,13,14],\n",
    "    'min_samples_leaf':[2,3,4,5,6,7,8,9,10,11,12]\n",
    "}"
   ]
  },
  {
   "cell_type": "code",
   "execution_count": 31,
   "metadata": {},
   "outputs": [
    {
     "data": {
      "text/plain": [
       "RandomizedSearchCV(cv=5, estimator=DecisionTreeClassifier(random_state=100),\n",
       "                   param_distributions={'criterion': ['gini', 'entropy'],\n",
       "                                        'max_depth': [4, 5, 6, 7, 8, 9, 10, 11,\n",
       "                                                      12, 13, 14],\n",
       "                                        'min_samples_leaf': [2, 3, 4, 5, 6, 7,\n",
       "                                                             8, 9, 10, 11,\n",
       "                                                             12]},\n",
       "                   random_state=100)"
      ]
     },
     "execution_count": 31,
     "metadata": {},
     "output_type": "execute_result"
    }
   ],
   "source": [
    "model_dtc = DecisionTreeClassifier(random_state=100)\n",
    "\n",
    "cv = RandomizedSearchCV(model_dtc, param_grid, n_iter=10, cv=5, random_state=100)\n",
    "cv.fit(X, y)"
   ]
  },
  {
   "cell_type": "code",
   "execution_count": 32,
   "metadata": {},
   "outputs": [
    {
     "data": {
      "text/html": [
       "<div>\n",
       "<style scoped>\n",
       "    .dataframe tbody tr th:only-of-type {\n",
       "        vertical-align: middle;\n",
       "    }\n",
       "\n",
       "    .dataframe tbody tr th {\n",
       "        vertical-align: top;\n",
       "    }\n",
       "\n",
       "    .dataframe thead th {\n",
       "        text-align: right;\n",
       "    }\n",
       "</style>\n",
       "<table border=\"1\" class=\"dataframe\">\n",
       "  <thead>\n",
       "    <tr style=\"text-align: right;\">\n",
       "      <th></th>\n",
       "      <th>param_criterion</th>\n",
       "      <th>param_max_depth</th>\n",
       "      <th>param_min_samples_leaf</th>\n",
       "      <th>mean_test_score</th>\n",
       "      <th>std_test_score</th>\n",
       "      <th>rank_test_score</th>\n",
       "    </tr>\n",
       "  </thead>\n",
       "  <tbody>\n",
       "    <tr>\n",
       "      <th>0</th>\n",
       "      <td>gini</td>\n",
       "      <td>9</td>\n",
       "      <td>12</td>\n",
       "      <td>0.822819</td>\n",
       "      <td>0.021581</td>\n",
       "      <td>2</td>\n",
       "    </tr>\n",
       "    <tr>\n",
       "      <th>1</th>\n",
       "      <td>gini</td>\n",
       "      <td>9</td>\n",
       "      <td>6</td>\n",
       "      <td>0.819463</td>\n",
       "      <td>0.021995</td>\n",
       "      <td>5</td>\n",
       "    </tr>\n",
       "    <tr>\n",
       "      <th>2</th>\n",
       "      <td>entropy</td>\n",
       "      <td>10</td>\n",
       "      <td>5</td>\n",
       "      <td>0.816779</td>\n",
       "      <td>0.020967</td>\n",
       "      <td>6</td>\n",
       "    </tr>\n",
       "    <tr>\n",
       "      <th>3</th>\n",
       "      <td>entropy</td>\n",
       "      <td>12</td>\n",
       "      <td>6</td>\n",
       "      <td>0.815436</td>\n",
       "      <td>0.017883</td>\n",
       "      <td>7</td>\n",
       "    </tr>\n",
       "    <tr>\n",
       "      <th>4</th>\n",
       "      <td>gini</td>\n",
       "      <td>14</td>\n",
       "      <td>2</td>\n",
       "      <td>0.805369</td>\n",
       "      <td>0.014078</td>\n",
       "      <td>10</td>\n",
       "    </tr>\n",
       "    <tr>\n",
       "      <th>5</th>\n",
       "      <td>entropy</td>\n",
       "      <td>14</td>\n",
       "      <td>9</td>\n",
       "      <td>0.821477</td>\n",
       "      <td>0.019265</td>\n",
       "      <td>3</td>\n",
       "    </tr>\n",
       "    <tr>\n",
       "      <th>6</th>\n",
       "      <td>entropy</td>\n",
       "      <td>6</td>\n",
       "      <td>8</td>\n",
       "      <td>0.830201</td>\n",
       "      <td>0.019054</td>\n",
       "      <td>1</td>\n",
       "    </tr>\n",
       "    <tr>\n",
       "      <th>7</th>\n",
       "      <td>entropy</td>\n",
       "      <td>12</td>\n",
       "      <td>5</td>\n",
       "      <td>0.813423</td>\n",
       "      <td>0.016792</td>\n",
       "      <td>8</td>\n",
       "    </tr>\n",
       "    <tr>\n",
       "      <th>8</th>\n",
       "      <td>entropy</td>\n",
       "      <td>14</td>\n",
       "      <td>2</td>\n",
       "      <td>0.808054</td>\n",
       "      <td>0.013490</td>\n",
       "      <td>9</td>\n",
       "    </tr>\n",
       "    <tr>\n",
       "      <th>9</th>\n",
       "      <td>gini</td>\n",
       "      <td>11</td>\n",
       "      <td>8</td>\n",
       "      <td>0.820134</td>\n",
       "      <td>0.022320</td>\n",
       "      <td>4</td>\n",
       "    </tr>\n",
       "  </tbody>\n",
       "</table>\n",
       "</div>"
      ],
      "text/plain": [
       "  param_criterion param_max_depth param_min_samples_leaf  mean_test_score  \\\n",
       "0            gini               9                     12         0.822819   \n",
       "1            gini               9                      6         0.819463   \n",
       "2         entropy              10                      5         0.816779   \n",
       "3         entropy              12                      6         0.815436   \n",
       "4            gini              14                      2         0.805369   \n",
       "5         entropy              14                      9         0.821477   \n",
       "6         entropy               6                      8         0.830201   \n",
       "7         entropy              12                      5         0.813423   \n",
       "8         entropy              14                      2         0.808054   \n",
       "9            gini              11                      8         0.820134   \n",
       "\n",
       "   std_test_score  rank_test_score  \n",
       "0        0.021581                2  \n",
       "1        0.021995                5  \n",
       "2        0.020967                6  \n",
       "3        0.017883                7  \n",
       "4        0.014078               10  \n",
       "5        0.019265                3  \n",
       "6        0.019054                1  \n",
       "7        0.016792                8  \n",
       "8        0.013490                9  \n",
       "9        0.022320                4  "
      ]
     },
     "execution_count": 32,
     "metadata": {},
     "output_type": "execute_result"
    }
   ],
   "source": [
    "results = cv.cv_results_\n",
    "df_results = pd.DataFrame(results)\n",
    "df_results[['param_criterion', 'param_max_depth','param_min_samples_leaf', 'mean_test_score', \n",
    "    'std_test_score', 'rank_test_score']]"
   ]
  },
  {
   "cell_type": "code",
   "execution_count": 33,
   "metadata": {},
   "outputs": [
    {
     "name": "stdout",
     "output_type": "stream",
     "text": [
      "Reporte de test\n",
      "              precision    recall  f1-score   support\n",
      "\n",
      "           0       0.82      0.99      0.89       192\n",
      "           1       0.97      0.59      0.74       106\n",
      "\n",
      "    accuracy                           0.85       298\n",
      "   macro avg       0.89      0.79      0.82       298\n",
      "weighted avg       0.87      0.85      0.84       298\n",
      "\n"
     ]
    }
   ],
   "source": [
    "# utilizo el mejor rankeado\n",
    "best_rank =  DecisionTreeClassifier(criterion='entropy',max_depth=6 ,min_samples_leaf=8,random_state=100)\n",
    "                            \n",
    "best_rank.fit(X_train_1, y_train_1)\n",
    "y_train_pred3 = best_rank.predict(X_train_1)\n",
    "y_test_pred3 = best_rank.predict(X_test_1)\n",
    "#print(\"Reporte de train\")\n",
    "#print(classification_report(y_bal, y_train_pred, target_names=target_names))\n",
    "print(\"Reporte de test\")\n",
    "print(classification_report(y_test_1, y_test_pred3))"
   ]
  },
  {
   "cell_type": "code",
   "execution_count": 34,
   "metadata": {},
   "outputs": [
    {
     "name": "stdout",
     "output_type": "stream",
     "text": [
      "matriz de confusion test\n",
      "[[190   2]\n",
      " [ 43  63]]\n",
      "matriz de confusion test\n"
     ]
    },
    {
     "data": {
      "text/plain": [
       "<sklearn.metrics._plot.confusion_matrix.ConfusionMatrixDisplay at 0x7ffc93efff40>"
      ]
     },
     "execution_count": 34,
     "metadata": {},
     "output_type": "execute_result"
    },
    {
     "data": {
      "image/png": "[encoded data removed]",
      "text/plain": [
       "<Figure size 432x288 with 2 Axes>"
      ]
     },
     "metadata": {
      "needs_background": "light"
     },
     "output_type": "display_data"
    }
   ],
   "source": [
    "# Matriz de confusión\n",
    "cm3=confusion_matrix(y_test_1,y_test_pred3)\n",
    "print('matriz de confusion test')\n",
    "print(cm3)\n",
    "tn, fp, fn, tp = confusion_matrix(y_test_1,y_test_pred3).ravel()\n",
    "print('matriz de confusion test')\n",
    "plot_confusion_matrix(best_rank, X_test_1, y_test_1)"
   ]
  }
 ],
 "metadata": {
  "kernelspec": {
   "display_name": "Python 3",
   "language": "python",
   "name": "python3"
  },
  "language_info": {
   "codemirror_mode": {
    "name": "ipython",
    "version": 3
   },
   "file_extension": ".py",
   "mimetype": "text/x-python",
   "name": "python",
   "nbconvert_exporter": "python",
   "pygments_lexer": "ipython3",
   "version": "3.8.8"
  }
 },
 "nbformat": 4,
 "nbformat_minor": 4
}
