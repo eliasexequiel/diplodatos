{
 "cells": [
  {
   "cell_type": "markdown",
   "metadata": {},
   "source": [
    "# Diplodatos Kaggle Competition"
   ]
  },
  {
   "cell_type": "markdown",
   "metadata": {},
   "source": [
    "We present this peace of code to create the baseline for the competition, and as an example of how to deal with these kind of problems. The main goals are that you:\n",
    "\n",
    "1. Explore the data and learn from it\n",
    "1. Try different models and see which one fits the best the given data\n",
    "1. Get a higher score than the given one in the current baseline example\n",
    "1. Try to get the highest score in the class :)"
   ]
  },
  {
   "cell_type": "code",
   "execution_count": 1,
   "metadata": {},
   "outputs": [],
   "source": [
    "# Import the required packages\n",
    "import os\n",
    "\n",
    "import numpy as np\n",
    "import pandas as pd\n",
    "import matplotlib.pyplot as plt"
   ]
  },
  {
   "cell_type": "markdown",
   "metadata": {},
   "source": [
    "## Read Data"
   ]
  },
  {
   "cell_type": "code",
   "execution_count": 2,
   "metadata": {},
   "outputs": [],
   "source": [
    "train_df = pd.read_csv(\"travel_insurance_prediction_train.csv\")\n",
    "test_df = pd.read_csv(\"travel_insurance_prediction_test.csv\")"
   ]
  },
  {
   "cell_type": "markdown",
   "metadata": {},
   "source": [
    "## Explore the Data\n",
    "\n",
    "Is your task to explore the data, do analysis over it and get insights, then use those insights to better pick a model."
   ]
  },
  {
   "cell_type": "code",
   "execution_count": 3,
   "metadata": {},
   "outputs": [
    {
     "data": {
      "text/html": [
       "<div>\n",
       "<style scoped>\n",
       "    .dataframe tbody tr th:only-of-type {\n",
       "        vertical-align: middle;\n",
       "    }\n",
       "\n",
       "    .dataframe tbody tr th {\n",
       "        vertical-align: top;\n",
       "    }\n",
       "\n",
       "    .dataframe thead th {\n",
       "        text-align: right;\n",
       "    }\n",
       "</style>\n",
       "<table border=\"1\" class=\"dataframe\">\n",
       "  <thead>\n",
       "    <tr style=\"text-align: right;\">\n",
       "      <th></th>\n",
       "      <th>Customer</th>\n",
       "      <th>Age</th>\n",
       "      <th>Employment Type</th>\n",
       "      <th>GraduateOrNot</th>\n",
       "      <th>AnnualIncome</th>\n",
       "      <th>FamilyMembers</th>\n",
       "      <th>ChronicDiseases</th>\n",
       "      <th>FrequentFlyer</th>\n",
       "      <th>EverTravelledAbroad</th>\n",
       "      <th>TravelInsurance</th>\n",
       "    </tr>\n",
       "  </thead>\n",
       "  <tbody>\n",
       "    <tr>\n",
       "      <th>0</th>\n",
       "      <td>1</td>\n",
       "      <td>33</td>\n",
       "      <td>Private Sector/Self Employed</td>\n",
       "      <td>Yes</td>\n",
       "      <td>550000</td>\n",
       "      <td>6</td>\n",
       "      <td>0</td>\n",
       "      <td>No</td>\n",
       "      <td>No</td>\n",
       "      <td>1</td>\n",
       "    </tr>\n",
       "    <tr>\n",
       "      <th>1</th>\n",
       "      <td>2</td>\n",
       "      <td>28</td>\n",
       "      <td>Private Sector/Self Employed</td>\n",
       "      <td>Yes</td>\n",
       "      <td>800000</td>\n",
       "      <td>7</td>\n",
       "      <td>0</td>\n",
       "      <td>Yes</td>\n",
       "      <td>No</td>\n",
       "      <td>0</td>\n",
       "    </tr>\n",
       "    <tr>\n",
       "      <th>2</th>\n",
       "      <td>3</td>\n",
       "      <td>31</td>\n",
       "      <td>Private Sector/Self Employed</td>\n",
       "      <td>Yes</td>\n",
       "      <td>1250000</td>\n",
       "      <td>4</td>\n",
       "      <td>0</td>\n",
       "      <td>No</td>\n",
       "      <td>No</td>\n",
       "      <td>0</td>\n",
       "    </tr>\n",
       "    <tr>\n",
       "      <th>3</th>\n",
       "      <td>4</td>\n",
       "      <td>31</td>\n",
       "      <td>Government Sector</td>\n",
       "      <td>No</td>\n",
       "      <td>300000</td>\n",
       "      <td>7</td>\n",
       "      <td>0</td>\n",
       "      <td>No</td>\n",
       "      <td>No</td>\n",
       "      <td>0</td>\n",
       "    </tr>\n",
       "    <tr>\n",
       "      <th>4</th>\n",
       "      <td>5</td>\n",
       "      <td>28</td>\n",
       "      <td>Private Sector/Self Employed</td>\n",
       "      <td>Yes</td>\n",
       "      <td>1250000</td>\n",
       "      <td>3</td>\n",
       "      <td>0</td>\n",
       "      <td>No</td>\n",
       "      <td>No</td>\n",
       "      <td>0</td>\n",
       "    </tr>\n",
       "  </tbody>\n",
       "</table>\n",
       "</div>"
      ],
      "text/plain": [
       "   Customer  Age               Employment Type GraduateOrNot  AnnualIncome  \\\n",
       "0         1   33  Private Sector/Self Employed           Yes        550000   \n",
       "1         2   28  Private Sector/Self Employed           Yes        800000   \n",
       "2         3   31  Private Sector/Self Employed           Yes       1250000   \n",
       "3         4   31             Government Sector            No        300000   \n",
       "4         5   28  Private Sector/Self Employed           Yes       1250000   \n",
       "\n",
       "   FamilyMembers  ChronicDiseases FrequentFlyer EverTravelledAbroad  \\\n",
       "0              6                0            No                  No   \n",
       "1              7                0           Yes                  No   \n",
       "2              4                0            No                  No   \n",
       "3              7                0            No                  No   \n",
       "4              3                0            No                  No   \n",
       "\n",
       "   TravelInsurance  \n",
       "0                1  \n",
       "1                0  \n",
       "2                0  \n",
       "3                0  \n",
       "4                0  "
      ]
     },
     "execution_count": 3,
     "metadata": {},
     "output_type": "execute_result"
    }
   ],
   "source": [
    "train_df.head()"
   ]
  },
  {
   "cell_type": "code",
   "execution_count": 4,
   "metadata": {},
   "outputs": [
    {
     "data": {
      "text/html": [
       "<div>\n",
       "<style scoped>\n",
       "    .dataframe tbody tr th:only-of-type {\n",
       "        vertical-align: middle;\n",
       "    }\n",
       "\n",
       "    .dataframe tbody tr th {\n",
       "        vertical-align: top;\n",
       "    }\n",
       "\n",
       "    .dataframe thead th {\n",
       "        text-align: right;\n",
       "    }\n",
       "</style>\n",
       "<table border=\"1\" class=\"dataframe\">\n",
       "  <thead>\n",
       "    <tr style=\"text-align: right;\">\n",
       "      <th></th>\n",
       "      <th>Customer</th>\n",
       "      <th>Age</th>\n",
       "      <th>Employment Type</th>\n",
       "      <th>GraduateOrNot</th>\n",
       "      <th>AnnualIncome</th>\n",
       "      <th>FamilyMembers</th>\n",
       "      <th>ChronicDiseases</th>\n",
       "      <th>FrequentFlyer</th>\n",
       "      <th>EverTravelledAbroad</th>\n",
       "    </tr>\n",
       "  </thead>\n",
       "  <tbody>\n",
       "    <tr>\n",
       "      <th>0</th>\n",
       "      <td>1491</td>\n",
       "      <td>29</td>\n",
       "      <td>Private Sector/Self Employed</td>\n",
       "      <td>Yes</td>\n",
       "      <td>1100000</td>\n",
       "      <td>4</td>\n",
       "      <td>0</td>\n",
       "      <td>No</td>\n",
       "      <td>No</td>\n",
       "    </tr>\n",
       "    <tr>\n",
       "      <th>1</th>\n",
       "      <td>1492</td>\n",
       "      <td>28</td>\n",
       "      <td>Private Sector/Self Employed</td>\n",
       "      <td>Yes</td>\n",
       "      <td>750000</td>\n",
       "      <td>5</td>\n",
       "      <td>1</td>\n",
       "      <td>Yes</td>\n",
       "      <td>No</td>\n",
       "    </tr>\n",
       "    <tr>\n",
       "      <th>2</th>\n",
       "      <td>1493</td>\n",
       "      <td>31</td>\n",
       "      <td>Government Sector</td>\n",
       "      <td>Yes</td>\n",
       "      <td>1500000</td>\n",
       "      <td>4</td>\n",
       "      <td>0</td>\n",
       "      <td>Yes</td>\n",
       "      <td>Yes</td>\n",
       "    </tr>\n",
       "    <tr>\n",
       "      <th>3</th>\n",
       "      <td>1494</td>\n",
       "      <td>28</td>\n",
       "      <td>Private Sector/Self Employed</td>\n",
       "      <td>Yes</td>\n",
       "      <td>1400000</td>\n",
       "      <td>3</td>\n",
       "      <td>0</td>\n",
       "      <td>No</td>\n",
       "      <td>Yes</td>\n",
       "    </tr>\n",
       "    <tr>\n",
       "      <th>4</th>\n",
       "      <td>1495</td>\n",
       "      <td>33</td>\n",
       "      <td>Private Sector/Self Employed</td>\n",
       "      <td>Yes</td>\n",
       "      <td>1500000</td>\n",
       "      <td>4</td>\n",
       "      <td>0</td>\n",
       "      <td>Yes</td>\n",
       "      <td>Yes</td>\n",
       "    </tr>\n",
       "  </tbody>\n",
       "</table>\n",
       "</div>"
      ],
      "text/plain": [
       "   Customer  Age               Employment Type GraduateOrNot  AnnualIncome  \\\n",
       "0      1491   29  Private Sector/Self Employed           Yes       1100000   \n",
       "1      1492   28  Private Sector/Self Employed           Yes        750000   \n",
       "2      1493   31             Government Sector           Yes       1500000   \n",
       "3      1494   28  Private Sector/Self Employed           Yes       1400000   \n",
       "4      1495   33  Private Sector/Self Employed           Yes       1500000   \n",
       "\n",
       "   FamilyMembers  ChronicDiseases FrequentFlyer EverTravelledAbroad  \n",
       "0              4                0            No                  No  \n",
       "1              5                1           Yes                  No  \n",
       "2              4                0           Yes                 Yes  \n",
       "3              3                0            No                 Yes  \n",
       "4              4                0           Yes                 Yes  "
      ]
     },
     "execution_count": 4,
     "metadata": {},
     "output_type": "execute_result"
    }
   ],
   "source": [
    "test_df.head()"
   ]
  },
  {
   "cell_type": "markdown",
   "metadata": {},
   "source": [
    "**TravelInsurance** is the column that we should predict. That column is not present in the test set."
   ]
  },
  {
   "cell_type": "code",
   "execution_count": 5,
   "metadata": {},
   "outputs": [
    {
     "name": "stdout",
     "output_type": "stream",
     "text": [
      "<class 'pandas.core.frame.DataFrame'>\n",
      "RangeIndex: 1490 entries, 0 to 1489\n",
      "Data columns (total 10 columns):\n",
      " #   Column               Non-Null Count  Dtype \n",
      "---  ------               --------------  ----- \n",
      " 0   Customer             1490 non-null   int64 \n",
      " 1   Age                  1490 non-null   int64 \n",
      " 2   Employment Type      1490 non-null   object\n",
      " 3   GraduateOrNot        1490 non-null   object\n",
      " 4   AnnualIncome         1490 non-null   int64 \n",
      " 5   FamilyMembers        1490 non-null   int64 \n",
      " 6   ChronicDiseases      1490 non-null   int64 \n",
      " 7   FrequentFlyer        1490 non-null   object\n",
      " 8   EverTravelledAbroad  1490 non-null   object\n",
      " 9   TravelInsurance      1490 non-null   int64 \n",
      "dtypes: int64(6), object(4)\n",
      "memory usage: 116.5+ KB\n"
     ]
    }
   ],
   "source": [
    "train_df.info()"
   ]
  },
  {
   "cell_type": "code",
   "execution_count": 6,
   "metadata": {},
   "outputs": [
    {
     "name": "stdout",
     "output_type": "stream",
     "text": [
      "<class 'pandas.core.frame.DataFrame'>\n",
      "RangeIndex: 497 entries, 0 to 496\n",
      "Data columns (total 9 columns):\n",
      " #   Column               Non-Null Count  Dtype \n",
      "---  ------               --------------  ----- \n",
      " 0   Customer             497 non-null    int64 \n",
      " 1   Age                  497 non-null    int64 \n",
      " 2   Employment Type      497 non-null    object\n",
      " 3   GraduateOrNot        497 non-null    object\n",
      " 4   AnnualIncome         497 non-null    int64 \n",
      " 5   FamilyMembers        497 non-null    int64 \n",
      " 6   ChronicDiseases      497 non-null    int64 \n",
      " 7   FrequentFlyer        497 non-null    object\n",
      " 8   EverTravelledAbroad  497 non-null    object\n",
      "dtypes: int64(5), object(4)\n",
      "memory usage: 35.1+ KB\n"
     ]
    }
   ],
   "source": [
    "test_df.info()"
   ]
  },
  {
   "cell_type": "code",
   "execution_count": 7,
   "metadata": {},
   "outputs": [
    {
     "data": {
      "text/html": [
       "<div>\n",
       "<style scoped>\n",
       "    .dataframe tbody tr th:only-of-type {\n",
       "        vertical-align: middle;\n",
       "    }\n",
       "\n",
       "    .dataframe tbody tr th {\n",
       "        vertical-align: top;\n",
       "    }\n",
       "\n",
       "    .dataframe thead th {\n",
       "        text-align: right;\n",
       "    }\n",
       "</style>\n",
       "<table border=\"1\" class=\"dataframe\">\n",
       "  <thead>\n",
       "    <tr style=\"text-align: right;\">\n",
       "      <th></th>\n",
       "      <th>Customer</th>\n",
       "      <th>Age</th>\n",
       "      <th>AnnualIncome</th>\n",
       "      <th>FamilyMembers</th>\n",
       "      <th>ChronicDiseases</th>\n",
       "      <th>TravelInsurance</th>\n",
       "    </tr>\n",
       "  </thead>\n",
       "  <tbody>\n",
       "    <tr>\n",
       "      <th>count</th>\n",
       "      <td>1490.000000</td>\n",
       "      <td>1490.000000</td>\n",
       "      <td>1.490000e+03</td>\n",
       "      <td>1490.000000</td>\n",
       "      <td>1490.000000</td>\n",
       "      <td>1490.000000</td>\n",
       "    </tr>\n",
       "    <tr>\n",
       "      <th>mean</th>\n",
       "      <td>745.500000</td>\n",
       "      <td>29.667114</td>\n",
       "      <td>9.278188e+05</td>\n",
       "      <td>4.777181</td>\n",
       "      <td>0.275839</td>\n",
       "      <td>0.357047</td>\n",
       "    </tr>\n",
       "    <tr>\n",
       "      <th>std</th>\n",
       "      <td>430.270264</td>\n",
       "      <td>2.880994</td>\n",
       "      <td>3.811715e+05</td>\n",
       "      <td>1.640248</td>\n",
       "      <td>0.447086</td>\n",
       "      <td>0.479290</td>\n",
       "    </tr>\n",
       "    <tr>\n",
       "      <th>min</th>\n",
       "      <td>1.000000</td>\n",
       "      <td>25.000000</td>\n",
       "      <td>3.000000e+05</td>\n",
       "      <td>2.000000</td>\n",
       "      <td>0.000000</td>\n",
       "      <td>0.000000</td>\n",
       "    </tr>\n",
       "    <tr>\n",
       "      <th>25%</th>\n",
       "      <td>373.250000</td>\n",
       "      <td>28.000000</td>\n",
       "      <td>6.000000e+05</td>\n",
       "      <td>4.000000</td>\n",
       "      <td>0.000000</td>\n",
       "      <td>0.000000</td>\n",
       "    </tr>\n",
       "    <tr>\n",
       "      <th>50%</th>\n",
       "      <td>745.500000</td>\n",
       "      <td>29.000000</td>\n",
       "      <td>9.000000e+05</td>\n",
       "      <td>5.000000</td>\n",
       "      <td>0.000000</td>\n",
       "      <td>0.000000</td>\n",
       "    </tr>\n",
       "    <tr>\n",
       "      <th>75%</th>\n",
       "      <td>1117.750000</td>\n",
       "      <td>32.000000</td>\n",
       "      <td>1.250000e+06</td>\n",
       "      <td>6.000000</td>\n",
       "      <td>1.000000</td>\n",
       "      <td>1.000000</td>\n",
       "    </tr>\n",
       "    <tr>\n",
       "      <th>max</th>\n",
       "      <td>1490.000000</td>\n",
       "      <td>35.000000</td>\n",
       "      <td>1.800000e+06</td>\n",
       "      <td>9.000000</td>\n",
       "      <td>1.000000</td>\n",
       "      <td>1.000000</td>\n",
       "    </tr>\n",
       "  </tbody>\n",
       "</table>\n",
       "</div>"
      ],
      "text/plain": [
       "          Customer          Age  AnnualIncome  FamilyMembers  ChronicDiseases  \\\n",
       "count  1490.000000  1490.000000  1.490000e+03    1490.000000      1490.000000   \n",
       "mean    745.500000    29.667114  9.278188e+05       4.777181         0.275839   \n",
       "std     430.270264     2.880994  3.811715e+05       1.640248         0.447086   \n",
       "min       1.000000    25.000000  3.000000e+05       2.000000         0.000000   \n",
       "25%     373.250000    28.000000  6.000000e+05       4.000000         0.000000   \n",
       "50%     745.500000    29.000000  9.000000e+05       5.000000         0.000000   \n",
       "75%    1117.750000    32.000000  1.250000e+06       6.000000         1.000000   \n",
       "max    1490.000000    35.000000  1.800000e+06       9.000000         1.000000   \n",
       "\n",
       "       TravelInsurance  \n",
       "count      1490.000000  \n",
       "mean          0.357047  \n",
       "std           0.479290  \n",
       "min           0.000000  \n",
       "25%           0.000000  \n",
       "50%           0.000000  \n",
       "75%           1.000000  \n",
       "max           1.000000  "
      ]
     },
     "execution_count": 7,
     "metadata": {},
     "output_type": "execute_result"
    }
   ],
   "source": [
    "train_df.describe()"
   ]
  },
  {
   "cell_type": "code",
   "execution_count": 8,
   "metadata": {},
   "outputs": [
    {
     "data": {
      "text/html": [
       "<div>\n",
       "<style scoped>\n",
       "    .dataframe tbody tr th:only-of-type {\n",
       "        vertical-align: middle;\n",
       "    }\n",
       "\n",
       "    .dataframe tbody tr th {\n",
       "        vertical-align: top;\n",
       "    }\n",
       "\n",
       "    .dataframe thead th {\n",
       "        text-align: right;\n",
       "    }\n",
       "</style>\n",
       "<table border=\"1\" class=\"dataframe\">\n",
       "  <thead>\n",
       "    <tr style=\"text-align: right;\">\n",
       "      <th></th>\n",
       "      <th>Customer</th>\n",
       "      <th>Age</th>\n",
       "      <th>AnnualIncome</th>\n",
       "      <th>FamilyMembers</th>\n",
       "      <th>ChronicDiseases</th>\n",
       "    </tr>\n",
       "  </thead>\n",
       "  <tbody>\n",
       "    <tr>\n",
       "      <th>count</th>\n",
       "      <td>497.000000</td>\n",
       "      <td>497.000000</td>\n",
       "      <td>4.970000e+02</td>\n",
       "      <td>497.00000</td>\n",
       "      <td>497.000000</td>\n",
       "    </tr>\n",
       "    <tr>\n",
       "      <th>mean</th>\n",
       "      <td>1739.000000</td>\n",
       "      <td>29.599598</td>\n",
       "      <td>9.475855e+05</td>\n",
       "      <td>4.68008</td>\n",
       "      <td>0.283702</td>\n",
       "    </tr>\n",
       "    <tr>\n",
       "      <th>std</th>\n",
       "      <td>143.615807</td>\n",
       "      <td>3.010506</td>\n",
       "      <td>3.635818e+05</td>\n",
       "      <td>1.51347</td>\n",
       "      <td>0.451248</td>\n",
       "    </tr>\n",
       "    <tr>\n",
       "      <th>min</th>\n",
       "      <td>1491.000000</td>\n",
       "      <td>25.000000</td>\n",
       "      <td>3.000000e+05</td>\n",
       "      <td>2.00000</td>\n",
       "      <td>0.000000</td>\n",
       "    </tr>\n",
       "    <tr>\n",
       "      <th>25%</th>\n",
       "      <td>1615.000000</td>\n",
       "      <td>28.000000</td>\n",
       "      <td>6.500000e+05</td>\n",
       "      <td>4.00000</td>\n",
       "      <td>0.000000</td>\n",
       "    </tr>\n",
       "    <tr>\n",
       "      <th>50%</th>\n",
       "      <td>1739.000000</td>\n",
       "      <td>29.000000</td>\n",
       "      <td>9.500000e+05</td>\n",
       "      <td>4.00000</td>\n",
       "      <td>0.000000</td>\n",
       "    </tr>\n",
       "    <tr>\n",
       "      <th>75%</th>\n",
       "      <td>1863.000000</td>\n",
       "      <td>32.000000</td>\n",
       "      <td>1.250000e+06</td>\n",
       "      <td>6.00000</td>\n",
       "      <td>1.000000</td>\n",
       "    </tr>\n",
       "    <tr>\n",
       "      <th>max</th>\n",
       "      <td>1987.000000</td>\n",
       "      <td>35.000000</td>\n",
       "      <td>1.750000e+06</td>\n",
       "      <td>9.00000</td>\n",
       "      <td>1.000000</td>\n",
       "    </tr>\n",
       "  </tbody>\n",
       "</table>\n",
       "</div>"
      ],
      "text/plain": [
       "          Customer         Age  AnnualIncome  FamilyMembers  ChronicDiseases\n",
       "count   497.000000  497.000000  4.970000e+02      497.00000       497.000000\n",
       "mean   1739.000000   29.599598  9.475855e+05        4.68008         0.283702\n",
       "std     143.615807    3.010506  3.635818e+05        1.51347         0.451248\n",
       "min    1491.000000   25.000000  3.000000e+05        2.00000         0.000000\n",
       "25%    1615.000000   28.000000  6.500000e+05        4.00000         0.000000\n",
       "50%    1739.000000   29.000000  9.500000e+05        4.00000         0.000000\n",
       "75%    1863.000000   32.000000  1.250000e+06        6.00000         1.000000\n",
       "max    1987.000000   35.000000  1.750000e+06        9.00000         1.000000"
      ]
     },
     "execution_count": 8,
     "metadata": {},
     "output_type": "execute_result"
    }
   ],
   "source": [
    "test_df.describe()"
   ]
  },
  {
   "cell_type": "markdown",
   "metadata": {},
   "source": [
    "## Baseline\n",
    "\n",
    "In this section we present a baseline based on a decision tree classifier.\n",
    "\n",
    "Many of the attributes are binary, there are a couple of numeric attributes, we might be able to one-hot (e.g. family members), or event discretize (age and anual income), this will come more clearly after the EDA."
   ]
  },
  {
   "cell_type": "code",
   "execution_count": 9,
   "metadata": {},
   "outputs": [],
   "source": [
    "from sklearn.compose import make_column_transformer\n",
    "from sklearn.metrics import classification_report, confusion_matrix, plot_confusion_matrix, mean_squared_error\n",
    "from sklearn.model_selection import GridSearchCV, RandomizedSearchCV, ParameterGrid, train_test_split\n",
    "from sklearn.preprocessing import KBinsDiscretizer, OneHotEncoder, StandardScaler\n",
    "from sklearn.tree import DecisionTreeClassifier\n",
    "from sklearn.pipeline import make_pipeline\n",
    "from sklearn.linear_model import SGDClassifier, LogisticRegression\n",
    "from sklearn.ensemble import GradientBoostingClassifier"
   ]
  },
  {
   "cell_type": "markdown",
   "metadata": {},
   "source": [
    "### Transform the columns into features\n",
    "\n",
    "First we need to transform the columns into features. The type of features we use will have a direct impact on the final result. In this example we decided to discretize some numeric features and make a one hot encoding of others. The number of bins, what we use as a one hot encoding, etc, is all up to you to try it out."
   ]
  },
  {
   "cell_type": "code",
   "execution_count": 10,
   "metadata": {},
   "outputs": [],
   "source": [
    "transformer_b = make_column_transformer(\n",
    "    (KBinsDiscretizer(n_bins=5, encode=\"ordinal\", strategy=\"quantile\"), [\"Age\", \"AnnualIncome\"]),\n",
    "    (OneHotEncoder(categories=\"auto\", dtype=\"int\", handle_unknown=\"ignore\"),\n",
    "     [\"Employment Type\", \"GraduateOrNot\", \"FamilyMembers\", \"FrequentFlyer\", \"EverTravelledAbroad\"]),\n",
    "    remainder=\"passthrough\")"
   ]
  },
  {
   "cell_type": "markdown",
   "metadata": {},
   "source": [
    "We transform the train and test data. In order to avoid overfitting is better to remove the `Customer` column and we don't want the `TravelInsurance` column as part of the attributes either."
   ]
  },
  {
   "cell_type": "code",
   "execution_count": 11,
   "metadata": {},
   "outputs": [],
   "source": [
    "# The data for training the model\n",
    "X_train_b = transformer_b.fit_transform(train_df.drop(columns=[\"Customer\", \"TravelInsurance\"]))\n",
    "y_train_b = train_df[\"TravelInsurance\"].values\n",
    "\n",
    "# The test data is only for generating the submission\n",
    "X_test_b = transformer_b.transform(test_df.drop(columns=[\"Customer\"]))"
   ]
  },
  {
   "cell_type": "markdown",
   "metadata": {},
   "source": [
    "### Grid Search\n",
    "\n",
    "We do a Grid Search for the Decision Tree (this can be replaced by a randomized search if the model is too complex)."
   ]
  },
  {
   "cell_type": "code",
   "execution_count": 12,
   "metadata": {},
   "outputs": [],
   "source": [
    "search_params = {\n",
    "    'criterion': ['gini', 'entropy'],\n",
    "    'min_samples_leaf': [1, 2, 5],\n",
    "    'max_depth': [3, 6, 10]\n",
    "}\n",
    "tree = DecisionTreeClassifier(random_state=42)\n",
    "tree_clf = GridSearchCV(tree, search_params, cv=5, scoring='f1', n_jobs=-1)\n",
    "tree_clf.fit(X_train_b, y_train_b)\n",
    "\n",
    "best_tree_clf = tree_clf.best_estimator_"
   ]
  },
  {
   "cell_type": "markdown",
   "metadata": {},
   "source": [
    "### Check Results\n",
    "\n",
    "We can print the results of the best estimator found on the whole training set (we could also set apart a validation set if we find it useful)."
   ]
  },
  {
   "cell_type": "code",
   "execution_count": 13,
   "metadata": {},
   "outputs": [
    {
     "name": "stdout",
     "output_type": "stream",
     "text": [
      "              precision    recall  f1-score   support\n",
      "\n",
      "           0       0.83      0.94      0.88       958\n",
      "           1       0.86      0.66      0.75       532\n",
      "\n",
      "    accuracy                           0.84      1490\n",
      "   macro avg       0.85      0.80      0.82      1490\n",
      "weighted avg       0.84      0.84      0.84      1490\n",
      "\n"
     ]
    }
   ],
   "source": [
    "print(classification_report(y_train_b, best_tree_clf.predict(X_train_b)))"
   ]
  },
  {
   "cell_type": "markdown",
   "metadata": {},
   "source": [
    "## Generate the output\n",
    "\n",
    "The last thing we do is generating a file that should be *submitted* on kaggle"
   ]
  },
  {
   "cell_type": "code",
   "execution_count": 15,
   "metadata": {},
   "outputs": [],
   "source": [
    "test_id = test_df[\"Customer\"]\n",
    "test_pred = best_tree_clf.predict(X_test_b)\n",
    "\n",
    "submission_b = pd.DataFrame(list(zip(test_id, test_pred)), columns=[\"Customer\", \"TravelInsurance\"])\n",
    "submission_b.to_csv(\"travel_insurance_submission.csv\", header=True, index=False)"
   ]
  },
  {
   "cell_type": "markdown",
   "metadata": {},
   "source": []
  },
  {
   "cell_type": "code",
   "execution_count": 28,
   "metadata": {},
   "outputs": [
    {
     "data": {
      "text/plain": [
       "((1192, 8), (298, 8), (1192,), (298,))"
      ]
     },
     "execution_count": 28,
     "metadata": {},
     "output_type": "execute_result"
    }
   ],
   "source": [
    "# División entre instancias y etiquetas\n",
    "feature_names = ['Age', 'Employment Type', 'GraduateOrNot', 'AnnualIncome',\n",
    "       'FamilyMembers', 'ChronicDiseases', 'FrequentFlyer',\n",
    "       'EverTravelledAbroad']\n",
    "\n",
    "X, y = train_df[feature_names], train_df['TravelInsurance']\n",
    "X_train, X_val, y_train, y_val = train_test_split(X, y, train_size=0.8, random_state=0)\n",
    "X_train.shape, X_val.shape, y_train.shape, y_val.shape"
   ]
  },
  {
   "cell_type": "code",
   "execution_count": 29,
   "metadata": {},
   "outputs": [],
   "source": [
    "transformer = make_column_transformer(\n",
    "    (KBinsDiscretizer(n_bins=5, encode=\"ordinal\", strategy=\"quantile\"), [\"Age\", \"AnnualIncome\"]),\n",
    "    (OneHotEncoder(categories=\"auto\", dtype=\"int\", handle_unknown=\"ignore\"),\n",
    "     [\"Employment Type\", \"GraduateOrNot\", \"FrequentFlyer\", \"EverTravelledAbroad\", \"ChronicDiseases\"]),\n",
    "    remainder=\"passthrough\")"
   ]
  },
  {
   "cell_type": "code",
   "execution_count": 30,
   "metadata": {},
   "outputs": [],
   "source": [
    "# The data for training the model\n",
    "X_train_tr = transformer.fit_transform(X_train)\n",
    "y_train_tr = y_train\n",
    "\n",
    "# The test data is only for generating the submission\n",
    "X_val_tr = transformer.transform(X_val)\n",
    "y_val_tr = y_val"
   ]
  },
  {
   "cell_type": "markdown",
   "metadata": {},
   "source": [
    "### TRY 1"
   ]
  },
  {
   "cell_type": "code",
   "execution_count": 34,
   "metadata": {},
   "outputs": [
    {
     "name": "stdout",
     "output_type": "stream",
     "text": [
      "Reporte de test\n",
      "              precision    recall  f1-score   support\n",
      "\n",
      "           0       0.81      0.97      0.88       192\n",
      "           1       0.93      0.58      0.72       106\n",
      "\n",
      "    accuracy                           0.84       298\n",
      "   macro avg       0.87      0.78      0.80       298\n",
      "weighted avg       0.85      0.84      0.82       298\n",
      "\n"
     ]
    }
   ],
   "source": [
    "# GradientBoostingClassifier\n",
    "gbc = GradientBoostingClassifier(random_state=100)\n",
    "gbc.fit(X_train_tr, y_train_tr)\n",
    "y_train_pred1 = gbc.predict(X_train_tr)\n",
    "y_val_pred1 = gbc.predict(X_val_tr)\n",
    "#print(\"Reporte de train\")\n",
    "#print(classification_report(y_train_1, y_train_pred1))\n",
    "print(\"Reporte de test\")\n",
    "print(classification_report(y_val_tr, y_val_pred1)) "
   ]
  },
  {
   "cell_type": "code",
   "execution_count": 35,
   "metadata": {},
   "outputs": [
    {
     "data": {
      "text/plain": [
       "Pipeline(steps=[('columntransformer',\n",
       "                 ColumnTransformer(remainder='passthrough',\n",
       "                                   transformers=[('kbinsdiscretizer',\n",
       "                                                  KBinsDiscretizer(encode='ordinal'),\n",
       "                                                  ['Age', 'AnnualIncome']),\n",
       "                                                 ('onehotencoder',\n",
       "                                                  OneHotEncoder(dtype='int',\n",
       "                                                                handle_unknown='ignore'),\n",
       "                                                  ['Employment Type',\n",
       "                                                   'GraduateOrNot',\n",
       "                                                   'FrequentFlyer',\n",
       "                                                   'EverTravelledAbroad',\n",
       "                                                   'ChronicDiseases'])])),\n",
       "                ('gradientboostingclassifier',\n",
       "                 GradientBoostingClassifier(random_state=100))])"
      ]
     },
     "execution_count": 35,
     "metadata": {},
     "output_type": "execute_result"
    }
   ],
   "source": [
    "gb_pipe = make_pipeline(transformer, GradientBoostingClassifier(random_state=100))\n",
    "gb_pipe.fit(X, y)"
   ]
  },
  {
   "cell_type": "code",
   "execution_count": 36,
   "metadata": {},
   "outputs": [],
   "source": [
    "test_id = test_df[\"Customer\"]\n",
    "test_pred_gb = gb_pipe.predict(test_df.drop(columns=[\"Customer\"]))\n",
    "\n",
    "submission = pd.DataFrame(list(zip(test_id, test_pred_gb)), columns=[\"Customer\", \"TravelInsurance\"])\n",
    "submission.to_csv(\"travel_insurance_submission_gbc3.csv\", header=True, index=False)"
   ]
  },
  {
   "cell_type": "code",
   "execution_count": 26,
   "metadata": {},
   "outputs": [
    {
     "data": {
      "text/plain": [
       "Index(['Age', 'FrequentFlyer', 'AnnualIncome', 'FamilyMembers',\n",
       "       'ChronicDiseases', 'EverTravelledAbroad', 'GraduateOrNot',\n",
       "       'Employment Type'],\n",
       "      dtype='object')"
      ]
     },
     "execution_count": 26,
     "metadata": {},
     "output_type": "execute_result"
    }
   ],
   "source": [
    "X.columns"
   ]
  },
  {
   "cell_type": "code",
   "execution_count": 27,
   "metadata": {},
   "outputs": [
    {
     "data": {
      "text/plain": [
       "Index(['Customer', 'Age', 'Employment Type', 'GraduateOrNot', 'AnnualIncome',\n",
       "       'FamilyMembers', 'ChronicDiseases', 'FrequentFlyer',\n",
       "       'EverTravelledAbroad'],\n",
       "      dtype='object')"
      ]
     },
     "execution_count": 27,
     "metadata": {},
     "output_type": "execute_result"
    }
   ],
   "source": [
    "test_df.columns"
   ]
  }
 ],
 "metadata": {
  "kernelspec": {
   "display_name": "Python 3",
   "language": "python",
   "name": "python3"
  },
  "language_info": {
   "codemirror_mode": {
    "name": "ipython",
    "version": 3
   },
   "file_extension": ".py",
   "mimetype": "text/x-python",
   "name": "python",
   "nbconvert_exporter": "python",
   "pygments_lexer": "ipython3",
   "version": "3.8.8"
  }
 },
 "nbformat": 4,
 "nbformat_minor": 4
}
