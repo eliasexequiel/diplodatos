{
 "cells": [
  {
   "cell_type": "markdown",
   "metadata": {
    "id": "eqicWl7YT4U2"
   },
   "source": [
    "<center>\n",
    "    \n",
    "## Aprendizaje No Supervisado - DiploDatos\n",
    "    Laura Alonso Alemany, Ana Georgina Flesia y Valeria Rulloni\n",
    "## Embeddings y Agrupamiento con el FIFA 2019 dataset\n",
    "    \n",
    "Material basado en notas de Ana Georgina Flesia bajo los términos y condiciones de la licencia [Creative Commons CC BY-NC-SA 4.0](https://creativecommons.org/licenses/by-nc-sa/4.0/), a su vez basado de material de [SilveMel](https://www.kaggle.com/karangadiya/fifa19/downloads/data.csv/comments) y otros."
   ]
  },
  {
   "cell_type": "markdown",
   "metadata": {
    "id": "R9sHdkd4T4XJ"
   },
   "source": [
    "### Indice de temas\n",
    "1. [Inicialización del entorno](#1.-Inicialización-del-entorno)\n",
    "2. [Preparación de los datos](#2.-Preparación-de-los-datos)\n",
    "3. [Visualizacion con embeddings:tSNE](#3.-Visualizacion-con-embeddings:tSNE)\n",
    "4. [Componentes Principales](#4.-Componentes-Principales)\n",
    "5. [Clustering](#5.-Clustering)\n"
   ]
  },
  {
   "cell_type": "markdown",
   "metadata": {
    "id": "8WkivUyBT4Xa"
   },
   "source": [
    "## 1.-Inicialización-del-entorno"
   ]
  },
  {
   "cell_type": "markdown",
   "metadata": {
    "id": "g3ilim-IT4Xn"
   },
   "source": [
    "Empezamos cargando algunas herramientas para cargar los datos y manipularlos."
   ]
  },
  {
   "cell_type": "code",
   "execution_count": 1,
   "metadata": {
    "_cell_guid": "79c7e3d0-c299-4dcb-8224-4455121ee9b0",
    "_uuid": "d629ff2d2480ee46fbb7e2d37f6b5fab8052498a",
    "id": "4TtsY1kBT4Xt"
   },
   "outputs": [],
   "source": [
    "import numpy as np\n",
    "import pandas as pd\n",
    "pd.set_option('display.max_columns',100)\n",
    "pd.set_option('display.max_rows',1000)\n",
    "import itertools\n",
    "import warnings\n",
    "warnings.filterwarnings(\"ignore\")\n",
    "import io"
   ]
  },
  {
   "cell_type": "code",
   "execution_count": 2,
   "metadata": {
    "id": "2ItON9liWdi5"
   },
   "outputs": [],
   "source": [
    "from sklearn import (manifold, preprocessing, decomposition)\n",
    "import time"
   ]
  },
  {
   "cell_type": "code",
   "execution_count": 18,
   "metadata": {
    "colab": {
     "base_uri": "https://localhost:8080/",
     "height": 17
    },
    "executionInfo": {
     "elapsed": 3836,
     "status": "ok",
     "timestamp": 1631019403613,
     "user": {
      "displayName": "Valeria S RULLONI",
      "photoUrl": "",
      "userId": "09936144167370803067"
     },
     "user_tz": 180
    },
    "id": "tmbzQsMhT4X_",
    "outputId": "09892339-cd65-4ee9-d3fe-e027bfe7f7ff",
    "scrolled": true
   },
   "outputs": [
    {
     "ename": "ImportError",
     "evalue": "cannot import name 'iplot' from 'plotly' (/opt/conda/lib/python3.9/site-packages/plotly/__init__.py)",
     "output_type": "error",
     "traceback": [
      "\u001b[0;31m---------------------------------------------------------------------------\u001b[0m",
      "\u001b[0;31mImportError\u001b[0m                               Traceback (most recent call last)",
      "\u001b[0;32m/tmp/ipykernel_641/1242074022.py\u001b[0m in \u001b[0;36m<module>\u001b[0;34m\u001b[0m\n\u001b[0;32m----> 1\u001b[0;31m \u001b[0;32mfrom\u001b[0m \u001b[0mplotly\u001b[0m \u001b[0;32mimport\u001b[0m \u001b[0mplot\u001b[0m\u001b[0;34m,\u001b[0m\u001b[0miplot\u001b[0m\u001b[0;34m\u001b[0m\u001b[0;34m\u001b[0m\u001b[0m\n\u001b[0m\u001b[1;32m      2\u001b[0m \u001b[0;32mimport\u001b[0m \u001b[0mplotly\u001b[0m\u001b[0;34m.\u001b[0m\u001b[0mgraph_objs\u001b[0m \u001b[0;32mas\u001b[0m \u001b[0mgo\u001b[0m\u001b[0;34m\u001b[0m\u001b[0;34m\u001b[0m\u001b[0m\n\u001b[1;32m      3\u001b[0m \u001b[0minit_notebook_mode\u001b[0m\u001b[0;34m(\u001b[0m\u001b[0mconnected\u001b[0m\u001b[0;34m=\u001b[0m\u001b[0;32mTrue\u001b[0m\u001b[0;34m)\u001b[0m\u001b[0;34m\u001b[0m\u001b[0;34m\u001b[0m\u001b[0m\n\u001b[1;32m      4\u001b[0m \u001b[0;32mimport\u001b[0m \u001b[0mmatplotlib\u001b[0m\u001b[0;34m.\u001b[0m\u001b[0mpyplot\u001b[0m \u001b[0;32mas\u001b[0m \u001b[0mplt\u001b[0m\u001b[0;34m\u001b[0m\u001b[0;34m\u001b[0m\u001b[0m\n\u001b[1;32m      5\u001b[0m \u001b[0;32mimport\u001b[0m \u001b[0mplotly\u001b[0m\u001b[0;34m.\u001b[0m\u001b[0mtools\u001b[0m \u001b[0;32mas\u001b[0m \u001b[0mtls\u001b[0m\u001b[0;31m#visualization\u001b[0m\u001b[0;34m\u001b[0m\u001b[0;34m\u001b[0m\u001b[0m\n",
      "\u001b[0;31mImportError\u001b[0m: cannot import name 'iplot' from 'plotly' (/opt/conda/lib/python3.9/site-packages/plotly/__init__.py)"
     ]
    }
   ],
   "source": [
    "from plotly import plot,iplot\n",
    "import plotly.graph_objs as go\n",
    "init_notebook_mode(connected=True)\n",
    "import matplotlib.pyplot as plt\n",
    "import plotly.tools as tls#visualization\n",
    "import plotly.figure_factory as ff#visualization\n",
    "import seaborn as sns"
   ]
  },
  {
   "cell_type": "markdown",
   "metadata": {
    "id": "Y2tUFUIuT4YZ"
   },
   "source": [
    "## 2.-Preparación-de-los-datos"
   ]
  },
  {
   "cell_type": "markdown",
   "metadata": {
    "id": "BjOpjVOsT4ZQ"
   },
   "source": [
    "Cargamos los datos bajados de la database de [Kaggle](https://www.kaggle.com/karangadiya/fifa19) como 'data.csv'. "
   ]
  },
  {
   "cell_type": "code",
   "execution_count": 4,
   "metadata": {
    "id": "V_Dhog2hU-oK"
   },
   "outputs": [],
   "source": [
    "url='https://raw.githubusercontent.com/DiploDatos/AprendizajeNOSupervisado/master/2021/data.csv'\n"
   ]
  },
  {
   "cell_type": "code",
   "execution_count": 5,
   "metadata": {
    "id": "Dkhx5S-sT4Zq"
   },
   "outputs": [],
   "source": [
    "df=pd.read_csv(url)"
   ]
  },
  {
   "cell_type": "markdown",
   "metadata": {
    "id": "LyWdpwj7T4Z2"
   },
   "source": [
    "# 3.-Visualizacion-con-embeddings:tSNE"
   ]
  },
  {
   "cell_type": "markdown",
   "metadata": {
    "id": "rzhY4f53T4aM"
   },
   "source": [
    "**t-SNE : t-distributed Stochastic Neighbor Embedding.**\n",
    "\n",
    "t-SNE es una herramienta para visualizar datos altamente dimensionales. \n",
    "\n",
    "Los \"proyecta\" en menos dimensiones (2D o 3D) manteniendo la distancia entre ellos.\n",
    "\n",
    "Consideramos: filas/observaciones $x_i$ y $x_j$ (jugador i y jugador j) en $R^n$.\n",
    "\n",
    "Comienza convirtiendo distancias entre puntos (observaciones) en probabilidades condicionales. \n",
    "\n",
    "$d(x_i,x_j) \\rightarrow p(x_j|x_i)$, \n",
    "\n",
    "Y luego va acomodando puntos asociados (en el plano 2D o el espacio 2D) que \"ajusten\" las probabilidades condicionales.\n",
    "\n",
    "$x'_i$ y $x'_j$ en $R^2$  (para el jugador i y jugador j ) $p(x'_j|x'_i) \\leftrightarrow d(x'_i,x'_j)$, \n",
    "\n",
    "$p(x_j|x_i) \\approx p(x'_j|x'_i)$\n",
    "\n",
    "El ajuste consiste en minimizar la divergencia Kullback-Leibler entre las probabilidades condicionales establecidas en el espacio de mayor dimension y las determinadas en el espacio de menor dimension. \n",
    "\n",
    "\n",
    "El modelo de distribución de probabilidad es el de t-Student \n",
    "\n",
    "t-SNE tiene una función de costo que no es convexa, por lo cual diferentes inicializaciones pueden dar diferentes resultados.\n"
   ]
  },
  {
   "cell_type": "code",
   "execution_count": 6,
   "metadata": {
    "colab": {
     "base_uri": "https://localhost:8080/"
    },
    "executionInfo": {
     "elapsed": 304,
     "status": "ok",
     "timestamp": 1631019628071,
     "user": {
      "displayName": "Valeria S RULLONI",
      "photoUrl": "",
      "userId": "09936144167370803067"
     },
     "user_tz": 180
    },
    "id": "SIjEt1QmT4ap",
    "outputId": "9e2172bb-5c29-4d3f-e9df-89d2dce475b1"
   },
   "outputs": [
    {
     "name": "stdout",
     "output_type": "stream",
     "text": [
      "dimensión del espacio de los datos:  34\n"
     ]
    }
   ],
   "source": [
    "n_sne=2000 #elegir numero pequeño para agilidad en el cálculo luego\n",
    "df_sne=df.loc[:n_sne]\n",
    "skills_ratings = ['Crossing', 'Finishing', 'HeadingAccuracy', 'ShortPassing',\n",
    "                  'Volleys', 'Dribbling', 'Curve', 'FKAccuracy', 'LongPassing',\n",
    "                  'BallControl', 'Acceleration', 'SprintSpeed', 'Agility', 'Reactions',\n",
    "                  'Balance', 'ShotPower', 'Jumping', 'Stamina', 'Strength', 'LongShots',\n",
    "                  'Aggression', 'Interceptions', 'Positioning', 'Vision', 'Penalties', \n",
    "                  'Composure', 'Marking', 'StandingTackle', 'SlidingTackle',\n",
    "                  'GKDiving', 'GKHandling', 'GKKicking', 'GKPositioning', 'GKReflexes']\n",
    "X=df_sne[skills_ratings]\n",
    "print('dimensión del espacio de los datos: ', len(skills_ratings))"
   ]
  },
  {
   "cell_type": "code",
   "execution_count": 7,
   "metadata": {
    "colab": {
     "base_uri": "https://localhost:8080/",
     "height": 223
    },
    "executionInfo": {
     "elapsed": 295,
     "status": "ok",
     "timestamp": 1631019632653,
     "user": {
      "displayName": "Valeria S RULLONI",
      "photoUrl": "",
      "userId": "09936144167370803067"
     },
     "user_tz": 180
    },
    "id": "v0xtrrYHT4a1",
    "outputId": "b1a3446e-b638-48c6-c75d-5fbd441cc494"
   },
   "outputs": [
    {
     "data": {
      "text/html": [
       "<div>\n",
       "<style scoped>\n",
       "    .dataframe tbody tr th:only-of-type {\n",
       "        vertical-align: middle;\n",
       "    }\n",
       "\n",
       "    .dataframe tbody tr th {\n",
       "        vertical-align: top;\n",
       "    }\n",
       "\n",
       "    .dataframe thead th {\n",
       "        text-align: right;\n",
       "    }\n",
       "</style>\n",
       "<table border=\"1\" class=\"dataframe\">\n",
       "  <thead>\n",
       "    <tr style=\"text-align: right;\">\n",
       "      <th></th>\n",
       "      <th>Crossing</th>\n",
       "      <th>Finishing</th>\n",
       "      <th>HeadingAccuracy</th>\n",
       "      <th>ShortPassing</th>\n",
       "      <th>Volleys</th>\n",
       "      <th>Dribbling</th>\n",
       "      <th>Curve</th>\n",
       "      <th>FKAccuracy</th>\n",
       "      <th>LongPassing</th>\n",
       "      <th>BallControl</th>\n",
       "      <th>Acceleration</th>\n",
       "      <th>SprintSpeed</th>\n",
       "      <th>Agility</th>\n",
       "      <th>Reactions</th>\n",
       "      <th>Balance</th>\n",
       "      <th>ShotPower</th>\n",
       "      <th>Jumping</th>\n",
       "      <th>Stamina</th>\n",
       "      <th>Strength</th>\n",
       "      <th>LongShots</th>\n",
       "      <th>Aggression</th>\n",
       "      <th>Interceptions</th>\n",
       "      <th>Positioning</th>\n",
       "      <th>Vision</th>\n",
       "      <th>Penalties</th>\n",
       "      <th>Composure</th>\n",
       "      <th>Marking</th>\n",
       "      <th>StandingTackle</th>\n",
       "      <th>SlidingTackle</th>\n",
       "      <th>GKDiving</th>\n",
       "      <th>GKHandling</th>\n",
       "      <th>GKKicking</th>\n",
       "      <th>GKPositioning</th>\n",
       "      <th>GKReflexes</th>\n",
       "    </tr>\n",
       "  </thead>\n",
       "  <tbody>\n",
       "    <tr>\n",
       "      <th>0</th>\n",
       "      <td>84.0</td>\n",
       "      <td>95.0</td>\n",
       "      <td>70.0</td>\n",
       "      <td>90.0</td>\n",
       "      <td>86.0</td>\n",
       "      <td>97.0</td>\n",
       "      <td>93.0</td>\n",
       "      <td>94.0</td>\n",
       "      <td>87.0</td>\n",
       "      <td>96.0</td>\n",
       "      <td>91.0</td>\n",
       "      <td>86.0</td>\n",
       "      <td>91.0</td>\n",
       "      <td>95.0</td>\n",
       "      <td>95.0</td>\n",
       "      <td>85.0</td>\n",
       "      <td>68.0</td>\n",
       "      <td>72.0</td>\n",
       "      <td>59.0</td>\n",
       "      <td>94.0</td>\n",
       "      <td>48.0</td>\n",
       "      <td>22.0</td>\n",
       "      <td>94.0</td>\n",
       "      <td>94.0</td>\n",
       "      <td>75.0</td>\n",
       "      <td>96.0</td>\n",
       "      <td>33.0</td>\n",
       "      <td>28.0</td>\n",
       "      <td>26.0</td>\n",
       "      <td>6.0</td>\n",
       "      <td>11.0</td>\n",
       "      <td>15.0</td>\n",
       "      <td>14.0</td>\n",
       "      <td>8.0</td>\n",
       "    </tr>\n",
       "    <tr>\n",
       "      <th>1</th>\n",
       "      <td>84.0</td>\n",
       "      <td>94.0</td>\n",
       "      <td>89.0</td>\n",
       "      <td>81.0</td>\n",
       "      <td>87.0</td>\n",
       "      <td>88.0</td>\n",
       "      <td>81.0</td>\n",
       "      <td>76.0</td>\n",
       "      <td>77.0</td>\n",
       "      <td>94.0</td>\n",
       "      <td>89.0</td>\n",
       "      <td>91.0</td>\n",
       "      <td>87.0</td>\n",
       "      <td>96.0</td>\n",
       "      <td>70.0</td>\n",
       "      <td>95.0</td>\n",
       "      <td>95.0</td>\n",
       "      <td>88.0</td>\n",
       "      <td>79.0</td>\n",
       "      <td>93.0</td>\n",
       "      <td>63.0</td>\n",
       "      <td>29.0</td>\n",
       "      <td>95.0</td>\n",
       "      <td>82.0</td>\n",
       "      <td>85.0</td>\n",
       "      <td>95.0</td>\n",
       "      <td>28.0</td>\n",
       "      <td>31.0</td>\n",
       "      <td>23.0</td>\n",
       "      <td>7.0</td>\n",
       "      <td>11.0</td>\n",
       "      <td>15.0</td>\n",
       "      <td>14.0</td>\n",
       "      <td>11.0</td>\n",
       "    </tr>\n",
       "    <tr>\n",
       "      <th>2</th>\n",
       "      <td>79.0</td>\n",
       "      <td>87.0</td>\n",
       "      <td>62.0</td>\n",
       "      <td>84.0</td>\n",
       "      <td>84.0</td>\n",
       "      <td>96.0</td>\n",
       "      <td>88.0</td>\n",
       "      <td>87.0</td>\n",
       "      <td>78.0</td>\n",
       "      <td>95.0</td>\n",
       "      <td>94.0</td>\n",
       "      <td>90.0</td>\n",
       "      <td>96.0</td>\n",
       "      <td>94.0</td>\n",
       "      <td>84.0</td>\n",
       "      <td>80.0</td>\n",
       "      <td>61.0</td>\n",
       "      <td>81.0</td>\n",
       "      <td>49.0</td>\n",
       "      <td>82.0</td>\n",
       "      <td>56.0</td>\n",
       "      <td>36.0</td>\n",
       "      <td>89.0</td>\n",
       "      <td>87.0</td>\n",
       "      <td>81.0</td>\n",
       "      <td>94.0</td>\n",
       "      <td>27.0</td>\n",
       "      <td>24.0</td>\n",
       "      <td>33.0</td>\n",
       "      <td>9.0</td>\n",
       "      <td>9.0</td>\n",
       "      <td>15.0</td>\n",
       "      <td>15.0</td>\n",
       "      <td>11.0</td>\n",
       "    </tr>\n",
       "    <tr>\n",
       "      <th>3</th>\n",
       "      <td>17.0</td>\n",
       "      <td>13.0</td>\n",
       "      <td>21.0</td>\n",
       "      <td>50.0</td>\n",
       "      <td>13.0</td>\n",
       "      <td>18.0</td>\n",
       "      <td>21.0</td>\n",
       "      <td>19.0</td>\n",
       "      <td>51.0</td>\n",
       "      <td>42.0</td>\n",
       "      <td>57.0</td>\n",
       "      <td>58.0</td>\n",
       "      <td>60.0</td>\n",
       "      <td>90.0</td>\n",
       "      <td>43.0</td>\n",
       "      <td>31.0</td>\n",
       "      <td>67.0</td>\n",
       "      <td>43.0</td>\n",
       "      <td>64.0</td>\n",
       "      <td>12.0</td>\n",
       "      <td>38.0</td>\n",
       "      <td>30.0</td>\n",
       "      <td>12.0</td>\n",
       "      <td>68.0</td>\n",
       "      <td>40.0</td>\n",
       "      <td>68.0</td>\n",
       "      <td>15.0</td>\n",
       "      <td>21.0</td>\n",
       "      <td>13.0</td>\n",
       "      <td>90.0</td>\n",
       "      <td>85.0</td>\n",
       "      <td>87.0</td>\n",
       "      <td>88.0</td>\n",
       "      <td>94.0</td>\n",
       "    </tr>\n",
       "    <tr>\n",
       "      <th>4</th>\n",
       "      <td>93.0</td>\n",
       "      <td>82.0</td>\n",
       "      <td>55.0</td>\n",
       "      <td>92.0</td>\n",
       "      <td>82.0</td>\n",
       "      <td>86.0</td>\n",
       "      <td>85.0</td>\n",
       "      <td>83.0</td>\n",
       "      <td>91.0</td>\n",
       "      <td>91.0</td>\n",
       "      <td>78.0</td>\n",
       "      <td>76.0</td>\n",
       "      <td>79.0</td>\n",
       "      <td>91.0</td>\n",
       "      <td>77.0</td>\n",
       "      <td>91.0</td>\n",
       "      <td>63.0</td>\n",
       "      <td>90.0</td>\n",
       "      <td>75.0</td>\n",
       "      <td>91.0</td>\n",
       "      <td>76.0</td>\n",
       "      <td>61.0</td>\n",
       "      <td>87.0</td>\n",
       "      <td>94.0</td>\n",
       "      <td>79.0</td>\n",
       "      <td>88.0</td>\n",
       "      <td>68.0</td>\n",
       "      <td>58.0</td>\n",
       "      <td>51.0</td>\n",
       "      <td>15.0</td>\n",
       "      <td>13.0</td>\n",
       "      <td>5.0</td>\n",
       "      <td>10.0</td>\n",
       "      <td>13.0</td>\n",
       "    </tr>\n",
       "  </tbody>\n",
       "</table>\n",
       "</div>"
      ],
      "text/plain": [
       "   Crossing  Finishing  HeadingAccuracy  ShortPassing  Volleys  Dribbling  \\\n",
       "0      84.0       95.0             70.0          90.0     86.0       97.0   \n",
       "1      84.0       94.0             89.0          81.0     87.0       88.0   \n",
       "2      79.0       87.0             62.0          84.0     84.0       96.0   \n",
       "3      17.0       13.0             21.0          50.0     13.0       18.0   \n",
       "4      93.0       82.0             55.0          92.0     82.0       86.0   \n",
       "\n",
       "   Curve  FKAccuracy  LongPassing  BallControl  Acceleration  SprintSpeed  \\\n",
       "0   93.0        94.0         87.0         96.0          91.0         86.0   \n",
       "1   81.0        76.0         77.0         94.0          89.0         91.0   \n",
       "2   88.0        87.0         78.0         95.0          94.0         90.0   \n",
       "3   21.0        19.0         51.0         42.0          57.0         58.0   \n",
       "4   85.0        83.0         91.0         91.0          78.0         76.0   \n",
       "\n",
       "   Agility  Reactions  Balance  ShotPower  Jumping  Stamina  Strength  \\\n",
       "0     91.0       95.0     95.0       85.0     68.0     72.0      59.0   \n",
       "1     87.0       96.0     70.0       95.0     95.0     88.0      79.0   \n",
       "2     96.0       94.0     84.0       80.0     61.0     81.0      49.0   \n",
       "3     60.0       90.0     43.0       31.0     67.0     43.0      64.0   \n",
       "4     79.0       91.0     77.0       91.0     63.0     90.0      75.0   \n",
       "\n",
       "   LongShots  Aggression  Interceptions  Positioning  Vision  Penalties  \\\n",
       "0       94.0        48.0           22.0         94.0    94.0       75.0   \n",
       "1       93.0        63.0           29.0         95.0    82.0       85.0   \n",
       "2       82.0        56.0           36.0         89.0    87.0       81.0   \n",
       "3       12.0        38.0           30.0         12.0    68.0       40.0   \n",
       "4       91.0        76.0           61.0         87.0    94.0       79.0   \n",
       "\n",
       "   Composure  Marking  StandingTackle  SlidingTackle  GKDiving  GKHandling  \\\n",
       "0       96.0     33.0            28.0           26.0       6.0        11.0   \n",
       "1       95.0     28.0            31.0           23.0       7.0        11.0   \n",
       "2       94.0     27.0            24.0           33.0       9.0         9.0   \n",
       "3       68.0     15.0            21.0           13.0      90.0        85.0   \n",
       "4       88.0     68.0            58.0           51.0      15.0        13.0   \n",
       "\n",
       "   GKKicking  GKPositioning  GKReflexes  \n",
       "0       15.0           14.0         8.0  \n",
       "1       15.0           14.0        11.0  \n",
       "2       15.0           15.0        11.0  \n",
       "3       87.0           88.0        94.0  \n",
       "4        5.0           10.0        13.0  "
      ]
     },
     "execution_count": 7,
     "metadata": {},
     "output_type": "execute_result"
    }
   ],
   "source": [
    "X.head(5)"
   ]
  },
  {
   "cell_type": "markdown",
   "metadata": {
    "id": "wXL_hYE6T4a8"
   },
   "source": [
    "Transformamos el espacio de dim 34 en un espacio de dimensión 2 (n_components=2)"
   ]
  },
  {
   "cell_type": "code",
   "execution_count": 8,
   "metadata": {
    "colab": {
     "base_uri": "https://localhost:8080/"
    },
    "executionInfo": {
     "elapsed": 17188,
     "status": "ok",
     "timestamp": 1631019768879,
     "user": {
      "displayName": "Valeria S RULLONI",
      "photoUrl": "",
      "userId": "09936144167370803067"
     },
     "user_tz": 180
    },
    "id": "I2q_SF8iT4bB",
    "outputId": "c4a1171c-24ce-4488-a070-5b75e942a22f"
   },
   "outputs": [
    {
     "name": "stdout",
     "output_type": "stream",
     "text": [
      "[t-SNE] Computing 91 nearest neighbors...\n",
      "[t-SNE] Indexed 2001 samples in 0.001s...\n",
      "[t-SNE] Computed neighbors for 2001 samples in 0.197s...\n",
      "[t-SNE] Computed conditional probabilities for sample 1000 / 2001\n",
      "[t-SNE] Computed conditional probabilities for sample 2000 / 2001\n",
      "[t-SNE] Computed conditional probabilities for sample 2001 / 2001\n",
      "[t-SNE] Mean sigma: 13.884664\n",
      "[t-SNE] KL divergence after 250 iterations with early exaggeration: 66.681221\n",
      "[t-SNE] KL divergence after 1000 iterations: 1.333557\n",
      "t-SNE done! Time elapsed: 8.826093673706055 seconds\n"
     ]
    }
   ],
   "source": [
    "time_start = time.time()\n",
    "\n",
    "tsne = manifold.TSNE(n_components=2, verbose=1,perplexity=30, n_iter=1000)\n",
    "X_tsne = tsne.fit_transform(X)\n",
    "\n",
    "print ('t-SNE done! Time elapsed: {} seconds'.format(time.time()-time_start))"
   ]
  },
  {
   "cell_type": "markdown",
   "metadata": {
    "id": "Q27GJz7OT4bJ"
   },
   "source": [
    "**El resultado (X_tsne) se guarda en una arreglo numpy**\n",
    "\n",
    "de tamaño:\n",
    "\n",
    "cantidad de filas = cantidad de jugadores considerados = n_tsne y\n",
    "\n",
    "cantidad de columnas= n_components = 2 "
   ]
  },
  {
   "cell_type": "code",
   "execution_count": 9,
   "metadata": {
    "colab": {
     "base_uri": "https://localhost:8080/"
    },
    "executionInfo": {
     "elapsed": 291,
     "status": "ok",
     "timestamp": 1631020251256,
     "user": {
      "displayName": "Valeria S RULLONI",
      "photoUrl": "",
      "userId": "09936144167370803067"
     },
     "user_tz": 180
    },
    "id": "-y_Rc3jWT4bL",
    "outputId": "7ea738b0-3c4b-4efd-bd30-dc30cf9794f5"
   },
   "outputs": [
    {
     "data": {
      "text/plain": [
       "array([[-12.894019  ,  49.72029   ],\n",
       "       [  2.4058776 , -11.949529  ],\n",
       "       [  0.38748994,  25.166117  ],\n",
       "       [ 23.108826  , -53.35932   ],\n",
       "       [ 54.49767   ,  -0.7851723 ],\n",
       "       [ 14.26691   , -40.19826   ],\n",
       "       [  5.034265  ,  42.860565  ],\n",
       "       [ 11.673755  , -50.773186  ],\n",
       "       [ -6.6981335 , -18.497002  ],\n",
       "       [-16.400711  ,  32.57023   ]], dtype=float32)"
      ]
     },
     "execution_count": 9,
     "metadata": {},
     "output_type": "execute_result"
    }
   ],
   "source": [
    "X_tsne[1990:2000] #diez jugadores"
   ]
  },
  {
   "cell_type": "markdown",
   "metadata": {
    "id": "89s2SJ76T4bO"
   },
   "source": [
    "**GRAFICAMOS: Scatter plot** \n",
    "\n",
    "Las variables que usamos para el scatterplot son las 2 componentes dadas por tSNE\n",
    "\n",
    "agregamos los nombres de los ckack (\"Overall\" más de 85) y vemos una tercera variable recorriendo los puntos sobre el gráfico"
   ]
  },
  {
   "cell_type": "code",
   "execution_count": 10,
   "metadata": {
    "id": "Z_Yox2eOT4bQ"
   },
   "outputs": [],
   "source": [
    "data=[]\n",
    "bool_crack=df_sne[\"Overall\"] > 85 #diferenciamos a los mejores jugadores\n",
    "\n",
    "#graficamos los datos en el espacio transformado: las dos componentes tsne\n",
    "\n",
    "graf1 = go.Scatter(x=X_tsne[:,0], y=X_tsne[:,1],\n",
    "                           mode='markers',\n",
    "                        text=df_sne.loc[:,'Position'], #'Height', 'Weight', 'Club', 'Age', 'Name','Position'\n",
    "                           marker=dict(\n",
    "                                size=5)\n",
    "                           )\n",
    "\n",
    "crack =go.Scatter(x=X_tsne[bool_crack,0], y=X_tsne[bool_crack,1],name='Los más mejores',\n",
    "                      text=df_sne.loc[bool_crack,'Name'],\n",
    "                      textfont=dict(family='sans serif',size=10,color='black'),\n",
    "                      opacity=0.9,mode='text')\n",
    "\n",
    "data=[graf1,crack]\n",
    "\n",
    "layout = go.Layout(title=\"Visualización de la base en el espacio tsne\",titlefont=dict(size=20),\n",
    "                xaxis=dict(title='componente 1'),\n",
    "                yaxis=dict(title='componente 2'),\n",
    "                autosize=False, width=1000,height=700)\n",
    "\n",
    "fig = go.Figure(data=data, layout=layout)\n",
    "\n",
    "#iplot(fig)\n",
    "#plot(fig)"
   ]
  },
  {
   "cell_type": "code",
   "execution_count": 12,
   "metadata": {},
   "outputs": [
    {
     "ename": "NameError",
     "evalue": "name 'plotly' is not defined",
     "output_type": "error",
     "traceback": [
      "\u001b[0;31m---------------------------------------------------------------------------\u001b[0m",
      "\u001b[0;31mNameError\u001b[0m                                 Traceback (most recent call last)",
      "\u001b[0;32m/tmp/ipykernel_641/2489731951.py\u001b[0m in \u001b[0;36m<module>\u001b[0;34m\u001b[0m\n\u001b[0;32m----> 1\u001b[0;31m \u001b[0mplotly\u001b[0m\u001b[0;34m.\u001b[0m\u001b[0moffline\u001b[0m\u001b[0;34m.\u001b[0m\u001b[0minit_notebook_mode\u001b[0m\u001b[0;34m(\u001b[0m\u001b[0mconnected\u001b[0m\u001b[0;34m=\u001b[0m\u001b[0;32mTrue\u001b[0m\u001b[0;34m)\u001b[0m\u001b[0;34m\u001b[0m\u001b[0;34m\u001b[0m\u001b[0m\n\u001b[0m",
      "\u001b[0;31mNameError\u001b[0m: name 'plotly' is not defined"
     ]
    }
   ],
   "source": [
    "plotly.offline.init_notebook_mode(connected=True)"
   ]
  },
  {
   "cell_type": "code",
   "execution_count": 11,
   "metadata": {
    "colab": {
     "base_uri": "https://localhost:8080/",
     "height": 717
    },
    "executionInfo": {
     "elapsed": 564,
     "status": "ok",
     "timestamp": 1631020683845,
     "user": {
      "displayName": "Valeria S RULLONI",
      "photoUrl": "",
      "userId": "09936144167370803067"
     },
     "user_tz": 180
    },
    "id": "yc4m3m4WYVtf",
    "outputId": "7781453f-de6d-4b96-b408-2833699137f1",
    "scrolled": false
   },
   "outputs": [
    {
     "data": {
      "text/html": [
       "<html>\n",
       "<head><meta charset=\"utf-8\" /></head>\n",
       "<body>\n",
       "    <div>            <script src=\"https://cdnjs.cloudflare.com/ajax/libs/mathjax/2.7.5/MathJax.js?config=TeX-AMS-MML_SVG\"></script><script type=\"text/javascript\">if (window.MathJax) {MathJax.Hub.Config({SVG: {font: \"STIX-Web\"}});}</script>                <script type=\"text/javascript\">window.PlotlyConfig = {MathJaxConfig: 'local'};</script>\n",
       "        <script src=\"https://cdn.plot.ly/plotly-2.4.2.min.js\"></script>                <div id=\"d5e779f5-f546-4fee-a25c-45d7e0f82eae\" class=\"plotly-graph-div\" style=\"height:700px; width:1000px;\"></div>            <script type=\"text/javascript\">                                    window.PLOTLYENV=window.PLOTLYENV || {};                                    if (document.getElementById(\"d5e779f5-f546-4fee-a25c-45d7e0f82eae\")) {                    Plotly.newPlot(                        \"d5e779f5-f546-4fee-a25c-45d7e0f82eae\",                        [{\"marker\":{\"size\":5},\"mode\":\"markers\",\"text\":[\"RF\",\"ST\",\"LW\",\"GK\",\"RCM\",\"LF\",\"RCM\",\"RS\",\"RCB\",\"GK\",\"ST\",\"LCM\",\"CB\",\"LCM\",\"LDM\",\"LF\",\"ST\",\"CAM\",\"GK\",\"GK\",\"CDM\",\"LS\",\"GK\",\"ST\",\"LCB\",\"RM\",\"RM\",\"CDM\",\"LAM\",\"LW\",\"LW\",\"CAM\",\"LW\",\"LM\",\"LCB\",\"LB\",\"ST\",\"GK\",\"LS\",\"RCB\",\"GK\",\"GK\",\"CB\",\"ST\",\"LCB\",\"RDM\",\"GK\",\"ST\",\"ST\",\"LB\",\"RF\",\"LCB\",\"LCM\",\"RCM\",\"RCB\",\"LW\",\"RW\",\"GK\",\"LM\",\"LCB\",\"RW\",\"CAM\",\"RCB\",\"LCM\",\"LB\",\"LM\",\"CAM\",\"CM\",\"LM\",\"RB\",\"RCB\",\"RCB\",\"CDM\",\"CB\",\"CAM\",\"CDM\",\"LF\",\"LCB\",\"CM\",\"RW\",\"CAM\",\"GK\",\"RCM\",\"RCM\",\"RW\",\"LB\",\"LM\",\"ST\",\"LCB\",\"CB\",\"RCM\",\"LDM\",\"GK\",\"RW\",\"LM\",\"RCB\",\"CAM\",\"LM\",\"ST\",\"RCM\",\"LS\",\"CAM\",\"CB\",\"LM\",\"CB\",\"ST\",\"LB\",\"CB\",\"RCB\",\"RS\",\"RCB\",\"RCB\",\"LB\",\"LCB\",\"LCM\",\"CB\",\"LW\",\"LCM\",\"CDM\",\"LDM\",\"CDM\",\"CM\",\"RM\",\"RB\",\"ST\",\"LM\",\"GK\",\"CB\",\"GK\",\"RAM\",\"ST\",\"GK\",\"CDM\",\"GK\",\"RDM\",\"RB\",\"CM\",\"RM\",\"RM\",\"ST\",\"RW\",\"GK\",\"CDM\",\"LCM\",\"CAM\",\"ST\",\"RCB\",\"GK\",\"RS\",\"GK\",\"RCB\",\"LS\",\"CB\",\"RM\",\"RM\",\"RW\",\"ST\",\"RW\",\"LCB\",\"ST\",\"LCB\",\"CM\",\"CM\",\"LM\",\"LM\",\"CB\",\"CAM\",\"RW\",\"CM\",\"CM\",\"RM\",\"RAM\",\"RW\",\"LM\",\"LS\",\"RCB\",\"LCM\",\"GK\",\"RCM\",\"ST\",\"GK\",\"CB\",\"RCB\",\"RW\",\"CM\",\"LM\",\"RM\",\"CDM\",\"CB\",\"GK\",\"RCM\",\"CB\",\"RB\",\"ST\",\"LCM\",\"LCM\",\"GK\",\"GK\",\"RDM\",\"RM\",\"LB\",\"GK\",\"RCB\",\"CDM\",\"ST\",\"LCM\",\"LS\",\"LCB\",\"CAM\",\"LCB\",\"GK\",\"RM\",\"GK\",\"GK\",\"GK\",\"CDM\",\"RB\",\"LDM\",\"GK\",\"CM\",\"CM\",\"LM\",\"GK\",\"RDM\",\"GK\",\"GK\",\"RCB\",\"CM\",\"LCM\",\"GK\",\"RCM\",\"RCB\",\"GK\",\"RM\",\"LM\",\"LCM\",\"RW\",\"GK\",\"LB\",\"LCB\",\"LCM\",\"LB\",\"RCM\",\"RM\",\"LM\",\"CB\",\"RM\",\"RB\",\"LCB\",\"CDM\",\"CM\",\"ST\",\"LS\",\"LM\",\"CAM\",\"LCM\",\"RM\",\"CB\",\"RB\",\"LCB\",\"RM\",\"CB\",\"CM\",\"CAM\",\"LCB\",\"ST\",\"GK\",\"RS\",\"ST\",\"RCM\",\"LS\",\"CF\",\"LF\",\"CB\",\"RCB\",\"ST\",\"RB\",\"LCB\",\"LCM\",\"GK\",\"CM\",\"RCB\",\"CAM\",\"RW\",\"CM\",\"GK\",\"LM\",\"CDM\",\"RM\",\"CAM\",\"RB\",\"LB\",\"CAM\",\"CF\",\"LS\",\"CAM\",\"RCM\",\"ST\",\"RDM\",\"CDM\",\"RCB\",\"LCB\",\"CAM\",\"LCB\",\"ST\",\"CB\",\"CM\",\"RCB\",\"LCB\",\"GK\",\"GK\",\"CB\",\"GK\",\"CDM\",\"RB\",\"ST\",\"ST\",\"GK\",\"GK\",\"LW\",\"CAM\",\"LM\",\"LCB\",\"LDM\",\"RB\",\"CAM\",\"LM\",\"CB\",\"LCM\",\"LS\",\"LS\",\"LDM\",\"RM\",\"LDM\",\"LW\",\"RM\",\"LCB\",\"CAM\",\"GK\",\"RB\",\"RCM\",\"RB\",\"LB\",\"LM\",\"RDM\",\"LS\",\"LS\",\"LW\",\"LB\",\"LCB\",\"CF\",\"LM\",\"LB\",\"CDM\",\"RB\",\"RW\",\"RM\",\"RS\",\"LB\",\"GK\",\"CAM\",\"ST\",\"ST\",\"LM\",\"LDM\",\"LAM\",\"LDM\",\"RW\",\"RCB\",\"RCB\",\"CAM\",\"RM\",\"GK\",\"CB\",\"CM\",\"RW\",\"LM\",\"RCB\",\"RCM\",\"CAM\",\"CAM\",\"ST\",\"CF\",\"CB\",\"LW\",\"GK\",\"RCB\",\"RCB\",\"LCB\",\"LM\",\"RM\",\"CM\",\"RB\",\"RM\",\"RB\",\"RM\",\"LB\",\"RW\",\"LCM\",\"RM\",\"GK\",\"RCM\",\"CAM\",\"RS\",\"ST\",\"LM\",\"CM\",\"CF\",\"LM\",\"CM\",\"LCB\",\"LS\",\"ST\",\"CAM\",\"CM\",\"LM\",\"RM\",\"RB\",\"CAM\",\"LB\",\"CDM\",\"CAM\",\"RCB\",\"RS\",\"RB\",\"LDM\",\"GK\",\"RCM\",\"LB\",\"LCM\",\"ST\",\"CB\",\"CB\",\"LM\",\"LCM\",\"CM\",\"RW\",\"RM\",\"GK\",\"GK\",\"RM\",\"LS\",\"RCM\",\"LB\",\"LDM\",\"LB\",\"RDM\",\"GK\",\"CM\",\"CAM\",\"RWB\",\"RCB\",\"CM\",\"RDM\",\"LB\",\"CB\",\"RS\",\"LM\",\"LM\",\"RM\",\"ST\",\"LS\",\"GK\",\"GK\",\"RB\",\"RWB\",\"GK\",\"CB\",\"RCB\",\"RS\",\"CDM\",\"LCB\",\"CDM\",\"LB\",\"LWB\",\"LB\",\"ST\",\"LM\",\"LCB\",\"ST\",\"ST\",\"CM\",\"RB\",\"CB\",\"LCB\",\"RS\",\"RM\",\"RB\",\"RB\",\"CAM\",\"LB\",\"LM\",\"RB\",\"CB\",\"LB\",\"GK\",\"CAM\",\"RCM\",\"RW\",\"ST\",\"GK\",\"CAM\",\"RW\",\"CDM\",\"GK\",\"CDM\",\"CB\",\"CAM\",\"CDM\",\"GK\",\"RCB\",\"ST\",\"GK\",\"CM\",\"LB\",\"CM\",\"RCB\",\"RWB\",\"ST\",\"LB\",\"LB\",\"LCM\",\"LDM\",\"ST\",\"LW\",\"CAM\",\"GK\",\"LCB\",\"RF\",\"ST\",\"CAM\",\"LCM\",\"LCB\",\"LCB\",\"CB\",\"CDM\",\"RCB\",\"CB\",\"LCB\",\"ST\",\"LS\",\"GK\",\"RDM\",\"RB\",\"GK\",\"LCM\",\"RM\",\"LDM\",\"GK\",\"RB\",\"LCB\",\"GK\",\"ST\",\"LS\",\"GK\",\"RM\",\"RCB\",\"RW\",\"RM\",\"LCM\",\"ST\",\"ST\",\"CM\",\"ST\",\"GK\",\"LCM\",\"CB\",\"RB\",\"GK\",\"ST\",\"RM\",\"GK\",\"RDM\",\"CDM\",\"LM\",\"LW\",\"LCB\",\"CAM\",\"GK\",\"RW\",\"LS\",\"LWB\",\"LW\",\"CDM\",\"CB\",\"CAM\",\"ST\",\"CM\",\"ST\",\"RS\",\"RB\",\"ST\",\"ST\",\"RDM\",\"RCM\",\"RCM\",\"LM\",\"LDM\",\"LM\",\"LW\",\"RM\",\"LWB\",\"RM\",\"CAM\",\"CB\",\"LWB\",\"LB\",\"LDM\",\"RS\",\"GK\",\"RCM\",\"CDM\",\"CB\",\"CM\",\"RCB\",\"LB\",\"LCB\",\"CB\",\"CDM\",\"LCB\",\"GK\",\"ST\",\"LCM\",\"LM\",\"LM\",\"RCM\",\"LB\",\"CDM\",\"RCB\",\"CB\",\"CDM\",\"LB\",\"CAM\",\"RCB\",\"GK\",\"RCB\",\"RB\",\"LW\",\"RW\",\"CAM\",\"CDM\",\"CM\",\"LM\",\"CAM\",\"RM\",\"RB\",\"CAM\",\"GK\",\"ST\",\"RCB\",\"CDM\",\"CM\",\"RWB\",\"ST\",\"CB\",\"LM\",\"CAM\",\"RCB\",\"LB\",\"ST\",\"LM\",\"ST\",\"ST\",\"CF\",\"RM\",\"RB\",\"GK\",\"RB\",\"LCB\",\"RB\",\"CDM\",\"CM\",\"CB\",\"CDM\",\"LCM\",\"LS\",\"RDM\",\"RB\",\"LDM\",\"LB\",\"GK\",\"CM\",\"ST\",\"RB\",\"RM\",\"CM\",\"CDM\",\"RM\",\"RCB\",\"RS\",\"GK\",\"CB\",\"LCB\",\"ST\",\"RS\",\"ST\",\"GK\",\"GK\",\"ST\",\"CDM\",\"CM\",\"CDM\",\"GK\",\"GK\",\"GK\",\"CDM\",\"LB\",\"CB\",\"RM\",\"LS\",\"GK\",\"CAM\",\"CB\",\"CAM\",\"LM\",\"CAM\",\"LM\",\"LB\",\"GK\",\"LS\",\"CDM\",\"ST\",\"GK\",\"RB\",\"ST\",\"CM\",\"RS\",\"LCB\",\"RW\",\"RM\",\"LB\",\"LW\",\"LS\",\"CDM\",\"GK\",\"RB\",\"CAM\",\"CDM\",\"RB\",\"CAM\",\"LB\",\"RCM\",\"LB\",\"CAM\",\"RB\",\"LB\",\"CM\",\"LS\",\"LM\",\"GK\",\"CAM\",\"RCM\",\"LM\",\"CAM\",\"CB\",\"CB\",\"LW\",\"LCM\",\"ST\",\"RM\",\"GK\",\"RCM\",\"LS\",\"LS\",\"LCM\",\"LDM\",\"RWB\",\"LCB\",\"GK\",\"RCB\",\"RCB\",\"ST\",\"LM\",\"CB\",\"CM\",\"CM\",\"RB\",\"RB\",\"RB\",\"GK\",\"LCB\",\"CB\",\"RS\",\"LM\",\"RM\",\"RCB\",\"CDM\",\"LWB\",\"GK\",\"LM\",\"LB\",\"CM\",\"CB\",\"LCM\",\"CB\",\"RM\",\"LW\",\"LWB\",\"CDM\",\"RCM\",\"RW\",\"LB\",\"CAM\",\"GK\",\"CM\",\"CDM\",\"RB\",\"CM\",\"RW\",\"CM\",\"GK\",\"RM\",\"RW\",\"LM\",\"LCM\",\"RB\",\"RW\",\"CB\",\"RS\",\"GK\",\"CM\",\"RS\",\"RCM\",\"RS\",\"ST\",\"ST\",\"RB\",\"GK\",\"CAM\",\"CM\",\"RCB\",\"LCB\",\"RM\",\"RCB\",\"LS\",\"CDM\",\"CM\",\"CAM\",\"RCB\",\"CB\",\"LM\",\"CB\",\"LCB\",\"CM\",\"LS\",\"LCB\",\"CDM\",\"ST\",\"CM\",\"GK\",\"CB\",\"LCM\",\"CAM\",\"RDM\",\"CAM\",\"CB\",\"LW\",\"RB\",\"RW\",\"CM\",\"LCM\",\"CDM\",\"RW\",\"GK\",\"CB\",\"CDM\",\"LS\",\"LM\",\"LCM\",\"CAM\",\"RCB\",\"GK\",\"RDM\",\"RM\",\"ST\",\"LB\",\"CDM\",\"GK\",\"LCB\",\"CB\",\"RCM\",\"RCB\",\"GK\",\"RW\",\"CM\",\"CAM\",\"RCM\",\"LM\",\"LB\",\"RCB\",\"RF\",\"LM\",\"LCM\",\"RM\",\"RM\",\"ST\",\"CAM\",\"RM\",\"CM\",\"LB\",\"LM\",\"CB\",\"RM\",\"LM\",\"CM\",\"LCB\",\"CB\",\"CM\",\"CAM\",\"ST\",\"LS\",\"LW\",\"ST\",\"LCB\",\"LCM\",\"LM\",\"CM\",\"LDM\",\"CDM\",\"CM\",\"GK\",\"LB\",\"CAM\",\"RDM\",\"RM\",\"ST\",\"GK\",\"RM\",\"ST\",\"CDM\",\"CAM\",\"LB\",\"RCM\",\"LW\",\"CB\",\"CB\",\"LM\",\"GK\",\"CM\",\"CM\",\"LB\",\"ST\",\"RB\",\"CM\",\"CAM\",\"LB\",\"CB\",\"CB\",\"ST\",\"RCB\",\"CAM\",\"CAM\",\"ST\",\"CB\",\"GK\",\"ST\",\"GK\",\"RS\",\"CB\",\"RDM\",\"CDM\",\"GK\",\"ST\",\"RM\",\"LS\",\"CAM\",\"RM\",\"LM\",\"RS\",\"LS\",\"RS\",\"CDM\",\"RB\",\"ST\",\"RB\",\"CB\",\"RWB\",\"GK\",\"CM\",\"LW\",\"LW\",\"ST\",\"RCM\",\"CM\",\"RB\",\"CB\",\"CAM\",\"RCB\",\"GK\",\"CM\",\"RB\",\"LDM\",\"ST\",\"CDM\",\"ST\",\"LM\",\"RCM\",\"RM\",\"RM\",\"RB\",\"RCM\",\"LS\",\"CB\",\"ST\",\"RM\",\"RB\",\"LB\",\"ST\",\"ST\",\"CDM\",\"LM\",\"RM\",\"ST\",\"GK\",\"CDM\",\"CM\",\"RCB\",\"RCM\",\"CB\",\"RS\",\"CB\",\"RM\",\"ST\",\"RS\",\"GK\",\"RWB\",\"RCB\",\"ST\",\"RCM\",\"LM\",\"RS\",\"GK\",\"ST\",\"RCB\",\"LCM\",\"LCB\",\"RB\",\"CB\",\"RB\",\"RCB\",\"ST\",\"RS\",\"CDM\",\"CB\",\"LM\",\"CM\",\"LCM\",\"RCB\",\"LB\",\"LM\",\"CB\",\"CM\",\"ST\",\"GK\",\"LW\",\"RCM\",\"ST\",\"RDM\",\"GK\",\"GK\",\"CM\",\"CB\",\"ST\",\"ST\",\"LDM\",\"LM\",\"RS\",\"LB\",\"RCM\",\"RB\",\"RS\",\"GK\",\"LCM\",\"RCB\",\"ST\",\"GK\",\"CB\",\"RCM\",\"CB\",\"CM\",\"LWB\",\"LM\",\"CB\",\"RB\",\"RCB\",\"CM\",\"CB\",\"CDM\",\"ST\",\"CDM\",\"ST\",\"ST\",\"RS\",\"RM\",\"ST\",\"ST\",\"RCB\",\"LM\",\"ST\",\"CB\",\"GK\",\"CB\",\"CAM\",\"ST\",\"LM\",\"RM\",\"LM\",\"RB\",\"RB\",\"LCM\",\"LCB\",\"LB\",\"GK\",\"LCM\",\"CB\",\"RB\",\"ST\",\"CB\",\"RM\",\"ST\",\"GK\",\"RM\",\"RM\",\"LM\",\"LS\",\"RS\",\"LM\",\"LM\",\"LB\",\"CM\",\"RB\",\"LCB\",\"CAM\",\"LM\",\"CB\",\"CAM\",\"CAM\",\"ST\",\"LB\",\"RCB\",\"GK\",\"CM\",\"LCM\",\"LW\",\"LCM\",\"LCB\",\"CAM\",\"GK\",\"LWB\",\"RCM\",\"LB\",\"RB\",\"LCB\",\"RDM\",\"RB\",\"LS\",\"CM\",\"LB\",\"GK\",\"LW\",\"RM\",\"ST\",\"CM\",\"GK\",\"LM\",\"CAM\",\"RCM\",\"LCB\",\"LCM\",\"CAM\",\"CAM\",\"RCM\",\"RCM\",\"LB\",\"RCB\",\"RM\",\"CM\",\"LCM\",\"RCB\",\"RCB\",\"LCB\",\"RDM\",\"CAM\",\"CM\",\"ST\",\"ST\",\"RCB\",\"CDM\",\"RB\",\"ST\",\"ST\",\"RB\",\"RM\",\"LCB\",\"LB\",\"CAM\",\"RB\",\"CDM\",\"CB\",\"GK\",\"LDM\",\"LM\",\"LWB\",\"LCB\",\"GK\",\"CM\",\"ST\",\"LB\",\"RW\",\"RW\",\"RM\",\"RM\",\"GK\",\"GK\",\"LCM\",\"ST\",\"ST\",\"RCB\",\"LB\",\"CM\",\"CB\",\"LDM\",\"LCM\",\"LM\",\"RS\",\"GK\",\"ST\",\"RCB\",\"GK\",\"LCB\",\"CDM\",\"RCM\",\"CDM\",\"CDM\",\"ST\",\"ST\",\"CB\",\"ST\",\"LB\",\"RM\",\"ST\",\"CM\",\"CAM\",\"RCM\",\"CDM\",\"RM\",\"LM\",\"LB\",\"GK\",\"CDM\",\"ST\",\"LM\",\"LCB\",\"RM\",\"RB\",\"CM\",\"CF\",\"ST\",\"LM\",\"RDM\",\"CAM\",\"LCM\",\"RCM\",\"LCB\",\"ST\",\"RM\",\"CAM\",\"CB\",\"LB\",\"LW\",\"LB\",\"CAM\",\"LCB\",\"CAM\",\"RCM\",\"RW\",\"ST\",\"RM\",\"RW\",\"RM\",\"RCB\",\"ST\",\"RB\",\"RDM\",\"RCM\",\"CM\",\"LCB\",\"GK\",\"LW\",\"CAM\",\"CAM\",\"RM\",\"ST\",\"CAM\",\"GK\",\"LCM\",\"ST\",\"RM\",\"RM\",\"RM\",\"CAM\",\"CB\",\"CAM\",\"RCB\",\"CB\",\"RDM\",\"CAM\",\"GK\",\"LB\",\"CAM\",\"ST\",\"LCM\",\"RCM\",\"LB\",\"CDM\",\"RCM\",\"CM\",\"LM\",\"LCB\",\"CM\",\"RDM\",\"LB\",\"CF\",\"LCB\",\"CF\",\"LB\",\"LCM\",\"ST\",\"RCB\",\"ST\",\"RCB\",\"ST\",\"RB\",\"ST\",\"CB\",\"LM\",\"LS\",\"LB\",\"RCB\",\"LM\",\"LCM\",\"CDM\",\"LW\",\"RM\",\"CB\",\"LS\",\"RM\",\"ST\",\"LDM\",\"GK\",\"GK\",\"RB\",\"RW\",\"RM\",\"GK\",\"CAM\",\"LCB\",\"ST\",\"LB\",\"LCB\",\"GK\",\"CDM\",\"ST\",\"ST\",\"GK\",\"LCM\",\"RM\",\"RCB\",\"CAM\",\"RDM\",\"LM\",\"CB\",\"ST\",\"ST\",\"GK\",\"RS\",\"RCB\",\"RCB\",\"RM\",\"LF\",\"RDM\",\"RB\",\"RDM\",\"GK\",\"CAM\",\"LW\",\"ST\",\"LW\",\"LCB\",\"LB\",\"LCB\",\"ST\",\"RCB\",\"ST\",\"LCM\",\"LCB\",\"RCB\",\"ST\",\"LCB\",\"RB\",\"RM\",\"LB\",\"LCB\",\"ST\",\"ST\",\"CAM\",\"RB\",\"CAM\",\"RS\",\"ST\",\"LCB\",\"GK\",\"RDM\",\"ST\",\"RB\",\"RM\",\"CAM\",\"RCM\",\"ST\",\"LB\",\"ST\",\"LB\",\"ST\",\"LW\",\"RCB\",\"CB\",\"GK\",\"RCB\",\"RB\",\"RCB\",\"CDM\",\"CB\",\"GK\",\"RCB\",\"LM\",\"RB\",\"LB\",\"CB\",\"RCM\",\"LS\",\"LM\",\"RB\",\"CM\",\"RW\",\"RB\",\"LDM\",\"RCM\",\"RB\",\"ST\",\"LF\",\"CDM\",\"RCB\",\"LB\",\"RM\",\"GK\",\"RB\",\"LB\",\"CB\",\"GK\",\"RM\",\"GK\",\"CM\",\"LB\",\"LM\",\"CB\",\"LCM\",\"ST\",\"RM\",\"LCM\",\"LCM\",\"LM\",\"LM\",\"RM\",\"LCB\",\"LS\",\"LB\",\"CDM\",\"RCM\",\"LWB\",\"LB\",\"GK\",\"RCB\",\"RM\",\"RB\",\"LS\",\"RB\",\"LB\",\"CB\",\"CDM\",\"RM\",\"CAM\",\"RM\",\"RM\",\"GK\",\"LCB\",\"CB\",\"ST\",\"RM\",\"LCM\",\"CB\",\"CAM\",\"RM\",\"LCM\",\"RDM\",\"RCB\",\"CM\",\"CB\",\"ST\",\"RWB\",\"RM\",\"GK\",\"LM\",\"ST\",\"CB\",\"LCB\",\"LW\",\"LS\",\"LCB\",\"GK\",\"LM\",\"LW\",\"RCM\",\"CAM\",\"RB\",\"CM\",\"RDM\",\"RB\",\"LW\",\"LB\",\"RB\",\"RCM\",\"RM\",\"GK\",\"RM\",\"LCB\",\"LDM\",\"LB\",\"RS\",\"RW\",\"ST\",\"CDM\",\"CAM\",\"ST\",\"CM\",\"GK\",\"LWB\",\"LDM\",\"RB\",\"LCM\",\"GK\",\"LM\",\"RCB\",\"CDM\",\"RCB\",\"CAM\",\"RCB\",\"GK\",\"GK\",\"RM\",\"ST\",\"CM\",\"LCM\",\"LCB\",\"RDM\",\"RCM\",\"CB\",\"RM\",\"RCM\",\"LB\",\"CAM\",\"CM\",\"LCB\",\"RCM\",\"LCB\",\"RB\",\"CB\",\"CM\",\"RM\",\"LM\",\"CB\",\"CM\",\"LM\",\"CAM\",\"RM\",\"CM\",\"RM\",\"CB\",\"LAM\",\"GK\",\"ST\",\"LM\",\"LCB\",\"ST\",\"LCB\",\"CAM\",\"LB\",\"CB\",\"CDM\",\"CDM\",\"CB\",\"LDM\",\"CM\",\"CDM\",\"CDM\",\"LB\",\"CDM\",\"ST\",\"LM\",\"GK\",\"CAM\",\"RB\",\"LCM\",\"LM\",\"GK\",\"RCB\",\"CB\",\"CM\",\"CAM\",\"CAM\",\"LCB\",\"GK\",\"GK\",\"LM\",\"CAM\",\"ST\",\"CB\",\"LM\",\"RW\",\"CM\",\"CDM\",\"CM\",\"CM\",\"LB\",\"LM\",\"CAM\",\"CDM\",\"LM\",\"RB\",\"CAM\",\"ST\",\"CM\",\"GK\",\"GK\",\"CB\",\"CB\",\"CB\",\"CAM\",\"ST\",\"LDM\",\"RS\",\"LB\",\"LCB\",\"RM\",\"RCB\",\"CDM\",\"LCB\",\"RCM\",\"RS\",\"LW\",\"CB\",\"LB\",\"GK\",\"RW\",\"RWB\",\"LB\",\"LM\",\"LB\",\"RDM\",\"GK\",\"RDM\",\"RWB\",\"RDM\",\"LCM\",\"LB\",\"RCB\",\"RM\",\"GK\",\"CB\",\"LCB\",\"ST\",\"LM\",\"RCM\",\"LCB\",\"RM\",\"GK\",\"RDM\",\"RCM\",\"CM\",\"GK\",\"LM\",\"LWB\",\"CF\",\"LM\",\"LWB\",\"RDM\",\"LM\",\"RCM\",\"LM\",\"RCB\",\"CDM\",\"CM\",\"RDM\",\"RM\",\"CDM\",\"GK\",\"RAM\",\"LB\",\"RM\",\"RB\",\"LW\",\"LS\",\"CAM\",\"CM\",\"CB\",\"CM\",\"CDM\",\"CM\",\"CAM\",\"CAM\",\"LM\",\"GK\",\"ST\",\"RM\",\"CB\",\"RDM\",\"LB\",\"RM\",\"ST\",\"RCB\",\"LS\",\"LS\",\"CB\",\"LDM\",\"RM\",\"RM\",\"LB\",\"LCB\",\"CDM\",\"LB\",\"RCB\",\"ST\",\"RM\",\"RDM\",\"LM\",\"GK\",\"CDM\",\"LCB\",\"LCB\",\"LM\",\"RCM\",\"RCB\",\"LWB\",\"RB\",\"LCB\",\"LM\",\"RM\",\"CDM\",\"CM\",\"RCM\",\"RB\",\"RCM\",\"CM\",\"LM\",\"GK\",\"CDM\",\"CAM\",\"GK\",\"RB\",\"RCB\",\"RB\",\"LS\",\"LCB\",\"CDM\",\"CM\",\"RF\",\"RM\",\"CAM\",\"GK\",\"ST\",\"CAM\",\"GK\",\"LM\",\"RCB\",\"LB\",\"ST\",\"GK\",\"LS\",\"LS\",\"RDM\",\"GK\",\"ST\",\"LCM\",\"GK\",\"RB\",\"RW\",\"RCM\",\"CAM\",\"RDM\",\"GK\",\"RS\",\"LM\",\"RDM\",\"ST\",\"LCM\",\"GK\",\"ST\",\"RM\",\"ST\",\"CB\",\"CM\",\"RCB\",\"LB\",\"RS\",\"LWB\",\"CM\",\"RM\",\"CAM\",\"LCM\",\"LW\",\"RW\",\"LW\",\"RCB\",\"GK\",\"ST\",\"RB\",\"LCM\",\"CDM\",\"LS\",\"LM\",\"RM\",\"CAM\",\"CB\",\"RCM\",\"CB\",\"CF\",\"LM\",\"CAM\",\"LB\",\"ST\",\"CDM\",\"LCB\",\"GK\",\"ST\",\"LW\",\"RB\",\"LCB\",\"RM\",\"RCB\",\"GK\",\"LCB\",\"LCM\",\"LM\",\"ST\",\"CB\",\"CM\",\"RCB\",\"LM\",\"CB\",\"RCM\",\"LW\",\"LCM\",\"RCB\",\"LCM\",\"LCB\",\"RDM\",\"GK\",\"RM\",\"RB\",\"LM\",\"RB\",\"GK\",\"LS\",\"LCM\",\"CDM\",\"RS\",\"LDM\",\"CM\",\"LCB\",\"RB\",\"CB\",\"CM\",\"LCM\",\"RCB\",\"RB\",\"CDM\",\"CM\",\"LS\",\"RW\",\"LB\",\"RB\",\"CB\",\"RM\",\"LCM\",\"RM\",\"CM\",\"CB\",\"LCB\",\"RDM\",\"CM\",\"RB\",\"LB\",\"CAM\",\"LM\",\"CM\",\"LCB\",\"LCM\",\"ST\",\"LCB\",\"LB\",\"LB\",\"LW\",\"LCB\",\"RM\",\"CM\",\"RCM\",\"GK\",\"RCM\",\"LM\",\"LB\",\"LB\",\"RM\",\"ST\",\"LDM\",\"GK\",\"GK\",\"CB\",\"CB\",\"ST\",\"RM\",\"CDM\",\"RCB\",\"LB\",\"CM\",\"CAM\",\"GK\",\"GK\",\"ST\",\"CAM\",\"RB\",\"RCM\",\"ST\",\"LCB\",\"RDM\",\"LB\",\"CDM\",\"CM\",\"ST\",\"LCB\",\"RDM\",\"ST\",\"LCB\",\"LCB\",\"LCM\",\"RM\",\"RCM\",\"LDM\",\"LCB\",\"CM\",\"RCM\",\"RDM\",\"RB\",\"LCB\",\"CDM\",\"LCB\",\"RM\",\"CB\",\"RM\",\"RM\",\"RW\",\"CAM\",\"LB\",\"ST\",\"LCM\",\"RCM\",\"RWB\",\"RW\",\"CAM\",\"LB\",\"GK\",\"RB\",\"LB\",\"CDM\",\"LCM\",\"RCB\",\"RDM\",\"GK\",\"LM\",\"GK\",\"RCM\",\"RDM\",\"CB\",\"LW\",\"RDM\",\"ST\",\"GK\",\"RS\",\"CB\",\"RM\",\"LDM\",\"RCM\",\"CB\"],\"type\":\"scatter\",\"x\":[13.315159797668457,14.943174362182617,13.012564659118652,52.59006881713867,-10.217474937438965,12.804288864135742,-11.710921287536621,14.668275833129883,6.481111526489258,48.036155700683594,16.7416934967041,-20.35291862487793,-5.126428127288818,-14.19692611694336,-18.387001037597656,12.716137886047363,16.38602066040039,13.5242919921875,46.88994598388672,48.989803314208984,6.07926607131958,16.864009857177734,52.462745666503906,14.903780937194824,-12.313775062561035,9.67786979675293,8.11441707611084,4.178418159484863,-15.019942283630371,-14.48299789428711,-12.366941452026367,-13.94916820526123,-13.389305114746094,11.692134857177734,2.0271172523498535,-22.507604598999023,9.745183944702148,48.08791732788086,19.029146194458008,5.583837032318115,47.000083923339844,49.388092041015625,5.985196113586426,20.58434295654297,-16.95981788635254,3.767672300338745,48.44447708129883,21.775264739990234,20.492027282714844,-24.28777313232422,-11.226912498474121,4.523586273193359,-12.245682716369629,-20.267778396606445,1.6293342113494873,10.028972625732422,-11.810943603515625,53.087432861328125,8.820165634155273,3.9619901180267334,-11.79967212677002,8.396711349487305,-18.312374114990234,-20.178483963012695,-20.212953567504883,-11.617382049560547,9.510400772094727,-11.830418586730957,10.65982437133789,-18.01396942138672,3.177762985229492,4.218066692352295,-13.97255802154541,-14.296727180480957,-16.375913619995117,-7.276493549346924,-13.474682807922363,-14.59427547454834,-6.487453460693359,-13.556379318237305,11.502615928649902,55.18733215332031,-23.104703903198242,-7.122408866882324,-12.141963005065918,-17.187265396118164,-12.432222366333008,12.426505088806152,-16.956188201904297,-5.582463264465332,-19.366901397705078,-6.663454532623291,51.14723205566406,12.949646949768066,-12.149243354797363,-2.4357833862304688,-5.622941017150879,9.066411018371582,30.740320205688477,8.878458976745605,28.108673095703125,-9.232806205749512,4.367958068847656,-18.971410751342773,-14.63252067565918,18.565282821655273,-18.288631439208984,-0.2593686878681183,-12.347729682922363,17.52574920654297,-14.007107734680176,-12.792844772338867,-17.643342971801758,-3.1967971324920654,-10.08137321472168,-4.259434223175049,10.789921760559082,3.4819371700286865,-16.89703941345215,-20.04270362854004,6.057504653930664,-14.36501693725586,10.64996337890625,-24.949291229248047,11.464288711547852,9.872133255004883,50.47054672241211,-12.766674995422363,54.89127731323242,-9.564446449279785,14.245128631591797,47.03060531616211,8.828577995300293,55.57938003540039,-6.036917686462402,-20.346359252929688,-13.451775550842285,8.730813026428223,3.8030130863189697,6.150355815887451,-11.767498016357422,51.703487396240234,-13.717697143554688,-6.175779342651367,-14.982349395751953,15.757033348083496,-13.79480266571045,50.967437744140625,17.321184158325195,53.0914306640625,-8.542386054992676,-11.463668823242188,-11.615477561950684,-10.860187530517578,11.719253540039062,-11.065181732177734,13.568318367004395,10.68136978149414,-17.743066787719727,25.56427764892578,-19.57897186279297,-5.755311965942383,-6.881278038024902,-8.758319854736328,2.03532075881958,-17.06270980834961,5.6199564933776855,11.994890213012695,-7.264476299285889,-14.51752758026123,9.329500198364258,-12.197043418884277,-2.1550328731536865,5.9744110107421875,21.195110321044922,-14.497775077819824,-7.474019527435303,62.2018928527832,-11.107630729675293,4.5469818115234375,52.41140365600586,-13.893019676208496,-19.62075424194336,-15.00904369354248,-0.5223296284675598,-1.5748355388641357,4.99130916595459,-6.516054630279541,-20.16086769104004,56.492591857910156,-18.48784065246582,0.6843109130859375,-18.04401397705078,10.825380325317383,-10.019866943359375,-4.828744411468506,51.24175262451172,54.23856735229492,-12.392617225646973,3.7110278606414795,-18.722272872924805,53.20459747314453,-9.808308601379395,-16.600357055664062,34.313968658447266,-8.149798393249512,16.605422973632812,0.16010265052318573,5.025850772857666,4.824390888214111,54.451229095458984,-13.450318336486816,50.74527359008789,49.08713912963867,50.11722183227539,-0.8152095079421997,-7.805967330932617,-12.64551830291748,53.94990539550781,-15.398907661437988,-7.789827823638916,-11.846708297729492,57.544342041015625,5.146787166595459,48.6794548034668,59.59447479248047,-1.3484441041946411,-9.256476402282715,-11.430051803588867,50.24745178222656,-18.31501007080078,-5.325073719024658,47.5374870300293,-8.387763977050781,7.476691246032715,-15.693538665771484,-7.32456111907959,55.22160720825195,-23.729934692382812,-15.723374366760254,15.415858268737793,-27.365131378173828,0.9569832682609558,-10.198708534240723,-8.456239700317383,-12.114530563354492,-7.039369106292725,-22.545480728149414,-13.093212127685547,-10.200508117675781,-11.512487411499023,26.593225479125977,21.600421905517578,-10.323441505432129,4.132462501525879,-18.12769317626953,-8.310369491577148,-16.399578094482422,-15.920873641967773,-1.1204429864883423,-4.77591609954834,1.154915452003479,-8.221210479736328,-6.389840602874756,-16.020435333251953,18.786508560180664,53.55278396606445,12.138153076171875,18.505990982055664,-10.612530708312988,5.0601701736450195,-16.26862144470215,-8.186860084533691,-10.032402992248535,-6.684881687164307,27.920860290527344,-25.576005935668945,-3.977407455444336,-7.251224040985107,56.58058547973633,-12.91501522064209,-5.695650577545166,-13.251991271972656,-7.181880950927734,-12.325453758239746,51.171199798583984,4.749441146850586,7.970973014831543,4.101698875427246,-11.13164234161377,-19.513458251953125,-18.938074111938477,-17.597993850708008,-11.458806991577148,6.751904010772705,-9.311934471130371,-15.262889862060547,8.364136695861816,-8.288019180297852,-0.053670573979616165,-4.37345552444458,-2.8235952854156494,-11.956764221191406,-3.2281081676483154,33.357913970947266,-13.640698432922363,-12.362763404846191,3.3943819999694824,-6.551663398742676,51.24197769165039,62.35485076904297,-16.34395980834961,57.3101921081543,-16.569007873535156,-15.982101440429688,15.246879577636719,29.081680297851562,61.75800704956055,49.614654541015625,8.505256652832031,-10.037020683288574,6.0540618896484375,-18.630653381347656,-26.023618698120117,-30.835058212280273,-5.917388916015625,-6.073342800140381,-17.16288948059082,-5.568557262420654,6.83013916015625,-9.939610481262207,-12.074718475341797,-10.2417631149292,-15.013607025146484,22.382265090942383,-11.017398834228516,-17.679872512817383,-7.171753406524658,58.38055419921875,-24.541404724121094,-6.741544246673584,-25.5438289642334,-20.324438095092773,-7.141171932220459,-7.7513017654418945,20.014301300048828,19.019424438476562,11.222704887390137,-24.55139923095703,-4.76140832901001,23.958951950073242,6.734792709350586,-26.779664993286133,-5.897680759429932,-23.52164649963379,-9.73727035522461,4.724192142486572,25.82905387878418,-17.844257354736328,57.273311614990234,-17.24172592163086,11.376267433166504,19.46761131286621,9.998656272888184,3.802212953567505,-3.0644514560699463,-13.127630233764648,-11.879250526428223,-13.978321075439453,-10.74381160736084,-13.321949005126953,-8.500420570373535,51.76226806640625,-0.2937283217906952,-15.860700607299805,8.889832496643066,-0.05249405652284622,-15.307062149047852,7.259286880493164,-7.138112545013428,-6.115384578704834,16.542448043823242,6.992134094238281,-18.516454696655273,-5.05936861038208,51.096336364746094,-2.6026480197906494,-4.670166492462158,-10.566203117370605,-11.942228317260742,-16.11972999572754,1.9443752765655518,-19.12865447998047,-11.544819831848145,-12.844261169433594,6.305328845977783,-20.620527267456055,14.166194915771484,-19.6894474029541,-20.44297218322754,50.985137939453125,-11.934144973754883,-14.97280216217041,15.877694129943848,25.866025924682617,-8.53446102142334,-9.794210433959961,-2.4387264251708984,-12.734124183654785,-17.23146629333496,6.125590801239014,-16.15515899658203,30.13229751586914,-9.28386116027832,-7.483230113983154,-4.681341648101807,-8.259838104248047,-24.810091018676758,-9.611205101013184,-25.922712326049805,-13.750892639160156,-8.727529525756836,-6.499144554138184,27.164175033569336,-16.012924194335938,-9.548201560974121,50.85797882080078,-7.875277519226074,-16.24358367919922,-16.722143173217773,25.235841751098633,-3.0311758518218994,-14.979955673217773,-9.041362762451172,-9.5145902633667,-3.2209105491638184,-6.124396800994873,5.566112041473389,52.50630187988281,59.68898010253906,-9.698282241821289,23.390050888061523,-9.407777786254883,-27.164724349975586,-2.914550304412842,-30.75689125061035,-13.641033172607422,53.19722366333008,-7.242673873901367,-11.27798843383789,0.28480109572410583,-12.651890754699707,-9.963862419128418,-8.756078720092773,-24.6802921295166,-1.945692539215088,29.041894912719727,-6.285970211029053,-9.345361709594727,-1.5284943580627441,21.66326141357422,11.084708213806152,58.80569839477539,54.64731216430664,-27.64021110534668,-24.34075355529785,48.708946228027344,0.6229912638664246,-3.4989402294158936,-7.956503391265869,5.593257904052734,-19.86187744140625,0.6339120268821716,-28.135351181030273,-27.063093185424805,-18.134315490722656,19.9345645904541,-0.36268723011016846,-20.315536499023438,10.195178031921387,19.143659591674805,-7.79050350189209,-25.843242645263672,-2.689767837524414,-10.695544242858887,29.959327697753906,13.87807846069336,-25.31527328491211,-23.6398868560791,-0.04613111913204193,-17.40816879272461,-7.230922222137451,-14.668939590454102,4.9537787437438965,3.290815591812134,54.49287796020508,-8.852853775024414,-15.854565620422363,-12.13102912902832,30.673076629638672,57.445308685302734,-6.632513523101807,-4.310908794403076,-13.664352416992188,53.32657241821289,2.301232099533081,-15.334635734558105,-5.818747520446777,-0.7528434991836548,59.063297271728516,-15.638254165649414,26.632421493530273,55.17289733886719,6.669461250305176,-15.536652565002441,-9.627922058105469,-3.4245176315307617,-20.731101989746094,16.0979061126709,-18.338903427124023,-18.702194213867188,-16.94980812072754,-6.976243019104004,10.674396514892578,-12.072347640991211,-0.19906525313854218,55.014747619628906,-18.059276580810547,15.31009578704834,15.716784477233887,2.5195400714874268,-15.197856903076172,-11.134883880615234,-7.659207344055176,-5.434184551239014,-13.387474060058594,1.394569993019104,-0.785556435585022,-0.6691998243331909,24.413820266723633,31.186323165893555,51.89971923828125,-14.080241203308105,-20.294963836669922,53.1651496887207,-14.878754615783691,-0.4881971478462219,-9.762880325317383,55.84132766723633,-17.387081146240234,6.321280002593994,57.861541748046875,6.783071994781494,17.887598037719727,57.057701110839844,-9.850299835205078,-11.796180725097656,1.057265281677246,6.476252555847168,-5.231222152709961,23.105276107788086,23.233932495117188,-10.728490829467773,15.140768051147461,49.438114166259766,-4.534225940704346,-6.70448637008667,-28.716981887817383,51.900535583496094,21.970325469970703,-2.2090721130371094,63.636566162109375,-9.717331886291504,-6.361871242523193,7.9116740226745605,3.1867923736572266,-19.99298858642578,-7.024213790893555,59.716102600097656,2.286698341369629,14.73868465423584,-16.030467987060547,-0.006310302764177322,-13.55869197845459,-14.910128593444824,21.69672966003418,15.591833114624023,-6.6620049476623535,4.53624963760376,2.1864895820617676,-15.463290214538574,26.294740676879883,19.38913345336914,5.21009635925293,-13.185101509094238,-11.77563190460205,-8.63571834564209,-17.902568817138672,-4.035490036010742,2.947204828262329,2.9405224323272705,-23.740802764892578,-3.86834454536438,-5.996423244476318,-15.974222183227539,-17.936738967895508,-6.607668876647949,4.782116889953613,21.939420700073242,55.41932678222656,2.827289342880249,-8.982441902160645,-15.793636322021484,-7.837396144866943,-10.951780319213867,-29.775999069213867,-17.51606559753418,-6.111818790435791,-13.54234504699707,-15.836349487304688,52.85427474975586,24.668947219848633,5.294379711151123,4.439027309417725,0.07665114104747772,-1.5295380353927612,-24.823925018310547,-15.004132270812988,-7.368368625640869,2.0758614540100098,-13.682999610900879,-22.726316452026367,-1.4358166456222534,-2.1025164127349854,56.364013671875,-20.89175796508789,-23.494613647460938,-8.051249504089355,-9.116012573242188,-18.73699188232422,-13.629871368408203,1.744882583618164,-3.126762866973877,19.320871353149414,-6.238282203674316,-16.825031280517578,0.3849264681339264,52.871395111083984,21.11829948425293,-7.613309860229492,-1.0613563060760498,-17.903404235839844,-12.861920356750488,21.229549407958984,-2.8921022415161133,3.567232131958008,-2.686232805252075,-5.815183162689209,-22.939224243164062,23.732341766357422,-16.416501998901367,30.059261322021484,21.370824813842773,9.657378196716309,-2.0105860233306885,-25.56048011779785,54.34500503540039,-24.188032150268555,-16.96706199645996,-23.48401641845703,6.952826023101807,-10.026768684387207,-7.790371894836426,-2.476861000061035,-9.802632331848145,6.830519199371338,-12.651890754699707,-27.029672622680664,-8.975862503051758,-15.628012657165527,55.7653923034668,-5.359163761138916,28.532381057739258,-22.903812408447266,4.103912830352783,-17.632343292236328,-2.161918878555298,-9.549799919128418,-16.080707550048828,28.964757919311523,58.76089859008789,-8.643179893493652,-1.7356892824172974,15.17709732055664,8.687749862670898,13.577740669250488,52.58399200439453,54.525936126708984,21.901111602783203,1.6858429908752441,7.604738235473633,-5.420267105102539,59.659446716308594,50.11363220214844,50.959716796875,6.395667552947998,-21.57916831970215,-9.799429893493652,5.737756729125977,21.20669937133789,52.106483459472656,-7.440762519836426,-7.31626033782959,9.659034729003906,12.01702880859375,12.690727233886719,18.749103546142578,-9.893379211425781,49.85531997680664,21.37053680419922,2.1909854412078857,24.391265869140625,57.45155715942383,-18.094280242919922,31.530406951904297,-17.316028594970703,24.56536293029785,-23.3207950592041,0.6344444751739502,-9.542439460754395,-28.152647018432617,-5.940677165985107,19.1678524017334,-12.170435905456543,53.35292434692383,-21.255685806274414,-3.9264719486236572,6.245720386505127,-13.604788780212402,-7.865509986877441,-31.413116455078125,-8.764166831970215,-24.984832763671875,-2.4379100799560547,-23.91669273376465,-28.193811416625977,-11.001015663146973,26.7383975982666,-4.006810665130615,58.70488357543945,-9.169952392578125,-7.826711177825928,-2.044231653213501,-6.715154647827148,-17.49068260192871,-24.46293830871582,4.749951362609863,-1.0125826597213745,32.01359176635742,-21.731754302978516,62.55033874511719,-5.921064376831055,31.460525512695312,23.706573486328125,-11.906954765319824,-6.588133811950684,-29.031492233276367,-3.0574328899383545,53.768226623535156,-9.918123245239258,-22.00123405456543,21.212448120117188,6.597030162811279,-17.144756317138672,-1.0911729335784912,-18.045177459716797,-25.520328521728516,-22.90522003173828,-26.858966827392578,53.61820983886719,-16.060880661010742,-14.637925148010254,26.10102081298828,-10.591842651367188,1.2839322090148926,-5.7630181312561035,-20.287851333618164,-19.814781188964844,59.45535659790039,-10.18371868133545,-26.36105728149414,-15.08516788482666,-11.59904956817627,-8.614514350891113,-3.347355604171753,-27.483081817626953,1.9739643335342407,-21.993680953979492,-10.720192909240723,-3.6498961448669434,8.777018547058105,-15.641742706298828,-13.296002388000488,58.28253173828125,-3.5855791568756104,-2.449294090270996,-23.110023498535156,-8.687769889831543,-9.00730037689209,1.2630966901779175,58.25667190551758,6.8244948387146,27.464927673339844,6.128925800323486,-19.48179817199707,-24.95953941345215,15.503496170043945,-8.61860466003418,29.221895217895508,56.19246292114258,-7.116131782531738,28.188495635986328,-16.530805587768555,27.181135177612305,6.140608310699463,27.374107360839844,-31.3411922454834,53.27561950683594,-6.743993282318115,-7.977734565734863,-15.401518821716309,-20.05472183227539,6.144524097442627,-21.889684677124023,8.993196487426758,-10.252809524536133,-4.74261474609375,-3.5026397705078125,-11.007951736450195,-9.132905006408691,2.9690375328063965,-18.936054229736328,-5.780816078186035,-0.7718793749809265,25.84195327758789,0.9275784492492676,1.4189074039459229,14.51249885559082,-14.944652557373047,52.95174026489258,-1.230210304260254,0.4574287533760071,-2.1524534225463867,-9.727776527404785,2.242553472518921,-8.147829055786133,6.032716751098633,-15.39138412475586,-12.307977676391602,-10.838817596435547,-16.37293815612793,-10.413818359375,-23.142276763916016,58.443397521972656,-0.8423066139221191,2.526546001434326,26.360471725463867,-5.245553970336914,-8.455116271972656,-15.019024848937988,-9.865569114685059,51.097225189208984,-15.760261535644531,-0.23145553469657898,29.44622039794922,-15.955007553100586,-0.13357339799404144,56.35697555541992,-17.438020706176758,-2.155211925506592,3.4396793842315674,-9.019521713256836,54.30897903442383,4.7580647468566895,0.5594943761825562,-5.748409271240234,2.1944310665130615,7.904727935791016,-17.6829891204834,-14.145567893981934,7.078644275665283,-24.216901779174805,1.1899610757827759,3.685037851333618,-14.889447212219238,24.507980346679688,12.155513763427734,18.380456924438477,-8.723747253417969,-24.028244018554688,-24.651851654052734,-8.380024909973145,-3.019676923751831,19.02950096130371,-1.4052698612213135,3.563538074493408,-11.642752647399902,-11.73224925994873,-15.577176094055176,13.647899627685547,32.40037155151367,13.781912803649902,18.810964584350586,-17.81782341003418,-9.058868408203125,2.593149423599243,-4.566549301147461,-17.84809112548828,1.6910054683685303,-0.33295539021492004,51.80180740356445,-31.442415237426758,-14.064090728759766,-4.2861480712890625,-6.9529805183410645,15.919866561889648,51.02958297729492,-4.790157318115234,14.621489524841309,1.2455395460128784,0.2314300835132599,-22.926319122314453,-2.073863983154297,23.4361629486084,-10.521283149719238,-4.082193851470947,3.7510437965393066,56.23888397216797,-2.6440651416778564,-2.73529314994812,-13.825652122497559,15.925383567810059,-25.102401733398438,-1.4895446300506592,-8.440877914428711,-18.237276077270508,-9.476198196411133,-21.339435577392578,28.376258850097656,-24.444774627685547,23.48914909362793,-5.34042501449585,33.68478775024414,-10.812559127807617,53.1807746887207,15.12680721282959,52.697776794433594,14.671773910522461,-16.8232364654541,-1.611079216003418,1.092773675918579,62.94356155395508,30.40151023864746,9.295265197753906,23.570880889892578,-4.508224964141846,6.052155494689941,7.1526641845703125,17.771644592285156,34.526973724365234,29.909780502319336,0.1440470814704895,-15.261759757995605,31.822261810302734,-14.562379837036133,-4.073487758636475,-20.00444221496582,51.277095794677734,-8.395291328430176,-6.130292892456055,-1.1678694486618042,25.879823684692383,2.7176942825317383,-8.848372459411621,-21.784543991088867,-1.2177897691726685,-9.663485527038574,-15.250872611999512,54.45087432861328,-11.932792663574219,-19.25910186767578,1.1938940286636353,34.578216552734375,3.482085704803467,22.046640396118164,-6.376439094543457,-9.114562034606934,-13.124113082885742,-0.1280645877122879,-25.85663414001465,-9.738836288452148,32.617156982421875,-17.018701553344727,6.921989440917969,-3.052614688873291,-14.740673065185547,-23.944093704223633,15.039507865905762,16.983257293701172,0.5832327604293823,-4.063284397125244,7.971973896026611,25.878124237060547,53.167388916015625,0.06624532490968704,-4.499117851257324,-13.660594940185547,-12.874104499816895,-12.85039234161377,34.748329162597656,2.3198163509368896,6.6668901443481445,24.95741081237793,2.7071471214294434,52.94391632080078,-28.48917579650879,-7.46247673034668,14.678509712219238,-16.750635147094727,-11.194751739501953,14.798100471496582,54.61474609375,19.06967544555664,-11.200889587402344,-2.0036988258361816,-8.837430953979492,-20.89210319519043,2.8097739219665527,-25.124208450317383,-16.939485549926758,26.8543701171875,17.598257064819336,-4.066428184509277,-5.0619001388549805,-9.408632278442383,-9.500994682312012,-9.030319213867188,-17.71291160583496,-20.38382339477539,-24.945627212524414,-10.990835189819336,-0.681218147277832,28.86918830871582,47.2568473815918,-3.9766504764556885,7.255466938018799,34.59181213378906,-13.409770965576172,50.46224594116211,55.90271759033203,-15.327105522155762,-20.266939163208008,26.840179443359375,19.68170738220215,-3.9150757789611816,-1.513749599456787,28.116756439208984,-20.259328842163086,-13.550788879394531,-28.445148468017578,22.416452407836914,52.026451110839844,-11.930611610412598,-4.959488868713379,25.505701065063477,51.593170166015625,-1.8807963132858276,-7.951624393463135,-0.9464888572692871,-5.5063886642456055,-7.9902825355529785,-0.10011191666126251,-5.845726490020752,-15.994312286376953,-1.0211691856384277,-3.1348211765289307,-14.971123695373535,-13.060273170471191,30.817649841308594,-14.824936866760254,14.671417236328125,18.0406494140625,12.452922821044922,-0.09286028146743774,28.79343032836914,22.562206268310547,-11.683327674865723,-27.441171646118164,17.621137619018555,-10.334503173828125,54.00474166870117,-9.753756523132324,4.68044376373291,27.54706382751465,-2.368454694747925,-1.4791510105133057,-7.508194446563721,-16.826635360717773,-14.300063133239746,0.26697972416877747,-16.610315322875977,-18.34490203857422,55.29764938354492,-11.147445678710938,-4.25309419631958,-27.09369468688965,27.0028076171875,-2.7359092235565186,9.004518508911133,29.910507202148438,60.14133071899414,-0.7363082766532898,-23.640438079833984,-1.0590089559555054,29.32655143737793,31.35675811767578,4.57207727432251,-6.39115047454834,-20.931238174438477,-0.059061694890260696,-31.146221160888672,1.9045075178146362,-2.88454270362854,-24.354488372802734,-15.057085990905762,11.96727180480957,3.063089370727539,15.113953590393066,-20.895469665527344,-15.568750381469727,55.385372161865234,-14.045403480529785,-14.020028114318848,1.324731707572937,-18.69660758972168,-8.26684856414795,-1.8378852605819702,48.572200775146484,-16.842212677001953,-4.232320785522461,-31.062522888183594,-11.910411834716797,-11.081130981445312,-12.734797477722168,-23.55634307861328,28.55388832092285,-13.454169273376465,-14.60534381866455,56.510093688964844,0.5226941108703613,-5.000522613525391,15.397456169128418,-2.06776762008667,52.53235626220703,-9.917182922363281,-12.319182395935059,0.8172395825386047,-2.2336111068725586,-5.13402795791626,-9.686488151550293,-11.590750694274902,-7.4899115562438965,-2.7703592777252197,-22.7344913482666,-5.094122886657715,-1.8048179149627686,-0.37704193592071533,-10.9824800491333,-10.281864166259766,-2.1932461261749268,-11.578272819519043,-8.371159553527832,-2.0193333625793457,-2.80062198638916,26.74103355407715,15.08198356628418,-12.46141529083252,-10.956640243530273,-14.519835472106934,24.0911865234375,16.235811233520508,-28.22733497619629,1.5118699073791504,-8.54718017578125,-30.19801902770996,-16.771825790405273,-26.22474479675293,-8.97002124786377,-15.176514625549316,60.64337158203125,-1.5971356630325317,13.409887313842773,-23.2713565826416,-9.665740966796875,59.553794860839844,-4.204016208648682,25.34361457824707,-23.283456802368164,6.716549396514893,-5.111232280731201,-11.738921165466309,1.0719528198242188,54.94071578979492,62.115962982177734,0.9898928999900818,34.10435485839844,13.074737548828125,-13.82676887512207,-27.68059539794922,-5.6550798416137695,-9.533056259155273,-11.435144424438477,3.2184622287750244,-0.3843841552734375,19.93730926513672,60.864601135253906,6.276366710662842,-6.381697654724121,53.796321868896484,-15.667677879333496,-8.167655944824219,-9.510591506958008,-0.05560043454170227,-5.53498649597168,26.54339027404785,24.799781799316406,-16.028226852416992,8.813016891479492,-29.525684356689453,-15.595539093017578,1.4165643453598022,-3.905207395553589,25.132572174072266,-10.718637466430664,-0.27071282267570496,-6.0410990715026855,-26.513418197631836,-22.114290237426758,54.736839294433594,-15.783711433410645,33.080387115478516,-4.2193779945373535,-23.040536880493164,-6.986405849456787,-26.00741958618164,-8.561291694641113,11.65014362335205,22.989269256591797,3.821699380874634,-3.804105758666992,-18.11180305480957,5.556646347045898,-0.933743953704834,-11.197381019592285,13.766667366027832,-0.597144365310669,-3.737461805343628,-4.323286533355713,-22.78418731689453,11.40824031829834,-19.656051635742188,0.7477705478668213,-13.564355850219727,-5.378082275390625,4.268783092498779,0.8001850247383118,26.549880981445312,-13.188414573669434,8.590065002441406,-5.818893909454346,-11.883406639099121,29.408252716064453,-20.139101028442383,-12.80577564239502,-13.289593696594238,-2.857250928878784,-12.140007972717285,57.64596176147461,-10.552803039550781,1.8228974342346191,0.7509717345237732,0.3140641450881958,21.777151107788086,-1.389133334159851,51.152610778808594,0.38243505358695984,7.184453964233398,0.9644297957420349,-2.4279143810272217,2.895545482635498,8.426962852478027,-14.951155662536621,-2.578641414642334,-14.037178039550781,-8.16884708404541,-1.3966352939605713,-17.37116813659668,53.87327194213867,-21.601186752319336,-2.8964693546295166,25.207714080810547,3.1594011783599854,-10.539319038391113,-25.325366973876953,-6.865768909454346,1.059890627861023,-23.272634506225586,-9.488702774047852,-7.013894557952881,-9.930448532104492,-8.039847373962402,-23.57210350036621,11.577104568481445,-2.5047428607940674,12.86288070678711,-26.533998489379883,-5.58780574798584,15.357837677001953,-1.0217983722686768,8.01497745513916,-15.561686515808105,23.831661224365234,-23.04398536682129,34.87903594970703,-17.525711059570312,3.000582695007324,22.161476135253906,-2.216522693634033,-5.468461990356445,2.7504947185516357,-16.226667404174805,-2.8578922748565674,9.700182914733887,0.11468929797410965,-5.977133274078369,29.44725227355957,-4.902502059936523,20.403345108032227,0.8638850450515747,55.759395599365234,56.67463684082031,-24.337848663330078,-6.507408618927002,-6.768360614776611,56.53002166748047,7.329128265380859,-6.924323081970215,33.04838562011719,-15.010994911193848,-3.1730024814605713,56.41341781616211,4.142049789428711,21.296499252319336,23.803438186645508,61.774024963378906,-10.259305000305176,-1.351448655128479,-0.8811666965484619,-12.602706909179688,-12.381056785583496,-10.126648902893066,-2.9460039138793945,17.36822509765625,27.75145149230957,56.30272674560547,25.504793167114258,-13.711397171020508,-5.655079364776611,0.8517990112304688,4.646123886108398,-10.51900863647461,-19.766008377075195,-3.2004644870758057,50.9890022277832,5.220749855041504,-10.065475463867188,18.58489227294922,17.89737892150879,3.2902660369873047,-15.735771179199219,-4.459988594055176,24.577653884887695,-17.00949478149414,22.4163818359375,-11.193181991577148,-8.177271842956543,-2.9952094554901123,7.572389125823975,-9.312278747558594,-15.967541694641113,-3.9488089084625244,-30.712244033813477,-12.639362335205078,23.31592559814453,4.371283531188965,-7.171752452850342,-24.258251190185547,-2.136924982070923,30.017902374267578,25.411211013793945,-14.8469877243042,60.546119689941406,-15.19240951538086,17.270538330078125,-28.379871368408203,20.64139175415039,4.141214370727539,-0.5923948884010315,32.96506118774414,-7.6525163650512695,31.165098190307617,-23.2623291015625,19.435222625732422,-3.650026321411133,-14.497598648071289,-5.992188453674316,60.81340789794922,-12.627562522888184,-28.889060974121094,-4.6340227127075195,-10.54053783416748,-10.435153007507324,55.49382781982422,-8.25113296508789,4.132284641265869,-26.90005874633789,-16.985185623168945,-8.695110321044922,-2.5783205032348633,31.131561279296875,22.052087783813477,-28.129281997680664,3.4326703548431396,0.3291540741920471,-30.321533203125,-12.471144676208496,-7.107758045196533,-23.47296142578125,28.921104431152344,4.631721496582031,-2.6337738037109375,-15.798163414001465,-25.21349334716797,-6.851785659790039,59.817283630371094,-21.044645309448242,-22.9747314453125,-23.113941192626953,47.4731330871582,-3.3109593391418457,52.26590347290039,-2.437164783477783,-18.381635665893555,2.2979342937469482,-12.537445068359375,-6.105633735656738,13.160361289978027,0.4831724166870117,-0.47594377398490906,-13.436434745788574,-11.741756439208984,0.007174174766987562,-7.399798393249512,-17.771839141845703,12.872919082641602,-27.724868774414062,5.742266654968262,-0.6969701647758484,-29.160499572753906,-29.81756591796875,57.384098052978516,-18.528505325317383,3.1738228797912598,-26.42060661315918,23.7070255279541,2.911484956741333,-21.913440704345703,-12.006789207458496,3.3195512294769287,5.171175003051758,-6.9246439933776855,1.8432912826538086,1.3439996242523193,62.3864860534668,-2.5351555347442627,-16.3315486907959,10.245756149291992,-2.2449493408203125,-15.385566711425781,-14.682533264160156,-0.5324084758758545,1.3751404285430908,-2.635218620300293,-7.686880111694336,-6.314509868621826,-12.965263366699219,-12.845748901367188,20.76604461669922,-21.78252601623535,-0.8630170822143555,54.775115966796875,-28.589609146118164,33.203887939453125,-3.673224925994873,-7.731091499328613,-3.27799916267395,9.55358600616455,-12.821880340576172,61.80311965942383,-2.013348340988159,-0.3231401741504669,-0.8016239404678345,-10.744644165039062,-25.409130096435547,-7.263288974761963,-0.3578348159790039,-25.25164222717285,-4.108932018280029,-26.666488647460938,-19.865243911743164,-4.672429084777832,3.509059190750122,51.0152473449707,-3.687189817428589,-13.837554931640625,-7.2030720710754395,-27.74075698852539,16.676048278808594,-2.346713066101074,22.910823822021484,-2.282137632369995,-9.185224533081055,27.690006256103516,0.7734946012496948,61.82870101928711,-5.305321216583252,-3.434814929962158,-31.56355857849121,-7.286539554595947,54.12156677246094,6.848553657531738,-3.7154080867767334,-2.4441092014312744,-21.179983139038086,-7.995398998260498,-12.152280807495117,56.58173751831055,57.128761291503906,-15.49543571472168,13.223273277282715,-10.446690559387207,-3.890876054763794,-21.660400390625,-4.465215682983398,-5.397919178009033,-13.41722297668457,23.36133575439453,-8.467891693115234,-19.964601516723633,-3.52329158782959,-13.021021842956543,-2.631737470626831,-7.858522891998291,-13.061152458190918,-26.55274772644043,-8.648316383361816,-7.173297882080078,4.7694783210754395,1.565284013748169,-12.826844215393066,-6.432868957519531,9.53399658203125,-4.4035139083862305,-13.62875747680664,-3.923579216003418,-7.973372936248779,-8.948637008666992,-4.025614261627197,50.11114501953125,25.010738372802734,-5.122612953186035,-7.7926764488220215,14.555651664733887,-14.86471939086914,0.8030083775520325,-28.257333755493164,-0.40469563007354736,2.6495726108551025,-3.173644781112671,1.4703480005264282,-7.40794038772583,-5.074332237243652,-6.274857521057129,0.03631884604692459,-24.409282684326172,2.5630805492401123,25.466964721679688,-3.5523948669433594,48.784786224365234,-0.1375904530286789,-28.367053985595703,-4.173306941986084,-0.6779201626777649,51.75896072387695,-17.485713958740234,-13.073131561279297,-3.607578754425049,-2.0296497344970703,-13.685494422912598,-23.02911376953125,57.25559616088867,59.140625,-4.4008941650390625,13.859952926635742,24.27323341369629,-1.7990530729293823,0.10720717161893845,13.02942943572998,-7.193269729614258,-9.292999267578125,-8.357708930969238,-2.906243085861206,-29.598278045654297,2.539090394973755,4.963582992553711,1.2855873107910156,-9.420724868774414,-20.540868759155273,13.04202651977539,29.265357971191406,-1.2891924381256104,52.64227294921875,59.3210334777832,2.2240757942199707,-11.992547988891602,-12.457082748413086,-9.949187278747559,27.023820877075195,3.7559099197387695,30.666296005249023,-22.277175903320312,-13.504999160766602,-5.862335205078125,-7.619709491729736,-13.684298515319824,-10.343192100524902,-1.5019160509109497,3.181874990463257,1.3608272075653076,-14.515872955322266,-23.932409286499023,53.558555603027344,-2.3351964950561523,-27.21478271484375,-31.26858139038086,-4.696415901184082,4.577531337738037,-11.221999168395996,57.785682678222656,1.1601217985153198,-7.9815473556518555,-3.379117488861084,-2.024914264678955,-21.869657516479492,-6.854686737060547,-4.952054500579834,56.930580139160156,-7.293240070343018,-4.8196234703063965,30.687936782836914,-3.5097239017486572,-0.9310216307640076,-16.189857482910156,1.2391544580459595,57.423213958740234,-2.6753244400024414,-14.442827224731445,-3.355863094329834,57.478240966796875,-2.68137264251709,-16.62739372253418,27.040081024169922,-2.0275931358337402,-16.633853912353516,2.5372440814971924,-1.768982172012329,4.275695323944092,-7.186964511871338,1.8526617288589478,-5.953203201293945,-22.196840286254883,-14.187437057495117,1.4251430034637451,-12.818567276000977,58.94624328613281,-11.712709426879883,-18.681529998779297,2.4257571697235107,-22.09821319580078,-5.325473308563232,16.269485473632812,11.090112686157227,-10.734246253967285,-5.115866184234619,-10.474467277526855,-16.168317794799805,-10.696586608886719,-7.124711513519287,-1.0953199863433838,-3.576199531555176,61.56865310668945,24.67542266845703,-2.153637647628784,-16.532445907592773,-7.77097749710083,-28.11806297302246,0.48725277185440063,23.486230850219727,-11.172623634338379,25.179309844970703,-1.5281689167022705,-2.265131950378418,-3.0643692016601562,20.902685165405273,-14.380023002624512,-26.110763549804688,-17.222076416015625,-3.158393383026123,-21.28925895690918,-6.729330062866211,27.58747100830078,3.2753469944000244,-0.50196373462677,-0.4020170271396637,58.08591079711914,-8.021402359008789,-6.449491500854492,-14.171249389648438,-0.09021323174238205,5.2576189041137695,-1.658277988433838,-20.852344512939453,1.4348127841949463,3.957557439804077,5.748970031738281,7.7497782707214355,5.360747337341309,-15.538118362426758,-8.757452964782715,-26.15836524963379,-1.5878932476043701,-1.3914426565170288,-0.9204851984977722,53.00347137451172,2.5982871055603027,2.4958300590515137,60.2271728515625,-17.725202560424805,-20.59427261352539,-24.62980079650879,24.69477653503418,-9.487390518188477,-13.713796615600586,1.8285197019577026,-4.853282451629639,-27.807226181030273,-12.190849304199219,50.23404312133789,27.37520980834961,-0.05668032541871071,60.549781799316406,-10.782015800476074,-23.537893295288086,-18.542160034179688,17.551374435424805,56.13914489746094,13.724854469299316,25.926179885864258,1.149911880493164,52.686954498291016,23.182588577270508,-14.285408973693848,47.36436080932617,-29.659425735473633,4.693863391876221,-7.287813186645508,-5.86803674697876,-3.476433038711548,52.76703643798828,26.43909454345703,3.809234857559204,-19.09126853942871,9.523252487182617,-7.9747161865234375,50.507667541503906,15.081244468688965,5.093751907348633,25.516372680664062,-14.128616333007812,-11.399812698364258,-6.705202579498291,-28.044038772583008,31.580087661743164,-8.999336242675781,-2.8958399295806885,3.839935302734375,-5.434098720550537,-7.143953323364258,-13.368577003479004,-12.237523078918457,1.177449107170105,-10.752786636352539,56.8994255065918,8.448678016662598,-25.120840072631836,2.5037717819213867,-1.5731792449951172,20.132421493530273,1.8022499084472656,-6.233241081237793,-1.8623979091644287,2.87967586517334,-2.4019503593444824,-8.639717102050781,-5.325628757476807,8.654141426086426,-6.72969913482666,-26.091678619384766,14.372737884521484,-3.93936824798584,1.3805011510849,54.12804412841797,26.91800308227539,4.820879936218262,-28.449108123779297,-22.684215545654297,-0.5547385811805725,-9.26500129699707,52.51558303833008,-8.095026969909668,-15.086477279663086,4.53149938583374,11.802362442016602,-6.363451957702637,-16.758853912353516,-11.526535987854004,-9.93185806274414,-8.629288673400879,-6.563660621643066,-13.526968955993652,-12.448728561401367,-10.839481353759766,-3.644787549972534,-2.154388666152954,-6.685660362243652,59.155391693115234,5.588533878326416,-19.44704246520996,-3.915731191635132,-9.372319221496582,53.936031341552734,14.179839134216309,2.9887328147888184,1.8898277282714844,20.464994430541992,1.2366851568222046,0.9300409555435181,-12.787537574768066,-22.428083419799805,-10.994084358215332,-6.153562545776367,-12.284008979797363,-10.730671882629395,-20.55130386352539,-4.44718074798584,-4.689488887786865,19.41761016845703,-1.9348055124282837,-26.51795196533203,-16.9815731048584,-17.511716842651367,-8.325288772583008,-1.5370779037475586,3.51025652885437,-13.47796630859375,-8.834138870239258,-15.522034645080566,-1.3752771615982056,-4.384755611419678,-24.20350456237793,-29.895641326904297,3.933758020401001,-3.1488475799560547,3.6554622650146484,-13.08643627166748,-4.282599925994873,28.749143600463867,-15.355670928955078,-19.358474731445312,-14.471860885620117,3.4821205139160156,-7.139713287353516,0.0564657561480999,0.2378075122833252,0.31597957015037537,57.56566619873047,-10.718032836914062,-9.040157318115234,-24.231592178344727,-21.367860794067383,2.6295576095581055,0.47047027945518494,-14.03959846496582,59.356597900390625,51.308021545410156,-18.639957427978516,-7.114925384521484,18.223310470581055,0.5497632622718811,-2.263155460357666,-6.214134216308594,-15.225666046142578,-26.954082489013672,-6.729875564575195,50.21003341674805,47.72260284423828,26.43909454345703,2.378525495529175,-19.1556396484375,0.6952479481697083,30.437055587768555,-13.892230987548828,-13.867291450500488,-21.785795211791992,-8.313284873962402,-4.90596342086792,16.059091567993164,-9.856701850891113,-12.050199508666992,28.412931442260742,4.236335277557373,-10.016999244689941,-4.800089359283447,-25.707042694091797,-0.448322594165802,-3.7490360736846924,-21.775375366210938,1.8259568214416504,1.092933177947998,-17.24077606201172,-13.681265830993652,-12.618515968322754,-0.3924644887447357,-15.7708740234375,-9.082603454589844,-6.924987316131592,-12.061084747314453,-5.155942916870117,3.6592979431152344,-3.992126941680908,-22.092029571533203,32.9501838684082,0.4250880479812622,0.21935433149337769,-25.067291259765625,-7.187943458557129,-10.208775520324707,1.8431682586669922,59.810909271240234,-0.583585262298584,-21.117450714111328,0.06718514859676361,-2.9080324172973633,-18.08935546875,-16.03007698059082,54.58435821533203,3.1991069316864014,55.50426483154297,5.719367504119873,-9.805082321166992,-12.89401912689209,2.4058775901794434,0.3874899446964264,23.10882568359375,54.4976692199707,14.2669095993042,5.034265041351318,11.673754692077637,-6.69813346862793,-16.400711059570312,-4.208873271942139],\"y\":[-24.52358055114746,-29.514163970947266,-24.565584182739258,20.730010986328125,-13.366191864013672,-24.65146827697754,-11.67094898223877,-27.26917266845703,32.86183166503906,12.422930717468262,-29.30341911315918,-9.342175483703613,43.372684478759766,-23.215383529663086,9.757331848144531,-25.04534912109375,-27.625246047973633,-27.97347068786621,13.252629280090332,14.501928329467773,23.218868255615234,-28.00033950805664,21.167720794677734,-30.672401428222656,52.41279602050781,-29.671184539794922,-29.383132934570312,33.559566497802734,-26.819236755371094,-34.414974212646484,-13.689536094665527,-23.127641677856445,-24.658584594726562,-29.63124656677246,37.62702941894531,9.473580360412598,-19.19088363647461,17.68895149230957,-43.115474700927734,33.34790802001953,14.9341459274292,14.0106201171875,33.06311798095703,-46.73439407348633,65.65129852294922,3.4047560691833496,12.608414649963379,-41.95937728881836,-38.99415588378906,11.040836334228516,-34.24113845825195,34.00092315673828,-7.363554000854492,-9.380595207214355,38.0152587890625,-29.560501098632812,-30.64072036743164,20.23768424987793,-30.015182495117188,35.414268493652344,-28.258777618408203,-19.59490203857422,51.313411712646484,-0.8499363660812378,10.94109058380127,-32.08080291748047,-20.926311492919922,-11.935966491699219,-24.633567810058594,13.402671813964844,35.96562576293945,34.828426361083984,-9.36192798614502,52.4983024597168,-35.08738708496094,13.97457218170166,-13.22238826751709,53.80617141723633,11.041216850280762,-25.919652938842773,-27.28192710876465,19.268465042114258,10.185522079467773,10.804115295410156,-32.956600189208984,3.230332612991333,-8.59692668914795,-30.671323776245117,64.546630859375,42.99995422363281,-9.84605884552002,11.442604064941406,13.365493774414062,-28.776960372924805,-32.82583999633789,39.542354583740234,9.719226837158203,-18.954418182373047,-41.127376556396484,17.21341323852539,-36.69442367553711,11.812969207763672,37.818565368652344,10.1920747756958,51.935672760009766,-42.27627944946289,12.585514068603516,40.651580810546875,51.4315071105957,-34.738067626953125,54.72914505004883,53.2687873840332,3.3356854915618896,43.44480514526367,-12.768929481506348,60.23527145385742,-30.347890853881836,4.106381893157959,12.266077041625977,47.08830261230469,23.074325561523438,-2.7475857734680176,-29.135072708129883,35.10911560058594,-27.610795974731445,-29.056995391845703,14.91786003112793,54.72679138183594,12.98674201965332,0.38632485270500183,-32.062705993652344,14.923996925354004,17.317136764526367,4.164140224456787,1.8253967761993408,11.029030799865723,-10.03770923614502,-28.036476135253906,-28.695302963256836,6.991949081420898,-26.24965476989746,15.477437973022461,-9.576149940490723,9.969245910644531,-26.871719360351562,-34.83308792114258,51.52437973022461,12.497716903686523,-29.63015365600586,19.788414001464844,54.621219635009766,-32.854942321777344,54.549949645996094,-37.898109436035156,-24.840953826904297,-33.188358306884766,-30.70133399963379,-28.08969497680664,50.38608169555664,-43.976131439208984,47.44161605834961,-0.46459728479385376,11.677870750427246,-12.618965148925781,-48.93183135986328,65.7700424194336,-21.66094970703125,-47.680564880371094,10.212994575500488,2.0933327674865723,-30.61524772644043,-18.40256690979004,-24.89588737487793,-40.330570220947266,-38.638362884521484,53.748435974121094,-0.8370771408081055,6.696451187133789,-6.081541538238525,-31.299592971801758,20.58966827392578,61.708251953125,46.89654541015625,-34.798274993896484,-18.085479736328125,-11.749982833862305,-29.541858673095703,27.46266746520996,47.95734405517578,6.009411334991455,9.83485221862793,41.30373764038086,22.28935432434082,-30.642017364501953,-12.496333122253418,-4.091222286224365,14.161199569702148,4.712871074676514,28.383731842041016,-26.93649673461914,3.217984914779663,10.059345245361328,67.32585144042969,-0.6035304665565491,-48.50722885131836,-23.600133895874023,-38.08973693847656,35.163352966308594,-28.089336395263672,32.23161315917969,5.360744953155518,-32.661136627197266,13.800711631774902,13.116371154785156,12.957198143005371,39.66685104370117,26.619171142578125,13.700929641723633,9.45028018951416,-12.676386833190918,9.855001449584961,-36.501060485839844,5.828667163848877,32.80978012084961,11.682555198669434,-0.07855138182640076,37.05156326293945,15.74439811706543,-0.8965958952903748,11.63405704498291,24.370851516723633,40.85161209106445,4.803828716278076,-31.241743087768555,-31.914581298828125,8.626258850097656,-39.215389251708984,16.387617111206055,40.47905731201172,55.0257453918457,-32.74110412597656,24.39452362060547,24.23811149597168,-21.266368865966797,-43.960853576660156,55.198429107666016,-33.44920349121094,11.32104778289795,55.08759689331055,23.273117065429688,-0.9381716847419739,-32.84653854370117,-45.634910583496094,-36.989646911621094,-25.408098220825195,-29.272741317749023,-30.86751365661621,51.54307556152344,3.235949754714966,48.614227294921875,11.853485107421875,43.83951950073242,13.34574031829834,-6.170750141143799,39.664058685302734,-43.91754913330078,18.20829963684082,-30.862672805786133,-39.67179489135742,-23.085893630981445,-46.862510681152344,-35.08245849609375,-12.538997650146484,31.071025848388672,59.7335205078125,-44.08064270019531,23.161376953125,44.688148498535156,12.15743350982666,6.793298244476318,-12.937366485595703,42.968318939208984,-15.057008743286133,-33.39530563354492,-7.136834144592285,11.566892623901367,-31.060396194458008,19.754606246948242,-28.061960220336914,-7.606618881225586,5.177638530731201,2.8200454711914062,-12.5753173828125,-35.123321533203125,-22.966262817382812,-33.35011291503906,0.39719057083129883,-25.593252182006836,13.026585578918457,35.32051467895508,50.09324264526367,43.333465576171875,1.4052696228027344,62.6152458190918,-43.49420928955078,53.390445709228516,-2.3400180339813232,41.079505920410156,60.92994689941406,10.382940292358398,6.205285549163818,52.08559799194336,12.718398094177246,-3.5625767707824707,4.595468997955322,-35.236202239990234,-36.41183853149414,5.615024566650391,10.892183303833008,-31.60399055480957,-42.27204132080078,-41.234683990478516,48.372310638427734,10.856451034545898,24.75606346130371,1.034036636352539,2.9742488861083984,49.864017486572266,0.3477511405944824,-32.43099594116211,-21.175203323364258,-3.498133659362793,-30.732952117919922,-1.0577949285507202,-36.17827224731445,-22.866117477416992,56.97270584106445,-7.474177360534668,4.918067932128906,40.2144889831543,-4.142918586730957,12.376404762268066,7.214447975158691,-3.4788856506347656,25.58235740661621,-54.60440444946289,-46.197872161865234,-32.99129104614258,23.856597900390625,45.038124084472656,-41.186641693115234,-19.546594619750977,24.68919563293457,32.784873962402344,29.67595672607422,-34.76040267944336,-46.02045822143555,-33.622169494628906,12.351967811584473,2.997022867202759,-29.102209091186523,-32.58267593383789,-45.8757438659668,-38.067970275878906,16.520549774169922,-33.025352478027344,-2.490060806274414,-27.799240112304688,56.4229736328125,30.001157760620117,-25.43446922302246,-32.902095794677734,12.4920654296875,36.91830062866211,-0.6833952069282532,-18.183629989624023,-42.46443557739258,53.13932800292969,-23.142820358276367,-23.06023597717285,-45.25676345825195,-40.185386657714844,-20.062131881713867,48.85181427001953,-35.29356384277344,17.04492950439453,45.725650787353516,46.68336868286133,39.56310272216797,-39.724853515625,-28.467769622802734,4.7635579109191895,14.339905738830566,-18.6170711517334,-6.959223747253418,-22.608901977539062,14.240899085998535,-32.3542366027832,-7.027018070220947,11.950193405151367,8.702592849731445,-5.729392051696777,-11.565705299377441,-36.626956939697266,-44.35551834106445,-7.537991046905518,8.165763854980469,-32.100425720214844,-36.0081901550293,-0.6731501817703247,36.45377731323242,-28.30946159362793,-44.92334747314453,-48.57093811035156,3.849555730819702,-6.584163665771484,-15.072402000427246,26.96170425415039,-27.009170532226562,12.864812850952148,11.94625473022461,-44.2808837890625,61.095863342285156,-47.874576568603516,38.80162048339844,24.74324607849121,17.901344299316406,-7.519238471984863,2.1301448345184326,-3.281493663787842,-33.29815673828125,48.95133590698242,62.42128372192383,15.547701835632324,36.035953521728516,-1.9952231645584106,-48.222782135009766,-46.966861724853516,11.065814971923828,3.765638589859009,-42.55216598510742,-33.95515441894531,-10.42190933227539,12.445427894592285,11.105497360229492,25.876066207885742,1.4013340473175049,11.360807418823242,14.003122329711914,-16.688129425048828,38.184410095214844,45.79233932495117,-1.8801088333129883,27.66549301147461,29.00387954711914,52.093658447265625,-48.92798614501953,-48.18583679199219,-31.905750274658203,-7.984101295471191,-52.15225601196289,-33.631141662597656,7.952350616455078,6.474271774291992,28.378578186035156,30.22750473022461,16.396648406982422,56.71566390991211,44.39362716674805,-40.93779754638672,36.16347885131836,49.656681060791016,21.584705352783203,18.52914810180664,28.50357437133789,20.28333282470703,-39.95553970336914,-42.51729965209961,48.92622756958008,-48.63748550415039,-41.502384185791016,0.0775396078824997,23.269529342651367,39.64411544799805,20.42502784729004,-39.169795989990234,-34.982913970947266,36.77355194091797,23.689577102661133,-19.092666625976562,1.0550868511199951,-8.205924034118652,16.130435943603516,42.950462341308594,22.426965713500977,18.71759605407715,-39.14178466796875,-30.19948959350586,-36.405616760253906,-39.63634490966797,17.585399627685547,-31.81509780883789,-33.51601791381836,-3.6318728923797607,5.885152339935303,27.43611717224121,40.8749885559082,-35.90104293823242,30.366697311401367,10.087547302246094,42.03182601928711,-36.10309600830078,2.4582035541534424,15.681199073791504,9.64561653137207,-7.3901519775390625,50.09844207763672,14.283451080322266,-40.82481002807617,6.302579402923584,15.942879676818848,-7.883530616760254,3.707136631011963,-31.191009521484375,-19.234386444091797,-16.479236602783203,17.994155883789062,13.045805931091309,-34.49174118041992,-43.70795822143555,8.8010892868042,-1.3258686065673828,62.274932861328125,30.67717933654785,51.059051513671875,31.450027465820312,29.611053466796875,46.74523162841797,52.587364196777344,-40.3982048034668,-46.36952590942383,10.003571510314941,11.577622413635254,21.147485733032227,7.321776866912842,-12.786410331726074,-10.116005897521973,28.41321563720703,9.268503189086914,0.43150559067726135,14.524696350097656,11.88342571258545,-20.86927604675293,-43.741905212402344,9.748849868774414,-29.863012313842773,64.54552459716797,-46.60364532470703,-31.599458694458008,-48.90803146362305,-35.12297821044922,-50.55824279785156,12.85902214050293,-52.83788299560547,8.885124206542969,14.593247413635254,47.91102981567383,27.814149856567383,9.604350090026855,-48.40847396850586,-48.88749694824219,4.666712284088135,36.143070220947266,33.14860534667969,-38.12769317626953,-47.71538543701172,46.1013298034668,-1.5443713665008545,4.366504669189453,-31.55625343322754,-49.09760665893555,-7.485507011413574,-12.237436294555664,32.786048889160156,38.00519561767578,-40.054901123046875,-48.140037536621094,27.250144958496094,-31.871013641357422,-50.78745651245117,14.95926284790039,-51.720703125,-40.659358978271484,20.68302345275879,25.50586700439453,20.900508880615234,-34.50992965698242,21.814212799072266,-0.5371091365814209,-43.54961013793945,-42.79130935668945,34.49831008911133,-31.666772842407227,-24.81458282470703,38.59812545776367,21.022422790527344,38.11600875854492,22.763763427734375,-50.05228805541992,11.519400596618652,12.783099174499512,-7.739260196685791,54.71497344970703,-21.324295043945312,63.10959243774414,15.881087303161621,34.73639678955078,46.64495086669922,28.709461212158203,55.98556900024414,14.736865043640137,-50.54536437988281,7.441518306732178,-37.521812438964844,-12.05575180053711,3.157611846923828,16.39948272705078,34.064659118652344,31.77440071105957,30.417003631591797,-2.022364616394043,14.15180492401123,-32.75558090209961,34.16103744506836,6.987536430358887,38.03887176513672,18.932315826416016,-39.512611389160156,-37.46487045288086,-12.20259952545166,-4.5548095703125,9.718552589416504,-31.59665870666504,-34.013427734375,-16.625932693481445,6.904684543609619,-20.72411346435547,18.755352020263672,-45.52862548828125,33.68251037597656,36.62057876586914,-11.00191593170166,2.2234067916870117,-49.02921676635742,48.705718994140625,-3.509500503540039,-16.094038009643555,55.48122787475586,26.216562271118164,-41.990135192871094,19.9599609375,-49.67313003540039,-21.563657760620117,-34.92795944213867,-16.59351921081543,24.9538516998291,0.914383590221405,15.505396842956543,48.77971267700195,15.020428657531738,17.48645782470703,-7.340950012207031,62.02981185913086,28.015714645385742,29.333337783813477,-29.754863739013672,0.52245032787323,21.302827835083008,20.122533798217773,4.815370082855225,4.021978378295898,4.0265421867370605,-46.436248779296875,12.662354469299316,-43.793521881103516,-6.155388355255127,28.0546932220459,-32.55733871459961,24.900020599365234,-46.57417297363281,6.911927223205566,57.04075622558594,51.95154571533203,-36.018489837646484,-45.36464309692383,-46.650264739990234,17.22968864440918,7.945923805236816,-50.73379135131836,22.816669464111328,18.772518157958984,25.596420288085938,11.225881576538086,5.834553241729736,4.431282997131348,13.870061874389648,29.002016067504883,54.24126434326172,-35.26627731323242,-52.13792419433594,14.28443717956543,-37.93513870239258,42.100032806396484,-31.23297882080078,-37.24876022338867,-34.13322448730469,-39.78212356567383,-2.6620898246765137,6.381433486938477,-21.562053680419922,21.53117561340332,-41.77999496459961,9.16506576538086,15.885607719421387,-46.354736328125,-8.617781639099121,-56.21921157836914,38.260780334472656,-42.68814468383789,-25.500890731811523,19.736345291137695,-47.6050910949707,-51.261653900146484,36.65198516845703,15.64894962310791,20.319894790649414,-8.271533966064453,36.51289367675781,7.0182414054870605,-39.999515533447266,16.36886215209961,4.667889595031738,29.483009338378906,-24.678770065307617,34.06086730957031,22.976301193237305,16.28430938720703,-34.01222610473633,-47.149314880371094,0.7495285272598267,-41.08299255371094,22.580087661743164,-41.69161605834961,-21.476938247680664,60.15910720825195,46.48072814941406,-25.93520164489746,-4.437199115753174,-49.91670227050781,16.549869537353516,9.079934120178223,-5.622904300689697,-49.80760192871094,-40.608585357666016,34.597190856933594,23.349220275878906,25.664274215698242,51.41427993774414,17.313940048217773,43.52919387817383,51.12408447265625,-45.7841796875,-38.230995178222656,60.70037841796875,-1.1126823425292969,-7.4356160163879395,33.13231658935547,39.693450927734375,16.696950912475586,11.290678024291992,60.72469711303711,63.44818115234375,-54.66337203979492,-40.528743743896484,-34.181915283203125,56.248558044433594,44.19081497192383,20.711345672607422,6.998105525970459,-47.9657096862793,6.593204021453857,-4.2572431564331055,39.61634826660156,2.101060152053833,13.908763885498047,10.522725105285645,-28.9481143951416,21.329172134399414,16.62421226501465,26.0667781829834,-35.93273162841797,21.1820068359375,-40.498809814453125,18.019140243530273,-6.21601676940918,21.19800567626953,31.56392478942871,-8.253091812133789,-43.31553649902344,14.385804176330566,6.73246431350708,-33.19121170043945,-33.89901351928711,-41.48799514770508,-6.908089637756348,33.136993408203125,-48.22393798828125,40.328392028808594,-54.19584274291992,2.9931135177612305,-7.41341495513916,-44.57615280151367,-5.858582019805908,-37.95933532714844,7.094598293304443,-42.170135498046875,28.249374389648438,1.6313079595565796,-22.414485931396484,-1.2863324880599976,63.26411819458008,39.36545181274414,-47.03174591064453,51.28611755371094,-46.429508209228516,20.304262161254883,-4.382312774658203,-34.58695602416992,57.326072692871094,58.935115814208984,-21.085424423217773,31.18299674987793,63.60995101928711,14.175098419189453,-41.79298400878906,49.50437545776367,49.4632568359375,-35.84657669067383,-5.912269592285156,12.406060218811035,48.678070068359375,33.001983642578125,-24.901355743408203,-8.955428123474121,-23.64278221130371,52.188819885253906,-33.32675552368164,17.27639389038086,2.259296417236328,-9.495265007019043,-7.416248798370361,36.098670959472656,13.984015464782715,5.409999370574951,46.77369689941406,12.406569480895996,-36.947086334228516,-25.48900032043457,-38.5041618347168,-43.26997756958008,43.66621017456055,19.600229263305664,-10.202842712402344,-16.419193267822266,-43.32480239868164,19.70306396484375,30.73431396484375,8.583731651306152,37.95895004272461,46.21780014038086,22.776533126831055,63.09248733520508,9.065580368041992,-49.74759292602539,7.967201232910156,-17.218067169189453,10.93626880645752,-41.7291374206543,5.337181091308594,61.41626739501953,-24.264612197875977,22.657453536987305,28.008167266845703,-30.430635452270508,-8.17593765258789,-36.10211181640625,-48.46599578857422,-36.33716583251953,-3.172187328338623,42.55460739135742,13.76865291595459,50.34905242919922,-42.038185119628906,-38.590309143066406,12.19007396697998,41.37089920043945,47.64101791381836,4.788946151733398,-42.9741096496582,-32.87526321411133,-42.521820068359375,-36.508026123046875,-48.686214447021484,36.30437088012695,29.164587020874023,-50.9139518737793,33.007469177246094,-11.599800109863281,45.7935905456543,12.87841510772705,16.05621337890625,26.125871658325195,-38.962955474853516,20.852205276489258,-40.75142288208008,-43.27933120727539,7.435014247894287,-16.39824867248535,-49.271358489990234,25.03773307800293,-22.12114143371582,16.540613174438477,-14.944007873535156,-36.219200134277344,61.49071502685547,64.04766082763672,-38.764930725097656,1.0862818956375122,-0.22263328731060028,6.845894813537598,20.335693359375,-35.787410736083984,17.879480361938477,34.64708709716797,-10.243185043334961,-2.248542547225952,54.99048614501953,51.38256072998047,-40.12750244140625,46.47429656982422,-32.757041931152344,-39.48829650878906,-45.19560623168945,52.75885772705078,8.527897834777832,-41.915706634521484,4.045952796936035,-36.66205596923828,60.841644287109375,27.155820846557617,27.78866958618164,4.613297939300537,-50.50507354736328,-41.76748275756836,-48.827816009521484,-41.0721435546875,-34.54379653930664,-16.4916934967041,-48.99652099609375,-43.17871856689453,-50.5679931640625,20.733577728271484,19.593727111816406,-44.03157043457031,14.016615867614746,62.17024230957031,22.632518768310547,16.563682556152344,3.074223279953003,-8.575033187866211,-11.58753490447998,-52.37308883666992,27.248878479003906,32.26961898803711,24.408571243286133,49.614715576171875,-48.01033401489258,61.38383102416992,6.190572738647461,25.188291549682617,15.90454387664795,11.293023109436035,-43.1737060546875,20.096057891845703,-49.12046813964844,-10.71950912475586,-6.115477085113525,9.47042465209961,-23.72116470336914,15.611775398254395,2.3704605102539062,-46.20283889770508,62.26890182495117,-36.91389846801758,-49.94911193847656,17.03196144104004,25.735477447509766,-47.83024597167969,-41.03095626831055,21.635408401489258,-47.043460845947266,-38.927978515625,-45.19919204711914,2.073208808898926,33.09931182861328,12.935827255249023,47.68893051147461,17.970129013061523,45.372535705566406,-47.89449691772461,22.252046585083008,-25.100622177124023,-48.22317123413086,-45.733436584472656,13.798751831054688,35.273643493652344,44.23520278930664,-45.78330993652344,-10.948370933532715,-42.98101806640625,-52.67347717285156,14.643128395080566,-48.84869384765625,65.82279968261719,22.429933547973633,55.7670783996582,39.43635177612305,30.81359100341797,28.037015914916992,53.05130386352539,-43.22254943847656,-51.427791595458984,29.031326293945312,47.10483169555664,-37.21812057495117,-6.696557521820068,-2.7666804790496826,45.359825134277344,31.043987274169922,20.57070541381836,42.51325988769531,10.557698249816895,-54.5274543762207,9.972020149230957,-39.70545196533203,17.669607162475586,-44.401031494140625,10.371223449707031,6.0357441902160645,12.659354209899902,27.495044708251953,32.413658142089844,-43.198516845703125,-50.71125793457031,13.903214454650879,-18.755874633789062,-48.231536865234375,22.750900268554688,0.5658282041549683,34.951683044433594,-53.08850860595703,14.035551071166992,4.28232479095459,65.42724609375,-37.803627014160156,17.221410751342773,55.556339263916016,6.708327293395996,50.33428192138672,13.352360725402832,-5.857336044311523,-45.69783401489258,52.52349090576172,14.346879959106445,54.298187255859375,6.147587299346924,66.40400695800781,36.02143859863281,-52.2570915222168,33.959449768066406,-41.72150421142578,-53.03110885620117,-38.962162017822266,-6.976665019989014,-47.26533889770508,-41.05345916748047,61.52741622924805,19.92949676513672,-53.47446823120117,63.180267333984375,7.672935962677002,53.65888977050781,9.550885200500488,-52.67100524902344,1.0264791250228882,2.3413214683532715,-51.83859634399414,47.588409423828125,22.90401840209961,-3.894033670425415,56.38860321044922,6.372478008270264,6.471588134765625,-16.651731491088867,51.40925216674805,22.83426856994629,-51.67152404785156,66.03030395507812,-17.629690170288086,-43.39052963256836,7.823493480682373,-44.51355743408203,31.04759407043457,-39.48603820800781,-42.405784606933594,-51.43536376953125,-34.76593017578125,-29.537471771240234,30.31262969970703,1.00803542137146,26.13808250427246,31.07859230041504,-37.781795501708984,17.090055465698242,57.26741409301758,-35.390777587890625,-20.2781925201416,-45.64723205566406,19.62604522705078,60.52638626098633,13.449795722961426,4.753882884979248,-1.1246440410614014,-49.118648529052734,-6.740785121917725,64.68460083007812,-34.19855880737305,16.982784271240234,20.842809677124023,27.33988380432129,20.796825408935547,16.32563591003418,62.1586799621582,14.55276870727539,39.34487533569336,-48.03272247314453,32.05866622924805,19.4257755279541,5.16984224319458,-45.68333435058594,-31.93107795715332,-51.732879638671875,23.329254150390625,5.256271839141846,-24.650373458862305,-41.748680114746094,15.790217399597168,52.52092361450195,22.18659782409668,-8.532509803771973,-42.201942443847656,-9.299154281616211,-0.2535887658596039,11.897047996520996,60.13343811035156,-33.42940139770508,3.4187140464782715,32.96786117553711,56.21550369262695,55.84642791748047,43.2450065612793,34.02229309082031,-28.531185150146484,-19.951812744140625,-34.520851135253906,-44.178775787353516,56.34175109863281,35.299705505371094,15.19044303894043,-35.052711486816406,-46.84933853149414,20.955259323120117,-8.279144287109375,58.97987365722656,23.437231063842773,-38.34809494018555,12.127179145812988,26.174179077148438,47.419395446777344,3.9047341346740723,4.904052257537842,-46.999755859375,27.146818161010742,64.06809997558594,1.311963438987732,33.402488708496094,-46.50190353393555,34.655799865722656,-43.527992248535156,-27.324615478515625,-38.663387298583984,-40.7022590637207,10.831352233886719,5.047592639923096,15.851812362670898,-45.74108123779297,-41.99705123901367,47.21641540527344,12.688346862792969,15.8344087600708,65.93070220947266,-16.19866180419922,47.17232131958008,-51.00756072998047,-50.09729766845703,3.141402244567871,-11.938482284545898,63.013084411621094,4.209212303161621,48.648868560791016,29.3078556060791,3.2366185188293457,0.9295924305915833,29.29143524169922,-36.06267166137695,-45.87926483154297,62.623653411865234,-51.76041030883789,20.497865676879883,-39.222190856933594,-22.2000675201416,-9.775650024414062,-50.555259704589844,9.574309349060059,22.9615421295166,5.7578535079956055,26.376880645751953,28.17108154296875,14.790528297424316,-2.2486190795898438,-44.56663513183594,-43.76951217651367,36.77774429321289,-33.32633972167969,20.39568328857422,-9.421968460083008,-40.2918815612793,-54.21524429321289,-13.122140884399414,1.8367432355880737,-27.4571533203125,18.461078643798828,14.30453109741211,65.96631622314453,-40.24885940551758,-23.654922485351562,-37.24934387207031,52.17945098876953,24.462305068969727,-50.00249099731445,19.85468101501465,9.755603790283203,64.50506591796875,-38.95920181274414,15.015230178833008,-43.18412399291992,-45.373931884765625,-1.202210783958435,-32.75192642211914,-24.3149356842041,46.94381332397461,-50.34337615966797,27.69565200805664,36.74979019165039,28.620019912719727,-2.477810859680176,56.52849197387695,8.158957481384277,-40.45584487915039,-19.760526657104492,-26.428325653076172,-33.06324005126953,-53.164085388183594,-22.18793487548828,8.7169828414917,8.336403846740723,-51.01469421386719,-49.31235885620117,-39.32752227783203,-35.837059020996094,-41.009498596191406,59.36630630493164,-30.6920166015625,45.838600158691406,52.1311149597168,18.25707244873047,-27.165742874145508,13.690061569213867,35.50236511230469,-3.634546995162964,-38.233009338378906,15.840139389038086,5.242238998413086,25.53697967529297,29.840206146240234,-8.089930534362793,17.661893844604492,-29.62310218811035,53.890655517578125,-5.10686731338501,26.20453453063965,43.71070098876953,-40.54061508178711,61.094703674316406,-35.82049560546875,17.9398250579834,28.86411476135254,-52.07072830200195,55.26121520996094,-36.67850875854492,64.47010040283203,-52.27265167236328,16.253889083862305,-47.6773681640625,41.548072814941406,-36.396339416503906,-37.86515808105469,41.799049377441406,48.051673889160156,-16.675552368164062,-42.68206024169922,30.978235244750977,-37.679134368896484,-48.12336730957031,51.19627380371094,-51.04634094238281,-16.147705078125,-50.12257766723633,7.143379211425781,7.908973217010498,14.883305549621582,19.262128829956055,-36.6198844909668,-26.864538192749023,14.616170883178711,-35.610931396484375,50.872501373291016,-44.42134094238281,3.2650229930877686,61.47990036010742,11.433612823486328,28.403596878051758,-54.484657287597656,-45.14519119262695,8.66000747680664,5.654275894165039,-40.62932205200195,32.07870101928711,-4.6146368980407715,19.2719783782959,6.724884033203125,59.20098114013672,-48.45616912841797,-42.27857971191406,8.379743576049805,-51.336517333984375,45.14971923828125,65.35649108886719,-37.668251037597656,-44.135379791259766,5.365546226501465,18.08728790283203,29.637195587158203,15.550271987915039,10.244646072387695,-23.939144134521484,-53.66554641723633,-43.86848068237305,42.60273742675781,46.07747268676758,61.92304992675781,-36.71409225463867,53.61043167114258,-34.72132110595703,26.968830108642578,60.206748962402344,57.90595626831055,-35.91221618652344,61.16252517700195,44.46961975097656,-31.27875518798828,16.988494873046875,49.50438690185547,-51.655643463134766,-36.04490661621094,-26.262908935546875,38.19691848754883,-17.64629554748535,-47.43022155761719,-55.09360885620117,49.17363357543945,1.1341325044631958,10.998250961303711,-49.14389419555664,23.10895538330078,-36.536006927490234,-44.62040710449219,17.79261016845703,-49.70335006713867,-3.0750021934509277,-45.16020965576172,24.71786880493164,-48.996978759765625,-34.03236770629883,64.10380554199219,64.60889434814453,1.1821376085281372,60.19667053222656,25.274444580078125,59.19358825683594,33.72059631347656,61.30609893798828,11.541913986206055,49.80909729003906,-40.306495666503906,31.56149673461914,16.862173080444336,62.882354736328125,-16.80266571044922,-50.61344909667969,-40.522003173828125,12.942944526672363,16.46717071533203,-22.644332885742188,18.992765426635742,0.8349547386169434,17.922021865844727,30.67461585998535,-42.27394485473633,-34.33182144165039,25.379661560058594,59.237918853759766,15.288392066955566,-30.26351547241211,2.532625675201416,18.44039535522461,27.1932430267334,44.78028869628906,4.7391438484191895,-42.20371627807617,10.754508972167969,-5.685105800628662,19.512794494628906,-7.008837699890137,62.45195388793945,26.606082916259766,-50.57073974609375,17.72486686706543,8.95234489440918,-46.49571228027344,-42.44784164428711,-50.75910568237305,-30.478605270385742,43.6480712890625,-40.6637077331543,15.93614387512207,14.805893898010254,-30.247465133666992,28.924522399902344,21.840545654296875,17.37045669555664,55.02214431762695,-39.26061248779297,27.302387237548828,-46.663612365722656,24.12442398071289,6.978135108947754,64.33150482177734,20.0094051361084,-50.41701889038086,-27.51491355895996,-19.898210525512695,18.904069900512695,4.244465351104736,53.066383361816406,58.0517578125,-36.417030334472656,-39.891387939453125,30.420812606811523,65.35395050048828,-37.69538497924805,-22.659074783325195,15.526193618774414,35.742977142333984,62.09928894042969,29.86106300354004,59.40723419189453,-53.64981460571289,33.225887298583984,-33.577213287353516,3.263227701187134,11.811967849731445,-46.15877914428711,55.113739013671875,53.012821197509766,-49.391536712646484,-36.747554779052734,66.88939666748047,8.392680168151855,-50.427894592285156,-34.642784118652344,25.24899673461914,-44.889617919921875,30.067209243774414,-4.667214870452881,28.93531036376953,18.267192840576172,-50.38506317138672,29.13063621520996,25.92722511291504,-8.342475891113281,-8.439592361450195,19.43640899658203,-39.686439514160156,63.39589309692383,30.767091751098633,30.47470474243164,-47.02031707763672,-46.8203125,-37.9180793762207,8.93438720703125,-39.3873291015625,-50.34247589111328,11.243754386901855,4.9023237228393555,16.49619483947754,21.73766326904297,24.887243270874023,24.024192810058594,2.4640467166900635,-51.854087829589844,58.230987548828125,33.69099807739258,49.07072067260742,-27.35999298095703,64.01463317871094,14.2515869140625,3.297189712524414,-39.19189453125,-47.47959518432617,34.4033203125,-14.576208114624023,40.00373458862305,20.499622344970703,30.480224609375,48.760921478271484,-33.08229064941406,-1.2904889583587646,30.735660552978516,-30.35257911682129,5.545750617980957,66.07455444335938,22.953428268432617,62.89836502075195,16.296735763549805,63.477237701416016,5.143198490142822,-5.713798999786377,-35.94940948486328,65.93904113769531,25.258594512939453,-39.69779968261719,-26.28247833251953,-44.83613204956055,1.9003576040267944,-35.830013275146484,59.754093170166016,-21.454692840576172,8.016883850097656,-54.10599899291992,-28.699810028076172,66.61963653564453,-40.09243392944336,45.624046325683594,-19.540203094482422,19.08302116394043,56.296485900878906,17.299957275390625,36.76414108276367,55.00196838378906,-24.766447067260742,-25.803970336914062,34.89179229736328,48.0168571472168,32.862548828125,46.76353454589844,-47.85239791870117,-20.838720321655273,16.31387710571289,-33.066688537597656,33.79810333251953,-9.69665813446045,-51.02799987792969,7.700494766235352,38.44922637939453,43.9399528503418,3.243415117263794,-28.366615295410156,-38.269569396972656,46.9281005859375,4.279871940612793,9.652868270874023,-46.478355407714844,-42.02347183227539,-56.48550033569336,66.03617858886719,-30.9145565032959,-43.69425582885742,17.865699768066406,18.63490867614746,7.11382532119751,-6.000035762786865,32.0269889831543,-45.29030227661133,-10.443811416625977,46.13750457763672,4.719329833984375,34.376651763916016,-43.965599060058594,-53.351051330566406,-21.163145065307617,0.44355615973472595,5.522108554840088,44.41404724121094,63.356998443603516,65.41060638427734,-44.265350341796875,-37.99496078491211,-3.0804896354675293,-49.380741119384766,24.025833129882812,66.9882583618164,-2.75825834274292,58.124332427978516,-1.6058158874511719,56.43488311767578,-7.747060775756836,-33.958091735839844,-41.12651824951172,60.18703842163086,27.30731964111328,12.363041877746582,-45.291168212890625,33.11849594116211,17.42210578918457,-49.16759490966797,12.946452140808105,26.954635620117188,2.440401792526245,10.306817054748535,-5.400023460388184,15.973188400268555,-27.019428253173828,19.11223793029785,53.444915771484375,-23.662817001342773,0.6156654357910156,67.42201232910156,60.70361328125,-45.042572021484375,-52.174713134765625,15.243274688720703,42.841468811035156,-38.87150573730469,-0.3867720663547516,29.10803985595703,-6.159121990203857,4.448450088500977,4.076254367828369,-44.789005279541016,17.97585105895996,-35.126914978027344,-29.999284744262695,15.746084213256836,-7.453847885131836,-39.30833435058594,28.10721206665039,-52.772396087646484,50.26168441772461,34.785736083984375,15.475266456604004,48.773834228515625,-35.3620719909668,30.570894241333008,2.638005018234253,-47.13544464111328,42.57468795776367,-44.21726608276367,39.19969177246094,-41.57377624511719,-51.222599029541016,-42.78573989868164,9.944868087768555,64.63715362548828,-3.1350045204162598,17.834728240966797,4.6949849128723145,-28.393146514892578,-44.45410919189453,-51.82796096801758,1.9759958982467651,-53.53809356689453,14.087051391601562,58.437625885009766,36.811607360839844,36.07497787475586,-39.8031005859375,-40.3272819519043,60.1060676574707,-36.79145050048828,-22.29694175720215,47.469322204589844,34.91435623168945,-36.67903518676758,17.171510696411133,18.573495864868164,58.09284210205078,31.533405303955078,40.86676025390625,46.52337646484375,-51.775386810302734,-39.834251403808594,21.315542221069336,-46.09926986694336,3.768752336502075,7.889763832092285,47.98591995239258,64.67506408691406,-37.17245101928711,-11.238780975341797,31.161287307739258,27.345359802246094,-1.237504005432129,25.02298355102539,-51.389068603515625,-51.00568389892578,15.220152854919434,-6.036184310913086,32.69259262084961,33.45204162597656,-1.5578646659851074,-2.7852556705474854,-36.97768020629883,0.15052764117717743,28.869461059570312,-17.67548179626465,9.412396430969238,17.79500961303711,53.703250885009766,20.572162628173828,-51.61216735839844,44.23046875,34.51906204223633,21.048351287841797,-43.23847961425781,26.6325626373291,-42.981449127197266,2.2077853679656982,-49.467159271240234,-29.342021942138672,6.457245826721191,-43.728580474853516,45.1898307800293,38.99793243408203,-45.33921432495117,7.827856063842773,-49.53169631958008,-49.06706619262695,25.417095184326172,2.670604705810547,-38.03440475463867,-43.56497573852539,9.590127944946289,19.085416793823242,-38.23112487792969,-25.974536895751953,-45.86323547363281,52.945167541503906,0.798507809638977,-39.73202896118164,-6.917092323303223,26.194164276123047,-44.204654693603516,-27.44416046142578,9.840819358825684,-39.30342483520508,-49.295040130615234,-54.37793731689453,59.34984588623047,6.594628810882568,57.75741958618164,30.259563446044922,-48.026275634765625,-4.606337070465088,6.300208568572998,-12.576570510864258,-12.526078224182129,-45.857357025146484,-44.438026428222656,-43.34954071044922,-45.019256591796875,46.27333068847656,0.5742241144180298,-37.43967819213867,46.582061767578125,47.42557144165039,18.00797462463379,-54.02037048339844,-38.794254302978516,-21.338260650634766,-35.10692596435547,28.729549407958984,-3.0330963134765625,40.35527801513672,-44.112510681152344,-52.06535720825195,-42.904205322265625,31.16840362548828,-43.9046516418457,36.35590362548828,55.07490921020508,17.233518600463867,-50.136104583740234,-8.716964721679688,34.70083999633789,38.03185272216797,-29.3184757232666,58.149574279785156,7.295330047607422,66.95226287841797,-5.4967546463012695,-33.55467987060547,-44.9388542175293,63.6770133972168,15.809208869934082,58.91119384765625,-45.10283279418945,65.62339782714844,20.510723114013672,-46.6151123046875,21.966699600219727,50.23897933959961,26.09546661376953,66.14395141601562,25.746166229248047,6.948529243469238,-49.785133361816406,18.976430892944336,-8.095982551574707,38.21932601928711,4.196233749389648,-51.51315689086914,18.0849609375,-5.9603776931762695,-50.51945114135742,-1.3683032989501953,17.698633193969727,61.52949142456055,38.610984802246094,43.347896575927734,15.162949562072754,25.046300888061523,47.77986145019531,18.31853675842285,29.41413116455078,5.661605358123779,-33.83516311645508,-42.217689514160156,29.57056999206543,46.916656494140625,34.66425323486328,-42.4391975402832,19.652706146240234,-16.104089736938477,31.790597915649414,50.57199478149414,44.730674743652344,0.48952215909957886,3.6850266456604004,45.0281982421875,17.002452850341797,-12.352071762084961,-42.90775680541992,-6.951907157897949,58.13035202026367,23.702402114868164,-51.317115783691406,49.879150390625,19.520902633666992,18.966320037841797,-20.055490493774414,65.64529418945312,-36.61488342285156,15.6906156539917,14.410209655761719,16.5707950592041,9.627876281738281,-45.678462982177734,20.648548126220703,20.24154281616211,-46.3504753112793,-36.47909927368164,11.485742568969727,14.548389434814453,6.524550437927246,31.437667846679688,62.82709503173828,-46.460819244384766,-48.82957077026367,12.646638870239258,66.83111572265625,44.32061004638672,15.249811172485352,-42.90420913696289,2.638251543045044,4.774127006530762,-39.73199462890625,-35.88629150390625,30.407875061035156,12.453533172607422,-46.25035858154297,60.16812515258789,8.816694259643555,31.048566818237305,36.18799591064453,-2.1571602821350098,-50.87683868408203,50.836631774902344,34.75769805908203,-50.34477615356445,41.34262466430664,47.95087814331055,36.51262283325195,21.543806076049805,-5.804428577423096,-20.44118881225586,38.906131744384766,25.120031356811523,0.49941426515579224,-9.924383163452148,16.47786521911621,47.068092346191406,22.96959686279297,48.25077819824219,-27.34612274169922,64.01068115234375,5.987999439239502,-42.613563537597656,-52.02346420288086,-26.67474937438965,40.14276885986328,-48.28327941894531,-39.84663391113281,-21.10094451904297,21.184734344482422,-52.803096771240234,-47.075157165527344,23.275279998779297,13.268556594848633,43.839759826660156,27.522634506225586,19.409923553466797,31.94651222229004,63.167476654052734,31.365272521972656,-0.8670586943626404,-16.307769775390625,1.7091439962387085,16.967761993408203,-45.520606994628906,49.72029113769531,-11.949528694152832,25.16611671447754,-53.35932159423828,-0.7851722836494446,-40.19826126098633,42.860565185546875,-50.77318572998047,-18.49700164794922,32.570228576660156,63.28378677368164]},{\"mode\":\"text\",\"name\":\"Los m\\u00e1s mejores\",\"opacity\":0.9,\"text\":[\"L. Messi\",\"Cristiano Ronaldo\",\"Neymar Jr\",\"De Gea\",\"K. De Bruyne\",\"E. Hazard\",\"L. Modri\\u0107\",\"L. Su\\u00e1rez\",\"Sergio Ramos\",\"J. Oblak\",\"R. Lewandowski\",\"T. Kroos\",\"D. God\\u00edn\",\"David Silva\",\"N. Kant\\u00e9\",\"P. Dybala\",\"H. Kane\",\"A. Griezmann\",\"M. ter Stegen\",\"T. Courtois\",\"Sergio Busquets\",\"E. Cavani\",\"M. Neuer\",\"S. Ag\\u00fcero\",\"G. Chiellini\",\"K. Mbapp\\u00e9\",\"M. Salah\",\"Casemiro\",\"J. Rodr\\u00edguez\",\"L. Insigne\",\"Isco\",\"C. Eriksen\",\"Coutinho\",\"P. Aubameyang\",\"M. Hummels\",\"Marcelo\",\"G. Bale\",\"H. Lloris\",\"G. Higua\\u00edn\",\"Thiago Silva\",\"S. Handanovi\\u010d\",\"G. Buffon\",\"S. Umtiti\",\"M. Icardi\",\"K. Koulibaly\",\"P. Pogba\",\"K. Navas\",\"R. Lukaku\",\"C. Immobile\",\"Jordi Alba\",\"D. Mertens\",\"J. Vertonghen\",\"M. Ham\\u0161\\u00edk\",\"I. Rakiti\\u0107\",\"Piqu\\u00e9\",\"L. San\\u00e9\",\"Bernardo Silva\",\"Ederson\",\"S. Man\\u00e9\",\"V. van Dijk\",\"R. Sterling\",\"Roberto Firmino\",\"R. Varane\",\"M. Verratti\",\"Alex Sandro\",\"Douglas Costa\",\"T. M\\u00fcller\",\"Thiago\",\"M. Reus\",\"Azpilicueta\",\"L. Bonucci\",\"T. Alderweireld\",\"M. Pjani\\u0107\",\"M. Benatia\",\"M. \\u00d6zil\",\"Fernandinho\",\"Iniesta\"],\"textfont\":{\"color\":\"black\",\"family\":\"sans serif\",\"size\":10},\"type\":\"scatter\",\"x\":[13.315159797668457,14.943174362182617,13.012564659118652,52.59006881713867,-10.217474937438965,12.804288864135742,-11.710921287536621,14.668275833129883,6.481111526489258,48.036155700683594,16.7416934967041,-20.35291862487793,-5.126428127288818,-14.19692611694336,-18.387001037597656,12.716137886047363,16.38602066040039,13.5242919921875,46.88994598388672,48.989803314208984,6.07926607131958,16.864009857177734,52.462745666503906,14.903780937194824,-12.313775062561035,9.67786979675293,8.11441707611084,4.178418159484863,-15.019942283630371,-14.48299789428711,-12.366941452026367,-13.94916820526123,-13.389305114746094,11.692134857177734,2.0271172523498535,-22.507604598999023,9.745183944702148,48.08791732788086,19.029146194458008,5.583837032318115,47.000083923339844,49.388092041015625,5.985196113586426,20.58434295654297,-16.95981788635254,3.767672300338745,48.44447708129883,21.775264739990234,20.492027282714844,-24.28777313232422,-11.226912498474121,4.523586273193359,-12.245682716369629,-20.267778396606445,1.6293342113494873,10.028972625732422,-11.810943603515625,53.087432861328125,8.820165634155273,3.9619901180267334,-11.79967212677002,8.396711349487305,-18.312374114990234,-20.178483963012695,-20.212953567504883,-11.617382049560547,9.510400772094727,-11.830418586730957,10.65982437133789,-18.01396942138672,3.177762985229492,4.218066692352295,-13.97255802154541,-14.296727180480957,-16.375913619995117,-7.276493549346924,-13.474682807922363],\"y\":[-24.52358055114746,-29.514163970947266,-24.565584182739258,20.730010986328125,-13.366191864013672,-24.65146827697754,-11.67094898223877,-27.26917266845703,32.86183166503906,12.422930717468262,-29.30341911315918,-9.342175483703613,43.372684478759766,-23.215383529663086,9.757331848144531,-25.04534912109375,-27.625246047973633,-27.97347068786621,13.252629280090332,14.501928329467773,23.218868255615234,-28.00033950805664,21.167720794677734,-30.672401428222656,52.41279602050781,-29.671184539794922,-29.383132934570312,33.559566497802734,-26.819236755371094,-34.414974212646484,-13.689536094665527,-23.127641677856445,-24.658584594726562,-29.63124656677246,37.62702941894531,9.473580360412598,-19.19088363647461,17.68895149230957,-43.115474700927734,33.34790802001953,14.9341459274292,14.0106201171875,33.06311798095703,-46.73439407348633,65.65129852294922,3.4047560691833496,12.608414649963379,-41.95937728881836,-38.99415588378906,11.040836334228516,-34.24113845825195,34.00092315673828,-7.363554000854492,-9.380595207214355,38.0152587890625,-29.560501098632812,-30.64072036743164,20.23768424987793,-30.015182495117188,35.414268493652344,-28.258777618408203,-19.59490203857422,51.313411712646484,-0.8499363660812378,10.94109058380127,-32.08080291748047,-20.926311492919922,-11.935966491699219,-24.633567810058594,13.402671813964844,35.96562576293945,34.828426361083984,-9.36192798614502,52.4983024597168,-35.08738708496094,13.97457218170166,-13.22238826751709]}],                        {\"autosize\":false,\"height\":700,\"template\":{\"data\":{\"bar\":[{\"error_x\":{\"color\":\"#2a3f5f\"},\"error_y\":{\"color\":\"#2a3f5f\"},\"marker\":{\"line\":{\"color\":\"#E5ECF6\",\"width\":0.5},\"pattern\":{\"fillmode\":\"overlay\",\"size\":10,\"solidity\":0.2}},\"type\":\"bar\"}],\"barpolar\":[{\"marker\":{\"line\":{\"color\":\"#E5ECF6\",\"width\":0.5},\"pattern\":{\"fillmode\":\"overlay\",\"size\":10,\"solidity\":0.2}},\"type\":\"barpolar\"}],\"carpet\":[{\"aaxis\":{\"endlinecolor\":\"#2a3f5f\",\"gridcolor\":\"white\",\"linecolor\":\"white\",\"minorgridcolor\":\"white\",\"startlinecolor\":\"#2a3f5f\"},\"baxis\":{\"endlinecolor\":\"#2a3f5f\",\"gridcolor\":\"white\",\"linecolor\":\"white\",\"minorgridcolor\":\"white\",\"startlinecolor\":\"#2a3f5f\"},\"type\":\"carpet\"}],\"choropleth\":[{\"colorbar\":{\"outlinewidth\":0,\"ticks\":\"\"},\"type\":\"choropleth\"}],\"contour\":[{\"colorbar\":{\"outlinewidth\":0,\"ticks\":\"\"},\"colorscale\":[[0.0,\"#0d0887\"],[0.1111111111111111,\"#46039f\"],[0.2222222222222222,\"#7201a8\"],[0.3333333333333333,\"#9c179e\"],[0.4444444444444444,\"#bd3786\"],[0.5555555555555556,\"#d8576b\"],[0.6666666666666666,\"#ed7953\"],[0.7777777777777778,\"#fb9f3a\"],[0.8888888888888888,\"#fdca26\"],[1.0,\"#f0f921\"]],\"type\":\"contour\"}],\"contourcarpet\":[{\"colorbar\":{\"outlinewidth\":0,\"ticks\":\"\"},\"type\":\"contourcarpet\"}],\"heatmap\":[{\"colorbar\":{\"outlinewidth\":0,\"ticks\":\"\"},\"colorscale\":[[0.0,\"#0d0887\"],[0.1111111111111111,\"#46039f\"],[0.2222222222222222,\"#7201a8\"],[0.3333333333333333,\"#9c179e\"],[0.4444444444444444,\"#bd3786\"],[0.5555555555555556,\"#d8576b\"],[0.6666666666666666,\"#ed7953\"],[0.7777777777777778,\"#fb9f3a\"],[0.8888888888888888,\"#fdca26\"],[1.0,\"#f0f921\"]],\"type\":\"heatmap\"}],\"heatmapgl\":[{\"colorbar\":{\"outlinewidth\":0,\"ticks\":\"\"},\"colorscale\":[[0.0,\"#0d0887\"],[0.1111111111111111,\"#46039f\"],[0.2222222222222222,\"#7201a8\"],[0.3333333333333333,\"#9c179e\"],[0.4444444444444444,\"#bd3786\"],[0.5555555555555556,\"#d8576b\"],[0.6666666666666666,\"#ed7953\"],[0.7777777777777778,\"#fb9f3a\"],[0.8888888888888888,\"#fdca26\"],[1.0,\"#f0f921\"]],\"type\":\"heatmapgl\"}],\"histogram\":[{\"marker\":{\"pattern\":{\"fillmode\":\"overlay\",\"size\":10,\"solidity\":0.2}},\"type\":\"histogram\"}],\"histogram2d\":[{\"colorbar\":{\"outlinewidth\":0,\"ticks\":\"\"},\"colorscale\":[[0.0,\"#0d0887\"],[0.1111111111111111,\"#46039f\"],[0.2222222222222222,\"#7201a8\"],[0.3333333333333333,\"#9c179e\"],[0.4444444444444444,\"#bd3786\"],[0.5555555555555556,\"#d8576b\"],[0.6666666666666666,\"#ed7953\"],[0.7777777777777778,\"#fb9f3a\"],[0.8888888888888888,\"#fdca26\"],[1.0,\"#f0f921\"]],\"type\":\"histogram2d\"}],\"histogram2dcontour\":[{\"colorbar\":{\"outlinewidth\":0,\"ticks\":\"\"},\"colorscale\":[[0.0,\"#0d0887\"],[0.1111111111111111,\"#46039f\"],[0.2222222222222222,\"#7201a8\"],[0.3333333333333333,\"#9c179e\"],[0.4444444444444444,\"#bd3786\"],[0.5555555555555556,\"#d8576b\"],[0.6666666666666666,\"#ed7953\"],[0.7777777777777778,\"#fb9f3a\"],[0.8888888888888888,\"#fdca26\"],[1.0,\"#f0f921\"]],\"type\":\"histogram2dcontour\"}],\"mesh3d\":[{\"colorbar\":{\"outlinewidth\":0,\"ticks\":\"\"},\"type\":\"mesh3d\"}],\"parcoords\":[{\"line\":{\"colorbar\":{\"outlinewidth\":0,\"ticks\":\"\"}},\"type\":\"parcoords\"}],\"pie\":[{\"automargin\":true,\"type\":\"pie\"}],\"scatter\":[{\"marker\":{\"colorbar\":{\"outlinewidth\":0,\"ticks\":\"\"}},\"type\":\"scatter\"}],\"scatter3d\":[{\"line\":{\"colorbar\":{\"outlinewidth\":0,\"ticks\":\"\"}},\"marker\":{\"colorbar\":{\"outlinewidth\":0,\"ticks\":\"\"}},\"type\":\"scatter3d\"}],\"scattercarpet\":[{\"marker\":{\"colorbar\":{\"outlinewidth\":0,\"ticks\":\"\"}},\"type\":\"scattercarpet\"}],\"scattergeo\":[{\"marker\":{\"colorbar\":{\"outlinewidth\":0,\"ticks\":\"\"}},\"type\":\"scattergeo\"}],\"scattergl\":[{\"marker\":{\"colorbar\":{\"outlinewidth\":0,\"ticks\":\"\"}},\"type\":\"scattergl\"}],\"scattermapbox\":[{\"marker\":{\"colorbar\":{\"outlinewidth\":0,\"ticks\":\"\"}},\"type\":\"scattermapbox\"}],\"scatterpolar\":[{\"marker\":{\"colorbar\":{\"outlinewidth\":0,\"ticks\":\"\"}},\"type\":\"scatterpolar\"}],\"scatterpolargl\":[{\"marker\":{\"colorbar\":{\"outlinewidth\":0,\"ticks\":\"\"}},\"type\":\"scatterpolargl\"}],\"scatterternary\":[{\"marker\":{\"colorbar\":{\"outlinewidth\":0,\"ticks\":\"\"}},\"type\":\"scatterternary\"}],\"surface\":[{\"colorbar\":{\"outlinewidth\":0,\"ticks\":\"\"},\"colorscale\":[[0.0,\"#0d0887\"],[0.1111111111111111,\"#46039f\"],[0.2222222222222222,\"#7201a8\"],[0.3333333333333333,\"#9c179e\"],[0.4444444444444444,\"#bd3786\"],[0.5555555555555556,\"#d8576b\"],[0.6666666666666666,\"#ed7953\"],[0.7777777777777778,\"#fb9f3a\"],[0.8888888888888888,\"#fdca26\"],[1.0,\"#f0f921\"]],\"type\":\"surface\"}],\"table\":[{\"cells\":{\"fill\":{\"color\":\"#EBF0F8\"},\"line\":{\"color\":\"white\"}},\"header\":{\"fill\":{\"color\":\"#C8D4E3\"},\"line\":{\"color\":\"white\"}},\"type\":\"table\"}]},\"layout\":{\"annotationdefaults\":{\"arrowcolor\":\"#2a3f5f\",\"arrowhead\":0,\"arrowwidth\":1},\"autotypenumbers\":\"strict\",\"coloraxis\":{\"colorbar\":{\"outlinewidth\":0,\"ticks\":\"\"}},\"colorscale\":{\"diverging\":[[0,\"#8e0152\"],[0.1,\"#c51b7d\"],[0.2,\"#de77ae\"],[0.3,\"#f1b6da\"],[0.4,\"#fde0ef\"],[0.5,\"#f7f7f7\"],[0.6,\"#e6f5d0\"],[0.7,\"#b8e186\"],[0.8,\"#7fbc41\"],[0.9,\"#4d9221\"],[1,\"#276419\"]],\"sequential\":[[0.0,\"#0d0887\"],[0.1111111111111111,\"#46039f\"],[0.2222222222222222,\"#7201a8\"],[0.3333333333333333,\"#9c179e\"],[0.4444444444444444,\"#bd3786\"],[0.5555555555555556,\"#d8576b\"],[0.6666666666666666,\"#ed7953\"],[0.7777777777777778,\"#fb9f3a\"],[0.8888888888888888,\"#fdca26\"],[1.0,\"#f0f921\"]],\"sequentialminus\":[[0.0,\"#0d0887\"],[0.1111111111111111,\"#46039f\"],[0.2222222222222222,\"#7201a8\"],[0.3333333333333333,\"#9c179e\"],[0.4444444444444444,\"#bd3786\"],[0.5555555555555556,\"#d8576b\"],[0.6666666666666666,\"#ed7953\"],[0.7777777777777778,\"#fb9f3a\"],[0.8888888888888888,\"#fdca26\"],[1.0,\"#f0f921\"]]},\"colorway\":[\"#636efa\",\"#EF553B\",\"#00cc96\",\"#ab63fa\",\"#FFA15A\",\"#19d3f3\",\"#FF6692\",\"#B6E880\",\"#FF97FF\",\"#FECB52\"],\"font\":{\"color\":\"#2a3f5f\"},\"geo\":{\"bgcolor\":\"white\",\"lakecolor\":\"white\",\"landcolor\":\"#E5ECF6\",\"showlakes\":true,\"showland\":true,\"subunitcolor\":\"white\"},\"hoverlabel\":{\"align\":\"left\"},\"hovermode\":\"closest\",\"mapbox\":{\"style\":\"light\"},\"paper_bgcolor\":\"white\",\"plot_bgcolor\":\"#E5ECF6\",\"polar\":{\"angularaxis\":{\"gridcolor\":\"white\",\"linecolor\":\"white\",\"ticks\":\"\"},\"bgcolor\":\"#E5ECF6\",\"radialaxis\":{\"gridcolor\":\"white\",\"linecolor\":\"white\",\"ticks\":\"\"}},\"scene\":{\"xaxis\":{\"backgroundcolor\":\"#E5ECF6\",\"gridcolor\":\"white\",\"gridwidth\":2,\"linecolor\":\"white\",\"showbackground\":true,\"ticks\":\"\",\"zerolinecolor\":\"white\"},\"yaxis\":{\"backgroundcolor\":\"#E5ECF6\",\"gridcolor\":\"white\",\"gridwidth\":2,\"linecolor\":\"white\",\"showbackground\":true,\"ticks\":\"\",\"zerolinecolor\":\"white\"},\"zaxis\":{\"backgroundcolor\":\"#E5ECF6\",\"gridcolor\":\"white\",\"gridwidth\":2,\"linecolor\":\"white\",\"showbackground\":true,\"ticks\":\"\",\"zerolinecolor\":\"white\"}},\"shapedefaults\":{\"line\":{\"color\":\"#2a3f5f\"}},\"ternary\":{\"aaxis\":{\"gridcolor\":\"white\",\"linecolor\":\"white\",\"ticks\":\"\"},\"baxis\":{\"gridcolor\":\"white\",\"linecolor\":\"white\",\"ticks\":\"\"},\"bgcolor\":\"#E5ECF6\",\"caxis\":{\"gridcolor\":\"white\",\"linecolor\":\"white\",\"ticks\":\"\"}},\"title\":{\"x\":0.05},\"xaxis\":{\"automargin\":true,\"gridcolor\":\"white\",\"linecolor\":\"white\",\"ticks\":\"\",\"title\":{\"standoff\":15},\"zerolinecolor\":\"white\",\"zerolinewidth\":2},\"yaxis\":{\"automargin\":true,\"gridcolor\":\"white\",\"linecolor\":\"white\",\"ticks\":\"\",\"title\":{\"standoff\":15},\"zerolinecolor\":\"white\",\"zerolinewidth\":2}}},\"title\":{\"font\":{\"size\":20},\"text\":\"Visualizaci\\u00f3n de la base en el espacio tsne\"},\"width\":1000,\"xaxis\":{\"title\":{\"text\":\"componente 1\"}},\"yaxis\":{\"title\":{\"text\":\"componente 2\"}}},                        {\"responsive\": true}                    ).then(function(){\n",
       "                            \n",
       "var gd = document.getElementById('d5e779f5-f546-4fee-a25c-45d7e0f82eae');\n",
       "var x = new MutationObserver(function (mutations, observer) {{\n",
       "        var display = window.getComputedStyle(gd).display;\n",
       "        if (!display || display === 'none') {{\n",
       "            console.log([gd, 'removed!']);\n",
       "            Plotly.purge(gd);\n",
       "            observer.disconnect();\n",
       "        }}\n",
       "}});\n",
       "\n",
       "// Listen for the removal of the full notebook cells\n",
       "var notebookContainer = gd.closest('#notebook-container');\n",
       "if (notebookContainer) {{\n",
       "    x.observe(notebookContainer, {childList: true});\n",
       "}}\n",
       "\n",
       "// Listen for the clearing of the current output cell\n",
       "var outputEl = gd.closest('.output');\n",
       "if (outputEl) {{\n",
       "    x.observe(outputEl, {childList: true});\n",
       "}}\n",
       "\n",
       "                        })                };                            </script>        </div>\n",
       "</body>\n",
       "</html>"
      ]
     },
     "metadata": {},
     "output_type": "display_data"
    }
   ],
   "source": [
    "#En Colab\n",
    "fig.show(renderer=\"colab\")"
   ]
  },
  {
   "cell_type": "markdown",
   "metadata": {
    "id": "CNMpI5dUT4bb"
   },
   "source": [
    "**INTERPRETACIÓN**\n",
    "\n",
    "Un poco de análisis visual supervisado usando tsne\n",
    "\n",
    "Ponemos a prueba la intuición o preconcepto de que los jugadores se agrupan en el espacio de las habilidades (transformado/reducido por tsne) según la posición... \n",
    "\n",
    "Creamos una nueva columna con 4 categorias de posiciones:"
   ]
  },
  {
   "cell_type": "code",
   "execution_count": null,
   "metadata": {
    "id": "POcEWAwOT4be"
   },
   "outputs": [],
   "source": [
    "forwards=['RF', 'ST', 'LW', 'LF', 'RS', 'LS', 'RM', 'LM','RW']\n",
    "midfielders=['RCM','LCM','LDM','CAM','CDM','LAM','RDM','CM','RAM','CF']\n",
    "defenders=['RCB','CB','LCB','LB','RB','RWB','LWB']\n",
    "goalkeepers=['GK']\n",
    "\n",
    "def pos2(position):\n",
    "    if position in forwards:\n",
    "        return 'Forward'\n",
    "    \n",
    "    elif position in midfielders:\n",
    "        return 'Midfielder'\n",
    "    \n",
    "    elif position in defenders:\n",
    "        return 'Defender'\n",
    "    \n",
    "    elif position in goalkeepers:\n",
    "        return 'GK'\n",
    "    \n",
    "    else:\n",
    "        return 'nan'"
   ]
  },
  {
   "cell_type": "code",
   "execution_count": null,
   "metadata": {
    "colab": {
     "base_uri": "https://localhost:8080/"
    },
    "executionInfo": {
     "elapsed": 280,
     "status": "ok",
     "timestamp": 1631020491728,
     "user": {
      "displayName": "Valeria S RULLONI",
      "photoUrl": "",
      "userId": "09936144167370803067"
     },
     "user_tz": 180
    },
    "id": "IlW7CYzqT4bi",
    "outputId": "094bfece-7141-4aad-ae0c-8d68d31371ff"
   },
   "outputs": [],
   "source": [
    "df_sne[\"Position2\"]=df_sne[\"Position\"].apply(lambda x: pos2(x))\n",
    "\n",
    "df_sne[\"Position2\"].value_counts()"
   ]
  },
  {
   "cell_type": "markdown",
   "metadata": {
    "id": "Ab9HDcZLT4bl"
   },
   "source": [
    "**GRAFICAMOS** \n",
    "\n",
    "Las variables que usamos para el scatterplot son las 2 componentes dadas por tSNE\n",
    "\n",
    "diferenciamos usando vectores booleanos: para cada posición y si es un ckack "
   ]
  },
  {
   "cell_type": "code",
   "execution_count": null,
   "metadata": {
    "id": "mwcDwsoiT4bs"
   },
   "outputs": [],
   "source": [
    "bool_striker= df_sne[\"Position2\"] == 'Forward'\n",
    "bool_midfielder= df_sne[\"Position2\"] == 'Midfielder'\n",
    "bool_defender= df_sne[\"Position2\"] == 'Defender'\n",
    "bool_gk= df_sne[\"Position2\"] == 'GK'\n",
    "\n",
    "bool_crack=df_sne[\"Overall\"] > 85\n",
    "\n",
    "palette=['navy','red','#A2D5F2','orange','green','pink']  \n",
    "data=[]\n",
    "\n",
    "striker =go.Scatter(x=X_tsne[bool_striker,0], y=X_tsne[bool_striker,1],name='Striker',\n",
    "                      text=df_sne.loc[bool_striker,'Name'],\n",
    "                      opacity=0.9,marker=dict(color=palette[2],size=5),mode='markers')\n",
    "\n",
    "midfielder =go.Scatter(x=X_tsne[bool_midfielder,0], y=X_tsne[bool_midfielder,1],name='Midfielder',\n",
    "                      text=df_sne.loc[bool_midfielder,'Name'],\n",
    "                      opacity=0.6,marker=dict(color=palette[1],size=5),mode='markers')\n",
    "\n",
    "defender =go.Scatter(x=X_tsne[bool_defender,0], y=X_tsne[bool_defender,1],name='Defender',\n",
    "                      text=df_sne.loc[bool_defender,'Name'],\n",
    "                      opacity=0.7,marker=dict(color=palette[3],size=5),mode='markers')\n",
    "\n",
    "gk =go.Scatter(x=X_tsne[bool_gk,0], y=X_tsne[bool_gk,1],name='GK',\n",
    "                      text=df_sne.loc[bool_gk,'Name'],\n",
    "                      opacity=0.4,marker=dict(color=palette[4],size=5),mode='markers')\n",
    "\n",
    "crack =go.Scatter(x=X_tsne[bool_crack,0], y=X_tsne[bool_crack,1],name='Top player',\n",
    "                      text=df_sne.loc[bool_crack,'Name'],textfont=dict(family='sans serif',color='black',size=16),\n",
    "                      opacity=0.9,mode='text')\n",
    "\n",
    "data=[striker,midfielder,defender,gk,crack]\n",
    "\n",
    "layout = go.Layout(title=\"t-SNE - Fifa Players\",titlefont=dict(size=20),\n",
    "                autosize=False, width=1150,height=750)\n",
    "\n",
    "fig = go.Figure(data=data, layout=layout)\n",
    "\n",
    "#iplot(fig)\n",
    "#plot(fig)"
   ]
  },
  {
   "cell_type": "code",
   "execution_count": null,
   "metadata": {
    "colab": {
     "base_uri": "https://localhost:8080/",
     "height": 767
    },
    "executionInfo": {
     "elapsed": 579,
     "status": "ok",
     "timestamp": 1631020791122,
     "user": {
      "displayName": "Valeria S RULLONI",
      "photoUrl": "",
      "userId": "09936144167370803067"
     },
     "user_tz": 180
    },
    "id": "ujz9zIHjZiu6",
    "outputId": "bc0a2325-c97a-43e2-d41e-4c3934ca656a"
   },
   "outputs": [],
   "source": [
    "#En Colab\n",
    "fig.show(renderer=\"colab\")"
   ]
  },
  {
   "cell_type": "markdown",
   "metadata": {
    "id": "11t_c23xT4cI"
   },
   "source": [
    "Como conclusión, podemos ver que en este espacio 2D es realmente muy evidente la separación de los arqueros del resto de los jugadores (lo cual es lógico pues sus habilidades son muy diferentes, lo vimos también en la primera semana de clases en dimensión 34, graficando de a dos variable por vez). \n",
    "\n",
    "El agrupamiento visual, en este espacio, de los jugadores no es tan evidente pues los clusters no son disconexos.\n",
    "\n",
    "Las posiciones no explican tan claramente los clusters encontrados \n",
    "\n",
    "Una explicación posible puede ser porque hay jugadores ambivalentes que unen los espacios entre defensa, mediocampo y ataque. \n",
    "\n",
    "Habrá otra explicación?? \n",
    "\n",
    "Que otras variables (que no estamos graficando) pueden explicar los grupos? \n",
    "\n",
    "En este espacio tsne ... es decir usando \"X_tsne[:,0]\" y \"X_tsne[:,0]\"\n",
    "Cuantos grupos encontrará Mean Shift? o cuales k-medias? hacerlo para el práctico con los datos FIFA2021"
   ]
  },
  {
   "cell_type": "code",
   "execution_count": null,
   "metadata": {
    "id": "PcrWvKdMT4cM"
   },
   "outputs": [],
   "source": []
  },
  {
   "cell_type": "markdown",
   "metadata": {
    "id": "Q2uanRH1T4cO"
   },
   "source": [
    "# 4.-Componentes-Principales "
   ]
  },
  {
   "cell_type": "markdown",
   "metadata": {
    "id": "v2Cbhvu7T4cQ"
   },
   "source": [
    "PCA\n",
    "Para reducción de dimensión\n",
    "de n dimensiones a m dimensiones con 'm<<n'\n",
    "\n",
    "Pseudo-ejemplo intuitivo:\n",
    "Via láctea en 3D  https://youtu.be/WNASVRwdf9Q  o https://www.youtube.com/watch?v=S7GiZMVNB20                                        \n",
    "a Via láctea en 2D (la proyección en 2D que mejor describe la dispersión de los datos/estrellas)\n",
    "\n",
    "<center>\n"
   ]
  },
  {
   "cell_type": "markdown",
   "metadata": {
    "id": "e_BeCz-AcbdL"
   },
   "source": [
    "![hubble-13-ngc-1300-barred-spiral-galaxy-1920.jpg](data:image/jpeg;base64,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)"
   ]
  },
  {
   "cell_type": "markdown",
   "metadata": {
    "id": "5Rqze4v4T4cS"
   },
   "source": [
    "**Variables de desempeño (skills_ratings)**\n",
    "\n",
    "**Retiramos arqueros y jugadores con bajo ranking**\n"
   ]
  },
  {
   "cell_type": "code",
   "execution_count": null,
   "metadata": {
    "id": "IUTcqFx1T4cV"
   },
   "outputs": [],
   "source": [
    "n_acp=18000\n",
    "\n",
    "df_acp=df.loc[:n_acp]\n",
    "df_acp=df_acp[(df_acp[\"Position\"]!='GK')&(df['Overall']>70)]\n",
    "\n",
    "skills_ratings = ['Crossing', 'Finishing', 'HeadingAccuracy', 'ShortPassing', \n",
    "                  'Volleys', 'Dribbling', 'Curve', 'FKAccuracy', 'LongPassing', \n",
    "                  'BallControl', 'Acceleration', 'SprintSpeed', 'Agility', 'Reactions', \n",
    "                  'Balance', 'ShotPower', 'Jumping', 'Stamina', 'Strength', 'LongShots', \n",
    "                  'Aggression', 'Interceptions', 'Positioning', 'Vision', 'Penalties', 'Composure',\n",
    "                  'Marking', 'StandingTackle', 'SlidingTackle'] \n",
    "\n",
    "#otros skills_ratings ! sacamos las habilidades de los arqueros"
   ]
  },
  {
   "cell_type": "markdown",
   "metadata": {
    "id": "ErsBY8qNT4cZ"
   },
   "source": [
    "Restringimos los datos a las variables numéricas que consideramos"
   ]
  },
  {
   "cell_type": "code",
   "execution_count": null,
   "metadata": {
    "colab": {
     "base_uri": "https://localhost:8080/"
    },
    "executionInfo": {
     "elapsed": 522,
     "status": "ok",
     "timestamp": 1631022249178,
     "user": {
      "displayName": "Valeria S RULLONI",
      "photoUrl": "",
      "userId": "09936144167370803067"
     },
     "user_tz": 180
    },
    "id": "yZ76OtpPT4ca",
    "outputId": "81497f8f-e636-4838-a56d-14c2b6672b4d"
   },
   "outputs": [],
   "source": [
    "X=df_acp[skills_ratings] # Datos para proyectar\n",
    "print('los datos tienen dimesión n= ',len(skills_ratings))"
   ]
  },
  {
   "cell_type": "markdown",
   "metadata": {
    "id": "wvSLLcr-T4cd"
   },
   "source": [
    "**Se computan las componentes principales**\n",
    "\n",
    "-cuando se usa *decomposition.PCA* : \n",
    "\n",
    "La descomposición PCA del sklearn centra los datos pero no los Estandariza (input data is centered but not scaled for each feature before applying the SVD)\n",
    "\n",
    "por eso **estandarizamos primero**"
   ]
  },
  {
   "cell_type": "code",
   "execution_count": null,
   "metadata": {
    "id": "HAaqOKRZT4cf"
   },
   "outputs": [],
   "source": [
    "std_scale=preprocessing.StandardScaler().fit(X)\n",
    "X_scaled=std_scale.transform(X) # numpyarray Estandarizado (le resta la media y divide por el desvío) por columna"
   ]
  },
  {
   "cell_type": "code",
   "execution_count": null,
   "metadata": {
    "id": "_vV1WbwKT4ch",
    "outputId": "df657b03-e2f8-446d-e418-e934942fcf2a",
    "scrolled": true
   },
   "outputs": [],
   "source": [
    "print(X_scaled[0:2])\n",
    "X.head(2)"
   ]
  },
  {
   "cell_type": "markdown",
   "metadata": {
    "id": "Qcb4TGxpT4ci"
   },
   "source": [
    "**DESCOMPOSICIÓN PCA**\n",
    "\n",
    "En la descomposición podemos elegir n_components para quedarnos con una cantidad chica de componentes \n",
    "\n",
    "la idea es que sean \"bastante\" menos que la dimensión de lo datos pero \n",
    "\n",
    "que describan un buen porcentaje de la dispersión de los datos"
   ]
  },
  {
   "cell_type": "code",
   "execution_count": null,
   "metadata": {
    "colab": {
     "base_uri": "https://localhost:8080/"
    },
    "executionInfo": {
     "elapsed": 404,
     "status": "ok",
     "timestamp": 1631022471818,
     "user": {
      "displayName": "Valeria S RULLONI",
      "photoUrl": "",
      "userId": "09936144167370803067"
     },
     "user_tz": 180
    },
    "id": "Frx_yoJDT4cj",
    "outputId": "ff4a5c06-f57c-41ca-b822-307ca650cbc0"
   },
   "outputs": [],
   "source": [
    "pca=decomposition.PCA(n_components=4) #elegimos 2, 3 o 4 pero pueden ser más, \n",
    "\n",
    "pca.fit(X_scaled) #input data is centered but not scaled for each feature before applying the SVD\n",
    "\n",
    "# proporción de varianza\n",
    "print('proporción de varianza por componente: ', pca.explained_variance_ratio_)\n",
    "# proporción de varianza acumulada\n",
    "print ('proporción de varianza por componente acumulada: ', pca.explained_variance_ratio_.cumsum())\n",
    "\n",
    "X_projected=pca.transform(X_scaled) #numpy array\n",
    "print ('tamaño de los datos: ', X_projected.shape)\n"
   ]
  },
  {
   "cell_type": "code",
   "execution_count": null,
   "metadata": {
    "colab": {
     "base_uri": "https://localhost:8080/"
    },
    "executionInfo": {
     "elapsed": 341,
     "status": "ok",
     "timestamp": 1631022502705,
     "user": {
      "displayName": "Valeria S RULLONI",
      "photoUrl": "",
      "userId": "09936144167370803067"
     },
     "user_tz": 180
    },
    "id": "5OfHqT1fT4cm",
    "outputId": "f7d1dcdb-4eeb-477e-af24-5651d4cffe2f"
   },
   "outputs": [],
   "source": [
    "print (X_projected[0:5])#5 primeros jugadores, n_components"
   ]
  },
  {
   "cell_type": "code",
   "execution_count": null,
   "metadata": {
    "colab": {
     "base_uri": "https://localhost:8080/"
    },
    "executionInfo": {
     "elapsed": 32,
     "status": "ok",
     "timestamp": 1631022505073,
     "user": {
      "displayName": "Valeria S RULLONI",
      "photoUrl": "",
      "userId": "09936144167370803067"
     },
     "user_tz": 180
    },
    "id": "_gdRiCd1T4cw",
    "outputId": "dadb67d8-e756-469f-a58f-fd8044d87b76"
   },
   "outputs": [],
   "source": [
    "pcs=pca.components_  #\"composición\" de las primeras componentes, \n",
    "print(pcs)  # el aporte/pesos de las variables: skills_ratings"
   ]
  },
  {
   "cell_type": "markdown",
   "metadata": {
    "id": "iWRmnIBIT4c0"
   },
   "source": [
    "El siguiente gráfico muestra la composición de los pesos de las dos primeras componentes principales. "
   ]
  },
  {
   "cell_type": "code",
   "execution_count": null,
   "metadata": {
    "id": "HdfXzPy4T4c3"
   },
   "outputs": [],
   "source": [
    "#Graph 1\n",
    "data=[]\n",
    "\n",
    "for i, (x,y) in enumerate(zip(pcs[0,:],pcs[1,:])):\n",
    "    graph=go.Scatter(x=[0,x],y=[0,y],text=X.columns[i],\n",
    "                     mode='lines+markers+text',textposition='top left',textfont=dict(family='sans serif',size=15))\n",
    "    data.append(graph)\n",
    "\n",
    "layout = go.Layout(title=\"ACP - Fifa Skills\",titlefont=dict(size=20),\n",
    "            xaxis=dict(title='Componente 1'),\n",
    "            yaxis=dict(title='Componente 2'),\n",
    "            autosize=False, width=1050,height=750,\n",
    "            showlegend=False)\n",
    "\n",
    "fig = go.Figure(data=data, layout=layout)\n",
    "#plot(fig)"
   ]
  },
  {
   "cell_type": "code",
   "execution_count": null,
   "metadata": {
    "colab": {
     "base_uri": "https://localhost:8080/",
     "height": 787
    },
    "executionInfo": {
     "elapsed": 364,
     "status": "ok",
     "timestamp": 1631022526773,
     "user": {
      "displayName": "Valeria S RULLONI",
      "photoUrl": "",
      "userId": "09936144167370803067"
     },
     "user_tz": 180
    },
    "id": "vHcUOWixgAbo",
    "outputId": "cba341b4-b210-4b8b-a9c0-3fbddb01e9a1"
   },
   "outputs": [],
   "source": [
    "#En Colab\n",
    "fig.show(renderer=\"colab\")"
   ]
  },
  {
   "cell_type": "markdown",
   "metadata": {
    "id": "BAi9ughpT4c7"
   },
   "source": [
    "Se crea el jugador perfecto para ver a donde se ubica en nuestra visualización, se lo agrega a los datos normalizados y a las componentes ya calculadas (sin usarlo)."
   ]
  },
  {
   "cell_type": "code",
   "execution_count": null,
   "metadata": {
    "id": "mBuX1lz0T4c_"
   },
   "outputs": [],
   "source": [
    "MachineGunDict={'Name':'MachineGun','Overall':99}\n",
    "for skills in skills_ratings:\n",
    "    MachineGunDict[skills]=99\n",
    "    \n",
    "#Lo agregamos a la base:\n",
    "df_acp=df_acp.append(MachineGunDict,ignore_index=True)\n",
    "X=df_acp[skills_ratings] # Datos sin estandarizar\n",
    "X_scaled=std_scale.transform(X) # volvemos a estandarizar con el dato agregado \n",
    "#pero con la estandarización de la base sin el dato nuevo\n",
    "X_projected=pca.transform(X_scaled) # volvemos a proyectar pero con el dato nuevo"
   ]
  },
  {
   "cell_type": "markdown",
   "metadata": {
    "id": "1pesZGI0T4dB"
   },
   "source": [
    "**Graficamos a los jugadores usando las dos primeras componentes de PCA, proyectamos los datos (de dim 29) en ese espacio de dimensión 2**\n",
    "\n",
    "Identificamos a MachineGun y a un jugador en particular, por ejemplo, Lio Messi: "
   ]
  },
  {
   "cell_type": "code",
   "execution_count": null,
   "metadata": {
    "id": "3rcgmVVdT4dC"
   },
   "outputs": [],
   "source": [
    "#Graph 2\n",
    "#Choose your player\n",
    "recherche_joueur=df_acp[\"Name\"]=='L. Messi'\n",
    "\n",
    "bool_crack=df_acp[\"Overall\"] > 85\n",
    "bool_no_crack=df_acp[\"Overall\"]<86\n",
    "bool_machinegun=df_acp[\"Name\"]=='MachineGun'\n",
    "\n",
    "palette=['navy','red','#A2D5F2','orange','green','pink']  \n",
    "data=[]\n",
    "\n",
    "acp_crack =go.Scatter(x=X_projected[bool_crack,0], y=X_projected[bool_crack,1],name='Crack',\n",
    "                      text=df_acp.loc[bool_crack,'Name'],\n",
    "                      textfont=dict(family='sans serif',size=15,color='black'),\n",
    "                      opacity=0.9,marker=dict(color=palette[2],size=7),mode='markers+text')\n",
    "\n",
    "acp_no_crack =go.Scatter(x=X_projected[bool_no_crack,0], y=X_projected[bool_no_crack,1],name='Average player',\n",
    "                         text=df_acp.loc[bool_no_crack,'Name'],\n",
    "                         opacity=0.6,marker=dict(color=palette[1],size=3),mode='markers')\n",
    "\n",
    "acp_machinegun =go.Scatter(x=X_projected[bool_machinegun,0], y=X_projected[bool_machinegun,1],name='Perfect player',\n",
    "                           textfont=dict(family='sans serif',size=20,color='black'),\n",
    "                           opacity=0.6,marker=dict(color=palette[3],size=30),mode='markers+text')\n",
    "\n",
    "\n",
    "joueur_recherche =go.Scatter(x=X_projected[recherche_joueur,0], y=X_projected[recherche_joueur,1],name='Searched player',\n",
    "                           text=df_acp.loc[recherche_joueur,'Name'],\n",
    "                            textfont=dict(family='sans serif',size=20,color='black'),\n",
    "                           opacity=1,marker=dict(color=palette[4],size=40),mode='markers+text')\n",
    "\n",
    "data=[acp_no_crack,acp_crack,acp_machinegun,joueur_recherche]\n",
    "\n",
    "layout = go.Layout(title=\"ACP - Fifa Players\",titlefont=dict(size=20),\n",
    "                xaxis=dict(title='Componente 1'),\n",
    "                yaxis=dict(title='componente 2'),\n",
    "                autosize=False, width=1000,height=750)\n",
    "\n",
    "fig = go.Figure(data=data, layout=layout)\n",
    "\n",
    "#plot(fig)"
   ]
  },
  {
   "cell_type": "code",
   "execution_count": null,
   "metadata": {
    "colab": {
     "base_uri": "https://localhost:8080/",
     "height": 787
    },
    "executionInfo": {
     "elapsed": 947,
     "status": "ok",
     "timestamp": 1631022774813,
     "user": {
      "displayName": "Valeria S RULLONI",
      "photoUrl": "",
      "userId": "09936144167370803067"
     },
     "user_tz": 180
    },
    "id": "-qKuiiQIhyJ2",
    "outputId": "87283a63-3939-49c1-d89e-e25c8d6bae98"
   },
   "outputs": [],
   "source": [
    "#En Colab\n",
    "fig.show(renderer=\"colab\")"
   ]
  },
  {
   "cell_type": "markdown",
   "metadata": {
    "id": "vc3LPQ4AT4dE"
   },
   "source": [
    "Se puede comparar dos equipos y ver los perfiles de los jugadores en las dos primeras componentes."
   ]
  },
  {
   "cell_type": "code",
   "execution_count": null,
   "metadata": {
    "id": "zx_V5QMMT4dG"
   },
   "outputs": [],
   "source": [
    "teamA='Liverpool'\n",
    "teamB='Manchester United'\n",
    "\n",
    "bool_teamA=df_acp[\"Club\"]==teamA\n",
    "bool_teamB=df_acp[\"Club\"]==teamB\n",
    "\n",
    "palette=['navy','red','#A2D5F2','orange','green','pink','grey']  \n",
    "data=[]\n",
    "\n",
    "acp_teamA =go.Scatter(x=X_projected[bool_teamA,0], y=X_projected[bool_teamA,1],name=teamA,\n",
    "                      text=df_acp.loc[bool_teamA,'Name'],\n",
    "                      textfont=dict(family='sans serif',size=20,color='black'),\n",
    "                      opacity=0.7,marker=dict(color=palette[1],size=10),mode='markers+text')\n",
    "\n",
    "acp_teamB =go.Scatter(x=X_projected[bool_teamB,0], y=X_projected[bool_teamB,1],name=teamB,\n",
    "                      text=df_acp.loc[bool_teamB,'Name'],\n",
    "                      textfont=dict(family='sans serif',size=20,color='black'),\n",
    "                      opacity=0.7,marker=dict(color=palette[4],size=10),mode='markers+text')\n",
    "\n",
    "acp_all =go.Scatter(x=X_projected[:,0], y=X_projected[:,1],name='All',\n",
    "                         text=df_acp.loc[:,'Name'],\n",
    "                         opacity=0.3,marker=dict(color=palette[6],size=3),mode='markers')\n",
    "\n",
    "\n",
    "data=[acp_teamA,acp_teamB,acp_all]\n",
    "\n",
    "layout = go.Layout(title=\"ACP - {} vs {}\".format(teamA,teamB),titlefont=dict(size=20),\n",
    "                xaxis=dict(title='F1'),\n",
    "                yaxis=dict(title='F2'),\n",
    "                autosize=False, width=1000,height=750)\n",
    "\n",
    "fig = go.Figure(data=data, layout=layout)\n",
    "#plot(fig)"
   ]
  },
  {
   "cell_type": "code",
   "execution_count": null,
   "metadata": {
    "colab": {
     "base_uri": "https://localhost:8080/"
    },
    "executionInfo": {
     "elapsed": 50,
     "status": "ok",
     "timestamp": 1631022856366,
     "user": {
      "displayName": "Valeria S RULLONI",
      "photoUrl": "",
      "userId": "09936144167370803067"
     },
     "user_tz": 180
    },
    "id": "sdIg5NI_iPX8",
    "outputId": "7e742751-242e-4773-cd38-bebf7b39a795"
   },
   "outputs": [],
   "source": [
    "#En Colab\n",
    "fig.show(renderer=\"colab\")"
   ]
  },
  {
   "cell_type": "markdown",
   "metadata": {
    "id": "GVeXDQlNT4dI"
   },
   "source": [
    "# 5 .-Clustering"
   ]
  },
  {
   "cell_type": "markdown",
   "metadata": {
    "id": "xCwsHE0aT4dJ"
   },
   "source": [
    "**Trabajo en grupo**: Veamos ahora que agrupamientos podemos hacer de los jugadores usando las dos/tres o cuatro primeras componentes. \n",
    "\n",
    "Presentar este ejercicio (con comentarios) pero con los datos FIFA2021 para el práctico entregable"
   ]
  },
  {
   "cell_type": "code",
   "execution_count": null,
   "metadata": {
    "colab": {
     "base_uri": "https://localhost:8080/"
    },
    "executionInfo": {
     "elapsed": 321,
     "status": "ok",
     "timestamp": 1631022862189,
     "user": {
      "displayName": "Valeria S RULLONI",
      "photoUrl": "",
      "userId": "09936144167370803067"
     },
     "user_tz": 180
    },
    "id": "Be9J__DET4dK",
    "outputId": "933dcab5-e3ca-4192-d4e2-7d87568f2888"
   },
   "outputs": [],
   "source": [
    "##Hay que quitar MachineGun para Clustering\n",
    "df_acp=df.loc[:n_acp]\n",
    "df_acp=df_acp[(df_acp[\"Position\"]!='GK')&(df['Overall']>70)]\n",
    "\n",
    "X=df_acp[skills_ratings] # Datos sin estandarizar\n",
    "X_scaled=std_scale.transform(X) # volvemos a normalizar (ya estaba ajustada)\n",
    "X_projected=pca.transform(X_scaled) #volvemos a proyectar \n",
    "print('dimensiones de la base proyectada:', X_projected.shape)"
   ]
  },
  {
   "cell_type": "markdown",
   "metadata": {
    "id": "yge92qCVT4dN"
   },
   "source": [
    "k-medias y visualizar los clusters encontrados en las dos primeras componentes"
   ]
  },
  {
   "cell_type": "code",
   "execution_count": null,
   "metadata": {
    "id": "dOu9OXLXT4dO"
   },
   "outputs": [],
   "source": []
  },
  {
   "cell_type": "markdown",
   "metadata": {
    "id": "KE_0wVgmT4dP"
   },
   "source": [
    "Mean Shift y visualizar en las dos primeras componentes "
   ]
  },
  {
   "cell_type": "code",
   "execution_count": null,
   "metadata": {
    "id": "0OfuHYyIT4dU"
   },
   "outputs": [],
   "source": []
  },
  {
   "cell_type": "code",
   "execution_count": null,
   "metadata": {
    "id": "2pDuVlx5T4dY"
   },
   "outputs": [],
   "source": [
    "#clusters2= ms.labels_"
   ]
  },
  {
   "cell_type": "code",
   "execution_count": null,
   "metadata": {
    "id": "J3zPGtI2T4dk",
    "outputId": "89d31e02-a1fa-4edf-a74d-1bb6c6f59973"
   },
   "outputs": [],
   "source": [
    "data=[]\n",
    "bool_crack=df_acp[\"Overall\"] > 85\n",
    "bool_no_crack=df_acp[\"Overall\"]<86\n",
    "\n",
    "kmean_clusters = go.Scatter(x=X_projected[:,0], y=X_projected[:,1],\n",
    "                           mode='markers',\n",
    "                        text=df_acp.loc[:,'Name'],\n",
    "                           marker=dict(\n",
    "                                size=5,\n",
    "                                color = clusters2.astype(np.float), #set color equal to a variable\n",
    "                                colorscale='Portland',\n",
    "                                showscale=False)\n",
    "                           )\n",
    "\n",
    "acp_crack =go.Scatter(x=X_projected[bool_crack,0], y=X_projected[bool_crack,1],name='Top players',\n",
    "                      text=df_acp.loc[bool_crack,'Name'],\n",
    "                      textfont=dict(family='sans serif',size=10,color='black'),\n",
    "                      opacity=0.9,mode='text')\n",
    "\n",
    "data=[kmean_clusters,acp_crack]\n",
    "\n",
    "layout = go.Layout(title=\"ACP + Clustering Mean Shift \",titlefont=dict(size=20),\n",
    "                xaxis=dict(title='Componente 1'),\n",
    "                yaxis=dict(title='Componente 2'),\n",
    "                autosize=False, width=1000,height=1000)\n",
    "\n",
    "fig = go.Figure(data=data, layout=layout)\n",
    "\n",
    "plot(fig)"
   ]
  },
  {
   "cell_type": "code",
   "execution_count": null,
   "metadata": {
    "id": "z6mtCniDT4dr",
    "outputId": "950f0e1c-9db5-4700-f895-a4c0e5431d6f"
   },
   "outputs": [],
   "source": [
    "#df_clusters=df_acp.copy()\n",
    "#df_clusters['kmeans'] = km.labels_\n",
    "#df_clusters['MeanShift'] = ms.labels_\n",
    "#df_clusters.head()"
   ]
  },
  {
   "cell_type": "code",
   "execution_count": null,
   "metadata": {
    "id": "EYq4zwGLT4dv"
   },
   "outputs": [],
   "source": []
  }
 ],
 "metadata": {
  "colab": {
   "name": "ntb4_embeddings_fifa2019.ipynb",
   "provenance": [],
   "toc_visible": true
  },
  "kernelspec": {
   "display_name": "Python 3 (ipykernel)",
   "language": "python",
   "name": "python3"
  },
  "language_info": {
   "codemirror_mode": {
    "name": "ipython",
    "version": 3
   },
   "file_extension": ".py",
   "mimetype": "text/x-python",
   "name": "python",
   "nbconvert_exporter": "python",
   "pygments_lexer": "ipython3",
   "version": "3.9.6"
  }
 },
 "nbformat": 4,
 "nbformat_minor": 1
}
