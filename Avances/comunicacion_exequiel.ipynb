{
 "cells": [
  {
   "cell_type": "code",
   "execution_count": 1,
   "id": "aac4648b",
   "metadata": {},
   "outputs": [],
   "source": [
    "import io\n",
    "import matplotlib\n",
    "import matplotlib.pyplot as plt\n",
    "import numpy as np\n",
    "import pandas as pd\n",
    "import seaborn\n",
    "import statistics \n",
    "import math\n",
    "import scipy\n",
    "import scipy.stats as stats\n",
    "\n",
    "seaborn.set_context('talk')"
   ]
  },
  {
   "cell_type": "code",
   "execution_count": 4,
   "id": "778683ce",
   "metadata": {},
   "outputs": [],
   "source": [
    "url = 'https://cs.famaf.unc.edu.ar/~mteruel/datasets/diplodatos/sysarmy_survey_2020_processed.csv'\n",
    "df = pd.read_csv(url)"
   ]
  },
  {
   "cell_type": "code",
   "execution_count": 5,
   "id": "4c8645be",
   "metadata": {},
   "outputs": [],
   "source": [
    "def remove_outlier(df_in, col_name, iqr_factor):\n",
    "    \"\"\"\n",
    "  IQR outliers removal (https://machinelearningmastery.com/how-to-use-statistics-to-identify-outliers-in-data/)\n",
    "  accept a dataframe, remove outliers, return cleaned data in a new dataframe\n",
    "  see http://www.itl.nist.gov/div898/handbook/prc/section1/prc16.htm\n",
    "  \"\"\"\n",
    "    q1 = df_in[col_name].quantile(0.25)\n",
    "    q3 = df_in[col_name].quantile(0.75)\n",
    "    iqr = q3 - q1  # interquartile range\n",
    "    fence_low = q1 - iqr_factor * iqr\n",
    "    fence_high = q3 + iqr_factor * iqr\n",
    "    df_inliers = df_in.loc[\n",
    "        (df_in[col_name] > fence_low) & (df_in[col_name] < fence_high)\n",
    "    ]\n",
    "    df_outliers = df_in.loc[\n",
    "        (df_in[col_name] < fence_low) | (df_in[col_name] > fence_high)\n",
    "    ]\n",
    "    return df_inliers, df_outliers"
   ]
  },
  {
   "cell_type": "code",
   "execution_count": 6,
   "id": "4f1c5c2b",
   "metadata": {},
   "outputs": [],
   "source": [
    "iqr_factor = 2.5\n",
    "df_main_inliers, df_main_outliers = remove_outlier(df, \"salary_monthly_NETO\", iqr_factor)\n",
    "df_main_inliers = df_main_inliers[df_main_inliers[\"salary_monthly_NETO\"] > 24000]"
   ]
  },
  {
   "cell_type": "code",
   "execution_count": 20,
   "id": "0363185a",
   "metadata": {},
   "outputs": [
    {
     "data": {
      "text/plain": [
       "<AxesSubplot:xlabel='gender', ylabel='frequency'>"
      ]
     },
     "execution_count": 20,
     "metadata": {},
     "output_type": "execute_result"
    },
    {
     "data": {
      "image/png": "[encoded data removed]",
      "text/plain": [
       "<Figure size 432x288 with 1 Axes>"
      ]
     },
     "metadata": {
      "needs_background": "light"
     },
     "output_type": "display_data"
    }
   ],
   "source": [
    "gender_count = df_main_inliers.profile_gender.value_counts()\\\n",
    "    .reset_index()\\\n",
    "    .rename(columns={'index': 'gender', 'profile_gender': 'frequency'})\n",
    "seaborn.barplot(data=gender_count, x=\"gender\", y=\"frequency\")"
   ]
  },
  {
   "cell_type": "code",
   "execution_count": 21,
   "id": "1f0d471e",
   "metadata": {},
   "outputs": [
    {
     "data": {
      "image/png": "[encoded data removed]",
      "text/plain": [
       "<Figure size 432x288 with 1 Axes>"
      ]
     },
     "metadata": {
      "needs_background": "light"
     },
     "output_type": "display_data"
    }
   ],
   "source": [
    "df_H = df_main_inliers[df_main_inliers.profile_gender == 'Hombre']\n",
    "df_M = df_main_inliers[df_main_inliers.profile_gender == 'Mujer']\n",
    "\n",
    "plt.hist(df_H.salary_monthly_NETO, color='orangered', bins=50)\n",
    "plt.hist(df_M.salary_monthly_NETO, color='steelblue', bins=50)\n",
    "plt.show()"
   ]
  },
  {
   "cell_type": "code",
   "execution_count": null,
   "id": "2fe1c4fb",
   "metadata": {},
   "outputs": [],
   "source": []
  }
 ],
 "metadata": {
  "kernelspec": {
   "display_name": "Python 3",
   "language": "python",
   "name": "python3"
  },
  "language_info": {
   "codemirror_mode": {
    "name": "ipython",
    "version": 3
   },
   "file_extension": ".py",
   "mimetype": "text/x-python",
   "name": "python",
   "nbconvert_exporter": "python",
   "pygments_lexer": "ipython3",
   "version": "3.9.4"
  }
 },
 "nbformat": 4,
 "nbformat_minor": 5
}
