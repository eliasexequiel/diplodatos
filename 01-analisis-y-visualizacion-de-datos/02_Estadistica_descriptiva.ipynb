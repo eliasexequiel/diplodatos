{
 "cells": [
  {
   "cell_type": "markdown",
   "metadata": {
    "colab_type": "text",
    "id": "view-in-github"
   },
   "source": [
    "<a href=\"https://colab.research.google.com/github/DiploDatos/AnalisisyVisualizacion/blob/master/02_Estadistica_descriptiva.ipynb\" target=\"_parent\"><img src=\"https://colab.research.google.com/assets/colab-badge.svg\" alt=\"Open In Colab\"/></a>"
   ]
  },
  {
   "cell_type": "markdown",
   "metadata": {
    "id": "LYvAOR2VzHmW"
   },
   "source": [
    "\n",
    "**Diplomatura en Ciencia de Datos, Aprendizaje Automático y sus Aplicaciones**\n",
    "\n",
    "**Edición 2021**\n",
    "\n",
    "---\n",
    "\n",
    "# Estadística Descriptiva\n"
   ]
  },
  {
   "cell_type": "code",
   "execution_count": null,
   "metadata": {
    "id": "Xwdfo7z20TUK"
   },
   "outputs": [],
   "source": [
    "import io\n",
    "import matplotlib\n",
    "import matplotlib.pyplot as plt\n",
    "import numpy\n",
    "import pandas as pd\n",
    "import seaborn\n",
    "\n",
    "seaborn.set_context('talk')"
   ]
  },
  {
   "cell_type": "markdown",
   "metadata": {
    "id": "XY2Hl-Ma07Nn"
   },
   "source": [
    "## Lectura del dataset\n",
    "\n",
    "En la notebook 00 se explican los detalles de la siguiente sección."
   ]
  },
  {
   "cell_type": "code",
   "execution_count": null,
   "metadata": {
    "id": "Vviv_sqXdR5W"
   },
   "outputs": [],
   "source": [
    "url = 'https://cs.famaf.unc.edu.ar/~mteruel/datasets/diplodatos/sysarmy_survey_2020_processed.csv'\n",
    "df = pd.read_csv(url)"
   ]
  },
  {
   "cell_type": "code",
   "execution_count": null,
   "metadata": {
    "colab": {
     "base_uri": "https://localhost:8080/",
     "height": 297
    },
    "id": "gckNHXXLktJ4",
    "outputId": "ee815350-7bab-4d0d-f157-3856d05b33a3"
   },
   "outputs": [
    {
     "data": {
      "text/html": [
       "<div>\n",
       "<style scoped>\n",
       "    .dataframe tbody tr th:only-of-type {\n",
       "        vertical-align: middle;\n",
       "    }\n",
       "\n",
       "    .dataframe tbody tr th {\n",
       "        vertical-align: top;\n",
       "    }\n",
       "\n",
       "    .dataframe thead th {\n",
       "        text-align: right;\n",
       "    }\n",
       "</style>\n",
       "<table border=\"1\" class=\"dataframe\">\n",
       "  <thead>\n",
       "    <tr style=\"text-align: right;\">\n",
       "      <th></th>\n",
       "      <th>profile_gender</th>\n",
       "      <th>profile_age</th>\n",
       "      <th>work_country</th>\n",
       "      <th>work_province</th>\n",
       "      <th>profile_years_experience</th>\n",
       "      <th>work_years_in_company</th>\n",
       "      <th>work_years_in_current_position</th>\n",
       "      <th>work_people_in_charge_of</th>\n",
       "      <th>profile_studies_level</th>\n",
       "      <th>profile_studies_level_state</th>\n",
       "      <th>profile_career</th>\n",
       "      <th>profile_university</th>\n",
       "      <th>profile_specialization_courses</th>\n",
       "      <th>profile_open_source_contributions</th>\n",
       "      <th>profile_programming_as_hobby</th>\n",
       "      <th>work_role</th>\n",
       "      <th>tools_platform</th>\n",
       "      <th>tools_programming_languages</th>\n",
       "      <th>tools_frameworks</th>\n",
       "      <th>tools_data_bases</th>\n",
       "      <th>tools_qa_testing</th>\n",
       "      <th>tools_IDEs</th>\n",
       "      <th>tools_work_pc_os</th>\n",
       "      <th>tools_cellphone_os</th>\n",
       "      <th>work_on_call_duty</th>\n",
       "      <th>salary_on_call_duty_charge</th>\n",
       "      <th>work_on_call_duty_charge_type</th>\n",
       "      <th>work_contract_type</th>\n",
       "      <th>salary_monthly_BRUTO</th>\n",
       "      <th>salary_monthly_NETO</th>\n",
       "      <th>salary_in_usd</th>\n",
       "      <th>salary_satisfaction</th>\n",
       "      <th>salary_comparison_last_semester</th>\n",
       "      <th>salary_has_bonus</th>\n",
       "      <th>salary_bonus_tied_to</th>\n",
       "      <th>salary_inflation_adjustment_2020</th>\n",
       "      <th>salary_percentage_inflation_adjustment_2020</th>\n",
       "      <th>salary_month_last_inflation_adjustment</th>\n",
       "      <th>work_has_violence_situations</th>\n",
       "      <th>profile_sexual_orientation</th>\n",
       "      <th>profile_has_disabilities</th>\n",
       "      <th>profile_has_disabilities_hiring_difficulties</th>\n",
       "      <th>company_employee_number</th>\n",
       "      <th>company_main_activity</th>\n",
       "      <th>company_recommended</th>\n",
       "      <th>company_diversity_policies</th>\n",
       "      <th>company_extra_benefits</th>\n",
       "      <th>company_best_companies_city</th>\n",
       "    </tr>\n",
       "  </thead>\n",
       "  <tbody>\n",
       "    <tr>\n",
       "      <th>0</th>\n",
       "      <td>Mujer</td>\n",
       "      <td>26</td>\n",
       "      <td>Argentina</td>\n",
       "      <td>Ciudad Autónoma de Buenos Aires</td>\n",
       "      <td>3.0</td>\n",
       "      <td>3.0</td>\n",
       "      <td>3.0</td>\n",
       "      <td>0</td>\n",
       "      <td>Universitario</td>\n",
       "      <td>En curso</td>\n",
       "      <td>Ingeniería en Sistemas de Información</td>\n",
       "      <td>UTN - Universidad Tecnológica Nacional</td>\n",
       "      <td>Sí, los pagó un empleador</td>\n",
       "      <td>No</td>\n",
       "      <td>Sí</td>\n",
       "      <td>Consultant</td>\n",
       "      <td>Ninguna</td>\n",
       "      <td>Ninguno</td>\n",
       "      <td>Ninguno</td>\n",
       "      <td>Ninguna</td>\n",
       "      <td>Ninguna</td>\n",
       "      <td>Ninguno</td>\n",
       "      <td>GNU/Linux</td>\n",
       "      <td>Android</td>\n",
       "      <td>No</td>\n",
       "      <td>0.0</td>\n",
       "      <td>Bruto</td>\n",
       "      <td>Full-Time</td>\n",
       "      <td>53000.0</td>\n",
       "      <td>43000.0</td>\n",
       "      <td>NaN</td>\n",
       "      <td>1</td>\n",
       "      <td>1</td>\n",
       "      <td>No</td>\n",
       "      <td>No recibo bono</td>\n",
       "      <td>No</td>\n",
       "      <td>0.0</td>\n",
       "      <td>0</td>\n",
       "      <td>En mi trabajo actual</td>\n",
       "      <td>Homosexual</td>\n",
       "      <td>NaN</td>\n",
       "      <td>NaN</td>\n",
       "      <td>501-1000</td>\n",
       "      <td>Servicios / Consultoría de Software / Digital</td>\n",
       "      <td>7</td>\n",
       "      <td>2</td>\n",
       "      <td>Capacitaciones y/o cursos, Comidas pagas / sub...</td>\n",
       "      <td>NaN</td>\n",
       "    </tr>\n",
       "    <tr>\n",
       "      <th>1</th>\n",
       "      <td>Hombre</td>\n",
       "      <td>29</td>\n",
       "      <td>Argentina</td>\n",
       "      <td>Corrientes</td>\n",
       "      <td>5.0</td>\n",
       "      <td>2.0</td>\n",
       "      <td>2.0</td>\n",
       "      <td>4</td>\n",
       "      <td>Universitario</td>\n",
       "      <td>En curso</td>\n",
       "      <td>Ingeniería en Sistemas de Información</td>\n",
       "      <td>UTN - Universidad Tecnológica Nacional</td>\n",
       "      <td>Sí, de forma particular, Sí, los pagó un emple...</td>\n",
       "      <td>No</td>\n",
       "      <td>Sí</td>\n",
       "      <td>Developer</td>\n",
       "      <td>Docker, Google Cloud Platform/App Engine</td>\n",
       "      <td>HTML, Javascript, Python</td>\n",
       "      <td>Django, jQuery</td>\n",
       "      <td>Informix, MySQL, PostgreSQL</td>\n",
       "      <td>Ninguna</td>\n",
       "      <td>IPython / Jupyter, Sublime Text, Visual Studio...</td>\n",
       "      <td>GNU/Linux</td>\n",
       "      <td>Android</td>\n",
       "      <td>No</td>\n",
       "      <td>0.0</td>\n",
       "      <td>Bruto</td>\n",
       "      <td>Full-Time</td>\n",
       "      <td>79000.0</td>\n",
       "      <td>63000.0</td>\n",
       "      <td>NaN</td>\n",
       "      <td>2</td>\n",
       "      <td>2</td>\n",
       "      <td>Menos de un sueldo</td>\n",
       "      <td>Performance de la compañía</td>\n",
       "      <td>Uno</td>\n",
       "      <td>10.0</td>\n",
       "      <td>1</td>\n",
       "      <td>Jamás</td>\n",
       "      <td>Heterosexual</td>\n",
       "      <td>Visual</td>\n",
       "      <td>No</td>\n",
       "      <td>201-500</td>\n",
       "      <td>Otras industrias</td>\n",
       "      <td>8</td>\n",
       "      <td>9</td>\n",
       "      <td>Horarios flexibles, Stock options / RSUs, Viát...</td>\n",
       "      <td>NaN</td>\n",
       "    </tr>\n",
       "    <tr>\n",
       "      <th>2</th>\n",
       "      <td>Mujer</td>\n",
       "      <td>22</td>\n",
       "      <td>Argentina</td>\n",
       "      <td>Ciudad Autónoma de Buenos Aires</td>\n",
       "      <td>2.0</td>\n",
       "      <td>0.0</td>\n",
       "      <td>0.0</td>\n",
       "      <td>0</td>\n",
       "      <td>Secundario</td>\n",
       "      <td>Completado</td>\n",
       "      <td>NaN</td>\n",
       "      <td>NaN</td>\n",
       "      <td>Sí, de forma particular, Sí, los pagó un emple...</td>\n",
       "      <td>No</td>\n",
       "      <td>Sí</td>\n",
       "      <td>Infosec</td>\n",
       "      <td>Linux, VMWare</td>\n",
       "      <td>Ninguno</td>\n",
       "      <td>Ninguno</td>\n",
       "      <td>Ninguna</td>\n",
       "      <td>Ninguna</td>\n",
       "      <td>Ninguno</td>\n",
       "      <td>Windows</td>\n",
       "      <td>iOS</td>\n",
       "      <td>No</td>\n",
       "      <td>0.0</td>\n",
       "      <td>Porcentaje de mi sueldo</td>\n",
       "      <td>Full-Time</td>\n",
       "      <td>160000.0</td>\n",
       "      <td>127000.0</td>\n",
       "      <td>NaN</td>\n",
       "      <td>3</td>\n",
       "      <td>3</td>\n",
       "      <td>Un sueldo</td>\n",
       "      <td>Performance individual</td>\n",
       "      <td>No</td>\n",
       "      <td>0.0</td>\n",
       "      <td>0</td>\n",
       "      <td>En un trabajo anterior</td>\n",
       "      <td>Bisexual o queer</td>\n",
       "      <td>NaN</td>\n",
       "      <td>No</td>\n",
       "      <td>2001-5000</td>\n",
       "      <td>Otras industrias</td>\n",
       "      <td>6</td>\n",
       "      <td>9</td>\n",
       "      <td>Clases de gimnasia online, Comidas pagas / sub...</td>\n",
       "      <td>NaN</td>\n",
       "    </tr>\n",
       "  </tbody>\n",
       "</table>\n",
       "</div>"
      ],
      "text/plain": [
       "  profile_gender  ...  company_best_companies_city\n",
       "0          Mujer  ...                          NaN\n",
       "1         Hombre  ...                          NaN\n",
       "2          Mujer  ...                          NaN\n",
       "\n",
       "[3 rows x 48 columns]"
      ]
     },
     "execution_count": 3,
     "metadata": {
      "tags": []
     },
     "output_type": "execute_result"
    }
   ],
   "source": [
    "df[:3]"
   ]
  },
  {
   "cell_type": "markdown",
   "metadata": {
    "id": "2i_yGkkUs3QA"
   },
   "source": [
    "# Estadística descriptiva\n",
    "\n",
    "Hemos estado organizando y visualizando los datos de distintas maneras, pero ¿qué intuiciones podemos obtener?\n",
    "\n",
    "Las visualizaciones como histogramas o gráficos de conteo muestran la cantidad de veces que se observa cada valor en un conjunto de realizaciones de una variable aleatoria. Esto se denomina análisis de frecuencia, y es parte de la **estadística descriptiva**.\n",
    "\n",
    "El uso de visualizaciones nos limita a estimaciones, pero los datos crudos son demasiado como para intepretarlos en conjunto. Para eso, la estadística descriptiva provee también medidas de tendencia central y de dispersión, que resumen en un valor numérico propiedades de las realizaciones de la variable.\n",
    "\n",
    "Retomemos el problema original con la v.a. `salary_monthly_NETO`, ¿qué información brindan las siguientes métricas y cómo usarlas?\n"
   ]
  },
  {
   "cell_type": "code",
   "execution_count": null,
   "metadata": {
    "id": "AXFDG0eBPDgH"
   },
   "outputs": [],
   "source": [
    "salary_col='salary_monthly_BRUTO'"
   ]
  },
  {
   "cell_type": "code",
   "execution_count": null,
   "metadata": {
    "colab": {
     "base_uri": "https://localhost:8080/"
    },
    "id": "fHre-H9euQv4",
    "outputId": "43415949-2a56-47f3-a2c7-e455aff79587"
   },
   "outputs": [
    {
     "data": {
      "text/plain": [
       "count       6095.00\n",
       "mean      124058.55\n",
       "std       122912.35\n",
       "min            1.00\n",
       "25%        61595.00\n",
       "50%        96000.00\n",
       "75%       145000.00\n",
       "max      2180000.00\n",
       "Name: salary_monthly_BRUTO, dtype: object"
      ]
     },
     "execution_count": 5,
     "metadata": {
      "tags": []
     },
     "output_type": "execute_result"
    }
   ],
   "source": [
    "df[salary_col].describe().apply(lambda s: '{0:.2f}'.format(s))"
   ]
  },
  {
   "cell_type": "markdown",
   "metadata": {
    "id": "QC-wJbBitzDH"
   },
   "source": [
    "## Medidas de tendencia central\n",
    "\n",
    "Cuando se quiere obtener un valor representativo de todas las realizaciones de una v.a., o su centro, se utiliza una *medida de tendencia central*.\n",
    "\n",
    "Repasando, dada X una v.a y un conjunto de realizaciones $x = \\{ x_1, x_2 ... \\}$ donde $x_i = X(\\omega)$ para algún $\\omega \\in \\Omega$, y $N = |x|$:\n",
    "\n",
    "* La **media muestral** (aritmética) o promedio se calcula como:\n",
    "\n",
    "$$ \\bar{x} = \\frac{1}{N} \\sum_i^N x_i $$\n",
    "\n",
    "* La **mediana** se calcula:\n",
    "  1. Ordenar las realizaciones tal que $x_j \\leq x_{j+1}$ \n",
    "  2. Si la cantidad de datos $N$ es impar, la mediana es el valor central: $median = x_{\\lfloor N / 2 \\rfloor +1}$\n",
    "  3. Si la cantidad de datos $N$ es par, la mediana es e promedio de los dos valores centrales: $median = \\frac{1}{2} (x_{ N / 2 } + x_{ (N / 2) +1})$\n",
    "\n",
    "* La **moda** son los valores con mayor frecuencia, es decir, los que más se repite.\n"
   ]
  },
  {
   "cell_type": "code",
   "execution_count": null,
   "metadata": {
    "colab": {
     "base_uri": "https://localhost:8080/"
    },
    "id": "VGJfjf-x5TOh",
    "outputId": "28e1d571-a21d-4760-97c9-7fa823ac04ef"
   },
   "outputs": [
    {
     "data": {
      "text/plain": [
       "(124058.54962132902, 96000.0)"
      ]
     },
     "execution_count": 6,
     "metadata": {
      "tags": []
     },
     "output_type": "execute_result"
    }
   ],
   "source": [
    "df[salary_col].mean(), df[salary_col].median()"
   ]
  },
  {
   "cell_type": "markdown",
   "metadata": {
    "id": "hDltOaTjnuFd"
   },
   "source": [
    "**¿Por qué las dos medidas son tan distintas?**\n",
    "\n",
    "Propiedades de la media:\n",
    "* Se puede interpretar como el *centro de masa* del histograma. Es decir, si el histograma fuera una figura de madera, el punto de equilibrio donde podemos apoyarlo y no se cae es la media.\n",
    "* Es muy sensible a valores extremos. [Opcional] ¿Por qué? Ver filminas\n",
    "\n",
    "**¿Se cumple para estos datos?**"
   ]
  },
  {
   "cell_type": "code",
   "execution_count": null,
   "metadata": {
    "colab": {
     "base_uri": "https://localhost:8080/"
    },
    "id": "woWeBF8-0u5Q",
    "outputId": "d4937c54-bf5b-43eb-8061-509e07d2ce9a"
   },
   "outputs": [
    {
     "data": {
      "text/plain": [
       "[(2180000.0, 123721.17819855602, 96000.0),\n",
       " (1000000, 120723.13043954605, 96000.0),\n",
       " (500000, 112145.56938829432, 95000.0),\n",
       " (400000, 107991.96966661021, 94000.0),\n",
       " (300000, 102223.41686622657, 92000.0),\n",
       " (200000, 91461.11102857142, 88000.0)]"
      ]
     },
     "execution_count": 7,
     "metadata": {
      "tags": []
     },
     "output_type": "execute_result"
    }
   ],
   "source": [
    "max_salaries = [df[salary_col].max(), 10**6, 500000, 400000, 300000, 200000]\n",
    "central_tendency = [\n",
    "    (max_salary, df[df[salary_col] < max_salary][salary_col].mean(),\n",
    "     df[df[salary_col] < max_salary][salary_col].median())\n",
    "    for max_salary in max_salaries\n",
    "]\n",
    "central_tendency"
   ]
  },
  {
   "cell_type": "markdown",
   "metadata": {
    "id": "EZrjSY4yPV8-"
   },
   "source": [
    "Se pueden graficar estos números para lograr una mejor intuición de la magnitud de las diferencias. Además, al mostrar una visualización se pueden incluir más puntos.\n",
    "\n",
    "Para poder crear gráficos de seaborn con distintos grupos de datos, muchas veces es necesario cambiar el formato del dataframe de wide a long. Ver [este link](https://anvil.works/blog/tidy-data) para más información."
   ]
  },
  {
   "cell_type": "code",
   "execution_count": null,
   "metadata": {
    "colab": {
     "base_uri": "https://localhost:8080/",
     "height": 141
    },
    "id": "MpMJWSNq3Xq_",
    "outputId": "e44dd90c-4628-4d6a-caa6-14a455a477ca"
   },
   "outputs": [
    {
     "data": {
      "text/html": [
       "<div>\n",
       "<style scoped>\n",
       "    .dataframe tbody tr th:only-of-type {\n",
       "        vertical-align: middle;\n",
       "    }\n",
       "\n",
       "    .dataframe tbody tr th {\n",
       "        vertical-align: top;\n",
       "    }\n",
       "\n",
       "    .dataframe thead th {\n",
       "        text-align: right;\n",
       "    }\n",
       "</style>\n",
       "<table border=\"1\" class=\"dataframe\">\n",
       "  <thead>\n",
       "    <tr style=\"text-align: right;\">\n",
       "      <th></th>\n",
       "      <th>max_salary</th>\n",
       "      <th>metric</th>\n",
       "      <th>value</th>\n",
       "    </tr>\n",
       "  </thead>\n",
       "  <tbody>\n",
       "    <tr>\n",
       "      <th>0</th>\n",
       "      <td>50000</td>\n",
       "      <td>mean</td>\n",
       "      <td>30339.534775</td>\n",
       "    </tr>\n",
       "    <tr>\n",
       "      <th>1</th>\n",
       "      <td>60000</td>\n",
       "      <td>mean</td>\n",
       "      <td>37032.451850</td>\n",
       "    </tr>\n",
       "    <tr>\n",
       "      <th>2</th>\n",
       "      <td>70000</td>\n",
       "      <td>mean</td>\n",
       "      <td>44179.526605</td>\n",
       "    </tr>\n",
       "  </tbody>\n",
       "</table>\n",
       "</div>"
      ],
      "text/plain": [
       "   max_salary metric         value\n",
       "0       50000   mean  30339.534775\n",
       "1       60000   mean  37032.451850\n",
       "2       70000   mean  44179.526605"
      ]
     },
     "execution_count": 8,
     "metadata": {
      "tags": []
     },
     "output_type": "execute_result"
    }
   ],
   "source": [
    "central_tendency_max = [\n",
    "    (max_salary, df[df[salary_col] < max_salary][salary_col].mean(),\n",
    "     df[df[salary_col] < max_salary][salary_col].median())\n",
    "    for max_salary in range(50000, int(df[salary_col].max()), 10**4)\n",
    "]\n",
    "central_tendency_max_df = pd.DataFrame(central_tendency_max,\n",
    "                                   columns=['max_salary', 'mean', 'median'])\\\n",
    "  .melt(id_vars='max_salary', var_name='metric')\n",
    "\n",
    "central_tendency_max_df[:3]"
   ]
  },
  {
   "cell_type": "code",
   "execution_count": null,
   "metadata": {
    "colab": {
     "base_uri": "https://localhost:8080/",
     "height": 298
    },
    "id": "rJQfOlKV15Z4",
    "outputId": "809470d4-e304-442a-ee1d-3762aecae282"
   },
   "outputs": [
    {
     "data": {
      "image/png": "[encoded data removed]",
      "text/plain": [
       "<Figure size 1080x360 with 1 Axes>"
      ]
     },
     "metadata": {
      "needs_background": "light",
      "tags": []
     },
     "output_type": "display_data"
    }
   ],
   "source": [
    "# ¡Podemos ver estos datos visualmente!\n",
    "fig = plt.figure(figsize=(15, 5))\n",
    "seaborn.lineplot(data=central_tendency_max_df, x='max_salary', y='value', hue='metric')\n",
    "plt.ticklabel_format(style='plain', axis='x')\n",
    "seaborn.despine()"
   ]
  },
  {
   "cell_type": "code",
   "execution_count": null,
   "metadata": {
    "colab": {
     "base_uri": "https://localhost:8080/",
     "height": 419
    },
    "id": "mSyyNgvndRPQ",
    "outputId": "f9f78eed-8da6-4974-81f1-c4287a2a98a5"
   },
   "outputs": [
    {
     "data": {
      "image/png": "[encoded data removed]",
      "text/plain": [
       "<Figure size 1152x576 with 2 Axes>"
      ]
     },
     "metadata": {
      "needs_background": "light",
      "tags": []
     },
     "output_type": "display_data"
    }
   ],
   "source": [
    "## La diferencia no siempre se aprencia en los gráficos\n",
    "fig, axes = plt.subplots(nrows=2, figsize=(16, 8))\n",
    "seaborn.histplot(df[salary_col], bins=100, ax=axes[0], color='gray')\n",
    "axes[0].axvline(df[salary_col].mean(), color='orangered',\n",
    "            linestyle='--', label='Media')\n",
    "axes[0].axvline(df[salary_col].median(), color='indigo',\n",
    "            linestyle='-.', label='Mediana')\n",
    "\n",
    "filtered_df = df[df[salary_col] < 200000]\n",
    "seaborn.histplot(filtered_df[salary_col], bins=100, ax=axes[1], color='gray')\n",
    "axes[1].axvline(filtered_df[salary_col].mean(), color='orangered',\n",
    "            linestyle='--', label='Media')\n",
    "axes[1].axvline(filtered_df[salary_col].median(), color='indigo',\n",
    "            linestyle='-.', label='Mediana')\n",
    "\n",
    "axes[0].legend()\n",
    "seaborn.despine()"
   ]
  },
  {
   "cell_type": "markdown",
   "metadata": {
    "id": "3MdG-7bK8AKR"
   },
   "source": [
    "¿Qué decir de la moda? Sólo que el resultado de la función no es un valor, sino una series de valores, aunque la serie tenga un único elemento."
   ]
  },
  {
   "cell_type": "code",
   "execution_count": null,
   "metadata": {
    "colab": {
     "base_uri": "https://localhost:8080/"
    },
    "id": "r01xw1q18AmV",
    "outputId": "c660b266-dd56-4abd-b55e-514ab02699e0"
   },
   "outputs": [
    {
     "data": {
      "text/plain": [
       "0    Hombre\n",
       "dtype: object"
      ]
     },
     "execution_count": 11,
     "metadata": {
      "tags": []
     },
     "output_type": "execute_result"
    }
   ],
   "source": [
    "df.profile_gender.mode()"
   ]
  },
  {
   "cell_type": "markdown",
   "metadata": {
    "id": "Li3vLv3X8k7Z"
   },
   "source": [
    "## Medidas de dispersión\n",
    "\n",
    "Las medidas de dispersión vistas en el teórico son la desviación estándar, la varianza, y el coeficiente de variación. También permiten representar con un número alguna propiedad de los datos.\n",
    "\n",
    "Por ejemplo, comparemos el salario neto con el salario bruto. A priori, **¿deberíamos ver alguna diferencia?**"
   ]
  },
  {
   "cell_type": "code",
   "execution_count": null,
   "metadata": {
    "colab": {
     "base_uri": "https://localhost:8080/",
     "height": 295
    },
    "id": "504NtuJWjpX0",
    "outputId": "2cd2b93a-ea7c-4110-e4df-b2572385d1ec"
   },
   "outputs": [
    {
     "data": {
      "text/html": [
       "<div>\n",
       "<style scoped>\n",
       "    .dataframe tbody tr th:only-of-type {\n",
       "        vertical-align: middle;\n",
       "    }\n",
       "\n",
       "    .dataframe tbody tr th {\n",
       "        vertical-align: top;\n",
       "    }\n",
       "\n",
       "    .dataframe thead th {\n",
       "        text-align: right;\n",
       "    }\n",
       "</style>\n",
       "<table border=\"1\" class=\"dataframe\">\n",
       "  <thead>\n",
       "    <tr style=\"text-align: right;\">\n",
       "      <th></th>\n",
       "      <th>salary_monthly_NETO</th>\n",
       "      <th>salary_monthly_BRUTO</th>\n",
       "    </tr>\n",
       "  </thead>\n",
       "  <tbody>\n",
       "    <tr>\n",
       "      <th>count</th>\n",
       "      <td>5883.0</td>\n",
       "      <td>6095.0</td>\n",
       "    </tr>\n",
       "    <tr>\n",
       "      <th>mean</th>\n",
       "      <td>94908.0</td>\n",
       "      <td>124059.0</td>\n",
       "    </tr>\n",
       "    <tr>\n",
       "      <th>std</th>\n",
       "      <td>96862.0</td>\n",
       "      <td>122912.0</td>\n",
       "    </tr>\n",
       "    <tr>\n",
       "      <th>min</th>\n",
       "      <td>1.0</td>\n",
       "      <td>1.0</td>\n",
       "    </tr>\n",
       "    <tr>\n",
       "      <th>25%</th>\n",
       "      <td>51480.0</td>\n",
       "      <td>61595.0</td>\n",
       "    </tr>\n",
       "    <tr>\n",
       "      <th>50%</th>\n",
       "      <td>78000.0</td>\n",
       "      <td>96000.0</td>\n",
       "    </tr>\n",
       "    <tr>\n",
       "      <th>75%</th>\n",
       "      <td>106000.0</td>\n",
       "      <td>145000.0</td>\n",
       "    </tr>\n",
       "    <tr>\n",
       "      <th>max</th>\n",
       "      <td>2080000.0</td>\n",
       "      <td>2180000.0</td>\n",
       "    </tr>\n",
       "  </tbody>\n",
       "</table>\n",
       "</div>"
      ],
      "text/plain": [
       "       salary_monthly_NETO  salary_monthly_BRUTO\n",
       "count               5883.0                6095.0\n",
       "mean               94908.0              124059.0\n",
       "std                96862.0              122912.0\n",
       "min                    1.0                   1.0\n",
       "25%                51480.0               61595.0\n",
       "50%                78000.0               96000.0\n",
       "75%               106000.0              145000.0\n",
       "max              2080000.0             2180000.0"
      ]
     },
     "execution_count": 12,
     "metadata": {
      "tags": []
     },
     "output_type": "execute_result"
    }
   ],
   "source": [
    "df[['salary_monthly_NETO', 'salary_monthly_BRUTO']].describe().round()"
   ]
  },
  {
   "cell_type": "markdown",
   "metadata": {
    "id": "m6dcAgVYlUWK"
   },
   "source": [
    "Claramente, ambas distribuciones están centradas en valores distintos, pero ¿podemos decir algo sobre su dispersión?\n",
    "\n",
    "Como estamos hablando de dos v.a. distintas, no podemos comparar directamente los valores de las desviaciones estándar, sino que tenemos que usar el coeficiente de variación."
   ]
  },
  {
   "cell_type": "code",
   "execution_count": null,
   "metadata": {
    "colab": {
     "base_uri": "https://localhost:8080/"
    },
    "id": "5Ga3FpQalrCm",
    "outputId": "74e208ab-e189-4668-b796-0bc0daa30def"
   },
   "outputs": [
    {
     "name": "stdout",
     "output_type": "stream",
     "text": [
      "Coeficiente de variación salario bruto 0.9906795521353624\n",
      "Coeficiente de variación salario neto 1.0205048799041485\n"
     ]
    }
   ],
   "source": [
    "import scipy\n",
    "\n",
    "print(\"Coeficiente de variación salario bruto\",\n",
    "      scipy.stats.variation(df.salary_monthly_BRUTO))\n",
    "print(\"Coeficiente de variación salario neto\",\n",
    "      scipy.stats.variation(df.salary_monthly_NETO.dropna()))"
   ]
  },
  {
   "cell_type": "markdown",
   "metadata": {
    "id": "lVG6Ro-6ao3j"
   },
   "source": [
    "## Percentiles y gráficos de caja\n",
    "\n",
    "Los gráficos de caja son otra forma de representar la distribución de las realizaciones de una v.a. numérica, de una forma más condensada que un histograma.\n",
    "\n",
    "Son muy útiles para comparar muchas distribuciones, pero sólo cuando son muy distintas entre ellas, ya que oscurecen algunas sutilezas. Otros problema de este tipo de gráficos es que *no todo el mundo recuerda cómo leerlos*."
   ]
  },
  {
   "cell_type": "code",
   "execution_count": null,
   "metadata": {
    "colab": {
     "base_uri": "https://localhost:8080/",
     "height": 301
    },
    "id": "5dbBiShrasMI",
    "outputId": "48979844-fc0d-4c5e-f3bb-a9c7ff76a4ac"
   },
   "outputs": [
    {
     "data": {
      "image/png": "[encoded data removed]",
      "text/plain": [
       "<Figure size 864x288 with 1 Axes>"
      ]
     },
     "metadata": {
      "needs_background": "light",
      "tags": []
     },
     "output_type": "display_data"
    }
   ],
   "source": [
    "plt.figure(figsize=(12, 4))\n",
    "seaborn.boxplot(x=df[salary_col])\n",
    "seaborn.despine()"
   ]
  },
  {
   "cell_type": "code",
   "execution_count": null,
   "metadata": {
    "colab": {
     "base_uri": "https://localhost:8080/",
     "height": 318
    },
    "id": "GdK00mpDa7Nz",
    "outputId": "c5431d14-a5f9-472c-f6f8-e7e0be5be086"
   },
   "outputs": [
    {
     "data": {
      "text/plain": [
       "<matplotlib.axes._subplots.AxesSubplot at 0x7f6c6c6e7c50>"
      ]
     },
     "execution_count": 15,
     "metadata": {
      "tags": []
     },
     "output_type": "execute_result"
    },
    {
     "data": {
      "image/png": "[encoded data removed]",
      "text/plain": [
       "<Figure size 864x288 with 1 Axes>"
      ]
     },
     "metadata": {
      "needs_background": "light",
      "tags": []
     },
     "output_type": "display_data"
    }
   ],
   "source": [
    "plt.figure(figsize=(12, 4))\n",
    "seaborn.boxplot(x=df[df.profile_age < 100].profile_age)"
   ]
  },
  {
   "cell_type": "markdown",
   "metadata": {
    "id": "tyx3Pmk-dJL4"
   },
   "source": [
    "Por ejemplo, podemos comparar la distribución de los salarios netos con respecto al nivel de estudios alcanzado."
   ]
  },
  {
   "cell_type": "code",
   "execution_count": null,
   "metadata": {
    "colab": {
     "base_uri": "https://localhost:8080/",
     "height": 390
    },
    "id": "W1dKgRP9gkHj",
    "outputId": "bc5078c3-3a8d-4136-9b49-99e04eac18ea"
   },
   "outputs": [
    {
     "data": {
      "image/png": "[encoded data removed]",
      "text/plain": [
       "<Figure size 864x432 with 1 Axes>"
      ]
     },
     "metadata": {
      "needs_background": "light",
      "tags": []
     },
     "output_type": "display_data"
    }
   ],
   "source": [
    "plt.figure(figsize=(12, 6))\n",
    "seaborn.boxplot(data=df, x=salary_col, y='profile_studies_level',\n",
    "                color='orangered')\n",
    "plt.ticklabel_format(style='plain', axis='x')"
   ]
  },
  {
   "cell_type": "markdown",
   "metadata": {
    "id": "HClH-TMBhMfg"
   },
   "source": [
    "**¿Qué puede estar causando una diferencia tan grande en la distribución para las respuestas que dicen Posdoctorado?**"
   ]
  },
  {
   "cell_type": "markdown",
   "metadata": {
    "id": "yqHgU6mUhXSi"
   },
   "source": [
    "### Boxenplots\n",
    "\n",
    "Los boxplots tienen una gran desventaja: ocultan mucha información en la distribución de las colas. Por ejemplo, para la categoría Posdoctorado, sabemos que el 25% de los valores de sueldo neto es mayor que los ~650000 pesos. Pero no conocemos cómo se distribuyen. Para conjuntos de datos de gran tamaño, el 25% de los datos contiene mucha información.\n",
    "\n",
    "Un gráfico más informativo es el **boxenplot**, que visualiza más percentiles. Otra ventaja es la percepción del mismo debido al peso visual de las cajas: los datos en el rango intercuartílico no parecen muuuucho más importantes que los datos en las colas.\n",
    "\n",
    "Sin embargo, es aún más difícil de leer si buscamos exactitud, ya que los percentiles que definen el límite de cada caja se definen recursivamente y no decrecen linealmente."
   ]
  },
  {
   "cell_type": "code",
   "execution_count": null,
   "metadata": {
    "colab": {
     "base_uri": "https://localhost:8080/",
     "height": 390
    },
    "id": "evtF2AFChc06",
    "outputId": "b6f3b780-066e-4802-d8d5-3172dbba40af"
   },
   "outputs": [
    {
     "data": {
      "image/png": "[encoded data removed]",
      "text/plain": [
       "<Figure size 864x432 with 1 Axes>"
      ]
     },
     "metadata": {
      "needs_background": "light",
      "tags": []
     },
     "output_type": "display_data"
    }
   ],
   "source": [
    "plt.figure(figsize=(12, 6))\n",
    "seaborn.boxenplot(data=df, x=salary_col, y='profile_studies_level',\n",
    "                color='orangered')\n",
    "plt.ticklabel_format(style='plain', axis='x')"
   ]
  },
  {
   "cell_type": "markdown",
   "metadata": {
    "id": "81z4Ue6PkEZr"
   },
   "source": [
    "## Eliminación de valores extremos\n",
    "\n",
    "### Usando percentiles \n",
    "\n",
    "Una forma conservadora de eliminar valores extremos que estén afectando a la media, el rango y las visualizaciones es seleccionar un cierto porcentaje más extremo. Para eso, usamos los percentiles.\n",
    "\n",
    "Por ejemplo, podemos elegir quedarnos con el 99% de salarios más bajos, eliminando el 1%. Podemos calcular todos los percentiles para decidir cuál sería el más apropiado."
   ]
  },
  {
   "cell_type": "code",
   "execution_count": null,
   "metadata": {
    "colab": {
     "base_uri": "https://localhost:8080/"
    },
    "id": "bWEgaBVvka9p",
    "outputId": "e7baf270-f52d-4ec8-8aa6-dce26d5584dd"
   },
   "outputs": [
    {
     "data": {
      "text/plain": [
       "0.950     307150.0\n",
       "0.980     480000.0\n",
       "0.990     630600.0\n",
       "0.995     796240.0\n",
       "0.998    1032671.0\n",
       "Name: salary_monthly_BRUTO, dtype: float64"
      ]
     },
     "execution_count": 18,
     "metadata": {
      "tags": []
     },
     "output_type": "execute_result"
    }
   ],
   "source": [
    "df[salary_col].quantile([.95, .98, .99, .995, .998])"
   ]
  },
  {
   "cell_type": "code",
   "execution_count": null,
   "metadata": {
    "colab": {
     "base_uri": "https://localhost:8080/",
     "height": 318
    },
    "id": "A-2cG3unruwo",
    "outputId": "2e8308b6-f072-40ae-94c2-a84c123e8618"
   },
   "outputs": [
    {
     "data": {
      "text/plain": [
       "<matplotlib.axes._subplots.AxesSubplot at 0x7f6c6c5dc410>"
      ]
     },
     "execution_count": 19,
     "metadata": {
      "tags": []
     },
     "output_type": "execute_result"
    },
    {
     "data": {
      "image/png": "[encoded data removed]",
      "text/plain": [
       "<Figure size 864x288 with 1 Axes>"
      ]
     },
     "metadata": {
      "needs_background": "light",
      "tags": []
     },
     "output_type": "display_data"
    }
   ],
   "source": [
    "plt.figure(figsize=(12, 4))\n",
    "max_limit = df[salary_col].quantile(.98)\n",
    "seaborn.boxenplot(x=df[df[salary_col] < max_limit][salary_col])"
   ]
  },
  {
   "cell_type": "code",
   "execution_count": null,
   "metadata": {
    "colab": {
     "base_uri": "https://localhost:8080/",
     "height": 753
    },
    "id": "MWmor0akspwt",
    "outputId": "c07bcbd1-fb54-4b28-97a8-63df74c03b08"
   },
   "outputs": [
    {
     "data": {
      "text/plain": [
       "<matplotlib.axes._subplots.AxesSubplot at 0x7f6c6c45ee50>"
      ]
     },
     "execution_count": 20,
     "metadata": {
      "tags": []
     },
     "output_type": "execute_result"
    },
    {
     "data": {
      "image/png": "[encoded data removed]",
      "text/plain": [
       "<Figure size 864x864 with 3 Axes>"
      ]
     },
     "metadata": {
      "needs_background": "light",
      "tags": []
     },
     "output_type": "display_data"
    }
   ],
   "source": [
    "fig, axes = plt.subplots(figsize=(12, 12), nrows=3)\n",
    "max_limit = df[salary_col].quantile(.98)\n",
    "data = df[df[salary_col] < max_limit][salary_col]\n",
    "seaborn.histplot(x=data, ax=axes[0])\n",
    "seaborn.boxplot(x=data, ax=axes[1])\n",
    "seaborn.boxenplot(x=data, ax=axes[2])"
   ]
  },
  {
   "cell_type": "markdown",
   "metadata": {
    "id": "SBkKwLFltJwg"
   },
   "source": [
    "### Rango itercuartílico"
   ]
  },
  {
   "cell_type": "code",
   "execution_count": null,
   "metadata": {
    "id": "9RPNlz5-kjgD"
   },
   "outputs": [],
   "source": [
    "def clean_outliers(dataset, column_name):\n",
    "    \"\"\"Returns dataset removing the outlier rows from column @column_name.\"\"\"\n",
    "    interesting_col = dataset[column_name]\n",
    "    # Here we can remove the outliers from both ends, or even add more restrictions.\n",
    "    mask_outlier = (\n",
    "        numpy.abs(interesting_col - interesting_col.mean()) <= (2.5 * interesting_col.std()))\n",
    "    return dataset[mask_outlier]"
   ]
  },
  {
   "cell_type": "code",
   "execution_count": null,
   "metadata": {
    "colab": {
     "base_uri": "https://localhost:8080/",
     "height": 753
    },
    "id": "MaZj8_fatXgo",
    "outputId": "92836670-cb13-468a-977a-d14ff14b7aae"
   },
   "outputs": [
    {
     "data": {
      "text/plain": [
       "<matplotlib.axes._subplots.AxesSubplot at 0x7f6c6c224990>"
      ]
     },
     "execution_count": 22,
     "metadata": {
      "tags": []
     },
     "output_type": "execute_result"
    },
    {
     "data": {
      "image/png": "[encoded data removed]",
      "text/plain": [
       "<Figure size 864x864 with 3 Axes>"
      ]
     },
     "metadata": {
      "needs_background": "light",
      "tags": []
     },
     "output_type": "display_data"
    }
   ],
   "source": [
    "fig, axes = plt.subplots(figsize=(12, 12), nrows=3)\n",
    "max_limit = df[salary_col].quantile(.98)\n",
    "data = clean_outliers(df, salary_col)[salary_col]\n",
    "seaborn.histplot(x=data, ax=axes[0])\n",
    "seaborn.boxplot(x=data, ax=axes[1])\n",
    "seaborn.boxenplot(x=data, ax=axes[2])"
   ]
  },
  {
   "cell_type": "markdown",
   "metadata": {
    "id": "fuDscbVqttGZ"
   },
   "source": [
    "### ¡Mirando los datos!\n",
    "\n",
    "¿Quiénes son los que cobran tanto?"
   ]
  },
  {
   "cell_type": "code",
   "execution_count": null,
   "metadata": {
    "colab": {
     "base_uri": "https://localhost:8080/",
     "height": 862
    },
    "id": "zIt2nJXvtx3g",
    "outputId": "68b04aad-5eca-4b3f-c3eb-4fdd61e5387f"
   },
   "outputs": [
    {
     "data": {
      "text/html": [
       "<div>\n",
       "<style scoped>\n",
       "    .dataframe tbody tr th:only-of-type {\n",
       "        vertical-align: middle;\n",
       "    }\n",
       "\n",
       "    .dataframe tbody tr th {\n",
       "        vertical-align: top;\n",
       "    }\n",
       "\n",
       "    .dataframe thead th {\n",
       "        text-align: right;\n",
       "    }\n",
       "</style>\n",
       "<table border=\"1\" class=\"dataframe\">\n",
       "  <thead>\n",
       "    <tr style=\"text-align: right;\">\n",
       "      <th></th>\n",
       "      <th>profile_gender</th>\n",
       "      <th>profile_age</th>\n",
       "      <th>work_country</th>\n",
       "      <th>work_province</th>\n",
       "      <th>profile_years_experience</th>\n",
       "      <th>work_years_in_company</th>\n",
       "      <th>work_years_in_current_position</th>\n",
       "      <th>work_people_in_charge_of</th>\n",
       "      <th>profile_studies_level</th>\n",
       "      <th>profile_studies_level_state</th>\n",
       "      <th>profile_career</th>\n",
       "      <th>profile_university</th>\n",
       "      <th>profile_specialization_courses</th>\n",
       "      <th>profile_open_source_contributions</th>\n",
       "      <th>profile_programming_as_hobby</th>\n",
       "      <th>work_role</th>\n",
       "      <th>tools_platform</th>\n",
       "      <th>tools_programming_languages</th>\n",
       "      <th>tools_frameworks</th>\n",
       "      <th>tools_data_bases</th>\n",
       "      <th>tools_qa_testing</th>\n",
       "      <th>tools_IDEs</th>\n",
       "      <th>tools_work_pc_os</th>\n",
       "      <th>tools_cellphone_os</th>\n",
       "      <th>work_on_call_duty</th>\n",
       "      <th>salary_on_call_duty_charge</th>\n",
       "      <th>work_on_call_duty_charge_type</th>\n",
       "      <th>work_contract_type</th>\n",
       "      <th>salary_monthly_BRUTO</th>\n",
       "      <th>salary_monthly_NETO</th>\n",
       "      <th>salary_in_usd</th>\n",
       "      <th>salary_satisfaction</th>\n",
       "      <th>salary_comparison_last_semester</th>\n",
       "      <th>salary_has_bonus</th>\n",
       "      <th>salary_bonus_tied_to</th>\n",
       "      <th>salary_inflation_adjustment_2020</th>\n",
       "      <th>salary_percentage_inflation_adjustment_2020</th>\n",
       "      <th>salary_month_last_inflation_adjustment</th>\n",
       "      <th>work_has_violence_situations</th>\n",
       "      <th>profile_sexual_orientation</th>\n",
       "      <th>profile_has_disabilities</th>\n",
       "      <th>profile_has_disabilities_hiring_difficulties</th>\n",
       "      <th>company_employee_number</th>\n",
       "      <th>company_main_activity</th>\n",
       "      <th>company_recommended</th>\n",
       "      <th>company_diversity_policies</th>\n",
       "      <th>company_extra_benefits</th>\n",
       "      <th>company_best_companies_city</th>\n",
       "    </tr>\n",
       "  </thead>\n",
       "  <tbody>\n",
       "    <tr>\n",
       "      <th>261</th>\n",
       "      <td>Hombre</td>\n",
       "      <td>37</td>\n",
       "      <td>Argentina</td>\n",
       "      <td>Ciudad Autónoma de Buenos Aires</td>\n",
       "      <td>21.0</td>\n",
       "      <td>10.0</td>\n",
       "      <td>10.0</td>\n",
       "      <td>17</td>\n",
       "      <td>Universitario</td>\n",
       "      <td>Incompleto</td>\n",
       "      <td>NaN</td>\n",
       "      <td>NaN</td>\n",
       "      <td>No</td>\n",
       "      <td>Sí</td>\n",
       "      <td>Sí</td>\n",
       "      <td>VP / C-Level</td>\n",
       "      <td>Docker, Firebase, Google Cloud Platform/App En...</td>\n",
       "      <td>Bash/Shell, Go, HTML, Javascript, Perl, PHP, P...</td>\n",
       "      <td>jQuery, Rails, React.js</td>\n",
       "      <td>Google Cloud Storage, MariaDB, MySQL, Percona ...</td>\n",
       "      <td>Ninguna</td>\n",
       "      <td>Vi, Vim</td>\n",
       "      <td>GNU/Linux</td>\n",
       "      <td>Android</td>\n",
       "      <td>No</td>\n",
       "      <td>0.0</td>\n",
       "      <td>Porcentaje de mi sueldo</td>\n",
       "      <td>Full-Time</td>\n",
       "      <td>800000.0</td>\n",
       "      <td>500000.0</td>\n",
       "      <td>NaN</td>\n",
       "      <td>4</td>\n",
       "      <td>4</td>\n",
       "      <td>3+ sueldos</td>\n",
       "      <td>Mix de las anteriores</td>\n",
       "      <td>Uno</td>\n",
       "      <td>20.0</td>\n",
       "      <td>4</td>\n",
       "      <td>Jamás</td>\n",
       "      <td>Heterosexual</td>\n",
       "      <td>NaN</td>\n",
       "      <td>NaN</td>\n",
       "      <td>5001-10000</td>\n",
       "      <td>Producto basado en Software</td>\n",
       "      <td>9</td>\n",
       "      <td>9</td>\n",
       "      <td>Abono de celular, Capacitaciones y/o cursos, C...</td>\n",
       "      <td>NaN</td>\n",
       "    </tr>\n",
       "    <tr>\n",
       "      <th>318</th>\n",
       "      <td>Hombre</td>\n",
       "      <td>40</td>\n",
       "      <td>Argentina</td>\n",
       "      <td>Santa Fe</td>\n",
       "      <td>4.0</td>\n",
       "      <td>0.0</td>\n",
       "      <td>0.0</td>\n",
       "      <td>0</td>\n",
       "      <td>Posdoctorado</td>\n",
       "      <td>Completado</td>\n",
       "      <td>Licenciatura en Ciencias dela Computación</td>\n",
       "      <td>UNR - Universidad Nacional de Rosario</td>\n",
       "      <td>No</td>\n",
       "      <td>Sí</td>\n",
       "      <td>Sí</td>\n",
       "      <td>Developer</td>\n",
       "      <td>Linux</td>\n",
       "      <td>C++</td>\n",
       "      <td>Ninguno</td>\n",
       "      <td>Ninguna</td>\n",
       "      <td>google test</td>\n",
       "      <td>Vim</td>\n",
       "      <td>GNU/Linux</td>\n",
       "      <td>Android</td>\n",
       "      <td>No</td>\n",
       "      <td>0.0</td>\n",
       "      <td>Neto</td>\n",
       "      <td>Remoto (empresa de otro país)</td>\n",
       "      <td>650000.0</td>\n",
       "      <td>422500.0</td>\n",
       "      <td>Mi sueldo está dolarizado</td>\n",
       "      <td>3</td>\n",
       "      <td>4</td>\n",
       "      <td>No</td>\n",
       "      <td>No recibo bono</td>\n",
       "      <td>No</td>\n",
       "      <td>0.0</td>\n",
       "      <td>0</td>\n",
       "      <td>Jamás</td>\n",
       "      <td>¿Qué les importa?</td>\n",
       "      <td>NaN</td>\n",
       "      <td>NaN</td>\n",
       "      <td>1001-2000</td>\n",
       "      <td>Servicios / Consultoría de Software / Digital</td>\n",
       "      <td>8</td>\n",
       "      <td>10</td>\n",
       "      <td>Capacitaciones y/o cursos, Horarios flexibles,...</td>\n",
       "      <td>NaN</td>\n",
       "    </tr>\n",
       "    <tr>\n",
       "      <th>437</th>\n",
       "      <td>Hombre</td>\n",
       "      <td>36</td>\n",
       "      <td>Argentina</td>\n",
       "      <td>Ciudad Autónoma de Buenos Aires</td>\n",
       "      <td>17.0</td>\n",
       "      <td>4.0</td>\n",
       "      <td>4.0</td>\n",
       "      <td>15</td>\n",
       "      <td>Universitario</td>\n",
       "      <td>Incompleto</td>\n",
       "      <td>Ingeniería en Informática</td>\n",
       "      <td>UTN - Universidad Tecnológica Nacional</td>\n",
       "      <td>Sí, de forma particular</td>\n",
       "      <td>No</td>\n",
       "      <td>No</td>\n",
       "      <td>Manager / Director</td>\n",
       "      <td>Ninguna</td>\n",
       "      <td>Java</td>\n",
       "      <td>Ninguno</td>\n",
       "      <td>PostgreSQL</td>\n",
       "      <td>Ninguna</td>\n",
       "      <td>IntelliJ</td>\n",
       "      <td>macOS</td>\n",
       "      <td>iOS</td>\n",
       "      <td>Sí, pasiva</td>\n",
       "      <td>0.0</td>\n",
       "      <td>Porcentaje de mi sueldo</td>\n",
       "      <td>Full-Time</td>\n",
       "      <td>540000.0</td>\n",
       "      <td>380000.0</td>\n",
       "      <td>NaN</td>\n",
       "      <td>3</td>\n",
       "      <td>2</td>\n",
       "      <td>Un sueldo</td>\n",
       "      <td>Performance de la compañía</td>\n",
       "      <td>No</td>\n",
       "      <td>0.0</td>\n",
       "      <td>0</td>\n",
       "      <td>En un trabajo anterior</td>\n",
       "      <td>¿Qué les importa?</td>\n",
       "      <td>NaN</td>\n",
       "      <td>No</td>\n",
       "      <td>1001-2000</td>\n",
       "      <td>Producto basado en Software</td>\n",
       "      <td>7</td>\n",
       "      <td>10</td>\n",
       "      <td>Clases de gimnasia online, Comidas pagas / sub...</td>\n",
       "      <td>NaN</td>\n",
       "    </tr>\n",
       "    <tr>\n",
       "      <th>453</th>\n",
       "      <td>Hombre</td>\n",
       "      <td>34</td>\n",
       "      <td>Argentina</td>\n",
       "      <td>GBA</td>\n",
       "      <td>14.0</td>\n",
       "      <td>4.0</td>\n",
       "      <td>2.0</td>\n",
       "      <td>0</td>\n",
       "      <td>Universitario</td>\n",
       "      <td>Completado</td>\n",
       "      <td>Ingeniería en Informática</td>\n",
       "      <td>UM - Universidad de Morón</td>\n",
       "      <td>Sí, de forma particular</td>\n",
       "      <td>No</td>\n",
       "      <td>No</td>\n",
       "      <td>SysAdmin / DevOps / SRE</td>\n",
       "      <td>Amazon Web Services, Docker, Kubernetes, Linux...</td>\n",
       "      <td>Bash/Shell, Terraform</td>\n",
       "      <td>Terrafor</td>\n",
       "      <td>Amazon DynamoDB, Amazon RDS/Aurora, ElasticSea...</td>\n",
       "      <td>Ninguna</td>\n",
       "      <td>IntelliJ, Vim</td>\n",
       "      <td>macOS</td>\n",
       "      <td>iOS</td>\n",
       "      <td>No</td>\n",
       "      <td>0.0</td>\n",
       "      <td>Bruto</td>\n",
       "      <td>Remoto (empresa de otro país)</td>\n",
       "      <td>800000.0</td>\n",
       "      <td>NaN</td>\n",
       "      <td>NaN</td>\n",
       "      <td>4</td>\n",
       "      <td>4</td>\n",
       "      <td>Un sueldo</td>\n",
       "      <td>Performance individual</td>\n",
       "      <td>No</td>\n",
       "      <td>0.0</td>\n",
       "      <td>0</td>\n",
       "      <td>En un trabajo anterior</td>\n",
       "      <td>Oveja</td>\n",
       "      <td>NaN</td>\n",
       "      <td>No</td>\n",
       "      <td>11-50</td>\n",
       "      <td>Servicios / Consultoría de Software / Digital</td>\n",
       "      <td>10</td>\n",
       "      <td>8</td>\n",
       "      <td>Vacaciones flexibles (adicionales a las reglam...</td>\n",
       "      <td>Airbnb</td>\n",
       "    </tr>\n",
       "    <tr>\n",
       "      <th>467</th>\n",
       "      <td>Hombre</td>\n",
       "      <td>26</td>\n",
       "      <td>Argentina</td>\n",
       "      <td>Córdoba</td>\n",
       "      <td>6.5</td>\n",
       "      <td>1.5</td>\n",
       "      <td>1.5</td>\n",
       "      <td>0</td>\n",
       "      <td>Universitario</td>\n",
       "      <td>Completado</td>\n",
       "      <td>Ingeniería en Sistemas de Información</td>\n",
       "      <td>UTN - Universidad Tecnológica Nacional</td>\n",
       "      <td>Sí, los pagó un empleador</td>\n",
       "      <td>No</td>\n",
       "      <td>Sí</td>\n",
       "      <td>Developer</td>\n",
       "      <td>Amazon Web Services, Docker, Linux</td>\n",
       "      <td>Go, Python, Ruby</td>\n",
       "      <td>Flask, Rails</td>\n",
       "      <td>Amazon DynamoDB, Amazon RDS/Aurora, ElasticSea...</td>\n",
       "      <td>RSpec</td>\n",
       "      <td>IntelliJ, Visual Studio Code</td>\n",
       "      <td>macOS</td>\n",
       "      <td>iOS</td>\n",
       "      <td>No</td>\n",
       "      <td>0.0</td>\n",
       "      <td>Porcentaje de mi sueldo</td>\n",
       "      <td>Remoto (empresa de otro país)</td>\n",
       "      <td>515000.0</td>\n",
       "      <td>NaN</td>\n",
       "      <td>NaN</td>\n",
       "      <td>4</td>\n",
       "      <td>4</td>\n",
       "      <td>No</td>\n",
       "      <td>No recibo bono</td>\n",
       "      <td>No</td>\n",
       "      <td>0.0</td>\n",
       "      <td>0</td>\n",
       "      <td>Jamás</td>\n",
       "      <td>Heterosexual</td>\n",
       "      <td>NaN</td>\n",
       "      <td>No</td>\n",
       "      <td>201-500</td>\n",
       "      <td>Producto basado en Software</td>\n",
       "      <td>10</td>\n",
       "      <td>10</td>\n",
       "      <td>Horarios flexibles, Vacaciones flexibles (adic...</td>\n",
       "      <td>NaN</td>\n",
       "    </tr>\n",
       "    <tr>\n",
       "      <th>...</th>\n",
       "      <td>...</td>\n",
       "      <td>...</td>\n",
       "      <td>...</td>\n",
       "      <td>...</td>\n",
       "      <td>...</td>\n",
       "      <td>...</td>\n",
       "      <td>...</td>\n",
       "      <td>...</td>\n",
       "      <td>...</td>\n",
       "      <td>...</td>\n",
       "      <td>...</td>\n",
       "      <td>...</td>\n",
       "      <td>...</td>\n",
       "      <td>...</td>\n",
       "      <td>...</td>\n",
       "      <td>...</td>\n",
       "      <td>...</td>\n",
       "      <td>...</td>\n",
       "      <td>...</td>\n",
       "      <td>...</td>\n",
       "      <td>...</td>\n",
       "      <td>...</td>\n",
       "      <td>...</td>\n",
       "      <td>...</td>\n",
       "      <td>...</td>\n",
       "      <td>...</td>\n",
       "      <td>...</td>\n",
       "      <td>...</td>\n",
       "      <td>...</td>\n",
       "      <td>...</td>\n",
       "      <td>...</td>\n",
       "      <td>...</td>\n",
       "      <td>...</td>\n",
       "      <td>...</td>\n",
       "      <td>...</td>\n",
       "      <td>...</td>\n",
       "      <td>...</td>\n",
       "      <td>...</td>\n",
       "      <td>...</td>\n",
       "      <td>...</td>\n",
       "      <td>...</td>\n",
       "      <td>...</td>\n",
       "      <td>...</td>\n",
       "      <td>...</td>\n",
       "      <td>...</td>\n",
       "      <td>...</td>\n",
       "      <td>...</td>\n",
       "      <td>...</td>\n",
       "    </tr>\n",
       "    <tr>\n",
       "      <th>5819</th>\n",
       "      <td>Hombre</td>\n",
       "      <td>35</td>\n",
       "      <td>Argentina</td>\n",
       "      <td>Ciudad Autónoma de Buenos Aires</td>\n",
       "      <td>10.0</td>\n",
       "      <td>10.0</td>\n",
       "      <td>10.0</td>\n",
       "      <td>0</td>\n",
       "      <td>Universitario</td>\n",
       "      <td>En curso</td>\n",
       "      <td>Tecnicatura Superior en Análisis de Sistemas</td>\n",
       "      <td>UAI - Universidad Abierta Interamericana</td>\n",
       "      <td>Sí, de forma particular, Sí, los pagó un emple...</td>\n",
       "      <td>No</td>\n",
       "      <td>Sí</td>\n",
       "      <td>HelpDesk</td>\n",
       "      <td>Google Cloud Platform/App Engine, Linux, Windo...</td>\n",
       "      <td>Java, Python, SQL</td>\n",
       "      <td>jQuery, WordPress</td>\n",
       "      <td>Google Cloud Storage, Microsoft SQL Server, Or...</td>\n",
       "      <td>Ninguna de las anteriores</td>\n",
       "      <td>Android Studio, IPython / Jupyter, Visual Stud...</td>\n",
       "      <td>Windows</td>\n",
       "      <td>Android</td>\n",
       "      <td>No</td>\n",
       "      <td>0.0</td>\n",
       "      <td>Bruto</td>\n",
       "      <td>Part-Time</td>\n",
       "      <td>986840.0</td>\n",
       "      <td>836400.0</td>\n",
       "      <td>NaN</td>\n",
       "      <td>4</td>\n",
       "      <td>3</td>\n",
       "      <td>Menos de un sueldo</td>\n",
       "      <td>Mix de las anteriores</td>\n",
       "      <td>Dos</td>\n",
       "      <td>23.0</td>\n",
       "      <td>7</td>\n",
       "      <td>Jamás</td>\n",
       "      <td>Heterosexual</td>\n",
       "      <td>NaN</td>\n",
       "      <td>NaN</td>\n",
       "      <td>2001-5000</td>\n",
       "      <td>Otras industrias</td>\n",
       "      <td>9</td>\n",
       "      <td>8</td>\n",
       "      <td>Abono de Internet, Capacitaciones y/o cursos, ...</td>\n",
       "      <td>NaN</td>\n",
       "    </tr>\n",
       "    <tr>\n",
       "      <th>5844</th>\n",
       "      <td>Hombre</td>\n",
       "      <td>28</td>\n",
       "      <td>Argentina</td>\n",
       "      <td>Ciudad Autónoma de Buenos Aires</td>\n",
       "      <td>8.0</td>\n",
       "      <td>0.0</td>\n",
       "      <td>8.0</td>\n",
       "      <td>0</td>\n",
       "      <td>Universitario</td>\n",
       "      <td>En curso</td>\n",
       "      <td>Ingeniería en Sistemas de Información</td>\n",
       "      <td>UTN - Universidad Tecnológica Nacional</td>\n",
       "      <td>No</td>\n",
       "      <td>No</td>\n",
       "      <td>No</td>\n",
       "      <td>Developer</td>\n",
       "      <td>Firebase</td>\n",
       "      <td>Objective-C, Swift</td>\n",
       "      <td>Ninguno de los anteriores</td>\n",
       "      <td>SQLite</td>\n",
       "      <td>Postman</td>\n",
       "      <td>Xcode</td>\n",
       "      <td>macOS</td>\n",
       "      <td>iOS</td>\n",
       "      <td>No</td>\n",
       "      <td>0.0</td>\n",
       "      <td>Bruto</td>\n",
       "      <td>Full-Time</td>\n",
       "      <td>2000000.0</td>\n",
       "      <td>150000.0</td>\n",
       "      <td>NaN</td>\n",
       "      <td>3</td>\n",
       "      <td>3</td>\n",
       "      <td>De uno a tres sueldos</td>\n",
       "      <td>Mix de las anteriores</td>\n",
       "      <td>Uno</td>\n",
       "      <td>10.0</td>\n",
       "      <td>7</td>\n",
       "      <td>En un trabajo anterior</td>\n",
       "      <td>Heterosexual</td>\n",
       "      <td>NaN</td>\n",
       "      <td>NaN</td>\n",
       "      <td>201-500</td>\n",
       "      <td>Producto basado en Software</td>\n",
       "      <td>9</td>\n",
       "      <td>9</td>\n",
       "      <td>Capacitaciones y/o cursos, Clases de gimnasia ...</td>\n",
       "      <td>NaN</td>\n",
       "    </tr>\n",
       "    <tr>\n",
       "      <th>5878</th>\n",
       "      <td>Hombre</td>\n",
       "      <td>54</td>\n",
       "      <td>Argentina</td>\n",
       "      <td>Ciudad Autónoma de Buenos Aires</td>\n",
       "      <td>36.0</td>\n",
       "      <td>34.0</td>\n",
       "      <td>8.0</td>\n",
       "      <td>2500</td>\n",
       "      <td>Posgrado</td>\n",
       "      <td>Completado</td>\n",
       "      <td>Ingeniería en Sistemas de Información</td>\n",
       "      <td>UAI - Universidad Abierta Interamericana</td>\n",
       "      <td>Sí, de forma particular, Sí, los pagó un emple...</td>\n",
       "      <td>No</td>\n",
       "      <td>Sí</td>\n",
       "      <td>Manager / Director</td>\n",
       "      <td>Amazon Web Services, Azure, Docker, IBM Cloud ...</td>\n",
       "      <td>.NET, C#, COBOL, HTML, Java, Ruby, SQL</td>\n",
       "      <td>.NET Core, Angular, Bootstrap, Cordova, Hibernate</td>\n",
       "      <td>IBM Db2, Microsoft SQL Server, Oracle</td>\n",
       "      <td>HP LoadRunner, Puppeteer, Visual Studio Coded UI</td>\n",
       "      <td>Android Studio, Eclipse, Visual Studio</td>\n",
       "      <td>Windows</td>\n",
       "      <td>iOS</td>\n",
       "      <td>No</td>\n",
       "      <td>0.0</td>\n",
       "      <td>Porcentaje de mi sueldo</td>\n",
       "      <td>Full-Time</td>\n",
       "      <td>750000.0</td>\n",
       "      <td>480000.0</td>\n",
       "      <td>NaN</td>\n",
       "      <td>4</td>\n",
       "      <td>4</td>\n",
       "      <td>No</td>\n",
       "      <td>No recibo bono</td>\n",
       "      <td>Dos</td>\n",
       "      <td>20.0</td>\n",
       "      <td>7</td>\n",
       "      <td>Jamás</td>\n",
       "      <td>Heterosexual</td>\n",
       "      <td>NaN</td>\n",
       "      <td>NaN</td>\n",
       "      <td>10001+</td>\n",
       "      <td>Otras industrias</td>\n",
       "      <td>7</td>\n",
       "      <td>5</td>\n",
       "      <td>Abono de celular, Capacitaciones y/o cursos, C...</td>\n",
       "      <td>NaN</td>\n",
       "    </tr>\n",
       "    <tr>\n",
       "      <th>5880</th>\n",
       "      <td>Hombre</td>\n",
       "      <td>36</td>\n",
       "      <td>Argentina</td>\n",
       "      <td>Ciudad Autónoma de Buenos Aires</td>\n",
       "      <td>14.0</td>\n",
       "      <td>4.0</td>\n",
       "      <td>1.0</td>\n",
       "      <td>30</td>\n",
       "      <td>Posgrado</td>\n",
       "      <td>Completado</td>\n",
       "      <td>Ingeniería en Sistemas de Información</td>\n",
       "      <td>UTN - Universidad Tecnológica Nacional</td>\n",
       "      <td>Sí, de forma particular, Sí, los pagó un emple...</td>\n",
       "      <td>No</td>\n",
       "      <td>No</td>\n",
       "      <td>Manager / Director</td>\n",
       "      <td>Amazon Web Services, Docker, Kubernetes, Linux</td>\n",
       "      <td>Java</td>\n",
       "      <td>Hibernate, Spring</td>\n",
       "      <td>Cassandra, PostgreSQL, Redis</td>\n",
       "      <td>JUnit, Postman, Selenium</td>\n",
       "      <td>IntelliJ</td>\n",
       "      <td>macOS</td>\n",
       "      <td>Android</td>\n",
       "      <td>Sí, activa</td>\n",
       "      <td>0.0</td>\n",
       "      <td>Bruto</td>\n",
       "      <td>Full-Time</td>\n",
       "      <td>540000.0</td>\n",
       "      <td>320000.0</td>\n",
       "      <td>Mi sueldo está dolarizado</td>\n",
       "      <td>3</td>\n",
       "      <td>3</td>\n",
       "      <td>Un sueldo</td>\n",
       "      <td>Performance de la compañía</td>\n",
       "      <td>No</td>\n",
       "      <td>0.0</td>\n",
       "      <td>0</td>\n",
       "      <td>Jamás</td>\n",
       "      <td>Heterosexual</td>\n",
       "      <td>NaN</td>\n",
       "      <td>NaN</td>\n",
       "      <td>2001-5000</td>\n",
       "      <td>Producto basado en Software</td>\n",
       "      <td>9</td>\n",
       "      <td>10</td>\n",
       "      <td>Clases de gimnasia online, Clases de idiomas, ...</td>\n",
       "      <td>NaN</td>\n",
       "    </tr>\n",
       "    <tr>\n",
       "      <th>6080</th>\n",
       "      <td>Hombre</td>\n",
       "      <td>30</td>\n",
       "      <td>Argentina</td>\n",
       "      <td>San Luis</td>\n",
       "      <td>5.0</td>\n",
       "      <td>2.0</td>\n",
       "      <td>2.0</td>\n",
       "      <td>0</td>\n",
       "      <td>Terciario</td>\n",
       "      <td>Incompleto</td>\n",
       "      <td>Tecnicatura en Programación</td>\n",
       "      <td>Universidad de la punta</td>\n",
       "      <td>Sí, de forma particular</td>\n",
       "      <td>Sí</td>\n",
       "      <td>Sí</td>\n",
       "      <td>SysAdmin / DevOps / SRE</td>\n",
       "      <td>Docker, Kubernetes, Linux, OpenShift, Windows ...</td>\n",
       "      <td>Assembler, Bash/Shell, C++, HTML, Java, PHP, P...</td>\n",
       "      <td>Ninguno de los anteriores</td>\n",
       "      <td>ElasticSearch, MongoDB, Percona Server</td>\n",
       "      <td>Ninguna de las anteriores</td>\n",
       "      <td>NetBeans, Notepad++, Sublime Text, Vim</td>\n",
       "      <td>GNU/Linux</td>\n",
       "      <td>Android</td>\n",
       "      <td>No</td>\n",
       "      <td>0.0</td>\n",
       "      <td>Bruto</td>\n",
       "      <td>Full-Time</td>\n",
       "      <td>580000.0</td>\n",
       "      <td>391000.0</td>\n",
       "      <td>Mi sueldo está dolarizado</td>\n",
       "      <td>2</td>\n",
       "      <td>2</td>\n",
       "      <td>Menos de un sueldo</td>\n",
       "      <td>Mix de las anteriores</td>\n",
       "      <td>No</td>\n",
       "      <td>0.0</td>\n",
       "      <td>1</td>\n",
       "      <td>En un trabajo anterior</td>\n",
       "      <td>Heterosexual</td>\n",
       "      <td>NaN</td>\n",
       "      <td>No</td>\n",
       "      <td>501-1000</td>\n",
       "      <td>Servicios / Consultoría de Software / Digital</td>\n",
       "      <td>10</td>\n",
       "      <td>10</td>\n",
       "      <td>Clases de idiomas, Estacionamiento gratuito / ...</td>\n",
       "      <td>Init ag, Computercenter, DKB, n26</td>\n",
       "    </tr>\n",
       "  </tbody>\n",
       "</table>\n",
       "<p>118 rows × 48 columns</p>\n",
       "</div>"
      ],
      "text/plain": [
       "     profile_gender  ...        company_best_companies_city\n",
       "261          Hombre  ...                                NaN\n",
       "318          Hombre  ...                                NaN\n",
       "437          Hombre  ...                                NaN\n",
       "453          Hombre  ...                             Airbnb\n",
       "467          Hombre  ...                                NaN\n",
       "...             ...  ...                                ...\n",
       "5819         Hombre  ...                                NaN\n",
       "5844         Hombre  ...                                NaN\n",
       "5878         Hombre  ...                                NaN\n",
       "5880         Hombre  ...                                NaN\n",
       "6080         Hombre  ...  Init ag, Computercenter, DKB, n26\n",
       "\n",
       "[118 rows x 48 columns]"
      ]
     },
     "execution_count": 23,
     "metadata": {
      "tags": []
     },
     "output_type": "execute_result"
    }
   ],
   "source": [
    "df[df[salary_col] > df[salary_col].quantile(0.98)]"
   ]
  },
  {
   "cell_type": "code",
   "execution_count": null,
   "metadata": {
    "id": "2lzmzK1NuPNT"
   },
   "outputs": [],
   "source": []
  }
 ],
 "metadata": {
  "colab": {
   "collapsed_sections": [],
   "include_colab_link": true,
   "name": "02 Estadistica descriptiva.ipynb",
   "provenance": [],
   "toc_visible": true
  },
  "kernelspec": {
   "display_name": "Python 3",
   "language": "python",
   "name": "python3"
  },
  "language_info": {
   "codemirror_mode": {
    "name": "ipython",
    "version": 3
   },
   "file_extension": ".py",
   "mimetype": "text/x-python",
   "name": "python",
   "nbconvert_exporter": "python",
   "pygments_lexer": "ipython3",
   "version": "3.9.2"
  }
 },
 "nbformat": 4,
 "nbformat_minor": 1
}
