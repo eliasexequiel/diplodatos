{
 "cells": [
  {
   "cell_type": "markdown",
   "metadata": {},
   "source": [
    "1 Eliminar los valores extremos que no sean relevantes para la predicción de valores de las propiedades.\n",
    "\n"
   ]
  },
  {
   "cell_type": "code",
   "execution_count": 235,
   "metadata": {},
   "outputs": [],
   "source": [
    "import matplotlib.pyplot as plt\n",
    "import numpy\n",
    "import pandas\n",
    "\n",
    "import seaborn\n",
    "seaborn.set_context('talk')"
   ]
  },
  {
   "cell_type": "code",
   "execution_count": 236,
   "metadata": {},
   "outputs": [
    {
     "data": {
      "text/plain": [
       "'4.14.3'"
      ]
     },
     "execution_count": 236,
     "metadata": {},
     "output_type": "execute_result"
    }
   ],
   "source": [
    "import plotly\n",
    "plotly.__version__\n",
    "# Make sure it's 4.14.3"
   ]
  },
  {
   "cell_type": "code",
   "execution_count": 237,
   "metadata": {},
   "outputs": [
    {
     "data": {
      "text/html": [
       "<div>\n",
       "<style scoped>\n",
       "    .dataframe tbody tr th:only-of-type {\n",
       "        vertical-align: middle;\n",
       "    }\n",
       "\n",
       "    .dataframe tbody tr th {\n",
       "        vertical-align: top;\n",
       "    }\n",
       "\n",
       "    .dataframe thead th {\n",
       "        text-align: right;\n",
       "    }\n",
       "</style>\n",
       "<table border=\"1\" class=\"dataframe\">\n",
       "  <thead>\n",
       "    <tr style=\"text-align: right;\">\n",
       "      <th></th>\n",
       "      <th>Suburb</th>\n",
       "      <th>Address</th>\n",
       "      <th>Rooms</th>\n",
       "      <th>Type</th>\n",
       "      <th>Price</th>\n",
       "      <th>Method</th>\n",
       "      <th>SellerG</th>\n",
       "      <th>Date</th>\n",
       "      <th>Distance</th>\n",
       "      <th>Postcode</th>\n",
       "      <th>...</th>\n",
       "      <th>Bathroom</th>\n",
       "      <th>Car</th>\n",
       "      <th>Landsize</th>\n",
       "      <th>BuildingArea</th>\n",
       "      <th>YearBuilt</th>\n",
       "      <th>CouncilArea</th>\n",
       "      <th>Lattitude</th>\n",
       "      <th>Longtitude</th>\n",
       "      <th>Regionname</th>\n",
       "      <th>Propertycount</th>\n",
       "    </tr>\n",
       "  </thead>\n",
       "  <tbody>\n",
       "    <tr>\n",
       "      <th>0</th>\n",
       "      <td>Abbotsford</td>\n",
       "      <td>85 Turner St</td>\n",
       "      <td>2</td>\n",
       "      <td>h</td>\n",
       "      <td>1480000.0</td>\n",
       "      <td>S</td>\n",
       "      <td>Biggin</td>\n",
       "      <td>3/12/2016</td>\n",
       "      <td>2.5</td>\n",
       "      <td>3067.0</td>\n",
       "      <td>...</td>\n",
       "      <td>1.0</td>\n",
       "      <td>1.0</td>\n",
       "      <td>202.0</td>\n",
       "      <td>NaN</td>\n",
       "      <td>NaN</td>\n",
       "      <td>Yarra</td>\n",
       "      <td>-37.79960</td>\n",
       "      <td>144.99840</td>\n",
       "      <td>Northern Metropolitan</td>\n",
       "      <td>4019.0</td>\n",
       "    </tr>\n",
       "    <tr>\n",
       "      <th>1</th>\n",
       "      <td>Abbotsford</td>\n",
       "      <td>25 Bloomburg St</td>\n",
       "      <td>2</td>\n",
       "      <td>h</td>\n",
       "      <td>1035000.0</td>\n",
       "      <td>S</td>\n",
       "      <td>Biggin</td>\n",
       "      <td>4/02/2016</td>\n",
       "      <td>2.5</td>\n",
       "      <td>3067.0</td>\n",
       "      <td>...</td>\n",
       "      <td>1.0</td>\n",
       "      <td>0.0</td>\n",
       "      <td>156.0</td>\n",
       "      <td>79.0</td>\n",
       "      <td>1900.0</td>\n",
       "      <td>Yarra</td>\n",
       "      <td>-37.80790</td>\n",
       "      <td>144.99340</td>\n",
       "      <td>Northern Metropolitan</td>\n",
       "      <td>4019.0</td>\n",
       "    </tr>\n",
       "    <tr>\n",
       "      <th>2</th>\n",
       "      <td>Abbotsford</td>\n",
       "      <td>5 Charles St</td>\n",
       "      <td>3</td>\n",
       "      <td>h</td>\n",
       "      <td>1465000.0</td>\n",
       "      <td>SP</td>\n",
       "      <td>Biggin</td>\n",
       "      <td>4/03/2017</td>\n",
       "      <td>2.5</td>\n",
       "      <td>3067.0</td>\n",
       "      <td>...</td>\n",
       "      <td>2.0</td>\n",
       "      <td>0.0</td>\n",
       "      <td>134.0</td>\n",
       "      <td>150.0</td>\n",
       "      <td>1900.0</td>\n",
       "      <td>Yarra</td>\n",
       "      <td>-37.80930</td>\n",
       "      <td>144.99440</td>\n",
       "      <td>Northern Metropolitan</td>\n",
       "      <td>4019.0</td>\n",
       "    </tr>\n",
       "    <tr>\n",
       "      <th>3</th>\n",
       "      <td>Abbotsford</td>\n",
       "      <td>40 Federation La</td>\n",
       "      <td>3</td>\n",
       "      <td>h</td>\n",
       "      <td>850000.0</td>\n",
       "      <td>PI</td>\n",
       "      <td>Biggin</td>\n",
       "      <td>4/03/2017</td>\n",
       "      <td>2.5</td>\n",
       "      <td>3067.0</td>\n",
       "      <td>...</td>\n",
       "      <td>2.0</td>\n",
       "      <td>1.0</td>\n",
       "      <td>94.0</td>\n",
       "      <td>NaN</td>\n",
       "      <td>NaN</td>\n",
       "      <td>Yarra</td>\n",
       "      <td>-37.79690</td>\n",
       "      <td>144.99690</td>\n",
       "      <td>Northern Metropolitan</td>\n",
       "      <td>4019.0</td>\n",
       "    </tr>\n",
       "    <tr>\n",
       "      <th>4</th>\n",
       "      <td>Abbotsford</td>\n",
       "      <td>55a Park St</td>\n",
       "      <td>4</td>\n",
       "      <td>h</td>\n",
       "      <td>1600000.0</td>\n",
       "      <td>VB</td>\n",
       "      <td>Nelson</td>\n",
       "      <td>4/06/2016</td>\n",
       "      <td>2.5</td>\n",
       "      <td>3067.0</td>\n",
       "      <td>...</td>\n",
       "      <td>1.0</td>\n",
       "      <td>2.0</td>\n",
       "      <td>120.0</td>\n",
       "      <td>142.0</td>\n",
       "      <td>2014.0</td>\n",
       "      <td>Yarra</td>\n",
       "      <td>-37.80720</td>\n",
       "      <td>144.99410</td>\n",
       "      <td>Northern Metropolitan</td>\n",
       "      <td>4019.0</td>\n",
       "    </tr>\n",
       "    <tr>\n",
       "      <th>...</th>\n",
       "      <td>...</td>\n",
       "      <td>...</td>\n",
       "      <td>...</td>\n",
       "      <td>...</td>\n",
       "      <td>...</td>\n",
       "      <td>...</td>\n",
       "      <td>...</td>\n",
       "      <td>...</td>\n",
       "      <td>...</td>\n",
       "      <td>...</td>\n",
       "      <td>...</td>\n",
       "      <td>...</td>\n",
       "      <td>...</td>\n",
       "      <td>...</td>\n",
       "      <td>...</td>\n",
       "      <td>...</td>\n",
       "      <td>...</td>\n",
       "      <td>...</td>\n",
       "      <td>...</td>\n",
       "      <td>...</td>\n",
       "      <td>...</td>\n",
       "    </tr>\n",
       "    <tr>\n",
       "      <th>13575</th>\n",
       "      <td>Wheelers Hill</td>\n",
       "      <td>12 Strada Cr</td>\n",
       "      <td>4</td>\n",
       "      <td>h</td>\n",
       "      <td>1245000.0</td>\n",
       "      <td>S</td>\n",
       "      <td>Barry</td>\n",
       "      <td>26/08/2017</td>\n",
       "      <td>16.7</td>\n",
       "      <td>3150.0</td>\n",
       "      <td>...</td>\n",
       "      <td>2.0</td>\n",
       "      <td>2.0</td>\n",
       "      <td>652.0</td>\n",
       "      <td>NaN</td>\n",
       "      <td>1981.0</td>\n",
       "      <td>NaN</td>\n",
       "      <td>-37.90562</td>\n",
       "      <td>145.16761</td>\n",
       "      <td>South-Eastern Metropolitan</td>\n",
       "      <td>7392.0</td>\n",
       "    </tr>\n",
       "    <tr>\n",
       "      <th>13576</th>\n",
       "      <td>Williamstown</td>\n",
       "      <td>77 Merrett Dr</td>\n",
       "      <td>3</td>\n",
       "      <td>h</td>\n",
       "      <td>1031000.0</td>\n",
       "      <td>SP</td>\n",
       "      <td>Williams</td>\n",
       "      <td>26/08/2017</td>\n",
       "      <td>6.8</td>\n",
       "      <td>3016.0</td>\n",
       "      <td>...</td>\n",
       "      <td>2.0</td>\n",
       "      <td>2.0</td>\n",
       "      <td>333.0</td>\n",
       "      <td>133.0</td>\n",
       "      <td>1995.0</td>\n",
       "      <td>NaN</td>\n",
       "      <td>-37.85927</td>\n",
       "      <td>144.87904</td>\n",
       "      <td>Western Metropolitan</td>\n",
       "      <td>6380.0</td>\n",
       "    </tr>\n",
       "    <tr>\n",
       "      <th>13577</th>\n",
       "      <td>Williamstown</td>\n",
       "      <td>83 Power St</td>\n",
       "      <td>3</td>\n",
       "      <td>h</td>\n",
       "      <td>1170000.0</td>\n",
       "      <td>S</td>\n",
       "      <td>Raine</td>\n",
       "      <td>26/08/2017</td>\n",
       "      <td>6.8</td>\n",
       "      <td>3016.0</td>\n",
       "      <td>...</td>\n",
       "      <td>2.0</td>\n",
       "      <td>4.0</td>\n",
       "      <td>436.0</td>\n",
       "      <td>NaN</td>\n",
       "      <td>1997.0</td>\n",
       "      <td>NaN</td>\n",
       "      <td>-37.85274</td>\n",
       "      <td>144.88738</td>\n",
       "      <td>Western Metropolitan</td>\n",
       "      <td>6380.0</td>\n",
       "    </tr>\n",
       "    <tr>\n",
       "      <th>13578</th>\n",
       "      <td>Williamstown</td>\n",
       "      <td>96 Verdon St</td>\n",
       "      <td>4</td>\n",
       "      <td>h</td>\n",
       "      <td>2500000.0</td>\n",
       "      <td>PI</td>\n",
       "      <td>Sweeney</td>\n",
       "      <td>26/08/2017</td>\n",
       "      <td>6.8</td>\n",
       "      <td>3016.0</td>\n",
       "      <td>...</td>\n",
       "      <td>1.0</td>\n",
       "      <td>5.0</td>\n",
       "      <td>866.0</td>\n",
       "      <td>157.0</td>\n",
       "      <td>1920.0</td>\n",
       "      <td>NaN</td>\n",
       "      <td>-37.85908</td>\n",
       "      <td>144.89299</td>\n",
       "      <td>Western Metropolitan</td>\n",
       "      <td>6380.0</td>\n",
       "    </tr>\n",
       "    <tr>\n",
       "      <th>13579</th>\n",
       "      <td>Yarraville</td>\n",
       "      <td>6 Agnes St</td>\n",
       "      <td>4</td>\n",
       "      <td>h</td>\n",
       "      <td>1285000.0</td>\n",
       "      <td>SP</td>\n",
       "      <td>Village</td>\n",
       "      <td>26/08/2017</td>\n",
       "      <td>6.3</td>\n",
       "      <td>3013.0</td>\n",
       "      <td>...</td>\n",
       "      <td>1.0</td>\n",
       "      <td>1.0</td>\n",
       "      <td>362.0</td>\n",
       "      <td>112.0</td>\n",
       "      <td>1920.0</td>\n",
       "      <td>NaN</td>\n",
       "      <td>-37.81188</td>\n",
       "      <td>144.88449</td>\n",
       "      <td>Western Metropolitan</td>\n",
       "      <td>6543.0</td>\n",
       "    </tr>\n",
       "  </tbody>\n",
       "</table>\n",
       "<p>13580 rows × 21 columns</p>\n",
       "</div>"
      ],
      "text/plain": [
       "              Suburb           Address  Rooms Type      Price Method  \\\n",
       "0         Abbotsford      85 Turner St      2    h  1480000.0      S   \n",
       "1         Abbotsford   25 Bloomburg St      2    h  1035000.0      S   \n",
       "2         Abbotsford      5 Charles St      3    h  1465000.0     SP   \n",
       "3         Abbotsford  40 Federation La      3    h   850000.0     PI   \n",
       "4         Abbotsford       55a Park St      4    h  1600000.0     VB   \n",
       "...              ...               ...    ...  ...        ...    ...   \n",
       "13575  Wheelers Hill      12 Strada Cr      4    h  1245000.0      S   \n",
       "13576   Williamstown     77 Merrett Dr      3    h  1031000.0     SP   \n",
       "13577   Williamstown       83 Power St      3    h  1170000.0      S   \n",
       "13578   Williamstown      96 Verdon St      4    h  2500000.0     PI   \n",
       "13579     Yarraville        6 Agnes St      4    h  1285000.0     SP   \n",
       "\n",
       "        SellerG        Date  Distance  Postcode  ...  Bathroom  Car  Landsize  \\\n",
       "0        Biggin   3/12/2016       2.5    3067.0  ...       1.0  1.0     202.0   \n",
       "1        Biggin   4/02/2016       2.5    3067.0  ...       1.0  0.0     156.0   \n",
       "2        Biggin   4/03/2017       2.5    3067.0  ...       2.0  0.0     134.0   \n",
       "3        Biggin   4/03/2017       2.5    3067.0  ...       2.0  1.0      94.0   \n",
       "4        Nelson   4/06/2016       2.5    3067.0  ...       1.0  2.0     120.0   \n",
       "...         ...         ...       ...       ...  ...       ...  ...       ...   \n",
       "13575     Barry  26/08/2017      16.7    3150.0  ...       2.0  2.0     652.0   \n",
       "13576  Williams  26/08/2017       6.8    3016.0  ...       2.0  2.0     333.0   \n",
       "13577     Raine  26/08/2017       6.8    3016.0  ...       2.0  4.0     436.0   \n",
       "13578   Sweeney  26/08/2017       6.8    3016.0  ...       1.0  5.0     866.0   \n",
       "13579   Village  26/08/2017       6.3    3013.0  ...       1.0  1.0     362.0   \n",
       "\n",
       "       BuildingArea  YearBuilt  CouncilArea Lattitude  Longtitude  \\\n",
       "0               NaN        NaN        Yarra -37.79960   144.99840   \n",
       "1              79.0     1900.0        Yarra -37.80790   144.99340   \n",
       "2             150.0     1900.0        Yarra -37.80930   144.99440   \n",
       "3               NaN        NaN        Yarra -37.79690   144.99690   \n",
       "4             142.0     2014.0        Yarra -37.80720   144.99410   \n",
       "...             ...        ...          ...       ...         ...   \n",
       "13575           NaN     1981.0          NaN -37.90562   145.16761   \n",
       "13576         133.0     1995.0          NaN -37.85927   144.87904   \n",
       "13577           NaN     1997.0          NaN -37.85274   144.88738   \n",
       "13578         157.0     1920.0          NaN -37.85908   144.89299   \n",
       "13579         112.0     1920.0          NaN -37.81188   144.88449   \n",
       "\n",
       "                       Regionname Propertycount  \n",
       "0           Northern Metropolitan        4019.0  \n",
       "1           Northern Metropolitan        4019.0  \n",
       "2           Northern Metropolitan        4019.0  \n",
       "3           Northern Metropolitan        4019.0  \n",
       "4           Northern Metropolitan        4019.0  \n",
       "...                           ...           ...  \n",
       "13575  South-Eastern Metropolitan        7392.0  \n",
       "13576        Western Metropolitan        6380.0  \n",
       "13577        Western Metropolitan        6380.0  \n",
       "13578        Western Metropolitan        6380.0  \n",
       "13579        Western Metropolitan        6543.0  \n",
       "\n",
       "[13580 rows x 21 columns]"
      ]
     },
     "execution_count": 237,
     "metadata": {},
     "output_type": "execute_result"
    }
   ],
   "source": [
    "melb_df = pandas.read_csv(\n",
    "    'https://cs.famaf.unc.edu.ar/~mteruel/datasets/diplodatos/melb_data.csv')\n",
    "melb_df[:]"
   ]
  },
  {
   "cell_type": "code",
   "execution_count": 238,
   "metadata": {},
   "outputs": [
    {
     "data": {
      "text/plain": [
       "Index(['Suburb', 'Address', 'Rooms', 'Type', 'Price', 'Method', 'SellerG',\n",
       "       'Date', 'Distance', 'Postcode', 'Bedroom2', 'Bathroom', 'Car',\n",
       "       'Landsize', 'BuildingArea', 'YearBuilt', 'CouncilArea', 'Lattitude',\n",
       "       'Longtitude', 'Regionname', 'Propertycount'],\n",
       "      dtype='object')"
      ]
     },
     "execution_count": 238,
     "metadata": {},
     "output_type": "execute_result"
    }
   ],
   "source": [
    "melb_df.columns"
   ]
  },
  {
   "cell_type": "code",
   "execution_count": 239,
   "metadata": {},
   "outputs": [],
   "source": [
    "def remove_outlier(df_in, col_name, iqr_factor):\n",
    "    \"\"\"\n",
    "  IQR outliers removal (https://machinelearningmastery.com/how-to-use-statistics-to-identify-outliers-in-data/)\n",
    "  accept a dataframe, remove outliers, return cleaned data in a new dataframe\n",
    "  see http://www.itl.nist.gov/div898/handbook/prc/section1/prc16.htm\n",
    "  \"\"\"\n",
    "    q1 = df_in[col_name].quantile(0.25)\n",
    "    q3 = df_in[col_name].quantile(0.75)\n",
    "    iqr = q3 - q1  # interquartile range\n",
    "    fence_low = q1 - iqr_factor * iqr\n",
    "    fence_high = q3 + iqr_factor * iqr\n",
    "    df_inliers = df_in.loc[\n",
    "        (df_in[col_name] > fence_low) & (df_in[col_name] < fence_high)\n",
    "    ]\n",
    "    df_outliers = df_in.loc[\n",
    "        (df_in[col_name] < fence_low) | (df_in[col_name] > fence_high)\n",
    "    ]\n",
    "    return df_inliers, df_outliers"
   ]
  },
  {
   "cell_type": "code",
   "execution_count": 240,
   "metadata": {},
   "outputs": [
    {
     "data": {
      "text/plain": [
       "0.9846833578792342"
      ]
     },
     "metadata": {},
     "output_type": "display_data"
    }
   ],
   "source": [
    "iqr_factor = 2.5\n",
    "df_main_inliers, df_main_outliers = remove_outlier(melb_df, \"Price\", iqr_factor)\n",
    "\n",
    "display(len(df_main_inliers) / len(melb_df))"
   ]
  },
  {
   "cell_type": "markdown",
   "metadata": {},
   "source": [
    "2.Investigar la distribución de las variables del conjunto de datos y seleccionar un subconjunto de columnas que les parezcan relevantes al problema de predicción del valor de la propiedad.\n",
    "\n",
    "Justificar cada columna no seleccionada.\n",
    "Para las variables categóricas seleccionadas, agrupe o combine las categorías poco frecuentes para asegurar que todos los grupos tengan un número mínimo de registros."
   ]
  },
  {
   "cell_type": "code",
   "execution_count": 241,
   "metadata": {},
   "outputs": [
    {
     "data": {
      "text/plain": [
       "Distance           6\n",
       "Bedroom2          16\n",
       "Bathroom          34\n",
       "Car             1021\n",
       "Landsize        1937\n",
       "BuildingArea      16\n",
       "dtype: int64"
      ]
     },
     "execution_count": 241,
     "metadata": {},
     "output_type": "execute_result"
    }
   ],
   "source": [
    "cols = df_main_inliers[melb_df == 0].count(axis=0)\n",
    "cols[cols > 0]\n",
    "#deteccion de valores nulos en las columnas"
   ]
  },
  {
   "cell_type": "code",
   "execution_count": 242,
   "metadata": {},
   "outputs": [
    {
     "data": {
      "text/html": [
       "<div>\n",
       "<style scoped>\n",
       "    .dataframe tbody tr th:only-of-type {\n",
       "        vertical-align: middle;\n",
       "    }\n",
       "\n",
       "    .dataframe tbody tr th {\n",
       "        vertical-align: top;\n",
       "    }\n",
       "\n",
       "    .dataframe thead th {\n",
       "        text-align: right;\n",
       "    }\n",
       "</style>\n",
       "<table border=\"1\" class=\"dataframe\">\n",
       "  <thead>\n",
       "    <tr style=\"text-align: right;\">\n",
       "      <th></th>\n",
       "      <th>Suburb</th>\n",
       "      <th>Address</th>\n",
       "      <th>Rooms</th>\n",
       "      <th>Type</th>\n",
       "      <th>Price</th>\n",
       "      <th>Method</th>\n",
       "      <th>SellerG</th>\n",
       "      <th>Date</th>\n",
       "      <th>Distance</th>\n",
       "      <th>Postcode</th>\n",
       "      <th>Bathroom</th>\n",
       "      <th>Car</th>\n",
       "      <th>Landsize</th>\n",
       "      <th>BuildingArea</th>\n",
       "      <th>YearBuilt</th>\n",
       "      <th>CouncilArea</th>\n",
       "      <th>Lattitude</th>\n",
       "      <th>Longtitude</th>\n",
       "      <th>Regionname</th>\n",
       "      <th>Propertycount</th>\n",
       "    </tr>\n",
       "  </thead>\n",
       "  <tbody>\n",
       "    <tr>\n",
       "      <th>8930</th>\n",
       "      <td>Reservoir</td>\n",
       "      <td>16 Muriel Ct</td>\n",
       "      <td>3</td>\n",
       "      <td>h</td>\n",
       "      <td>825000.0</td>\n",
       "      <td>S</td>\n",
       "      <td>RW</td>\n",
       "      <td>1/07/2017</td>\n",
       "      <td>12.0</td>\n",
       "      <td>3073.0</td>\n",
       "      <td>2.0</td>\n",
       "      <td>5.0</td>\n",
       "      <td>537.0</td>\n",
       "      <td>NaN</td>\n",
       "      <td>NaN</td>\n",
       "      <td>Darebin</td>\n",
       "      <td>-37.70047</td>\n",
       "      <td>145.02881</td>\n",
       "      <td>Northern Metropolitan</td>\n",
       "      <td>21650.0</td>\n",
       "    </tr>\n",
       "    <tr>\n",
       "      <th>3350</th>\n",
       "      <td>Ivanhoe</td>\n",
       "      <td>9/88 Marshall St</td>\n",
       "      <td>2</td>\n",
       "      <td>u</td>\n",
       "      <td>480000.0</td>\n",
       "      <td>VB</td>\n",
       "      <td>Miles</td>\n",
       "      <td>3/09/2016</td>\n",
       "      <td>7.9</td>\n",
       "      <td>3079.0</td>\n",
       "      <td>1.0</td>\n",
       "      <td>1.0</td>\n",
       "      <td>0.0</td>\n",
       "      <td>NaN</td>\n",
       "      <td>NaN</td>\n",
       "      <td>Banyule</td>\n",
       "      <td>-37.77000</td>\n",
       "      <td>145.04720</td>\n",
       "      <td>Eastern Metropolitan</td>\n",
       "      <td>5549.0</td>\n",
       "    </tr>\n",
       "    <tr>\n",
       "      <th>9907</th>\n",
       "      <td>Hampton</td>\n",
       "      <td>1 Grout St</td>\n",
       "      <td>3</td>\n",
       "      <td>h</td>\n",
       "      <td>1325000.0</td>\n",
       "      <td>VB</td>\n",
       "      <td>RT</td>\n",
       "      <td>24/06/2017</td>\n",
       "      <td>13.8</td>\n",
       "      <td>3188.0</td>\n",
       "      <td>1.0</td>\n",
       "      <td>2.0</td>\n",
       "      <td>400.0</td>\n",
       "      <td>NaN</td>\n",
       "      <td>NaN</td>\n",
       "      <td>Unavailable</td>\n",
       "      <td>-37.93434</td>\n",
       "      <td>145.00816</td>\n",
       "      <td>Southern Metropolitan</td>\n",
       "      <td>5454.0</td>\n",
       "    </tr>\n",
       "    <tr>\n",
       "      <th>4913</th>\n",
       "      <td>Preston</td>\n",
       "      <td>16 Opal St</td>\n",
       "      <td>2</td>\n",
       "      <td>h</td>\n",
       "      <td>600000.0</td>\n",
       "      <td>S</td>\n",
       "      <td>Nelson</td>\n",
       "      <td>10/09/2016</td>\n",
       "      <td>8.8</td>\n",
       "      <td>3072.0</td>\n",
       "      <td>1.0</td>\n",
       "      <td>2.0</td>\n",
       "      <td>220.0</td>\n",
       "      <td>106.0</td>\n",
       "      <td>2005.0</td>\n",
       "      <td>Darebin</td>\n",
       "      <td>-37.74420</td>\n",
       "      <td>145.01680</td>\n",
       "      <td>Northern Metropolitan</td>\n",
       "      <td>14577.0</td>\n",
       "    </tr>\n",
       "    <tr>\n",
       "      <th>2670</th>\n",
       "      <td>Footscray</td>\n",
       "      <td>8 Jerrold St</td>\n",
       "      <td>2</td>\n",
       "      <td>h</td>\n",
       "      <td>752000.0</td>\n",
       "      <td>SP</td>\n",
       "      <td>Jas</td>\n",
       "      <td>7/05/2016</td>\n",
       "      <td>6.4</td>\n",
       "      <td>3011.0</td>\n",
       "      <td>1.0</td>\n",
       "      <td>0.0</td>\n",
       "      <td>215.0</td>\n",
       "      <td>98.0</td>\n",
       "      <td>1910.0</td>\n",
       "      <td>Maribyrnong</td>\n",
       "      <td>-37.79220</td>\n",
       "      <td>144.89100</td>\n",
       "      <td>Western Metropolitan</td>\n",
       "      <td>7570.0</td>\n",
       "    </tr>\n",
       "    <tr>\n",
       "      <th>2107</th>\n",
       "      <td>Collingwood</td>\n",
       "      <td>182 Keele St</td>\n",
       "      <td>2</td>\n",
       "      <td>h</td>\n",
       "      <td>670000.0</td>\n",
       "      <td>S</td>\n",
       "      <td>Jellis</td>\n",
       "      <td>18/03/2017</td>\n",
       "      <td>1.6</td>\n",
       "      <td>3066.0</td>\n",
       "      <td>1.0</td>\n",
       "      <td>0.0</td>\n",
       "      <td>118.0</td>\n",
       "      <td>NaN</td>\n",
       "      <td>NaN</td>\n",
       "      <td>Yarra</td>\n",
       "      <td>-37.79760</td>\n",
       "      <td>144.99300</td>\n",
       "      <td>Northern Metropolitan</td>\n",
       "      <td>4553.0</td>\n",
       "    </tr>\n",
       "    <tr>\n",
       "      <th>2361</th>\n",
       "      <td>Essendon</td>\n",
       "      <td>65 Napier St</td>\n",
       "      <td>3</td>\n",
       "      <td>h</td>\n",
       "      <td>1467000.0</td>\n",
       "      <td>S</td>\n",
       "      <td>Greg</td>\n",
       "      <td>7/11/2016</td>\n",
       "      <td>8.0</td>\n",
       "      <td>3040.0</td>\n",
       "      <td>2.0</td>\n",
       "      <td>2.0</td>\n",
       "      <td>188.0</td>\n",
       "      <td>171.0</td>\n",
       "      <td>1900.0</td>\n",
       "      <td>Moonee Valley</td>\n",
       "      <td>-37.75320</td>\n",
       "      <td>144.91780</td>\n",
       "      <td>Western Metropolitan</td>\n",
       "      <td>9264.0</td>\n",
       "    </tr>\n",
       "    <tr>\n",
       "      <th>2109</th>\n",
       "      <td>Collingwood</td>\n",
       "      <td>5/22 Stanley St</td>\n",
       "      <td>2</td>\n",
       "      <td>u</td>\n",
       "      <td>515000.0</td>\n",
       "      <td>S</td>\n",
       "      <td>Peter</td>\n",
       "      <td>18/03/2017</td>\n",
       "      <td>1.6</td>\n",
       "      <td>3066.0</td>\n",
       "      <td>1.0</td>\n",
       "      <td>1.0</td>\n",
       "      <td>816.0</td>\n",
       "      <td>NaN</td>\n",
       "      <td>NaN</td>\n",
       "      <td>Yarra</td>\n",
       "      <td>-37.80200</td>\n",
       "      <td>144.98480</td>\n",
       "      <td>Northern Metropolitan</td>\n",
       "      <td>4553.0</td>\n",
       "    </tr>\n",
       "    <tr>\n",
       "      <th>1971</th>\n",
       "      <td>Coburg</td>\n",
       "      <td>9 Vincent St</td>\n",
       "      <td>4</td>\n",
       "      <td>h</td>\n",
       "      <td>1155000.0</td>\n",
       "      <td>S</td>\n",
       "      <td>Nelson</td>\n",
       "      <td>18/03/2017</td>\n",
       "      <td>7.8</td>\n",
       "      <td>3058.0</td>\n",
       "      <td>1.0</td>\n",
       "      <td>2.0</td>\n",
       "      <td>370.0</td>\n",
       "      <td>NaN</td>\n",
       "      <td>NaN</td>\n",
       "      <td>Moreland</td>\n",
       "      <td>-37.74310</td>\n",
       "      <td>144.95600</td>\n",
       "      <td>Northern Metropolitan</td>\n",
       "      <td>11204.0</td>\n",
       "    </tr>\n",
       "    <tr>\n",
       "      <th>2640</th>\n",
       "      <td>Flemington</td>\n",
       "      <td>12/132 Princes St</td>\n",
       "      <td>2</td>\n",
       "      <td>u</td>\n",
       "      <td>556000.0</td>\n",
       "      <td>S</td>\n",
       "      <td>Woodards</td>\n",
       "      <td>16/07/2016</td>\n",
       "      <td>4.4</td>\n",
       "      <td>3031.0</td>\n",
       "      <td>2.0</td>\n",
       "      <td>1.0</td>\n",
       "      <td>0.0</td>\n",
       "      <td>79.0</td>\n",
       "      <td>2009.0</td>\n",
       "      <td>Moonee Valley</td>\n",
       "      <td>-37.78400</td>\n",
       "      <td>144.93560</td>\n",
       "      <td>Northern Metropolitan</td>\n",
       "      <td>3593.0</td>\n",
       "    </tr>\n",
       "  </tbody>\n",
       "</table>\n",
       "</div>"
      ],
      "text/plain": [
       "           Suburb            Address  Rooms Type      Price Method   SellerG  \\\n",
       "8930    Reservoir       16 Muriel Ct      3    h   825000.0      S        RW   \n",
       "3350      Ivanhoe   9/88 Marshall St      2    u   480000.0     VB     Miles   \n",
       "9907      Hampton         1 Grout St      3    h  1325000.0     VB        RT   \n",
       "4913      Preston         16 Opal St      2    h   600000.0      S    Nelson   \n",
       "2670    Footscray       8 Jerrold St      2    h   752000.0     SP       Jas   \n",
       "2107  Collingwood       182 Keele St      2    h   670000.0      S    Jellis   \n",
       "2361     Essendon       65 Napier St      3    h  1467000.0      S      Greg   \n",
       "2109  Collingwood    5/22 Stanley St      2    u   515000.0      S     Peter   \n",
       "1971       Coburg       9 Vincent St      4    h  1155000.0      S    Nelson   \n",
       "2640   Flemington  12/132 Princes St      2    u   556000.0      S  Woodards   \n",
       "\n",
       "            Date  Distance  Postcode  Bathroom  Car  Landsize  BuildingArea  \\\n",
       "8930   1/07/2017      12.0    3073.0       2.0  5.0     537.0           NaN   \n",
       "3350   3/09/2016       7.9    3079.0       1.0  1.0       0.0           NaN   \n",
       "9907  24/06/2017      13.8    3188.0       1.0  2.0     400.0           NaN   \n",
       "4913  10/09/2016       8.8    3072.0       1.0  2.0     220.0         106.0   \n",
       "2670   7/05/2016       6.4    3011.0       1.0  0.0     215.0          98.0   \n",
       "2107  18/03/2017       1.6    3066.0       1.0  0.0     118.0           NaN   \n",
       "2361   7/11/2016       8.0    3040.0       2.0  2.0     188.0         171.0   \n",
       "2109  18/03/2017       1.6    3066.0       1.0  1.0     816.0           NaN   \n",
       "1971  18/03/2017       7.8    3058.0       1.0  2.0     370.0           NaN   \n",
       "2640  16/07/2016       4.4    3031.0       2.0  1.0       0.0          79.0   \n",
       "\n",
       "      YearBuilt    CouncilArea  Lattitude  Longtitude             Regionname  \\\n",
       "8930        NaN        Darebin  -37.70047   145.02881  Northern Metropolitan   \n",
       "3350        NaN        Banyule  -37.77000   145.04720   Eastern Metropolitan   \n",
       "9907        NaN    Unavailable  -37.93434   145.00816  Southern Metropolitan   \n",
       "4913     2005.0        Darebin  -37.74420   145.01680  Northern Metropolitan   \n",
       "2670     1910.0    Maribyrnong  -37.79220   144.89100   Western Metropolitan   \n",
       "2107        NaN          Yarra  -37.79760   144.99300  Northern Metropolitan   \n",
       "2361     1900.0  Moonee Valley  -37.75320   144.91780   Western Metropolitan   \n",
       "2109        NaN          Yarra  -37.80200   144.98480  Northern Metropolitan   \n",
       "1971        NaN       Moreland  -37.74310   144.95600  Northern Metropolitan   \n",
       "2640     2009.0  Moonee Valley  -37.78400   144.93560  Northern Metropolitan   \n",
       "\n",
       "      Propertycount  \n",
       "8930        21650.0  \n",
       "3350         5549.0  \n",
       "9907         5454.0  \n",
       "4913        14577.0  \n",
       "2670         7570.0  \n",
       "2107         4553.0  \n",
       "2361         9264.0  \n",
       "2109         4553.0  \n",
       "1971        11204.0  \n",
       "2640         3593.0  "
      ]
     },
     "execution_count": 242,
     "metadata": {},
     "output_type": "execute_result"
    }
   ],
   "source": [
    "df_main_inliers_copy=df_main_inliers.copy()\n",
    "df_main_inliers_copy=df_main_inliers_copy.drop(['Bedroom2'], axis=1)\n",
    "#se retira la variable bedroom2\n",
    "df_main_inliers_copy.sample(10,random_state=123)\n"
   ]
  },
  {
   "cell_type": "code",
   "execution_count": 243,
   "metadata": {},
   "outputs": [
    {
     "data": {
      "text/html": [
       "<div>\n",
       "<style scoped>\n",
       "    .dataframe tbody tr th:only-of-type {\n",
       "        vertical-align: middle;\n",
       "    }\n",
       "\n",
       "    .dataframe tbody tr th {\n",
       "        vertical-align: top;\n",
       "    }\n",
       "\n",
       "    .dataframe thead th {\n",
       "        text-align: right;\n",
       "    }\n",
       "</style>\n",
       "<table border=\"1\" class=\"dataframe\">\n",
       "  <thead>\n",
       "    <tr style=\"text-align: right;\">\n",
       "      <th></th>\n",
       "      <th>Rooms</th>\n",
       "      <th>Type</th>\n",
       "      <th>Price</th>\n",
       "      <th>Suburb</th>\n",
       "      <th>Date</th>\n",
       "      <th>Distance</th>\n",
       "      <th>Postcode</th>\n",
       "      <th>Lattitude</th>\n",
       "      <th>Longtitude</th>\n",
       "      <th>Bathroom</th>\n",
       "      <th>Car</th>\n",
       "      <th>Landsize</th>\n",
       "      <th>BuildingArea</th>\n",
       "      <th>YearBuilt</th>\n",
       "      <th>Regionname</th>\n",
       "      <th>Propertycount</th>\n",
       "    </tr>\n",
       "  </thead>\n",
       "  <tbody>\n",
       "    <tr>\n",
       "      <th>0</th>\n",
       "      <td>2</td>\n",
       "      <td>h</td>\n",
       "      <td>1480000.0</td>\n",
       "      <td>Abbotsford</td>\n",
       "      <td>3/12/2016</td>\n",
       "      <td>2.5</td>\n",
       "      <td>3067.0</td>\n",
       "      <td>-37.79960</td>\n",
       "      <td>144.99840</td>\n",
       "      <td>1.0</td>\n",
       "      <td>1.0</td>\n",
       "      <td>202.0</td>\n",
       "      <td>NaN</td>\n",
       "      <td>NaN</td>\n",
       "      <td>Northern Metropolitan</td>\n",
       "      <td>4019.0</td>\n",
       "    </tr>\n",
       "    <tr>\n",
       "      <th>1</th>\n",
       "      <td>2</td>\n",
       "      <td>h</td>\n",
       "      <td>1035000.0</td>\n",
       "      <td>Abbotsford</td>\n",
       "      <td>4/02/2016</td>\n",
       "      <td>2.5</td>\n",
       "      <td>3067.0</td>\n",
       "      <td>-37.80790</td>\n",
       "      <td>144.99340</td>\n",
       "      <td>1.0</td>\n",
       "      <td>0.0</td>\n",
       "      <td>156.0</td>\n",
       "      <td>79.0</td>\n",
       "      <td>1900.0</td>\n",
       "      <td>Northern Metropolitan</td>\n",
       "      <td>4019.0</td>\n",
       "    </tr>\n",
       "    <tr>\n",
       "      <th>2</th>\n",
       "      <td>3</td>\n",
       "      <td>h</td>\n",
       "      <td>1465000.0</td>\n",
       "      <td>Abbotsford</td>\n",
       "      <td>4/03/2017</td>\n",
       "      <td>2.5</td>\n",
       "      <td>3067.0</td>\n",
       "      <td>-37.80930</td>\n",
       "      <td>144.99440</td>\n",
       "      <td>2.0</td>\n",
       "      <td>0.0</td>\n",
       "      <td>134.0</td>\n",
       "      <td>150.0</td>\n",
       "      <td>1900.0</td>\n",
       "      <td>Northern Metropolitan</td>\n",
       "      <td>4019.0</td>\n",
       "    </tr>\n",
       "    <tr>\n",
       "      <th>3</th>\n",
       "      <td>3</td>\n",
       "      <td>h</td>\n",
       "      <td>850000.0</td>\n",
       "      <td>Abbotsford</td>\n",
       "      <td>4/03/2017</td>\n",
       "      <td>2.5</td>\n",
       "      <td>3067.0</td>\n",
       "      <td>-37.79690</td>\n",
       "      <td>144.99690</td>\n",
       "      <td>2.0</td>\n",
       "      <td>1.0</td>\n",
       "      <td>94.0</td>\n",
       "      <td>NaN</td>\n",
       "      <td>NaN</td>\n",
       "      <td>Northern Metropolitan</td>\n",
       "      <td>4019.0</td>\n",
       "    </tr>\n",
       "    <tr>\n",
       "      <th>4</th>\n",
       "      <td>4</td>\n",
       "      <td>h</td>\n",
       "      <td>1600000.0</td>\n",
       "      <td>Abbotsford</td>\n",
       "      <td>4/06/2016</td>\n",
       "      <td>2.5</td>\n",
       "      <td>3067.0</td>\n",
       "      <td>-37.80720</td>\n",
       "      <td>144.99410</td>\n",
       "      <td>1.0</td>\n",
       "      <td>2.0</td>\n",
       "      <td>120.0</td>\n",
       "      <td>142.0</td>\n",
       "      <td>2014.0</td>\n",
       "      <td>Northern Metropolitan</td>\n",
       "      <td>4019.0</td>\n",
       "    </tr>\n",
       "    <tr>\n",
       "      <th>...</th>\n",
       "      <td>...</td>\n",
       "      <td>...</td>\n",
       "      <td>...</td>\n",
       "      <td>...</td>\n",
       "      <td>...</td>\n",
       "      <td>...</td>\n",
       "      <td>...</td>\n",
       "      <td>...</td>\n",
       "      <td>...</td>\n",
       "      <td>...</td>\n",
       "      <td>...</td>\n",
       "      <td>...</td>\n",
       "      <td>...</td>\n",
       "      <td>...</td>\n",
       "      <td>...</td>\n",
       "      <td>...</td>\n",
       "    </tr>\n",
       "    <tr>\n",
       "      <th>13575</th>\n",
       "      <td>4</td>\n",
       "      <td>h</td>\n",
       "      <td>1245000.0</td>\n",
       "      <td>Wheelers Hill</td>\n",
       "      <td>26/08/2017</td>\n",
       "      <td>16.7</td>\n",
       "      <td>3150.0</td>\n",
       "      <td>-37.90562</td>\n",
       "      <td>145.16761</td>\n",
       "      <td>2.0</td>\n",
       "      <td>2.0</td>\n",
       "      <td>652.0</td>\n",
       "      <td>NaN</td>\n",
       "      <td>1981.0</td>\n",
       "      <td>South-Eastern Metropolitan</td>\n",
       "      <td>7392.0</td>\n",
       "    </tr>\n",
       "    <tr>\n",
       "      <th>13576</th>\n",
       "      <td>3</td>\n",
       "      <td>h</td>\n",
       "      <td>1031000.0</td>\n",
       "      <td>Williamstown</td>\n",
       "      <td>26/08/2017</td>\n",
       "      <td>6.8</td>\n",
       "      <td>3016.0</td>\n",
       "      <td>-37.85927</td>\n",
       "      <td>144.87904</td>\n",
       "      <td>2.0</td>\n",
       "      <td>2.0</td>\n",
       "      <td>333.0</td>\n",
       "      <td>133.0</td>\n",
       "      <td>1995.0</td>\n",
       "      <td>Western Metropolitan</td>\n",
       "      <td>6380.0</td>\n",
       "    </tr>\n",
       "    <tr>\n",
       "      <th>13577</th>\n",
       "      <td>3</td>\n",
       "      <td>h</td>\n",
       "      <td>1170000.0</td>\n",
       "      <td>Williamstown</td>\n",
       "      <td>26/08/2017</td>\n",
       "      <td>6.8</td>\n",
       "      <td>3016.0</td>\n",
       "      <td>-37.85274</td>\n",
       "      <td>144.88738</td>\n",
       "      <td>2.0</td>\n",
       "      <td>4.0</td>\n",
       "      <td>436.0</td>\n",
       "      <td>NaN</td>\n",
       "      <td>1997.0</td>\n",
       "      <td>Western Metropolitan</td>\n",
       "      <td>6380.0</td>\n",
       "    </tr>\n",
       "    <tr>\n",
       "      <th>13578</th>\n",
       "      <td>4</td>\n",
       "      <td>h</td>\n",
       "      <td>2500000.0</td>\n",
       "      <td>Williamstown</td>\n",
       "      <td>26/08/2017</td>\n",
       "      <td>6.8</td>\n",
       "      <td>3016.0</td>\n",
       "      <td>-37.85908</td>\n",
       "      <td>144.89299</td>\n",
       "      <td>1.0</td>\n",
       "      <td>5.0</td>\n",
       "      <td>866.0</td>\n",
       "      <td>157.0</td>\n",
       "      <td>1920.0</td>\n",
       "      <td>Western Metropolitan</td>\n",
       "      <td>6380.0</td>\n",
       "    </tr>\n",
       "    <tr>\n",
       "      <th>13579</th>\n",
       "      <td>4</td>\n",
       "      <td>h</td>\n",
       "      <td>1285000.0</td>\n",
       "      <td>Yarraville</td>\n",
       "      <td>26/08/2017</td>\n",
       "      <td>6.3</td>\n",
       "      <td>3013.0</td>\n",
       "      <td>-37.81188</td>\n",
       "      <td>144.88449</td>\n",
       "      <td>1.0</td>\n",
       "      <td>1.0</td>\n",
       "      <td>362.0</td>\n",
       "      <td>112.0</td>\n",
       "      <td>1920.0</td>\n",
       "      <td>Western Metropolitan</td>\n",
       "      <td>6543.0</td>\n",
       "    </tr>\n",
       "  </tbody>\n",
       "</table>\n",
       "<p>13372 rows × 16 columns</p>\n",
       "</div>"
      ],
      "text/plain": [
       "       Rooms Type      Price         Suburb        Date  Distance  Postcode  \\\n",
       "0          2    h  1480000.0     Abbotsford   3/12/2016       2.5    3067.0   \n",
       "1          2    h  1035000.0     Abbotsford   4/02/2016       2.5    3067.0   \n",
       "2          3    h  1465000.0     Abbotsford   4/03/2017       2.5    3067.0   \n",
       "3          3    h   850000.0     Abbotsford   4/03/2017       2.5    3067.0   \n",
       "4          4    h  1600000.0     Abbotsford   4/06/2016       2.5    3067.0   \n",
       "...      ...  ...        ...            ...         ...       ...       ...   \n",
       "13575      4    h  1245000.0  Wheelers Hill  26/08/2017      16.7    3150.0   \n",
       "13576      3    h  1031000.0   Williamstown  26/08/2017       6.8    3016.0   \n",
       "13577      3    h  1170000.0   Williamstown  26/08/2017       6.8    3016.0   \n",
       "13578      4    h  2500000.0   Williamstown  26/08/2017       6.8    3016.0   \n",
       "13579      4    h  1285000.0     Yarraville  26/08/2017       6.3    3013.0   \n",
       "\n",
       "       Lattitude  Longtitude  Bathroom  Car  Landsize  BuildingArea  \\\n",
       "0      -37.79960   144.99840       1.0  1.0     202.0           NaN   \n",
       "1      -37.80790   144.99340       1.0  0.0     156.0          79.0   \n",
       "2      -37.80930   144.99440       2.0  0.0     134.0         150.0   \n",
       "3      -37.79690   144.99690       2.0  1.0      94.0           NaN   \n",
       "4      -37.80720   144.99410       1.0  2.0     120.0         142.0   \n",
       "...          ...         ...       ...  ...       ...           ...   \n",
       "13575  -37.90562   145.16761       2.0  2.0     652.0           NaN   \n",
       "13576  -37.85927   144.87904       2.0  2.0     333.0         133.0   \n",
       "13577  -37.85274   144.88738       2.0  4.0     436.0           NaN   \n",
       "13578  -37.85908   144.89299       1.0  5.0     866.0         157.0   \n",
       "13579  -37.81188   144.88449       1.0  1.0     362.0         112.0   \n",
       "\n",
       "       YearBuilt                  Regionname  Propertycount  \n",
       "0            NaN       Northern Metropolitan         4019.0  \n",
       "1         1900.0       Northern Metropolitan         4019.0  \n",
       "2         1900.0       Northern Metropolitan         4019.0  \n",
       "3            NaN       Northern Metropolitan         4019.0  \n",
       "4         2014.0       Northern Metropolitan         4019.0  \n",
       "...          ...                         ...            ...  \n",
       "13575     1981.0  South-Eastern Metropolitan         7392.0  \n",
       "13576     1995.0        Western Metropolitan         6380.0  \n",
       "13577     1997.0        Western Metropolitan         6380.0  \n",
       "13578     1920.0        Western Metropolitan         6380.0  \n",
       "13579     1920.0        Western Metropolitan         6543.0  \n",
       "\n",
       "[13372 rows x 16 columns]"
      ]
     },
     "execution_count": 243,
     "metadata": {},
     "output_type": "execute_result"
    }
   ],
   "source": [
    "df_filtrado = df_main_inliers[['Rooms','Type','Price','Suburb','Date','Distance','Postcode','Lattitude',\n",
    "            'Longtitude','Bathroom','Car','Landsize','BuildingArea','YearBuilt','Regionname','Propertycount' ]]\n",
    "df_filtrado\n",
    "#saco sellerG al no importar quien vendio y method al entender que no importa como fue que se vendio.\n",
    "#agrego suburb, regionname, propertycount\n",
    "#creo que hay muchas variables de ubicacion. Habria q ver cual sirve y las otras descartar."
   ]
  },
  {
   "cell_type": "code",
   "execution_count": 244,
   "metadata": {},
   "outputs": [
    {
     "name": "stdout",
     "output_type": "stream",
     "text": [
      "<class 'pandas.core.frame.DataFrame'>\n",
      "Int64Index: 13372 entries, 0 to 13579\n",
      "Data columns (total 16 columns):\n",
      " #   Column         Non-Null Count  Dtype  \n",
      "---  ------         --------------  -----  \n",
      " 0   Rooms          13372 non-null  int64  \n",
      " 1   Type           13372 non-null  object \n",
      " 2   Price          13372 non-null  float64\n",
      " 3   Suburb         13372 non-null  object \n",
      " 4   Date           13372 non-null  object \n",
      " 5   Distance       13372 non-null  float64\n",
      " 6   Postcode       13372 non-null  float64\n",
      " 7   Lattitude      13372 non-null  float64\n",
      " 8   Longtitude     13372 non-null  float64\n",
      " 9   Bathroom       13372 non-null  float64\n",
      " 10  Car            13310 non-null  float64\n",
      " 11  Landsize       13372 non-null  float64\n",
      " 12  BuildingArea   6998 non-null   float64\n",
      " 13  YearBuilt      8064 non-null   float64\n",
      " 14  Regionname     13372 non-null  object \n",
      " 15  Propertycount  13372 non-null  float64\n",
      "dtypes: float64(11), int64(1), object(4)\n",
      "memory usage: 2.4+ MB\n"
     ]
    }
   ],
   "source": [
    "df_filtrado.info()"
   ]
  },
  {
   "cell_type": "code",
   "execution_count": 245,
   "metadata": {},
   "outputs": [
    {
     "data": {
      "text/plain": [
       "h    9244\n",
       "u    3016\n",
       "t    1112\n",
       "Name: Type, dtype: int64"
      ]
     },
     "execution_count": 245,
     "metadata": {},
     "output_type": "execute_result"
    }
   ],
   "source": [
    "df_filtrado.Type.value_counts()\n"
   ]
  },
  {
   "cell_type": "code",
   "execution_count": 246,
   "metadata": {},
   "outputs": [
    {
     "data": {
      "text/plain": [
       "Clarinda              4\n",
       "Campbellfield         4\n",
       "Frankston North       4\n",
       "Coolaroo              4\n",
       "Chelsea Heights       4\n",
       "Bonbeach              4\n",
       "Aspendale Gardens     4\n",
       "Kurunjang             4\n",
       "Wyndham Vale          4\n",
       "Hampton Park          4\n",
       "Croydon Hills         4\n",
       "Knoxfield             4\n",
       "Kilsyth               4\n",
       "The Basin             4\n",
       "Ardeer                3\n",
       "Springvale South      3\n",
       "Burnside Heights      3\n",
       "Docklands             3\n",
       "Pakenham              3\n",
       "Notting Hill          3\n",
       "Seabrook              3\n",
       "St Helena             3\n",
       "Cranbourne            3\n",
       "Chirnside Park        2\n",
       "Williams Landing      2\n",
       "Mount Evelyn          2\n",
       "North Warrandyte      2\n",
       "Keilor Lodge          2\n",
       "Waterways             2\n",
       "Burnside              2\n",
       "Hurstbridge           2\n",
       "Cranbourne North      2\n",
       "Skye                  2\n",
       "Silvan                2\n",
       "Deepdene              2\n",
       "Beaconsfield          2\n",
       "Diggers Rest          2\n",
       "Beaconsfield Upper    1\n",
       "Upwey                 1\n",
       "Plumpton              1\n",
       "Bacchus Marsh         1\n",
       "Bullengarook          1\n",
       "Officer               1\n",
       "Croydon South         1\n",
       "Wonga Park            1\n",
       "Yarra Glen            1\n",
       "Wallan                1\n",
       "Healesville           1\n",
       "Rockbank              1\n",
       "Kooyong               1\n",
       "Attwood               1\n",
       "Montrose              1\n",
       "Whittlesea            1\n",
       "New Gisborne          1\n",
       "Brookfield            1\n",
       "Monbulk               1\n",
       "Riddells Creek        1\n",
       "Sandhurst             1\n",
       "Emerald               1\n",
       "Name: Suburb, dtype: int64"
      ]
     },
     "execution_count": 246,
     "metadata": {},
     "output_type": "execute_result"
    }
   ],
   "source": [
    "df_filtrado.Suburb.value_counts().tail(59)"
   ]
  },
  {
   "cell_type": "code",
   "execution_count": 247,
   "metadata": {},
   "outputs": [
    {
     "name": "stderr",
     "output_type": "stream",
     "text": [
      "/home/ariel/anaconda3/lib/python3.8/site-packages/pandas/core/frame.py:4379: SettingWithCopyWarning:\n",
      "\n",
      "\n",
      "A value is trying to be set on a copy of a slice from a DataFrame\n",
      "\n",
      "See the caveats in the documentation: https://pandas.pydata.org/pandas-docs/stable/user_guide/indexing.html#returning-a-view-versus-a-copy\n",
      "\n"
     ]
    }
   ],
   "source": [
    "#agrupo todos las categorias que tengan una frecuencia menor a 5\n",
    "suburb_replace=df_filtrado.Suburb.value_counts().tail(59).index.tolist()\n",
    "df_filtrado.replace(to_replace=suburb_replace, value='others', inplace=True)\n"
   ]
  },
  {
   "cell_type": "code",
   "execution_count": 248,
   "metadata": {},
   "outputs": [
    {
     "data": {
      "text/plain": [
       "Reservoir         359\n",
       "Richmond          258\n",
       "Bentleigh East    249\n",
       "Preston           239\n",
       "Brunswick         222\n",
       "                 ... \n",
       "Derrimut            5\n",
       "Kings Park          5\n",
       "Truganina           5\n",
       "Lower Plenty        5\n",
       "Princes Hill        5\n",
       "Name: Suburb, Length: 256, dtype: int64"
      ]
     },
     "execution_count": 248,
     "metadata": {},
     "output_type": "execute_result"
    }
   ],
   "source": [
    "df_filtrado.Suburb.value_counts()"
   ]
  },
  {
   "cell_type": "code",
   "execution_count": 249,
   "metadata": {},
   "outputs": [
    {
     "data": {
      "text/html": [
       "<div>\n",
       "<style scoped>\n",
       "    .dataframe tbody tr th:only-of-type {\n",
       "        vertical-align: middle;\n",
       "    }\n",
       "\n",
       "    .dataframe tbody tr th {\n",
       "        vertical-align: top;\n",
       "    }\n",
       "\n",
       "    .dataframe thead tr th {\n",
       "        text-align: left;\n",
       "    }\n",
       "\n",
       "    .dataframe thead tr:last-of-type th {\n",
       "        text-align: right;\n",
       "    }\n",
       "</style>\n",
       "<table border=\"1\" class=\"dataframe\">\n",
       "  <thead>\n",
       "    <tr>\n",
       "      <th></th>\n",
       "      <th colspan=\"8\" halign=\"left\">Price</th>\n",
       "    </tr>\n",
       "    <tr>\n",
       "      <th></th>\n",
       "      <th>count</th>\n",
       "      <th>mean</th>\n",
       "      <th>std</th>\n",
       "      <th>min</th>\n",
       "      <th>25%</th>\n",
       "      <th>50%</th>\n",
       "      <th>75%</th>\n",
       "      <th>max</th>\n",
       "    </tr>\n",
       "    <tr>\n",
       "      <th>Suburb</th>\n",
       "      <th></th>\n",
       "      <th></th>\n",
       "      <th></th>\n",
       "      <th></th>\n",
       "      <th></th>\n",
       "      <th></th>\n",
       "      <th></th>\n",
       "      <th></th>\n",
       "    </tr>\n",
       "  </thead>\n",
       "  <tbody>\n",
       "    <tr>\n",
       "      <th>Abbotsford</th>\n",
       "      <td>56.0</td>\n",
       "      <td>1.060366e+06</td>\n",
       "      <td>361279.965616</td>\n",
       "      <td>300000.0</td>\n",
       "      <td>866250.0</td>\n",
       "      <td>1093500.0</td>\n",
       "      <td>1311250.0</td>\n",
       "      <td>1876000.0</td>\n",
       "    </tr>\n",
       "    <tr>\n",
       "      <th>Aberfeldie</th>\n",
       "      <td>43.0</td>\n",
       "      <td>1.216465e+06</td>\n",
       "      <td>589398.860375</td>\n",
       "      <td>280000.0</td>\n",
       "      <td>743000.0</td>\n",
       "      <td>1300000.0</td>\n",
       "      <td>1648000.0</td>\n",
       "      <td>2905000.0</td>\n",
       "    </tr>\n",
       "    <tr>\n",
       "      <th>Airport West</th>\n",
       "      <td>67.0</td>\n",
       "      <td>7.566567e+05</td>\n",
       "      <td>170008.849643</td>\n",
       "      <td>440000.0</td>\n",
       "      <td>666000.0</td>\n",
       "      <td>755000.0</td>\n",
       "      <td>858000.0</td>\n",
       "      <td>1250000.0</td>\n",
       "    </tr>\n",
       "    <tr>\n",
       "      <th>Albanvale</th>\n",
       "      <td>6.0</td>\n",
       "      <td>5.370833e+05</td>\n",
       "      <td>78723.831631</td>\n",
       "      <td>415000.0</td>\n",
       "      <td>511125.0</td>\n",
       "      <td>540750.0</td>\n",
       "      <td>562500.0</td>\n",
       "      <td>655000.0</td>\n",
       "    </tr>\n",
       "    <tr>\n",
       "      <th>Albert Park</th>\n",
       "      <td>66.0</td>\n",
       "      <td>1.847023e+06</td>\n",
       "      <td>584128.064408</td>\n",
       "      <td>442500.0</td>\n",
       "      <td>1466250.0</td>\n",
       "      <td>1830000.0</td>\n",
       "      <td>2137500.0</td>\n",
       "      <td>3010000.0</td>\n",
       "    </tr>\n",
       "    <tr>\n",
       "      <th>...</th>\n",
       "      <td>...</td>\n",
       "      <td>...</td>\n",
       "      <td>...</td>\n",
       "      <td>...</td>\n",
       "      <td>...</td>\n",
       "      <td>...</td>\n",
       "      <td>...</td>\n",
       "      <td>...</td>\n",
       "    </tr>\n",
       "    <tr>\n",
       "      <th>Windsor</th>\n",
       "      <td>60.0</td>\n",
       "      <td>9.721167e+05</td>\n",
       "      <td>556513.064755</td>\n",
       "      <td>275000.0</td>\n",
       "      <td>546250.0</td>\n",
       "      <td>817500.0</td>\n",
       "      <td>1350000.0</td>\n",
       "      <td>2368000.0</td>\n",
       "    </tr>\n",
       "    <tr>\n",
       "      <th>Wollert</th>\n",
       "      <td>9.0</td>\n",
       "      <td>5.018111e+05</td>\n",
       "      <td>113115.852607</td>\n",
       "      <td>390000.0</td>\n",
       "      <td>401000.0</td>\n",
       "      <td>525000.0</td>\n",
       "      <td>530000.0</td>\n",
       "      <td>730000.0</td>\n",
       "    </tr>\n",
       "    <tr>\n",
       "      <th>Yallambie</th>\n",
       "      <td>24.0</td>\n",
       "      <td>8.396875e+05</td>\n",
       "      <td>213571.839685</td>\n",
       "      <td>602500.0</td>\n",
       "      <td>720750.0</td>\n",
       "      <td>773000.0</td>\n",
       "      <td>920250.0</td>\n",
       "      <td>1670000.0</td>\n",
       "    </tr>\n",
       "    <tr>\n",
       "      <th>Yarraville</th>\n",
       "      <td>164.0</td>\n",
       "      <td>9.886155e+05</td>\n",
       "      <td>343162.909944</td>\n",
       "      <td>330000.0</td>\n",
       "      <td>777500.0</td>\n",
       "      <td>953000.0</td>\n",
       "      <td>1190000.0</td>\n",
       "      <td>2450000.0</td>\n",
       "    </tr>\n",
       "    <tr>\n",
       "      <th>others</th>\n",
       "      <td>133.0</td>\n",
       "      <td>7.253134e+05</td>\n",
       "      <td>280971.594444</td>\n",
       "      <td>285000.0</td>\n",
       "      <td>537000.0</td>\n",
       "      <td>650000.0</td>\n",
       "      <td>840000.0</td>\n",
       "      <td>1830000.0</td>\n",
       "    </tr>\n",
       "  </tbody>\n",
       "</table>\n",
       "<p>256 rows × 8 columns</p>\n",
       "</div>"
      ],
      "text/plain": [
       "              Price                                                    \\\n",
       "              count          mean            std       min        25%   \n",
       "Suburb                                                                  \n",
       "Abbotsford     56.0  1.060366e+06  361279.965616  300000.0   866250.0   \n",
       "Aberfeldie     43.0  1.216465e+06  589398.860375  280000.0   743000.0   \n",
       "Airport West   67.0  7.566567e+05  170008.849643  440000.0   666000.0   \n",
       "Albanvale       6.0  5.370833e+05   78723.831631  415000.0   511125.0   \n",
       "Albert Park    66.0  1.847023e+06  584128.064408  442500.0  1466250.0   \n",
       "...             ...           ...            ...       ...        ...   \n",
       "Windsor        60.0  9.721167e+05  556513.064755  275000.0   546250.0   \n",
       "Wollert         9.0  5.018111e+05  113115.852607  390000.0   401000.0   \n",
       "Yallambie      24.0  8.396875e+05  213571.839685  602500.0   720750.0   \n",
       "Yarraville    164.0  9.886155e+05  343162.909944  330000.0   777500.0   \n",
       "others        133.0  7.253134e+05  280971.594444  285000.0   537000.0   \n",
       "\n",
       "                                               \n",
       "                    50%        75%        max  \n",
       "Suburb                                         \n",
       "Abbotsford    1093500.0  1311250.0  1876000.0  \n",
       "Aberfeldie    1300000.0  1648000.0  2905000.0  \n",
       "Airport West   755000.0   858000.0  1250000.0  \n",
       "Albanvale      540750.0   562500.0   655000.0  \n",
       "Albert Park   1830000.0  2137500.0  3010000.0  \n",
       "...                 ...        ...        ...  \n",
       "Windsor        817500.0  1350000.0  2368000.0  \n",
       "Wollert        525000.0   530000.0   730000.0  \n",
       "Yallambie      773000.0   920250.0  1670000.0  \n",
       "Yarraville     953000.0  1190000.0  2450000.0  \n",
       "others         650000.0   840000.0  1830000.0  \n",
       "\n",
       "[256 rows x 8 columns]"
      ]
     },
     "execution_count": 249,
     "metadata": {},
     "output_type": "execute_result"
    }
   ],
   "source": [
    "\n",
    "df_filtrado[['Suburb','Price']].groupby( 'Suburb').describe()"
   ]
  },
  {
   "cell_type": "code",
   "execution_count": 250,
   "metadata": {},
   "outputs": [
    {
     "data": {
      "text/plain": [
       "Caroline Springs      11\n",
       "Oakleigh East         11\n",
       "Tarneit               10\n",
       "Travancore            10\n",
       "Ringwood North        10\n",
       "Watsonia North        10\n",
       "Rowville              10\n",
       "Wollert                9\n",
       "Springvale             9\n",
       "Edithvale              9\n",
       "Mernda                 9\n",
       "Brooklyn               9\n",
       "Keilor                 9\n",
       "Carrum                 9\n",
       "Ripponlea              9\n",
       "Caulfield East         9\n",
       "McKinnon               8\n",
       "Gisborne               8\n",
       "Melton West            8\n",
       "Briar Hill             8\n",
       "Scoresby               8\n",
       "Bayswater North        8\n",
       "Doveton                7\n",
       "Huntingdale            7\n",
       "Croydon North          7\n",
       "Burnley                7\n",
       "Aspendale              7\n",
       "Cairnlea               7\n",
       "Taylors Hill           7\n",
       "Narre Warren           7\n",
       "Delahey                6\n",
       "Dallas                 6\n",
       "Langwarrin             6\n",
       "Strathmore Heights     6\n",
       "Albanvale              6\n",
       "Diamond Creek          6\n",
       "Gardenvale             6\n",
       "Altona Meadows         6\n",
       "Seaholme               6\n",
       "Doreen                 6\n",
       "Sydenham               5\n",
       "Hallam                 5\n",
       "Chelsea                5\n",
       "Endeavour Hills        5\n",
       "Warrandyte             5\n",
       "Derrimut               5\n",
       "Kings Park             5\n",
       "Truganina              5\n",
       "Lower Plenty           5\n",
       "Princes Hill           5\n",
       "Name: Suburb, dtype: int64"
      ]
     },
     "execution_count": 250,
     "metadata": {},
     "output_type": "execute_result"
    }
   ],
   "source": [
    "df_filtrado.Suburb.value_counts().tail(50)"
   ]
  },
  {
   "cell_type": "code",
   "execution_count": 251,
   "metadata": {},
   "outputs": [
    {
     "data": {
      "text/plain": [
       "3073.0    359\n",
       "3020.0    306\n",
       "3121.0    290\n",
       "3040.0    289\n",
       "3046.0    284\n",
       "         ... \n",
       "3775.0      1\n",
       "3777.0      1\n",
       "3809.0      1\n",
       "3808.0      1\n",
       "3793.0      1\n",
       "Name: Postcode, Length: 198, dtype: int64"
      ]
     },
     "execution_count": 251,
     "metadata": {},
     "output_type": "execute_result"
    }
   ],
   "source": [
    "df_filtrado.Postcode.value_counts()"
   ]
  },
  {
   "cell_type": "code",
   "execution_count": 252,
   "metadata": {},
   "outputs": [
    {
     "data": {
      "text/plain": [
       "3803.0    5\n",
       "3802.0    5\n",
       "3093.0    5\n",
       "3137.0    4\n",
       "3180.0    4\n",
       "3976.0    4\n",
       "3200.0    4\n",
       "3024.0    4\n",
       "3061.0    4\n",
       "3154.0    4\n",
       "3008.0    3\n",
       "3022.0    3\n",
       "3810.0    3\n",
       "3796.0    2\n",
       "3335.0    2\n",
       "3807.0    2\n",
       "3099.0    2\n",
       "3027.0    2\n",
       "3427.0    2\n",
       "3116.0    2\n",
       "3795.0    2\n",
       "3782.0    1\n",
       "3757.0    1\n",
       "3115.0    1\n",
       "3340.0    1\n",
       "3158.0    1\n",
       "3431.0    1\n",
       "3765.0    1\n",
       "3756.0    1\n",
       "3438.0    1\n",
       "3775.0    1\n",
       "3777.0    1\n",
       "3809.0    1\n",
       "3808.0    1\n",
       "3793.0    1\n",
       "Name: Postcode, dtype: int64"
      ]
     },
     "execution_count": 252,
     "metadata": {},
     "output_type": "execute_result"
    }
   ],
   "source": [
    "#hago el mismo analisis para postcode\n",
    "df_filtrado.Postcode.value_counts().tail(35)"
   ]
  },
  {
   "cell_type": "code",
   "execution_count": 253,
   "metadata": {},
   "outputs": [
    {
     "name": "stderr",
     "output_type": "stream",
     "text": [
      "/home/ariel/anaconda3/lib/python3.8/site-packages/pandas/core/frame.py:4379: SettingWithCopyWarning:\n",
      "\n",
      "\n",
      "A value is trying to be set on a copy of a slice from a DataFrame\n",
      "\n",
      "See the caveats in the documentation: https://pandas.pydata.org/pandas-docs/stable/user_guide/indexing.html#returning-a-view-versus-a-copy\n",
      "\n"
     ]
    }
   ],
   "source": [
    "#agrupo todos las categorias que tengan una frecuencia menor o igual a 5\n",
    "postcode_replace=df_filtrado.Postcode.value_counts().tail(35).index.tolist()\n",
    "df_filtrado.replace(to_replace=postcode_replace, value=3803,inplace=True)\n",
    "\n",
    "#remplazo por la moda de los valores mas frecuentes"
   ]
  },
  {
   "cell_type": "code",
   "execution_count": 254,
   "metadata": {},
   "outputs": [
    {
     "data": {
      "text/plain": [
       "3073.0    359\n",
       "3020.0    306\n",
       "3121.0    290\n",
       "3040.0    289\n",
       "3046.0    284\n",
       "         ... \n",
       "3177.0      7\n",
       "3805.0      7\n",
       "3113.0      7\n",
       "3089.0      6\n",
       "3910.0      6\n",
       "Name: Postcode, Length: 164, dtype: int64"
      ]
     },
     "execution_count": 254,
     "metadata": {},
     "output_type": "execute_result"
    }
   ],
   "source": [
    "df_filtrado.Postcode.value_counts()"
   ]
  },
  {
   "cell_type": "code",
   "execution_count": 255,
   "metadata": {},
   "outputs": [
    {
     "data": {
      "text/plain": [
       "Southern Metropolitan         4510\n",
       "Northern Metropolitan         3877\n",
       "Western Metropolitan          2944\n",
       "Eastern Metropolitan          1466\n",
       "South-Eastern Metropolitan     449\n",
       "Eastern Victoria                53\n",
       "Northern Victoria               41\n",
       "Western Victoria                32\n",
       "Name: Regionname, dtype: int64"
      ]
     },
     "execution_count": 255,
     "metadata": {},
     "output_type": "execute_result"
    }
   ],
   "source": [
    "df_filtrado.Regionname.value_counts()\n",
    "#mismo analisis para esta variable"
   ]
  },
  {
   "cell_type": "code",
   "execution_count": 256,
   "metadata": {},
   "outputs": [
    {
     "data": {
      "text/plain": [
       "['Eastern Victoria', 'Northern Victoria', 'Western Victoria']"
      ]
     },
     "execution_count": 256,
     "metadata": {},
     "output_type": "execute_result"
    }
   ],
   "source": [
    "#agrupo todos las categorias que contienen el valor victoria\n",
    "regionname_replace=df_filtrado.Regionname.value_counts().tail(3).index.tolist()\n",
    "df_filtrado.replace(to_replace=regionname_replace, value='Victoria',inplace=True)\n",
    "regionname_replace\n",
    "#remplazo por la moda de el valor Victoria que es donde se encuentra, sin discriminar por posicion geografica"
   ]
  },
  {
   "cell_type": "code",
   "execution_count": 257,
   "metadata": {},
   "outputs": [
    {
     "data": {
      "text/plain": [
       "Southern Metropolitan         4510\n",
       "Northern Metropolitan         3877\n",
       "Western Metropolitan          2944\n",
       "Eastern Metropolitan          1466\n",
       "South-Eastern Metropolitan     449\n",
       "Victoria                       126\n",
       "Name: Regionname, dtype: int64"
      ]
     },
     "execution_count": 257,
     "metadata": {},
     "output_type": "execute_result"
    }
   ],
   "source": [
    "df_filtrado.Regionname.value_counts()"
   ]
  },
  {
   "cell_type": "code",
   "execution_count": 258,
   "metadata": {},
   "outputs": [
    {
     "name": "stderr",
     "output_type": "stream",
     "text": [
      "<ipython-input-258-b184a7e5132f>:1: SettingWithCopyWarning:\n",
      "\n",
      "\n",
      "A value is trying to be set on a copy of a slice from a DataFrame.\n",
      "Try using .loc[row_indexer,col_indexer] = value instead\n",
      "\n",
      "See the caveats in the documentation: https://pandas.pydata.org/pandas-docs/stable/user_guide/indexing.html#returning-a-view-versus-a-copy\n",
      "\n"
     ]
    }
   ],
   "source": [
    "df_filtrado['date'] = pandas.to_datetime(df_filtrado.Date)\n",
    "#se convierte a formato tiempo para poder graficar"
   ]
  },
  {
   "cell_type": "markdown",
   "metadata": {},
   "source": [
    "3. Agregar información adicional respectiva al entorno de una propiedad a partir del [conjunto de datos de AirBnB](https://www.kaggle.com/tylerx/melbourne-airbnb-open-data?select=cleansed_listings_dec18.csv) utilizado en el práctico. \n",
    "  1. Seleccionar qué variables agregar y qué combinaciones aplicar a cada una. Por ejemplo, pueden utilizar solo la columna `price`, o aplicar múltiples transformaciones como la mediana o el mínimo.\n",
    "  1. Utilizar la variable zipcode para unir los conjuntos de datos. Sólo incluir los zipcodes que tengan una cantidad mínima de registros (a elección) como para que la información agregada sea relevante.\n",
    "  2. Investigar al menos otras 2 variables que puedan servir para combinar los datos, y justificar si serían adecuadas o no. Pueden asumir que cuentan con la ayuda de anotadores expertos para encontrar equivalencias entre barrios o direcciones, o que cuentan con algoritmos para encontrar las n ubicaciones más cercanas a una propiedad a partir de sus coordenadas geográficas. **NO** es necesario que realicen la implementación."
   ]
  },
  {
   "cell_type": "code",
   "execution_count": 259,
   "metadata": {},
   "outputs": [
    {
     "name": "stderr",
     "output_type": "stream",
     "text": [
      "/home/ariel/anaconda3/lib/python3.8/site-packages/IPython/core/interactiveshell.py:3146: DtypeWarning:\n",
      "\n",
      "Columns (35) have mixed types.Specify dtype option on import or set low_memory=False.\n",
      "\n"
     ]
    }
   ],
   "source": [
    "# data source:\n",
    "# https://www.kaggle.com/tylerx/melbourne-airbnb-open-data?select=cleansed_listings_dec18.csv\n",
    "interesting_cols = [\n",
    "  'description', 'neighborhood_overview',\n",
    "  'street', 'neighborhood', 'city', 'suburb', 'state', 'zipcode',\n",
    "  'price', 'weekly_price', 'monthly_price',\n",
    "  'latitude', 'longitude',\n",
    "]\n",
    "airbnb_df = pandas.read_csv(\n",
    "    'https://cs.famaf.unc.edu.ar/~mteruel/datasets/diplodatos/cleansed_listings_dec18.csv',\n",
    "    usecols=interesting_cols)"
   ]
  },
  {
   "cell_type": "code",
   "execution_count": 260,
   "metadata": {},
   "outputs": [
    {
     "data": {
      "text/html": [
       "<div>\n",
       "<style scoped>\n",
       "    .dataframe tbody tr th:only-of-type {\n",
       "        vertical-align: middle;\n",
       "    }\n",
       "\n",
       "    .dataframe tbody tr th {\n",
       "        vertical-align: top;\n",
       "    }\n",
       "\n",
       "    .dataframe thead th {\n",
       "        text-align: right;\n",
       "    }\n",
       "</style>\n",
       "<table border=\"1\" class=\"dataframe\">\n",
       "  <thead>\n",
       "    <tr style=\"text-align: right;\">\n",
       "      <th></th>\n",
       "      <th>description</th>\n",
       "      <th>neighborhood_overview</th>\n",
       "      <th>street</th>\n",
       "      <th>neighborhood</th>\n",
       "      <th>city</th>\n",
       "      <th>suburb</th>\n",
       "      <th>state</th>\n",
       "      <th>zipcode</th>\n",
       "      <th>latitude</th>\n",
       "      <th>longitude</th>\n",
       "      <th>price</th>\n",
       "      <th>weekly_price</th>\n",
       "      <th>monthly_price</th>\n",
       "    </tr>\n",
       "  </thead>\n",
       "  <tbody>\n",
       "    <tr>\n",
       "      <th>0</th>\n",
       "      <td>House: Clean, New, Modern, Quite, Safe. 10Km f...</td>\n",
       "      <td>Very safe! Family oriented. Older age group.</td>\n",
       "      <td>Bulleen, VIC, Australia</td>\n",
       "      <td>Balwyn North</td>\n",
       "      <td>Manningham</td>\n",
       "      <td>Bulleen</td>\n",
       "      <td>VIC</td>\n",
       "      <td>3105</td>\n",
       "      <td>-37.772684</td>\n",
       "      <td>145.092133</td>\n",
       "      <td>60</td>\n",
       "      <td>NaN</td>\n",
       "      <td>NaN</td>\n",
       "    </tr>\n",
       "    <tr>\n",
       "      <th>1</th>\n",
       "      <td>A large air conditioned room with queen spring...</td>\n",
       "      <td>This hip area is a crossroads between two grea...</td>\n",
       "      <td>Brunswick East, VIC, Australia</td>\n",
       "      <td>Brunswick</td>\n",
       "      <td>Moreland</td>\n",
       "      <td>Brunswick East</td>\n",
       "      <td>VIC</td>\n",
       "      <td>3057</td>\n",
       "      <td>-37.766505</td>\n",
       "      <td>144.980736</td>\n",
       "      <td>35</td>\n",
       "      <td>200.0</td>\n",
       "      <td>803.0</td>\n",
       "    </tr>\n",
       "    <tr>\n",
       "      <th>2</th>\n",
       "      <td>RIGHT IN THE HEART OF ST KILDA! It doesn't get...</td>\n",
       "      <td>A stay at our apartment means you can enjoy so...</td>\n",
       "      <td>St Kilda, VIC, Australia</td>\n",
       "      <td>St Kilda</td>\n",
       "      <td>Port Phillip</td>\n",
       "      <td>St Kilda</td>\n",
       "      <td>VIC</td>\n",
       "      <td>3182</td>\n",
       "      <td>-37.859755</td>\n",
       "      <td>144.977369</td>\n",
       "      <td>159</td>\n",
       "      <td>1253.0</td>\n",
       "      <td>4452.0</td>\n",
       "    </tr>\n",
       "  </tbody>\n",
       "</table>\n",
       "</div>"
      ],
      "text/plain": [
       "                                         description  \\\n",
       "0  House: Clean, New, Modern, Quite, Safe. 10Km f...   \n",
       "1  A large air conditioned room with queen spring...   \n",
       "2  RIGHT IN THE HEART OF ST KILDA! It doesn't get...   \n",
       "\n",
       "                               neighborhood_overview  \\\n",
       "0       Very safe! Family oriented. Older age group.   \n",
       "1  This hip area is a crossroads between two grea...   \n",
       "2  A stay at our apartment means you can enjoy so...   \n",
       "\n",
       "                           street  neighborhood          city          suburb  \\\n",
       "0         Bulleen, VIC, Australia  Balwyn North    Manningham         Bulleen   \n",
       "1  Brunswick East, VIC, Australia     Brunswick      Moreland  Brunswick East   \n",
       "2        St Kilda, VIC, Australia      St Kilda  Port Phillip        St Kilda   \n",
       "\n",
       "  state zipcode   latitude   longitude  price  weekly_price  monthly_price  \n",
       "0   VIC    3105 -37.772684  145.092133     60           NaN            NaN  \n",
       "1   VIC    3057 -37.766505  144.980736     35         200.0          803.0  \n",
       "2   VIC    3182 -37.859755  144.977369    159        1253.0         4452.0  "
      ]
     },
     "execution_count": 260,
     "metadata": {},
     "output_type": "execute_result"
    }
   ],
   "source": [
    "airbnb_df[:3]"
   ]
  },
  {
   "cell_type": "code",
   "execution_count": 261,
   "metadata": {},
   "outputs": [
    {
     "data": {
      "text/plain": [
       "3000.0    2491\n",
       "3000       876\n",
       "3006.0     860\n",
       "3182.0     579\n",
       "3182       556\n",
       "          ... \n",
       "9004.0       1\n",
       "3001.0       1\n",
       "8938.0       1\n",
       "30122        1\n",
       "3036         1\n",
       "Name: zipcode, Length: 463, dtype: int64"
      ]
     },
     "execution_count": 261,
     "metadata": {},
     "output_type": "execute_result"
    }
   ],
   "source": [
    "airbnb_df.zipcode.value_counts()"
   ]
  },
  {
   "cell_type": "code",
   "execution_count": 262,
   "metadata": {},
   "outputs": [],
   "source": [
    "airbnb_df['zipcode'] = pandas.to_numeric(airbnb_df.zipcode, errors='coerce')"
   ]
  },
  {
   "cell_type": "code",
   "execution_count": 263,
   "metadata": {},
   "outputs": [
    {
     "data": {
      "text/plain": [
       "3000.0    3367\n",
       "3006.0    1268\n",
       "3182.0    1135\n",
       "3141.0     881\n",
       "3004.0     728\n",
       "          ... \n",
       "2010.0       1\n",
       "3096.0       1\n",
       "9004.0       1\n",
       "3785.0       1\n",
       "7266.0       1\n",
       "Name: zipcode, Length: 247, dtype: int64"
      ]
     },
     "execution_count": 263,
     "metadata": {},
     "output_type": "execute_result"
    }
   ],
   "source": [
    "airbnb_df.zipcode.value_counts()"
   ]
  },
  {
   "cell_type": "code",
   "execution_count": 264,
   "metadata": {},
   "outputs": [
    {
     "name": "stdout",
     "output_type": "stream",
     "text": [
      "Airbnb unique zipcodes 248\n",
      "Sales unique zipcodes 164\n",
      "Common zipcodes 163\n"
     ]
    }
   ],
   "source": [
    "intersection = numpy.intersect1d(\n",
    "    airbnb_df.zipcode.values, df_filtrado.Postcode.values, assume_unique=False)\n",
    "print(\"Airbnb unique zipcodes\", len(airbnb_df.zipcode.unique()))\n",
    "print(\"Sales unique zipcodes\", len(df_filtrado.Postcode.unique()))\n",
    "print(\"Common zipcodes\", len(intersection))\n",
    "#hay un mayor nivel de interseccion debido a que modifique los valores de postcode del melb_df"
   ]
  },
  {
   "cell_type": "code",
   "execution_count": 265,
   "metadata": {},
   "outputs": [
    {
     "name": "stdout",
     "output_type": "stream",
     "text": [
      "Records in Sales df with corresponding zipcode form Airbnb df 0.999326951839665\n",
      "Records in Airbnb df with corresponding zipcode form Sales df 0.8811967678532431\n"
     ]
    }
   ],
   "source": [
    "print('Records in Sales df with corresponding zipcode form Airbnb df',\n",
    "      df_filtrado.Postcode.isin(intersection).sum() / len(df_filtrado))\n",
    "print('Records in Airbnb df with corresponding zipcode form Sales df',\n",
    "      airbnb_df.zipcode.isin(intersection).sum() / len(airbnb_df))"
   ]
  },
  {
   "cell_type": "code",
   "execution_count": 266,
   "metadata": {},
   "outputs": [
    {
     "data": {
      "application/vnd.plotly.v1+json": {
       "config": {
        "plotlyServerURL": "https://plot.ly"
       },
       "data": [
        {
         "geo": "geo",
         "hovertemplate": "Lattitude=%{lat}<br>Longtitude=%{lon}<br>YearBuilt=%{marker.color}<extra></extra>",
         "lat": [
          -37.80526,
          -37.797,
          -37.9002,
          -37.7319,
          -37.8568,
          -37.7083,
          -37.8395,
          -37.7968,
          -37.98001,
          -37.7617,
          -37.8911,
          -37.8225,
          -37.7646,
          -37.8235,
          -37.8332,
          -38.17488,
          -37.7285,
          -38.09083,
          -37.708,
          -37.9082,
          -37.81557,
          -37.88547,
          -37.696690000000004,
          -37.774,
          -37.8361,
          -37.7601,
          -37.7107,
          -37.9602,
          -37.9323,
          -37.841,
          -37.7744,
          -37.7784,
          -37.7307,
          -37.72473,
          -37.87257,
          -37.7776,
          -37.6969,
          -37.94253,
          -37.7795,
          -37.99827,
          -37.62554,
          -37.90419,
          -37.8341,
          -37.8996,
          -37.812,
          -37.8338,
          -37.727959999999996,
          -37.7618,
          -37.8676,
          -37.7549,
          -37.7104,
          -37.7827,
          -37.72839000000001,
          -37.7346,
          -37.62693,
          -37.7609,
          -37.8366,
          -37.79,
          -37.782,
          -37.70367,
          -37.8414,
          -37.7129,
          -37.80511,
          -37.7402,
          -37.791,
          -37.7779,
          -37.852,
          -37.627559999999995,
          -37.741,
          -37.6236,
          -37.9037,
          -37.49674,
          -37.7922,
          -37.71917,
          -37.7318,
          -37.8503,
          -37.77713,
          -37.6953,
          -37.7322,
          -37.85553,
          -37.8696,
          -37.902159999999995,
          -37.864090000000004,
          -37.7071,
          -37.8318,
          -37.7437,
          -37.788000000000004,
          -38.16457,
          -37.71729000000001,
          -37.7744,
          -37.79462,
          -37.7718,
          -37.77694,
          -37.8337,
          -37.7327,
          -37.70486,
          -37.7825,
          -37.6998,
          -37.8858,
          -37.8568,
          -37.8318,
          -37.9442,
          -37.91892,
          -37.7587,
          -37.9028,
          -37.856359999999995,
          -37.71992,
          -37.7641,
          -38.00908,
          -37.7212,
          -37.7493,
          -37.8451,
          -37.954570000000004,
          -37.7369,
          -37.8543,
          -37.63823,
          -37.80742,
          -37.6784,
          -37.8043,
          -37.8371,
          -37.827,
          -37.75571,
          -37.7844,
          -37.8509,
          -37.829209999999996,
          -37.68035,
          -37.84949,
          -37.7818,
          -37.8416,
          -37.78502,
          -37.81736,
          -37.80574,
          -37.8631,
          -37.7091,
          -37.7671,
          -37.7574,
          -37.762190000000004,
          -38.03335,
          -37.73681,
          -37.75582,
          -37.87939,
          -37.7898,
          -37.8849,
          -37.8236,
          -37.7112,
          -37.85019000000001,
          -37.89431,
          -37.74,
          -37.8971,
          -37.85385,
          -37.91489,
          -37.8645,
          -37.89465,
          -37.8385,
          -37.73341,
          -37.86906,
          -38.07405,
          -37.8147,
          -37.9239,
          -37.8571,
          -37.7602,
          -37.7243,
          -37.902409999999996,
          -37.82359,
          -37.8022,
          -37.7698,
          -37.7317,
          -37.6522,
          -37.5877,
          -37.76464,
          -37.7816,
          -37.7807,
          -37.83254,
          -37.86257,
          -37.8887,
          -37.8448,
          -37.8346,
          -37.7546,
          -37.7945,
          -37.92698,
          -37.81493,
          -37.92773,
          -37.76766,
          -37.7001,
          -37.8257,
          -37.8786,
          -37.7478,
          -37.65256,
          -37.7721,
          -37.685629999999996,
          -37.8482,
          -37.8299,
          -37.7339,
          -37.87558,
          -37.7842,
          -37.7405,
          -37.7837,
          -37.9317,
          -37.8157,
          -37.7773,
          -37.8185,
          -37.931709999999995,
          -37.7146,
          -37.8761,
          -37.8368,
          -37.7889,
          -37.7305,
          -37.9229,
          -37.8537,
          -37.846,
          -37.7936,
          -37.7948,
          -37.7261,
          -37.7866,
          -37.8174,
          -37.7208,
          -37.62458,
          -37.99581,
          -37.7376,
          -37.8596,
          -37.828,
          -37.711,
          -37.92768,
          -37.71919000000001,
          -37.8642,
          -37.71394,
          -37.8347,
          -37.92284,
          -37.8444,
          -37.68489,
          -37.7116,
          -37.834740000000004,
          -37.8355,
          -37.885,
          -37.8279,
          -37.95685,
          -37.937059999999995,
          -37.8128,
          -37.7921,
          -37.8501,
          -37.8468,
          -37.7906,
          -37.83745,
          -37.80401,
          -37.9196,
          -37.87019,
          -37.91469,
          -37.81381,
          -37.7554,
          -37.7788,
          -37.8025,
          -37.75782,
          -37.7421,
          -37.8281,
          -37.8578,
          -37.7482,
          -37.8666,
          -37.69894,
          -37.68159,
          -37.720890000000004,
          -37.81665,
          -37.8806,
          -37.7837,
          -37.72165,
          -37.742,
          -37.821,
          -37.715,
          -37.7869,
          -37.75225,
          -37.93179,
          -37.7154,
          -37.7534,
          -37.9027,
          -37.97359,
          -37.8866,
          -37.8427,
          -37.8384,
          -37.8809,
          -37.7641,
          -37.7432,
          -37.9194,
          -37.77091,
          -37.8981,
          -37.8157,
          -37.7846,
          -37.8436,
          -37.7859,
          -37.7455,
          -37.9431,
          -37.7458,
          -37.66726,
          -37.8308,
          -37.7992,
          -37.690220000000004,
          -37.842,
          -37.9082,
          -37.819,
          -37.8092,
          -37.8393,
          -37.78895
         ],
         "legendgroup": "",
         "lon": [
          145.04294,
          144.88173,
          145.099,
          145.0907,
          145.0004,
          144.9644,
          144.9462,
          144.7991,
          145.07457,
          144.9272,
          145.0451,
          144.8814,
          144.9586,
          145.0525,
          144.9901,
          145.1234,
          145.0242,
          145.20139,
          145.0181,
          144.9968,
          145.04281,
          144.65528999999995,
          145.04515,
          144.8744,
          144.9403,
          145.0363,
          144.9419,
          145.02026,
          145.0225,
          145.0824,
          145.0415,
          145.0394,
          144.9826,
          145.11657,
          145.09781999999996,
          145.1267,
          144.9334,
          145.05911,
          144.8432,
          145.07497,
          144.92006,
          144.63761,
          144.9661,
          145.0169,
          145.1082,
          144.8562,
          144.93885,
          145.0287,
          144.8202,
          145.1185,
          145.0076,
          144.8625,
          145.00105,
          144.8646,
          145.01563000000004,
          144.9308,
          144.8773,
          144.86700000000005,
          144.9834,
          144.88081,
          144.98608000000004,
          145.0047,
          145.08972,
          144.8591,
          144.9779,
          144.9862,
          145.0343,
          145.03364,
          144.8901,
          145.10629,
          145.0588,
          144.62618,
          144.8831,
          144.87819,
          145.0192,
          144.9855,
          144.79746,
          144.9397,
          145.0318,
          145.12305,
          145.0323,
          145.05069,
          144.88224,
          144.9176,
          145.0448,
          145.0633,
          144.9306,
          145.12421,
          144.96403,
          144.9035,
          144.89385,
          144.9066,
          144.96669,
          144.9886,
          145.0347,
          145.01169,
          144.8833,
          145.0248,
          145.0632,
          144.9873,
          144.8388,
          145.0016,
          145.00923,
          144.9015,
          145.0971,
          145.06405,
          145.0988,
          145.0104,
          145.30264,
          144.8545,
          144.97799999999995,
          144.8529,
          145.05387,
          145.0371,
          144.74437,
          144.88675,
          144.88297,
          144.88797,
          145.0291,
          144.93858999999995,
          145.1209,
          144.90366,
          144.8523,
          145.1119,
          145.00826,
          145.00925,
          145.07726,
          144.9576,
          145.0959,
          144.86733,
          144.89133,
          145.18832,
          144.9749,
          145.0259,
          144.9702,
          144.9907,
          145.00968,
          145.13212,
          144.90587,
          144.98951,
          145.0656,
          144.9903,
          145.0341,
          145.0729,
          144.9989,
          145.0465,
          145.05902,
          144.9821,
          145.0597,
          145.0284,
          145.08441000000005,
          144.8977,
          145.06984,
          144.8824,
          144.77161,
          145.01986000000005,
          145.13211,
          145.1032,
          145.0781,
          144.987,
          145.1166,
          144.8533,
          145.12378,
          145.0693,
          145.0775,
          144.9214,
          144.8619,
          145.09261,
          144.73734,
          144.91035,
          145.0141,
          145.1193,
          145.07907,
          144.99161,
          145.0318,
          144.9453,
          144.9358,
          144.9713,
          145.0667,
          145.02673000000001,
          144.88974,
          145.16984,
          144.97638,
          144.9291,
          145.0514,
          145.0495,
          144.9583,
          145.04093,
          144.9184,
          144.92998,
          145.0949,
          144.9496,
          145.0247,
          145.27196999999995,
          145.0921,
          145.0365,
          144.8888,
          145.0524,
          144.9727,
          145.0314,
          145.0236,
          145.03041000000005,
          145.001,
          144.9821,
          145.0508,
          144.8787,
          144.86863,
          145.0557,
          145.0114,
          144.9517,
          145.0697,
          145.0364,
          144.8785,
          144.9343,
          144.9949,
          145.0148,
          144.88546000000005,
          145.24098,
          145.0895,
          145.0198,
          144.9683,
          144.9478,
          145.04268000000005,
          144.87842,
          144.84257,
          145.00387,
          145.05700000000004,
          145.06423,
          144.8491,
          144.9212,
          144.9357,
          144.96917,
          145.0633,
          145.0466,
          145.121,
          145.01977,
          145.21124,
          144.8905,
          144.9858,
          145.059,
          144.9612,
          145.1138,
          144.95459,
          145.25225,
          145.0691,
          144.7843,
          145.02788999999999,
          144.87438,
          144.9127,
          144.9688,
          145.0665,
          144.92088,
          144.8995,
          145.0391,
          145.0682,
          144.877,
          145.0676,
          145.03411,
          145.0371,
          145.11987,
          145.10043000000005,
          145.0831,
          145.1027,
          144.95853,
          144.8885,
          145.0082,
          144.8966,
          144.9863,
          144.90462,
          145.06957,
          144.9962,
          144.9679,
          145.0684,
          145.0214,
          145.0322,
          144.9546,
          145.0178,
          144.9833,
          144.9265,
          145.0631,
          145.05700000000004,
          144.86571,
          145.0619,
          145.0273,
          144.87,
          145.0581,
          144.8787,
          145.0452,
          145.0407,
          144.9751,
          145.05819,
          145.0916,
          144.8772,
          145.09413999999995,
          145.0542,
          145.0681,
          144.895,
          145.0366,
          144.9886,
          144.93351
         ],
         "marker": {
          "color": [
           1920,
           null,
           null,
           null,
           1974,
           1960,
           1900,
           1999,
           null,
           1920,
           1965,
           2000,
           1910,
           null,
           null,
           null,
           2011,
           2002,
           2012,
           1970,
           1910,
           null,
           1977,
           null,
           1910,
           null,
           1960,
           null,
           null,
           2009,
           1970,
           null,
           2014,
           1995,
           null,
           1986,
           2005,
           null,
           2000,
           1950,
           2000,
           1990,
           null,
           null,
           1950,
           null,
           null,
           2010,
           null,
           1975,
           1970,
           2013,
           null,
           1990,
           2012,
           null,
           2000,
           null,
           null,
           null,
           null,
           1950,
           null,
           1995,
           null,
           1915,
           null,
           null,
           null,
           2010,
           1970,
           1985,
           2000,
           2011,
           1918,
           null,
           1960,
           null,
           1990,
           null,
           1910,
           null,
           1998,
           1970,
           1970,
           1950,
           1880,
           1980,
           1990,
           2013,
           null,
           1995,
           1925,
           1965,
           null,
           null,
           null,
           1990,
           1960,
           1999,
           1960,
           null,
           null,
           1980,
           null,
           null,
           2012,
           null,
           null,
           1960,
           1930,
           null,
           null,
           1960,
           null,
           1980,
           null,
           null,
           1890,
           null,
           1950,
           1960,
           1970,
           1975,
           2014,
           1975,
           1925,
           null,
           null,
           2016,
           null,
           2011,
           null,
           1980,
           null,
           1970,
           null,
           1990,
           1999,
           1930,
           1940,
           null,
           null,
           null,
           2012,
           1960,
           null,
           1950,
           null,
           null,
           null,
           null,
           1915,
           1920,
           null,
           1900,
           null,
           null,
           1998,
           2002,
           1965,
           1991,
           1960,
           1915,
           null,
           1880,
           null,
           1999,
           2001,
           1910,
           null,
           null,
           null,
           1950,
           1995,
           1890,
           1900,
           2008,
           null,
           1920,
           null,
           null,
           null,
           1970,
           1880,
           1915,
           1940,
           null,
           1887,
           null,
           1930,
           1947,
           null,
           1981,
           1974,
           null,
           null,
           null,
           1920,
           1960,
           1970,
           null,
           1965,
           1970,
           null,
           1950,
           1970,
           1999,
           null,
           null,
           null,
           null,
           null,
           1905,
           2005,
           null,
           2013,
           null,
           1970,
           1960,
           1995,
           1960,
           null,
           null,
           1970,
           null,
           1960,
           null,
           null,
           2008,
           2014,
           null,
           1960,
           null,
           1912,
           1930,
           null,
           1890,
           1880,
           1920,
           1900,
           1970,
           null,
           1960,
           2000,
           1975,
           null,
           1990,
           1970,
           1920,
           null,
           null,
           null,
           null,
           null,
           1978,
           1935,
           null,
           null,
           1980,
           1960,
           2007,
           null,
           1930,
           2013,
           null,
           null,
           null,
           1937,
           null,
           1960,
           null,
           1957,
           1980,
           null,
           1900,
           1951,
           1940,
           null,
           null,
           1950,
           1970,
           1980,
           1970,
           null,
           1930,
           null,
           null,
           null,
           2013,
           null,
           null,
           null,
           1973,
           null,
           1960,
           1900,
           1960,
           null,
           null
          ],
          "coloraxis": "coloraxis",
          "symbol": "circle"
         },
         "mode": "markers",
         "name": "",
         "showlegend": false,
         "type": "scattergeo"
        }
       ],
       "layout": {
        "coloraxis": {
         "colorbar": {
          "title": {
           "text": "YearBuilt"
          }
         },
         "colorscale": [
          [
           0,
           "#0d0887"
          ],
          [
           0.1111111111111111,
           "#46039f"
          ],
          [
           0.2222222222222222,
           "#7201a8"
          ],
          [
           0.3333333333333333,
           "#9c179e"
          ],
          [
           0.4444444444444444,
           "#bd3786"
          ],
          [
           0.5555555555555556,
           "#d8576b"
          ],
          [
           0.6666666666666666,
           "#ed7953"
          ],
          [
           0.7777777777777778,
           "#fb9f3a"
          ],
          [
           0.8888888888888888,
           "#fdca26"
          ],
          [
           1,
           "#f0f921"
          ]
         ]
        },
        "geo": {
         "center": {},
         "domain": {
          "x": [
           0,
           1
          ],
          "y": [
           0,
           1
          ]
         },
         "fitbounds": "locations"
        },
        "legend": {
         "tracegroupgap": 0
        },
        "margin": {
         "t": 60
        },
        "template": {
         "data": {
          "bar": [
           {
            "error_x": {
             "color": "#2a3f5f"
            },
            "error_y": {
             "color": "#2a3f5f"
            },
            "marker": {
             "line": {
              "color": "#E5ECF6",
              "width": 0.5
             }
            },
            "type": "bar"
           }
          ],
          "barpolar": [
           {
            "marker": {
             "line": {
              "color": "#E5ECF6",
              "width": 0.5
             }
            },
            "type": "barpolar"
           }
          ],
          "carpet": [
           {
            "aaxis": {
             "endlinecolor": "#2a3f5f",
             "gridcolor": "white",
             "linecolor": "white",
             "minorgridcolor": "white",
             "startlinecolor": "#2a3f5f"
            },
            "baxis": {
             "endlinecolor": "#2a3f5f",
             "gridcolor": "white",
             "linecolor": "white",
             "minorgridcolor": "white",
             "startlinecolor": "#2a3f5f"
            },
            "type": "carpet"
           }
          ],
          "choropleth": [
           {
            "colorbar": {
             "outlinewidth": 0,
             "ticks": ""
            },
            "type": "choropleth"
           }
          ],
          "contour": [
           {
            "colorbar": {
             "outlinewidth": 0,
             "ticks": ""
            },
            "colorscale": [
             [
              0,
              "#0d0887"
             ],
             [
              0.1111111111111111,
              "#46039f"
             ],
             [
              0.2222222222222222,
              "#7201a8"
             ],
             [
              0.3333333333333333,
              "#9c179e"
             ],
             [
              0.4444444444444444,
              "#bd3786"
             ],
             [
              0.5555555555555556,
              "#d8576b"
             ],
             [
              0.6666666666666666,
              "#ed7953"
             ],
             [
              0.7777777777777778,
              "#fb9f3a"
             ],
             [
              0.8888888888888888,
              "#fdca26"
             ],
             [
              1,
              "#f0f921"
             ]
            ],
            "type": "contour"
           }
          ],
          "contourcarpet": [
           {
            "colorbar": {
             "outlinewidth": 0,
             "ticks": ""
            },
            "type": "contourcarpet"
           }
          ],
          "heatmap": [
           {
            "colorbar": {
             "outlinewidth": 0,
             "ticks": ""
            },
            "colorscale": [
             [
              0,
              "#0d0887"
             ],
             [
              0.1111111111111111,
              "#46039f"
             ],
             [
              0.2222222222222222,
              "#7201a8"
             ],
             [
              0.3333333333333333,
              "#9c179e"
             ],
             [
              0.4444444444444444,
              "#bd3786"
             ],
             [
              0.5555555555555556,
              "#d8576b"
             ],
             [
              0.6666666666666666,
              "#ed7953"
             ],
             [
              0.7777777777777778,
              "#fb9f3a"
             ],
             [
              0.8888888888888888,
              "#fdca26"
             ],
             [
              1,
              "#f0f921"
             ]
            ],
            "type": "heatmap"
           }
          ],
          "heatmapgl": [
           {
            "colorbar": {
             "outlinewidth": 0,
             "ticks": ""
            },
            "colorscale": [
             [
              0,
              "#0d0887"
             ],
             [
              0.1111111111111111,
              "#46039f"
             ],
             [
              0.2222222222222222,
              "#7201a8"
             ],
             [
              0.3333333333333333,
              "#9c179e"
             ],
             [
              0.4444444444444444,
              "#bd3786"
             ],
             [
              0.5555555555555556,
              "#d8576b"
             ],
             [
              0.6666666666666666,
              "#ed7953"
             ],
             [
              0.7777777777777778,
              "#fb9f3a"
             ],
             [
              0.8888888888888888,
              "#fdca26"
             ],
             [
              1,
              "#f0f921"
             ]
            ],
            "type": "heatmapgl"
           }
          ],
          "histogram": [
           {
            "marker": {
             "colorbar": {
              "outlinewidth": 0,
              "ticks": ""
             }
            },
            "type": "histogram"
           }
          ],
          "histogram2d": [
           {
            "colorbar": {
             "outlinewidth": 0,
             "ticks": ""
            },
            "colorscale": [
             [
              0,
              "#0d0887"
             ],
             [
              0.1111111111111111,
              "#46039f"
             ],
             [
              0.2222222222222222,
              "#7201a8"
             ],
             [
              0.3333333333333333,
              "#9c179e"
             ],
             [
              0.4444444444444444,
              "#bd3786"
             ],
             [
              0.5555555555555556,
              "#d8576b"
             ],
             [
              0.6666666666666666,
              "#ed7953"
             ],
             [
              0.7777777777777778,
              "#fb9f3a"
             ],
             [
              0.8888888888888888,
              "#fdca26"
             ],
             [
              1,
              "#f0f921"
             ]
            ],
            "type": "histogram2d"
           }
          ],
          "histogram2dcontour": [
           {
            "colorbar": {
             "outlinewidth": 0,
             "ticks": ""
            },
            "colorscale": [
             [
              0,
              "#0d0887"
             ],
             [
              0.1111111111111111,
              "#46039f"
             ],
             [
              0.2222222222222222,
              "#7201a8"
             ],
             [
              0.3333333333333333,
              "#9c179e"
             ],
             [
              0.4444444444444444,
              "#bd3786"
             ],
             [
              0.5555555555555556,
              "#d8576b"
             ],
             [
              0.6666666666666666,
              "#ed7953"
             ],
             [
              0.7777777777777778,
              "#fb9f3a"
             ],
             [
              0.8888888888888888,
              "#fdca26"
             ],
             [
              1,
              "#f0f921"
             ]
            ],
            "type": "histogram2dcontour"
           }
          ],
          "mesh3d": [
           {
            "colorbar": {
             "outlinewidth": 0,
             "ticks": ""
            },
            "type": "mesh3d"
           }
          ],
          "parcoords": [
           {
            "line": {
             "colorbar": {
              "outlinewidth": 0,
              "ticks": ""
             }
            },
            "type": "parcoords"
           }
          ],
          "pie": [
           {
            "automargin": true,
            "type": "pie"
           }
          ],
          "scatter": [
           {
            "marker": {
             "colorbar": {
              "outlinewidth": 0,
              "ticks": ""
             }
            },
            "type": "scatter"
           }
          ],
          "scatter3d": [
           {
            "line": {
             "colorbar": {
              "outlinewidth": 0,
              "ticks": ""
             }
            },
            "marker": {
             "colorbar": {
              "outlinewidth": 0,
              "ticks": ""
             }
            },
            "type": "scatter3d"
           }
          ],
          "scattercarpet": [
           {
            "marker": {
             "colorbar": {
              "outlinewidth": 0,
              "ticks": ""
             }
            },
            "type": "scattercarpet"
           }
          ],
          "scattergeo": [
           {
            "marker": {
             "colorbar": {
              "outlinewidth": 0,
              "ticks": ""
             }
            },
            "type": "scattergeo"
           }
          ],
          "scattergl": [
           {
            "marker": {
             "colorbar": {
              "outlinewidth": 0,
              "ticks": ""
             }
            },
            "type": "scattergl"
           }
          ],
          "scattermapbox": [
           {
            "marker": {
             "colorbar": {
              "outlinewidth": 0,
              "ticks": ""
             }
            },
            "type": "scattermapbox"
           }
          ],
          "scatterpolar": [
           {
            "marker": {
             "colorbar": {
              "outlinewidth": 0,
              "ticks": ""
             }
            },
            "type": "scatterpolar"
           }
          ],
          "scatterpolargl": [
           {
            "marker": {
             "colorbar": {
              "outlinewidth": 0,
              "ticks": ""
             }
            },
            "type": "scatterpolargl"
           }
          ],
          "scatterternary": [
           {
            "marker": {
             "colorbar": {
              "outlinewidth": 0,
              "ticks": ""
             }
            },
            "type": "scatterternary"
           }
          ],
          "surface": [
           {
            "colorbar": {
             "outlinewidth": 0,
             "ticks": ""
            },
            "colorscale": [
             [
              0,
              "#0d0887"
             ],
             [
              0.1111111111111111,
              "#46039f"
             ],
             [
              0.2222222222222222,
              "#7201a8"
             ],
             [
              0.3333333333333333,
              "#9c179e"
             ],
             [
              0.4444444444444444,
              "#bd3786"
             ],
             [
              0.5555555555555556,
              "#d8576b"
             ],
             [
              0.6666666666666666,
              "#ed7953"
             ],
             [
              0.7777777777777778,
              "#fb9f3a"
             ],
             [
              0.8888888888888888,
              "#fdca26"
             ],
             [
              1,
              "#f0f921"
             ]
            ],
            "type": "surface"
           }
          ],
          "table": [
           {
            "cells": {
             "fill": {
              "color": "#EBF0F8"
             },
             "line": {
              "color": "white"
             }
            },
            "header": {
             "fill": {
              "color": "#C8D4E3"
             },
             "line": {
              "color": "white"
             }
            },
            "type": "table"
           }
          ]
         },
         "layout": {
          "annotationdefaults": {
           "arrowcolor": "#2a3f5f",
           "arrowhead": 0,
           "arrowwidth": 1
          },
          "autotypenumbers": "strict",
          "coloraxis": {
           "colorbar": {
            "outlinewidth": 0,
            "ticks": ""
           }
          },
          "colorscale": {
           "diverging": [
            [
             0,
             "#8e0152"
            ],
            [
             0.1,
             "#c51b7d"
            ],
            [
             0.2,
             "#de77ae"
            ],
            [
             0.3,
             "#f1b6da"
            ],
            [
             0.4,
             "#fde0ef"
            ],
            [
             0.5,
             "#f7f7f7"
            ],
            [
             0.6,
             "#e6f5d0"
            ],
            [
             0.7,
             "#b8e186"
            ],
            [
             0.8,
             "#7fbc41"
            ],
            [
             0.9,
             "#4d9221"
            ],
            [
             1,
             "#276419"
            ]
           ],
           "sequential": [
            [
             0,
             "#0d0887"
            ],
            [
             0.1111111111111111,
             "#46039f"
            ],
            [
             0.2222222222222222,
             "#7201a8"
            ],
            [
             0.3333333333333333,
             "#9c179e"
            ],
            [
             0.4444444444444444,
             "#bd3786"
            ],
            [
             0.5555555555555556,
             "#d8576b"
            ],
            [
             0.6666666666666666,
             "#ed7953"
            ],
            [
             0.7777777777777778,
             "#fb9f3a"
            ],
            [
             0.8888888888888888,
             "#fdca26"
            ],
            [
             1,
             "#f0f921"
            ]
           ],
           "sequentialminus": [
            [
             0,
             "#0d0887"
            ],
            [
             0.1111111111111111,
             "#46039f"
            ],
            [
             0.2222222222222222,
             "#7201a8"
            ],
            [
             0.3333333333333333,
             "#9c179e"
            ],
            [
             0.4444444444444444,
             "#bd3786"
            ],
            [
             0.5555555555555556,
             "#d8576b"
            ],
            [
             0.6666666666666666,
             "#ed7953"
            ],
            [
             0.7777777777777778,
             "#fb9f3a"
            ],
            [
             0.8888888888888888,
             "#fdca26"
            ],
            [
             1,
             "#f0f921"
            ]
           ]
          },
          "colorway": [
           "#636efa",
           "#EF553B",
           "#00cc96",
           "#ab63fa",
           "#FFA15A",
           "#19d3f3",
           "#FF6692",
           "#B6E880",
           "#FF97FF",
           "#FECB52"
          ],
          "font": {
           "color": "#2a3f5f"
          },
          "geo": {
           "bgcolor": "white",
           "lakecolor": "white",
           "landcolor": "#E5ECF6",
           "showlakes": true,
           "showland": true,
           "subunitcolor": "white"
          },
          "hoverlabel": {
           "align": "left"
          },
          "hovermode": "closest",
          "mapbox": {
           "style": "light"
          },
          "paper_bgcolor": "white",
          "plot_bgcolor": "#E5ECF6",
          "polar": {
           "angularaxis": {
            "gridcolor": "white",
            "linecolor": "white",
            "ticks": ""
           },
           "bgcolor": "#E5ECF6",
           "radialaxis": {
            "gridcolor": "white",
            "linecolor": "white",
            "ticks": ""
           }
          },
          "scene": {
           "xaxis": {
            "backgroundcolor": "#E5ECF6",
            "gridcolor": "white",
            "gridwidth": 2,
            "linecolor": "white",
            "showbackground": true,
            "ticks": "",
            "zerolinecolor": "white"
           },
           "yaxis": {
            "backgroundcolor": "#E5ECF6",
            "gridcolor": "white",
            "gridwidth": 2,
            "linecolor": "white",
            "showbackground": true,
            "ticks": "",
            "zerolinecolor": "white"
           },
           "zaxis": {
            "backgroundcolor": "#E5ECF6",
            "gridcolor": "white",
            "gridwidth": 2,
            "linecolor": "white",
            "showbackground": true,
            "ticks": "",
            "zerolinecolor": "white"
           }
          },
          "shapedefaults": {
           "line": {
            "color": "#2a3f5f"
           }
          },
          "ternary": {
           "aaxis": {
            "gridcolor": "white",
            "linecolor": "white",
            "ticks": ""
           },
           "baxis": {
            "gridcolor": "white",
            "linecolor": "white",
            "ticks": ""
           },
           "bgcolor": "#E5ECF6",
           "caxis": {
            "gridcolor": "white",
            "linecolor": "white",
            "ticks": ""
           }
          },
          "title": {
           "x": 0.05
          },
          "xaxis": {
           "automargin": true,
           "gridcolor": "white",
           "linecolor": "white",
           "ticks": "",
           "title": {
            "standoff": 15
           },
           "zerolinecolor": "white",
           "zerolinewidth": 2
          },
          "yaxis": {
           "automargin": true,
           "gridcolor": "white",
           "linecolor": "white",
           "ticks": "",
           "title": {
            "standoff": 15
           },
           "zerolinecolor": "white",
           "zerolinewidth": 2
          }
         }
        }
       }
      },
      "text/html": [
       "<div>                            <div id=\"3e9e09b6-3502-48e5-b6b5-b2a1b0e1b3d3\" class=\"plotly-graph-div\" style=\"height:525px; width:100%;\"></div>            <script type=\"text/javascript\">                require([\"plotly\"], function(Plotly) {                    window.PLOTLYENV=window.PLOTLYENV || {};                                    if (document.getElementById(\"3e9e09b6-3502-48e5-b6b5-b2a1b0e1b3d3\")) {                    Plotly.newPlot(                        \"3e9e09b6-3502-48e5-b6b5-b2a1b0e1b3d3\",                        [{\"geo\": \"geo\", \"hovertemplate\": \"Lattitude=%{lat}<br>Longtitude=%{lon}<br>YearBuilt=%{marker.color}<extra></extra>\", \"lat\": [-37.80526, -37.797, -37.9002, -37.7319, -37.8568, -37.7083, -37.8395, -37.7968, -37.98001, -37.7617, -37.8911, -37.8225, -37.7646, -37.8235, -37.8332, -38.17488, -37.7285, -38.09083, -37.708, -37.9082, -37.81557, -37.88547, -37.696690000000004, -37.774, -37.8361, -37.7601, -37.7107, -37.9602, -37.9323, -37.841, -37.7744, -37.7784, -37.7307, -37.72473, -37.87257, -37.7776, -37.6969, -37.94253, -37.7795, -37.99827, -37.62554, -37.90419, -37.8341, -37.8996, -37.812, -37.8338, -37.727959999999996, -37.7618, -37.8676, -37.7549, -37.7104, -37.7827, -37.72839000000001, -37.7346, -37.62693, -37.7609, -37.8366, -37.79, -37.782, -37.70367, -37.8414, -37.7129, -37.80511, -37.7402, -37.791, -37.7779, -37.852, -37.627559999999995, -37.741, -37.6236, -37.9037, -37.49674, -37.7922, -37.71917, -37.7318, -37.8503, -37.77713, -37.6953, -37.7322, -37.85553, -37.8696, -37.902159999999995, -37.864090000000004, -37.7071, -37.8318, -37.7437, -37.788000000000004, -38.16457, -37.71729000000001, -37.7744, -37.79462, -37.7718, -37.77694, -37.8337, -37.7327, -37.70486, -37.7825, -37.6998, -37.8858, -37.8568, -37.8318, -37.9442, -37.91892, -37.7587, -37.9028, -37.856359999999995, -37.71992, -37.7641, -38.00908, -37.7212, -37.7493, -37.8451, -37.954570000000004, -37.7369, -37.8543, -37.63823, -37.80742, -37.6784, -37.8043, -37.8371, -37.827, -37.75571, -37.7844, -37.8509, -37.829209999999996, -37.68035, -37.84949, -37.7818, -37.8416, -37.78502, -37.81736, -37.80574, -37.8631, -37.7091, -37.7671, -37.7574, -37.762190000000004, -38.03335, -37.73681, -37.75582, -37.87939, -37.7898, -37.8849, -37.8236, -37.7112, -37.85019000000001, -37.89431, -37.74, -37.8971, -37.85385, -37.91489, -37.8645, -37.89465, -37.8385, -37.73341, -37.86906, -38.07405, -37.8147, -37.9239, -37.8571, -37.7602, -37.7243, -37.902409999999996, -37.82359, -37.8022, -37.7698, -37.7317, -37.6522, -37.5877, -37.76464, -37.7816, -37.7807, -37.83254, -37.86257, -37.8887, -37.8448, -37.8346, -37.7546, -37.7945, -37.92698, -37.81493, -37.92773, -37.76766, -37.7001, -37.8257, -37.8786, -37.7478, -37.65256, -37.7721, -37.685629999999996, -37.8482, -37.8299, -37.7339, -37.87558, -37.7842, -37.7405, -37.7837, -37.9317, -37.8157, -37.7773, -37.8185, -37.931709999999995, -37.7146, -37.8761, -37.8368, -37.7889, -37.7305, -37.9229, -37.8537, -37.846, -37.7936, -37.7948, -37.7261, -37.7866, -37.8174, -37.7208, -37.62458, -37.99581, -37.7376, -37.8596, -37.828, -37.711, -37.92768, -37.71919000000001, -37.8642, -37.71394, -37.8347, -37.92284, -37.8444, -37.68489, -37.7116, -37.834740000000004, -37.8355, -37.885, -37.8279, -37.95685, -37.937059999999995, -37.8128, -37.7921, -37.8501, -37.8468, -37.7906, -37.83745, -37.80401, -37.9196, -37.87019, -37.91469, -37.81381, -37.7554, -37.7788, -37.8025, -37.75782, -37.7421, -37.8281, -37.8578, -37.7482, -37.8666, -37.69894, -37.68159, -37.720890000000004, -37.81665, -37.8806, -37.7837, -37.72165, -37.742, -37.821, -37.715, -37.7869, -37.75225, -37.93179, -37.7154, -37.7534, -37.9027, -37.97359, -37.8866, -37.8427, -37.8384, -37.8809, -37.7641, -37.7432, -37.9194, -37.77091, -37.8981, -37.8157, -37.7846, -37.8436, -37.7859, -37.7455, -37.9431, -37.7458, -37.66726, -37.8308, -37.7992, -37.690220000000004, -37.842, -37.9082, -37.819, -37.8092, -37.8393, -37.78895], \"legendgroup\": \"\", \"lon\": [145.04294, 144.88173, 145.099, 145.0907, 145.0004, 144.9644, 144.9462, 144.7991, 145.07457, 144.9272, 145.0451, 144.8814, 144.9586, 145.0525, 144.9901, 145.1234, 145.0242, 145.20139, 145.0181, 144.9968, 145.04281, 144.65528999999995, 145.04515, 144.8744, 144.9403, 145.0363, 144.9419, 145.02026, 145.0225, 145.0824, 145.0415, 145.0394, 144.9826, 145.11657, 145.09781999999996, 145.1267, 144.9334, 145.05911, 144.8432, 145.07497, 144.92006, 144.63761, 144.9661, 145.0169, 145.1082, 144.8562, 144.93885, 145.0287, 144.8202, 145.1185, 145.0076, 144.8625, 145.00105, 144.8646, 145.01563000000004, 144.9308, 144.8773, 144.86700000000005, 144.9834, 144.88081, 144.98608000000004, 145.0047, 145.08972, 144.8591, 144.9779, 144.9862, 145.0343, 145.03364, 144.8901, 145.10629, 145.0588, 144.62618, 144.8831, 144.87819, 145.0192, 144.9855, 144.79746, 144.9397, 145.0318, 145.12305, 145.0323, 145.05069, 144.88224, 144.9176, 145.0448, 145.0633, 144.9306, 145.12421, 144.96403, 144.9035, 144.89385, 144.9066, 144.96669, 144.9886, 145.0347, 145.01169, 144.8833, 145.0248, 145.0632, 144.9873, 144.8388, 145.0016, 145.00923, 144.9015, 145.0971, 145.06405, 145.0988, 145.0104, 145.30264, 144.8545, 144.97799999999995, 144.8529, 145.05387, 145.0371, 144.74437, 144.88675, 144.88297, 144.88797, 145.0291, 144.93858999999995, 145.1209, 144.90366, 144.8523, 145.1119, 145.00826, 145.00925, 145.07726, 144.9576, 145.0959, 144.86733, 144.89133, 145.18832, 144.9749, 145.0259, 144.9702, 144.9907, 145.00968, 145.13212, 144.90587, 144.98951, 145.0656, 144.9903, 145.0341, 145.0729, 144.9989, 145.0465, 145.05902, 144.9821, 145.0597, 145.0284, 145.08441000000005, 144.8977, 145.06984, 144.8824, 144.77161, 145.01986000000005, 145.13211, 145.1032, 145.0781, 144.987, 145.1166, 144.8533, 145.12378, 145.0693, 145.0775, 144.9214, 144.8619, 145.09261, 144.73734, 144.91035, 145.0141, 145.1193, 145.07907, 144.99161, 145.0318, 144.9453, 144.9358, 144.9713, 145.0667, 145.02673000000001, 144.88974, 145.16984, 144.97638, 144.9291, 145.0514, 145.0495, 144.9583, 145.04093, 144.9184, 144.92998, 145.0949, 144.9496, 145.0247, 145.27196999999995, 145.0921, 145.0365, 144.8888, 145.0524, 144.9727, 145.0314, 145.0236, 145.03041000000005, 145.001, 144.9821, 145.0508, 144.8787, 144.86863, 145.0557, 145.0114, 144.9517, 145.0697, 145.0364, 144.8785, 144.9343, 144.9949, 145.0148, 144.88546000000005, 145.24098, 145.0895, 145.0198, 144.9683, 144.9478, 145.04268000000005, 144.87842, 144.84257, 145.00387, 145.05700000000004, 145.06423, 144.8491, 144.9212, 144.9357, 144.96917, 145.0633, 145.0466, 145.121, 145.01977, 145.21124, 144.8905, 144.9858, 145.059, 144.9612, 145.1138, 144.95459, 145.25225, 145.0691, 144.7843, 145.02788999999999, 144.87438, 144.9127, 144.9688, 145.0665, 144.92088, 144.8995, 145.0391, 145.0682, 144.877, 145.0676, 145.03411, 145.0371, 145.11987, 145.10043000000005, 145.0831, 145.1027, 144.95853, 144.8885, 145.0082, 144.8966, 144.9863, 144.90462, 145.06957, 144.9962, 144.9679, 145.0684, 145.0214, 145.0322, 144.9546, 145.0178, 144.9833, 144.9265, 145.0631, 145.05700000000004, 144.86571, 145.0619, 145.0273, 144.87, 145.0581, 144.8787, 145.0452, 145.0407, 144.9751, 145.05819, 145.0916, 144.8772, 145.09413999999995, 145.0542, 145.0681, 144.895, 145.0366, 144.9886, 144.93351], \"marker\": {\"color\": [1920.0, null, null, null, 1974.0, 1960.0, 1900.0, 1999.0, null, 1920.0, 1965.0, 2000.0, 1910.0, null, null, null, 2011.0, 2002.0, 2012.0, 1970.0, 1910.0, null, 1977.0, null, 1910.0, null, 1960.0, null, null, 2009.0, 1970.0, null, 2014.0, 1995.0, null, 1986.0, 2005.0, null, 2000.0, 1950.0, 2000.0, 1990.0, null, null, 1950.0, null, null, 2010.0, null, 1975.0, 1970.0, 2013.0, null, 1990.0, 2012.0, null, 2000.0, null, null, null, null, 1950.0, null, 1995.0, null, 1915.0, null, null, null, 2010.0, 1970.0, 1985.0, 2000.0, 2011.0, 1918.0, null, 1960.0, null, 1990.0, null, 1910.0, null, 1998.0, 1970.0, 1970.0, 1950.0, 1880.0, 1980.0, 1990.0, 2013.0, null, 1995.0, 1925.0, 1965.0, null, null, null, 1990.0, 1960.0, 1999.0, 1960.0, null, null, 1980.0, null, null, 2012.0, null, null, 1960.0, 1930.0, null, null, 1960.0, null, 1980.0, null, null, 1890.0, null, 1950.0, 1960.0, 1970.0, 1975.0, 2014.0, 1975.0, 1925.0, null, null, 2016.0, null, 2011.0, null, 1980.0, null, 1970.0, null, 1990.0, 1999.0, 1930.0, 1940.0, null, null, null, 2012.0, 1960.0, null, 1950.0, null, null, null, null, 1915.0, 1920.0, null, 1900.0, null, null, 1998.0, 2002.0, 1965.0, 1991.0, 1960.0, 1915.0, null, 1880.0, null, 1999.0, 2001.0, 1910.0, null, null, null, 1950.0, 1995.0, 1890.0, 1900.0, 2008.0, null, 1920.0, null, null, null, 1970.0, 1880.0, 1915.0, 1940.0, null, 1887.0, null, 1930.0, 1947.0, null, 1981.0, 1974.0, null, null, null, 1920.0, 1960.0, 1970.0, null, 1965.0, 1970.0, null, 1950.0, 1970.0, 1999.0, null, null, null, null, null, 1905.0, 2005.0, null, 2013.0, null, 1970.0, 1960.0, 1995.0, 1960.0, null, null, 1970.0, null, 1960.0, null, null, 2008.0, 2014.0, null, 1960.0, null, 1912.0, 1930.0, null, 1890.0, 1880.0, 1920.0, 1900.0, 1970.0, null, 1960.0, 2000.0, 1975.0, null, 1990.0, 1970.0, 1920.0, null, null, null, null, null, 1978.0, 1935.0, null, null, 1980.0, 1960.0, 2007.0, null, 1930.0, 2013.0, null, null, null, 1937.0, null, 1960.0, null, 1957.0, 1980.0, null, 1900.0, 1951.0, 1940.0, null, null, 1950.0, 1970.0, 1980.0, 1970.0, null, 1930.0, null, null, null, 2013.0, null, null, null, 1973.0, null, 1960.0, 1900.0, 1960.0, null, null], \"coloraxis\": \"coloraxis\", \"symbol\": \"circle\"}, \"mode\": \"markers\", \"name\": \"\", \"showlegend\": false, \"type\": \"scattergeo\"}],                        {\"coloraxis\": {\"colorbar\": {\"title\": {\"text\": \"YearBuilt\"}}, \"colorscale\": [[0.0, \"#0d0887\"], [0.1111111111111111, \"#46039f\"], [0.2222222222222222, \"#7201a8\"], [0.3333333333333333, \"#9c179e\"], [0.4444444444444444, \"#bd3786\"], [0.5555555555555556, \"#d8576b\"], [0.6666666666666666, \"#ed7953\"], [0.7777777777777778, \"#fb9f3a\"], [0.8888888888888888, \"#fdca26\"], [1.0, \"#f0f921\"]]}, \"geo\": {\"center\": {}, \"domain\": {\"x\": [0.0, 1.0], \"y\": [0.0, 1.0]}, \"fitbounds\": \"locations\"}, \"legend\": {\"tracegroupgap\": 0}, \"margin\": {\"t\": 60}, \"template\": {\"data\": {\"bar\": [{\"error_x\": {\"color\": \"#2a3f5f\"}, \"error_y\": {\"color\": \"#2a3f5f\"}, \"marker\": {\"line\": {\"color\": \"#E5ECF6\", \"width\": 0.5}}, \"type\": \"bar\"}], \"barpolar\": [{\"marker\": {\"line\": {\"color\": \"#E5ECF6\", \"width\": 0.5}}, \"type\": \"barpolar\"}], \"carpet\": [{\"aaxis\": {\"endlinecolor\": \"#2a3f5f\", \"gridcolor\": \"white\", \"linecolor\": \"white\", \"minorgridcolor\": \"white\", \"startlinecolor\": \"#2a3f5f\"}, \"baxis\": {\"endlinecolor\": \"#2a3f5f\", \"gridcolor\": \"white\", \"linecolor\": \"white\", \"minorgridcolor\": \"white\", \"startlinecolor\": \"#2a3f5f\"}, \"type\": \"carpet\"}], \"choropleth\": [{\"colorbar\": {\"outlinewidth\": 0, \"ticks\": \"\"}, \"type\": \"choropleth\"}], \"contour\": [{\"colorbar\": {\"outlinewidth\": 0, \"ticks\": \"\"}, \"colorscale\": [[0.0, \"#0d0887\"], [0.1111111111111111, \"#46039f\"], [0.2222222222222222, \"#7201a8\"], [0.3333333333333333, \"#9c179e\"], [0.4444444444444444, \"#bd3786\"], [0.5555555555555556, \"#d8576b\"], [0.6666666666666666, \"#ed7953\"], [0.7777777777777778, \"#fb9f3a\"], [0.8888888888888888, \"#fdca26\"], [1.0, \"#f0f921\"]], \"type\": \"contour\"}], \"contourcarpet\": [{\"colorbar\": {\"outlinewidth\": 0, \"ticks\": \"\"}, \"type\": \"contourcarpet\"}], \"heatmap\": [{\"colorbar\": {\"outlinewidth\": 0, \"ticks\": \"\"}, \"colorscale\": [[0.0, \"#0d0887\"], [0.1111111111111111, \"#46039f\"], [0.2222222222222222, \"#7201a8\"], [0.3333333333333333, \"#9c179e\"], [0.4444444444444444, \"#bd3786\"], [0.5555555555555556, \"#d8576b\"], [0.6666666666666666, \"#ed7953\"], [0.7777777777777778, \"#fb9f3a\"], [0.8888888888888888, \"#fdca26\"], [1.0, \"#f0f921\"]], \"type\": \"heatmap\"}], \"heatmapgl\": [{\"colorbar\": {\"outlinewidth\": 0, \"ticks\": \"\"}, \"colorscale\": [[0.0, \"#0d0887\"], [0.1111111111111111, \"#46039f\"], [0.2222222222222222, \"#7201a8\"], [0.3333333333333333, \"#9c179e\"], [0.4444444444444444, \"#bd3786\"], [0.5555555555555556, \"#d8576b\"], [0.6666666666666666, \"#ed7953\"], [0.7777777777777778, \"#fb9f3a\"], [0.8888888888888888, \"#fdca26\"], [1.0, \"#f0f921\"]], \"type\": \"heatmapgl\"}], \"histogram\": [{\"marker\": {\"colorbar\": {\"outlinewidth\": 0, \"ticks\": \"\"}}, \"type\": \"histogram\"}], \"histogram2d\": [{\"colorbar\": {\"outlinewidth\": 0, \"ticks\": \"\"}, \"colorscale\": [[0.0, \"#0d0887\"], [0.1111111111111111, \"#46039f\"], [0.2222222222222222, \"#7201a8\"], [0.3333333333333333, \"#9c179e\"], [0.4444444444444444, \"#bd3786\"], [0.5555555555555556, \"#d8576b\"], [0.6666666666666666, \"#ed7953\"], [0.7777777777777778, \"#fb9f3a\"], [0.8888888888888888, \"#fdca26\"], [1.0, \"#f0f921\"]], \"type\": \"histogram2d\"}], \"histogram2dcontour\": [{\"colorbar\": {\"outlinewidth\": 0, \"ticks\": \"\"}, \"colorscale\": [[0.0, \"#0d0887\"], [0.1111111111111111, \"#46039f\"], [0.2222222222222222, \"#7201a8\"], [0.3333333333333333, \"#9c179e\"], [0.4444444444444444, \"#bd3786\"], [0.5555555555555556, \"#d8576b\"], [0.6666666666666666, \"#ed7953\"], [0.7777777777777778, \"#fb9f3a\"], [0.8888888888888888, \"#fdca26\"], [1.0, \"#f0f921\"]], \"type\": \"histogram2dcontour\"}], \"mesh3d\": [{\"colorbar\": {\"outlinewidth\": 0, \"ticks\": \"\"}, \"type\": \"mesh3d\"}], \"parcoords\": [{\"line\": {\"colorbar\": {\"outlinewidth\": 0, \"ticks\": \"\"}}, \"type\": \"parcoords\"}], \"pie\": [{\"automargin\": true, \"type\": \"pie\"}], \"scatter\": [{\"marker\": {\"colorbar\": {\"outlinewidth\": 0, \"ticks\": \"\"}}, \"type\": \"scatter\"}], \"scatter3d\": [{\"line\": {\"colorbar\": {\"outlinewidth\": 0, \"ticks\": \"\"}}, \"marker\": {\"colorbar\": {\"outlinewidth\": 0, \"ticks\": \"\"}}, \"type\": \"scatter3d\"}], \"scattercarpet\": [{\"marker\": {\"colorbar\": {\"outlinewidth\": 0, \"ticks\": \"\"}}, \"type\": \"scattercarpet\"}], \"scattergeo\": [{\"marker\": {\"colorbar\": {\"outlinewidth\": 0, \"ticks\": \"\"}}, \"type\": \"scattergeo\"}], \"scattergl\": [{\"marker\": {\"colorbar\": {\"outlinewidth\": 0, \"ticks\": \"\"}}, \"type\": \"scattergl\"}], \"scattermapbox\": [{\"marker\": {\"colorbar\": {\"outlinewidth\": 0, \"ticks\": \"\"}}, \"type\": \"scattermapbox\"}], \"scatterpolar\": [{\"marker\": {\"colorbar\": {\"outlinewidth\": 0, \"ticks\": \"\"}}, \"type\": \"scatterpolar\"}], \"scatterpolargl\": [{\"marker\": {\"colorbar\": {\"outlinewidth\": 0, \"ticks\": \"\"}}, \"type\": \"scatterpolargl\"}], \"scatterternary\": [{\"marker\": {\"colorbar\": {\"outlinewidth\": 0, \"ticks\": \"\"}}, \"type\": \"scatterternary\"}], \"surface\": [{\"colorbar\": {\"outlinewidth\": 0, \"ticks\": \"\"}, \"colorscale\": [[0.0, \"#0d0887\"], [0.1111111111111111, \"#46039f\"], [0.2222222222222222, \"#7201a8\"], [0.3333333333333333, \"#9c179e\"], [0.4444444444444444, \"#bd3786\"], [0.5555555555555556, \"#d8576b\"], [0.6666666666666666, \"#ed7953\"], [0.7777777777777778, \"#fb9f3a\"], [0.8888888888888888, \"#fdca26\"], [1.0, \"#f0f921\"]], \"type\": \"surface\"}], \"table\": [{\"cells\": {\"fill\": {\"color\": \"#EBF0F8\"}, \"line\": {\"color\": \"white\"}}, \"header\": {\"fill\": {\"color\": \"#C8D4E3\"}, \"line\": {\"color\": \"white\"}}, \"type\": \"table\"}]}, \"layout\": {\"annotationdefaults\": {\"arrowcolor\": \"#2a3f5f\", \"arrowhead\": 0, \"arrowwidth\": 1}, \"autotypenumbers\": \"strict\", \"coloraxis\": {\"colorbar\": {\"outlinewidth\": 0, \"ticks\": \"\"}}, \"colorscale\": {\"diverging\": [[0, \"#8e0152\"], [0.1, \"#c51b7d\"], [0.2, \"#de77ae\"], [0.3, \"#f1b6da\"], [0.4, \"#fde0ef\"], [0.5, \"#f7f7f7\"], [0.6, \"#e6f5d0\"], [0.7, \"#b8e186\"], [0.8, \"#7fbc41\"], [0.9, \"#4d9221\"], [1, \"#276419\"]], \"sequential\": [[0.0, \"#0d0887\"], [0.1111111111111111, \"#46039f\"], [0.2222222222222222, \"#7201a8\"], [0.3333333333333333, \"#9c179e\"], [0.4444444444444444, \"#bd3786\"], [0.5555555555555556, \"#d8576b\"], [0.6666666666666666, \"#ed7953\"], [0.7777777777777778, \"#fb9f3a\"], [0.8888888888888888, \"#fdca26\"], [1.0, \"#f0f921\"]], \"sequentialminus\": [[0.0, \"#0d0887\"], [0.1111111111111111, \"#46039f\"], [0.2222222222222222, \"#7201a8\"], [0.3333333333333333, \"#9c179e\"], [0.4444444444444444, \"#bd3786\"], [0.5555555555555556, \"#d8576b\"], [0.6666666666666666, \"#ed7953\"], [0.7777777777777778, \"#fb9f3a\"], [0.8888888888888888, \"#fdca26\"], [1.0, \"#f0f921\"]]}, \"colorway\": [\"#636efa\", \"#EF553B\", \"#00cc96\", \"#ab63fa\", \"#FFA15A\", \"#19d3f3\", \"#FF6692\", \"#B6E880\", \"#FF97FF\", \"#FECB52\"], \"font\": {\"color\": \"#2a3f5f\"}, \"geo\": {\"bgcolor\": \"white\", \"lakecolor\": \"white\", \"landcolor\": \"#E5ECF6\", \"showlakes\": true, \"showland\": true, \"subunitcolor\": \"white\"}, \"hoverlabel\": {\"align\": \"left\"}, \"hovermode\": \"closest\", \"mapbox\": {\"style\": \"light\"}, \"paper_bgcolor\": \"white\", \"plot_bgcolor\": \"#E5ECF6\", \"polar\": {\"angularaxis\": {\"gridcolor\": \"white\", \"linecolor\": \"white\", \"ticks\": \"\"}, \"bgcolor\": \"#E5ECF6\", \"radialaxis\": {\"gridcolor\": \"white\", \"linecolor\": \"white\", \"ticks\": \"\"}}, \"scene\": {\"xaxis\": {\"backgroundcolor\": \"#E5ECF6\", \"gridcolor\": \"white\", \"gridwidth\": 2, \"linecolor\": \"white\", \"showbackground\": true, \"ticks\": \"\", \"zerolinecolor\": \"white\"}, \"yaxis\": {\"backgroundcolor\": \"#E5ECF6\", \"gridcolor\": \"white\", \"gridwidth\": 2, \"linecolor\": \"white\", \"showbackground\": true, \"ticks\": \"\", \"zerolinecolor\": \"white\"}, \"zaxis\": {\"backgroundcolor\": \"#E5ECF6\", \"gridcolor\": \"white\", \"gridwidth\": 2, \"linecolor\": \"white\", \"showbackground\": true, \"ticks\": \"\", \"zerolinecolor\": \"white\"}}, \"shapedefaults\": {\"line\": {\"color\": \"#2a3f5f\"}}, \"ternary\": {\"aaxis\": {\"gridcolor\": \"white\", \"linecolor\": \"white\", \"ticks\": \"\"}, \"baxis\": {\"gridcolor\": \"white\", \"linecolor\": \"white\", \"ticks\": \"\"}, \"bgcolor\": \"#E5ECF6\", \"caxis\": {\"gridcolor\": \"white\", \"linecolor\": \"white\", \"ticks\": \"\"}}, \"title\": {\"x\": 0.05}, \"xaxis\": {\"automargin\": true, \"gridcolor\": \"white\", \"linecolor\": \"white\", \"ticks\": \"\", \"title\": {\"standoff\": 15}, \"zerolinecolor\": \"white\", \"zerolinewidth\": 2}, \"yaxis\": {\"automargin\": true, \"gridcolor\": \"white\", \"linecolor\": \"white\", \"ticks\": \"\", \"title\": {\"standoff\": 15}, \"zerolinecolor\": \"white\", \"zerolinewidth\": 2}}}},                        {\"responsive\": true}                    ).then(function(){\n",
       "                            \n",
       "var gd = document.getElementById('3e9e09b6-3502-48e5-b6b5-b2a1b0e1b3d3');\n",
       "var x = new MutationObserver(function (mutations, observer) {{\n",
       "        var display = window.getComputedStyle(gd).display;\n",
       "        if (!display || display === 'none') {{\n",
       "            console.log([gd, 'removed!']);\n",
       "            Plotly.purge(gd);\n",
       "            observer.disconnect();\n",
       "        }}\n",
       "}});\n",
       "\n",
       "// Listen for the removal of the full notebook cells\n",
       "var notebookContainer = gd.closest('#notebook-container');\n",
       "if (notebookContainer) {{\n",
       "    x.observe(notebookContainer, {childList: true});\n",
       "}}\n",
       "\n",
       "// Listen for the clearing of the current output cell\n",
       "var outputEl = gd.closest('.output');\n",
       "if (outputEl) {{\n",
       "    x.observe(outputEl, {childList: true});\n",
       "}}\n",
       "\n",
       "                        })                };                });            </script>        </div>"
      ]
     },
     "metadata": {},
     "output_type": "display_data"
    }
   ],
   "source": [
    "import plotly.express as px\n",
    "data = df_filtrado.sample(300)\n",
    "fig = px.scatter_geo(\n",
    "    data, lat=data.Lattitude, lon=data.Longtitude, color=data.YearBuilt\n",
    "    )\n",
    "fig.update_geos(fitbounds=\"locations\")\n",
    "fig.show()"
   ]
  },
  {
   "cell_type": "code",
   "execution_count": 267,
   "metadata": {},
   "outputs": [
    {
     "data": {
      "application/vnd.plotly.v1+json": {
       "config": {
        "plotlyServerURL": "https://plot.ly"
       },
       "data": [
        {
         "geo": "geo",
         "hovertemplate": "city=Melbourne<br>latitude=%{lat}<br>longitude=%{lon}<extra></extra>",
         "lat": [
          -37.80729104,
          -37.80880741,
          -37.82033239,
          -37.82157893,
          -37.81691405,
          -37.81441938,
          -37.81044054,
          -37.80206071,
          -37.81660339,
          -37.81066274,
          -37.81579131,
          -37.81419159,
          -37.81486451,
          -37.82188696,
          -37.81158948,
          -37.82089544,
          -37.82615181,
          -37.83585822,
          -37.80530767,
          -37.82029766,
          -37.81470895,
          -37.82437567,
          -37.81534415,
          -37.80989858,
          -37.816637799999995,
          -37.80921725,
          -37.78760238,
          -37.82631498,
          -37.8161651,
          -37.84314229,
          -37.81029321,
          -37.82812551,
          -37.81466395,
          -37.80616681,
          -37.80088005,
          -37.8149023,
          -37.80779039,
          -37.81588286,
          -37.83008078,
          -37.80758977,
          -37.81054842,
          -37.81454928,
          -37.82307204,
          -37.81461659,
          -37.81132535,
          -37.80779674,
          -37.80795017,
          -37.81402847,
          -37.81710823,
          -37.82171722,
          -37.80786091,
          -37.814342100000005,
          -37.82029625,
          -37.80596921,
          -37.81328086,
          -37.81054377,
          -37.81412071,
          -37.79815828,
          -37.81563519,
          -37.82008282,
          -37.81113963,
          -37.82471363,
          -37.81638201,
          -37.8112498,
          -37.82933847,
          -37.7968708,
          -37.81666971,
          -37.81649883,
          -37.8171401,
          -37.84599457,
          -37.81586843,
          -37.82075111,
          -37.81463078,
          -37.81388783,
          -37.81269289,
          -37.80839124,
          -37.8080229,
          -37.82811563,
          -37.81500036,
          -37.80875971,
          -37.8164468,
          -37.82852261,
          -37.79426917,
          -37.81471672,
          -37.80866221,
          -37.79788525,
          -37.79609486,
          -37.80305527,
          -37.79899986,
          -37.81868385,
          -37.82785768,
          -37.8137889,
          -37.80929707,
          -37.80979617,
          -37.81597995,
          -37.80993437,
          -37.8117477,
          -37.80344911,
          -37.82747843,
          -37.81642063,
          -37.81602471,
          -37.81098586,
          -37.8253592,
          -37.81481442,
          -37.81855227,
          -37.81399575,
          -37.82850842,
          -37.81700447
         ],
         "legendgroup": "Melbourne",
         "lon": [
          144.9669997,
          144.96209069999998,
          144.95523559999998,
          144.94536169999998,
          144.9695919,
          144.9536763,
          144.9639083,
          144.9558955,
          144.9540634,
          144.9643083,
          144.9546776,
          144.952658,
          144.953609,
          144.96489259999998,
          144.95864730000002,
          144.94228080000002,
          144.9571655,
          144.97797230000003,
          144.9581219,
          144.9567748,
          144.9524634,
          144.9635409,
          144.96606200000002,
          144.960231,
          144.97182869999997,
          144.960308,
          144.9204483,
          144.96553319999998,
          144.962639,
          144.9851496,
          144.9602165,
          144.9574657,
          144.955929,
          144.9667483,
          144.94853830000002,
          144.9378209,
          144.9677457,
          144.95375149999998,
          144.9868869,
          144.9627885,
          144.9703239,
          144.93697609999998,
          144.9611226,
          144.93812690000001,
          144.9727608,
          144.9613513,
          144.9600053,
          144.9533043,
          144.93612199999998,
          144.9443026,
          144.96866369999998,
          144.9543415,
          144.94080359999998,
          144.9632257,
          144.95300869999997,
          144.9609832,
          144.9726911,
          144.92817130000003,
          144.9651189,
          144.9435104,
          144.97140380000002,
          144.9633009,
          144.9691233,
          144.951494,
          144.97006869999998,
          144.9721961,
          144.98561180000002,
          144.98775569999998,
          144.9674231,
          144.9806281,
          144.9531739,
          144.94196499999998,
          144.9390839,
          144.94339480000002,
          144.95535230000002,
          144.95901980000002,
          144.9577405,
          144.958057,
          144.9544335,
          144.9620596,
          144.9605546,
          144.95878000000002,
          144.917349,
          144.9540933,
          144.96053730000003,
          144.951807,
          144.9273399,
          144.9580689,
          144.94359330000003,
          144.95519480000002,
          144.9589024,
          144.9464936,
          144.96021919999998,
          144.9591828,
          144.9461009,
          144.9609209,
          144.97222130000003,
          144.9451082,
          144.95729269999998,
          144.9535206,
          144.9523102,
          144.9599515,
          144.959233,
          144.9658504,
          144.9586485,
          144.95408909999998,
          144.9695898,
          144.95221899999999
         ],
         "marker": {
          "color": "#636efa",
          "symbol": "circle"
         },
         "mode": "markers",
         "name": "Melbourne",
         "showlegend": true,
         "type": "scattergeo"
        },
        {
         "geo": "geo",
         "hovertemplate": "city=Port Phillip<br>latitude=%{lat}<br>longitude=%{lon}<extra></extra>",
         "lat": [
          -37.87067924,
          -37.83099664,
          -37.86559085,
          -37.83056205,
          -37.83422609,
          -37.84158256,
          -37.84204281,
          -37.85872008,
          -37.86380746,
          -37.87416534,
          -37.83496483,
          -37.86783014,
          -37.85922303,
          -37.87086174,
          -37.86604456,
          -37.85936177,
          -37.86436727,
          -37.86841329,
          -37.86382224,
          -37.86343671,
          -37.86048796,
          -37.85159774,
          -37.86747042,
          -37.8641291,
          -37.85266823,
          -37.84751565,
          -37.88047427,
          -37.8641198,
          -37.86532638,
          -37.85968028,
          -37.86772687,
          -37.87176426
         ],
         "legendgroup": "Port Phillip",
         "lon": [
          144.98177980000003,
          144.9684708,
          144.9823534,
          144.94360559999998,
          144.97184130000002,
          144.9505757,
          144.9416536,
          144.9779186,
          144.9754922,
          144.9901118,
          144.96382739999999,
          144.9775205,
          144.9821382,
          144.9804125,
          144.9780592,
          144.98608049999999,
          144.97940490000002,
          144.98166669999998,
          144.9805853,
          144.98268480000002,
          144.9722416,
          144.97958,
          144.99182380000002,
          144.9874246,
          144.9815895,
          144.9538977,
          144.9870884,
          144.97712669999999,
          144.97501119999998,
          144.98230130000002,
          144.9820025,
          144.99666299999998
         ],
         "marker": {
          "color": "#EF553B",
          "symbol": "circle"
         },
         "mode": "markers",
         "name": "Port Phillip",
         "showlegend": true,
         "type": "scattergeo"
        },
        {
         "geo": "geo",
         "hovertemplate": "city=Whitehorse<br>latitude=%{lat}<br>longitude=%{lon}<extra></extra>",
         "lat": [
          -37.83301368,
          -37.81371776,
          -37.84934584,
          -37.81386259,
          -37.81912644,
          -37.84325745,
          -37.81175086,
          -37.80567986,
          -37.84156906
         ],
         "legendgroup": "Whitehorse",
         "lon": [
          145.10797659999997,
          145.1191672,
          145.2014699,
          145.1175056,
          145.14844530000002,
          145.12949540000002,
          145.1214634,
          145.14159899999999,
          145.116434
         ],
         "marker": {
          "color": "#00cc96",
          "symbol": "circle"
         },
         "mode": "markers",
         "name": "Whitehorse",
         "showlegend": true,
         "type": "scattergeo"
        },
        {
         "geo": "geo",
         "hovertemplate": "city=Manningham<br>latitude=%{lat}<br>longitude=%{lon}<extra></extra>",
         "lat": [
          -37.73985597,
          -37.78684602,
          -37.79041085,
          -37.77946458,
          -37.78626087,
          -37.78905881
         ],
         "legendgroup": "Manningham",
         "lon": [
          145.22994680000002,
          145.1267901,
          145.12293380000003,
          145.16115449999998,
          145.1260312,
          145.125145
         ],
         "marker": {
          "color": "#ab63fa",
          "symbol": "circle"
         },
         "mode": "markers",
         "name": "Manningham",
         "showlegend": true,
         "type": "scattergeo"
        },
        {
         "geo": "geo",
         "hovertemplate": "city=Yarra<br>latitude=%{lat}<br>longitude=%{lon}<extra></extra>",
         "lat": [
          -37.82068710000001,
          -37.82546785,
          -37.78570646,
          -37.80041644,
          -37.80440177,
          -37.81451343,
          -37.8000041,
          -37.81361395,
          -37.82320195,
          -37.79564307,
          -37.77695431,
          -37.805158299999995,
          -37.81580944,
          -37.78783254,
          -37.80813187,
          -37.79067899,
          -37.80569837,
          -37.80226973,
          -37.79465637,
          -37.80173343,
          -37.79983471,
          -37.78691862,
          -37.80223346,
          -37.79917096,
          -37.80335003,
          -37.79745775,
          -37.78139506
         ],
         "legendgroup": "Yarra",
         "lon": [
          144.98962609999998,
          145.0111098,
          144.96996230000002,
          144.97890759999999,
          144.98213140000001,
          145.0007865,
          144.97750630000002,
          145.0024069,
          144.9911963,
          144.9924905,
          144.9789237,
          144.97950690000002,
          145.0079816,
          144.9774371,
          144.98295180000002,
          144.9784954,
          144.9841496,
          144.999028,
          144.9860061,
          144.97536499999998,
          145.0017672,
          144.97002659999998,
          144.97988130000002,
          144.9764032,
          144.98649819999997,
          144.98199430000003,
          144.97649740000003
         ],
         "marker": {
          "color": "#FFA15A",
          "symbol": "circle"
         },
         "mode": "markers",
         "name": "Yarra",
         "showlegend": true,
         "type": "scattergeo"
        },
        {
         "geo": "geo",
         "hovertemplate": "city=Boroondara<br>latitude=%{lat}<br>longitude=%{lon}<extra></extra>",
         "lat": [
          -37.83827412,
          -37.86327155,
          -37.83619193,
          -37.78422388,
          -37.81110377,
          -37.86639787,
          -37.81001837,
          -37.81746866,
          -37.82132205,
          -37.80812374
         ],
         "legendgroup": "Boroondara",
         "lon": [
          145.06190680000003,
          145.07739650000002,
          145.0452368,
          145.0970863,
          145.0755736,
          145.0669111,
          145.0450333,
          145.09329780000002,
          145.0585896,
          145.01847859999998
         ],
         "marker": {
          "color": "#19d3f3",
          "symbol": "circle"
         },
         "mode": "markers",
         "name": "Boroondara",
         "showlegend": true,
         "type": "scattergeo"
        },
        {
         "geo": "geo",
         "hovertemplate": "city=Yarra Ranges<br>latitude=%{lat}<br>longitude=%{lon}<extra></extra>",
         "lat": [
          -37.75828304,
          -37.64714144,
          -37.85422103,
          -37.80851895,
          -37.65035719,
          -37.65915901,
          -37.65516884,
          -37.88215396,
          -37.6521402,
          -37.86560227,
          -37.89885236
         ],
         "legendgroup": "Yarra Ranges",
         "lon": [
          145.3584707,
          145.5380587,
          145.3626069,
          145.59660490000002,
          145.5224357,
          145.3440649,
          145.37550890000003,
          145.3680228,
          145.3734452,
          145.3505554,
          145.33156530000002
         ],
         "marker": {
          "color": "#FF6692",
          "symbol": "circle"
         },
         "mode": "markers",
         "name": "Yarra Ranges",
         "showlegend": true,
         "type": "scattergeo"
        },
        {
         "geo": "geo",
         "hovertemplate": "city=Whittlesea<br>latitude=%{lat}<br>longitude=%{lon}<extra></extra>",
         "lat": [
          -37.66562265,
          -37.63373733,
          -37.67785796
         ],
         "legendgroup": "Whittlesea",
         "lon": [
          145.0154552,
          145.0852219,
          145.05796669999998
         ],
         "marker": {
          "color": "#B6E880",
          "symbol": "circle"
         },
         "mode": "markers",
         "name": "Whittlesea",
         "showlegend": true,
         "type": "scattergeo"
        },
        {
         "geo": "geo",
         "hovertemplate": "city=Stonnington<br>latitude=%{lat}<br>longitude=%{lon}<extra></extra>",
         "lat": [
          -37.83183959,
          -37.85396935,
          -37.85210865,
          -37.86162319,
          -37.88441763,
          -37.83668735,
          -37.84217274,
          -37.84437119,
          -37.83278552,
          -37.8358323,
          -37.87996292,
          -37.857368900000004,
          -37.85182188,
          -37.87746948,
          -37.85348888,
          -37.83482198,
          -37.83647921,
          -37.84138258
         ],
         "legendgroup": "Stonnington",
         "lon": [
          144.9882515,
          144.9989574,
          144.9864469,
          145.0421504,
          145.0787615,
          144.9971257,
          145.003328,
          144.9977935,
          145.01501340000002,
          144.9930928,
          145.0807138,
          145.01913269999997,
          144.99687419999998,
          145.05673000000002,
          145.04756640000002,
          144.99981330000003,
          144.99691430000001,
          145.01181090000003
         ],
         "marker": {
          "color": "#FF97FF",
          "symbol": "circle"
         },
         "mode": "markers",
         "name": "Stonnington",
         "showlegend": true,
         "type": "scattergeo"
        },
        {
         "geo": "geo",
         "hovertemplate": "city=Knox<br>latitude=%{lat}<br>longitude=%{lon}<extra></extra>",
         "lat": [
          -37.89565727,
          -37.92300639
         ],
         "legendgroup": "Knox",
         "lon": [
          145.2336668,
          145.22734599999998
         ],
         "marker": {
          "color": "#FECB52",
          "symbol": "circle"
         },
         "mode": "markers",
         "name": "Knox",
         "showlegend": true,
         "type": "scattergeo"
        },
        {
         "geo": "geo",
         "hovertemplate": "city=Kingston<br>latitude=%{lat}<br>longitude=%{lon}<extra></extra>",
         "lat": [
          -38.0232869,
          -37.99013023,
          -37.97566998,
          -37.95688184,
          -37.93823817,
          -38.01868048,
          -37.99582301
         ],
         "legendgroup": "Kingston",
         "lon": [
          145.1005197,
          145.0768014,
          145.0621543,
          145.0530813,
          145.109916,
          145.098031,
          145.0820297
         ],
         "marker": {
          "color": "#636efa",
          "symbol": "circle"
         },
         "mode": "markers",
         "name": "Kingston",
         "showlegend": true,
         "type": "scattergeo"
        },
        {
         "geo": "geo",
         "hovertemplate": "city=Monash<br>latitude=%{lat}<br>longitude=%{lon}<extra></extra>",
         "lat": [
          -37.90227069,
          -37.91544953,
          -37.87409191,
          -37.86527869,
          -37.87853091
         ],
         "legendgroup": "Monash",
         "lon": [
          145.1209572,
          145.12353969999998,
          145.16322480000002,
          145.1859583,
          145.16600640000001
         ],
         "marker": {
          "color": "#EF553B",
          "symbol": "circle"
         },
         "mode": "markers",
         "name": "Monash",
         "showlegend": true,
         "type": "scattergeo"
        },
        {
         "geo": "geo",
         "hovertemplate": "city=Darebin<br>latitude=%{lat}<br>longitude=%{lon}<extra></extra>",
         "lat": [
          -37.78348854,
          -37.77542915,
          -37.72650469,
          -37.76761384,
          -37.7743606,
          -37.76763999,
          -37.78107095,
          -37.77926761,
          -37.71702314,
          -37.75400302,
          -37.77491853,
          -37.78257485
         ],
         "legendgroup": "Darebin",
         "lon": [
          145.0010562,
          144.997858,
          145.0073429,
          144.9882416,
          144.99861819999998,
          145.0217291,
          145.0073244,
          145.0308408,
          145.020011,
          145.00533869999998,
          144.998627,
          145.0208186
         ],
         "marker": {
          "color": "#00cc96",
          "symbol": "circle"
         },
         "mode": "markers",
         "name": "Darebin",
         "showlegend": true,
         "type": "scattergeo"
        },
        {
         "geo": "geo",
         "hovertemplate": "city=Glen Eira<br>latitude=%{lat}<br>longitude=%{lon}<extra></extra>",
         "lat": [
          -37.89333172,
          -37.86613001,
          -37.89119956,
          -37.86776107,
          -37.93452923,
          -37.87482808,
          -37.90298332,
          -37.89248049,
          -37.87765905
         ],
         "legendgroup": "Glen Eira",
         "lon": [
          145.0446489,
          145.0216586,
          145.07619540000002,
          145.00735780000002,
          145.05870880000003,
          145.03773049999998,
          145.0460323,
          145.07546399999998,
          145.03841369999998
         ],
         "marker": {
          "color": "#ab63fa",
          "symbol": "circle"
         },
         "mode": "markers",
         "name": "Glen Eira",
         "showlegend": true,
         "type": "scattergeo"
        },
        {
         "geo": "geo",
         "hovertemplate": "city=Moreland<br>latitude=%{lat}<br>longitude=%{lon}<extra></extra>",
         "lat": [
          -37.7366263,
          -37.77283,
          -37.71601093,
          -37.76062307,
          -37.76396906,
          -37.77593462,
          -37.75707919,
          -37.76613386,
          -37.76935918,
          -37.76206184,
          -37.75803627,
          -37.77656218
         ],
         "legendgroup": "Moreland",
         "lon": [
          144.963201,
          144.96917230000003,
          144.9387837,
          144.93847119999998,
          144.9823474,
          144.9692759,
          144.965429,
          144.9670679,
          144.9737852,
          144.9645764,
          144.9712774,
          144.9520124
         ],
         "marker": {
          "color": "#FFA15A",
          "symbol": "circle"
         },
         "mode": "markers",
         "name": "Moreland",
         "showlegend": true,
         "type": "scattergeo"
        },
        {
         "geo": "geo",
         "hovertemplate": "city=Bayside<br>latitude=%{lat}<br>longitude=%{lon}<extra></extra>",
         "lat": [
          -37.89570387,
          -37.91824167,
          -37.95193772,
          -37.94507098,
          -37.90645118
         ],
         "legendgroup": "Bayside",
         "lon": [
          144.9963416,
          144.99880819999998,
          145.0102328,
          145.011901,
          145.0009368
         ],
         "marker": {
          "color": "#19d3f3",
          "symbol": "circle"
         },
         "mode": "markers",
         "name": "Bayside",
         "showlegend": true,
         "type": "scattergeo"
        },
        {
         "geo": "geo",
         "hovertemplate": "city=Maroondah<br>latitude=%{lat}<br>longitude=%{lon}<extra></extra>",
         "lat": [
          -37.81717339,
          -37.78156144,
          -37.82713137
         ],
         "legendgroup": "Maroondah",
         "lon": [
          145.2350518,
          145.2920429,
          145.2142821
         ],
         "marker": {
          "color": "#FF6692",
          "symbol": "circle"
         },
         "mode": "markers",
         "name": "Maroondah",
         "showlegend": true,
         "type": "scattergeo"
        },
        {
         "geo": "geo",
         "hovertemplate": "city=Banyule<br>latitude=%{lat}<br>longitude=%{lon}<extra></extra>",
         "lat": [
          -37.74415001,
          -37.73000923,
          -37.76434898
         ],
         "legendgroup": "Banyule",
         "lon": [
          145.0447179,
          145.10018200000002,
          145.0668148
         ],
         "marker": {
          "color": "#B6E880",
          "symbol": "circle"
         },
         "mode": "markers",
         "name": "Banyule",
         "showlegend": true,
         "type": "scattergeo"
        },
        {
         "geo": "geo",
         "hovertemplate": "city=Maribyrnong<br>latitude=%{lat}<br>longitude=%{lon}<extra></extra>",
         "lat": [
          -37.80586267,
          -37.81591638,
          -37.77239215
         ],
         "legendgroup": "Maribyrnong",
         "lon": [
          144.8902854,
          144.8881374,
          144.8929764
         ],
         "marker": {
          "color": "#FF97FF",
          "symbol": "circle"
         },
         "mode": "markers",
         "name": "Maribyrnong",
         "showlegend": true,
         "type": "scattergeo"
        },
        {
         "geo": "geo",
         "hovertemplate": "city=Wyndham<br>latitude=%{lat}<br>longitude=%{lon}<extra></extra>",
         "lat": [
          -37.90694546,
          -37.90411664,
          -37.89158932,
          -37.88724615
         ],
         "legendgroup": "Wyndham",
         "lon": [
          144.6297004,
          144.7230146,
          144.6663039,
          144.71246440000002
         ],
         "marker": {
          "color": "#FECB52",
          "symbol": "circle"
         },
         "mode": "markers",
         "name": "Wyndham",
         "showlegend": true,
         "type": "scattergeo"
        },
        {
         "geo": "geo",
         "hovertemplate": "city=Hobsons Bay<br>latitude=%{lat}<br>longitude=%{lon}<extra></extra>",
         "lat": [
          -37.82979829,
          -37.84449067,
          -37.85575686
         ],
         "legendgroup": "Hobsons Bay",
         "lon": [
          144.8832614,
          144.86897119999998,
          144.8961813
         ],
         "marker": {
          "color": "#636efa",
          "symbol": "circle"
         },
         "mode": "markers",
         "name": "Hobsons Bay",
         "showlegend": true,
         "type": "scattergeo"
        },
        {
         "geo": "geo",
         "hovertemplate": "city=Greater Dandenong<br>latitude=%{lat}<br>longitude=%{lon}<extra></extra>",
         "lat": [
          -37.94692725,
          -37.9975263,
          -37.96327677
         ],
         "legendgroup": "Greater Dandenong",
         "lon": [
          145.1454497,
          145.1489333,
          145.184227
         ],
         "marker": {
          "color": "#EF553B",
          "symbol": "circle"
         },
         "mode": "markers",
         "name": "Greater Dandenong",
         "showlegend": true,
         "type": "scattergeo"
        },
        {
         "geo": "geo",
         "hovertemplate": "city=Casey<br>latitude=%{lat}<br>longitude=%{lon}<extra></extra>",
         "lat": [
          -37.99203803
         ],
         "legendgroup": "Casey",
         "lon": [
          145.2354928
         ],
         "marker": {
          "color": "#00cc96",
          "symbol": "circle"
         },
         "mode": "markers",
         "name": "Casey",
         "showlegend": true,
         "type": "scattergeo"
        },
        {
         "geo": "geo",
         "hovertemplate": "city=Moonee Valley<br>latitude=%{lat}<br>longitude=%{lon}<extra></extra>",
         "lat": [
          -37.77161698,
          -37.74464433
         ],
         "legendgroup": "Moonee Valley",
         "lon": [
          144.9062996,
          144.9259064
         ],
         "marker": {
          "color": "#ab63fa",
          "symbol": "circle"
         },
         "mode": "markers",
         "name": "Moonee Valley",
         "showlegend": true,
         "type": "scattergeo"
        },
        {
         "geo": "geo",
         "hovertemplate": "city=Frankston<br>latitude=%{lat}<br>longitude=%{lon}<extra></extra>",
         "lat": [
          -38.11330366
         ],
         "legendgroup": "Frankston",
         "lon": [
          145.1302321
         ],
         "marker": {
          "color": "#FFA15A",
          "symbol": "circle"
         },
         "mode": "markers",
         "name": "Frankston",
         "showlegend": true,
         "type": "scattergeo"
        },
        {
         "geo": "geo",
         "hovertemplate": "city=Cardinia<br>latitude=%{lat}<br>longitude=%{lon}<extra></extra>",
         "lat": [
          -37.9544719
         ],
         "legendgroup": "Cardinia",
         "lon": [
          145.5534699
         ],
         "marker": {
          "color": "#19d3f3",
          "symbol": "circle"
         },
         "mode": "markers",
         "name": "Cardinia",
         "showlegend": true,
         "type": "scattergeo"
        }
       ],
       "layout": {
        "geo": {
         "center": {},
         "domain": {
          "x": [
           0,
           1
          ],
          "y": [
           0,
           1
          ]
         },
         "fitbounds": "locations"
        },
        "legend": {
         "title": {
          "text": "city"
         },
         "tracegroupgap": 0
        },
        "margin": {
         "t": 60
        },
        "template": {
         "data": {
          "bar": [
           {
            "error_x": {
             "color": "#2a3f5f"
            },
            "error_y": {
             "color": "#2a3f5f"
            },
            "marker": {
             "line": {
              "color": "#E5ECF6",
              "width": 0.5
             }
            },
            "type": "bar"
           }
          ],
          "barpolar": [
           {
            "marker": {
             "line": {
              "color": "#E5ECF6",
              "width": 0.5
             }
            },
            "type": "barpolar"
           }
          ],
          "carpet": [
           {
            "aaxis": {
             "endlinecolor": "#2a3f5f",
             "gridcolor": "white",
             "linecolor": "white",
             "minorgridcolor": "white",
             "startlinecolor": "#2a3f5f"
            },
            "baxis": {
             "endlinecolor": "#2a3f5f",
             "gridcolor": "white",
             "linecolor": "white",
             "minorgridcolor": "white",
             "startlinecolor": "#2a3f5f"
            },
            "type": "carpet"
           }
          ],
          "choropleth": [
           {
            "colorbar": {
             "outlinewidth": 0,
             "ticks": ""
            },
            "type": "choropleth"
           }
          ],
          "contour": [
           {
            "colorbar": {
             "outlinewidth": 0,
             "ticks": ""
            },
            "colorscale": [
             [
              0,
              "#0d0887"
             ],
             [
              0.1111111111111111,
              "#46039f"
             ],
             [
              0.2222222222222222,
              "#7201a8"
             ],
             [
              0.3333333333333333,
              "#9c179e"
             ],
             [
              0.4444444444444444,
              "#bd3786"
             ],
             [
              0.5555555555555556,
              "#d8576b"
             ],
             [
              0.6666666666666666,
              "#ed7953"
             ],
             [
              0.7777777777777778,
              "#fb9f3a"
             ],
             [
              0.8888888888888888,
              "#fdca26"
             ],
             [
              1,
              "#f0f921"
             ]
            ],
            "type": "contour"
           }
          ],
          "contourcarpet": [
           {
            "colorbar": {
             "outlinewidth": 0,
             "ticks": ""
            },
            "type": "contourcarpet"
           }
          ],
          "heatmap": [
           {
            "colorbar": {
             "outlinewidth": 0,
             "ticks": ""
            },
            "colorscale": [
             [
              0,
              "#0d0887"
             ],
             [
              0.1111111111111111,
              "#46039f"
             ],
             [
              0.2222222222222222,
              "#7201a8"
             ],
             [
              0.3333333333333333,
              "#9c179e"
             ],
             [
              0.4444444444444444,
              "#bd3786"
             ],
             [
              0.5555555555555556,
              "#d8576b"
             ],
             [
              0.6666666666666666,
              "#ed7953"
             ],
             [
              0.7777777777777778,
              "#fb9f3a"
             ],
             [
              0.8888888888888888,
              "#fdca26"
             ],
             [
              1,
              "#f0f921"
             ]
            ],
            "type": "heatmap"
           }
          ],
          "heatmapgl": [
           {
            "colorbar": {
             "outlinewidth": 0,
             "ticks": ""
            },
            "colorscale": [
             [
              0,
              "#0d0887"
             ],
             [
              0.1111111111111111,
              "#46039f"
             ],
             [
              0.2222222222222222,
              "#7201a8"
             ],
             [
              0.3333333333333333,
              "#9c179e"
             ],
             [
              0.4444444444444444,
              "#bd3786"
             ],
             [
              0.5555555555555556,
              "#d8576b"
             ],
             [
              0.6666666666666666,
              "#ed7953"
             ],
             [
              0.7777777777777778,
              "#fb9f3a"
             ],
             [
              0.8888888888888888,
              "#fdca26"
             ],
             [
              1,
              "#f0f921"
             ]
            ],
            "type": "heatmapgl"
           }
          ],
          "histogram": [
           {
            "marker": {
             "colorbar": {
              "outlinewidth": 0,
              "ticks": ""
             }
            },
            "type": "histogram"
           }
          ],
          "histogram2d": [
           {
            "colorbar": {
             "outlinewidth": 0,
             "ticks": ""
            },
            "colorscale": [
             [
              0,
              "#0d0887"
             ],
             [
              0.1111111111111111,
              "#46039f"
             ],
             [
              0.2222222222222222,
              "#7201a8"
             ],
             [
              0.3333333333333333,
              "#9c179e"
             ],
             [
              0.4444444444444444,
              "#bd3786"
             ],
             [
              0.5555555555555556,
              "#d8576b"
             ],
             [
              0.6666666666666666,
              "#ed7953"
             ],
             [
              0.7777777777777778,
              "#fb9f3a"
             ],
             [
              0.8888888888888888,
              "#fdca26"
             ],
             [
              1,
              "#f0f921"
             ]
            ],
            "type": "histogram2d"
           }
          ],
          "histogram2dcontour": [
           {
            "colorbar": {
             "outlinewidth": 0,
             "ticks": ""
            },
            "colorscale": [
             [
              0,
              "#0d0887"
             ],
             [
              0.1111111111111111,
              "#46039f"
             ],
             [
              0.2222222222222222,
              "#7201a8"
             ],
             [
              0.3333333333333333,
              "#9c179e"
             ],
             [
              0.4444444444444444,
              "#bd3786"
             ],
             [
              0.5555555555555556,
              "#d8576b"
             ],
             [
              0.6666666666666666,
              "#ed7953"
             ],
             [
              0.7777777777777778,
              "#fb9f3a"
             ],
             [
              0.8888888888888888,
              "#fdca26"
             ],
             [
              1,
              "#f0f921"
             ]
            ],
            "type": "histogram2dcontour"
           }
          ],
          "mesh3d": [
           {
            "colorbar": {
             "outlinewidth": 0,
             "ticks": ""
            },
            "type": "mesh3d"
           }
          ],
          "parcoords": [
           {
            "line": {
             "colorbar": {
              "outlinewidth": 0,
              "ticks": ""
             }
            },
            "type": "parcoords"
           }
          ],
          "pie": [
           {
            "automargin": true,
            "type": "pie"
           }
          ],
          "scatter": [
           {
            "marker": {
             "colorbar": {
              "outlinewidth": 0,
              "ticks": ""
             }
            },
            "type": "scatter"
           }
          ],
          "scatter3d": [
           {
            "line": {
             "colorbar": {
              "outlinewidth": 0,
              "ticks": ""
             }
            },
            "marker": {
             "colorbar": {
              "outlinewidth": 0,
              "ticks": ""
             }
            },
            "type": "scatter3d"
           }
          ],
          "scattercarpet": [
           {
            "marker": {
             "colorbar": {
              "outlinewidth": 0,
              "ticks": ""
             }
            },
            "type": "scattercarpet"
           }
          ],
          "scattergeo": [
           {
            "marker": {
             "colorbar": {
              "outlinewidth": 0,
              "ticks": ""
             }
            },
            "type": "scattergeo"
           }
          ],
          "scattergl": [
           {
            "marker": {
             "colorbar": {
              "outlinewidth": 0,
              "ticks": ""
             }
            },
            "type": "scattergl"
           }
          ],
          "scattermapbox": [
           {
            "marker": {
             "colorbar": {
              "outlinewidth": 0,
              "ticks": ""
             }
            },
            "type": "scattermapbox"
           }
          ],
          "scatterpolar": [
           {
            "marker": {
             "colorbar": {
              "outlinewidth": 0,
              "ticks": ""
             }
            },
            "type": "scatterpolar"
           }
          ],
          "scatterpolargl": [
           {
            "marker": {
             "colorbar": {
              "outlinewidth": 0,
              "ticks": ""
             }
            },
            "type": "scatterpolargl"
           }
          ],
          "scatterternary": [
           {
            "marker": {
             "colorbar": {
              "outlinewidth": 0,
              "ticks": ""
             }
            },
            "type": "scatterternary"
           }
          ],
          "surface": [
           {
            "colorbar": {
             "outlinewidth": 0,
             "ticks": ""
            },
            "colorscale": [
             [
              0,
              "#0d0887"
             ],
             [
              0.1111111111111111,
              "#46039f"
             ],
             [
              0.2222222222222222,
              "#7201a8"
             ],
             [
              0.3333333333333333,
              "#9c179e"
             ],
             [
              0.4444444444444444,
              "#bd3786"
             ],
             [
              0.5555555555555556,
              "#d8576b"
             ],
             [
              0.6666666666666666,
              "#ed7953"
             ],
             [
              0.7777777777777778,
              "#fb9f3a"
             ],
             [
              0.8888888888888888,
              "#fdca26"
             ],
             [
              1,
              "#f0f921"
             ]
            ],
            "type": "surface"
           }
          ],
          "table": [
           {
            "cells": {
             "fill": {
              "color": "#EBF0F8"
             },
             "line": {
              "color": "white"
             }
            },
            "header": {
             "fill": {
              "color": "#C8D4E3"
             },
             "line": {
              "color": "white"
             }
            },
            "type": "table"
           }
          ]
         },
         "layout": {
          "annotationdefaults": {
           "arrowcolor": "#2a3f5f",
           "arrowhead": 0,
           "arrowwidth": 1
          },
          "autotypenumbers": "strict",
          "coloraxis": {
           "colorbar": {
            "outlinewidth": 0,
            "ticks": ""
           }
          },
          "colorscale": {
           "diverging": [
            [
             0,
             "#8e0152"
            ],
            [
             0.1,
             "#c51b7d"
            ],
            [
             0.2,
             "#de77ae"
            ],
            [
             0.3,
             "#f1b6da"
            ],
            [
             0.4,
             "#fde0ef"
            ],
            [
             0.5,
             "#f7f7f7"
            ],
            [
             0.6,
             "#e6f5d0"
            ],
            [
             0.7,
             "#b8e186"
            ],
            [
             0.8,
             "#7fbc41"
            ],
            [
             0.9,
             "#4d9221"
            ],
            [
             1,
             "#276419"
            ]
           ],
           "sequential": [
            [
             0,
             "#0d0887"
            ],
            [
             0.1111111111111111,
             "#46039f"
            ],
            [
             0.2222222222222222,
             "#7201a8"
            ],
            [
             0.3333333333333333,
             "#9c179e"
            ],
            [
             0.4444444444444444,
             "#bd3786"
            ],
            [
             0.5555555555555556,
             "#d8576b"
            ],
            [
             0.6666666666666666,
             "#ed7953"
            ],
            [
             0.7777777777777778,
             "#fb9f3a"
            ],
            [
             0.8888888888888888,
             "#fdca26"
            ],
            [
             1,
             "#f0f921"
            ]
           ],
           "sequentialminus": [
            [
             0,
             "#0d0887"
            ],
            [
             0.1111111111111111,
             "#46039f"
            ],
            [
             0.2222222222222222,
             "#7201a8"
            ],
            [
             0.3333333333333333,
             "#9c179e"
            ],
            [
             0.4444444444444444,
             "#bd3786"
            ],
            [
             0.5555555555555556,
             "#d8576b"
            ],
            [
             0.6666666666666666,
             "#ed7953"
            ],
            [
             0.7777777777777778,
             "#fb9f3a"
            ],
            [
             0.8888888888888888,
             "#fdca26"
            ],
            [
             1,
             "#f0f921"
            ]
           ]
          },
          "colorway": [
           "#636efa",
           "#EF553B",
           "#00cc96",
           "#ab63fa",
           "#FFA15A",
           "#19d3f3",
           "#FF6692",
           "#B6E880",
           "#FF97FF",
           "#FECB52"
          ],
          "font": {
           "color": "#2a3f5f"
          },
          "geo": {
           "bgcolor": "white",
           "lakecolor": "white",
           "landcolor": "#E5ECF6",
           "showlakes": true,
           "showland": true,
           "subunitcolor": "white"
          },
          "hoverlabel": {
           "align": "left"
          },
          "hovermode": "closest",
          "mapbox": {
           "style": "light"
          },
          "paper_bgcolor": "white",
          "plot_bgcolor": "#E5ECF6",
          "polar": {
           "angularaxis": {
            "gridcolor": "white",
            "linecolor": "white",
            "ticks": ""
           },
           "bgcolor": "#E5ECF6",
           "radialaxis": {
            "gridcolor": "white",
            "linecolor": "white",
            "ticks": ""
           }
          },
          "scene": {
           "xaxis": {
            "backgroundcolor": "#E5ECF6",
            "gridcolor": "white",
            "gridwidth": 2,
            "linecolor": "white",
            "showbackground": true,
            "ticks": "",
            "zerolinecolor": "white"
           },
           "yaxis": {
            "backgroundcolor": "#E5ECF6",
            "gridcolor": "white",
            "gridwidth": 2,
            "linecolor": "white",
            "showbackground": true,
            "ticks": "",
            "zerolinecolor": "white"
           },
           "zaxis": {
            "backgroundcolor": "#E5ECF6",
            "gridcolor": "white",
            "gridwidth": 2,
            "linecolor": "white",
            "showbackground": true,
            "ticks": "",
            "zerolinecolor": "white"
           }
          },
          "shapedefaults": {
           "line": {
            "color": "#2a3f5f"
           }
          },
          "ternary": {
           "aaxis": {
            "gridcolor": "white",
            "linecolor": "white",
            "ticks": ""
           },
           "baxis": {
            "gridcolor": "white",
            "linecolor": "white",
            "ticks": ""
           },
           "bgcolor": "#E5ECF6",
           "caxis": {
            "gridcolor": "white",
            "linecolor": "white",
            "ticks": ""
           }
          },
          "title": {
           "x": 0.05
          },
          "xaxis": {
           "automargin": true,
           "gridcolor": "white",
           "linecolor": "white",
           "ticks": "",
           "title": {
            "standoff": 15
           },
           "zerolinecolor": "white",
           "zerolinewidth": 2
          },
          "yaxis": {
           "automargin": true,
           "gridcolor": "white",
           "linecolor": "white",
           "ticks": "",
           "title": {
            "standoff": 15
           },
           "zerolinecolor": "white",
           "zerolinewidth": 2
          }
         }
        }
       }
      },
      "text/html": [
       "<div>                            <div id=\"98bd214b-6698-464a-b29f-bac75c9c51a1\" class=\"plotly-graph-div\" style=\"height:525px; width:100%;\"></div>            <script type=\"text/javascript\">                require([\"plotly\"], function(Plotly) {                    window.PLOTLYENV=window.PLOTLYENV || {};                                    if (document.getElementById(\"98bd214b-6698-464a-b29f-bac75c9c51a1\")) {                    Plotly.newPlot(                        \"98bd214b-6698-464a-b29f-bac75c9c51a1\",                        [{\"geo\": \"geo\", \"hovertemplate\": \"city=Melbourne<br>latitude=%{lat}<br>longitude=%{lon}<extra></extra>\", \"lat\": [-37.80729104, -37.80880741, -37.82033239, -37.82157893, -37.81691405, -37.81441938, -37.81044054, -37.80206071, -37.81660339, -37.81066274, -37.81579131, -37.81419159, -37.81486451, -37.82188696, -37.81158948, -37.82089544, -37.82615181, -37.83585822, -37.80530767, -37.82029766, -37.81470895, -37.82437567, -37.81534415, -37.80989858, -37.816637799999995, -37.80921725, -37.78760238, -37.82631498, -37.8161651, -37.84314229, -37.81029321, -37.82812551, -37.81466395, -37.80616681, -37.80088005, -37.8149023, -37.80779039, -37.81588286, -37.83008078, -37.80758977, -37.81054842, -37.81454928, -37.82307204, -37.81461659, -37.81132535, -37.80779674, -37.80795017, -37.81402847, -37.81710823, -37.82171722, -37.80786091, -37.814342100000005, -37.82029625, -37.80596921, -37.81328086, -37.81054377, -37.81412071, -37.79815828, -37.81563519, -37.82008282, -37.81113963, -37.82471363, -37.81638201, -37.8112498, -37.82933847, -37.7968708, -37.81666971, -37.81649883, -37.8171401, -37.84599457, -37.81586843, -37.82075111, -37.81463078, -37.81388783, -37.81269289, -37.80839124, -37.8080229, -37.82811563, -37.81500036, -37.80875971, -37.8164468, -37.82852261, -37.79426917, -37.81471672, -37.80866221, -37.79788525, -37.79609486, -37.80305527, -37.79899986, -37.81868385, -37.82785768, -37.8137889, -37.80929707, -37.80979617, -37.81597995, -37.80993437, -37.8117477, -37.80344911, -37.82747843, -37.81642063, -37.81602471, -37.81098586, -37.8253592, -37.81481442, -37.81855227, -37.81399575, -37.82850842, -37.81700447], \"legendgroup\": \"Melbourne\", \"lon\": [144.9669997, 144.96209069999998, 144.95523559999998, 144.94536169999998, 144.9695919, 144.9536763, 144.9639083, 144.9558955, 144.9540634, 144.9643083, 144.9546776, 144.952658, 144.953609, 144.96489259999998, 144.95864730000002, 144.94228080000002, 144.9571655, 144.97797230000003, 144.9581219, 144.9567748, 144.9524634, 144.9635409, 144.96606200000002, 144.960231, 144.97182869999997, 144.960308, 144.9204483, 144.96553319999998, 144.962639, 144.9851496, 144.9602165, 144.9574657, 144.955929, 144.9667483, 144.94853830000002, 144.9378209, 144.9677457, 144.95375149999998, 144.9868869, 144.9627885, 144.9703239, 144.93697609999998, 144.9611226, 144.93812690000001, 144.9727608, 144.9613513, 144.9600053, 144.9533043, 144.93612199999998, 144.9443026, 144.96866369999998, 144.9543415, 144.94080359999998, 144.9632257, 144.95300869999997, 144.9609832, 144.9726911, 144.92817130000003, 144.9651189, 144.9435104, 144.97140380000002, 144.9633009, 144.9691233, 144.951494, 144.97006869999998, 144.9721961, 144.98561180000002, 144.98775569999998, 144.9674231, 144.9806281, 144.9531739, 144.94196499999998, 144.9390839, 144.94339480000002, 144.95535230000002, 144.95901980000002, 144.9577405, 144.958057, 144.9544335, 144.9620596, 144.9605546, 144.95878000000002, 144.917349, 144.9540933, 144.96053730000003, 144.951807, 144.9273399, 144.9580689, 144.94359330000003, 144.95519480000002, 144.9589024, 144.9464936, 144.96021919999998, 144.9591828, 144.9461009, 144.9609209, 144.97222130000003, 144.9451082, 144.95729269999998, 144.9535206, 144.9523102, 144.9599515, 144.959233, 144.9658504, 144.9586485, 144.95408909999998, 144.9695898, 144.95221899999999], \"marker\": {\"color\": \"#636efa\", \"symbol\": \"circle\"}, \"mode\": \"markers\", \"name\": \"Melbourne\", \"showlegend\": true, \"type\": \"scattergeo\"}, {\"geo\": \"geo\", \"hovertemplate\": \"city=Port Phillip<br>latitude=%{lat}<br>longitude=%{lon}<extra></extra>\", \"lat\": [-37.87067924, -37.83099664, -37.86559085, -37.83056205, -37.83422609, -37.84158256, -37.84204281, -37.85872008, -37.86380746, -37.87416534, -37.83496483, -37.86783014, -37.85922303, -37.87086174, -37.86604456, -37.85936177, -37.86436727, -37.86841329, -37.86382224, -37.86343671, -37.86048796, -37.85159774, -37.86747042, -37.8641291, -37.85266823, -37.84751565, -37.88047427, -37.8641198, -37.86532638, -37.85968028, -37.86772687, -37.87176426], \"legendgroup\": \"Port Phillip\", \"lon\": [144.98177980000003, 144.9684708, 144.9823534, 144.94360559999998, 144.97184130000002, 144.9505757, 144.9416536, 144.9779186, 144.9754922, 144.9901118, 144.96382739999999, 144.9775205, 144.9821382, 144.9804125, 144.9780592, 144.98608049999999, 144.97940490000002, 144.98166669999998, 144.9805853, 144.98268480000002, 144.9722416, 144.97958, 144.99182380000002, 144.9874246, 144.9815895, 144.9538977, 144.9870884, 144.97712669999999, 144.97501119999998, 144.98230130000002, 144.9820025, 144.99666299999998], \"marker\": {\"color\": \"#EF553B\", \"symbol\": \"circle\"}, \"mode\": \"markers\", \"name\": \"Port Phillip\", \"showlegend\": true, \"type\": \"scattergeo\"}, {\"geo\": \"geo\", \"hovertemplate\": \"city=Whitehorse<br>latitude=%{lat}<br>longitude=%{lon}<extra></extra>\", \"lat\": [-37.83301368, -37.81371776, -37.84934584, -37.81386259, -37.81912644, -37.84325745, -37.81175086, -37.80567986, -37.84156906], \"legendgroup\": \"Whitehorse\", \"lon\": [145.10797659999997, 145.1191672, 145.2014699, 145.1175056, 145.14844530000002, 145.12949540000002, 145.1214634, 145.14159899999999, 145.116434], \"marker\": {\"color\": \"#00cc96\", \"symbol\": \"circle\"}, \"mode\": \"markers\", \"name\": \"Whitehorse\", \"showlegend\": true, \"type\": \"scattergeo\"}, {\"geo\": \"geo\", \"hovertemplate\": \"city=Manningham<br>latitude=%{lat}<br>longitude=%{lon}<extra></extra>\", \"lat\": [-37.73985597, -37.78684602, -37.79041085, -37.77946458, -37.78626087, -37.78905881], \"legendgroup\": \"Manningham\", \"lon\": [145.22994680000002, 145.1267901, 145.12293380000003, 145.16115449999998, 145.1260312, 145.125145], \"marker\": {\"color\": \"#ab63fa\", \"symbol\": \"circle\"}, \"mode\": \"markers\", \"name\": \"Manningham\", \"showlegend\": true, \"type\": \"scattergeo\"}, {\"geo\": \"geo\", \"hovertemplate\": \"city=Yarra<br>latitude=%{lat}<br>longitude=%{lon}<extra></extra>\", \"lat\": [-37.82068710000001, -37.82546785, -37.78570646, -37.80041644, -37.80440177, -37.81451343, -37.8000041, -37.81361395, -37.82320195, -37.79564307, -37.77695431, -37.805158299999995, -37.81580944, -37.78783254, -37.80813187, -37.79067899, -37.80569837, -37.80226973, -37.79465637, -37.80173343, -37.79983471, -37.78691862, -37.80223346, -37.79917096, -37.80335003, -37.79745775, -37.78139506], \"legendgroup\": \"Yarra\", \"lon\": [144.98962609999998, 145.0111098, 144.96996230000002, 144.97890759999999, 144.98213140000001, 145.0007865, 144.97750630000002, 145.0024069, 144.9911963, 144.9924905, 144.9789237, 144.97950690000002, 145.0079816, 144.9774371, 144.98295180000002, 144.9784954, 144.9841496, 144.999028, 144.9860061, 144.97536499999998, 145.0017672, 144.97002659999998, 144.97988130000002, 144.9764032, 144.98649819999997, 144.98199430000003, 144.97649740000003], \"marker\": {\"color\": \"#FFA15A\", \"symbol\": \"circle\"}, \"mode\": \"markers\", \"name\": \"Yarra\", \"showlegend\": true, \"type\": \"scattergeo\"}, {\"geo\": \"geo\", \"hovertemplate\": \"city=Boroondara<br>latitude=%{lat}<br>longitude=%{lon}<extra></extra>\", \"lat\": [-37.83827412, -37.86327155, -37.83619193, -37.78422388, -37.81110377, -37.86639787, -37.81001837, -37.81746866, -37.82132205, -37.80812374], \"legendgroup\": \"Boroondara\", \"lon\": [145.06190680000003, 145.07739650000002, 145.0452368, 145.0970863, 145.0755736, 145.0669111, 145.0450333, 145.09329780000002, 145.0585896, 145.01847859999998], \"marker\": {\"color\": \"#19d3f3\", \"symbol\": \"circle\"}, \"mode\": \"markers\", \"name\": \"Boroondara\", \"showlegend\": true, \"type\": \"scattergeo\"}, {\"geo\": \"geo\", \"hovertemplate\": \"city=Yarra Ranges<br>latitude=%{lat}<br>longitude=%{lon}<extra></extra>\", \"lat\": [-37.75828304, -37.64714144, -37.85422103, -37.80851895, -37.65035719, -37.65915901, -37.65516884, -37.88215396, -37.6521402, -37.86560227, -37.89885236], \"legendgroup\": \"Yarra Ranges\", \"lon\": [145.3584707, 145.5380587, 145.3626069, 145.59660490000002, 145.5224357, 145.3440649, 145.37550890000003, 145.3680228, 145.3734452, 145.3505554, 145.33156530000002], \"marker\": {\"color\": \"#FF6692\", \"symbol\": \"circle\"}, \"mode\": \"markers\", \"name\": \"Yarra Ranges\", \"showlegend\": true, \"type\": \"scattergeo\"}, {\"geo\": \"geo\", \"hovertemplate\": \"city=Whittlesea<br>latitude=%{lat}<br>longitude=%{lon}<extra></extra>\", \"lat\": [-37.66562265, -37.63373733, -37.67785796], \"legendgroup\": \"Whittlesea\", \"lon\": [145.0154552, 145.0852219, 145.05796669999998], \"marker\": {\"color\": \"#B6E880\", \"symbol\": \"circle\"}, \"mode\": \"markers\", \"name\": \"Whittlesea\", \"showlegend\": true, \"type\": \"scattergeo\"}, {\"geo\": \"geo\", \"hovertemplate\": \"city=Stonnington<br>latitude=%{lat}<br>longitude=%{lon}<extra></extra>\", \"lat\": [-37.83183959, -37.85396935, -37.85210865, -37.86162319, -37.88441763, -37.83668735, -37.84217274, -37.84437119, -37.83278552, -37.8358323, -37.87996292, -37.857368900000004, -37.85182188, -37.87746948, -37.85348888, -37.83482198, -37.83647921, -37.84138258], \"legendgroup\": \"Stonnington\", \"lon\": [144.9882515, 144.9989574, 144.9864469, 145.0421504, 145.0787615, 144.9971257, 145.003328, 144.9977935, 145.01501340000002, 144.9930928, 145.0807138, 145.01913269999997, 144.99687419999998, 145.05673000000002, 145.04756640000002, 144.99981330000003, 144.99691430000001, 145.01181090000003], \"marker\": {\"color\": \"#FF97FF\", \"symbol\": \"circle\"}, \"mode\": \"markers\", \"name\": \"Stonnington\", \"showlegend\": true, \"type\": \"scattergeo\"}, {\"geo\": \"geo\", \"hovertemplate\": \"city=Knox<br>latitude=%{lat}<br>longitude=%{lon}<extra></extra>\", \"lat\": [-37.89565727, -37.92300639], \"legendgroup\": \"Knox\", \"lon\": [145.2336668, 145.22734599999998], \"marker\": {\"color\": \"#FECB52\", \"symbol\": \"circle\"}, \"mode\": \"markers\", \"name\": \"Knox\", \"showlegend\": true, \"type\": \"scattergeo\"}, {\"geo\": \"geo\", \"hovertemplate\": \"city=Kingston<br>latitude=%{lat}<br>longitude=%{lon}<extra></extra>\", \"lat\": [-38.0232869, -37.99013023, -37.97566998, -37.95688184, -37.93823817, -38.01868048, -37.99582301], \"legendgroup\": \"Kingston\", \"lon\": [145.1005197, 145.0768014, 145.0621543, 145.0530813, 145.109916, 145.098031, 145.0820297], \"marker\": {\"color\": \"#636efa\", \"symbol\": \"circle\"}, \"mode\": \"markers\", \"name\": \"Kingston\", \"showlegend\": true, \"type\": \"scattergeo\"}, {\"geo\": \"geo\", \"hovertemplate\": \"city=Monash<br>latitude=%{lat}<br>longitude=%{lon}<extra></extra>\", \"lat\": [-37.90227069, -37.91544953, -37.87409191, -37.86527869, -37.87853091], \"legendgroup\": \"Monash\", \"lon\": [145.1209572, 145.12353969999998, 145.16322480000002, 145.1859583, 145.16600640000001], \"marker\": {\"color\": \"#EF553B\", \"symbol\": \"circle\"}, \"mode\": \"markers\", \"name\": \"Monash\", \"showlegend\": true, \"type\": \"scattergeo\"}, {\"geo\": \"geo\", \"hovertemplate\": \"city=Darebin<br>latitude=%{lat}<br>longitude=%{lon}<extra></extra>\", \"lat\": [-37.78348854, -37.77542915, -37.72650469, -37.76761384, -37.7743606, -37.76763999, -37.78107095, -37.77926761, -37.71702314, -37.75400302, -37.77491853, -37.78257485], \"legendgroup\": \"Darebin\", \"lon\": [145.0010562, 144.997858, 145.0073429, 144.9882416, 144.99861819999998, 145.0217291, 145.0073244, 145.0308408, 145.020011, 145.00533869999998, 144.998627, 145.0208186], \"marker\": {\"color\": \"#00cc96\", \"symbol\": \"circle\"}, \"mode\": \"markers\", \"name\": \"Darebin\", \"showlegend\": true, \"type\": \"scattergeo\"}, {\"geo\": \"geo\", \"hovertemplate\": \"city=Glen Eira<br>latitude=%{lat}<br>longitude=%{lon}<extra></extra>\", \"lat\": [-37.89333172, -37.86613001, -37.89119956, -37.86776107, -37.93452923, -37.87482808, -37.90298332, -37.89248049, -37.87765905], \"legendgroup\": \"Glen Eira\", \"lon\": [145.0446489, 145.0216586, 145.07619540000002, 145.00735780000002, 145.05870880000003, 145.03773049999998, 145.0460323, 145.07546399999998, 145.03841369999998], \"marker\": {\"color\": \"#ab63fa\", \"symbol\": \"circle\"}, \"mode\": \"markers\", \"name\": \"Glen Eira\", \"showlegend\": true, \"type\": \"scattergeo\"}, {\"geo\": \"geo\", \"hovertemplate\": \"city=Moreland<br>latitude=%{lat}<br>longitude=%{lon}<extra></extra>\", \"lat\": [-37.7366263, -37.77283, -37.71601093, -37.76062307, -37.76396906, -37.77593462, -37.75707919, -37.76613386, -37.76935918, -37.76206184, -37.75803627, -37.77656218], \"legendgroup\": \"Moreland\", \"lon\": [144.963201, 144.96917230000003, 144.9387837, 144.93847119999998, 144.9823474, 144.9692759, 144.965429, 144.9670679, 144.9737852, 144.9645764, 144.9712774, 144.9520124], \"marker\": {\"color\": \"#FFA15A\", \"symbol\": \"circle\"}, \"mode\": \"markers\", \"name\": \"Moreland\", \"showlegend\": true, \"type\": \"scattergeo\"}, {\"geo\": \"geo\", \"hovertemplate\": \"city=Bayside<br>latitude=%{lat}<br>longitude=%{lon}<extra></extra>\", \"lat\": [-37.89570387, -37.91824167, -37.95193772, -37.94507098, -37.90645118], \"legendgroup\": \"Bayside\", \"lon\": [144.9963416, 144.99880819999998, 145.0102328, 145.011901, 145.0009368], \"marker\": {\"color\": \"#19d3f3\", \"symbol\": \"circle\"}, \"mode\": \"markers\", \"name\": \"Bayside\", \"showlegend\": true, \"type\": \"scattergeo\"}, {\"geo\": \"geo\", \"hovertemplate\": \"city=Maroondah<br>latitude=%{lat}<br>longitude=%{lon}<extra></extra>\", \"lat\": [-37.81717339, -37.78156144, -37.82713137], \"legendgroup\": \"Maroondah\", \"lon\": [145.2350518, 145.2920429, 145.2142821], \"marker\": {\"color\": \"#FF6692\", \"symbol\": \"circle\"}, \"mode\": \"markers\", \"name\": \"Maroondah\", \"showlegend\": true, \"type\": \"scattergeo\"}, {\"geo\": \"geo\", \"hovertemplate\": \"city=Banyule<br>latitude=%{lat}<br>longitude=%{lon}<extra></extra>\", \"lat\": [-37.74415001, -37.73000923, -37.76434898], \"legendgroup\": \"Banyule\", \"lon\": [145.0447179, 145.10018200000002, 145.0668148], \"marker\": {\"color\": \"#B6E880\", \"symbol\": \"circle\"}, \"mode\": \"markers\", \"name\": \"Banyule\", \"showlegend\": true, \"type\": \"scattergeo\"}, {\"geo\": \"geo\", \"hovertemplate\": \"city=Maribyrnong<br>latitude=%{lat}<br>longitude=%{lon}<extra></extra>\", \"lat\": [-37.80586267, -37.81591638, -37.77239215], \"legendgroup\": \"Maribyrnong\", \"lon\": [144.8902854, 144.8881374, 144.8929764], \"marker\": {\"color\": \"#FF97FF\", \"symbol\": \"circle\"}, \"mode\": \"markers\", \"name\": \"Maribyrnong\", \"showlegend\": true, \"type\": \"scattergeo\"}, {\"geo\": \"geo\", \"hovertemplate\": \"city=Wyndham<br>latitude=%{lat}<br>longitude=%{lon}<extra></extra>\", \"lat\": [-37.90694546, -37.90411664, -37.89158932, -37.88724615], \"legendgroup\": \"Wyndham\", \"lon\": [144.6297004, 144.7230146, 144.6663039, 144.71246440000002], \"marker\": {\"color\": \"#FECB52\", \"symbol\": \"circle\"}, \"mode\": \"markers\", \"name\": \"Wyndham\", \"showlegend\": true, \"type\": \"scattergeo\"}, {\"geo\": \"geo\", \"hovertemplate\": \"city=Hobsons Bay<br>latitude=%{lat}<br>longitude=%{lon}<extra></extra>\", \"lat\": [-37.82979829, -37.84449067, -37.85575686], \"legendgroup\": \"Hobsons Bay\", \"lon\": [144.8832614, 144.86897119999998, 144.8961813], \"marker\": {\"color\": \"#636efa\", \"symbol\": \"circle\"}, \"mode\": \"markers\", \"name\": \"Hobsons Bay\", \"showlegend\": true, \"type\": \"scattergeo\"}, {\"geo\": \"geo\", \"hovertemplate\": \"city=Greater Dandenong<br>latitude=%{lat}<br>longitude=%{lon}<extra></extra>\", \"lat\": [-37.94692725, -37.9975263, -37.96327677], \"legendgroup\": \"Greater Dandenong\", \"lon\": [145.1454497, 145.1489333, 145.184227], \"marker\": {\"color\": \"#EF553B\", \"symbol\": \"circle\"}, \"mode\": \"markers\", \"name\": \"Greater Dandenong\", \"showlegend\": true, \"type\": \"scattergeo\"}, {\"geo\": \"geo\", \"hovertemplate\": \"city=Casey<br>latitude=%{lat}<br>longitude=%{lon}<extra></extra>\", \"lat\": [-37.99203803], \"legendgroup\": \"Casey\", \"lon\": [145.2354928], \"marker\": {\"color\": \"#00cc96\", \"symbol\": \"circle\"}, \"mode\": \"markers\", \"name\": \"Casey\", \"showlegend\": true, \"type\": \"scattergeo\"}, {\"geo\": \"geo\", \"hovertemplate\": \"city=Moonee Valley<br>latitude=%{lat}<br>longitude=%{lon}<extra></extra>\", \"lat\": [-37.77161698, -37.74464433], \"legendgroup\": \"Moonee Valley\", \"lon\": [144.9062996, 144.9259064], \"marker\": {\"color\": \"#ab63fa\", \"symbol\": \"circle\"}, \"mode\": \"markers\", \"name\": \"Moonee Valley\", \"showlegend\": true, \"type\": \"scattergeo\"}, {\"geo\": \"geo\", \"hovertemplate\": \"city=Frankston<br>latitude=%{lat}<br>longitude=%{lon}<extra></extra>\", \"lat\": [-38.11330366], \"legendgroup\": \"Frankston\", \"lon\": [145.1302321], \"marker\": {\"color\": \"#FFA15A\", \"symbol\": \"circle\"}, \"mode\": \"markers\", \"name\": \"Frankston\", \"showlegend\": true, \"type\": \"scattergeo\"}, {\"geo\": \"geo\", \"hovertemplate\": \"city=Cardinia<br>latitude=%{lat}<br>longitude=%{lon}<extra></extra>\", \"lat\": [-37.9544719], \"legendgroup\": \"Cardinia\", \"lon\": [145.5534699], \"marker\": {\"color\": \"#19d3f3\", \"symbol\": \"circle\"}, \"mode\": \"markers\", \"name\": \"Cardinia\", \"showlegend\": true, \"type\": \"scattergeo\"}],                        {\"geo\": {\"center\": {}, \"domain\": {\"x\": [0.0, 1.0], \"y\": [0.0, 1.0]}, \"fitbounds\": \"locations\"}, \"legend\": {\"title\": {\"text\": \"city\"}, \"tracegroupgap\": 0}, \"margin\": {\"t\": 60}, \"template\": {\"data\": {\"bar\": [{\"error_x\": {\"color\": \"#2a3f5f\"}, \"error_y\": {\"color\": \"#2a3f5f\"}, \"marker\": {\"line\": {\"color\": \"#E5ECF6\", \"width\": 0.5}}, \"type\": \"bar\"}], \"barpolar\": [{\"marker\": {\"line\": {\"color\": \"#E5ECF6\", \"width\": 0.5}}, \"type\": \"barpolar\"}], \"carpet\": [{\"aaxis\": {\"endlinecolor\": \"#2a3f5f\", \"gridcolor\": \"white\", \"linecolor\": \"white\", \"minorgridcolor\": \"white\", \"startlinecolor\": \"#2a3f5f\"}, \"baxis\": {\"endlinecolor\": \"#2a3f5f\", \"gridcolor\": \"white\", \"linecolor\": \"white\", \"minorgridcolor\": \"white\", \"startlinecolor\": \"#2a3f5f\"}, \"type\": \"carpet\"}], \"choropleth\": [{\"colorbar\": {\"outlinewidth\": 0, \"ticks\": \"\"}, \"type\": \"choropleth\"}], \"contour\": [{\"colorbar\": {\"outlinewidth\": 0, \"ticks\": \"\"}, \"colorscale\": [[0.0, \"#0d0887\"], [0.1111111111111111, \"#46039f\"], [0.2222222222222222, \"#7201a8\"], [0.3333333333333333, \"#9c179e\"], [0.4444444444444444, \"#bd3786\"], [0.5555555555555556, \"#d8576b\"], [0.6666666666666666, \"#ed7953\"], [0.7777777777777778, \"#fb9f3a\"], [0.8888888888888888, \"#fdca26\"], [1.0, \"#f0f921\"]], \"type\": \"contour\"}], \"contourcarpet\": [{\"colorbar\": {\"outlinewidth\": 0, \"ticks\": \"\"}, \"type\": \"contourcarpet\"}], \"heatmap\": [{\"colorbar\": {\"outlinewidth\": 0, \"ticks\": \"\"}, \"colorscale\": [[0.0, \"#0d0887\"], [0.1111111111111111, \"#46039f\"], [0.2222222222222222, \"#7201a8\"], [0.3333333333333333, \"#9c179e\"], [0.4444444444444444, \"#bd3786\"], [0.5555555555555556, \"#d8576b\"], [0.6666666666666666, \"#ed7953\"], [0.7777777777777778, \"#fb9f3a\"], [0.8888888888888888, \"#fdca26\"], [1.0, \"#f0f921\"]], \"type\": \"heatmap\"}], \"heatmapgl\": [{\"colorbar\": {\"outlinewidth\": 0, \"ticks\": \"\"}, \"colorscale\": [[0.0, \"#0d0887\"], [0.1111111111111111, \"#46039f\"], [0.2222222222222222, \"#7201a8\"], [0.3333333333333333, \"#9c179e\"], [0.4444444444444444, \"#bd3786\"], [0.5555555555555556, \"#d8576b\"], [0.6666666666666666, \"#ed7953\"], [0.7777777777777778, \"#fb9f3a\"], [0.8888888888888888, \"#fdca26\"], [1.0, \"#f0f921\"]], \"type\": \"heatmapgl\"}], \"histogram\": [{\"marker\": {\"colorbar\": {\"outlinewidth\": 0, \"ticks\": \"\"}}, \"type\": \"histogram\"}], \"histogram2d\": [{\"colorbar\": {\"outlinewidth\": 0, \"ticks\": \"\"}, \"colorscale\": [[0.0, \"#0d0887\"], [0.1111111111111111, \"#46039f\"], [0.2222222222222222, \"#7201a8\"], [0.3333333333333333, \"#9c179e\"], [0.4444444444444444, \"#bd3786\"], [0.5555555555555556, \"#d8576b\"], [0.6666666666666666, \"#ed7953\"], [0.7777777777777778, \"#fb9f3a\"], [0.8888888888888888, \"#fdca26\"], [1.0, \"#f0f921\"]], \"type\": \"histogram2d\"}], \"histogram2dcontour\": [{\"colorbar\": {\"outlinewidth\": 0, \"ticks\": \"\"}, \"colorscale\": [[0.0, \"#0d0887\"], [0.1111111111111111, \"#46039f\"], [0.2222222222222222, \"#7201a8\"], [0.3333333333333333, \"#9c179e\"], [0.4444444444444444, \"#bd3786\"], [0.5555555555555556, \"#d8576b\"], [0.6666666666666666, \"#ed7953\"], [0.7777777777777778, \"#fb9f3a\"], [0.8888888888888888, \"#fdca26\"], [1.0, \"#f0f921\"]], \"type\": \"histogram2dcontour\"}], \"mesh3d\": [{\"colorbar\": {\"outlinewidth\": 0, \"ticks\": \"\"}, \"type\": \"mesh3d\"}], \"parcoords\": [{\"line\": {\"colorbar\": {\"outlinewidth\": 0, \"ticks\": \"\"}}, \"type\": \"parcoords\"}], \"pie\": [{\"automargin\": true, \"type\": \"pie\"}], \"scatter\": [{\"marker\": {\"colorbar\": {\"outlinewidth\": 0, \"ticks\": \"\"}}, \"type\": \"scatter\"}], \"scatter3d\": [{\"line\": {\"colorbar\": {\"outlinewidth\": 0, \"ticks\": \"\"}}, \"marker\": {\"colorbar\": {\"outlinewidth\": 0, \"ticks\": \"\"}}, \"type\": \"scatter3d\"}], \"scattercarpet\": [{\"marker\": {\"colorbar\": {\"outlinewidth\": 0, \"ticks\": \"\"}}, \"type\": \"scattercarpet\"}], \"scattergeo\": [{\"marker\": {\"colorbar\": {\"outlinewidth\": 0, \"ticks\": \"\"}}, \"type\": \"scattergeo\"}], \"scattergl\": [{\"marker\": {\"colorbar\": {\"outlinewidth\": 0, \"ticks\": \"\"}}, \"type\": \"scattergl\"}], \"scattermapbox\": [{\"marker\": {\"colorbar\": {\"outlinewidth\": 0, \"ticks\": \"\"}}, \"type\": \"scattermapbox\"}], \"scatterpolar\": [{\"marker\": {\"colorbar\": {\"outlinewidth\": 0, \"ticks\": \"\"}}, \"type\": \"scatterpolar\"}], \"scatterpolargl\": [{\"marker\": {\"colorbar\": {\"outlinewidth\": 0, \"ticks\": \"\"}}, \"type\": \"scatterpolargl\"}], \"scatterternary\": [{\"marker\": {\"colorbar\": {\"outlinewidth\": 0, \"ticks\": \"\"}}, \"type\": \"scatterternary\"}], \"surface\": [{\"colorbar\": {\"outlinewidth\": 0, \"ticks\": \"\"}, \"colorscale\": [[0.0, \"#0d0887\"], [0.1111111111111111, \"#46039f\"], [0.2222222222222222, \"#7201a8\"], [0.3333333333333333, \"#9c179e\"], [0.4444444444444444, \"#bd3786\"], [0.5555555555555556, \"#d8576b\"], [0.6666666666666666, \"#ed7953\"], [0.7777777777777778, \"#fb9f3a\"], [0.8888888888888888, \"#fdca26\"], [1.0, \"#f0f921\"]], \"type\": \"surface\"}], \"table\": [{\"cells\": {\"fill\": {\"color\": \"#EBF0F8\"}, \"line\": {\"color\": \"white\"}}, \"header\": {\"fill\": {\"color\": \"#C8D4E3\"}, \"line\": {\"color\": \"white\"}}, \"type\": \"table\"}]}, \"layout\": {\"annotationdefaults\": {\"arrowcolor\": \"#2a3f5f\", \"arrowhead\": 0, \"arrowwidth\": 1}, \"autotypenumbers\": \"strict\", \"coloraxis\": {\"colorbar\": {\"outlinewidth\": 0, \"ticks\": \"\"}}, \"colorscale\": {\"diverging\": [[0, \"#8e0152\"], [0.1, \"#c51b7d\"], [0.2, \"#de77ae\"], [0.3, \"#f1b6da\"], [0.4, \"#fde0ef\"], [0.5, \"#f7f7f7\"], [0.6, \"#e6f5d0\"], [0.7, \"#b8e186\"], [0.8, \"#7fbc41\"], [0.9, \"#4d9221\"], [1, \"#276419\"]], \"sequential\": [[0.0, \"#0d0887\"], [0.1111111111111111, \"#46039f\"], [0.2222222222222222, \"#7201a8\"], [0.3333333333333333, \"#9c179e\"], [0.4444444444444444, \"#bd3786\"], [0.5555555555555556, \"#d8576b\"], [0.6666666666666666, \"#ed7953\"], [0.7777777777777778, \"#fb9f3a\"], [0.8888888888888888, \"#fdca26\"], [1.0, \"#f0f921\"]], \"sequentialminus\": [[0.0, \"#0d0887\"], [0.1111111111111111, \"#46039f\"], [0.2222222222222222, \"#7201a8\"], [0.3333333333333333, \"#9c179e\"], [0.4444444444444444, \"#bd3786\"], [0.5555555555555556, \"#d8576b\"], [0.6666666666666666, \"#ed7953\"], [0.7777777777777778, \"#fb9f3a\"], [0.8888888888888888, \"#fdca26\"], [1.0, \"#f0f921\"]]}, \"colorway\": [\"#636efa\", \"#EF553B\", \"#00cc96\", \"#ab63fa\", \"#FFA15A\", \"#19d3f3\", \"#FF6692\", \"#B6E880\", \"#FF97FF\", \"#FECB52\"], \"font\": {\"color\": \"#2a3f5f\"}, \"geo\": {\"bgcolor\": \"white\", \"lakecolor\": \"white\", \"landcolor\": \"#E5ECF6\", \"showlakes\": true, \"showland\": true, \"subunitcolor\": \"white\"}, \"hoverlabel\": {\"align\": \"left\"}, \"hovermode\": \"closest\", \"mapbox\": {\"style\": \"light\"}, \"paper_bgcolor\": \"white\", \"plot_bgcolor\": \"#E5ECF6\", \"polar\": {\"angularaxis\": {\"gridcolor\": \"white\", \"linecolor\": \"white\", \"ticks\": \"\"}, \"bgcolor\": \"#E5ECF6\", \"radialaxis\": {\"gridcolor\": \"white\", \"linecolor\": \"white\", \"ticks\": \"\"}}, \"scene\": {\"xaxis\": {\"backgroundcolor\": \"#E5ECF6\", \"gridcolor\": \"white\", \"gridwidth\": 2, \"linecolor\": \"white\", \"showbackground\": true, \"ticks\": \"\", \"zerolinecolor\": \"white\"}, \"yaxis\": {\"backgroundcolor\": \"#E5ECF6\", \"gridcolor\": \"white\", \"gridwidth\": 2, \"linecolor\": \"white\", \"showbackground\": true, \"ticks\": \"\", \"zerolinecolor\": \"white\"}, \"zaxis\": {\"backgroundcolor\": \"#E5ECF6\", \"gridcolor\": \"white\", \"gridwidth\": 2, \"linecolor\": \"white\", \"showbackground\": true, \"ticks\": \"\", \"zerolinecolor\": \"white\"}}, \"shapedefaults\": {\"line\": {\"color\": \"#2a3f5f\"}}, \"ternary\": {\"aaxis\": {\"gridcolor\": \"white\", \"linecolor\": \"white\", \"ticks\": \"\"}, \"baxis\": {\"gridcolor\": \"white\", \"linecolor\": \"white\", \"ticks\": \"\"}, \"bgcolor\": \"#E5ECF6\", \"caxis\": {\"gridcolor\": \"white\", \"linecolor\": \"white\", \"ticks\": \"\"}}, \"title\": {\"x\": 0.05}, \"xaxis\": {\"automargin\": true, \"gridcolor\": \"white\", \"linecolor\": \"white\", \"ticks\": \"\", \"title\": {\"standoff\": 15}, \"zerolinecolor\": \"white\", \"zerolinewidth\": 2}, \"yaxis\": {\"automargin\": true, \"gridcolor\": \"white\", \"linecolor\": \"white\", \"ticks\": \"\", \"title\": {\"standoff\": 15}, \"zerolinecolor\": \"white\", \"zerolinewidth\": 2}}}},                        {\"responsive\": true}                    ).then(function(){\n",
       "                            \n",
       "var gd = document.getElementById('98bd214b-6698-464a-b29f-bac75c9c51a1');\n",
       "var x = new MutationObserver(function (mutations, observer) {{\n",
       "        var display = window.getComputedStyle(gd).display;\n",
       "        if (!display || display === 'none') {{\n",
       "            console.log([gd, 'removed!']);\n",
       "            Plotly.purge(gd);\n",
       "            observer.disconnect();\n",
       "        }}\n",
       "}});\n",
       "\n",
       "// Listen for the removal of the full notebook cells\n",
       "var notebookContainer = gd.closest('#notebook-container');\n",
       "if (notebookContainer) {{\n",
       "    x.observe(notebookContainer, {childList: true});\n",
       "}}\n",
       "\n",
       "// Listen for the clearing of the current output cell\n",
       "var outputEl = gd.closest('.output');\n",
       "if (outputEl) {{\n",
       "    x.observe(outputEl, {childList: true});\n",
       "}}\n",
       "\n",
       "                        })                };                });            </script>        </div>"
      ]
     },
     "metadata": {},
     "output_type": "display_data"
    }
   ],
   "source": [
    "import plotly.express as px\n",
    "color_col = 'city'\n",
    "data = airbnb_df[~airbnb_df[color_col].isna()].sample(300)\n",
    "fig = px.scatter_geo(\n",
    "    data, lat=data.latitude, lon=data.longitude, color=data[color_col]\n",
    "    )\n",
    "fig.update_geos(fitbounds=\"locations\")\n",
    "fig.show()"
   ]
  },
  {
   "cell_type": "code",
   "execution_count": 268,
   "metadata": {},
   "outputs": [],
   "source": [
    "relevant_cols = ['price', 'weekly_price', 'monthly_price', 'zipcode']\n",
    "## Option 2\n",
    "# Pass as argument name the new name of the column, and as value a tuple where\n",
    "# the first value is the original column and the second value is the operation.\n",
    "airbnb_price_by_zipcode = airbnb_df[relevant_cols].groupby('zipcode')\\\n",
    "   .agg(airbnb_record_count=('price', 'count'),\n",
    "        airbnb_price_mean=('price', 'mean'),\n",
    "        airbnb_weekly_price_mean=('weekly_price', 'mean'),\n",
    "        airbnb_monthly_price_mean=('monthly_price', 'mean'))\\\n",
    "   .reset_index()\n"
   ]
  },
  {
   "cell_type": "code",
   "execution_count": 270,
   "metadata": {},
   "outputs": [
    {
     "data": {
      "text/html": [
       "<div>\n",
       "<style scoped>\n",
       "    .dataframe tbody tr th:only-of-type {\n",
       "        vertical-align: middle;\n",
       "    }\n",
       "\n",
       "    .dataframe tbody tr th {\n",
       "        vertical-align: top;\n",
       "    }\n",
       "\n",
       "    .dataframe thead th {\n",
       "        text-align: right;\n",
       "    }\n",
       "</style>\n",
       "<table border=\"1\" class=\"dataframe\">\n",
       "  <thead>\n",
       "    <tr style=\"text-align: right;\">\n",
       "      <th></th>\n",
       "      <th>zipcode</th>\n",
       "      <th>airbnb_record_count</th>\n",
       "      <th>airbnb_price_mean</th>\n",
       "      <th>airbnb_weekly_price_mean</th>\n",
       "      <th>airbnb_monthly_price_mean</th>\n",
       "    </tr>\n",
       "  </thead>\n",
       "  <tbody>\n",
       "    <tr>\n",
       "      <th>0</th>\n",
       "      <td>2010.0</td>\n",
       "      <td>1</td>\n",
       "      <td>40.000000</td>\n",
       "      <td>NaN</td>\n",
       "      <td>NaN</td>\n",
       "    </tr>\n",
       "    <tr>\n",
       "      <th>1</th>\n",
       "      <td>2134.0</td>\n",
       "      <td>1</td>\n",
       "      <td>50.000000</td>\n",
       "      <td>NaN</td>\n",
       "      <td>NaN</td>\n",
       "    </tr>\n",
       "    <tr>\n",
       "      <th>2</th>\n",
       "      <td>2582.0</td>\n",
       "      <td>1</td>\n",
       "      <td>104.000000</td>\n",
       "      <td>NaN</td>\n",
       "      <td>NaN</td>\n",
       "    </tr>\n",
       "    <tr>\n",
       "      <th>3</th>\n",
       "      <td>3000.0</td>\n",
       "      <td>3367</td>\n",
       "      <td>150.504307</td>\n",
       "      <td>918.738956</td>\n",
       "      <td>3407.204651</td>\n",
       "    </tr>\n",
       "    <tr>\n",
       "      <th>4</th>\n",
       "      <td>3001.0</td>\n",
       "      <td>2</td>\n",
       "      <td>132.500000</td>\n",
       "      <td>NaN</td>\n",
       "      <td>NaN</td>\n",
       "    </tr>\n",
       "    <tr>\n",
       "      <th>5</th>\n",
       "      <td>3002.0</td>\n",
       "      <td>197</td>\n",
       "      <td>200.979695</td>\n",
       "      <td>956.379310</td>\n",
       "      <td>3712.714286</td>\n",
       "    </tr>\n",
       "    <tr>\n",
       "      <th>6</th>\n",
       "      <td>3003.0</td>\n",
       "      <td>267</td>\n",
       "      <td>130.205993</td>\n",
       "      <td>760.200000</td>\n",
       "      <td>2629.500000</td>\n",
       "    </tr>\n",
       "    <tr>\n",
       "      <th>7</th>\n",
       "      <td>3004.0</td>\n",
       "      <td>728</td>\n",
       "      <td>158.271978</td>\n",
       "      <td>1061.171429</td>\n",
       "      <td>3759.925926</td>\n",
       "    </tr>\n",
       "    <tr>\n",
       "      <th>8</th>\n",
       "      <td>3006.0</td>\n",
       "      <td>1268</td>\n",
       "      <td>188.851735</td>\n",
       "      <td>1239.827273</td>\n",
       "      <td>4358.556701</td>\n",
       "    </tr>\n",
       "    <tr>\n",
       "      <th>9</th>\n",
       "      <td>3008.0</td>\n",
       "      <td>616</td>\n",
       "      <td>177.011364</td>\n",
       "      <td>1025.275862</td>\n",
       "      <td>3222.833333</td>\n",
       "    </tr>\n",
       "  </tbody>\n",
       "</table>\n",
       "</div>"
      ],
      "text/plain": [
       "   zipcode  airbnb_record_count  airbnb_price_mean  airbnb_weekly_price_mean  \\\n",
       "0   2010.0                    1          40.000000                       NaN   \n",
       "1   2134.0                    1          50.000000                       NaN   \n",
       "2   2582.0                    1         104.000000                       NaN   \n",
       "3   3000.0                 3367         150.504307                918.738956   \n",
       "4   3001.0                    2         132.500000                       NaN   \n",
       "5   3002.0                  197         200.979695                956.379310   \n",
       "6   3003.0                  267         130.205993                760.200000   \n",
       "7   3004.0                  728         158.271978               1061.171429   \n",
       "8   3006.0                 1268         188.851735               1239.827273   \n",
       "9   3008.0                  616         177.011364               1025.275862   \n",
       "\n",
       "   airbnb_monthly_price_mean  \n",
       "0                        NaN  \n",
       "1                        NaN  \n",
       "2                        NaN  \n",
       "3                3407.204651  \n",
       "4                        NaN  \n",
       "5                3712.714286  \n",
       "6                2629.500000  \n",
       "7                3759.925926  \n",
       "8                4358.556701  \n",
       "9                3222.833333  "
      ]
     },
     "execution_count": 270,
     "metadata": {},
     "output_type": "execute_result"
    }
   ],
   "source": [
    "airbnb_price_by_zipcode[:10]"
   ]
  },
  {
   "cell_type": "code",
   "execution_count": 271,
   "metadata": {},
   "outputs": [
    {
     "data": {
      "text/html": [
       "<div>\n",
       "<style scoped>\n",
       "    .dataframe tbody tr th:only-of-type {\n",
       "        vertical-align: middle;\n",
       "    }\n",
       "\n",
       "    .dataframe tbody tr th {\n",
       "        vertical-align: top;\n",
       "    }\n",
       "\n",
       "    .dataframe thead th {\n",
       "        text-align: right;\n",
       "    }\n",
       "</style>\n",
       "<table border=\"1\" class=\"dataframe\">\n",
       "  <thead>\n",
       "    <tr style=\"text-align: right;\">\n",
       "      <th></th>\n",
       "      <th>Rooms</th>\n",
       "      <th>Type</th>\n",
       "      <th>Price</th>\n",
       "      <th>Suburb</th>\n",
       "      <th>Date</th>\n",
       "      <th>Distance</th>\n",
       "      <th>Postcode</th>\n",
       "      <th>Lattitude</th>\n",
       "      <th>Longtitude</th>\n",
       "      <th>Bathroom</th>\n",
       "      <th>...</th>\n",
       "      <th>BuildingArea</th>\n",
       "      <th>YearBuilt</th>\n",
       "      <th>Regionname</th>\n",
       "      <th>Propertycount</th>\n",
       "      <th>date</th>\n",
       "      <th>zipcode</th>\n",
       "      <th>airbnb_record_count</th>\n",
       "      <th>airbnb_price_mean</th>\n",
       "      <th>airbnb_weekly_price_mean</th>\n",
       "      <th>airbnb_monthly_price_mean</th>\n",
       "    </tr>\n",
       "  </thead>\n",
       "  <tbody>\n",
       "    <tr>\n",
       "      <th>10393</th>\n",
       "      <td>2</td>\n",
       "      <td>u</td>\n",
       "      <td>709500.0</td>\n",
       "      <td>Yarraville</td>\n",
       "      <td>27/05/2017</td>\n",
       "      <td>6.3</td>\n",
       "      <td>3013.0</td>\n",
       "      <td>-37.81133</td>\n",
       "      <td>144.89553</td>\n",
       "      <td>1.0</td>\n",
       "      <td>...</td>\n",
       "      <td>80.0</td>\n",
       "      <td>1970.0</td>\n",
       "      <td>Western Metropolitan</td>\n",
       "      <td>6543.0</td>\n",
       "      <td>2017-05-27</td>\n",
       "      <td>3013.0</td>\n",
       "      <td>82.0</td>\n",
       "      <td>135.609756</td>\n",
       "      <td>923.571429</td>\n",
       "      <td>2966.090909</td>\n",
       "    </tr>\n",
       "    <tr>\n",
       "      <th>10985</th>\n",
       "      <td>2</td>\n",
       "      <td>h</td>\n",
       "      <td>1310000.0</td>\n",
       "      <td>Prahran</td>\n",
       "      <td>12/08/2017</td>\n",
       "      <td>4.6</td>\n",
       "      <td>3181.0</td>\n",
       "      <td>-37.85083</td>\n",
       "      <td>144.99092</td>\n",
       "      <td>2.0</td>\n",
       "      <td>...</td>\n",
       "      <td>NaN</td>\n",
       "      <td>NaN</td>\n",
       "      <td>Southern Metropolitan</td>\n",
       "      <td>7717.0</td>\n",
       "      <td>2017-12-08</td>\n",
       "      <td>3181.0</td>\n",
       "      <td>460.0</td>\n",
       "      <td>148.169565</td>\n",
       "      <td>868.148148</td>\n",
       "      <td>3304.382353</td>\n",
       "    </tr>\n",
       "    <tr>\n",
       "      <th>3001</th>\n",
       "      <td>2</td>\n",
       "      <td>u</td>\n",
       "      <td>896000.0</td>\n",
       "      <td>Hampton</td>\n",
       "      <td>19/11/2016</td>\n",
       "      <td>13.7</td>\n",
       "      <td>3188.0</td>\n",
       "      <td>-37.94480</td>\n",
       "      <td>145.01860</td>\n",
       "      <td>2.0</td>\n",
       "      <td>...</td>\n",
       "      <td>NaN</td>\n",
       "      <td>NaN</td>\n",
       "      <td>Southern Metropolitan</td>\n",
       "      <td>5454.0</td>\n",
       "      <td>2016-11-19</td>\n",
       "      <td>3188.0</td>\n",
       "      <td>71.0</td>\n",
       "      <td>245.112676</td>\n",
       "      <td>1273.600000</td>\n",
       "      <td>4694.555556</td>\n",
       "    </tr>\n",
       "    <tr>\n",
       "      <th>7152</th>\n",
       "      <td>5</td>\n",
       "      <td>h</td>\n",
       "      <td>1030000.0</td>\n",
       "      <td>West Footscray</td>\n",
       "      <td>30/07/2016</td>\n",
       "      <td>8.2</td>\n",
       "      <td>3012.0</td>\n",
       "      <td>-37.79080</td>\n",
       "      <td>144.87110</td>\n",
       "      <td>2.0</td>\n",
       "      <td>...</td>\n",
       "      <td>NaN</td>\n",
       "      <td>NaN</td>\n",
       "      <td>Western Metropolitan</td>\n",
       "      <td>5058.0</td>\n",
       "      <td>2016-07-30</td>\n",
       "      <td>3012.0</td>\n",
       "      <td>76.0</td>\n",
       "      <td>112.631579</td>\n",
       "      <td>518.000000</td>\n",
       "      <td>2335.000000</td>\n",
       "    </tr>\n",
       "    <tr>\n",
       "      <th>8541</th>\n",
       "      <td>3</td>\n",
       "      <td>t</td>\n",
       "      <td>1320000.0</td>\n",
       "      <td>Toorak</td>\n",
       "      <td>29/04/2017</td>\n",
       "      <td>4.6</td>\n",
       "      <td>3142.0</td>\n",
       "      <td>-37.84740</td>\n",
       "      <td>145.01250</td>\n",
       "      <td>2.0</td>\n",
       "      <td>...</td>\n",
       "      <td>131.0</td>\n",
       "      <td>1970.0</td>\n",
       "      <td>Southern Metropolitan</td>\n",
       "      <td>7217.0</td>\n",
       "      <td>2017-04-29</td>\n",
       "      <td>3142.0</td>\n",
       "      <td>118.0</td>\n",
       "      <td>244.500000</td>\n",
       "      <td>1168.823529</td>\n",
       "      <td>4471.833333</td>\n",
       "    </tr>\n",
       "  </tbody>\n",
       "</table>\n",
       "<p>5 rows × 22 columns</p>\n",
       "</div>"
      ],
      "text/plain": [
       "       Rooms Type      Price          Suburb        Date  Distance  Postcode  \\\n",
       "10393      2    u   709500.0      Yarraville  27/05/2017       6.3    3013.0   \n",
       "10985      2    h  1310000.0         Prahran  12/08/2017       4.6    3181.0   \n",
       "3001       2    u   896000.0         Hampton  19/11/2016      13.7    3188.0   \n",
       "7152       5    h  1030000.0  West Footscray  30/07/2016       8.2    3012.0   \n",
       "8541       3    t  1320000.0          Toorak  29/04/2017       4.6    3142.0   \n",
       "\n",
       "       Lattitude  Longtitude  Bathroom  ...  BuildingArea  YearBuilt  \\\n",
       "10393  -37.81133   144.89553       1.0  ...          80.0     1970.0   \n",
       "10985  -37.85083   144.99092       2.0  ...           NaN        NaN   \n",
       "3001   -37.94480   145.01860       2.0  ...           NaN        NaN   \n",
       "7152   -37.79080   144.87110       2.0  ...           NaN        NaN   \n",
       "8541   -37.84740   145.01250       2.0  ...         131.0     1970.0   \n",
       "\n",
       "                  Regionname  Propertycount       date  zipcode  \\\n",
       "10393   Western Metropolitan         6543.0 2017-05-27   3013.0   \n",
       "10985  Southern Metropolitan         7717.0 2017-12-08   3181.0   \n",
       "3001   Southern Metropolitan         5454.0 2016-11-19   3188.0   \n",
       "7152    Western Metropolitan         5058.0 2016-07-30   3012.0   \n",
       "8541   Southern Metropolitan         7217.0 2017-04-29   3142.0   \n",
       "\n",
       "      airbnb_record_count  airbnb_price_mean  airbnb_weekly_price_mean  \\\n",
       "10393                82.0         135.609756                923.571429   \n",
       "10985               460.0         148.169565                868.148148   \n",
       "3001                 71.0         245.112676               1273.600000   \n",
       "7152                 76.0         112.631579                518.000000   \n",
       "8541                118.0         244.500000               1168.823529   \n",
       "\n",
       "       airbnb_monthly_price_mean  \n",
       "10393                2966.090909  \n",
       "10985                3304.382353  \n",
       "3001                 4694.555556  \n",
       "7152                 2335.000000  \n",
       "8541                 4471.833333  \n",
       "\n",
       "[5 rows x 22 columns]"
      ]
     },
     "execution_count": 271,
     "metadata": {},
     "output_type": "execute_result"
    }
   ],
   "source": [
    "merged_sales_df = df_filtrado.merge(\n",
    "    airbnb_price_by_zipcode, how='left',\n",
    "    left_on='Postcode', right_on='zipcode'\n",
    ")\n",
    "merged_sales_df.sample(5)"
   ]
  },
  {
   "cell_type": "code",
   "execution_count": null,
   "metadata": {},
   "outputs": [],
   "source": []
  }
 ],
 "metadata": {
  "kernelspec": {
   "display_name": "Python 3",
   "language": "python",
   "name": "python3"
  },
  "language_info": {
   "codemirror_mode": {
    "name": "ipython",
    "version": 3
   },
   "file_extension": ".py",
   "mimetype": "text/x-python",
   "name": "python",
   "nbconvert_exporter": "python",
   "pygments_lexer": "ipython3",
   "version": "3.8.5"
  }
 },
 "nbformat": 4,
 "nbformat_minor": 4
}
