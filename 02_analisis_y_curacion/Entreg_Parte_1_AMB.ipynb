{
 "cells": [
  {
   "cell_type": "markdown",
   "metadata": {
    "colab_type": "text",
    "id": "view-in-github"
   },
   "source": [
    "<a href=\"https://colab.research.google.com/github/DiploDatos/AnalisisYCuracion/blob/master/Entregable_Parte_1.ipynb\" target=\"_parent\"><img src=\"https://colab.research.google.com/assets/colab-badge.svg\" alt=\"Open In Colab\"/></a>"
   ]
  },
  {
   "cell_type": "markdown",
   "metadata": {
    "id": "zO4bRoxr2Apy"
   },
   "source": [
    "**Diplomatura en Ciencia de Datos, Aprendizaje Automático y sus Aplicaciones**\n",
    "\n",
    "**Exploración y Curación de Datos**\n",
    "\n",
    "*Edición 2021*\n",
    "\n",
    "----\n",
    "\n",
    "# Trabajo práctico entregable - parte 1\n",
    "\n",
    "En esta notebook, vamos a cargar el conjunto de datos de [la compentencia Kaggle](https://www.kaggle.com/dansbecker/melbourne-housing-snapshot) sobre estimación de precios de ventas de propiedades en Melbourne, Australia.\n",
    "\n",
    "Utilizaremos el conjunto de datos reducido producido por [DanB](https://www.kaggle.com/dansbecker). Hemos subido una copia a un servidor de la Universidad Nacional de Córdoba para facilitar su acceso remoto."
   ]
  },
  {
   "cell_type": "code",
   "execution_count": 69,
   "metadata": {
    "id": "4udjxjk1EtVU"
   },
   "outputs": [],
   "source": [
    "import matplotlib.pyplot as plt\n",
    "import numpy\n",
    "import pandas\n",
    "\n",
    "import seaborn\n",
    "seaborn.set_context('talk')"
   ]
  },
  {
   "cell_type": "code",
   "execution_count": 70,
   "metadata": {
    "colab": {
     "base_uri": "https://localhost:8080/",
     "height": 35
    },
    "id": "3XdIsB8hISis",
    "outputId": "c39e190a-7927-4b61-beca-d19d0bf49952"
   },
   "outputs": [
    {
     "data": {
      "text/plain": [
       "'4.14.3'"
      ]
     },
     "execution_count": 70,
     "metadata": {},
     "output_type": "execute_result"
    }
   ],
   "source": [
    "import plotly\n",
    "plotly.__version__\n",
    "# Make sure it's 4.14.3"
   ]
  },
  {
   "cell_type": "code",
   "execution_count": 71,
   "metadata": {
    "id": "i2nqY0GGIVn2"
   },
   "outputs": [],
   "source": [
    "# To update plotly, uncomment and run the following line:\n",
    "# !pip install plotly --upgrade"
   ]
  },
  {
   "cell_type": "code",
   "execution_count": 72,
   "metadata": {
    "colab": {
     "base_uri": "https://localhost:8080/",
     "height": 230
    },
    "id": "_qeFN3GnEvMk",
    "outputId": "3e60f707-5e77-45e0-aaf9-057993f0806c"
   },
   "outputs": [
    {
     "data": {
      "text/html": [
       "<div>\n",
       "<style scoped>\n",
       "    .dataframe tbody tr th:only-of-type {\n",
       "        vertical-align: middle;\n",
       "    }\n",
       "\n",
       "    .dataframe tbody tr th {\n",
       "        vertical-align: top;\n",
       "    }\n",
       "\n",
       "    .dataframe thead th {\n",
       "        text-align: right;\n",
       "    }\n",
       "</style>\n",
       "<table border=\"1\" class=\"dataframe\">\n",
       "  <thead>\n",
       "    <tr style=\"text-align: right;\">\n",
       "      <th></th>\n",
       "      <th>Suburb</th>\n",
       "      <th>Address</th>\n",
       "      <th>Rooms</th>\n",
       "      <th>Type</th>\n",
       "      <th>Price</th>\n",
       "      <th>Method</th>\n",
       "      <th>SellerG</th>\n",
       "      <th>Date</th>\n",
       "      <th>Distance</th>\n",
       "      <th>Postcode</th>\n",
       "      <th>...</th>\n",
       "      <th>Bathroom</th>\n",
       "      <th>Car</th>\n",
       "      <th>Landsize</th>\n",
       "      <th>BuildingArea</th>\n",
       "      <th>YearBuilt</th>\n",
       "      <th>CouncilArea</th>\n",
       "      <th>Lattitude</th>\n",
       "      <th>Longtitude</th>\n",
       "      <th>Regionname</th>\n",
       "      <th>Propertycount</th>\n",
       "    </tr>\n",
       "  </thead>\n",
       "  <tbody>\n",
       "    <tr>\n",
       "      <th>0</th>\n",
       "      <td>Abbotsford</td>\n",
       "      <td>85 Turner St</td>\n",
       "      <td>2</td>\n",
       "      <td>h</td>\n",
       "      <td>1480000.0</td>\n",
       "      <td>S</td>\n",
       "      <td>Biggin</td>\n",
       "      <td>3/12/2016</td>\n",
       "      <td>2.5</td>\n",
       "      <td>3067.0</td>\n",
       "      <td>...</td>\n",
       "      <td>1.0</td>\n",
       "      <td>1.0</td>\n",
       "      <td>202.0</td>\n",
       "      <td>NaN</td>\n",
       "      <td>NaN</td>\n",
       "      <td>Yarra</td>\n",
       "      <td>-37.7996</td>\n",
       "      <td>144.9984</td>\n",
       "      <td>Northern Metropolitan</td>\n",
       "      <td>4019.0</td>\n",
       "    </tr>\n",
       "    <tr>\n",
       "      <th>1</th>\n",
       "      <td>Abbotsford</td>\n",
       "      <td>25 Bloomburg St</td>\n",
       "      <td>2</td>\n",
       "      <td>h</td>\n",
       "      <td>1035000.0</td>\n",
       "      <td>S</td>\n",
       "      <td>Biggin</td>\n",
       "      <td>4/02/2016</td>\n",
       "      <td>2.5</td>\n",
       "      <td>3067.0</td>\n",
       "      <td>...</td>\n",
       "      <td>1.0</td>\n",
       "      <td>0.0</td>\n",
       "      <td>156.0</td>\n",
       "      <td>79.0</td>\n",
       "      <td>1900.0</td>\n",
       "      <td>Yarra</td>\n",
       "      <td>-37.8079</td>\n",
       "      <td>144.9934</td>\n",
       "      <td>Northern Metropolitan</td>\n",
       "      <td>4019.0</td>\n",
       "    </tr>\n",
       "    <tr>\n",
       "      <th>2</th>\n",
       "      <td>Abbotsford</td>\n",
       "      <td>5 Charles St</td>\n",
       "      <td>3</td>\n",
       "      <td>h</td>\n",
       "      <td>1465000.0</td>\n",
       "      <td>SP</td>\n",
       "      <td>Biggin</td>\n",
       "      <td>4/03/2017</td>\n",
       "      <td>2.5</td>\n",
       "      <td>3067.0</td>\n",
       "      <td>...</td>\n",
       "      <td>2.0</td>\n",
       "      <td>0.0</td>\n",
       "      <td>134.0</td>\n",
       "      <td>150.0</td>\n",
       "      <td>1900.0</td>\n",
       "      <td>Yarra</td>\n",
       "      <td>-37.8093</td>\n",
       "      <td>144.9944</td>\n",
       "      <td>Northern Metropolitan</td>\n",
       "      <td>4019.0</td>\n",
       "    </tr>\n",
       "  </tbody>\n",
       "</table>\n",
       "<p>3 rows × 21 columns</p>\n",
       "</div>"
      ],
      "text/plain": [
       "       Suburb          Address  Rooms Type      Price Method SellerG  \\\n",
       "0  Abbotsford     85 Turner St      2    h  1480000.0      S  Biggin   \n",
       "1  Abbotsford  25 Bloomburg St      2    h  1035000.0      S  Biggin   \n",
       "2  Abbotsford     5 Charles St      3    h  1465000.0     SP  Biggin   \n",
       "\n",
       "        Date  Distance  Postcode  ...  Bathroom  Car  Landsize  BuildingArea  \\\n",
       "0  3/12/2016       2.5    3067.0  ...       1.0  1.0     202.0           NaN   \n",
       "1  4/02/2016       2.5    3067.0  ...       1.0  0.0     156.0          79.0   \n",
       "2  4/03/2017       2.5    3067.0  ...       2.0  0.0     134.0         150.0   \n",
       "\n",
       "   YearBuilt  CouncilArea Lattitude  Longtitude             Regionname  \\\n",
       "0        NaN        Yarra  -37.7996    144.9984  Northern Metropolitan   \n",
       "1     1900.0        Yarra  -37.8079    144.9934  Northern Metropolitan   \n",
       "2     1900.0        Yarra  -37.8093    144.9944  Northern Metropolitan   \n",
       "\n",
       "  Propertycount  \n",
       "0        4019.0  \n",
       "1        4019.0  \n",
       "2        4019.0  \n",
       "\n",
       "[3 rows x 21 columns]"
      ]
     },
     "execution_count": 72,
     "metadata": {},
     "output_type": "execute_result"
    }
   ],
   "source": [
    "melb_df = pandas.read_csv(\n",
    "    'https://cs.famaf.unc.edu.ar/~mteruel/datasets/diplodatos/melb_data.csv')\n",
    "melb_df[:3]"
   ]
  },
  {
   "cell_type": "markdown",
   "metadata": {
    "id": "s-mixICN22kA"
   },
   "source": [
    "## Ejercicio 1: \n",
    "\n",
    "1. Eliminar los valores extremos que no sean relevantes para la predicción de valores de las propiedades.\n",
    "\n",
    "1. Investigar la distribución de las variables del conjunto de datos y seleccionar un subconjunto de columnas que les parezcan relevantes al problema de predicción del valor de la propiedad.\n",
    "  1. Justificar cada columna no seleccionada.\n",
    "  2. Para las variables categóricas seleccionadas, agrupe o combine las categorías poco frecuentes para asegurar que todos los grupos tengan un número mínimo de registros.\n",
    "\n",
    "2. Agregar información adicional respectiva al entorno de una propiedad a partir del [conjunto de datos de AirBnB](https://www.kaggle.com/tylerx/melbourne-airbnb-open-data?select=cleansed_listings_dec18.csv) utilizado en el práctico. \n",
    "  1. Seleccionar qué variables agregar y qué combinaciones aplicar a cada una. Por ejemplo, pueden utilizar solo la columna `price`, o aplicar múltiples transformaciones como la mediana o el mínimo.\n",
    "  1. Utilizar la variable zipcode para unir los conjuntos de datos. Sólo incluir los zipcodes que tengan una cantidad mínima de registros (a elección) como para que la información agregada sea relevante.\n",
    "  2. Investigar al menos otras 2 variables que puedan servir para combinar los datos, y justificar si serían adecuadas o no. Pueden asumir que cuentan con la ayuda de anotadores expertos para encontrar equivalencias entre barrios o direcciones, o que cuentan con algoritmos para encontrar las n ubicaciones más cercanas a una propiedad a partir de sus coordenadas geográficas. **NO** es necesario que realicen la implementación.\n",
    "\n",
    "Pueden leer otras columnas del conjunto de AirBnB además de las que están en `interesting_cols`, si les parecen relevantes.\n"
   ]
  },
  {
   "cell_type": "code",
   "execution_count": 73,
   "metadata": {
    "colab": {
     "base_uri": "https://localhost:8080/"
    },
    "id": "k3Z2vxNHJfJK",
    "outputId": "8172a876-5781-4eeb-b170-36fe76369585"
   },
   "outputs": [
    {
     "name": "stderr",
     "output_type": "stream",
     "text": [
      "/home/ariel/anaconda3/lib/python3.8/site-packages/IPython/core/interactiveshell.py:3146: DtypeWarning: Columns (35) have mixed types.Specify dtype option on import or set low_memory=False.\n",
      "  has_raised = await self.run_ast_nodes(code_ast.body, cell_name,\n"
     ]
    }
   ],
   "source": [
    "# data source:\n",
    "# https://www.kaggle.com/tylerx/melbourne-airbnb-open-data?select=cleansed_listings_dec18.csv\n",
    "interesting_cols = [\n",
    "  'description', 'neighborhood_overview',\n",
    "  'street', 'neighborhood', 'city', 'suburb', 'state', 'zipcode',\n",
    "  'price', 'weekly_price', 'monthly_price',\n",
    "  'latitude', 'longitude',\n",
    "]\n",
    "airbnb_df = pandas.read_csv(\n",
    "    'https://cs.famaf.unc.edu.ar/~mteruel/datasets/diplodatos/cleansed_listings_dec18.csv',\n",
    "    usecols=interesting_cols)"
   ]
  },
  {
   "cell_type": "code",
   "execution_count": 74,
   "metadata": {
    "colab": {
     "base_uri": "https://localhost:8080/",
     "height": 317
    },
    "id": "bc55TFlhF6tP",
    "outputId": "8918f899-b5f6-4d94-e9fe-2f5cc46467e3"
   },
   "outputs": [
    {
     "data": {
      "text/html": [
       "<div>\n",
       "<style scoped>\n",
       "    .dataframe tbody tr th:only-of-type {\n",
       "        vertical-align: middle;\n",
       "    }\n",
       "\n",
       "    .dataframe tbody tr th {\n",
       "        vertical-align: top;\n",
       "    }\n",
       "\n",
       "    .dataframe thead th {\n",
       "        text-align: right;\n",
       "    }\n",
       "</style>\n",
       "<table border=\"1\" class=\"dataframe\">\n",
       "  <thead>\n",
       "    <tr style=\"text-align: right;\">\n",
       "      <th></th>\n",
       "      <th>description</th>\n",
       "      <th>neighborhood_overview</th>\n",
       "      <th>street</th>\n",
       "      <th>neighborhood</th>\n",
       "      <th>city</th>\n",
       "      <th>suburb</th>\n",
       "      <th>state</th>\n",
       "      <th>zipcode</th>\n",
       "      <th>latitude</th>\n",
       "      <th>longitude</th>\n",
       "      <th>price</th>\n",
       "      <th>weekly_price</th>\n",
       "      <th>monthly_price</th>\n",
       "    </tr>\n",
       "  </thead>\n",
       "  <tbody>\n",
       "    <tr>\n",
       "      <th>0</th>\n",
       "      <td>House: Clean, New, Modern, Quite, Safe. 10Km f...</td>\n",
       "      <td>Very safe! Family oriented. Older age group.</td>\n",
       "      <td>Bulleen, VIC, Australia</td>\n",
       "      <td>Balwyn North</td>\n",
       "      <td>Manningham</td>\n",
       "      <td>Bulleen</td>\n",
       "      <td>VIC</td>\n",
       "      <td>3105</td>\n",
       "      <td>-37.772684</td>\n",
       "      <td>145.092133</td>\n",
       "      <td>60</td>\n",
       "      <td>NaN</td>\n",
       "      <td>NaN</td>\n",
       "    </tr>\n",
       "    <tr>\n",
       "      <th>1</th>\n",
       "      <td>A large air conditioned room with queen spring...</td>\n",
       "      <td>This hip area is a crossroads between two grea...</td>\n",
       "      <td>Brunswick East, VIC, Australia</td>\n",
       "      <td>Brunswick</td>\n",
       "      <td>Moreland</td>\n",
       "      <td>Brunswick East</td>\n",
       "      <td>VIC</td>\n",
       "      <td>3057</td>\n",
       "      <td>-37.766505</td>\n",
       "      <td>144.980736</td>\n",
       "      <td>35</td>\n",
       "      <td>200.0</td>\n",
       "      <td>803.0</td>\n",
       "    </tr>\n",
       "    <tr>\n",
       "      <th>2</th>\n",
       "      <td>RIGHT IN THE HEART OF ST KILDA! It doesn't get...</td>\n",
       "      <td>A stay at our apartment means you can enjoy so...</td>\n",
       "      <td>St Kilda, VIC, Australia</td>\n",
       "      <td>St Kilda</td>\n",
       "      <td>Port Phillip</td>\n",
       "      <td>St Kilda</td>\n",
       "      <td>VIC</td>\n",
       "      <td>3182</td>\n",
       "      <td>-37.859755</td>\n",
       "      <td>144.977369</td>\n",
       "      <td>159</td>\n",
       "      <td>1253.0</td>\n",
       "      <td>4452.0</td>\n",
       "    </tr>\n",
       "  </tbody>\n",
       "</table>\n",
       "</div>"
      ],
      "text/plain": [
       "                                         description  \\\n",
       "0  House: Clean, New, Modern, Quite, Safe. 10Km f...   \n",
       "1  A large air conditioned room with queen spring...   \n",
       "2  RIGHT IN THE HEART OF ST KILDA! It doesn't get...   \n",
       "\n",
       "                               neighborhood_overview  \\\n",
       "0       Very safe! Family oriented. Older age group.   \n",
       "1  This hip area is a crossroads between two grea...   \n",
       "2  A stay at our apartment means you can enjoy so...   \n",
       "\n",
       "                           street  neighborhood          city          suburb  \\\n",
       "0         Bulleen, VIC, Australia  Balwyn North    Manningham         Bulleen   \n",
       "1  Brunswick East, VIC, Australia     Brunswick      Moreland  Brunswick East   \n",
       "2        St Kilda, VIC, Australia      St Kilda  Port Phillip        St Kilda   \n",
       "\n",
       "  state zipcode   latitude   longitude  price  weekly_price  monthly_price  \n",
       "0   VIC    3105 -37.772684  145.092133     60           NaN            NaN  \n",
       "1   VIC    3057 -37.766505  144.980736     35         200.0          803.0  \n",
       "2   VIC    3182 -37.859755  144.977369    159        1253.0         4452.0  "
      ]
     },
     "execution_count": 74,
     "metadata": {},
     "output_type": "execute_result"
    }
   ],
   "source": [
    "airbnb_df[:3]"
   ]
  },
  {
   "cell_type": "code",
   "execution_count": 75,
   "metadata": {},
   "outputs": [
    {
     "data": {
      "text/plain": [
       "Index(['description', 'neighborhood_overview', 'street', 'neighborhood',\n",
       "       'city', 'suburb', 'state', 'zipcode', 'latitude', 'longitude', 'price',\n",
       "       'weekly_price', 'monthly_price'],\n",
       "      dtype='object')"
      ]
     },
     "execution_count": 75,
     "metadata": {},
     "output_type": "execute_result"
    }
   ],
   "source": [
    "airbnb_df.columns"
   ]
  },
  {
   "cell_type": "markdown",
   "metadata": {},
   "source": [
    "# 1\n",
    "\n",
    "Eliminar los valores extremos que no sean relevantes para la predicción de valores de las propiedades"
   ]
  },
  {
   "cell_type": "code",
   "execution_count": 76,
   "metadata": {},
   "outputs": [
    {
     "data": {
      "text/plain": [
       "<AxesSubplot:xlabel='Price'>"
      ]
     },
     "execution_count": 76,
     "metadata": {},
     "output_type": "execute_result"
    },
    {
     "data": {
      "image/png": "[encoded data removed]",
      "text/plain": [
       "<Figure size 432x288 with 1 Axes>"
      ]
     },
     "metadata": {
      "needs_background": "light"
     },
     "output_type": "display_data"
    }
   ],
   "source": [
    "#realizamos distintos boxplots de las variables numericas para identificar los outliers\n",
    "seaborn.boxplot(data=melb_df, x='Price')"
   ]
  },
  {
   "cell_type": "code",
   "execution_count": 77,
   "metadata": {},
   "outputs": [
    {
     "data": {
      "text/plain": [
       "<AxesSubplot:xlabel='Propertycount'>"
      ]
     },
     "execution_count": 77,
     "metadata": {},
     "output_type": "execute_result"
    },
    {
     "data": {
      "image/png": "[encoded data removed]",
      "text/plain": [
       "<Figure size 432x288 with 1 Axes>"
      ]
     },
     "metadata": {
      "needs_background": "light"
     },
     "output_type": "display_data"
    }
   ],
   "source": [
    "seaborn.boxplot(data=melb_df, x='Propertycount')"
   ]
  },
  {
   "cell_type": "code",
   "execution_count": 78,
   "metadata": {},
   "outputs": [
    {
     "data": {
      "text/plain": [
       "<AxesSubplot:xlabel='Rooms'>"
      ]
     },
     "execution_count": 78,
     "metadata": {},
     "output_type": "execute_result"
    },
    {
     "data": {
      "image/png": "[encoded data removed]",
      "text/plain": [
       "<Figure size 432x288 with 1 Axes>"
      ]
     },
     "metadata": {
      "needs_background": "light"
     },
     "output_type": "display_data"
    }
   ],
   "source": [
    "seaborn.boxplot(data=melb_df, x='Rooms')"
   ]
  },
  {
   "cell_type": "code",
   "execution_count": 79,
   "metadata": {},
   "outputs": [
    {
     "data": {
      "text/plain": [
       "<AxesSubplot:xlabel='Bathroom'>"
      ]
     },
     "execution_count": 79,
     "metadata": {},
     "output_type": "execute_result"
    },
    {
     "data": {
      "image/png": "[encoded data removed]",
      "text/plain": [
       "<Figure size 432x288 with 1 Axes>"
      ]
     },
     "metadata": {
      "needs_background": "light"
     },
     "output_type": "display_data"
    }
   ],
   "source": [
    "seaborn.boxplot(data=melb_df, x='Bathroom')"
   ]
  },
  {
   "cell_type": "code",
   "execution_count": 80,
   "metadata": {},
   "outputs": [
    {
     "data": {
      "text/plain": [
       "<AxesSubplot:xlabel='Car'>"
      ]
     },
     "execution_count": 80,
     "metadata": {},
     "output_type": "execute_result"
    },
    {
     "data": {
      "image/png": "[encoded data removed]",
      "text/plain": [
       "<Figure size 432x288 with 1 Axes>"
      ]
     },
     "metadata": {
      "needs_background": "light"
     },
     "output_type": "display_data"
    }
   ],
   "source": [
    "seaborn.boxplot(data=melb_df, x='Car')"
   ]
  },
  {
   "cell_type": "code",
   "execution_count": 81,
   "metadata": {},
   "outputs": [],
   "source": [
    "def remove_outlier(df_in, col_name, iqr_factor):\n",
    "    \"\"\"\n",
    "  IQR outliers removal (https://machinelearningmastery.com/how-to-use-statistics-to-identify-outliers-in-data/)\n",
    "  accept a dataframe, remove outliers, return cleaned data in a new dataframe\n",
    "  see http://www.itl.nist.gov/div898/handbook/prc/section1/prc16.htm\n",
    "  \"\"\"\n",
    "    q1 = df_in[col_name].quantile(0.25)\n",
    "    q3 = df_in[col_name].quantile(0.75)\n",
    "    iqr = q3 - q1  # interquartile range\n",
    "    fence_low = q1 - iqr_factor * iqr\n",
    "    fence_high = q3 + iqr_factor * iqr\n",
    "    df_inliers = df_in.loc[\n",
    "        (df_in[col_name] > fence_low) & (df_in[col_name] < fence_high)\n",
    "    ]\n",
    "    df_outliers = df_in.loc[\n",
    "        (df_in[col_name] < fence_low) | (df_in[col_name] > fence_high)\n",
    "    ]\n",
    "    return df_inliers, df_outliers"
   ]
  },
  {
   "cell_type": "code",
   "execution_count": 82,
   "metadata": {},
   "outputs": [
    {
     "data": {
      "text/plain": [
       "0.9632547864506628"
      ]
     },
     "metadata": {},
     "output_type": "display_data"
    }
   ],
   "source": [
    "#removemos los outliers de las variables price, rooms, bathroom y car\n",
    "iqr_factor = 2.5\n",
    "df_main_inliers, df_main_outliers = remove_outlier(melb_df, \"Price\", iqr_factor)\n",
    "df_main_inliers, df_main_outliers = remove_outlier(df_main_inliers, \"Rooms\", iqr_factor)\n",
    "df_main_inliers, df_main_outliers = remove_outlier(df_main_inliers, \"Bathroom\", iqr_factor)\n",
    "df_main_inliers, df_main_outliers = remove_outlier(df_main_inliers, \"Car\", iqr_factor)\n",
    "\n",
    "display(len(df_main_inliers) / len(melb_df))\n",
    "#vemos que seguimos teniendo un porcentaje elevado del df original"
   ]
  },
  {
   "cell_type": "code",
   "execution_count": 83,
   "metadata": {},
   "outputs": [
    {
     "data": {
      "text/plain": [
       "<AxesSubplot:xlabel='Rooms'>"
      ]
     },
     "execution_count": 83,
     "metadata": {},
     "output_type": "execute_result"
    },
    {
     "data": {
      "image/png": "[encoded data removed]",
      "text/plain": [
       "<Figure size 432x288 with 1 Axes>"
      ]
     },
     "metadata": {
      "needs_background": "light"
     },
     "output_type": "display_data"
    }
   ],
   "source": [
    "seaborn.boxplot(data=df_main_inliers, x='Rooms')\n",
    "#fueron removidos los outliers de las variables consideradas"
   ]
  },
  {
   "cell_type": "markdown",
   "metadata": {},
   "source": [
    "### Exploración"
   ]
  },
  {
   "cell_type": "code",
   "execution_count": 84,
   "metadata": {},
   "outputs": [
    {
     "data": {
      "text/html": [
       "<div>\n",
       "<style scoped>\n",
       "    .dataframe tbody tr th:only-of-type {\n",
       "        vertical-align: middle;\n",
       "    }\n",
       "\n",
       "    .dataframe tbody tr th {\n",
       "        vertical-align: top;\n",
       "    }\n",
       "\n",
       "    .dataframe thead th {\n",
       "        text-align: right;\n",
       "    }\n",
       "</style>\n",
       "<table border=\"1\" class=\"dataframe\">\n",
       "  <thead>\n",
       "    <tr style=\"text-align: right;\">\n",
       "      <th></th>\n",
       "      <th>Rooms</th>\n",
       "      <th>Price</th>\n",
       "      <th>Distance</th>\n",
       "      <th>Postcode</th>\n",
       "      <th>Bedroom2</th>\n",
       "      <th>Bathroom</th>\n",
       "      <th>Car</th>\n",
       "      <th>Landsize</th>\n",
       "      <th>BuildingArea</th>\n",
       "      <th>YearBuilt</th>\n",
       "      <th>Lattitude</th>\n",
       "      <th>Longtitude</th>\n",
       "      <th>Propertycount</th>\n",
       "    </tr>\n",
       "  </thead>\n",
       "  <tbody>\n",
       "    <tr>\n",
       "      <th>count</th>\n",
       "      <td>13081.00</td>\n",
       "      <td>13081.00</td>\n",
       "      <td>13081.00</td>\n",
       "      <td>13081.00</td>\n",
       "      <td>13081.00</td>\n",
       "      <td>13081.00</td>\n",
       "      <td>13081.00</td>\n",
       "      <td>13081.00</td>\n",
       "      <td>6846.00</td>\n",
       "      <td>7902.00</td>\n",
       "      <td>13081.00</td>\n",
       "      <td>13081.00</td>\n",
       "      <td>13081.00</td>\n",
       "    </tr>\n",
       "    <tr>\n",
       "      <th>mean</th>\n",
       "      <td>2.89</td>\n",
       "      <td>1025077.20</td>\n",
       "      <td>10.15</td>\n",
       "      <td>3104.71</td>\n",
       "      <td>2.87</td>\n",
       "      <td>1.50</td>\n",
       "      <td>1.55</td>\n",
       "      <td>547.27</td>\n",
       "      <td>141.06</td>\n",
       "      <td>1965.17</td>\n",
       "      <td>-37.81</td>\n",
       "      <td>144.99</td>\n",
       "      <td>7453.01</td>\n",
       "    </tr>\n",
       "    <tr>\n",
       "      <th>std</th>\n",
       "      <td>0.90</td>\n",
       "      <td>526848.51</td>\n",
       "      <td>5.86</td>\n",
       "      <td>90.35</td>\n",
       "      <td>0.92</td>\n",
       "      <td>0.63</td>\n",
       "      <td>0.85</td>\n",
       "      <td>4045.18</td>\n",
       "      <td>126.96</td>\n",
       "      <td>36.95</td>\n",
       "      <td>0.08</td>\n",
       "      <td>0.10</td>\n",
       "      <td>4390.89</td>\n",
       "    </tr>\n",
       "    <tr>\n",
       "      <th>min</th>\n",
       "      <td>1.00</td>\n",
       "      <td>85000.00</td>\n",
       "      <td>0.00</td>\n",
       "      <td>3000.00</td>\n",
       "      <td>0.00</td>\n",
       "      <td>0.00</td>\n",
       "      <td>0.00</td>\n",
       "      <td>0.00</td>\n",
       "      <td>0.00</td>\n",
       "      <td>1196.00</td>\n",
       "      <td>-38.18</td>\n",
       "      <td>144.43</td>\n",
       "      <td>249.00</td>\n",
       "    </tr>\n",
       "    <tr>\n",
       "      <th>25%</th>\n",
       "      <td>2.00</td>\n",
       "      <td>640000.00</td>\n",
       "      <td>6.20</td>\n",
       "      <td>3044.00</td>\n",
       "      <td>2.00</td>\n",
       "      <td>1.00</td>\n",
       "      <td>1.00</td>\n",
       "      <td>170.00</td>\n",
       "      <td>92.00</td>\n",
       "      <td>1945.00</td>\n",
       "      <td>-37.86</td>\n",
       "      <td>144.93</td>\n",
       "      <td>4380.00</td>\n",
       "    </tr>\n",
       "    <tr>\n",
       "      <th>50%</th>\n",
       "      <td>3.00</td>\n",
       "      <td>890500.00</td>\n",
       "      <td>9.20</td>\n",
       "      <td>3084.00</td>\n",
       "      <td>3.00</td>\n",
       "      <td>1.00</td>\n",
       "      <td>2.00</td>\n",
       "      <td>420.00</td>\n",
       "      <td>124.00</td>\n",
       "      <td>1970.00</td>\n",
       "      <td>-37.80</td>\n",
       "      <td>145.00</td>\n",
       "      <td>6543.00</td>\n",
       "    </tr>\n",
       "    <tr>\n",
       "      <th>75%</th>\n",
       "      <td>3.00</td>\n",
       "      <td>1300000.00</td>\n",
       "      <td>13.00</td>\n",
       "      <td>3148.00</td>\n",
       "      <td>3.00</td>\n",
       "      <td>2.00</td>\n",
       "      <td>2.00</td>\n",
       "      <td>646.00</td>\n",
       "      <td>168.00</td>\n",
       "      <td>1999.00</td>\n",
       "      <td>-37.76</td>\n",
       "      <td>145.06</td>\n",
       "      <td>10331.00</td>\n",
       "    </tr>\n",
       "    <tr>\n",
       "      <th>max</th>\n",
       "      <td>5.00</td>\n",
       "      <td>3025000.00</td>\n",
       "      <td>47.40</td>\n",
       "      <td>3977.00</td>\n",
       "      <td>20.00</td>\n",
       "      <td>4.00</td>\n",
       "      <td>4.00</td>\n",
       "      <td>433014.00</td>\n",
       "      <td>6791.00</td>\n",
       "      <td>2018.00</td>\n",
       "      <td>-37.41</td>\n",
       "      <td>145.53</td>\n",
       "      <td>21650.00</td>\n",
       "    </tr>\n",
       "  </tbody>\n",
       "</table>\n",
       "</div>"
      ],
      "text/plain": [
       "          Rooms       Price  Distance  Postcode  Bedroom2  Bathroom       Car  \\\n",
       "count  13081.00    13081.00  13081.00  13081.00  13081.00  13081.00  13081.00   \n",
       "mean       2.89  1025077.20     10.15   3104.71      2.87      1.50      1.55   \n",
       "std        0.90   526848.51      5.86     90.35      0.92      0.63      0.85   \n",
       "min        1.00    85000.00      0.00   3000.00      0.00      0.00      0.00   \n",
       "25%        2.00   640000.00      6.20   3044.00      2.00      1.00      1.00   \n",
       "50%        3.00   890500.00      9.20   3084.00      3.00      1.00      2.00   \n",
       "75%        3.00  1300000.00     13.00   3148.00      3.00      2.00      2.00   \n",
       "max        5.00  3025000.00     47.40   3977.00     20.00      4.00      4.00   \n",
       "\n",
       "        Landsize  BuildingArea  YearBuilt  Lattitude  Longtitude  \\\n",
       "count   13081.00       6846.00    7902.00   13081.00    13081.00   \n",
       "mean      547.27        141.06    1965.17     -37.81      144.99   \n",
       "std      4045.18        126.96      36.95       0.08        0.10   \n",
       "min         0.00          0.00    1196.00     -38.18      144.43   \n",
       "25%       170.00         92.00    1945.00     -37.86      144.93   \n",
       "50%       420.00        124.00    1970.00     -37.80      145.00   \n",
       "75%       646.00        168.00    1999.00     -37.76      145.06   \n",
       "max    433014.00       6791.00    2018.00     -37.41      145.53   \n",
       "\n",
       "       Propertycount  \n",
       "count       13081.00  \n",
       "mean         7453.01  \n",
       "std          4390.89  \n",
       "min           249.00  \n",
       "25%          4380.00  \n",
       "50%          6543.00  \n",
       "75%         10331.00  \n",
       "max         21650.00  "
      ]
     },
     "execution_count": 84,
     "metadata": {},
     "output_type": "execute_result"
    }
   ],
   "source": [
    "df_main_inliers.describe().round(2)"
   ]
  },
  {
   "cell_type": "markdown",
   "metadata": {},
   "source": [
    "A simple vista, podemoms notar que en la fila count, hay variables con menos informacion que el resto."
   ]
  },
  {
   "cell_type": "markdown",
   "metadata": {},
   "source": [
    "### Reconocimiento de datos faltantes"
   ]
  },
  {
   "cell_type": "code",
   "execution_count": 85,
   "metadata": {},
   "outputs": [
    {
     "name": "stdout",
     "output_type": "stream",
     "text": [
      "<class 'pandas.core.frame.DataFrame'>\n",
      "Int64Index: 13081 entries, 0 to 13579\n",
      "Data columns (total 21 columns):\n",
      " #   Column         Non-Null Count  Dtype  \n",
      "---  ------         --------------  -----  \n",
      " 0   Suburb         13081 non-null  object \n",
      " 1   Address        13081 non-null  object \n",
      " 2   Rooms          13081 non-null  int64  \n",
      " 3   Type           13081 non-null  object \n",
      " 4   Price          13081 non-null  float64\n",
      " 5   Method         13081 non-null  object \n",
      " 6   SellerG        13081 non-null  object \n",
      " 7   Date           13081 non-null  object \n",
      " 8   Distance       13081 non-null  float64\n",
      " 9   Postcode       13081 non-null  float64\n",
      " 10  Bedroom2       13081 non-null  float64\n",
      " 11  Bathroom       13081 non-null  float64\n",
      " 12  Car            13081 non-null  float64\n",
      " 13  Landsize       13081 non-null  float64\n",
      " 14  BuildingArea   6846 non-null   float64\n",
      " 15  YearBuilt      7902 non-null   float64\n",
      " 16  CouncilArea    11836 non-null  object \n",
      " 17  Lattitude      13081 non-null  float64\n",
      " 18  Longtitude     13081 non-null  float64\n",
      " 19  Regionname     13081 non-null  object \n",
      " 20  Propertycount  13081 non-null  float64\n",
      "dtypes: float64(12), int64(1), object(8)\n",
      "memory usage: 2.2+ MB\n"
     ]
    }
   ],
   "source": [
    "df_main_inliers.info() # me dice cuantos no-null tengo"
   ]
  },
  {
   "cell_type": "markdown",
   "metadata": {},
   "source": [
    "### Detección las variables con valor cero del dataset"
   ]
  },
  {
   "cell_type": "code",
   "execution_count": 86,
   "metadata": {},
   "outputs": [
    {
     "data": {
      "text/plain": [
       "Distance           6\n",
       "Bedroom2          16\n",
       "Bathroom          34\n",
       "Car             1018\n",
       "Landsize        1933\n",
       "BuildingArea      16\n",
       "dtype: int64"
      ]
     },
     "execution_count": 86,
     "metadata": {},
     "output_type": "execute_result"
    }
   ],
   "source": [
    "cols = df_main_inliers[df_main_inliers == 0].count(axis=0)\n",
    "cols[cols > 0]"
   ]
  },
  {
   "cell_type": "markdown",
   "metadata": {},
   "source": [
    "Son estos ceros valores posibles de la variable o datos faltantes codificados asi?\n",
    "\n",
    "### Posibilidades\n",
    "\n",
    " - Distancia al centro es posible que sea cero, ya que puede estar ubicado en el centro\n",
    " - Bedroom = pueden ser datos faltantes que por defecto tengan 1 habitacion, o ser monohambientes\n",
    " - Bathroom = son datos faltantes, no es posible que no tengan banios. Por defecto puede ser 1 banio\n",
    " - Garage = puede darse que no tenga garage o lugar de estacionamiento.\n",
    " - Landsize = generalmeente si es un dpto no dice el tamanio del terreno\n",
    " - BuildingArea = no puede tener ceros, son datos faltantes.\n"
   ]
  },
  {
   "cell_type": "markdown",
   "metadata": {},
   "source": [
    "### Analizando valores nulos en conjunto con variables que tienen valores cero, podemos decir que:\n",
    "\n",
    "- Distance: tiene 6 datos = 0.\n",
    "- Bedroom2: tiene 16 datos = 0.\n",
    "- Bathroom: tiene 34 datos = 0. \n",
    "- Car: de total contado 1021 son 0, ademas 62 son nulos.\n",
    "- Landsize: tiene 1937 datos = 0.\n",
    "- BuildingArea: del total contado 16 son 0, ademas 6374 son nulos (48% de la informacion)\n",
    "- YearBuilt; 5308 son nulos. (40% de la informmacion)\n",
    "- CouncilArea: 1348 son nulos.\n"
   ]
  },
  {
   "cell_type": "markdown",
   "metadata": {},
   "source": [
    "### Acciones a implementar"
   ]
  },
  {
   "cell_type": "markdown",
   "metadata": {},
   "source": [
    "### 1\n",
    "\n",
    "Reemplazar los datos 0 en Bathroom por 1"
   ]
  },
  {
   "cell_type": "code",
   "execution_count": 87,
   "metadata": {},
   "outputs": [
    {
     "data": {
      "text/plain": [
       "Distance           6\n",
       "Bedroom2          16\n",
       "Car             1018\n",
       "Landsize        1933\n",
       "BuildingArea      16\n",
       "dtype: int64"
      ]
     },
     "execution_count": 87,
     "metadata": {},
     "output_type": "execute_result"
    }
   ],
   "source": [
    "import numpy as np\n",
    "df_main_inliers.loc[df_main_inliers.Bathroom<1,'Bathroom']=1\n",
    "\n",
    "\n",
    "cols2 = df_main_inliers[df_main_inliers == 0].count(axis=0)#/len(melb_df.index)\n",
    "cols2[cols2 > 0]"
   ]
  },
  {
   "cell_type": "markdown",
   "metadata": {},
   "source": [
    "### 2\n",
    "\n",
    "Sobre la variable CAR, reemplazamos los datos nulos con 0"
   ]
  },
  {
   "cell_type": "code",
   "execution_count": 88,
   "metadata": {},
   "outputs": [
    {
     "name": "stdout",
     "output_type": "stream",
     "text": [
      "<class 'pandas.core.frame.DataFrame'>\n",
      "Int64Index: 13081 entries, 0 to 13579\n",
      "Data columns (total 21 columns):\n",
      " #   Column         Non-Null Count  Dtype  \n",
      "---  ------         --------------  -----  \n",
      " 0   Suburb         13081 non-null  object \n",
      " 1   Address        13081 non-null  object \n",
      " 2   Rooms          13081 non-null  int64  \n",
      " 3   Type           13081 non-null  object \n",
      " 4   Price          13081 non-null  float64\n",
      " 5   Method         13081 non-null  object \n",
      " 6   SellerG        13081 non-null  object \n",
      " 7   Date           13081 non-null  object \n",
      " 8   Distance       13081 non-null  float64\n",
      " 9   Postcode       13081 non-null  float64\n",
      " 10  Bedroom2       13081 non-null  float64\n",
      " 11  Bathroom       13081 non-null  float64\n",
      " 12  Car            13081 non-null  float64\n",
      " 13  Landsize       13081 non-null  float64\n",
      " 14  BuildingArea   6846 non-null   float64\n",
      " 15  YearBuilt      7902 non-null   float64\n",
      " 16  CouncilArea    11836 non-null  object \n",
      " 17  Lattitude      13081 non-null  float64\n",
      " 18  Longtitude     13081 non-null  float64\n",
      " 19  Regionname     13081 non-null  object \n",
      " 20  Propertycount  13081 non-null  float64\n",
      "dtypes: float64(12), int64(1), object(8)\n",
      "memory usage: 2.2+ MB\n"
     ]
    }
   ],
   "source": [
    "df_main_inliers.fillna({'Car':0}, inplace=True)\n",
    "\n",
    "\n",
    "df_main_inliers.info()"
   ]
  },
  {
   "cell_type": "markdown",
   "metadata": {},
   "source": [
    "### 3\n",
    "\n",
    "Analizamos la variable Bedroom vs Rooms"
   ]
  },
  {
   "cell_type": "code",
   "execution_count": 89,
   "metadata": {},
   "outputs": [
    {
     "data": {
      "text/html": [
       "<div>\n",
       "<style scoped>\n",
       "    .dataframe tbody tr th:only-of-type {\n",
       "        vertical-align: middle;\n",
       "    }\n",
       "\n",
       "    .dataframe tbody tr th {\n",
       "        vertical-align: top;\n",
       "    }\n",
       "\n",
       "    .dataframe thead th {\n",
       "        text-align: right;\n",
       "    }\n",
       "</style>\n",
       "<table border=\"1\" class=\"dataframe\">\n",
       "  <thead>\n",
       "    <tr style=\"text-align: right;\">\n",
       "      <th>Rooms</th>\n",
       "      <th>1</th>\n",
       "      <th>2</th>\n",
       "      <th>3</th>\n",
       "      <th>4</th>\n",
       "      <th>5</th>\n",
       "    </tr>\n",
       "    <tr>\n",
       "      <th>Bedroom2</th>\n",
       "      <th></th>\n",
       "      <th></th>\n",
       "      <th></th>\n",
       "      <th></th>\n",
       "      <th></th>\n",
       "    </tr>\n",
       "  </thead>\n",
       "  <tbody>\n",
       "    <tr>\n",
       "      <th>0.0</th>\n",
       "      <td>0</td>\n",
       "      <td>5</td>\n",
       "      <td>8</td>\n",
       "      <td>3</td>\n",
       "      <td>0</td>\n",
       "    </tr>\n",
       "    <tr>\n",
       "      <th>1.0</th>\n",
       "      <td>660</td>\n",
       "      <td>21</td>\n",
       "      <td>5</td>\n",
       "      <td>2</td>\n",
       "      <td>0</td>\n",
       "    </tr>\n",
       "    <tr>\n",
       "      <th>2.0</th>\n",
       "      <td>16</td>\n",
       "      <td>3504</td>\n",
       "      <td>158</td>\n",
       "      <td>19</td>\n",
       "      <td>1</td>\n",
       "    </tr>\n",
       "    <tr>\n",
       "      <th>3.0</th>\n",
       "      <td>2</td>\n",
       "      <td>72</td>\n",
       "      <td>5524</td>\n",
       "      <td>170</td>\n",
       "      <td>15</td>\n",
       "    </tr>\n",
       "    <tr>\n",
       "      <th>4.0</th>\n",
       "      <td>0</td>\n",
       "      <td>8</td>\n",
       "      <td>68</td>\n",
       "      <td>2321</td>\n",
       "      <td>31</td>\n",
       "    </tr>\n",
       "    <tr>\n",
       "      <th>5.0</th>\n",
       "      <td>0</td>\n",
       "      <td>1</td>\n",
       "      <td>4</td>\n",
       "      <td>15</td>\n",
       "      <td>443</td>\n",
       "    </tr>\n",
       "    <tr>\n",
       "      <th>6.0</th>\n",
       "      <td>0</td>\n",
       "      <td>0</td>\n",
       "      <td>0</td>\n",
       "      <td>0</td>\n",
       "      <td>2</td>\n",
       "    </tr>\n",
       "    <tr>\n",
       "      <th>7.0</th>\n",
       "      <td>0</td>\n",
       "      <td>0</td>\n",
       "      <td>0</td>\n",
       "      <td>0</td>\n",
       "      <td>1</td>\n",
       "    </tr>\n",
       "    <tr>\n",
       "      <th>8.0</th>\n",
       "      <td>0</td>\n",
       "      <td>0</td>\n",
       "      <td>0</td>\n",
       "      <td>0</td>\n",
       "      <td>1</td>\n",
       "    </tr>\n",
       "    <tr>\n",
       "      <th>20.0</th>\n",
       "      <td>0</td>\n",
       "      <td>0</td>\n",
       "      <td>1</td>\n",
       "      <td>0</td>\n",
       "      <td>0</td>\n",
       "    </tr>\n",
       "  </tbody>\n",
       "</table>\n",
       "</div>"
      ],
      "text/plain": [
       "Rooms       1     2     3     4    5\n",
       "Bedroom2                            \n",
       "0.0         0     5     8     3    0\n",
       "1.0       660    21     5     2    0\n",
       "2.0        16  3504   158    19    1\n",
       "3.0         2    72  5524   170   15\n",
       "4.0         0     8    68  2321   31\n",
       "5.0         0     1     4    15  443\n",
       "6.0         0     0     0     0    2\n",
       "7.0         0     0     0     0    1\n",
       "8.0         0     0     0     0    1\n",
       "20.0        0     0     1     0    0"
      ]
     },
     "execution_count": 89,
     "metadata": {},
     "output_type": "execute_result"
    }
   ],
   "source": [
    "Bedroom2 = df_main_inliers.Bedroom2\n",
    "Rooms = df_main_inliers.Rooms\n",
    "pandas.crosstab(Bedroom2,Rooms)"
   ]
  },
  {
   "cell_type": "markdown",
   "metadata": {},
   "source": [
    "La variable Rooms es mucho mas informativa que la variable Bedroom2. Por esto decidimos sacar la variable Bedroom2"
   ]
  },
  {
   "cell_type": "code",
   "execution_count": 90,
   "metadata": {},
   "outputs": [],
   "source": [
    "df_main_inliers.drop(['Bedroom2'], axis=1, inplace=True)"
   ]
  },
  {
   "cell_type": "markdown",
   "metadata": {},
   "source": [
    "### 4\n",
    "\n",
    "Considerando que BuildingArea y YearBuilt tienen muchos datos faltantes realizamos el siguiente analisis. \n"
   ]
  },
  {
   "cell_type": "code",
   "execution_count": 91,
   "metadata": {},
   "outputs": [
    {
     "data": {
      "text/plain": [
       "Suburb              0\n",
       "Address             0\n",
       "Rooms               0\n",
       "Type                0\n",
       "Price               0\n",
       "Method              0\n",
       "SellerG             0\n",
       "Date                0\n",
       "Distance            0\n",
       "Postcode            0\n",
       "Bathroom            0\n",
       "Car                 0\n",
       "Landsize            0\n",
       "BuildingArea     6235\n",
       "YearBuilt        5179\n",
       "CouncilArea      1245\n",
       "Lattitude           0\n",
       "Longtitude          0\n",
       "Regionname          0\n",
       "Propertycount       0\n",
       "dtype: int64"
      ]
     },
     "execution_count": 91,
     "metadata": {},
     "output_type": "execute_result"
    }
   ],
   "source": [
    "missing_values_count = df_main_inliers.isna().sum()\n",
    "missing_values_count"
   ]
  },
  {
   "cell_type": "code",
   "execution_count": 92,
   "metadata": {},
   "outputs": [
    {
     "data": {
      "text/plain": [
       "<AxesSubplot:>"
      ]
     },
     "execution_count": 92,
     "metadata": {},
     "output_type": "execute_result"
    },
    {
     "data": {
      "image/png": "[encoded data removed]",
      "text/plain": [
       "<Figure size 864x432 with 3 Axes>"
      ]
     },
     "metadata": {
      "needs_background": "light"
     },
     "output_type": "display_data"
    }
   ],
   "source": [
    "import missingno as msno\n",
    "msno.bar(df_main_inliers,figsize=(12, 6), fontsize=12, color='steelblue')"
   ]
  },
  {
   "cell_type": "code",
   "execution_count": 93,
   "metadata": {},
   "outputs": [
    {
     "data": {
      "text/plain": [
       "<AxesSubplot:>"
      ]
     },
     "execution_count": 93,
     "metadata": {},
     "output_type": "execute_result"
    },
    {
     "data": {
      "image/png": "[encoded data removed]",
      "text/plain": [
       "<Figure size 864x432 with 2 Axes>"
      ]
     },
     "metadata": {
      "needs_background": "light"
     },
     "output_type": "display_data"
    }
   ],
   "source": [
    "msno.matrix(df_main_inliers,figsize=(12, 6), fontsize=12, color=[0,0,0.2])"
   ]
  },
  {
   "cell_type": "code",
   "execution_count": 94,
   "metadata": {},
   "outputs": [
    {
     "data": {
      "text/html": [
       "<div>\n",
       "<style scoped>\n",
       "    .dataframe tbody tr th:only-of-type {\n",
       "        vertical-align: middle;\n",
       "    }\n",
       "\n",
       "    .dataframe tbody tr th {\n",
       "        vertical-align: top;\n",
       "    }\n",
       "\n",
       "    .dataframe thead th {\n",
       "        text-align: right;\n",
       "    }\n",
       "</style>\n",
       "<table border=\"1\" class=\"dataframe\">\n",
       "  <thead>\n",
       "    <tr style=\"text-align: right;\">\n",
       "      <th></th>\n",
       "      <th>Suburb</th>\n",
       "      <th>Address</th>\n",
       "      <th>Rooms</th>\n",
       "      <th>Type</th>\n",
       "      <th>Price</th>\n",
       "      <th>Method</th>\n",
       "      <th>SellerG</th>\n",
       "      <th>Date</th>\n",
       "      <th>Distance</th>\n",
       "      <th>Postcode</th>\n",
       "      <th>Bathroom</th>\n",
       "      <th>Car</th>\n",
       "      <th>Landsize</th>\n",
       "      <th>CouncilArea</th>\n",
       "      <th>Lattitude</th>\n",
       "      <th>Longtitude</th>\n",
       "      <th>Regionname</th>\n",
       "      <th>Propertycount</th>\n",
       "    </tr>\n",
       "  </thead>\n",
       "  <tbody>\n",
       "    <tr>\n",
       "      <th>0</th>\n",
       "      <td>Abbotsford</td>\n",
       "      <td>85 Turner St</td>\n",
       "      <td>2</td>\n",
       "      <td>h</td>\n",
       "      <td>1480000.0</td>\n",
       "      <td>S</td>\n",
       "      <td>Biggin</td>\n",
       "      <td>3/12/2016</td>\n",
       "      <td>2.5</td>\n",
       "      <td>3067.0</td>\n",
       "      <td>1.0</td>\n",
       "      <td>1.0</td>\n",
       "      <td>202.0</td>\n",
       "      <td>Yarra</td>\n",
       "      <td>-37.79960</td>\n",
       "      <td>144.99840</td>\n",
       "      <td>Northern Metropolitan</td>\n",
       "      <td>4019.0</td>\n",
       "    </tr>\n",
       "    <tr>\n",
       "      <th>1</th>\n",
       "      <td>Abbotsford</td>\n",
       "      <td>25 Bloomburg St</td>\n",
       "      <td>2</td>\n",
       "      <td>h</td>\n",
       "      <td>1035000.0</td>\n",
       "      <td>S</td>\n",
       "      <td>Biggin</td>\n",
       "      <td>4/02/2016</td>\n",
       "      <td>2.5</td>\n",
       "      <td>3067.0</td>\n",
       "      <td>1.0</td>\n",
       "      <td>0.0</td>\n",
       "      <td>156.0</td>\n",
       "      <td>Yarra</td>\n",
       "      <td>-37.80790</td>\n",
       "      <td>144.99340</td>\n",
       "      <td>Northern Metropolitan</td>\n",
       "      <td>4019.0</td>\n",
       "    </tr>\n",
       "    <tr>\n",
       "      <th>2</th>\n",
       "      <td>Abbotsford</td>\n",
       "      <td>5 Charles St</td>\n",
       "      <td>3</td>\n",
       "      <td>h</td>\n",
       "      <td>1465000.0</td>\n",
       "      <td>SP</td>\n",
       "      <td>Biggin</td>\n",
       "      <td>4/03/2017</td>\n",
       "      <td>2.5</td>\n",
       "      <td>3067.0</td>\n",
       "      <td>2.0</td>\n",
       "      <td>0.0</td>\n",
       "      <td>134.0</td>\n",
       "      <td>Yarra</td>\n",
       "      <td>-37.80930</td>\n",
       "      <td>144.99440</td>\n",
       "      <td>Northern Metropolitan</td>\n",
       "      <td>4019.0</td>\n",
       "    </tr>\n",
       "    <tr>\n",
       "      <th>3</th>\n",
       "      <td>Abbotsford</td>\n",
       "      <td>40 Federation La</td>\n",
       "      <td>3</td>\n",
       "      <td>h</td>\n",
       "      <td>850000.0</td>\n",
       "      <td>PI</td>\n",
       "      <td>Biggin</td>\n",
       "      <td>4/03/2017</td>\n",
       "      <td>2.5</td>\n",
       "      <td>3067.0</td>\n",
       "      <td>2.0</td>\n",
       "      <td>1.0</td>\n",
       "      <td>94.0</td>\n",
       "      <td>Yarra</td>\n",
       "      <td>-37.79690</td>\n",
       "      <td>144.99690</td>\n",
       "      <td>Northern Metropolitan</td>\n",
       "      <td>4019.0</td>\n",
       "    </tr>\n",
       "    <tr>\n",
       "      <th>4</th>\n",
       "      <td>Abbotsford</td>\n",
       "      <td>55a Park St</td>\n",
       "      <td>4</td>\n",
       "      <td>h</td>\n",
       "      <td>1600000.0</td>\n",
       "      <td>VB</td>\n",
       "      <td>Nelson</td>\n",
       "      <td>4/06/2016</td>\n",
       "      <td>2.5</td>\n",
       "      <td>3067.0</td>\n",
       "      <td>1.0</td>\n",
       "      <td>2.0</td>\n",
       "      <td>120.0</td>\n",
       "      <td>Yarra</td>\n",
       "      <td>-37.80720</td>\n",
       "      <td>144.99410</td>\n",
       "      <td>Northern Metropolitan</td>\n",
       "      <td>4019.0</td>\n",
       "    </tr>\n",
       "    <tr>\n",
       "      <th>...</th>\n",
       "      <td>...</td>\n",
       "      <td>...</td>\n",
       "      <td>...</td>\n",
       "      <td>...</td>\n",
       "      <td>...</td>\n",
       "      <td>...</td>\n",
       "      <td>...</td>\n",
       "      <td>...</td>\n",
       "      <td>...</td>\n",
       "      <td>...</td>\n",
       "      <td>...</td>\n",
       "      <td>...</td>\n",
       "      <td>...</td>\n",
       "      <td>...</td>\n",
       "      <td>...</td>\n",
       "      <td>...</td>\n",
       "      <td>...</td>\n",
       "      <td>...</td>\n",
       "    </tr>\n",
       "    <tr>\n",
       "      <th>13574</th>\n",
       "      <td>Westmeadows</td>\n",
       "      <td>9 Black St</td>\n",
       "      <td>3</td>\n",
       "      <td>h</td>\n",
       "      <td>582000.0</td>\n",
       "      <td>S</td>\n",
       "      <td>Red</td>\n",
       "      <td>26/08/2017</td>\n",
       "      <td>16.5</td>\n",
       "      <td>3049.0</td>\n",
       "      <td>2.0</td>\n",
       "      <td>2.0</td>\n",
       "      <td>256.0</td>\n",
       "      <td>NaN</td>\n",
       "      <td>-37.67917</td>\n",
       "      <td>144.89390</td>\n",
       "      <td>Northern Metropolitan</td>\n",
       "      <td>2474.0</td>\n",
       "    </tr>\n",
       "    <tr>\n",
       "      <th>13575</th>\n",
       "      <td>Wheelers Hill</td>\n",
       "      <td>12 Strada Cr</td>\n",
       "      <td>4</td>\n",
       "      <td>h</td>\n",
       "      <td>1245000.0</td>\n",
       "      <td>S</td>\n",
       "      <td>Barry</td>\n",
       "      <td>26/08/2017</td>\n",
       "      <td>16.7</td>\n",
       "      <td>3150.0</td>\n",
       "      <td>2.0</td>\n",
       "      <td>2.0</td>\n",
       "      <td>652.0</td>\n",
       "      <td>NaN</td>\n",
       "      <td>-37.90562</td>\n",
       "      <td>145.16761</td>\n",
       "      <td>South-Eastern Metropolitan</td>\n",
       "      <td>7392.0</td>\n",
       "    </tr>\n",
       "    <tr>\n",
       "      <th>13576</th>\n",
       "      <td>Williamstown</td>\n",
       "      <td>77 Merrett Dr</td>\n",
       "      <td>3</td>\n",
       "      <td>h</td>\n",
       "      <td>1031000.0</td>\n",
       "      <td>SP</td>\n",
       "      <td>Williams</td>\n",
       "      <td>26/08/2017</td>\n",
       "      <td>6.8</td>\n",
       "      <td>3016.0</td>\n",
       "      <td>2.0</td>\n",
       "      <td>2.0</td>\n",
       "      <td>333.0</td>\n",
       "      <td>NaN</td>\n",
       "      <td>-37.85927</td>\n",
       "      <td>144.87904</td>\n",
       "      <td>Western Metropolitan</td>\n",
       "      <td>6380.0</td>\n",
       "    </tr>\n",
       "    <tr>\n",
       "      <th>13577</th>\n",
       "      <td>Williamstown</td>\n",
       "      <td>83 Power St</td>\n",
       "      <td>3</td>\n",
       "      <td>h</td>\n",
       "      <td>1170000.0</td>\n",
       "      <td>S</td>\n",
       "      <td>Raine</td>\n",
       "      <td>26/08/2017</td>\n",
       "      <td>6.8</td>\n",
       "      <td>3016.0</td>\n",
       "      <td>2.0</td>\n",
       "      <td>4.0</td>\n",
       "      <td>436.0</td>\n",
       "      <td>NaN</td>\n",
       "      <td>-37.85274</td>\n",
       "      <td>144.88738</td>\n",
       "      <td>Western Metropolitan</td>\n",
       "      <td>6380.0</td>\n",
       "    </tr>\n",
       "    <tr>\n",
       "      <th>13579</th>\n",
       "      <td>Yarraville</td>\n",
       "      <td>6 Agnes St</td>\n",
       "      <td>4</td>\n",
       "      <td>h</td>\n",
       "      <td>1285000.0</td>\n",
       "      <td>SP</td>\n",
       "      <td>Village</td>\n",
       "      <td>26/08/2017</td>\n",
       "      <td>6.3</td>\n",
       "      <td>3013.0</td>\n",
       "      <td>1.0</td>\n",
       "      <td>1.0</td>\n",
       "      <td>362.0</td>\n",
       "      <td>NaN</td>\n",
       "      <td>-37.81188</td>\n",
       "      <td>144.88449</td>\n",
       "      <td>Western Metropolitan</td>\n",
       "      <td>6543.0</td>\n",
       "    </tr>\n",
       "  </tbody>\n",
       "</table>\n",
       "<p>13081 rows × 18 columns</p>\n",
       "</div>"
      ],
      "text/plain": [
       "              Suburb           Address  Rooms Type      Price Method  \\\n",
       "0         Abbotsford      85 Turner St      2    h  1480000.0      S   \n",
       "1         Abbotsford   25 Bloomburg St      2    h  1035000.0      S   \n",
       "2         Abbotsford      5 Charles St      3    h  1465000.0     SP   \n",
       "3         Abbotsford  40 Federation La      3    h   850000.0     PI   \n",
       "4         Abbotsford       55a Park St      4    h  1600000.0     VB   \n",
       "...              ...               ...    ...  ...        ...    ...   \n",
       "13574    Westmeadows        9 Black St      3    h   582000.0      S   \n",
       "13575  Wheelers Hill      12 Strada Cr      4    h  1245000.0      S   \n",
       "13576   Williamstown     77 Merrett Dr      3    h  1031000.0     SP   \n",
       "13577   Williamstown       83 Power St      3    h  1170000.0      S   \n",
       "13579     Yarraville        6 Agnes St      4    h  1285000.0     SP   \n",
       "\n",
       "        SellerG        Date  Distance  Postcode  Bathroom  Car  Landsize  \\\n",
       "0        Biggin   3/12/2016       2.5    3067.0       1.0  1.0     202.0   \n",
       "1        Biggin   4/02/2016       2.5    3067.0       1.0  0.0     156.0   \n",
       "2        Biggin   4/03/2017       2.5    3067.0       2.0  0.0     134.0   \n",
       "3        Biggin   4/03/2017       2.5    3067.0       2.0  1.0      94.0   \n",
       "4        Nelson   4/06/2016       2.5    3067.0       1.0  2.0     120.0   \n",
       "...         ...         ...       ...       ...       ...  ...       ...   \n",
       "13574       Red  26/08/2017      16.5    3049.0       2.0  2.0     256.0   \n",
       "13575     Barry  26/08/2017      16.7    3150.0       2.0  2.0     652.0   \n",
       "13576  Williams  26/08/2017       6.8    3016.0       2.0  2.0     333.0   \n",
       "13577     Raine  26/08/2017       6.8    3016.0       2.0  4.0     436.0   \n",
       "13579   Village  26/08/2017       6.3    3013.0       1.0  1.0     362.0   \n",
       "\n",
       "      CouncilArea  Lattitude  Longtitude                  Regionname  \\\n",
       "0           Yarra  -37.79960   144.99840       Northern Metropolitan   \n",
       "1           Yarra  -37.80790   144.99340       Northern Metropolitan   \n",
       "2           Yarra  -37.80930   144.99440       Northern Metropolitan   \n",
       "3           Yarra  -37.79690   144.99690       Northern Metropolitan   \n",
       "4           Yarra  -37.80720   144.99410       Northern Metropolitan   \n",
       "...           ...        ...         ...                         ...   \n",
       "13574         NaN  -37.67917   144.89390       Northern Metropolitan   \n",
       "13575         NaN  -37.90562   145.16761  South-Eastern Metropolitan   \n",
       "13576         NaN  -37.85927   144.87904        Western Metropolitan   \n",
       "13577         NaN  -37.85274   144.88738        Western Metropolitan   \n",
       "13579         NaN  -37.81188   144.88449        Western Metropolitan   \n",
       "\n",
       "       Propertycount  \n",
       "0             4019.0  \n",
       "1             4019.0  \n",
       "2             4019.0  \n",
       "3             4019.0  \n",
       "4             4019.0  \n",
       "...              ...  \n",
       "13574         2474.0  \n",
       "13575         7392.0  \n",
       "13576         6380.0  \n",
       "13577         6380.0  \n",
       "13579         6543.0  \n",
       "\n",
       "[13081 rows x 18 columns]"
      ]
     },
     "execution_count": 94,
     "metadata": {},
     "output_type": "execute_result"
    }
   ],
   "source": [
    "#Debido a que las variables tienen muchos datos faltantes se decide retirarlas del df ya que no aportan informacion\n",
    "#al analisis.\n",
    "df_main_inliers=df_main_inliers.drop(['BuildingArea'], axis=1)\n",
    "df_main_inliers=df_main_inliers.drop(['YearBuilt'], axis=1)\n",
    "\n",
    "df_main_inliers"
   ]
  },
  {
   "cell_type": "markdown",
   "metadata": {},
   "source": [
    "# 2\n",
    "\n",
    "Investigar la distribución de las variables del conjunto de datos y seleccionar un subconjunto de columnas que les parezcan relevantes al problema de predicción del valor de la propiedad."
   ]
  },
  {
   "cell_type": "code",
   "execution_count": 95,
   "metadata": {},
   "outputs": [],
   "source": [
    "columnas_numericas = df_main_inliers.select_dtypes(['int', 'float']).columns"
   ]
  },
  {
   "cell_type": "markdown",
   "metadata": {},
   "source": [
    "### Gráfico de probabilidad:\n",
    "Cuanto más se parezca nuestra gráfica a una línea de 45 grados, más normal será utilizando el metodo qqplot."
   ]
  },
  {
   "cell_type": "code",
   "execution_count": 96,
   "metadata": {},
   "outputs": [
    {
     "data": {
      "image/png": "[encoded data removed]",
      "text/plain": [
       "<Figure size 432x288 with 1 Axes>"
      ]
     },
     "metadata": {
      "needs_background": "light"
     },
     "output_type": "display_data"
    },
    {
     "data": {
      "image/png": "[encoded data removed]",
      "text/plain": [
       "<Figure size 432x288 with 1 Axes>"
      ]
     },
     "metadata": {
      "needs_background": "light"
     },
     "output_type": "display_data"
    },
    {
     "data": {
      "image/png": "[encoded data removed]",
      "text/plain": [
       "<Figure size 432x288 with 1 Axes>"
      ]
     },
     "metadata": {
      "needs_background": "light"
     },
     "output_type": "display_data"
    },
    {
     "data": {
      "image/png": "[encoded data removed]",
      "text/plain": [
       "<Figure size 432x288 with 1 Axes>"
      ]
     },
     "metadata": {
      "needs_background": "light"
     },
     "output_type": "display_data"
    },
    {
     "data": {
      "image/png": "[encoded data removed]",
      "text/plain": [
       "<Figure size 432x288 with 1 Axes>"
      ]
     },
     "metadata": {
      "needs_background": "light"
     },
     "output_type": "display_data"
    },
    {
     "data": {
      "image/png": "[encoded data removed]",
      "text/plain": [
       "<Figure size 432x288 with 1 Axes>"
      ]
     },
     "metadata": {
      "needs_background": "light"
     },
     "output_type": "display_data"
    },
    {
     "data": {
      "image/png": "[encoded data removed]",
      "text/plain": [
       "<Figure size 432x288 with 1 Axes>"
      ]
     },
     "metadata": {
      "needs_background": "light"
     },
     "output_type": "display_data"
    },
    {
     "data": {
      "image/png": "[encoded data removed]",
      "text/plain": [
       "<Figure size 432x288 with 1 Axes>"
      ]
     },
     "metadata": {
      "needs_background": "light"
     },
     "output_type": "display_data"
    },
    {
     "data": {
      "image/png": "[encoded data removed]",
      "text/plain": [
       "<Figure size 432x288 with 1 Axes>"
      ]
     },
     "metadata": {
      "needs_background": "light"
     },
     "output_type": "display_data"
    },
    {
     "data": {
      "image/png": "[encoded data removed]",
      "text/plain": [
       "<Figure size 432x288 with 1 Axes>"
      ]
     },
     "metadata": {
      "needs_background": "light"
     },
     "output_type": "display_data"
    }
   ],
   "source": [
    "from scipy import stats\n",
    "def normalidad_variable_numerica(col):\n",
    "    stats.probplot(df_main_inliers[col], plot=plt)\n",
    "    plt.xlabel('Diagrama de Probabilidad(normal) de la variable {}'.format(col))\n",
    "    \n",
    "    plt.show()\n",
    "\n",
    "    \n",
    "for num_col in columnas_numericas:\n",
    "    normalidad_variable_numerica(num_col)"
   ]
  },
  {
   "cell_type": "markdown",
   "metadata": {},
   "source": [
    "### Histogramas:\n",
    "Podemos crear un histograma para ver la distribución de las variables."
   ]
  },
  {
   "cell_type": "code",
   "execution_count": 97,
   "metadata": {},
   "outputs": [
    {
     "data": {
      "image/png": "[encoded data removed]",
      "text/plain": [
       "<Figure size 720x2520 with 10 Axes>"
      ]
     },
     "metadata": {
      "needs_background": "light"
     },
     "output_type": "display_data"
    }
   ],
   "source": [
    "fig, axs = plt.subplots(len(columnas_numericas), figsize=(10, 35))\n",
    "for n, col in enumerate(columnas_numericas):\n",
    "    df_main_inliers[col].hist(ax=axs[n],bins=50, label=col)\n",
    "    axs[n].legend()\n",
    "    "
   ]
  },
  {
   "cell_type": "markdown",
   "metadata": {},
   "source": [
    "Con estos graficos podemos determinar que las variables price, distance, latitude y longitud tienden a una distribucion aproximadamente normal."
   ]
  },
  {
   "cell_type": "code",
   "execution_count": 98,
   "metadata": {},
   "outputs": [
    {
     "data": {
      "text/plain": [
       "Index(['Suburb', 'Address', 'Rooms', 'Type', 'Price', 'Method', 'SellerG',\n",
       "       'Date', 'Distance', 'Postcode', 'Bathroom', 'Car', 'Landsize',\n",
       "       'CouncilArea', 'Lattitude', 'Longtitude', 'Regionname',\n",
       "       'Propertycount'],\n",
       "      dtype='object')"
      ]
     },
     "execution_count": 98,
     "metadata": {},
     "output_type": "execute_result"
    }
   ],
   "source": [
    "df_main_inliers.columns"
   ]
  },
  {
   "cell_type": "code",
   "execution_count": 99,
   "metadata": {},
   "outputs": [],
   "source": [
    "selected_columns = ['Suburb', 'Rooms', 'Type','Price','Distance', 'Postcode', 'Bathroom', 'Car', 'Landsize',\n",
    "        'CouncilArea','Propertycount']\n",
    "\n",
    "df_filtered = df_main_inliers[selected_columns]"
   ]
  },
  {
   "cell_type": "markdown",
   "metadata": {},
   "source": [
    "### Columnas no seleccionadas\n",
    "\n",
    "- Address, Method, SeleerG, Date, Lattitude, Longitude, Regionname  : se descartan porque considero que no aportan informacion relevante o aportan informacion duplicada que se puede inferir de otra variable.\n"
   ]
  },
  {
   "cell_type": "markdown",
   "metadata": {},
   "source": [
    "## 4\n",
    "\n",
    "Para las variables categóricas seleccionadas, agrupe o combine las categorías poco frecuentes para asegurar que todos los grupos tengan un número mínimo de registros\n"
   ]
  },
  {
   "cell_type": "code",
   "execution_count": 100,
   "metadata": {},
   "outputs": [
    {
     "data": {
      "text/plain": [
       "The Basin             4\n",
       "Hampton Park          4\n",
       "Langwarrin            4\n",
       "Wyndham Vale          4\n",
       "Bonbeach              4\n",
       "                     ..\n",
       "Monbulk               1\n",
       "Upwey                 1\n",
       "Beaconsfield Upper    1\n",
       "Sandhurst             1\n",
       "Yarra Glen            1\n",
       "Name: Suburb, Length: 61, dtype: int64"
      ]
     },
     "execution_count": 100,
     "metadata": {},
     "output_type": "execute_result"
    }
   ],
   "source": [
    "df_filtered.Suburb.value_counts().tail(61)"
   ]
  },
  {
   "cell_type": "code",
   "execution_count": 101,
   "metadata": {},
   "outputs": [
    {
     "name": "stderr",
     "output_type": "stream",
     "text": [
      "/home/ariel/anaconda3/lib/python3.8/site-packages/pandas/core/frame.py:4379: SettingWithCopyWarning: \n",
      "A value is trying to be set on a copy of a slice from a DataFrame\n",
      "\n",
      "See the caveats in the documentation: https://pandas.pydata.org/pandas-docs/stable/user_guide/indexing.html#returning-a-view-versus-a-copy\n",
      "  return super().replace(\n"
     ]
    }
   ],
   "source": [
    "#agrupo todos las categorias que tengan una frecuencia menor a 5\n",
    "suburb_replace=df_filtered.Suburb.value_counts().tail(61).index.tolist()\n",
    "df_filtered.replace(to_replace=suburb_replace, value='others', inplace=True)"
   ]
  },
  {
   "cell_type": "code",
   "execution_count": 102,
   "metadata": {},
   "outputs": [
    {
     "data": {
      "text/plain": [
       "Reservoir         348\n",
       "Richmond          256\n",
       "Bentleigh East    246\n",
       "Preston           235\n",
       "Brunswick         219\n",
       "                 ... \n",
       "Chelsea             5\n",
       "Truganina           5\n",
       "Kings Park          5\n",
       "Sydenham            5\n",
       "Hallam              5\n",
       "Name: Suburb, Length: 253, dtype: int64"
      ]
     },
     "execution_count": 102,
     "metadata": {},
     "output_type": "execute_result"
    }
   ],
   "source": [
    "df_filtered.Suburb.value_counts()\n",
    "#corroboramos la frecuencia"
   ]
  },
  {
   "cell_type": "code",
   "execution_count": 103,
   "metadata": {},
   "outputs": [
    {
     "data": {
      "text/plain": [
       "h    8958\n",
       "u    3011\n",
       "t    1112\n",
       "Name: Type, dtype: int64"
      ]
     },
     "execution_count": 103,
     "metadata": {},
     "output_type": "execute_result"
    }
   ],
   "source": [
    "df_filtered['Type'].value_counts()\n",
    "#no se modifica"
   ]
  },
  {
   "cell_type": "code",
   "execution_count": 104,
   "metadata": {},
   "outputs": [
    {
     "data": {
      "text/plain": [
       "3073.0    348\n",
       "3020.0    292\n",
       "3121.0    287\n",
       "3040.0    279\n",
       "3046.0    278\n",
       "         ... \n",
       "3115.0      1\n",
       "3431.0      1\n",
       "3427.0      1\n",
       "3775.0      1\n",
       "3808.0      1\n",
       "Name: Postcode, Length: 197, dtype: int64"
      ]
     },
     "execution_count": 104,
     "metadata": {},
     "output_type": "execute_result"
    }
   ],
   "source": [
    "df_filtered.Postcode.value_counts()"
   ]
  },
  {
   "cell_type": "code",
   "execution_count": 105,
   "metadata": {},
   "outputs": [
    {
     "data": {
      "text/plain": [
       "Moreland             1148\n",
       "Boroondara           1060\n",
       "Moonee Valley         975\n",
       "Darebin               917\n",
       "Glen Eira             841\n",
       "Maribyrnong           679\n",
       "Stonnington           677\n",
       "Yarra                 639\n",
       "Port Phillip          613\n",
       "Banyule               588\n",
       "Melbourne             466\n",
       "Bayside               452\n",
       "Hobsons Bay           419\n",
       "Brimbank              405\n",
       "Monash                324\n",
       "Manningham            304\n",
       "Whitehorse            291\n",
       "Kingston              203\n",
       "others                165\n",
       "Hume                  157\n",
       "Wyndham                86\n",
       "Maroondah              79\n",
       "Knox                   78\n",
       "Melton                 63\n",
       "Frankston              51\n",
       "Greater Dandenong      50\n",
       "Casey                  36\n",
       "Nillumbik              35\n",
       "Yarra Ranges           18\n",
       "Cardinia                8\n",
       "Macedon Ranges          7\n",
       "Unavailable             1\n",
       "Moorabool               1\n",
       "Name: CouncilArea, dtype: int64"
      ]
     },
     "execution_count": 105,
     "metadata": {},
     "output_type": "execute_result"
    }
   ],
   "source": [
    "df_filtered.CouncilArea.value_counts()\n",
    "#mismo analisis para esta variable"
   ]
  },
  {
   "cell_type": "code",
   "execution_count": 106,
   "metadata": {},
   "outputs": [
    {
     "data": {
      "text/plain": [
       "['Yarra Ranges', 'Cardinia', 'Macedon Ranges', 'Unavailable', 'Moorabool']"
      ]
     },
     "execution_count": 106,
     "metadata": {},
     "output_type": "execute_result"
    }
   ],
   "source": [
    "#agrupo todos las categorias que tengan una frecuencia menor a 20\n",
    "councilarea_replace=df_filtered.CouncilArea.value_counts().tail(5).index.tolist()\n",
    "df_filtered.replace(to_replace=councilarea_replace, value='Other',inplace=True)\n",
    "councilarea_replace\n",
    "#remplazo por other"
   ]
  },
  {
   "cell_type": "code",
   "execution_count": 107,
   "metadata": {},
   "outputs": [
    {
     "data": {
      "text/plain": [
       "Moreland             1148\n",
       "Boroondara           1060\n",
       "Moonee Valley         975\n",
       "Darebin               917\n",
       "Glen Eira             841\n",
       "Maribyrnong           679\n",
       "Stonnington           677\n",
       "Yarra                 639\n",
       "Port Phillip          613\n",
       "Banyule               588\n",
       "Melbourne             466\n",
       "Bayside               452\n",
       "Hobsons Bay           419\n",
       "Brimbank              405\n",
       "Monash                324\n",
       "Manningham            304\n",
       "Whitehorse            291\n",
       "Kingston              203\n",
       "others                165\n",
       "Hume                  157\n",
       "Wyndham                86\n",
       "Maroondah              79\n",
       "Knox                   78\n",
       "Melton                 63\n",
       "Frankston              51\n",
       "Greater Dandenong      50\n",
       "Casey                  36\n",
       "Nillumbik              35\n",
       "Other                  35\n",
       "Name: CouncilArea, dtype: int64"
      ]
     },
     "execution_count": 107,
     "metadata": {},
     "output_type": "execute_result"
    }
   ],
   "source": [
    "df_filtered.CouncilArea.value_counts()"
   ]
  },
  {
   "cell_type": "markdown",
   "metadata": {},
   "source": [
    "## 5\n",
    "\n",
    "Agregar información adicional respectiva al entorno de una propiedad a partir del conjunto de datos de AirBnB utilizado en el práctico. \n",
    "\n",
    "## 6\n",
    "\n",
    "Seleccionar qué variables agregar y qué combinaciones aplicar a cada una. Por ejemplo, pueden utilizar solo la columna price, o aplicar múltiples transformaciones como la mediana o el mínimo.\n",
    "\n",
    "## 7\n",
    "\n",
    "Utilizar la variable zipcode para unir los conjuntos de datos. Sólo incluir los zipcodes que tengan una cantidad mínima de registros (a elección) como para que la información agregada sea relevante."
   ]
  },
  {
   "cell_type": "code",
   "execution_count": 108,
   "metadata": {},
   "outputs": [
    {
     "data": {
      "text/plain": [
       "Index(['description', 'neighborhood_overview', 'street', 'neighborhood',\n",
       "       'city', 'suburb', 'state', 'zipcode', 'latitude', 'longitude', 'price',\n",
       "       'weekly_price', 'monthly_price'],\n",
       "      dtype='object')"
      ]
     },
     "execution_count": 108,
     "metadata": {},
     "output_type": "execute_result"
    }
   ],
   "source": [
    "airbnb_df.columns"
   ]
  },
  {
   "cell_type": "code",
   "execution_count": 109,
   "metadata": {},
   "outputs": [
    {
     "data": {
      "text/plain": [
       "3000.0    2491\n",
       "3000       876\n",
       "3006.0     860\n",
       "3182.0     579\n",
       "3182       556\n",
       "Name: zipcode, dtype: int64"
      ]
     },
     "execution_count": 109,
     "metadata": {},
     "output_type": "execute_result"
    }
   ],
   "source": [
    "airbnb_df.zipcode.value_counts()[:5]\n",
    "#hay que unificar el tipo de valor"
   ]
  },
  {
   "cell_type": "code",
   "execution_count": 110,
   "metadata": {},
   "outputs": [],
   "source": [
    "airbnb_df['zipcode'] = pandas.to_numeric(airbnb_df.zipcode, errors='coerce')"
   ]
  },
  {
   "cell_type": "code",
   "execution_count": 111,
   "metadata": {},
   "outputs": [
    {
     "data": {
      "text/plain": [
       "3000.0    3367\n",
       "3006.0    1268\n",
       "3182.0    1135\n",
       "3141.0     881\n",
       "3004.0     728\n",
       "          ... \n",
       "2010.0       1\n",
       "3096.0       1\n",
       "9004.0       1\n",
       "3785.0       1\n",
       "7266.0       1\n",
       "Name: zipcode, Length: 247, dtype: int64"
      ]
     },
     "execution_count": 111,
     "metadata": {},
     "output_type": "execute_result"
    }
   ],
   "source": [
    "airbnb_df.zipcode.value_counts()\n",
    "#observamos los datos con el tpo de valor unificado."
   ]
  },
  {
   "cell_type": "markdown",
   "metadata": {},
   "source": [
    "Antes de unir los conjuntos de datos, tenemos que asegurarnos de que tengamos suficientes registros en común como para agregar información relevantes."
   ]
  },
  {
   "cell_type": "code",
   "execution_count": 112,
   "metadata": {},
   "outputs": [
    {
     "name": "stdout",
     "output_type": "stream",
     "text": [
      "Airbnb unique zipcodes 248\n",
      "Sales unique zipcodes 197\n",
      "Common zipcodes 191\n"
     ]
    }
   ],
   "source": [
    "intersection = numpy.intersect1d(\n",
    "    airbnb_df.zipcode.values, df_filtered.Postcode.values, assume_unique=False)\n",
    "print(\"Airbnb unique zipcodes\", len(airbnb_df.zipcode.unique()))\n",
    "print(\"Sales unique zipcodes\", len(df_filtered.Postcode.unique()))\n",
    "print(\"Common zipcodes\", len(intersection))\n",
    "\n",
    "# interseccion de conjuntos"
   ]
  },
  {
   "cell_type": "code",
   "execution_count": 113,
   "metadata": {},
   "outputs": [
    {
     "name": "stdout",
     "output_type": "stream",
     "text": [
      "Records in Sales df with corresponding zipcode form Sales df 0.9986239584129654\n",
      "Records in Airbnb df with corresponding zipcode form Airbnb df 0.9302904564315353\n"
     ]
    }
   ],
   "source": [
    "print('Records in Sales df with corresponding zipcode form Sales df',\n",
    "      df_filtered.Postcode.isin(intersection).sum() / len(df_filtered))\n",
    "print('Records in Airbnb df with corresponding zipcode form Airbnb df',\n",
    "      airbnb_df.zipcode.isin(intersection).sum() / len(airbnb_df))"
   ]
  },
  {
   "cell_type": "code",
   "execution_count": 114,
   "metadata": {},
   "outputs": [],
   "source": [
    "columns_airbnb = ['zipcode', 'price']\n",
    "\n",
    "airbnb_filtered = airbnb_df[columns_airbnb]\n",
    "#solo adquirimos las columnas zipcode para realizar la union, y price para tener informacion de los precios por dia\n",
    "#en dicha zona. No se toma weekly price ni monthly price ya que creemos que no aporta mayor informacion.\n"
   ]
  },
  {
   "cell_type": "code",
   "execution_count": 115,
   "metadata": {},
   "outputs": [],
   "source": [
    "#utilizo la funcion count y mean a price para agregarlo como variables\n",
    "airbnb_2 = airbnb_filtered[columns_airbnb].groupby('zipcode')\\\n",
    "   .agg(airbnb_record_count=('price', 'count'),\n",
    "    airbnb_price_day_mean=('price', 'mean'))\\\n",
    "   .reset_index()"
   ]
  },
  {
   "cell_type": "code",
   "execution_count": 116,
   "metadata": {},
   "outputs": [
    {
     "data": {
      "text/html": [
       "<div>\n",
       "<style scoped>\n",
       "    .dataframe tbody tr th:only-of-type {\n",
       "        vertical-align: middle;\n",
       "    }\n",
       "\n",
       "    .dataframe tbody tr th {\n",
       "        vertical-align: top;\n",
       "    }\n",
       "\n",
       "    .dataframe thead th {\n",
       "        text-align: right;\n",
       "    }\n",
       "</style>\n",
       "<table border=\"1\" class=\"dataframe\">\n",
       "  <thead>\n",
       "    <tr style=\"text-align: right;\">\n",
       "      <th></th>\n",
       "      <th>Suburb</th>\n",
       "      <th>Rooms</th>\n",
       "      <th>Type</th>\n",
       "      <th>Price</th>\n",
       "      <th>Distance</th>\n",
       "      <th>Postcode</th>\n",
       "      <th>Bathroom</th>\n",
       "      <th>Car</th>\n",
       "      <th>Landsize</th>\n",
       "      <th>CouncilArea</th>\n",
       "      <th>Propertycount</th>\n",
       "      <th>zipcode</th>\n",
       "      <th>airbnb_record_count</th>\n",
       "      <th>airbnb_price_day_mean</th>\n",
       "    </tr>\n",
       "  </thead>\n",
       "  <tbody>\n",
       "    <tr>\n",
       "      <th>0</th>\n",
       "      <td>Abbotsford</td>\n",
       "      <td>2</td>\n",
       "      <td>h</td>\n",
       "      <td>1480000.0</td>\n",
       "      <td>2.5</td>\n",
       "      <td>3067.0</td>\n",
       "      <td>1.0</td>\n",
       "      <td>1.0</td>\n",
       "      <td>202.0</td>\n",
       "      <td>Yarra</td>\n",
       "      <td>4019.0</td>\n",
       "      <td>3067.0</td>\n",
       "      <td>258.0</td>\n",
       "      <td>130.624031</td>\n",
       "    </tr>\n",
       "    <tr>\n",
       "      <th>1</th>\n",
       "      <td>Abbotsford</td>\n",
       "      <td>2</td>\n",
       "      <td>h</td>\n",
       "      <td>1035000.0</td>\n",
       "      <td>2.5</td>\n",
       "      <td>3067.0</td>\n",
       "      <td>1.0</td>\n",
       "      <td>0.0</td>\n",
       "      <td>156.0</td>\n",
       "      <td>Yarra</td>\n",
       "      <td>4019.0</td>\n",
       "      <td>3067.0</td>\n",
       "      <td>258.0</td>\n",
       "      <td>130.624031</td>\n",
       "    </tr>\n",
       "    <tr>\n",
       "      <th>2</th>\n",
       "      <td>Abbotsford</td>\n",
       "      <td>3</td>\n",
       "      <td>h</td>\n",
       "      <td>1465000.0</td>\n",
       "      <td>2.5</td>\n",
       "      <td>3067.0</td>\n",
       "      <td>2.0</td>\n",
       "      <td>0.0</td>\n",
       "      <td>134.0</td>\n",
       "      <td>Yarra</td>\n",
       "      <td>4019.0</td>\n",
       "      <td>3067.0</td>\n",
       "      <td>258.0</td>\n",
       "      <td>130.624031</td>\n",
       "    </tr>\n",
       "    <tr>\n",
       "      <th>3</th>\n",
       "      <td>Abbotsford</td>\n",
       "      <td>3</td>\n",
       "      <td>h</td>\n",
       "      <td>850000.0</td>\n",
       "      <td>2.5</td>\n",
       "      <td>3067.0</td>\n",
       "      <td>2.0</td>\n",
       "      <td>1.0</td>\n",
       "      <td>94.0</td>\n",
       "      <td>Yarra</td>\n",
       "      <td>4019.0</td>\n",
       "      <td>3067.0</td>\n",
       "      <td>258.0</td>\n",
       "      <td>130.624031</td>\n",
       "    </tr>\n",
       "    <tr>\n",
       "      <th>4</th>\n",
       "      <td>Abbotsford</td>\n",
       "      <td>4</td>\n",
       "      <td>h</td>\n",
       "      <td>1600000.0</td>\n",
       "      <td>2.5</td>\n",
       "      <td>3067.0</td>\n",
       "      <td>1.0</td>\n",
       "      <td>2.0</td>\n",
       "      <td>120.0</td>\n",
       "      <td>Yarra</td>\n",
       "      <td>4019.0</td>\n",
       "      <td>3067.0</td>\n",
       "      <td>258.0</td>\n",
       "      <td>130.624031</td>\n",
       "    </tr>\n",
       "    <tr>\n",
       "      <th>...</th>\n",
       "      <td>...</td>\n",
       "      <td>...</td>\n",
       "      <td>...</td>\n",
       "      <td>...</td>\n",
       "      <td>...</td>\n",
       "      <td>...</td>\n",
       "      <td>...</td>\n",
       "      <td>...</td>\n",
       "      <td>...</td>\n",
       "      <td>...</td>\n",
       "      <td>...</td>\n",
       "      <td>...</td>\n",
       "      <td>...</td>\n",
       "      <td>...</td>\n",
       "    </tr>\n",
       "    <tr>\n",
       "      <th>13076</th>\n",
       "      <td>Westmeadows</td>\n",
       "      <td>3</td>\n",
       "      <td>h</td>\n",
       "      <td>582000.0</td>\n",
       "      <td>16.5</td>\n",
       "      <td>3049.0</td>\n",
       "      <td>2.0</td>\n",
       "      <td>2.0</td>\n",
       "      <td>256.0</td>\n",
       "      <td>NaN</td>\n",
       "      <td>2474.0</td>\n",
       "      <td>3049.0</td>\n",
       "      <td>21.0</td>\n",
       "      <td>92.285714</td>\n",
       "    </tr>\n",
       "    <tr>\n",
       "      <th>13077</th>\n",
       "      <td>Wheelers Hill</td>\n",
       "      <td>4</td>\n",
       "      <td>h</td>\n",
       "      <td>1245000.0</td>\n",
       "      <td>16.7</td>\n",
       "      <td>3150.0</td>\n",
       "      <td>2.0</td>\n",
       "      <td>2.0</td>\n",
       "      <td>652.0</td>\n",
       "      <td>NaN</td>\n",
       "      <td>7392.0</td>\n",
       "      <td>3150.0</td>\n",
       "      <td>189.0</td>\n",
       "      <td>124.026455</td>\n",
       "    </tr>\n",
       "    <tr>\n",
       "      <th>13078</th>\n",
       "      <td>Williamstown</td>\n",
       "      <td>3</td>\n",
       "      <td>h</td>\n",
       "      <td>1031000.0</td>\n",
       "      <td>6.8</td>\n",
       "      <td>3016.0</td>\n",
       "      <td>2.0</td>\n",
       "      <td>2.0</td>\n",
       "      <td>333.0</td>\n",
       "      <td>NaN</td>\n",
       "      <td>6380.0</td>\n",
       "      <td>3016.0</td>\n",
       "      <td>74.0</td>\n",
       "      <td>191.094595</td>\n",
       "    </tr>\n",
       "    <tr>\n",
       "      <th>13079</th>\n",
       "      <td>Williamstown</td>\n",
       "      <td>3</td>\n",
       "      <td>h</td>\n",
       "      <td>1170000.0</td>\n",
       "      <td>6.8</td>\n",
       "      <td>3016.0</td>\n",
       "      <td>2.0</td>\n",
       "      <td>4.0</td>\n",
       "      <td>436.0</td>\n",
       "      <td>NaN</td>\n",
       "      <td>6380.0</td>\n",
       "      <td>3016.0</td>\n",
       "      <td>74.0</td>\n",
       "      <td>191.094595</td>\n",
       "    </tr>\n",
       "    <tr>\n",
       "      <th>13080</th>\n",
       "      <td>Yarraville</td>\n",
       "      <td>4</td>\n",
       "      <td>h</td>\n",
       "      <td>1285000.0</td>\n",
       "      <td>6.3</td>\n",
       "      <td>3013.0</td>\n",
       "      <td>1.0</td>\n",
       "      <td>1.0</td>\n",
       "      <td>362.0</td>\n",
       "      <td>NaN</td>\n",
       "      <td>6543.0</td>\n",
       "      <td>3013.0</td>\n",
       "      <td>82.0</td>\n",
       "      <td>135.609756</td>\n",
       "    </tr>\n",
       "  </tbody>\n",
       "</table>\n",
       "<p>13081 rows × 14 columns</p>\n",
       "</div>"
      ],
      "text/plain": [
       "              Suburb  Rooms Type      Price  Distance  Postcode  Bathroom  \\\n",
       "0         Abbotsford      2    h  1480000.0       2.5    3067.0       1.0   \n",
       "1         Abbotsford      2    h  1035000.0       2.5    3067.0       1.0   \n",
       "2         Abbotsford      3    h  1465000.0       2.5    3067.0       2.0   \n",
       "3         Abbotsford      3    h   850000.0       2.5    3067.0       2.0   \n",
       "4         Abbotsford      4    h  1600000.0       2.5    3067.0       1.0   \n",
       "...              ...    ...  ...        ...       ...       ...       ...   \n",
       "13076    Westmeadows      3    h   582000.0      16.5    3049.0       2.0   \n",
       "13077  Wheelers Hill      4    h  1245000.0      16.7    3150.0       2.0   \n",
       "13078   Williamstown      3    h  1031000.0       6.8    3016.0       2.0   \n",
       "13079   Williamstown      3    h  1170000.0       6.8    3016.0       2.0   \n",
       "13080     Yarraville      4    h  1285000.0       6.3    3013.0       1.0   \n",
       "\n",
       "       Car  Landsize CouncilArea  Propertycount  zipcode  airbnb_record_count  \\\n",
       "0      1.0     202.0       Yarra         4019.0   3067.0                258.0   \n",
       "1      0.0     156.0       Yarra         4019.0   3067.0                258.0   \n",
       "2      0.0     134.0       Yarra         4019.0   3067.0                258.0   \n",
       "3      1.0      94.0       Yarra         4019.0   3067.0                258.0   \n",
       "4      2.0     120.0       Yarra         4019.0   3067.0                258.0   \n",
       "...    ...       ...         ...            ...      ...                  ...   \n",
       "13076  2.0     256.0         NaN         2474.0   3049.0                 21.0   \n",
       "13077  2.0     652.0         NaN         7392.0   3150.0                189.0   \n",
       "13078  2.0     333.0         NaN         6380.0   3016.0                 74.0   \n",
       "13079  4.0     436.0         NaN         6380.0   3016.0                 74.0   \n",
       "13080  1.0     362.0         NaN         6543.0   3013.0                 82.0   \n",
       "\n",
       "       airbnb_price_day_mean  \n",
       "0                 130.624031  \n",
       "1                 130.624031  \n",
       "2                 130.624031  \n",
       "3                 130.624031  \n",
       "4                 130.624031  \n",
       "...                      ...  \n",
       "13076              92.285714  \n",
       "13077             124.026455  \n",
       "13078             191.094595  \n",
       "13079             191.094595  \n",
       "13080             135.609756  \n",
       "\n",
       "[13081 rows x 14 columns]"
      ]
     },
     "execution_count": 116,
     "metadata": {},
     "output_type": "execute_result"
    }
   ],
   "source": [
    "merged_sales_df = df_filtered.merge(\n",
    "    airbnb_2, how='left',\n",
    "    left_on='Postcode', right_on='zipcode'\n",
    ")\n",
    "merged_sales_df\n",
    "#realizo el merge de los df"
   ]
  },
  {
   "cell_type": "markdown",
   "metadata": {},
   "source": [
    "## 8\n",
    "\n",
    "Investigar al menos otras 2 variables que puedan servir para combinar los datos, y justificar si serían adecuadas o no. Pueden asumir que cuentan con la ayuda de anotadores expertos para encontrar equivalencias entre barrios o direcciones, o que cuentan con algoritmos para encontrar las n ubicaciones más cercanas a una propiedad a partir de sus coordenadas geográficas. NO es necesario que realicen la implementación."
   ]
  },
  {
   "cell_type": "code",
   "execution_count": 117,
   "metadata": {},
   "outputs": [
    {
     "name": "stdout",
     "output_type": "stream",
     "text": [
      "Airbnb unique suburb 543\n",
      "Sales unique suburb 253\n",
      "Common suburb 246\n"
     ]
    }
   ],
   "source": [
    "#genero un array de los valores en formato str\n",
    "array=df_filtered.Suburb.values\n",
    "array_str_df=[]\n",
    "for i in array:\n",
    "    array_str_df.append(str(i))\n",
    "array2=airbnb_df.suburb.values\n",
    "array_str_airbnb=[]\n",
    "for i in array2:\n",
    "    array_str_airbnb.append(str(i))\n",
    "    \n",
    "#realizo la interseccion de arrays en formato str\n",
    "import collections\n",
    "def flatten(x):\n",
    "    result = []\n",
    "    for el in x:\n",
    "        if isinstance(x, collections.Iterable) and not isinstance(el, str):\n",
    "            result.extend(flatten(el))\n",
    "        else:\n",
    "            result.append(el)\n",
    "    return result\n",
    " \n",
    "a = flatten(array_str_airbnb)\n",
    "b = flatten(array_str_df)\n",
    "common_elements = list(set(a).intersection(set(b)))\n",
    "\n",
    "\n",
    "print(\"Airbnb unique suburb\", len(airbnb_df.suburb.unique()))\n",
    "print(\"Sales unique suburb\", len(df_filtered.Suburb.unique()))\n",
    "print(\"Common suburb\", len(common_elements))\n",
    "#se ve que la mayoria de los valores de sales estan en el de airbnb"
   ]
  },
  {
   "cell_type": "code",
   "execution_count": 118,
   "metadata": {},
   "outputs": [
    {
     "name": "stdout",
     "output_type": "stream",
     "text": [
      "Airbnb unique neighborhood 60\n",
      "Sales unique suburb 253\n",
      "Common suburb 50\n"
     ]
    }
   ],
   "source": [
    "\n",
    "#genero un array de los valores en formato str\n",
    "array=df_filtered.Suburb.values\n",
    "array_str_df=[]\n",
    "for i in array:\n",
    "    array_str_df.append(str(i))\n",
    "array2=airbnb_df.neighborhood.values\n",
    "array_str_airbnb=[]\n",
    "for i in array2:\n",
    "    array_str_airbnb.append(str(i))\n",
    "    \n",
    "#realizo la interseccion de arrays en formato str\n",
    "import collections\n",
    "def flatten(x):\n",
    "    result = []\n",
    "    for el in x:\n",
    "        if isinstance(x, collections.Iterable) and not isinstance(el, str):\n",
    "            result.extend(flatten(el))\n",
    "        else:\n",
    "            result.append(el)\n",
    "    return result\n",
    " \n",
    "a = flatten(array_str_airbnb)\n",
    "b = flatten(array_str_df)\n",
    "common_elements = list(set(a).intersection(set(b)))\n",
    "\n",
    "\n",
    "print(\"Airbnb unique neighborhood\", len(airbnb_df.neighborhood.unique()))\n",
    "print(\"Sales unique suburb\", len(df_filtered.Suburb.unique()))\n",
    "print(\"Common suburb\", len(common_elements))\n",
    "#se ve que la mayoria de los valores de sales estan en el de airbnb"
   ]
  },
  {
   "cell_type": "markdown",
   "metadata": {},
   "source": [
    "Analizamos las dos variables que se podrian utilizar para realizar la union, de las cuales observamos que las variables suburb y neighborhood del dataframe airbnb podria utilizarse para realizar el merge con la variable suburb de melb_df. \n",
    "Podriamos utilizar un join para unir los valores de neighboorhood con suburb para que incluya todos los valores de suburb y no solo los comunes."
   ]
  },
  {
   "cell_type": "markdown",
   "metadata": {
    "id": "ismngxPcfoWb"
   },
   "source": [
    "## Ejercicio 2: Imputación\n",
    "\n",
    "1. Imputar los valores faltantes de la columna CouncilArea en base a la información presente en Suburb. (Si en el punto anterior no seleccionó ninguna de estas variables, agréguelas ahora el conjunto de datos).\n",
    "\n",
    "2. Imputar los valores faltantes de la(s) columna(s) que se agregaron a partir del conjunto de datos de AirBnB.\n",
    "\n"
   ]
  },
  {
   "cell_type": "code",
   "execution_count": 123,
   "metadata": {},
   "outputs": [
    {
     "data": {
      "text/plain": [
       "1245"
      ]
     },
     "execution_count": 123,
     "metadata": {},
     "output_type": "execute_result"
    }
   ],
   "source": [
    "missing_values_count = merged_sales_df['CouncilArea'].isna().sum() \n",
    "missing_values_count"
   ]
  },
  {
   "cell_type": "code",
   "execution_count": 124,
   "metadata": {},
   "outputs": [
    {
     "data": {
      "text/plain": [
       "Suburb                   False\n",
       "Rooms                    False\n",
       "Type                     False\n",
       "Price                    False\n",
       "Distance                 False\n",
       "Postcode                 False\n",
       "Bathroom                 False\n",
       "Car                      False\n",
       "Landsize                 False\n",
       "CouncilArea               True\n",
       "Propertycount            False\n",
       "zipcode                   True\n",
       "airbnb_record_count       True\n",
       "airbnb_price_day_mean     True\n",
       "dtype: bool"
      ]
     },
     "execution_count": 124,
     "metadata": {},
     "output_type": "execute_result"
    }
   ],
   "source": [
    "merged_sales_df.isna().any().head(60)\n",
    "#observamos los valores true en las variables que tienen valores nulos."
   ]
  },
  {
   "cell_type": "code",
   "execution_count": 55,
   "metadata": {},
   "outputs": [],
   "source": [
    "from sklearn.impute import KNNImputer\n",
    "import re\n",
    "\n",
    "# Get CouncilArea & Suburb dummies\n",
    "dummies_variables = merged_sales_df[['CouncilArea','Suburb']]\n",
    "df_dummies = pandas.get_dummies(dummies_variables, drop_first=True,dummy_na=True)\n",
    "\n",
    "#borro las columnas generadas con nan. Se pone en las columnas correspondientes un nan y no un 0.\n",
    "nan_df = df_dummies.loc[:, df_dummies.columns.str.endswith(\"_nan\")]\n",
    "pattern = \"^([^_]*)_\"\n",
    "regex = re.compile(pattern)\n",
    "\n",
    "for index in df_dummies.index:\n",
    "    for col_nan in nan_df.columns:\n",
    "        if df_dummies.loc[index,col_nan] == 1:\n",
    "            col_id = regex.search(col_nan).group(1)\n",
    "            targets = df_dummies.columns[df_dummies.columns.str.startswith(col_id+'_')]\n",
    "            df_dummies.loc[index, targets] = np.nan\n",
    "            \n",
    "df_dummies.drop(df_dummies.columns[df_dummies.columns.str.endswith('_nan')], axis=1, inplace=True)\n",
    "\n",
    "# Inputing by suburb\n",
    "imputer = KNNImputer(n_neighbors=5)\n",
    "df_dummies = pandas.DataFrame(imputer.fit_transform(df_dummies),columns = df_dummies.columns)\n",
    "\n",
    "# Concat new dummies vars and drop unused columns\n",
    "df = pandas.concat([merged_sales_df,df_dummies],axis=1)\n",
    "df=df.drop([\"CouncilArea\"],axis=1)\n",
    "df=df.drop([\"Suburb\"],axis=1)"
   ]
  },
  {
   "cell_type": "code",
   "execution_count": 56,
   "metadata": {},
   "outputs": [
    {
     "data": {
      "text/plain": [
       "Rooms                            False\n",
       "Type                             False\n",
       "Price                            False\n",
       "Distance                         False\n",
       "Postcode                         False\n",
       "Bathroom                         False\n",
       "Car                              False\n",
       "Landsize                         False\n",
       "Propertycount                    False\n",
       "zipcode                           True\n",
       "airbnb_record_count               True\n",
       "airbnb_price_day_mean             True\n",
       "CouncilArea_Bayside              False\n",
       "CouncilArea_Boroondara           False\n",
       "CouncilArea_Brimbank             False\n",
       "CouncilArea_Casey                False\n",
       "CouncilArea_Darebin              False\n",
       "CouncilArea_Frankston            False\n",
       "CouncilArea_Glen Eira            False\n",
       "CouncilArea_Greater Dandenong    False\n",
       "CouncilArea_Hobsons Bay          False\n",
       "CouncilArea_Hume                 False\n",
       "CouncilArea_Kingston             False\n",
       "CouncilArea_Knox                 False\n",
       "CouncilArea_Manningham           False\n",
       "CouncilArea_Maribyrnong          False\n",
       "CouncilArea_Maroondah            False\n",
       "CouncilArea_Melbourne            False\n",
       "CouncilArea_Melton               False\n",
       "CouncilArea_Monash               False\n",
       "CouncilArea_Moonee Valley        False\n",
       "CouncilArea_Moreland             False\n",
       "CouncilArea_Nillumbik            False\n",
       "CouncilArea_Other                False\n",
       "CouncilArea_Port Phillip         False\n",
       "CouncilArea_Stonnington          False\n",
       "CouncilArea_Whitehorse           False\n",
       "CouncilArea_Wyndham              False\n",
       "CouncilArea_Yarra                False\n",
       "CouncilArea_others               False\n",
       "Suburb_Aberfeldie                False\n",
       "Suburb_Airport West              False\n",
       "Suburb_Albanvale                 False\n",
       "Suburb_Albert Park               False\n",
       "Suburb_Albion                    False\n",
       "Suburb_Alphington                False\n",
       "Suburb_Altona                    False\n",
       "Suburb_Altona Meadows            False\n",
       "Suburb_Altona North              False\n",
       "Suburb_Armadale                  False\n",
       "Suburb_Ascot Vale                False\n",
       "Suburb_Ashburton                 False\n",
       "Suburb_Ashwood                   False\n",
       "Suburb_Aspendale                 False\n",
       "Suburb_Avondale Heights          False\n",
       "Suburb_Balaclava                 False\n",
       "Suburb_Balwyn                    False\n",
       "Suburb_Balwyn North              False\n",
       "Suburb_Bayswater                 False\n",
       "Suburb_Bayswater North           False\n",
       "dtype: bool"
      ]
     },
     "execution_count": 56,
     "metadata": {},
     "output_type": "execute_result"
    }
   ],
   "source": [
    "df.isna().any().head(60)\n",
    "#se realizo la imputacion a council area utilizando suburb"
   ]
  },
  {
   "cell_type": "code",
   "execution_count": 57,
   "metadata": {},
   "outputs": [
    {
     "data": {
      "text/html": [
       "<div>\n",
       "<style scoped>\n",
       "    .dataframe tbody tr th:only-of-type {\n",
       "        vertical-align: middle;\n",
       "    }\n",
       "\n",
       "    .dataframe tbody tr th {\n",
       "        vertical-align: top;\n",
       "    }\n",
       "\n",
       "    .dataframe thead th {\n",
       "        text-align: right;\n",
       "    }\n",
       "</style>\n",
       "<table border=\"1\" class=\"dataframe\">\n",
       "  <thead>\n",
       "    <tr style=\"text-align: right;\">\n",
       "      <th></th>\n",
       "      <th>Rooms</th>\n",
       "      <th>Price</th>\n",
       "      <th>Distance</th>\n",
       "      <th>Postcode</th>\n",
       "      <th>Bathroom</th>\n",
       "      <th>Car</th>\n",
       "      <th>Landsize</th>\n",
       "      <th>Propertycount</th>\n",
       "      <th>zipcode</th>\n",
       "      <th>airbnb_record_count</th>\n",
       "      <th>...</th>\n",
       "      <th>Suburb_Wheelers Hill</th>\n",
       "      <th>Suburb_Williamstown</th>\n",
       "      <th>Suburb_Williamstown North</th>\n",
       "      <th>Suburb_Windsor</th>\n",
       "      <th>Suburb_Wollert</th>\n",
       "      <th>Suburb_Yallambie</th>\n",
       "      <th>Suburb_Yarraville</th>\n",
       "      <th>Suburb_others</th>\n",
       "      <th>Type_t</th>\n",
       "      <th>Type_u</th>\n",
       "    </tr>\n",
       "  </thead>\n",
       "  <tbody>\n",
       "    <tr>\n",
       "      <th>0</th>\n",
       "      <td>0.25</td>\n",
       "      <td>0.474490</td>\n",
       "      <td>0.052743</td>\n",
       "      <td>0.068577</td>\n",
       "      <td>0.000000</td>\n",
       "      <td>0.25</td>\n",
       "      <td>0.000466</td>\n",
       "      <td>0.176160</td>\n",
       "      <td>0.068577</td>\n",
       "      <td>0.076352</td>\n",
       "      <td>...</td>\n",
       "      <td>0.0</td>\n",
       "      <td>0.0</td>\n",
       "      <td>0.0</td>\n",
       "      <td>0.0</td>\n",
       "      <td>0.0</td>\n",
       "      <td>0.0</td>\n",
       "      <td>0.0</td>\n",
       "      <td>0.0</td>\n",
       "      <td>0.0</td>\n",
       "      <td>0.0</td>\n",
       "    </tr>\n",
       "    <tr>\n",
       "      <th>1</th>\n",
       "      <td>0.25</td>\n",
       "      <td>0.323129</td>\n",
       "      <td>0.052743</td>\n",
       "      <td>0.068577</td>\n",
       "      <td>0.000000</td>\n",
       "      <td>0.00</td>\n",
       "      <td>0.000360</td>\n",
       "      <td>0.176160</td>\n",
       "      <td>0.068577</td>\n",
       "      <td>0.076352</td>\n",
       "      <td>...</td>\n",
       "      <td>0.0</td>\n",
       "      <td>0.0</td>\n",
       "      <td>0.0</td>\n",
       "      <td>0.0</td>\n",
       "      <td>0.0</td>\n",
       "      <td>0.0</td>\n",
       "      <td>0.0</td>\n",
       "      <td>0.0</td>\n",
       "      <td>0.0</td>\n",
       "      <td>0.0</td>\n",
       "    </tr>\n",
       "    <tr>\n",
       "      <th>2</th>\n",
       "      <td>0.50</td>\n",
       "      <td>0.469388</td>\n",
       "      <td>0.052743</td>\n",
       "      <td>0.068577</td>\n",
       "      <td>0.333333</td>\n",
       "      <td>0.00</td>\n",
       "      <td>0.000309</td>\n",
       "      <td>0.176160</td>\n",
       "      <td>0.068577</td>\n",
       "      <td>0.076352</td>\n",
       "      <td>...</td>\n",
       "      <td>0.0</td>\n",
       "      <td>0.0</td>\n",
       "      <td>0.0</td>\n",
       "      <td>0.0</td>\n",
       "      <td>0.0</td>\n",
       "      <td>0.0</td>\n",
       "      <td>0.0</td>\n",
       "      <td>0.0</td>\n",
       "      <td>0.0</td>\n",
       "      <td>0.0</td>\n",
       "    </tr>\n",
       "    <tr>\n",
       "      <th>3</th>\n",
       "      <td>0.50</td>\n",
       "      <td>0.260204</td>\n",
       "      <td>0.052743</td>\n",
       "      <td>0.068577</td>\n",
       "      <td>0.333333</td>\n",
       "      <td>0.25</td>\n",
       "      <td>0.000217</td>\n",
       "      <td>0.176160</td>\n",
       "      <td>0.068577</td>\n",
       "      <td>0.076352</td>\n",
       "      <td>...</td>\n",
       "      <td>0.0</td>\n",
       "      <td>0.0</td>\n",
       "      <td>0.0</td>\n",
       "      <td>0.0</td>\n",
       "      <td>0.0</td>\n",
       "      <td>0.0</td>\n",
       "      <td>0.0</td>\n",
       "      <td>0.0</td>\n",
       "      <td>0.0</td>\n",
       "      <td>0.0</td>\n",
       "    </tr>\n",
       "    <tr>\n",
       "      <th>4</th>\n",
       "      <td>0.75</td>\n",
       "      <td>0.515306</td>\n",
       "      <td>0.052743</td>\n",
       "      <td>0.068577</td>\n",
       "      <td>0.000000</td>\n",
       "      <td>0.50</td>\n",
       "      <td>0.000277</td>\n",
       "      <td>0.176160</td>\n",
       "      <td>0.068577</td>\n",
       "      <td>0.076352</td>\n",
       "      <td>...</td>\n",
       "      <td>0.0</td>\n",
       "      <td>0.0</td>\n",
       "      <td>0.0</td>\n",
       "      <td>0.0</td>\n",
       "      <td>0.0</td>\n",
       "      <td>0.0</td>\n",
       "      <td>0.0</td>\n",
       "      <td>0.0</td>\n",
       "      <td>0.0</td>\n",
       "      <td>0.0</td>\n",
       "    </tr>\n",
       "    <tr>\n",
       "      <th>...</th>\n",
       "      <td>...</td>\n",
       "      <td>...</td>\n",
       "      <td>...</td>\n",
       "      <td>...</td>\n",
       "      <td>...</td>\n",
       "      <td>...</td>\n",
       "      <td>...</td>\n",
       "      <td>...</td>\n",
       "      <td>...</td>\n",
       "      <td>...</td>\n",
       "      <td>...</td>\n",
       "      <td>...</td>\n",
       "      <td>...</td>\n",
       "      <td>...</td>\n",
       "      <td>...</td>\n",
       "      <td>...</td>\n",
       "      <td>...</td>\n",
       "      <td>...</td>\n",
       "      <td>...</td>\n",
       "      <td>...</td>\n",
       "      <td>...</td>\n",
       "    </tr>\n",
       "    <tr>\n",
       "      <th>13076</th>\n",
       "      <td>0.50</td>\n",
       "      <td>0.169048</td>\n",
       "      <td>0.348101</td>\n",
       "      <td>0.050154</td>\n",
       "      <td>0.333333</td>\n",
       "      <td>0.50</td>\n",
       "      <td>0.000591</td>\n",
       "      <td>0.103967</td>\n",
       "      <td>0.050154</td>\n",
       "      <td>0.005942</td>\n",
       "      <td>...</td>\n",
       "      <td>0.0</td>\n",
       "      <td>0.0</td>\n",
       "      <td>0.0</td>\n",
       "      <td>0.0</td>\n",
       "      <td>0.0</td>\n",
       "      <td>0.0</td>\n",
       "      <td>0.0</td>\n",
       "      <td>0.0</td>\n",
       "      <td>0.0</td>\n",
       "      <td>0.0</td>\n",
       "    </tr>\n",
       "    <tr>\n",
       "      <th>13077</th>\n",
       "      <td>0.75</td>\n",
       "      <td>0.394558</td>\n",
       "      <td>0.352321</td>\n",
       "      <td>0.153531</td>\n",
       "      <td>0.333333</td>\n",
       "      <td>0.50</td>\n",
       "      <td>0.001506</td>\n",
       "      <td>0.333769</td>\n",
       "      <td>0.153531</td>\n",
       "      <td>0.055853</td>\n",
       "      <td>...</td>\n",
       "      <td>1.0</td>\n",
       "      <td>0.0</td>\n",
       "      <td>0.0</td>\n",
       "      <td>0.0</td>\n",
       "      <td>0.0</td>\n",
       "      <td>0.0</td>\n",
       "      <td>0.0</td>\n",
       "      <td>0.0</td>\n",
       "      <td>0.0</td>\n",
       "      <td>0.0</td>\n",
       "    </tr>\n",
       "    <tr>\n",
       "      <th>13078</th>\n",
       "      <td>0.50</td>\n",
       "      <td>0.321769</td>\n",
       "      <td>0.143460</td>\n",
       "      <td>0.016377</td>\n",
       "      <td>0.333333</td>\n",
       "      <td>0.50</td>\n",
       "      <td>0.000769</td>\n",
       "      <td>0.286482</td>\n",
       "      <td>0.016377</td>\n",
       "      <td>0.021687</td>\n",
       "      <td>...</td>\n",
       "      <td>0.0</td>\n",
       "      <td>1.0</td>\n",
       "      <td>0.0</td>\n",
       "      <td>0.0</td>\n",
       "      <td>0.0</td>\n",
       "      <td>0.0</td>\n",
       "      <td>0.0</td>\n",
       "      <td>0.0</td>\n",
       "      <td>0.0</td>\n",
       "      <td>0.0</td>\n",
       "    </tr>\n",
       "    <tr>\n",
       "      <th>13079</th>\n",
       "      <td>0.50</td>\n",
       "      <td>0.369048</td>\n",
       "      <td>0.143460</td>\n",
       "      <td>0.016377</td>\n",
       "      <td>0.333333</td>\n",
       "      <td>1.00</td>\n",
       "      <td>0.001007</td>\n",
       "      <td>0.286482</td>\n",
       "      <td>0.016377</td>\n",
       "      <td>0.021687</td>\n",
       "      <td>...</td>\n",
       "      <td>0.0</td>\n",
       "      <td>1.0</td>\n",
       "      <td>0.0</td>\n",
       "      <td>0.0</td>\n",
       "      <td>0.0</td>\n",
       "      <td>0.0</td>\n",
       "      <td>0.0</td>\n",
       "      <td>0.0</td>\n",
       "      <td>0.0</td>\n",
       "      <td>0.0</td>\n",
       "    </tr>\n",
       "    <tr>\n",
       "      <th>13080</th>\n",
       "      <td>0.75</td>\n",
       "      <td>0.408163</td>\n",
       "      <td>0.132911</td>\n",
       "      <td>0.013306</td>\n",
       "      <td>0.000000</td>\n",
       "      <td>0.25</td>\n",
       "      <td>0.000836</td>\n",
       "      <td>0.294098</td>\n",
       "      <td>0.013306</td>\n",
       "      <td>0.024064</td>\n",
       "      <td>...</td>\n",
       "      <td>0.0</td>\n",
       "      <td>0.0</td>\n",
       "      <td>0.0</td>\n",
       "      <td>0.0</td>\n",
       "      <td>0.0</td>\n",
       "      <td>0.0</td>\n",
       "      <td>1.0</td>\n",
       "      <td>0.0</td>\n",
       "      <td>0.0</td>\n",
       "      <td>0.0</td>\n",
       "    </tr>\n",
       "  </tbody>\n",
       "</table>\n",
       "<p>13081 rows × 293 columns</p>\n",
       "</div>"
      ],
      "text/plain": [
       "       Rooms     Price  Distance  Postcode  Bathroom   Car  Landsize  \\\n",
       "0       0.25  0.474490  0.052743  0.068577  0.000000  0.25  0.000466   \n",
       "1       0.25  0.323129  0.052743  0.068577  0.000000  0.00  0.000360   \n",
       "2       0.50  0.469388  0.052743  0.068577  0.333333  0.00  0.000309   \n",
       "3       0.50  0.260204  0.052743  0.068577  0.333333  0.25  0.000217   \n",
       "4       0.75  0.515306  0.052743  0.068577  0.000000  0.50  0.000277   \n",
       "...      ...       ...       ...       ...       ...   ...       ...   \n",
       "13076   0.50  0.169048  0.348101  0.050154  0.333333  0.50  0.000591   \n",
       "13077   0.75  0.394558  0.352321  0.153531  0.333333  0.50  0.001506   \n",
       "13078   0.50  0.321769  0.143460  0.016377  0.333333  0.50  0.000769   \n",
       "13079   0.50  0.369048  0.143460  0.016377  0.333333  1.00  0.001007   \n",
       "13080   0.75  0.408163  0.132911  0.013306  0.000000  0.25  0.000836   \n",
       "\n",
       "       Propertycount   zipcode  airbnb_record_count  ...  \\\n",
       "0           0.176160  0.068577             0.076352  ...   \n",
       "1           0.176160  0.068577             0.076352  ...   \n",
       "2           0.176160  0.068577             0.076352  ...   \n",
       "3           0.176160  0.068577             0.076352  ...   \n",
       "4           0.176160  0.068577             0.076352  ...   \n",
       "...              ...       ...                  ...  ...   \n",
       "13076       0.103967  0.050154             0.005942  ...   \n",
       "13077       0.333769  0.153531             0.055853  ...   \n",
       "13078       0.286482  0.016377             0.021687  ...   \n",
       "13079       0.286482  0.016377             0.021687  ...   \n",
       "13080       0.294098  0.013306             0.024064  ...   \n",
       "\n",
       "       Suburb_Wheelers Hill  Suburb_Williamstown  Suburb_Williamstown North  \\\n",
       "0                       0.0                  0.0                        0.0   \n",
       "1                       0.0                  0.0                        0.0   \n",
       "2                       0.0                  0.0                        0.0   \n",
       "3                       0.0                  0.0                        0.0   \n",
       "4                       0.0                  0.0                        0.0   \n",
       "...                     ...                  ...                        ...   \n",
       "13076                   0.0                  0.0                        0.0   \n",
       "13077                   1.0                  0.0                        0.0   \n",
       "13078                   0.0                  1.0                        0.0   \n",
       "13079                   0.0                  1.0                        0.0   \n",
       "13080                   0.0                  0.0                        0.0   \n",
       "\n",
       "       Suburb_Windsor  Suburb_Wollert  Suburb_Yallambie  Suburb_Yarraville  \\\n",
       "0                 0.0             0.0               0.0                0.0   \n",
       "1                 0.0             0.0               0.0                0.0   \n",
       "2                 0.0             0.0               0.0                0.0   \n",
       "3                 0.0             0.0               0.0                0.0   \n",
       "4                 0.0             0.0               0.0                0.0   \n",
       "...               ...             ...               ...                ...   \n",
       "13076             0.0             0.0               0.0                0.0   \n",
       "13077             0.0             0.0               0.0                0.0   \n",
       "13078             0.0             0.0               0.0                0.0   \n",
       "13079             0.0             0.0               0.0                0.0   \n",
       "13080             0.0             0.0               0.0                1.0   \n",
       "\n",
       "       Suburb_others  Type_t  Type_u  \n",
       "0                0.0     0.0     0.0  \n",
       "1                0.0     0.0     0.0  \n",
       "2                0.0     0.0     0.0  \n",
       "3                0.0     0.0     0.0  \n",
       "4                0.0     0.0     0.0  \n",
       "...              ...     ...     ...  \n",
       "13076            0.0     0.0     0.0  \n",
       "13077            0.0     0.0     0.0  \n",
       "13078            0.0     0.0     0.0  \n",
       "13079            0.0     0.0     0.0  \n",
       "13080            0.0     0.0     0.0  \n",
       "\n",
       "[13081 rows x 293 columns]"
      ]
     },
     "execution_count": 57,
     "metadata": {},
     "output_type": "execute_result"
    }
   ],
   "source": [
    "from sklearn.preprocessing import MinMaxScaler\n",
    "\n",
    "# Get dummies for Type\n",
    "new_dummies_variables = df[['Type']]\n",
    "new_df_dummies = pandas.get_dummies(new_dummies_variables, drop_first=True)\n",
    "\n",
    "## Concat type dummies\n",
    "new_df = pandas.concat([df,new_df_dummies],axis=1)\n",
    "new_df = new_df.drop(['Type'],axis=1)\n",
    "\n",
    "# Scalling\n",
    "scaler = MinMaxScaler()\n",
    "new_df = pandas.DataFrame(scaler.fit_transform(new_df), columns = new_df.columns)\n",
    "\n",
    "# Inputing rest of the missing values\n",
    "imputer = KNNImputer(n_neighbors=5)\n",
    "new_df = pandas.DataFrame(imputer.fit_transform(new_df),columns = new_df.columns)\n",
    "new_df"
   ]
  },
  {
   "cell_type": "code",
   "execution_count": 58,
   "metadata": {},
   "outputs": [
    {
     "data": {
      "text/plain": [
       "Rooms                            False\n",
       "Price                            False\n",
       "Distance                         False\n",
       "Postcode                         False\n",
       "Bathroom                         False\n",
       "Car                              False\n",
       "Landsize                         False\n",
       "Propertycount                    False\n",
       "zipcode                          False\n",
       "airbnb_record_count              False\n",
       "airbnb_price_day_mean            False\n",
       "CouncilArea_Bayside              False\n",
       "CouncilArea_Boroondara           False\n",
       "CouncilArea_Brimbank             False\n",
       "CouncilArea_Casey                False\n",
       "CouncilArea_Darebin              False\n",
       "CouncilArea_Frankston            False\n",
       "CouncilArea_Glen Eira            False\n",
       "CouncilArea_Greater Dandenong    False\n",
       "CouncilArea_Hobsons Bay          False\n",
       "CouncilArea_Hume                 False\n",
       "CouncilArea_Kingston             False\n",
       "CouncilArea_Knox                 False\n",
       "CouncilArea_Manningham           False\n",
       "CouncilArea_Maribyrnong          False\n",
       "CouncilArea_Maroondah            False\n",
       "CouncilArea_Melbourne            False\n",
       "CouncilArea_Melton               False\n",
       "CouncilArea_Monash               False\n",
       "CouncilArea_Moonee Valley        False\n",
       "CouncilArea_Moreland             False\n",
       "CouncilArea_Nillumbik            False\n",
       "CouncilArea_Other                False\n",
       "CouncilArea_Port Phillip         False\n",
       "CouncilArea_Stonnington          False\n",
       "CouncilArea_Whitehorse           False\n",
       "CouncilArea_Wyndham              False\n",
       "CouncilArea_Yarra                False\n",
       "CouncilArea_others               False\n",
       "Suburb_Aberfeldie                False\n",
       "Suburb_Airport West              False\n",
       "Suburb_Albanvale                 False\n",
       "Suburb_Albert Park               False\n",
       "Suburb_Albion                    False\n",
       "Suburb_Alphington                False\n",
       "Suburb_Altona                    False\n",
       "Suburb_Altona Meadows            False\n",
       "Suburb_Altona North              False\n",
       "Suburb_Armadale                  False\n",
       "Suburb_Ascot Vale                False\n",
       "Suburb_Ashburton                 False\n",
       "Suburb_Ashwood                   False\n",
       "Suburb_Aspendale                 False\n",
       "Suburb_Avondale Heights          False\n",
       "Suburb_Balaclava                 False\n",
       "Suburb_Balwyn                    False\n",
       "Suburb_Balwyn North              False\n",
       "Suburb_Bayswater                 False\n",
       "Suburb_Bayswater North           False\n",
       "Suburb_Beaumaris                 False\n",
       "dtype: bool"
      ]
     },
     "execution_count": 58,
     "metadata": {},
     "output_type": "execute_result"
    }
   ],
   "source": [
    "new_df.isna().any().head(60)\n",
    "#No hay mas valores nulos en el df"
   ]
  },
  {
   "cell_type": "markdown",
   "metadata": {
    "id": "NBN7-5OIxjJW"
   },
   "source": [
    "## Ejercicio 3\n",
    "\n",
    "Crear y guardar un nuevo conjunto de datos con todas las transformaciones realizadas anteriormente."
   ]
  },
  {
   "cell_type": "code",
   "execution_count": 59,
   "metadata": {
    "id": "DfchYPgTxvQ4"
   },
   "outputs": [],
   "source": [
    "new_df.to_csv('Dataframe_melb.csv',index=False)"
   ]
  },
  {
   "cell_type": "code",
   "execution_count": 60,
   "metadata": {},
   "outputs": [
    {
     "data": {
      "text/html": [
       "<div>\n",
       "<style scoped>\n",
       "    .dataframe tbody tr th:only-of-type {\n",
       "        vertical-align: middle;\n",
       "    }\n",
       "\n",
       "    .dataframe tbody tr th {\n",
       "        vertical-align: top;\n",
       "    }\n",
       "\n",
       "    .dataframe thead th {\n",
       "        text-align: right;\n",
       "    }\n",
       "</style>\n",
       "<table border=\"1\" class=\"dataframe\">\n",
       "  <thead>\n",
       "    <tr style=\"text-align: right;\">\n",
       "      <th></th>\n",
       "      <th>Rooms</th>\n",
       "      <th>Price</th>\n",
       "      <th>Distance</th>\n",
       "      <th>Postcode</th>\n",
       "      <th>Bathroom</th>\n",
       "      <th>Car</th>\n",
       "      <th>Landsize</th>\n",
       "      <th>Propertycount</th>\n",
       "      <th>zipcode</th>\n",
       "      <th>airbnb_record_count</th>\n",
       "      <th>...</th>\n",
       "      <th>Suburb_Wheelers Hill</th>\n",
       "      <th>Suburb_Williamstown</th>\n",
       "      <th>Suburb_Williamstown North</th>\n",
       "      <th>Suburb_Windsor</th>\n",
       "      <th>Suburb_Wollert</th>\n",
       "      <th>Suburb_Yallambie</th>\n",
       "      <th>Suburb_Yarraville</th>\n",
       "      <th>Suburb_others</th>\n",
       "      <th>Type_t</th>\n",
       "      <th>Type_u</th>\n",
       "    </tr>\n",
       "  </thead>\n",
       "  <tbody>\n",
       "    <tr>\n",
       "      <th>0</th>\n",
       "      <td>0.25</td>\n",
       "      <td>0.474490</td>\n",
       "      <td>0.052743</td>\n",
       "      <td>0.068577</td>\n",
       "      <td>0.000000</td>\n",
       "      <td>0.25</td>\n",
       "      <td>0.000466</td>\n",
       "      <td>0.176160</td>\n",
       "      <td>0.068577</td>\n",
       "      <td>0.076352</td>\n",
       "      <td>...</td>\n",
       "      <td>0.0</td>\n",
       "      <td>0.0</td>\n",
       "      <td>0.0</td>\n",
       "      <td>0.0</td>\n",
       "      <td>0.0</td>\n",
       "      <td>0.0</td>\n",
       "      <td>0.0</td>\n",
       "      <td>0.0</td>\n",
       "      <td>0.0</td>\n",
       "      <td>0.0</td>\n",
       "    </tr>\n",
       "    <tr>\n",
       "      <th>1</th>\n",
       "      <td>0.25</td>\n",
       "      <td>0.323129</td>\n",
       "      <td>0.052743</td>\n",
       "      <td>0.068577</td>\n",
       "      <td>0.000000</td>\n",
       "      <td>0.00</td>\n",
       "      <td>0.000360</td>\n",
       "      <td>0.176160</td>\n",
       "      <td>0.068577</td>\n",
       "      <td>0.076352</td>\n",
       "      <td>...</td>\n",
       "      <td>0.0</td>\n",
       "      <td>0.0</td>\n",
       "      <td>0.0</td>\n",
       "      <td>0.0</td>\n",
       "      <td>0.0</td>\n",
       "      <td>0.0</td>\n",
       "      <td>0.0</td>\n",
       "      <td>0.0</td>\n",
       "      <td>0.0</td>\n",
       "      <td>0.0</td>\n",
       "    </tr>\n",
       "    <tr>\n",
       "      <th>2</th>\n",
       "      <td>0.50</td>\n",
       "      <td>0.469388</td>\n",
       "      <td>0.052743</td>\n",
       "      <td>0.068577</td>\n",
       "      <td>0.333333</td>\n",
       "      <td>0.00</td>\n",
       "      <td>0.000309</td>\n",
       "      <td>0.176160</td>\n",
       "      <td>0.068577</td>\n",
       "      <td>0.076352</td>\n",
       "      <td>...</td>\n",
       "      <td>0.0</td>\n",
       "      <td>0.0</td>\n",
       "      <td>0.0</td>\n",
       "      <td>0.0</td>\n",
       "      <td>0.0</td>\n",
       "      <td>0.0</td>\n",
       "      <td>0.0</td>\n",
       "      <td>0.0</td>\n",
       "      <td>0.0</td>\n",
       "      <td>0.0</td>\n",
       "    </tr>\n",
       "    <tr>\n",
       "      <th>3</th>\n",
       "      <td>0.50</td>\n",
       "      <td>0.260204</td>\n",
       "      <td>0.052743</td>\n",
       "      <td>0.068577</td>\n",
       "      <td>0.333333</td>\n",
       "      <td>0.25</td>\n",
       "      <td>0.000217</td>\n",
       "      <td>0.176160</td>\n",
       "      <td>0.068577</td>\n",
       "      <td>0.076352</td>\n",
       "      <td>...</td>\n",
       "      <td>0.0</td>\n",
       "      <td>0.0</td>\n",
       "      <td>0.0</td>\n",
       "      <td>0.0</td>\n",
       "      <td>0.0</td>\n",
       "      <td>0.0</td>\n",
       "      <td>0.0</td>\n",
       "      <td>0.0</td>\n",
       "      <td>0.0</td>\n",
       "      <td>0.0</td>\n",
       "    </tr>\n",
       "    <tr>\n",
       "      <th>4</th>\n",
       "      <td>0.75</td>\n",
       "      <td>0.515306</td>\n",
       "      <td>0.052743</td>\n",
       "      <td>0.068577</td>\n",
       "      <td>0.000000</td>\n",
       "      <td>0.50</td>\n",
       "      <td>0.000277</td>\n",
       "      <td>0.176160</td>\n",
       "      <td>0.068577</td>\n",
       "      <td>0.076352</td>\n",
       "      <td>...</td>\n",
       "      <td>0.0</td>\n",
       "      <td>0.0</td>\n",
       "      <td>0.0</td>\n",
       "      <td>0.0</td>\n",
       "      <td>0.0</td>\n",
       "      <td>0.0</td>\n",
       "      <td>0.0</td>\n",
       "      <td>0.0</td>\n",
       "      <td>0.0</td>\n",
       "      <td>0.0</td>\n",
       "    </tr>\n",
       "    <tr>\n",
       "      <th>...</th>\n",
       "      <td>...</td>\n",
       "      <td>...</td>\n",
       "      <td>...</td>\n",
       "      <td>...</td>\n",
       "      <td>...</td>\n",
       "      <td>...</td>\n",
       "      <td>...</td>\n",
       "      <td>...</td>\n",
       "      <td>...</td>\n",
       "      <td>...</td>\n",
       "      <td>...</td>\n",
       "      <td>...</td>\n",
       "      <td>...</td>\n",
       "      <td>...</td>\n",
       "      <td>...</td>\n",
       "      <td>...</td>\n",
       "      <td>...</td>\n",
       "      <td>...</td>\n",
       "      <td>...</td>\n",
       "      <td>...</td>\n",
       "      <td>...</td>\n",
       "    </tr>\n",
       "    <tr>\n",
       "      <th>13076</th>\n",
       "      <td>0.50</td>\n",
       "      <td>0.169048</td>\n",
       "      <td>0.348101</td>\n",
       "      <td>0.050154</td>\n",
       "      <td>0.333333</td>\n",
       "      <td>0.50</td>\n",
       "      <td>0.000591</td>\n",
       "      <td>0.103967</td>\n",
       "      <td>0.050154</td>\n",
       "      <td>0.005942</td>\n",
       "      <td>...</td>\n",
       "      <td>0.0</td>\n",
       "      <td>0.0</td>\n",
       "      <td>0.0</td>\n",
       "      <td>0.0</td>\n",
       "      <td>0.0</td>\n",
       "      <td>0.0</td>\n",
       "      <td>0.0</td>\n",
       "      <td>0.0</td>\n",
       "      <td>0.0</td>\n",
       "      <td>0.0</td>\n",
       "    </tr>\n",
       "    <tr>\n",
       "      <th>13077</th>\n",
       "      <td>0.75</td>\n",
       "      <td>0.394558</td>\n",
       "      <td>0.352321</td>\n",
       "      <td>0.153531</td>\n",
       "      <td>0.333333</td>\n",
       "      <td>0.50</td>\n",
       "      <td>0.001506</td>\n",
       "      <td>0.333769</td>\n",
       "      <td>0.153531</td>\n",
       "      <td>0.055853</td>\n",
       "      <td>...</td>\n",
       "      <td>1.0</td>\n",
       "      <td>0.0</td>\n",
       "      <td>0.0</td>\n",
       "      <td>0.0</td>\n",
       "      <td>0.0</td>\n",
       "      <td>0.0</td>\n",
       "      <td>0.0</td>\n",
       "      <td>0.0</td>\n",
       "      <td>0.0</td>\n",
       "      <td>0.0</td>\n",
       "    </tr>\n",
       "    <tr>\n",
       "      <th>13078</th>\n",
       "      <td>0.50</td>\n",
       "      <td>0.321769</td>\n",
       "      <td>0.143460</td>\n",
       "      <td>0.016377</td>\n",
       "      <td>0.333333</td>\n",
       "      <td>0.50</td>\n",
       "      <td>0.000769</td>\n",
       "      <td>0.286482</td>\n",
       "      <td>0.016377</td>\n",
       "      <td>0.021687</td>\n",
       "      <td>...</td>\n",
       "      <td>0.0</td>\n",
       "      <td>1.0</td>\n",
       "      <td>0.0</td>\n",
       "      <td>0.0</td>\n",
       "      <td>0.0</td>\n",
       "      <td>0.0</td>\n",
       "      <td>0.0</td>\n",
       "      <td>0.0</td>\n",
       "      <td>0.0</td>\n",
       "      <td>0.0</td>\n",
       "    </tr>\n",
       "    <tr>\n",
       "      <th>13079</th>\n",
       "      <td>0.50</td>\n",
       "      <td>0.369048</td>\n",
       "      <td>0.143460</td>\n",
       "      <td>0.016377</td>\n",
       "      <td>0.333333</td>\n",
       "      <td>1.00</td>\n",
       "      <td>0.001007</td>\n",
       "      <td>0.286482</td>\n",
       "      <td>0.016377</td>\n",
       "      <td>0.021687</td>\n",
       "      <td>...</td>\n",
       "      <td>0.0</td>\n",
       "      <td>1.0</td>\n",
       "      <td>0.0</td>\n",
       "      <td>0.0</td>\n",
       "      <td>0.0</td>\n",
       "      <td>0.0</td>\n",
       "      <td>0.0</td>\n",
       "      <td>0.0</td>\n",
       "      <td>0.0</td>\n",
       "      <td>0.0</td>\n",
       "    </tr>\n",
       "    <tr>\n",
       "      <th>13080</th>\n",
       "      <td>0.75</td>\n",
       "      <td>0.408163</td>\n",
       "      <td>0.132911</td>\n",
       "      <td>0.013306</td>\n",
       "      <td>0.000000</td>\n",
       "      <td>0.25</td>\n",
       "      <td>0.000836</td>\n",
       "      <td>0.294098</td>\n",
       "      <td>0.013306</td>\n",
       "      <td>0.024064</td>\n",
       "      <td>...</td>\n",
       "      <td>0.0</td>\n",
       "      <td>0.0</td>\n",
       "      <td>0.0</td>\n",
       "      <td>0.0</td>\n",
       "      <td>0.0</td>\n",
       "      <td>0.0</td>\n",
       "      <td>1.0</td>\n",
       "      <td>0.0</td>\n",
       "      <td>0.0</td>\n",
       "      <td>0.0</td>\n",
       "    </tr>\n",
       "  </tbody>\n",
       "</table>\n",
       "<p>13081 rows × 293 columns</p>\n",
       "</div>"
      ],
      "text/plain": [
       "       Rooms     Price  Distance  Postcode  Bathroom   Car  Landsize  \\\n",
       "0       0.25  0.474490  0.052743  0.068577  0.000000  0.25  0.000466   \n",
       "1       0.25  0.323129  0.052743  0.068577  0.000000  0.00  0.000360   \n",
       "2       0.50  0.469388  0.052743  0.068577  0.333333  0.00  0.000309   \n",
       "3       0.50  0.260204  0.052743  0.068577  0.333333  0.25  0.000217   \n",
       "4       0.75  0.515306  0.052743  0.068577  0.000000  0.50  0.000277   \n",
       "...      ...       ...       ...       ...       ...   ...       ...   \n",
       "13076   0.50  0.169048  0.348101  0.050154  0.333333  0.50  0.000591   \n",
       "13077   0.75  0.394558  0.352321  0.153531  0.333333  0.50  0.001506   \n",
       "13078   0.50  0.321769  0.143460  0.016377  0.333333  0.50  0.000769   \n",
       "13079   0.50  0.369048  0.143460  0.016377  0.333333  1.00  0.001007   \n",
       "13080   0.75  0.408163  0.132911  0.013306  0.000000  0.25  0.000836   \n",
       "\n",
       "       Propertycount   zipcode  airbnb_record_count  ...  \\\n",
       "0           0.176160  0.068577             0.076352  ...   \n",
       "1           0.176160  0.068577             0.076352  ...   \n",
       "2           0.176160  0.068577             0.076352  ...   \n",
       "3           0.176160  0.068577             0.076352  ...   \n",
       "4           0.176160  0.068577             0.076352  ...   \n",
       "...              ...       ...                  ...  ...   \n",
       "13076       0.103967  0.050154             0.005942  ...   \n",
       "13077       0.333769  0.153531             0.055853  ...   \n",
       "13078       0.286482  0.016377             0.021687  ...   \n",
       "13079       0.286482  0.016377             0.021687  ...   \n",
       "13080       0.294098  0.013306             0.024064  ...   \n",
       "\n",
       "       Suburb_Wheelers Hill  Suburb_Williamstown  Suburb_Williamstown North  \\\n",
       "0                       0.0                  0.0                        0.0   \n",
       "1                       0.0                  0.0                        0.0   \n",
       "2                       0.0                  0.0                        0.0   \n",
       "3                       0.0                  0.0                        0.0   \n",
       "4                       0.0                  0.0                        0.0   \n",
       "...                     ...                  ...                        ...   \n",
       "13076                   0.0                  0.0                        0.0   \n",
       "13077                   1.0                  0.0                        0.0   \n",
       "13078                   0.0                  1.0                        0.0   \n",
       "13079                   0.0                  1.0                        0.0   \n",
       "13080                   0.0                  0.0                        0.0   \n",
       "\n",
       "       Suburb_Windsor  Suburb_Wollert  Suburb_Yallambie  Suburb_Yarraville  \\\n",
       "0                 0.0             0.0               0.0                0.0   \n",
       "1                 0.0             0.0               0.0                0.0   \n",
       "2                 0.0             0.0               0.0                0.0   \n",
       "3                 0.0             0.0               0.0                0.0   \n",
       "4                 0.0             0.0               0.0                0.0   \n",
       "...               ...             ...               ...                ...   \n",
       "13076             0.0             0.0               0.0                0.0   \n",
       "13077             0.0             0.0               0.0                0.0   \n",
       "13078             0.0             0.0               0.0                0.0   \n",
       "13079             0.0             0.0               0.0                0.0   \n",
       "13080             0.0             0.0               0.0                1.0   \n",
       "\n",
       "       Suburb_others  Type_t  Type_u  \n",
       "0                0.0     0.0     0.0  \n",
       "1                0.0     0.0     0.0  \n",
       "2                0.0     0.0     0.0  \n",
       "3                0.0     0.0     0.0  \n",
       "4                0.0     0.0     0.0  \n",
       "...              ...     ...     ...  \n",
       "13076            0.0     0.0     0.0  \n",
       "13077            0.0     0.0     0.0  \n",
       "13078            0.0     0.0     0.0  \n",
       "13079            0.0     0.0     0.0  \n",
       "13080            0.0     0.0     0.0  \n",
       "\n",
       "[13081 rows x 293 columns]"
      ]
     },
     "execution_count": 60,
     "metadata": {},
     "output_type": "execute_result"
    }
   ],
   "source": [
    "new_df=pandas.read_csv(\"Dataframe_melb.csv\")\n",
    "new_df"
   ]
  },
  {
   "cell_type": "markdown",
   "metadata": {
    "id": "Bq7nuPg2HIYx"
   },
   "source": []
  }
 ],
 "metadata": {
  "colab": {
   "collapsed_sections": [],
   "include_colab_link": true,
   "name": "Entregable - Parte 1.ipynb",
   "provenance": []
  },
  "kernelspec": {
   "display_name": "Python 3",
   "language": "python",
   "name": "python3"
  },
  "language_info": {
   "codemirror_mode": {
    "name": "ipython",
    "version": 3
   },
   "file_extension": ".py",
   "mimetype": "text/x-python",
   "name": "python",
   "nbconvert_exporter": "python",
   "pygments_lexer": "ipython3",
   "version": "3.8.5"
  }
 },
 "nbformat": 4,
 "nbformat_minor": 4
}
