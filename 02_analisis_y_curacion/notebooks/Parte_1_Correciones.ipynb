{
 "cells": [
  {
   "cell_type": "code",
   "execution_count": 1,
   "metadata": {
    "id": "4udjxjk1EtVU"
   },
   "outputs": [],
   "source": [
    "import matplotlib.pyplot as plot\n",
    "import numpy\n",
    "import pandas\n",
    "import missingno as msno\n",
    "from sklearn.impute import KNNImputer\n",
    "from sklearn.preprocessing import MinMaxScaler\n",
    "\n",
    "import seaborn\n",
    "seaborn.set_context('talk')\n",
    "\n",
    "import statistics\n",
    "import collections\n",
    "from collections import Counter\n",
    "from scipy import stats\n",
    "import re"
   ]
  },
  {
   "cell_type": "code",
   "execution_count": 2,
   "metadata": {
    "tags": []
   },
   "outputs": [],
   "source": [
    "def describe(data,column):\n",
    "    x = data[column]\n",
    "    c = x.count()\n",
    "    s = x.unique().size\n",
    "    m = statistics.mode(x)\n",
    "    t = Counter(x)[m]\n",
    "    n = x.isna().sum()\n",
    "    e = numpy.where(x.map(lambda v: v == ''))[0].size # empty values\n",
    "    z = numpy.where(x.map(lambda v: v == 0))[0].size # empty values\n",
    "    print(f'Hay {c} elementos.')\n",
    "    print(f'Hay {s} elementos únicos.')\n",
    "    print(f'El elemento mas frecuente es {m} y ocurre {t} veces.')\n",
    "    print(f\"Hay {n} elementos nulos.\")\n",
    "    print(f\"Hay {e} elementos vacíos.\")\n",
    "    print(f\"Hay {z} elementos con ceros.\")"
   ]
  },
  {
   "cell_type": "code",
   "execution_count": 3,
   "metadata": {
    "tags": []
   },
   "outputs": [],
   "source": [
    "def remove_outlier(df_in, col_name, iqr_factor):\n",
    "    \"\"\"\n",
    "  IQR outliers removal (https://machinelearningmastery.com/how-to-use-statistics-to-identify-outliers-in-data/)\n",
    "  accept a dataframe, remove outliers, return cleaned data in a new dataframe\n",
    "  see http://www.itl.nist.gov/div898/handbook/prc/section1/prc16.htm\n",
    "  \"\"\"\n",
    "    q1 = df_in[col_name].quantile(0.25)\n",
    "    q3 = df_in[col_name].quantile(0.75)\n",
    "    iqr = q3 - q1  # interquartile range\n",
    "    fence_low = q1 - iqr_factor * iqr\n",
    "    fence_high = q3 + iqr_factor * iqr\n",
    "    df_inliers = df_in.loc[\n",
    "        (df_in[col_name] > fence_low) & (df_in[col_name] < fence_high)\n",
    "    ]\n",
    "    df_outliers = df_in.loc[\n",
    "        (df_in[col_name] < fence_low) | (df_in[col_name] > fence_high)\n",
    "    ]\n",
    "    return df_inliers, df_outliers"
   ]
  },
  {
   "cell_type": "code",
   "execution_count": 4,
   "metadata": {
    "colab": {
     "base_uri": "https://localhost:8080/",
     "height": 35
    },
    "id": "3XdIsB8hISis",
    "outputId": "c39e190a-7927-4b61-beca-d19d0bf49952"
   },
   "outputs": [
    {
     "data": {
      "text/plain": [
       "'4.14.3'"
      ]
     },
     "execution_count": 4,
     "metadata": {},
     "output_type": "execute_result"
    }
   ],
   "source": [
    "import plotly\n",
    "plotly.__version__\n",
    "# Make sure it's 4.14.3"
   ]
  },
  {
   "cell_type": "code",
   "execution_count": 5,
   "metadata": {
    "id": "i2nqY0GGIVn2"
   },
   "outputs": [],
   "source": [
    "# To update plotly, uncomment and run the following line:\n",
    "# !pip install plotly --upgrade"
   ]
  },
  {
   "cell_type": "code",
   "execution_count": 6,
   "metadata": {
    "colab": {
     "base_uri": "https://localhost:8080/",
     "height": 230
    },
    "id": "_qeFN3GnEvMk",
    "outputId": "3e60f707-5e77-45e0-aaf9-057993f0806c"
   },
   "outputs": [
    {
     "data": {
      "text/html": [
       "<div>\n",
       "<style scoped>\n",
       "    .dataframe tbody tr th:only-of-type {\n",
       "        vertical-align: middle;\n",
       "    }\n",
       "\n",
       "    .dataframe tbody tr th {\n",
       "        vertical-align: top;\n",
       "    }\n",
       "\n",
       "    .dataframe thead th {\n",
       "        text-align: right;\n",
       "    }\n",
       "</style>\n",
       "<table border=\"1\" class=\"dataframe\">\n",
       "  <thead>\n",
       "    <tr style=\"text-align: right;\">\n",
       "      <th></th>\n",
       "      <th>Suburb</th>\n",
       "      <th>Address</th>\n",
       "      <th>Rooms</th>\n",
       "      <th>Type</th>\n",
       "      <th>Price</th>\n",
       "      <th>Method</th>\n",
       "      <th>SellerG</th>\n",
       "      <th>Date</th>\n",
       "      <th>Distance</th>\n",
       "      <th>Postcode</th>\n",
       "      <th>...</th>\n",
       "      <th>Bathroom</th>\n",
       "      <th>Car</th>\n",
       "      <th>Landsize</th>\n",
       "      <th>BuildingArea</th>\n",
       "      <th>YearBuilt</th>\n",
       "      <th>CouncilArea</th>\n",
       "      <th>Lattitude</th>\n",
       "      <th>Longtitude</th>\n",
       "      <th>Regionname</th>\n",
       "      <th>Propertycount</th>\n",
       "    </tr>\n",
       "  </thead>\n",
       "  <tbody>\n",
       "    <tr>\n",
       "      <th>0</th>\n",
       "      <td>Abbotsford</td>\n",
       "      <td>85 Turner St</td>\n",
       "      <td>2</td>\n",
       "      <td>h</td>\n",
       "      <td>1480000.0</td>\n",
       "      <td>S</td>\n",
       "      <td>Biggin</td>\n",
       "      <td>3/12/2016</td>\n",
       "      <td>2.5</td>\n",
       "      <td>3067.0</td>\n",
       "      <td>...</td>\n",
       "      <td>1.0</td>\n",
       "      <td>1.0</td>\n",
       "      <td>202.0</td>\n",
       "      <td>NaN</td>\n",
       "      <td>NaN</td>\n",
       "      <td>Yarra</td>\n",
       "      <td>-37.7996</td>\n",
       "      <td>144.9984</td>\n",
       "      <td>Northern Metropolitan</td>\n",
       "      <td>4019.0</td>\n",
       "    </tr>\n",
       "    <tr>\n",
       "      <th>1</th>\n",
       "      <td>Abbotsford</td>\n",
       "      <td>25 Bloomburg St</td>\n",
       "      <td>2</td>\n",
       "      <td>h</td>\n",
       "      <td>1035000.0</td>\n",
       "      <td>S</td>\n",
       "      <td>Biggin</td>\n",
       "      <td>4/02/2016</td>\n",
       "      <td>2.5</td>\n",
       "      <td>3067.0</td>\n",
       "      <td>...</td>\n",
       "      <td>1.0</td>\n",
       "      <td>0.0</td>\n",
       "      <td>156.0</td>\n",
       "      <td>79.0</td>\n",
       "      <td>1900.0</td>\n",
       "      <td>Yarra</td>\n",
       "      <td>-37.8079</td>\n",
       "      <td>144.9934</td>\n",
       "      <td>Northern Metropolitan</td>\n",
       "      <td>4019.0</td>\n",
       "    </tr>\n",
       "    <tr>\n",
       "      <th>2</th>\n",
       "      <td>Abbotsford</td>\n",
       "      <td>5 Charles St</td>\n",
       "      <td>3</td>\n",
       "      <td>h</td>\n",
       "      <td>1465000.0</td>\n",
       "      <td>SP</td>\n",
       "      <td>Biggin</td>\n",
       "      <td>4/03/2017</td>\n",
       "      <td>2.5</td>\n",
       "      <td>3067.0</td>\n",
       "      <td>...</td>\n",
       "      <td>2.0</td>\n",
       "      <td>0.0</td>\n",
       "      <td>134.0</td>\n",
       "      <td>150.0</td>\n",
       "      <td>1900.0</td>\n",
       "      <td>Yarra</td>\n",
       "      <td>-37.8093</td>\n",
       "      <td>144.9944</td>\n",
       "      <td>Northern Metropolitan</td>\n",
       "      <td>4019.0</td>\n",
       "    </tr>\n",
       "  </tbody>\n",
       "</table>\n",
       "<p>3 rows × 21 columns</p>\n",
       "</div>"
      ],
      "text/plain": [
       "       Suburb          Address  Rooms Type      Price Method SellerG  \\\n",
       "0  Abbotsford     85 Turner St      2    h  1480000.0      S  Biggin   \n",
       "1  Abbotsford  25 Bloomburg St      2    h  1035000.0      S  Biggin   \n",
       "2  Abbotsford     5 Charles St      3    h  1465000.0     SP  Biggin   \n",
       "\n",
       "        Date  Distance  Postcode  ...  Bathroom  Car  Landsize  BuildingArea  \\\n",
       "0  3/12/2016       2.5    3067.0  ...       1.0  1.0     202.0           NaN   \n",
       "1  4/02/2016       2.5    3067.0  ...       1.0  0.0     156.0          79.0   \n",
       "2  4/03/2017       2.5    3067.0  ...       2.0  0.0     134.0         150.0   \n",
       "\n",
       "   YearBuilt  CouncilArea Lattitude  Longtitude             Regionname  \\\n",
       "0        NaN        Yarra  -37.7996    144.9984  Northern Metropolitan   \n",
       "1     1900.0        Yarra  -37.8079    144.9934  Northern Metropolitan   \n",
       "2     1900.0        Yarra  -37.8093    144.9944  Northern Metropolitan   \n",
       "\n",
       "  Propertycount  \n",
       "0        4019.0  \n",
       "1        4019.0  \n",
       "2        4019.0  \n",
       "\n",
       "[3 rows x 21 columns]"
      ]
     },
     "execution_count": 6,
     "metadata": {},
     "output_type": "execute_result"
    }
   ],
   "source": [
    "melb_df = pandas.read_csv(\n",
    "    'https://cs.famaf.unc.edu.ar/~mteruel/datasets/diplodatos/melb_data.csv')\n",
    "melb_df[:3]"
   ]
  },
  {
   "cell_type": "code",
   "execution_count": 7,
   "metadata": {
    "colab": {
     "base_uri": "https://localhost:8080/"
    },
    "id": "k3Z2vxNHJfJK",
    "outputId": "8172a876-5781-4eeb-b170-36fe76369585"
   },
   "outputs": [],
   "source": [
    "# data source:\n",
    "# https://www.kaggle.com/tylerx/melbourne-airbnb-open-data?select=cleansed_listings_dec18.csv\n",
    "interesting_cols = [\n",
    "  'description', 'neighborhood_overview',\n",
    "  'street', 'neighborhood', 'city', 'suburb', 'state', 'zipcode',\n",
    "  'price', 'weekly_price', 'monthly_price',\n",
    "  'latitude', 'longitude',\n",
    "]\n",
    "url = 'https://cs.famaf.unc.edu.ar/~mteruel/datasets/diplodatos/cleansed_listings_dec18.csv'\n",
    "url = 'cleansed_listings_dec18.csv'\n",
    "airbnb_df = pandas.read_csv(url,usecols=interesting_cols,low_memory=False)"
   ]
  },
  {
   "cell_type": "code",
   "execution_count": 8,
   "metadata": {
    "colab": {
     "base_uri": "https://localhost:8080/",
     "height": 317
    },
    "id": "bc55TFlhF6tP",
    "outputId": "8918f899-b5f6-4d94-e9fe-2f5cc46467e3"
   },
   "outputs": [
    {
     "data": {
      "text/html": [
       "<div>\n",
       "<style scoped>\n",
       "    .dataframe tbody tr th:only-of-type {\n",
       "        vertical-align: middle;\n",
       "    }\n",
       "\n",
       "    .dataframe tbody tr th {\n",
       "        vertical-align: top;\n",
       "    }\n",
       "\n",
       "    .dataframe thead th {\n",
       "        text-align: right;\n",
       "    }\n",
       "</style>\n",
       "<table border=\"1\" class=\"dataframe\">\n",
       "  <thead>\n",
       "    <tr style=\"text-align: right;\">\n",
       "      <th></th>\n",
       "      <th>description</th>\n",
       "      <th>neighborhood_overview</th>\n",
       "      <th>street</th>\n",
       "      <th>neighborhood</th>\n",
       "      <th>city</th>\n",
       "      <th>suburb</th>\n",
       "      <th>state</th>\n",
       "      <th>zipcode</th>\n",
       "      <th>latitude</th>\n",
       "      <th>longitude</th>\n",
       "      <th>price</th>\n",
       "      <th>weekly_price</th>\n",
       "      <th>monthly_price</th>\n",
       "    </tr>\n",
       "  </thead>\n",
       "  <tbody>\n",
       "    <tr>\n",
       "      <th>0</th>\n",
       "      <td>House: Clean, New, Modern, Quite, Safe. 10Km f...</td>\n",
       "      <td>Very safe! Family oriented. Older age group.</td>\n",
       "      <td>Bulleen, VIC, Australia</td>\n",
       "      <td>Balwyn North</td>\n",
       "      <td>Manningham</td>\n",
       "      <td>Bulleen</td>\n",
       "      <td>VIC</td>\n",
       "      <td>3105</td>\n",
       "      <td>-37.772684</td>\n",
       "      <td>145.092133</td>\n",
       "      <td>60</td>\n",
       "      <td>NaN</td>\n",
       "      <td>NaN</td>\n",
       "    </tr>\n",
       "    <tr>\n",
       "      <th>1</th>\n",
       "      <td>A large air conditioned room with queen spring...</td>\n",
       "      <td>This hip area is a crossroads between two grea...</td>\n",
       "      <td>Brunswick East, VIC, Australia</td>\n",
       "      <td>Brunswick</td>\n",
       "      <td>Moreland</td>\n",
       "      <td>Brunswick East</td>\n",
       "      <td>VIC</td>\n",
       "      <td>3057</td>\n",
       "      <td>-37.766505</td>\n",
       "      <td>144.980736</td>\n",
       "      <td>35</td>\n",
       "      <td>200.0</td>\n",
       "      <td>803.0</td>\n",
       "    </tr>\n",
       "    <tr>\n",
       "      <th>2</th>\n",
       "      <td>RIGHT IN THE HEART OF ST KILDA! It doesn't get...</td>\n",
       "      <td>A stay at our apartment means you can enjoy so...</td>\n",
       "      <td>St Kilda, VIC, Australia</td>\n",
       "      <td>St Kilda</td>\n",
       "      <td>Port Phillip</td>\n",
       "      <td>St Kilda</td>\n",
       "      <td>VIC</td>\n",
       "      <td>3182</td>\n",
       "      <td>-37.859755</td>\n",
       "      <td>144.977369</td>\n",
       "      <td>159</td>\n",
       "      <td>1253.0</td>\n",
       "      <td>4452.0</td>\n",
       "    </tr>\n",
       "  </tbody>\n",
       "</table>\n",
       "</div>"
      ],
      "text/plain": [
       "                                         description  \\\n",
       "0  House: Clean, New, Modern, Quite, Safe. 10Km f...   \n",
       "1  A large air conditioned room with queen spring...   \n",
       "2  RIGHT IN THE HEART OF ST KILDA! It doesn't get...   \n",
       "\n",
       "                               neighborhood_overview  \\\n",
       "0       Very safe! Family oriented. Older age group.   \n",
       "1  This hip area is a crossroads between two grea...   \n",
       "2  A stay at our apartment means you can enjoy so...   \n",
       "\n",
       "                           street  neighborhood          city          suburb  \\\n",
       "0         Bulleen, VIC, Australia  Balwyn North    Manningham         Bulleen   \n",
       "1  Brunswick East, VIC, Australia     Brunswick      Moreland  Brunswick East   \n",
       "2        St Kilda, VIC, Australia      St Kilda  Port Phillip        St Kilda   \n",
       "\n",
       "  state zipcode   latitude   longitude  price  weekly_price  monthly_price  \n",
       "0   VIC    3105 -37.772684  145.092133     60           NaN            NaN  \n",
       "1   VIC    3057 -37.766505  144.980736     35         200.0          803.0  \n",
       "2   VIC    3182 -37.859755  144.977369    159        1253.0         4452.0  "
      ]
     },
     "execution_count": 8,
     "metadata": {},
     "output_type": "execute_result"
    }
   ],
   "source": [
    "airbnb_df[:3]"
   ]
  },
  {
   "cell_type": "code",
   "execution_count": 9,
   "metadata": {},
   "outputs": [
    {
     "data": {
      "text/plain": [
       "Index(['description', 'neighborhood_overview', 'street', 'neighborhood',\n",
       "       'city', 'suburb', 'state', 'zipcode', 'latitude', 'longitude', 'price',\n",
       "       'weekly_price', 'monthly_price'],\n",
       "      dtype='object')"
      ]
     },
     "execution_count": 9,
     "metadata": {},
     "output_type": "execute_result"
    }
   ],
   "source": [
    "airbnb_df.columns"
   ]
  },
  {
   "cell_type": "code",
   "execution_count": 10,
   "metadata": {},
   "outputs": [
    {
     "data": {
      "text/html": [
       "<div>\n",
       "<style scoped>\n",
       "    .dataframe tbody tr th:only-of-type {\n",
       "        vertical-align: middle;\n",
       "    }\n",
       "\n",
       "    .dataframe tbody tr th {\n",
       "        vertical-align: top;\n",
       "    }\n",
       "\n",
       "    .dataframe thead th {\n",
       "        text-align: right;\n",
       "    }\n",
       "</style>\n",
       "<table border=\"1\" class=\"dataframe\">\n",
       "  <thead>\n",
       "    <tr style=\"text-align: right;\">\n",
       "      <th></th>\n",
       "      <th>Suburb</th>\n",
       "      <th>Address</th>\n",
       "      <th>Rooms</th>\n",
       "      <th>Type</th>\n",
       "      <th>Price</th>\n",
       "      <th>Method</th>\n",
       "      <th>SellerG</th>\n",
       "      <th>Date</th>\n",
       "      <th>Distance</th>\n",
       "      <th>Postcode</th>\n",
       "      <th>...</th>\n",
       "      <th>Bathroom</th>\n",
       "      <th>Car</th>\n",
       "      <th>Landsize</th>\n",
       "      <th>BuildingArea</th>\n",
       "      <th>YearBuilt</th>\n",
       "      <th>CouncilArea</th>\n",
       "      <th>Lattitude</th>\n",
       "      <th>Longtitude</th>\n",
       "      <th>Regionname</th>\n",
       "      <th>Propertycount</th>\n",
       "    </tr>\n",
       "  </thead>\n",
       "  <tbody>\n",
       "    <tr>\n",
       "      <th>0</th>\n",
       "      <td>Abbotsford</td>\n",
       "      <td>85 Turner St</td>\n",
       "      <td>2</td>\n",
       "      <td>h</td>\n",
       "      <td>1480000.0</td>\n",
       "      <td>S</td>\n",
       "      <td>Biggin</td>\n",
       "      <td>3/12/2016</td>\n",
       "      <td>2.5</td>\n",
       "      <td>3067.0</td>\n",
       "      <td>...</td>\n",
       "      <td>1.0</td>\n",
       "      <td>1.0</td>\n",
       "      <td>202.0</td>\n",
       "      <td>NaN</td>\n",
       "      <td>NaN</td>\n",
       "      <td>Yarra</td>\n",
       "      <td>-37.7996</td>\n",
       "      <td>144.9984</td>\n",
       "      <td>Northern Metropolitan</td>\n",
       "      <td>4019.0</td>\n",
       "    </tr>\n",
       "    <tr>\n",
       "      <th>1</th>\n",
       "      <td>Abbotsford</td>\n",
       "      <td>25 Bloomburg St</td>\n",
       "      <td>2</td>\n",
       "      <td>h</td>\n",
       "      <td>1035000.0</td>\n",
       "      <td>S</td>\n",
       "      <td>Biggin</td>\n",
       "      <td>4/02/2016</td>\n",
       "      <td>2.5</td>\n",
       "      <td>3067.0</td>\n",
       "      <td>...</td>\n",
       "      <td>1.0</td>\n",
       "      <td>0.0</td>\n",
       "      <td>156.0</td>\n",
       "      <td>79.0</td>\n",
       "      <td>1900.0</td>\n",
       "      <td>Yarra</td>\n",
       "      <td>-37.8079</td>\n",
       "      <td>144.9934</td>\n",
       "      <td>Northern Metropolitan</td>\n",
       "      <td>4019.0</td>\n",
       "    </tr>\n",
       "    <tr>\n",
       "      <th>2</th>\n",
       "      <td>Abbotsford</td>\n",
       "      <td>5 Charles St</td>\n",
       "      <td>3</td>\n",
       "      <td>h</td>\n",
       "      <td>1465000.0</td>\n",
       "      <td>SP</td>\n",
       "      <td>Biggin</td>\n",
       "      <td>4/03/2017</td>\n",
       "      <td>2.5</td>\n",
       "      <td>3067.0</td>\n",
       "      <td>...</td>\n",
       "      <td>2.0</td>\n",
       "      <td>0.0</td>\n",
       "      <td>134.0</td>\n",
       "      <td>150.0</td>\n",
       "      <td>1900.0</td>\n",
       "      <td>Yarra</td>\n",
       "      <td>-37.8093</td>\n",
       "      <td>144.9944</td>\n",
       "      <td>Northern Metropolitan</td>\n",
       "      <td>4019.0</td>\n",
       "    </tr>\n",
       "    <tr>\n",
       "      <th>3</th>\n",
       "      <td>Abbotsford</td>\n",
       "      <td>40 Federation La</td>\n",
       "      <td>3</td>\n",
       "      <td>h</td>\n",
       "      <td>850000.0</td>\n",
       "      <td>PI</td>\n",
       "      <td>Biggin</td>\n",
       "      <td>4/03/2017</td>\n",
       "      <td>2.5</td>\n",
       "      <td>3067.0</td>\n",
       "      <td>...</td>\n",
       "      <td>2.0</td>\n",
       "      <td>1.0</td>\n",
       "      <td>94.0</td>\n",
       "      <td>NaN</td>\n",
       "      <td>NaN</td>\n",
       "      <td>Yarra</td>\n",
       "      <td>-37.7969</td>\n",
       "      <td>144.9969</td>\n",
       "      <td>Northern Metropolitan</td>\n",
       "      <td>4019.0</td>\n",
       "    </tr>\n",
       "    <tr>\n",
       "      <th>4</th>\n",
       "      <td>Abbotsford</td>\n",
       "      <td>55a Park St</td>\n",
       "      <td>4</td>\n",
       "      <td>h</td>\n",
       "      <td>1600000.0</td>\n",
       "      <td>VB</td>\n",
       "      <td>Nelson</td>\n",
       "      <td>4/06/2016</td>\n",
       "      <td>2.5</td>\n",
       "      <td>3067.0</td>\n",
       "      <td>...</td>\n",
       "      <td>1.0</td>\n",
       "      <td>2.0</td>\n",
       "      <td>120.0</td>\n",
       "      <td>142.0</td>\n",
       "      <td>2014.0</td>\n",
       "      <td>Yarra</td>\n",
       "      <td>-37.8072</td>\n",
       "      <td>144.9941</td>\n",
       "      <td>Northern Metropolitan</td>\n",
       "      <td>4019.0</td>\n",
       "    </tr>\n",
       "  </tbody>\n",
       "</table>\n",
       "<p>5 rows × 21 columns</p>\n",
       "</div>"
      ],
      "text/plain": [
       "       Suburb           Address  Rooms Type      Price Method SellerG  \\\n",
       "0  Abbotsford      85 Turner St      2    h  1480000.0      S  Biggin   \n",
       "1  Abbotsford   25 Bloomburg St      2    h  1035000.0      S  Biggin   \n",
       "2  Abbotsford      5 Charles St      3    h  1465000.0     SP  Biggin   \n",
       "3  Abbotsford  40 Federation La      3    h   850000.0     PI  Biggin   \n",
       "4  Abbotsford       55a Park St      4    h  1600000.0     VB  Nelson   \n",
       "\n",
       "        Date  Distance  Postcode  ...  Bathroom  Car  Landsize  BuildingArea  \\\n",
       "0  3/12/2016       2.5    3067.0  ...       1.0  1.0     202.0           NaN   \n",
       "1  4/02/2016       2.5    3067.0  ...       1.0  0.0     156.0          79.0   \n",
       "2  4/03/2017       2.5    3067.0  ...       2.0  0.0     134.0         150.0   \n",
       "3  4/03/2017       2.5    3067.0  ...       2.0  1.0      94.0           NaN   \n",
       "4  4/06/2016       2.5    3067.0  ...       1.0  2.0     120.0         142.0   \n",
       "\n",
       "   YearBuilt  CouncilArea Lattitude  Longtitude             Regionname  \\\n",
       "0        NaN        Yarra  -37.7996    144.9984  Northern Metropolitan   \n",
       "1     1900.0        Yarra  -37.8079    144.9934  Northern Metropolitan   \n",
       "2     1900.0        Yarra  -37.8093    144.9944  Northern Metropolitan   \n",
       "3        NaN        Yarra  -37.7969    144.9969  Northern Metropolitan   \n",
       "4     2014.0        Yarra  -37.8072    144.9941  Northern Metropolitan   \n",
       "\n",
       "  Propertycount  \n",
       "0        4019.0  \n",
       "1        4019.0  \n",
       "2        4019.0  \n",
       "3        4019.0  \n",
       "4        4019.0  \n",
       "\n",
       "[5 rows x 21 columns]"
      ]
     },
     "execution_count": 10,
     "metadata": {},
     "output_type": "execute_result"
    }
   ],
   "source": [
    "melb_df.head()"
   ]
  },
  {
   "cell_type": "code",
   "execution_count": 11,
   "metadata": {},
   "outputs": [
    {
     "data": {
      "text/plain": [
       "Index(['Suburb', 'Address', 'Rooms', 'Type', 'Price', 'Method', 'SellerG',\n",
       "       'Date', 'Distance', 'Postcode', 'Bedroom2', 'Bathroom', 'Car',\n",
       "       'Landsize', 'BuildingArea', 'YearBuilt', 'CouncilArea', 'Lattitude',\n",
       "       'Longtitude', 'Regionname', 'Propertycount'],\n",
       "      dtype='object')"
      ]
     },
     "execution_count": 11,
     "metadata": {},
     "output_type": "execute_result"
    }
   ],
   "source": [
    "melb_df.columns"
   ]
  },
  {
   "cell_type": "markdown",
   "metadata": {},
   "source": [
    "# Ejercicio 1"
   ]
  },
  {
   "cell_type": "markdown",
   "metadata": {},
   "source": [
    "## MELB_DF"
   ]
  },
  {
   "cell_type": "markdown",
   "metadata": {},
   "source": [
    "### Feature Suburb"
   ]
  },
  {
   "cell_type": "code",
   "execution_count": 12,
   "metadata": {},
   "outputs": [
    {
     "name": "stdout",
     "output_type": "stream",
     "text": [
      "Hay 13580 elementos.\n",
      "Hay 314 elementos únicos.\n",
      "El elemento mas frecuente es Reservoir y ocurre 359 veces.\n",
      "Hay 0 elementos nulos.\n",
      "Hay 0 elementos vacíos.\n",
      "Hay 0 elementos con ceros.\n"
     ]
    },
    {
     "data": {
      "text/plain": [
       "<AxesSubplot:xlabel='Suburb', ylabel='Count'>"
      ]
     },
     "execution_count": 12,
     "metadata": {},
     "output_type": "execute_result"
    },
    {
     "data": {
      "image/png": "[encoded data removed]",
      "text/plain": [
       "<Figure size 432x288 with 1 Axes>"
      ]
     },
     "metadata": {
      "needs_background": "light"
     },
     "output_type": "display_data"
    }
   ],
   "source": [
    "describe(melb_df,'Suburb')\n",
    "vc = melb_df.Suburb.value_counts()\n",
    "seaborn.histplot(vc)"
   ]
  },
  {
   "cell_type": "code",
   "execution_count": 13,
   "metadata": {
    "tags": []
   },
   "outputs": [
    {
     "data": {
      "text/html": [
       "<div>\n",
       "<style scoped>\n",
       "    .dataframe tbody tr th:only-of-type {\n",
       "        vertical-align: middle;\n",
       "    }\n",
       "\n",
       "    .dataframe tbody tr th {\n",
       "        vertical-align: top;\n",
       "    }\n",
       "\n",
       "    .dataframe thead th {\n",
       "        text-align: right;\n",
       "    }\n",
       "</style>\n",
       "<table border=\"1\" class=\"dataframe\">\n",
       "  <thead>\n",
       "    <tr style=\"text-align: right;\">\n",
       "      <th></th>\n",
       "      <th>Suburb</th>\n",
       "    </tr>\n",
       "  </thead>\n",
       "  <tbody>\n",
       "    <tr>\n",
       "      <th>Reservoir</th>\n",
       "      <td>0.026436</td>\n",
       "    </tr>\n",
       "    <tr>\n",
       "      <th>Richmond</th>\n",
       "      <td>0.019146</td>\n",
       "    </tr>\n",
       "    <tr>\n",
       "      <th>Bentleigh East</th>\n",
       "      <td>0.018336</td>\n",
       "    </tr>\n",
       "    <tr>\n",
       "      <th>Preston</th>\n",
       "      <td>0.017599</td>\n",
       "    </tr>\n",
       "    <tr>\n",
       "      <th>Brunswick</th>\n",
       "      <td>0.016348</td>\n",
       "    </tr>\n",
       "    <tr>\n",
       "      <th>...</th>\n",
       "      <td>...</td>\n",
       "    </tr>\n",
       "    <tr>\n",
       "      <th>Bacchus Marsh</th>\n",
       "      <td>0.000074</td>\n",
       "    </tr>\n",
       "    <tr>\n",
       "      <th>Bullengarook</th>\n",
       "      <td>0.000074</td>\n",
       "    </tr>\n",
       "    <tr>\n",
       "      <th>Sandhurst</th>\n",
       "      <td>0.000074</td>\n",
       "    </tr>\n",
       "    <tr>\n",
       "      <th>Wallan</th>\n",
       "      <td>0.000074</td>\n",
       "    </tr>\n",
       "    <tr>\n",
       "      <th>Healesville</th>\n",
       "      <td>0.000074</td>\n",
       "    </tr>\n",
       "  </tbody>\n",
       "</table>\n",
       "<p>314 rows × 1 columns</p>\n",
       "</div>"
      ],
      "text/plain": [
       "                  Suburb\n",
       "Reservoir       0.026436\n",
       "Richmond        0.019146\n",
       "Bentleigh East  0.018336\n",
       "Preston         0.017599\n",
       "Brunswick       0.016348\n",
       "...                  ...\n",
       "Bacchus Marsh   0.000074\n",
       "Bullengarook    0.000074\n",
       "Sandhurst       0.000074\n",
       "Wallan          0.000074\n",
       "Healesville     0.000074\n",
       "\n",
       "[314 rows x 1 columns]"
      ]
     },
     "execution_count": 13,
     "metadata": {},
     "output_type": "execute_result"
    }
   ],
   "source": [
    "melb_df.Suburb.value_counts(normalize=True).to_frame() # Frecuencia relativa de cada valor único"
   ]
  },
  {
   "cell_type": "code",
   "execution_count": 14,
   "metadata": {},
   "outputs": [
    {
     "data": {
      "text/html": [
       "<div>\n",
       "<style scoped>\n",
       "    .dataframe tbody tr th:only-of-type {\n",
       "        vertical-align: middle;\n",
       "    }\n",
       "\n",
       "    .dataframe tbody tr th {\n",
       "        vertical-align: top;\n",
       "    }\n",
       "\n",
       "    .dataframe thead th {\n",
       "        text-align: right;\n",
       "    }\n",
       "</style>\n",
       "<table border=\"1\" class=\"dataframe\">\n",
       "  <thead>\n",
       "    <tr style=\"text-align: right;\">\n",
       "      <th></th>\n",
       "      <th>Suburb</th>\n",
       "    </tr>\n",
       "  </thead>\n",
       "  <tbody>\n",
       "    <tr>\n",
       "      <th>Reservoir</th>\n",
       "      <td>359</td>\n",
       "    </tr>\n",
       "    <tr>\n",
       "      <th>Richmond</th>\n",
       "      <td>260</td>\n",
       "    </tr>\n",
       "    <tr>\n",
       "      <th>Bentleigh East</th>\n",
       "      <td>249</td>\n",
       "    </tr>\n",
       "    <tr>\n",
       "      <th>Preston</th>\n",
       "      <td>239</td>\n",
       "    </tr>\n",
       "    <tr>\n",
       "      <th>Brunswick</th>\n",
       "      <td>222</td>\n",
       "    </tr>\n",
       "    <tr>\n",
       "      <th>...</th>\n",
       "      <td>...</td>\n",
       "    </tr>\n",
       "    <tr>\n",
       "      <th>Bacchus Marsh</th>\n",
       "      <td>1</td>\n",
       "    </tr>\n",
       "    <tr>\n",
       "      <th>Bullengarook</th>\n",
       "      <td>1</td>\n",
       "    </tr>\n",
       "    <tr>\n",
       "      <th>Sandhurst</th>\n",
       "      <td>1</td>\n",
       "    </tr>\n",
       "    <tr>\n",
       "      <th>Wallan</th>\n",
       "      <td>1</td>\n",
       "    </tr>\n",
       "    <tr>\n",
       "      <th>Healesville</th>\n",
       "      <td>1</td>\n",
       "    </tr>\n",
       "  </tbody>\n",
       "</table>\n",
       "<p>314 rows × 1 columns</p>\n",
       "</div>"
      ],
      "text/plain": [
       "                Suburb\n",
       "Reservoir          359\n",
       "Richmond           260\n",
       "Bentleigh East     249\n",
       "Preston            239\n",
       "Brunswick          222\n",
       "...                ...\n",
       "Bacchus Marsh        1\n",
       "Bullengarook         1\n",
       "Sandhurst            1\n",
       "Wallan               1\n",
       "Healesville          1\n",
       "\n",
       "[314 rows x 1 columns]"
      ]
     },
     "execution_count": 14,
     "metadata": {},
     "output_type": "execute_result"
    }
   ],
   "source": [
    "melb_df.Suburb.value_counts().to_frame()"
   ]
  },
  {
   "cell_type": "code",
   "execution_count": 15,
   "metadata": {},
   "outputs": [
    {
     "name": "stdout",
     "output_type": "stream",
     "text": [
      "None\n"
     ]
    }
   ],
   "source": [
    "print(re.search(\"^[{o}{O}]ther^s$\",\"Other\"))"
   ]
  },
  {
   "cell_type": "code",
   "execution_count": 16,
   "metadata": {},
   "outputs": [],
   "source": [
    "def searchOther(txt):\n",
    "    search = re.search(\"^[{o}{O}]ther\", txt) or re.search(\"^[{o}{O}]thers\", txt)\n",
    "    if (search == None):\n",
    "        return False\n",
    "    return True"
   ]
  },
  {
   "cell_type": "code",
   "execution_count": 17,
   "metadata": {},
   "outputs": [
    {
     "data": {
      "text/html": [
       "<div>\n",
       "<style scoped>\n",
       "    .dataframe tbody tr th:only-of-type {\n",
       "        vertical-align: middle;\n",
       "    }\n",
       "\n",
       "    .dataframe tbody tr th {\n",
       "        vertical-align: top;\n",
       "    }\n",
       "\n",
       "    .dataframe thead th {\n",
       "        text-align: right;\n",
       "    }\n",
       "</style>\n",
       "<table border=\"1\" class=\"dataframe\">\n",
       "  <thead>\n",
       "    <tr style=\"text-align: right;\">\n",
       "      <th></th>\n",
       "      <th>Suburb</th>\n",
       "      <th>Address</th>\n",
       "      <th>Rooms</th>\n",
       "      <th>Type</th>\n",
       "      <th>Price</th>\n",
       "      <th>Method</th>\n",
       "      <th>SellerG</th>\n",
       "      <th>Date</th>\n",
       "      <th>Distance</th>\n",
       "      <th>Postcode</th>\n",
       "      <th>...</th>\n",
       "      <th>Bathroom</th>\n",
       "      <th>Car</th>\n",
       "      <th>Landsize</th>\n",
       "      <th>BuildingArea</th>\n",
       "      <th>YearBuilt</th>\n",
       "      <th>CouncilArea</th>\n",
       "      <th>Lattitude</th>\n",
       "      <th>Longtitude</th>\n",
       "      <th>Regionname</th>\n",
       "      <th>Propertycount</th>\n",
       "    </tr>\n",
       "  </thead>\n",
       "  <tbody>\n",
       "  </tbody>\n",
       "</table>\n",
       "<p>0 rows × 21 columns</p>\n",
       "</div>"
      ],
      "text/plain": [
       "Empty DataFrame\n",
       "Columns: [Suburb, Address, Rooms, Type, Price, Method, SellerG, Date, Distance, Postcode, Bedroom2, Bathroom, Car, Landsize, BuildingArea, YearBuilt, CouncilArea, Lattitude, Longtitude, Regionname, Propertycount]\n",
       "Index: []\n",
       "\n",
       "[0 rows x 21 columns]"
      ]
     },
     "execution_count": 17,
     "metadata": {},
     "output_type": "execute_result"
    }
   ],
   "source": [
    "melb_df[melb_df.Suburb == 'others']"
   ]
  },
  {
   "cell_type": "code",
   "execution_count": 18,
   "metadata": {},
   "outputs": [
    {
     "data": {
      "text/plain": [
       "count    314.000000\n",
       "mean      43.248408\n",
       "std       55.138994\n",
       "min        1.000000\n",
       "25%        6.250000\n",
       "50%       20.500000\n",
       "75%       59.000000\n",
       "max      359.000000\n",
       "Name: Suburb, dtype: float64"
      ]
     },
     "execution_count": 18,
     "metadata": {},
     "output_type": "execute_result"
    }
   ],
   "source": [
    "melb_df.Suburb.value_counts().describe()"
   ]
  },
  {
   "cell_type": "code",
   "execution_count": 19,
   "metadata": {},
   "outputs": [
    {
     "data": {
      "text/plain": [
       "Reservoir         359\n",
       "Richmond          260\n",
       "Bentleigh East    249\n",
       "Preston           239\n",
       "Brunswick         222\n",
       "                 ... \n",
       "Bacchus Marsh       1\n",
       "Bullengarook        1\n",
       "Sandhurst           1\n",
       "Wallan              1\n",
       "Healesville         1\n",
       "Name: Suburb, Length: 314, dtype: int64"
      ]
     },
     "execution_count": 19,
     "metadata": {},
     "output_type": "execute_result"
    }
   ],
   "source": [
    "melb_df.Suburb.value_counts()"
   ]
  },
  {
   "cell_type": "markdown",
   "metadata": {},
   "source": [
    "### Feature Address"
   ]
  },
  {
   "cell_type": "code",
   "execution_count": 20,
   "metadata": {},
   "outputs": [
    {
     "name": "stdout",
     "output_type": "stream",
     "text": [
      "Hay 13580 elementos.\n",
      "Hay 13378 elementos únicos.\n",
      "El elemento mas frecuente es 5 Charles St y ocurre 3 veces.\n",
      "Hay 0 elementos nulos.\n",
      "Hay 0 elementos vacíos.\n",
      "Hay 0 elementos con ceros.\n"
     ]
    }
   ],
   "source": [
    "describe(melb_df,'Address')"
   ]
  },
  {
   "cell_type": "markdown",
   "metadata": {},
   "source": [
    "### Feature Type"
   ]
  },
  {
   "cell_type": "code",
   "execution_count": 21,
   "metadata": {},
   "outputs": [
    {
     "name": "stdout",
     "output_type": "stream",
     "text": [
      "Hay 13580 elementos.\n",
      "Hay 3 elementos únicos.\n",
      "El elemento mas frecuente es h y ocurre 9449 veces.\n",
      "Hay 0 elementos nulos.\n",
      "Hay 0 elementos vacíos.\n",
      "Hay 0 elementos con ceros.\n"
     ]
    },
    {
     "data": {
      "text/plain": [
       "<AxesSubplot:xlabel='Type', ylabel='Count'>"
      ]
     },
     "execution_count": 21,
     "metadata": {},
     "output_type": "execute_result"
    },
    {
     "data": {
      "image/png": "[encoded data removed]",
      "text/plain": [
       "<Figure size 432x288 with 1 Axes>"
      ]
     },
     "metadata": {
      "needs_background": "light"
     },
     "output_type": "display_data"
    }
   ],
   "source": [
    "describe(melb_df,'Type')\n",
    "seaborn.histplot(data=melb_df, x='Type')"
   ]
  },
  {
   "cell_type": "markdown",
   "metadata": {},
   "source": [
    "### Feature Price"
   ]
  },
  {
   "cell_type": "code",
   "execution_count": 22,
   "metadata": {},
   "outputs": [
    {
     "name": "stdout",
     "output_type": "stream",
     "text": [
      "Hay 13580 elementos.\n",
      "Hay 2204 elementos únicos.\n",
      "El elemento mas frecuente es 1100000.0 y ocurre 113 veces.\n",
      "Hay 0 elementos nulos.\n",
      "Hay 0 elementos vacíos.\n",
      "Hay 0 elementos con ceros.\n"
     ]
    },
    {
     "data": {
      "text/plain": [
       "<AxesSubplot:xlabel='Price'>"
      ]
     },
     "execution_count": 22,
     "metadata": {},
     "output_type": "execute_result"
    },
    {
     "data": {
      "image/png": "[encoded data removed]",
      "text/plain": [
       "<Figure size 432x288 with 1 Axes>"
      ]
     },
     "metadata": {
      "needs_background": "light"
     },
     "output_type": "display_data"
    }
   ],
   "source": [
    "describe(melb_df,'Price')\n",
    "seaborn.boxplot(data=melb_df, x='Price')"
   ]
  },
  {
   "cell_type": "markdown",
   "metadata": {},
   "source": [
    "Feature elegida para remover outliers, al ser una variable numérica continua"
   ]
  },
  {
   "cell_type": "code",
   "execution_count": 23,
   "metadata": {},
   "outputs": [
    {
     "name": "stdout",
     "output_type": "stream",
     "text": [
      "Después de remover outlier con IQR mantenemos un porcentaje del 95.41 % sobre el dataset original\n",
      "Hay 12956 elementos.\n",
      "Hay 1945 elementos únicos.\n",
      "El elemento mas frecuente es 1100000.0 y ocurre 113 veces.\n",
      "Hay 0 elementos nulos.\n",
      "Hay 0 elementos vacíos.\n",
      "Hay 0 elementos con ceros.\n"
     ]
    },
    {
     "data": {
      "text/plain": [
       "<AxesSubplot:xlabel='Price'>"
      ]
     },
     "execution_count": 23,
     "metadata": {},
     "output_type": "execute_result"
    },
    {
     "data": {
      "image/png": "[encoded data removed]",
      "text/plain": [
       "<Figure size 432x288 with 1 Axes>"
      ]
     },
     "metadata": {
      "needs_background": "light"
     },
     "output_type": "display_data"
    }
   ],
   "source": [
    "iqr_factor = 1.5\n",
    "price = melb_df.copy()\n",
    "price_main_inliers, price_main_outliers = remove_outlier(price, \"Price\", iqr_factor)\n",
    "p = (len(price_main_inliers) / len(price)) * 100\n",
    "print(f'Después de remover outlier con IQR mantenemos un porcentaje del {round(p,2)} % sobre el dataset original')\n",
    "describe(price_main_inliers,'Price')\n",
    "seaborn.boxplot(data=price_main_inliers, x='Price')"
   ]
  },
  {
   "cell_type": "code",
   "execution_count": 24,
   "metadata": {},
   "outputs": [],
   "source": [
    "melb_df = price.copy()"
   ]
  },
  {
   "cell_type": "markdown",
   "metadata": {},
   "source": [
    "### Feature Method"
   ]
  },
  {
   "cell_type": "code",
   "execution_count": 25,
   "metadata": {},
   "outputs": [
    {
     "name": "stdout",
     "output_type": "stream",
     "text": [
      "Hay 13580 elementos.\n",
      "Hay 5 elementos únicos.\n",
      "El elemento mas frecuente es S y ocurre 9022 veces.\n",
      "Hay 0 elementos nulos.\n",
      "Hay 0 elementos vacíos.\n",
      "Hay 0 elementos con ceros.\n"
     ]
    },
    {
     "data": {
      "text/plain": [
       "<AxesSubplot:xlabel='Method', ylabel='Count'>"
      ]
     },
     "execution_count": 25,
     "metadata": {},
     "output_type": "execute_result"
    },
    {
     "data": {
      "image/png": "[encoded data removed]",
      "text/plain": [
       "<Figure size 432x288 with 1 Axes>"
      ]
     },
     "metadata": {
      "needs_background": "light"
     },
     "output_type": "display_data"
    }
   ],
   "source": [
    "describe(melb_df,'Method')\n",
    "seaborn.histplot(data=melb_df, x='Method')"
   ]
  },
  {
   "cell_type": "markdown",
   "metadata": {},
   "source": [
    "### Feature SellerG"
   ]
  },
  {
   "cell_type": "code",
   "execution_count": 26,
   "metadata": {},
   "outputs": [
    {
     "name": "stdout",
     "output_type": "stream",
     "text": [
      "Hay 13580 elementos.\n",
      "Hay 268 elementos únicos.\n",
      "El elemento mas frecuente es Nelson y ocurre 1565 veces.\n",
      "Hay 0 elementos nulos.\n",
      "Hay 0 elementos vacíos.\n",
      "Hay 0 elementos con ceros.\n"
     ]
    }
   ],
   "source": [
    "describe(melb_df,'SellerG')"
   ]
  },
  {
   "cell_type": "markdown",
   "metadata": {},
   "source": [
    "El nombre del vendedor no aporta información para la predicción"
   ]
  },
  {
   "cell_type": "markdown",
   "metadata": {},
   "source": [
    "### Feature Date"
   ]
  },
  {
   "cell_type": "code",
   "execution_count": 27,
   "metadata": {},
   "outputs": [
    {
     "name": "stdout",
     "output_type": "stream",
     "text": [
      "Hay 13580 elementos.\n",
      "Hay 58 elementos únicos.\n",
      "El elemento mas frecuente es 27/05/2017 y ocurre 473 veces.\n",
      "Hay 0 elementos nulos.\n",
      "Hay 0 elementos vacíos.\n",
      "Hay 0 elementos con ceros.\n"
     ]
    }
   ],
   "source": [
    "describe(melb_df,'Date')"
   ]
  },
  {
   "cell_type": "markdown",
   "metadata": {},
   "source": [
    "La fecha de venta no aporta información para la predicción"
   ]
  },
  {
   "cell_type": "markdown",
   "metadata": {},
   "source": [
    "### Feature Distance"
   ]
  },
  {
   "cell_type": "code",
   "execution_count": 28,
   "metadata": {},
   "outputs": [
    {
     "name": "stdout",
     "output_type": "stream",
     "text": [
      "Hay 13580 elementos.\n",
      "Hay 202 elementos únicos.\n",
      "El elemento mas frecuente es 11.2 y ocurre 739 veces.\n",
      "Hay 0 elementos nulos.\n",
      "Hay 0 elementos vacíos.\n",
      "Hay 6 elementos con ceros.\n"
     ]
    },
    {
     "data": {
      "text/plain": [
       "<AxesSubplot:xlabel='Distance'>"
      ]
     },
     "execution_count": 28,
     "metadata": {},
     "output_type": "execute_result"
    },
    {
     "data": {
      "image/png": "[encoded data removed]",
      "text/plain": [
       "<Figure size 432x288 with 1 Axes>"
      ]
     },
     "metadata": {
      "needs_background": "light"
     },
     "output_type": "display_data"
    }
   ],
   "source": [
    "describe(melb_df,'Distance')\n",
    "seaborn.boxplot(data=melb_df,x='Distance')"
   ]
  },
  {
   "cell_type": "markdown",
   "metadata": {},
   "source": [
    "Podríamos separar en categorías, centro < 10, cercano a centro < 25 y lejos del centro el resto.\n",
    "\n",
    "Se propone la categoría 1: centro 2: cercano 3: lejos\n",
    "\n",
    "Los ceros no perjudican."
   ]
  },
  {
   "cell_type": "code",
   "execution_count": 29,
   "metadata": {},
   "outputs": [
    {
     "name": "stdout",
     "output_type": "stream",
     "text": [
      "Quantiles a utilizar para categorizar\n",
      "quantile 25 6.1\n",
      "quantile 50 9.2\n",
      "\n",
      "Hay 13580 elementos.\n",
      "Hay 3 elementos únicos.\n",
      "El elemento mas frecuente es 3.0 y ocurre 7109 veces.\n",
      "Hay 0 elementos nulos.\n",
      "Hay 0 elementos vacíos.\n",
      "Hay 0 elementos con ceros.\n",
      "\n",
      "Cantidad de elementos de cada nueva categoría\n",
      "3.0    7109\n",
      "1.0    3397\n",
      "2.0    3074\n",
      "Name: Distance, dtype: int64\n"
     ]
    }
   ],
   "source": [
    "distance = melb_df.copy()\n",
    "quantile_25 = numpy.quantile(distance.Distance,0.25)\n",
    "quantile_50 = numpy.quantile(distance.Distance,0.50)\n",
    "print(\"Quantiles a utilizar para categorizar\")\n",
    "print(f\"quantile 25 {quantile_25}\")\n",
    "print(f\"quantile 50 {quantile_50}\\n\")\n",
    "\n",
    "distance.loc[distance.Distance <= quantile_25, 'Distance'] = int(1)\n",
    "distance.loc[(distance.Distance >= quantile_25) & (distance.Distance < quantile_50), 'Distance'] = int(2)\n",
    "distance.loc[distance.Distance >= quantile_50, 'Distance'] = int(3)\n",
    "\n",
    "describe(distance,'Distance')\n",
    "print(\"\\nCantidad de elementos de cada nueva categoría\")\n",
    "print(distance.Distance.value_counts())"
   ]
  },
  {
   "cell_type": "code",
   "execution_count": 30,
   "metadata": {},
   "outputs": [],
   "source": [
    "melb_df = distance.copy()"
   ]
  },
  {
   "cell_type": "markdown",
   "metadata": {},
   "source": [
    "### Feature Postcode"
   ]
  },
  {
   "cell_type": "code",
   "execution_count": 31,
   "metadata": {},
   "outputs": [
    {
     "name": "stdout",
     "output_type": "stream",
     "text": [
      "Hay 13580 elementos.\n",
      "Hay 198 elementos únicos.\n",
      "El elemento mas frecuente es 3073.0 y ocurre 359 veces.\n",
      "Hay 0 elementos nulos.\n",
      "Hay 0 elementos vacíos.\n",
      "Hay 0 elementos con ceros.\n"
     ]
    }
   ],
   "source": [
    "describe(melb_df,'Postcode')"
   ]
  },
  {
   "cell_type": "markdown",
   "metadata": {},
   "source": [
    "### Feature Rooms"
   ]
  },
  {
   "cell_type": "code",
   "execution_count": 32,
   "metadata": {},
   "outputs": [
    {
     "name": "stdout",
     "output_type": "stream",
     "text": [
      "Hay 13580 elementos.\n",
      "Hay 9 elementos únicos.\n",
      "El elemento mas frecuente es 3 y ocurre 5881 veces.\n",
      "Hay 0 elementos nulos.\n",
      "Hay 0 elementos vacíos.\n",
      "Hay 0 elementos con ceros.\n"
     ]
    },
    {
     "data": {
      "text/plain": [
       "<AxesSubplot:xlabel='Rooms'>"
      ]
     },
     "execution_count": 32,
     "metadata": {},
     "output_type": "execute_result"
    },
    {
     "data": {
      "image/png": "[encoded data removed]",
      "text/plain": [
       "<Figure size 432x288 with 1 Axes>"
      ]
     },
     "metadata": {
      "needs_background": "light"
     },
     "output_type": "display_data"
    }
   ],
   "source": [
    "describe(melb_df,'Rooms')\n",
    "seaborn.boxplot(data=melb_df, x='Rooms')"
   ]
  },
  {
   "cell_type": "markdown",
   "metadata": {},
   "source": [
    "El feature no cuenta con elementos nulos, ni vacíos ni con cero. Esta feature es candidata a ser agrupada. Se elige la condición de mayores a 4"
   ]
  },
  {
   "cell_type": "code",
   "execution_count": 33,
   "metadata": {},
   "outputs": [
    {
     "name": "stdout",
     "output_type": "stream",
     "text": [
      "Hay 13580 elementos.\n",
      "Hay 4 elementos únicos.\n",
      "El elemento mas frecuente es 3 y ocurre 5881 veces.\n",
      "Hay 0 elementos nulos.\n",
      "Hay 0 elementos vacíos.\n",
      "Hay 0 elementos con ceros.\n"
     ]
    },
    {
     "data": {
      "text/plain": [
       "<AxesSubplot:xlabel='Rooms'>"
      ]
     },
     "execution_count": 33,
     "metadata": {},
     "output_type": "execute_result"
    },
    {
     "data": {
      "image/png": "[encoded data removed]",
      "text/plain": [
       "<Figure size 432x288 with 1 Axes>"
      ]
     },
     "metadata": {
      "needs_background": "light"
     },
     "output_type": "display_data"
    }
   ],
   "source": [
    "rooms1 = melb_df.copy()\n",
    "rooms1.loc[rooms1.Rooms > 4, 'Rooms'] = 4 # o 5\n",
    "describe(rooms1,'Rooms')\n",
    "seaborn.boxplot(data=rooms1,x='Rooms')"
   ]
  },
  {
   "cell_type": "code",
   "execution_count": 34,
   "metadata": {},
   "outputs": [
    {
     "name": "stdout",
     "output_type": "stream",
     "text": [
      "Después de remover outlier con IQR mantenemos un porcentaje del 94.98 % sobre el dataset original\n",
      "Hay 12898 elementos.\n",
      "Hay 4 elementos únicos.\n",
      "El elemento mas frecuente es 3 y ocurre 5881 veces.\n",
      "Hay 0 elementos nulos.\n",
      "Hay 0 elementos vacíos.\n",
      "Hay 0 elementos con ceros.\n"
     ]
    },
    {
     "data": {
      "text/plain": [
       "<AxesSubplot:xlabel='Rooms'>"
      ]
     },
     "execution_count": 34,
     "metadata": {},
     "output_type": "execute_result"
    },
    {
     "data": {
      "image/png": "[encoded data removed]",
      "text/plain": [
       "<Figure size 432x288 with 1 Axes>"
      ]
     },
     "metadata": {
      "needs_background": "light"
     },
     "output_type": "display_data"
    }
   ],
   "source": [
    "iqr_factor = 1.5\n",
    "rooms2 = melb_df.copy()\n",
    "rooms_main_inliers, rooms_main_outliers = remove_outlier(rooms2, \"Rooms\", iqr_factor)\n",
    "p = (len(rooms_main_inliers) / len(rooms2)) * 100\n",
    "print(f'Después de remover outlier con IQR mantenemos un porcentaje del {round(p,2)} % sobre el dataset original')\n",
    "describe(rooms_main_inliers,'Rooms')\n",
    "seaborn.boxplot(data=rooms_main_inliers, x='Rooms')"
   ]
  },
  {
   "cell_type": "code",
   "execution_count": 35,
   "metadata": {},
   "outputs": [],
   "source": [
    "melb_df = rooms_main_inliers.copy()"
   ]
  },
  {
   "cell_type": "markdown",
   "metadata": {},
   "source": [
    "### Feature Bedroom2"
   ]
  },
  {
   "cell_type": "code",
   "execution_count": 36,
   "metadata": {},
   "outputs": [
    {
     "name": "stdout",
     "output_type": "stream",
     "text": [
      "Hay 12898 elementos.\n",
      "Hay 8 elementos únicos.\n",
      "El elemento mas frecuente es 3.0 y ocurre 5877 veces.\n",
      "Hay 0 elementos nulos.\n",
      "Hay 0 elementos vacíos.\n",
      "Hay 16 elementos con ceros.\n"
     ]
    },
    {
     "data": {
      "text/plain": [
       "<AxesSubplot:xlabel='Bedroom2'>"
      ]
     },
     "execution_count": 36,
     "metadata": {},
     "output_type": "execute_result"
    },
    {
     "data": {
      "image/png": "[encoded data removed]",
      "text/plain": [
       "<Figure size 432x288 with 1 Axes>"
      ]
     },
     "metadata": {
      "needs_background": "light"
     },
     "output_type": "display_data"
    }
   ],
   "source": [
    "describe(melb_df,'Bedroom2')\n",
    "seaborn.boxplot(data=melb_df,x='Bedroom2')"
   ]
  },
  {
   "cell_type": "markdown",
   "metadata": {},
   "source": [
    "Elementos con ceros asignarle 1, pueden ser de otra categoría (quincho, garage, galpón, etc), como trabajamos con datos que especifican que son de ventas de propiedades damos por supuesto que todas las casas deben tener por lo menos un dormitorio.\n",
    "\n",
    "También es un candidato a remover outliers. La propiedad con 20 habitaciones puede ser una mansión o un complejo,etc"
   ]
  },
  {
   "cell_type": "code",
   "execution_count": 37,
   "metadata": {},
   "outputs": [
    {
     "name": "stdout",
     "output_type": "stream",
     "text": [
      "Hay 12898 elementos.\n",
      "Hay 4 elementos únicos.\n",
      "El elemento mas frecuente es 3.0 y ocurre 5877 veces.\n",
      "Hay 0 elementos nulos.\n",
      "Hay 0 elementos vacíos.\n",
      "Hay 0 elementos con ceros.\n"
     ]
    },
    {
     "data": {
      "text/plain": [
       "<AxesSubplot:xlabel='Bedroom2'>"
      ]
     },
     "execution_count": 37,
     "metadata": {},
     "output_type": "execute_result"
    },
    {
     "data": {
      "image/png": "[encoded data removed]",
      "text/plain": [
       "<Figure size 432x288 with 1 Axes>"
      ]
     },
     "metadata": {
      "needs_background": "light"
     },
     "output_type": "display_data"
    }
   ],
   "source": [
    "bedroom1 = melb_df.copy()\n",
    "bedroom1.loc[bedroom1.Bedroom2 == 0, 'Bedroom2'] = 1\n",
    "bedroom1.loc[bedroom1.Bedroom2 > 4, 'Bedroom2'] = 4 # o 5\n",
    "describe(bedroom1,'Bedroom2')\n",
    "seaborn.boxplot(data=bedroom1,x='Bedroom2')"
   ]
  },
  {
   "cell_type": "code",
   "execution_count": 38,
   "metadata": {},
   "outputs": [
    {
     "name": "stdout",
     "output_type": "stream",
     "text": [
      "Después de remover outlier con IQR mantenemos un porcentaje del 99.69 % sobre el dataset original\n",
      "Hay 12858 elementos.\n",
      "Hay 4 elementos únicos.\n",
      "El elemento mas frecuente es 3.0 y ocurre 5877 veces.\n",
      "Hay 0 elementos nulos.\n",
      "Hay 0 elementos vacíos.\n",
      "Hay 0 elementos con ceros.\n"
     ]
    },
    {
     "data": {
      "text/plain": [
       "<AxesSubplot:xlabel='Bedroom2'>"
      ]
     },
     "execution_count": 38,
     "metadata": {},
     "output_type": "execute_result"
    },
    {
     "data": {
      "image/png": "[encoded data removed]",
      "text/plain": [
       "<Figure size 432x288 with 1 Axes>"
      ]
     },
     "metadata": {
      "needs_background": "light"
     },
     "output_type": "display_data"
    }
   ],
   "source": [
    "iqr_factor = 1.5\n",
    "bedroom2 = melb_df.copy()\n",
    "bedroom_main_inliers, bedroom_main_outliers = remove_outlier(bedroom2, \"Bedroom2\", iqr_factor)\n",
    "p = (len(bedroom_main_inliers) / len(bedroom2)) * 100\n",
    "print(f'Después de remover outlier con IQR mantenemos un porcentaje del {round(p,2)} % sobre el dataset original')\n",
    "describe(bedroom_main_inliers,'Bedroom2')\n",
    "seaborn.boxplot(data=bedroom_main_inliers, x='Bedroom2')"
   ]
  },
  {
   "cell_type": "code",
   "execution_count": 39,
   "metadata": {},
   "outputs": [],
   "source": [
    "melb_df = bedroom_main_inliers.copy()"
   ]
  },
  {
   "cell_type": "markdown",
   "metadata": {},
   "source": [
    "### Análisis variable Bedroom2 y Room"
   ]
  },
  {
   "cell_type": "code",
   "execution_count": 40,
   "metadata": {},
   "outputs": [
    {
     "data": {
      "text/html": [
       "<div>\n",
       "<style scoped>\n",
       "    .dataframe tbody tr th:only-of-type {\n",
       "        vertical-align: middle;\n",
       "    }\n",
       "\n",
       "    .dataframe tbody tr th {\n",
       "        vertical-align: top;\n",
       "    }\n",
       "\n",
       "    .dataframe thead th {\n",
       "        text-align: right;\n",
       "    }\n",
       "</style>\n",
       "<table border=\"1\" class=\"dataframe\">\n",
       "  <thead>\n",
       "    <tr style=\"text-align: right;\">\n",
       "      <th>Rooms</th>\n",
       "      <th>1</th>\n",
       "      <th>2</th>\n",
       "      <th>3</th>\n",
       "      <th>4</th>\n",
       "    </tr>\n",
       "    <tr>\n",
       "      <th>Bedroom2</th>\n",
       "      <th></th>\n",
       "      <th></th>\n",
       "      <th></th>\n",
       "      <th></th>\n",
       "    </tr>\n",
       "  </thead>\n",
       "  <tbody>\n",
       "    <tr>\n",
       "      <th>1.0</th>\n",
       "      <td>663</td>\n",
       "      <td>21</td>\n",
       "      <td>5</td>\n",
       "      <td>2</td>\n",
       "    </tr>\n",
       "    <tr>\n",
       "      <th>2.0</th>\n",
       "      <td>16</td>\n",
       "      <td>3539</td>\n",
       "      <td>162</td>\n",
       "      <td>19</td>\n",
       "    </tr>\n",
       "    <tr>\n",
       "      <th>3.0</th>\n",
       "      <td>2</td>\n",
       "      <td>74</td>\n",
       "      <td>5626</td>\n",
       "      <td>175</td>\n",
       "    </tr>\n",
       "    <tr>\n",
       "      <th>4.0</th>\n",
       "      <td>0</td>\n",
       "      <td>8</td>\n",
       "      <td>73</td>\n",
       "      <td>2473</td>\n",
       "    </tr>\n",
       "  </tbody>\n",
       "</table>\n",
       "</div>"
      ],
      "text/plain": [
       "Rooms       1     2     3     4\n",
       "Bedroom2                       \n",
       "1.0       663    21     5     2\n",
       "2.0        16  3539   162    19\n",
       "3.0         2    74  5626   175\n",
       "4.0         0     8    73  2473"
      ]
     },
     "execution_count": 40,
     "metadata": {},
     "output_type": "execute_result"
    }
   ],
   "source": [
    "Bedroom2 = melb_df.Bedroom2\n",
    "Rooms = melb_df.Rooms\n",
    "pandas.crosstab(Bedroom2,Rooms)"
   ]
  },
  {
   "cell_type": "markdown",
   "metadata": {},
   "source": [
    "La variable Rooms es mucho mas informativa que la variable Bedroom2. Por esto decidimos sacar la variable Bedroom2"
   ]
  },
  {
   "cell_type": "code",
   "execution_count": 41,
   "metadata": {},
   "outputs": [],
   "source": [
    "melb_df.drop(['Bedroom2'], axis=1, inplace=True)"
   ]
  },
  {
   "cell_type": "markdown",
   "metadata": {},
   "source": [
    "### Feature Bathroom"
   ]
  },
  {
   "cell_type": "code",
   "execution_count": 42,
   "metadata": {},
   "outputs": [
    {
     "name": "stdout",
     "output_type": "stream",
     "text": [
      "Hay 12858 elementos.\n",
      "Hay 6 elementos únicos.\n",
      "El elemento mas frecuente es 1.0 y ocurre 7484 veces.\n",
      "Hay 0 elementos nulos.\n",
      "Hay 0 elementos vacíos.\n",
      "Hay 28 elementos con ceros.\n"
     ]
    },
    {
     "data": {
      "text/plain": [
       "<AxesSubplot:xlabel='Bathroom'>"
      ]
     },
     "execution_count": 42,
     "metadata": {},
     "output_type": "execute_result"
    },
    {
     "data": {
      "image/png": "[encoded data removed]",
      "text/plain": [
       "<Figure size 432x288 with 1 Axes>"
      ]
     },
     "metadata": {
      "needs_background": "light"
     },
     "output_type": "display_data"
    }
   ],
   "source": [
    "describe(melb_df,'Bathroom')\n",
    "seaborn.boxplot(data=melb_df,x='Bathroom')"
   ]
  },
  {
   "cell_type": "markdown",
   "metadata": {},
   "source": [
    "La misma suposición realizada respecto de Bedroom2, damos por supuesto que trabajamos con propiedades tipo casas y aquellas con valores ceros le asignaremos un 1.\n",
    "\n",
    "Se propone unificar todas aquellas filas con mayor a 3 con valor 4"
   ]
  },
  {
   "cell_type": "code",
   "execution_count": 43,
   "metadata": {},
   "outputs": [
    {
     "name": "stdout",
     "output_type": "stream",
     "text": [
      "Hay 12858 elementos.\n",
      "Hay 4 elementos únicos.\n",
      "El elemento mas frecuente es 1.0 y ocurre 7512 veces.\n",
      "Hay 0 elementos nulos.\n",
      "Hay 0 elementos vacíos.\n",
      "Hay 0 elementos con ceros.\n"
     ]
    },
    {
     "data": {
      "text/plain": [
       "<AxesSubplot:xlabel='Bathroom'>"
      ]
     },
     "execution_count": 43,
     "metadata": {},
     "output_type": "execute_result"
    },
    {
     "data": {
      "image/png": "[encoded data removed]",
      "text/plain": [
       "<Figure size 432x288 with 1 Axes>"
      ]
     },
     "metadata": {
      "needs_background": "light"
     },
     "output_type": "display_data"
    }
   ],
   "source": [
    "bathroom = melb_df.copy()\n",
    "bathroom.loc[bathroom.Bathroom == 0, 'Bathroom'] = 1\n",
    "#bathroom.loc[bathroom.Bathroom > numpy.quantile(bathroom.Bathroom,0.75), 'Bathroom'] = \"+075\"\n",
    "bathroom.loc[bathroom.Bathroom > 3, 'Bathroom'] = 4\n",
    "describe(bathroom,'Bathroom')\n",
    "seaborn.boxplot(data=bathroom,x='Bathroom')"
   ]
  },
  {
   "cell_type": "code",
   "execution_count": 44,
   "metadata": {},
   "outputs": [
    {
     "name": "stdout",
     "output_type": "stream",
     "text": [
      "Después de remover outlier con IQR mantenemos un porcentaje del 94.32 % sobre el dataset original\n",
      "Hay 12809 elementos.\n",
      "Hay 4 elementos únicos.\n",
      "El elemento mas frecuente es 1.0 y ocurre 7484 veces.\n",
      "Hay 0 elementos nulos.\n",
      "Hay 0 elementos vacíos.\n",
      "Hay 28 elementos con ceros.\n"
     ]
    },
    {
     "data": {
      "text/plain": [
       "<AxesSubplot:xlabel='Bathroom'>"
      ]
     },
     "execution_count": 44,
     "metadata": {},
     "output_type": "execute_result"
    },
    {
     "data": {
      "image/png": "[encoded data removed]",
      "text/plain": [
       "<Figure size 432x288 with 1 Axes>"
      ]
     },
     "metadata": {
      "needs_background": "light"
     },
     "output_type": "display_data"
    }
   ],
   "source": [
    "iqr_factor = 1.5\n",
    "bathroom = melb_df.copy()\n",
    "bathroom_main_inliers, bathroom_main_outliers = remove_outlier(bathroom, \"Bathroom\", iqr_factor)\n",
    "p = (len(bathroom_main_inliers) / len(price)) * 100\n",
    "print(f'Después de remover outlier con IQR mantenemos un porcentaje del {round(p,2)} % sobre el dataset original')\n",
    "describe(bathroom_main_inliers,'Bathroom')\n",
    "seaborn.boxplot(data=bathroom_main_inliers, x='Bathroom')"
   ]
  },
  {
   "cell_type": "markdown",
   "metadata": {},
   "source": [
    "Al remover outlier comprobamos que obtenemos mejores resultados"
   ]
  },
  {
   "cell_type": "code",
   "execution_count": 45,
   "metadata": {},
   "outputs": [],
   "source": [
    "melb_df = bathroom.copy()"
   ]
  },
  {
   "cell_type": "markdown",
   "metadata": {},
   "source": [
    "### Feature Car"
   ]
  },
  {
   "cell_type": "code",
   "execution_count": 46,
   "metadata": {},
   "outputs": [
    {
     "name": "stdout",
     "output_type": "stream",
     "text": [
      "Hay 12796 elementos.\n",
      "Hay 12 elementos únicos.\n",
      "El elemento mas frecuente es 1.0 y ocurre 5449 veces.\n",
      "Hay 62 elementos nulos.\n",
      "Hay 0 elementos vacíos.\n",
      "Hay 1004 elementos con ceros.\n"
     ]
    },
    {
     "data": {
      "text/plain": [
       "<AxesSubplot:xlabel='Car'>"
      ]
     },
     "execution_count": 46,
     "metadata": {},
     "output_type": "execute_result"
    },
    {
     "data": {
      "image/png": "[encoded data removed]",
      "text/plain": [
       "<Figure size 432x288 with 1 Axes>"
      ]
     },
     "metadata": {
      "needs_background": "light"
     },
     "output_type": "display_data"
    }
   ],
   "source": [
    "describe(melb_df,'Car')\n",
    "seaborn.boxplot(data=melb_df,x='Car')"
   ]
  },
  {
   "cell_type": "markdown",
   "metadata": {},
   "source": [
    "Pueden existir casas sin cocheras. Hay 1026 casas sin cocheras. 62 con datos nulos, se reemplazan con cero"
   ]
  },
  {
   "cell_type": "code",
   "execution_count": 47,
   "metadata": {},
   "outputs": [
    {
     "name": "stdout",
     "output_type": "stream",
     "text": [
      "Hay 12858 elementos.\n",
      "Hay 4 elementos únicos.\n",
      "El elemento mas frecuente es 1.0 y ocurre 5449 veces.\n",
      "Hay 0 elementos nulos.\n",
      "Hay 0 elementos vacíos.\n",
      "Hay 1066 elementos con ceros.\n"
     ]
    },
    {
     "data": {
      "text/plain": [
       "<AxesSubplot:xlabel='Car'>"
      ]
     },
     "execution_count": 47,
     "metadata": {},
     "output_type": "execute_result"
    },
    {
     "data": {
      "image/png": "[encoded data removed]",
      "text/plain": [
       "<Figure size 432x288 with 1 Axes>"
      ]
     },
     "metadata": {
      "needs_background": "light"
     },
     "output_type": "display_data"
    }
   ],
   "source": [
    "car1 = melb_df.copy()\n",
    "car1.loc[car1.Car > 3, 'Car'] = 3\n",
    "car1.fillna({'Car':0}, inplace=True)\n",
    "describe(car1,'Car')\n",
    "seaborn.boxplot(data=car1,x='Car')"
   ]
  },
  {
   "cell_type": "code",
   "execution_count": 48,
   "metadata": {},
   "outputs": [
    {
     "name": "stdout",
     "output_type": "stream",
     "text": [
      "Después de remover outlier con IQR mantenemos un porcentaje del 95.36 % sobre el dataset original\n",
      "Hay 12262 elementos.\n",
      "Hay 4 elementos únicos.\n",
      "El elemento mas frecuente es 1.0 y ocurre 5449 veces.\n",
      "Hay 0 elementos nulos.\n",
      "Hay 0 elementos vacíos.\n",
      "Hay 1004 elementos con ceros.\n"
     ]
    },
    {
     "data": {
      "text/plain": [
       "<AxesSubplot:xlabel='Car'>"
      ]
     },
     "execution_count": 48,
     "metadata": {},
     "output_type": "execute_result"
    },
    {
     "data": {
      "image/png": "[encoded data removed]",
      "text/plain": [
       "<Figure size 432x288 with 1 Axes>"
      ]
     },
     "metadata": {
      "needs_background": "light"
     },
     "output_type": "display_data"
    }
   ],
   "source": [
    "iqr_factor = 1.5\n",
    "car2 = melb_df.copy()\n",
    "car_main_inliers, car_main_outliers = remove_outlier(car2, \"Car\", iqr_factor)\n",
    "p = (len(car_main_inliers) / len(car2)) * 100\n",
    "print(f'Después de remover outlier con IQR mantenemos un porcentaje del {round(p,2)} % sobre el dataset original')\n",
    "describe(car_main_inliers,'Car')\n",
    "seaborn.boxplot(data=car_main_inliers, x='Car')"
   ]
  },
  {
   "cell_type": "markdown",
   "metadata": {},
   "source": [
    "Se obtienen mejores resultados al aplicar remoción de outliers"
   ]
  },
  {
   "cell_type": "code",
   "execution_count": 49,
   "metadata": {},
   "outputs": [],
   "source": [
    "melb_df = car1.copy()"
   ]
  },
  {
   "cell_type": "markdown",
   "metadata": {},
   "source": [
    "### Feature Landsize"
   ]
  },
  {
   "cell_type": "code",
   "execution_count": 50,
   "metadata": {},
   "outputs": [
    {
     "name": "stdout",
     "output_type": "stream",
     "text": [
      "Hay 12858 elementos.\n",
      "Hay 1413 elementos únicos.\n",
      "El elemento mas frecuente es 0.0 y ocurre 1928 veces.\n",
      "Hay 0 elementos nulos.\n",
      "Hay 0 elementos vacíos.\n",
      "Hay 1928 elementos con ceros.\n"
     ]
    },
    {
     "data": {
      "text/plain": [
       "<AxesSubplot:xlabel='Landsize'>"
      ]
     },
     "execution_count": 50,
     "metadata": {},
     "output_type": "execute_result"
    },
    {
     "data": {
      "image/png": "[encoded data removed]",
      "text/plain": [
       "<Figure size 432x288 with 1 Axes>"
      ]
     },
     "metadata": {
      "needs_background": "light"
     },
     "output_type": "display_data"
    }
   ],
   "source": [
    "describe(melb_df,'Landsize')\n",
    "seaborn.boxplot(data=melb_df,x='Landsize')"
   ]
  },
  {
   "cell_type": "markdown",
   "metadata": {},
   "source": [
    "La variable tienen muchos datos faltantes y no aportan informacion al análisis."
   ]
  },
  {
   "cell_type": "code",
   "execution_count": 51,
   "metadata": {},
   "outputs": [
    {
     "name": "stdout",
     "output_type": "stream",
     "text": [
      "Hay 7211 elementos.\n",
      "Hay 525 elementos únicos.\n",
      "El elemento mas frecuente es 585.0 y ocurre 46 veces.\n",
      "Hay 0 elementos nulos.\n",
      "Hay 0 elementos vacíos.\n",
      "Hay 0 elementos con ceros.\n"
     ]
    },
    {
     "data": {
      "text/plain": [
       "<AxesSubplot:xlabel='Landsize'>"
      ]
     },
     "execution_count": 51,
     "metadata": {},
     "output_type": "execute_result"
    },
    {
     "data": {
      "image/png": "[encoded data removed]",
      "text/plain": [
       "<Figure size 432x288 with 1 Axes>"
      ]
     },
     "metadata": {
      "needs_background": "light"
     },
     "output_type": "display_data"
    }
   ],
   "source": [
    "# Como concepto se realiza filtrado por valores menores al quatile .75 y mayores al quantile .25\n",
    "landsize1 = melb_df.copy()\n",
    "landsize1 = landsize1[landsize1['Landsize'] < numpy.quantile(landsize1['Landsize'], 0.75)]\n",
    "landsize1 = landsize1[landsize1['Landsize'] > numpy.quantile(landsize1['Landsize'], 0.25)]\n",
    "describe(landsize1,'Landsize')\n",
    "seaborn.boxplot(data=landsize1,x='Landsize')"
   ]
  },
  {
   "cell_type": "code",
   "execution_count": 52,
   "metadata": {},
   "outputs": [
    {
     "name": "stdout",
     "output_type": "stream",
     "text": [
      "Después de remover outlier con IQR mantenemos un porcentaje del 95.98 % sobre el dataset original\n",
      "Hay 9242 elementos.\n",
      "Hay 952 elementos únicos.\n",
      "El elemento mas frecuente es 650.0 y ocurre 94 veces.\n",
      "Hay 0 elementos nulos.\n",
      "Hay 0 elementos vacíos.\n",
      "Hay 0 elementos con ceros.\n"
     ]
    },
    {
     "data": {
      "text/plain": [
       "<AxesSubplot:xlabel='Landsize'>"
      ]
     },
     "execution_count": 52,
     "metadata": {},
     "output_type": "execute_result"
    },
    {
     "data": {
      "image/png": "[encoded data removed]",
      "text/plain": [
       "<Figure size 432x288 with 1 Axes>"
      ]
     },
     "metadata": {
      "needs_background": "light"
     },
     "output_type": "display_data"
    }
   ],
   "source": [
    "iqr_factor = 1.5\n",
    "landsize2 = melb_df.copy()\n",
    "landsize2 = landsize2[landsize2['Landsize'] > numpy.quantile(landsize2['Landsize'], 0.25)]\n",
    "landsize_main_inliers, landsize_main_outliers = remove_outlier(landsize2, \"Landsize\", iqr_factor)\n",
    "p = (len(landsize_main_inliers) / len(landsize2)) * 100\n",
    "print(f'Después de remover outlier con IQR mantenemos un porcentaje del {round(p,2)} % sobre el dataset original')\n",
    "describe(landsize_main_inliers,'Landsize')\n",
    "seaborn.boxplot(data=landsize_main_inliers, x='Landsize')"
   ]
  },
  {
   "cell_type": "code",
   "execution_count": 53,
   "metadata": {},
   "outputs": [],
   "source": [
    "melb_df = landsize_main_inliers.copy()"
   ]
  },
  {
   "cell_type": "markdown",
   "metadata": {},
   "source": [
    "### Feature BuildingArea"
   ]
  },
  {
   "cell_type": "code",
   "execution_count": 54,
   "metadata": {},
   "outputs": [
    {
     "name": "stdout",
     "output_type": "stream",
     "text": [
      "Hay 4738 elementos.\n",
      "Hay 496 elementos únicos.\n",
      "El elemento mas frecuente es 120.0 y ocurre 100 veces.\n",
      "Hay 4504 elementos nulos.\n",
      "Hay 0 elementos vacíos.\n",
      "Hay 11 elementos con ceros.\n"
     ]
    },
    {
     "data": {
      "text/plain": [
       "<AxesSubplot:xlabel='BuildingArea'>"
      ]
     },
     "execution_count": 54,
     "metadata": {},
     "output_type": "execute_result"
    },
    {
     "data": {
      "image/png": "[encoded data removed]",
      "text/plain": [
       "<Figure size 432x288 with 1 Axes>"
      ]
     },
     "metadata": {
      "needs_background": "light"
     },
     "output_type": "display_data"
    }
   ],
   "source": [
    "describe(melb_df,'BuildingArea')\n",
    "seaborn.boxplot(data=melb_df,x='BuildingArea')"
   ]
  },
  {
   "cell_type": "code",
   "execution_count": 55,
   "metadata": {},
   "outputs": [
    {
     "name": "stdout",
     "output_type": "stream",
     "text": [
      "Hay 4727 elementos.\n",
      "Hay 485 elementos únicos.\n",
      "El elemento mas frecuente es 120.0 y ocurre 100 veces.\n",
      "Hay 0 elementos nulos.\n",
      "Hay 0 elementos vacíos.\n",
      "Hay 11 elementos con ceros.\n"
     ]
    },
    {
     "data": {
      "text/plain": [
       "<AxesSubplot:xlabel='BuildingArea'>"
      ]
     },
     "execution_count": 55,
     "metadata": {},
     "output_type": "execute_result"
    },
    {
     "data": {
      "image/png": "[encoded data removed]",
      "text/plain": [
       "<Figure size 432x288 with 1 Axes>"
      ]
     },
     "metadata": {
      "needs_background": "light"
     },
     "output_type": "display_data"
    }
   ],
   "source": [
    "buildingArea = melb_df.copy()\n",
    "buildingArea = buildingArea[buildingArea.BuildingArea < 700]\n",
    "describe(buildingArea,'BuildingArea')\n",
    "seaborn.boxplot(data=buildingArea,x='BuildingArea')"
   ]
  },
  {
   "cell_type": "markdown",
   "metadata": {},
   "source": [
    "La variable tienen datos faltantes, datos con ceros y no aportan informacion al análisis."
   ]
  },
  {
   "cell_type": "markdown",
   "metadata": {},
   "source": [
    "### Feature YearBuilt"
   ]
  },
  {
   "cell_type": "code",
   "execution_count": 56,
   "metadata": {},
   "outputs": [
    {
     "name": "stdout",
     "output_type": "stream",
     "text": [
      "Hay 5360 elementos.\n",
      "Hay 136 elementos únicos.\n",
      "El elemento mas frecuente es 1960.0 y ocurre 506 veces.\n",
      "Hay 3882 elementos nulos.\n",
      "Hay 0 elementos vacíos.\n",
      "Hay 0 elementos con ceros.\n"
     ]
    },
    {
     "data": {
      "text/plain": [
       "<AxesSubplot:xlabel='YearBuilt'>"
      ]
     },
     "execution_count": 56,
     "metadata": {},
     "output_type": "execute_result"
    },
    {
     "data": {
      "image/png": "[encoded data removed]",
      "text/plain": [
       "<Figure size 432x288 with 1 Axes>"
      ]
     },
     "metadata": {
      "needs_background": "light"
     },
     "output_type": "display_data"
    }
   ],
   "source": [
    "describe(melb_df,'YearBuilt')\n",
    "seaborn.boxplot(data=melb_df,x='YearBuilt')"
   ]
  },
  {
   "cell_type": "code",
   "execution_count": 57,
   "metadata": {},
   "outputs": [
    {
     "name": "stdout",
     "output_type": "stream",
     "text": [
      "Hay 5360 elementos.\n",
      "Hay 115 elementos únicos.\n",
      "El elemento mas frecuente es 1960.0 y ocurre 506 veces.\n",
      "Hay 3882 elementos nulos.\n",
      "Hay 0 elementos vacíos.\n",
      "Hay 0 elementos con ceros.\n"
     ]
    },
    {
     "data": {
      "text/plain": [
       "<AxesSubplot:xlabel='YearBuilt'>"
      ]
     },
     "execution_count": 57,
     "metadata": {},
     "output_type": "execute_result"
    },
    {
     "data": {
      "image/png": "[encoded data removed]",
      "text/plain": [
       "<Figure size 432x288 with 1 Axes>"
      ]
     },
     "metadata": {
      "needs_background": "light"
     },
     "output_type": "display_data"
    }
   ],
   "source": [
    "yearBuilt = melb_df.copy()\n",
    "yearBuilt.loc[yearBuilt.YearBuilt < 1900, 'YearBuilt'] = 1900\n",
    "describe(yearBuilt,'YearBuilt')\n",
    "seaborn.boxplot(data=yearBuilt,x='YearBuilt')"
   ]
  },
  {
   "cell_type": "markdown",
   "metadata": {},
   "source": [
    "La variable tienen muchos datos faltantes y no aportan informacion al análisis."
   ]
  },
  {
   "cell_type": "markdown",
   "metadata": {},
   "source": [
    "### Feature CouncilArea"
   ]
  },
  {
   "cell_type": "code",
   "execution_count": 58,
   "metadata": {},
   "outputs": [
    {
     "name": "stdout",
     "output_type": "stream",
     "text": [
      "Hay 8093 elementos.\n",
      "Hay 34 elementos únicos.\n",
      "El elemento mas frecuente es nan y ocurre 1149 veces.\n",
      "Hay 1149 elementos nulos.\n",
      "Hay 0 elementos vacíos.\n",
      "Hay 0 elementos con ceros.\n"
     ]
    }
   ],
   "source": [
    "describe(melb_df,'CouncilArea')"
   ]
  },
  {
   "cell_type": "markdown",
   "metadata": {},
   "source": [
    "Completo los valores nan de CouncilArea con los valores de Postcode"
   ]
  },
  {
   "cell_type": "code",
   "execution_count": 59,
   "metadata": {},
   "outputs": [],
   "source": [
    "def searchCouncilArea(df,postCode):\n",
    "    result = df[df.Postcode == postCode]\n",
    "    return result.iloc[0].CouncilArea"
   ]
  },
  {
   "cell_type": "code",
   "execution_count": 60,
   "metadata": {},
   "outputs": [],
   "source": [
    "councilArea = melb_df.copy()\n",
    "for index, row in melb_df.iterrows():\n",
    "    searched = searchCouncilArea(melb_df,row[\"Postcode\"])\n",
    "    councilArea.loc[index,'CouncilArea'] = searched"
   ]
  },
  {
   "cell_type": "code",
   "execution_count": 61,
   "metadata": {},
   "outputs": [],
   "source": [
    "melb_df = councilArea.copy()"
   ]
  },
  {
   "cell_type": "code",
   "execution_count": 62,
   "metadata": {},
   "outputs": [
    {
     "name": "stdout",
     "output_type": "stream",
     "text": [
      "Hay 9239 elementos.\n",
      "Hay 33 elementos únicos.\n",
      "El elemento mas frecuente es Moreland y ocurre 940 veces.\n",
      "Hay 3 elementos nulos.\n",
      "Hay 0 elementos vacíos.\n",
      "Hay 0 elementos con ceros.\n"
     ]
    }
   ],
   "source": [
    "describe(melb_df,'CouncilArea')"
   ]
  },
  {
   "cell_type": "markdown",
   "metadata": {},
   "source": [
    "La cantidad de valores nan disminuyó considreablemnte. Se eliminan los valores nulos restantes que no tienen coincidencia de Postcode"
   ]
  },
  {
   "cell_type": "code",
   "execution_count": 63,
   "metadata": {},
   "outputs": [
    {
     "data": {
      "text/html": [
       "<div>\n",
       "<style scoped>\n",
       "    .dataframe tbody tr th:only-of-type {\n",
       "        vertical-align: middle;\n",
       "    }\n",
       "\n",
       "    .dataframe tbody tr th {\n",
       "        vertical-align: top;\n",
       "    }\n",
       "\n",
       "    .dataframe thead th {\n",
       "        text-align: right;\n",
       "    }\n",
       "</style>\n",
       "<table border=\"1\" class=\"dataframe\">\n",
       "  <thead>\n",
       "    <tr style=\"text-align: right;\">\n",
       "      <th></th>\n",
       "      <th>Suburb</th>\n",
       "      <th>Address</th>\n",
       "      <th>Rooms</th>\n",
       "      <th>Type</th>\n",
       "      <th>Price</th>\n",
       "      <th>Method</th>\n",
       "      <th>SellerG</th>\n",
       "      <th>Date</th>\n",
       "      <th>Distance</th>\n",
       "      <th>Postcode</th>\n",
       "      <th>Bathroom</th>\n",
       "      <th>Car</th>\n",
       "      <th>Landsize</th>\n",
       "      <th>BuildingArea</th>\n",
       "      <th>YearBuilt</th>\n",
       "      <th>CouncilArea</th>\n",
       "      <th>Lattitude</th>\n",
       "      <th>Longtitude</th>\n",
       "      <th>Regionname</th>\n",
       "      <th>Propertycount</th>\n",
       "    </tr>\n",
       "  </thead>\n",
       "  <tbody>\n",
       "    <tr>\n",
       "      <th>12531</th>\n",
       "      <td>Hurstbridge</td>\n",
       "      <td>3 Milton Wy</td>\n",
       "      <td>3</td>\n",
       "      <td>h</td>\n",
       "      <td>600000.0</td>\n",
       "      <td>S</td>\n",
       "      <td>Mason</td>\n",
       "      <td>9/09/2017</td>\n",
       "      <td>3.0</td>\n",
       "      <td>3099.0</td>\n",
       "      <td>2.0</td>\n",
       "      <td>0.0</td>\n",
       "      <td>785.0</td>\n",
       "      <td>NaN</td>\n",
       "      <td>NaN</td>\n",
       "      <td>NaN</td>\n",
       "      <td>-37.63700</td>\n",
       "      <td>145.20166</td>\n",
       "      <td>Northern Victoria</td>\n",
       "      <td>1345.0</td>\n",
       "    </tr>\n",
       "    <tr>\n",
       "      <th>12865</th>\n",
       "      <td>Wallan</td>\n",
       "      <td>14 Danaher Av</td>\n",
       "      <td>3</td>\n",
       "      <td>h</td>\n",
       "      <td>366000.0</td>\n",
       "      <td>S</td>\n",
       "      <td>Ray</td>\n",
       "      <td>16/09/2017</td>\n",
       "      <td>3.0</td>\n",
       "      <td>3756.0</td>\n",
       "      <td>1.0</td>\n",
       "      <td>1.0</td>\n",
       "      <td>502.0</td>\n",
       "      <td>77.0</td>\n",
       "      <td>1978.0</td>\n",
       "      <td>NaN</td>\n",
       "      <td>-37.40853</td>\n",
       "      <td>144.97749</td>\n",
       "      <td>Northern Victoria</td>\n",
       "      <td>3988.0</td>\n",
       "    </tr>\n",
       "    <tr>\n",
       "      <th>13030</th>\n",
       "      <td>Mount Evelyn</td>\n",
       "      <td>4 Longview Rd</td>\n",
       "      <td>3</td>\n",
       "      <td>h</td>\n",
       "      <td>515000.0</td>\n",
       "      <td>S</td>\n",
       "      <td>Ray</td>\n",
       "      <td>19/08/2017</td>\n",
       "      <td>3.0</td>\n",
       "      <td>3796.0</td>\n",
       "      <td>1.0</td>\n",
       "      <td>0.0</td>\n",
       "      <td>915.0</td>\n",
       "      <td>101.0</td>\n",
       "      <td>1970.0</td>\n",
       "      <td>NaN</td>\n",
       "      <td>-37.78495</td>\n",
       "      <td>145.39190</td>\n",
       "      <td>Eastern Victoria</td>\n",
       "      <td>3532.0</td>\n",
       "    </tr>\n",
       "  </tbody>\n",
       "</table>\n",
       "</div>"
      ],
      "text/plain": [
       "             Suburb        Address  Rooms Type     Price Method SellerG  \\\n",
       "12531   Hurstbridge    3 Milton Wy      3    h  600000.0      S   Mason   \n",
       "12865        Wallan  14 Danaher Av      3    h  366000.0      S     Ray   \n",
       "13030  Mount Evelyn  4 Longview Rd      3    h  515000.0      S     Ray   \n",
       "\n",
       "             Date  Distance  Postcode  Bathroom  Car  Landsize  BuildingArea  \\\n",
       "12531   9/09/2017       3.0    3099.0       2.0  0.0     785.0           NaN   \n",
       "12865  16/09/2017       3.0    3756.0       1.0  1.0     502.0          77.0   \n",
       "13030  19/08/2017       3.0    3796.0       1.0  0.0     915.0         101.0   \n",
       "\n",
       "       YearBuilt CouncilArea  Lattitude  Longtitude         Regionname  \\\n",
       "12531        NaN         NaN  -37.63700   145.20166  Northern Victoria   \n",
       "12865     1978.0         NaN  -37.40853   144.97749  Northern Victoria   \n",
       "13030     1970.0         NaN  -37.78495   145.39190   Eastern Victoria   \n",
       "\n",
       "       Propertycount  \n",
       "12531         1345.0  \n",
       "12865         3988.0  \n",
       "13030         3532.0  "
      ]
     },
     "execution_count": 63,
     "metadata": {},
     "output_type": "execute_result"
    }
   ],
   "source": [
    "melb_df[melb_df['CouncilArea'].isna()]"
   ]
  },
  {
   "cell_type": "markdown",
   "metadata": {},
   "source": [
    "### Feature Latitude"
   ]
  },
  {
   "cell_type": "code",
   "execution_count": 64,
   "metadata": {},
   "outputs": [
    {
     "name": "stdout",
     "output_type": "stream",
     "text": [
      "Hay 9242 elementos.\n",
      "Hay 5389 elementos únicos.\n",
      "El elemento mas frecuente es -37.7609 y ocurre 11 veces.\n",
      "Hay 0 elementos nulos.\n",
      "Hay 0 elementos vacíos.\n",
      "Hay 0 elementos con ceros.\n"
     ]
    }
   ],
   "source": [
    "describe(melb_df,'Lattitude')"
   ]
  },
  {
   "cell_type": "markdown",
   "metadata": {},
   "source": [
    "### Feature Longitude"
   ]
  },
  {
   "cell_type": "code",
   "execution_count": 65,
   "metadata": {},
   "outputs": [
    {
     "name": "stdout",
     "output_type": "stream",
     "text": [
      "Hay 9242 elementos.\n",
      "Hay 5836 elementos únicos.\n",
      "El elemento mas frecuente es 145.0243 y ocurre 9 veces.\n",
      "Hay 0 elementos nulos.\n",
      "Hay 0 elementos vacíos.\n",
      "Hay 0 elementos con ceros.\n"
     ]
    }
   ],
   "source": [
    "describe(melb_df,'Longtitude')"
   ]
  },
  {
   "cell_type": "markdown",
   "metadata": {},
   "source": [
    "### Feature Region Name"
   ]
  },
  {
   "cell_type": "code",
   "execution_count": 66,
   "metadata": {},
   "outputs": [
    {
     "name": "stdout",
     "output_type": "stream",
     "text": [
      "Hay 9242 elementos.\n",
      "Hay 8 elementos únicos.\n",
      "El elemento mas frecuente es Southern Metropolitan y ocurre 2775 veces.\n",
      "Hay 0 elementos nulos.\n",
      "Hay 0 elementos vacíos.\n",
      "Hay 0 elementos con ceros.\n"
     ]
    },
    {
     "data": {
      "image/png": "[encoded data removed]",
      "text/plain": [
       "<Figure size 432x288 with 1 Axes>"
      ]
     },
     "metadata": {
      "needs_background": "light"
     },
     "output_type": "display_data"
    }
   ],
   "source": [
    "describe(melb_df,'Regionname')\n",
    "seaborn.histplot(data=melb_df,x='Regionname')\n",
    "plot.xticks(rotation=90)\n",
    "plot.show()"
   ]
  },
  {
   "cell_type": "markdown",
   "metadata": {},
   "source": [
    "### Feature Propertycount"
   ]
  },
  {
   "cell_type": "code",
   "execution_count": 67,
   "metadata": {},
   "outputs": [
    {
     "name": "stdout",
     "output_type": "stream",
     "text": [
      "Hay 9242 elementos.\n",
      "Hay 303 elementos únicos.\n",
      "El elemento mas frecuente es 21650.0 y ocurre 262 veces.\n",
      "Hay 0 elementos nulos.\n",
      "Hay 0 elementos vacíos.\n",
      "Hay 0 elementos con ceros.\n"
     ]
    }
   ],
   "source": [
    "describe(melb_df,'Propertycount')"
   ]
  },
  {
   "cell_type": "markdown",
   "metadata": {},
   "source": [
    "### Análisis valores faltantes"
   ]
  },
  {
   "cell_type": "code",
   "execution_count": 68,
   "metadata": {},
   "outputs": [
    {
     "data": {
      "text/plain": [
       "<AxesSubplot:>"
      ]
     },
     "execution_count": 68,
     "metadata": {},
     "output_type": "execute_result"
    },
    {
     "data": {
      "image/png": "[encoded data removed]",
      "text/plain": [
       "<Figure size 864x432 with 3 Axes>"
      ]
     },
     "metadata": {
      "needs_background": "light"
     },
     "output_type": "display_data"
    }
   ],
   "source": [
    "msno.bar(melb_df,figsize=(12, 6), fontsize=12, color='steelblue')"
   ]
  },
  {
   "cell_type": "code",
   "execution_count": 69,
   "metadata": {},
   "outputs": [
    {
     "data": {
      "text/plain": [
       "<AxesSubplot:>"
      ]
     },
     "execution_count": 69,
     "metadata": {},
     "output_type": "execute_result"
    },
    {
     "data": {
      "image/png": "[encoded data removed]",
      "text/plain": [
       "<Figure size 864x432 with 2 Axes>"
      ]
     },
     "metadata": {
      "needs_background": "light"
     },
     "output_type": "display_data"
    }
   ],
   "source": [
    "msno.matrix(melb_df,figsize=(12, 6), fontsize=12, color=[0,0,0.2])"
   ]
  },
  {
   "cell_type": "code",
   "execution_count": 70,
   "metadata": {},
   "outputs": [
    {
     "data": {
      "text/html": [
       "<div>\n",
       "<style scoped>\n",
       "    .dataframe tbody tr th:only-of-type {\n",
       "        vertical-align: middle;\n",
       "    }\n",
       "\n",
       "    .dataframe tbody tr th {\n",
       "        vertical-align: top;\n",
       "    }\n",
       "\n",
       "    .dataframe thead th {\n",
       "        text-align: right;\n",
       "    }\n",
       "</style>\n",
       "<table border=\"1\" class=\"dataframe\">\n",
       "  <thead>\n",
       "    <tr style=\"text-align: right;\">\n",
       "      <th></th>\n",
       "      <th>Rooms</th>\n",
       "      <th>Price</th>\n",
       "      <th>Distance</th>\n",
       "      <th>Postcode</th>\n",
       "      <th>Bathroom</th>\n",
       "      <th>Car</th>\n",
       "      <th>Landsize</th>\n",
       "      <th>BuildingArea</th>\n",
       "      <th>YearBuilt</th>\n",
       "      <th>Lattitude</th>\n",
       "      <th>Longtitude</th>\n",
       "      <th>Propertycount</th>\n",
       "    </tr>\n",
       "  </thead>\n",
       "  <tbody>\n",
       "    <tr>\n",
       "      <th>count</th>\n",
       "      <td>9242.00</td>\n",
       "      <td>9242.00</td>\n",
       "      <td>9242.00</td>\n",
       "      <td>9242.00</td>\n",
       "      <td>9242.00</td>\n",
       "      <td>9242.00</td>\n",
       "      <td>9242.00</td>\n",
       "      <td>4738.00</td>\n",
       "      <td>5360.00</td>\n",
       "      <td>9242.00</td>\n",
       "      <td>9242.00</td>\n",
       "      <td>9242.00</td>\n",
       "    </tr>\n",
       "    <tr>\n",
       "      <th>mean</th>\n",
       "      <td>3.09</td>\n",
       "      <td>1141443.37</td>\n",
       "      <td>2.46</td>\n",
       "      <td>3104.04</td>\n",
       "      <td>1.54</td>\n",
       "      <td>1.67</td>\n",
       "      <td>518.47</td>\n",
       "      <td>155.65</td>\n",
       "      <td>1960.81</td>\n",
       "      <td>-37.81</td>\n",
       "      <td>145.00</td>\n",
       "      <td>7279.17</td>\n",
       "    </tr>\n",
       "    <tr>\n",
       "      <th>std</th>\n",
       "      <td>0.69</td>\n",
       "      <td>599845.56</td>\n",
       "      <td>0.75</td>\n",
       "      <td>96.91</td>\n",
       "      <td>0.63</td>\n",
       "      <td>0.78</td>\n",
       "      <td>218.65</td>\n",
       "      <td>123.42</td>\n",
       "      <td>37.03</td>\n",
       "      <td>0.09</td>\n",
       "      <td>0.11</td>\n",
       "      <td>4382.74</td>\n",
       "    </tr>\n",
       "    <tr>\n",
       "      <th>min</th>\n",
       "      <td>1.00</td>\n",
       "      <td>131000.00</td>\n",
       "      <td>1.00</td>\n",
       "      <td>3000.00</td>\n",
       "      <td>0.00</td>\n",
       "      <td>0.00</td>\n",
       "      <td>167.00</td>\n",
       "      <td>0.00</td>\n",
       "      <td>1196.00</td>\n",
       "      <td>-38.17</td>\n",
       "      <td>144.43</td>\n",
       "      <td>389.00</td>\n",
       "    </tr>\n",
       "    <tr>\n",
       "      <th>25%</th>\n",
       "      <td>3.00</td>\n",
       "      <td>730000.00</td>\n",
       "      <td>2.00</td>\n",
       "      <td>3042.00</td>\n",
       "      <td>1.00</td>\n",
       "      <td>1.00</td>\n",
       "      <td>320.00</td>\n",
       "      <td>110.00</td>\n",
       "      <td>1936.75</td>\n",
       "      <td>-37.86</td>\n",
       "      <td>144.92</td>\n",
       "      <td>3891.00</td>\n",
       "    </tr>\n",
       "    <tr>\n",
       "      <th>50%</th>\n",
       "      <td>3.00</td>\n",
       "      <td>985000.00</td>\n",
       "      <td>3.00</td>\n",
       "      <td>3081.00</td>\n",
       "      <td>1.00</td>\n",
       "      <td>2.00</td>\n",
       "      <td>542.00</td>\n",
       "      <td>138.00</td>\n",
       "      <td>1960.00</td>\n",
       "      <td>-37.79</td>\n",
       "      <td>145.01</td>\n",
       "      <td>6388.00</td>\n",
       "    </tr>\n",
       "    <tr>\n",
       "      <th>75%</th>\n",
       "      <td>4.00</td>\n",
       "      <td>1400000.00</td>\n",
       "      <td>3.00</td>\n",
       "      <td>3147.00</td>\n",
       "      <td>2.00</td>\n",
       "      <td>2.00</td>\n",
       "      <td>666.00</td>\n",
       "      <td>180.00</td>\n",
       "      <td>1991.00</td>\n",
       "      <td>-37.74</td>\n",
       "      <td>145.07</td>\n",
       "      <td>9758.00</td>\n",
       "    </tr>\n",
       "    <tr>\n",
       "      <th>max</th>\n",
       "      <td>4.00</td>\n",
       "      <td>9000000.00</td>\n",
       "      <td>3.00</td>\n",
       "      <td>3977.00</td>\n",
       "      <td>5.00</td>\n",
       "      <td>3.00</td>\n",
       "      <td>1228.00</td>\n",
       "      <td>6791.00</td>\n",
       "      <td>2018.00</td>\n",
       "      <td>-37.41</td>\n",
       "      <td>145.53</td>\n",
       "      <td>21650.00</td>\n",
       "    </tr>\n",
       "  </tbody>\n",
       "</table>\n",
       "</div>"
      ],
      "text/plain": [
       "         Rooms       Price  Distance  Postcode  Bathroom      Car  Landsize  \\\n",
       "count  9242.00     9242.00   9242.00   9242.00   9242.00  9242.00   9242.00   \n",
       "mean      3.09  1141443.37      2.46   3104.04      1.54     1.67    518.47   \n",
       "std       0.69   599845.56      0.75     96.91      0.63     0.78    218.65   \n",
       "min       1.00   131000.00      1.00   3000.00      0.00     0.00    167.00   \n",
       "25%       3.00   730000.00      2.00   3042.00      1.00     1.00    320.00   \n",
       "50%       3.00   985000.00      3.00   3081.00      1.00     2.00    542.00   \n",
       "75%       4.00  1400000.00      3.00   3147.00      2.00     2.00    666.00   \n",
       "max       4.00  9000000.00      3.00   3977.00      5.00     3.00   1228.00   \n",
       "\n",
       "       BuildingArea  YearBuilt  Lattitude  Longtitude  Propertycount  \n",
       "count       4738.00    5360.00    9242.00     9242.00        9242.00  \n",
       "mean         155.65    1960.81     -37.81      145.00        7279.17  \n",
       "std          123.42      37.03       0.09        0.11        4382.74  \n",
       "min            0.00    1196.00     -38.17      144.43         389.00  \n",
       "25%          110.00    1936.75     -37.86      144.92        3891.00  \n",
       "50%          138.00    1960.00     -37.79      145.01        6388.00  \n",
       "75%          180.00    1991.00     -37.74      145.07        9758.00  \n",
       "max         6791.00    2018.00     -37.41      145.53       21650.00  "
      ]
     },
     "execution_count": 70,
     "metadata": {},
     "output_type": "execute_result"
    }
   ],
   "source": [
    "melb_df.describe().round(2)"
   ]
  },
  {
   "cell_type": "markdown",
   "metadata": {},
   "source": [
    "Podemos observar que las cantidad de las variables BuildingArea y YearBuilt tienen menos informacion que el resto."
   ]
  },
  {
   "cell_type": "code",
   "execution_count": 71,
   "metadata": {},
   "outputs": [
    {
     "data": {
      "text/plain": [
       "BuildingArea    4504\n",
       "YearBuilt       3882\n",
       "CouncilArea        3\n",
       "dtype: int64"
      ]
     },
     "execution_count": 71,
     "metadata": {},
     "output_type": "execute_result"
    }
   ],
   "source": [
    "missing_values_count = melb_df.isna().sum()\n",
    "missing_values_count[missing_values_count > 0]"
   ]
  },
  {
   "cell_type": "markdown",
   "metadata": {},
   "source": [
    "Debido a que las variables tienen muchos datos faltantes se decide retirarlas del df ya que no aportan informacion al análisis"
   ]
  },
  {
   "cell_type": "code",
   "execution_count": 72,
   "metadata": {},
   "outputs": [
    {
     "data": {
      "text/html": [
       "<div>\n",
       "<style scoped>\n",
       "    .dataframe tbody tr th:only-of-type {\n",
       "        vertical-align: middle;\n",
       "    }\n",
       "\n",
       "    .dataframe tbody tr th {\n",
       "        vertical-align: top;\n",
       "    }\n",
       "\n",
       "    .dataframe thead th {\n",
       "        text-align: right;\n",
       "    }\n",
       "</style>\n",
       "<table border=\"1\" class=\"dataframe\">\n",
       "  <thead>\n",
       "    <tr style=\"text-align: right;\">\n",
       "      <th></th>\n",
       "      <th>Rooms</th>\n",
       "      <th>Price</th>\n",
       "      <th>Distance</th>\n",
       "      <th>Postcode</th>\n",
       "      <th>Bathroom</th>\n",
       "      <th>Car</th>\n",
       "      <th>Landsize</th>\n",
       "      <th>Lattitude</th>\n",
       "      <th>Longtitude</th>\n",
       "      <th>Propertycount</th>\n",
       "    </tr>\n",
       "  </thead>\n",
       "  <tbody>\n",
       "    <tr>\n",
       "      <th>count</th>\n",
       "      <td>9242.000000</td>\n",
       "      <td>9.242000e+03</td>\n",
       "      <td>9242.000000</td>\n",
       "      <td>9242.000000</td>\n",
       "      <td>9242.000000</td>\n",
       "      <td>9242.000000</td>\n",
       "      <td>9242.000000</td>\n",
       "      <td>9242.000000</td>\n",
       "      <td>9242.000000</td>\n",
       "      <td>9242.000000</td>\n",
       "    </tr>\n",
       "    <tr>\n",
       "      <th>mean</th>\n",
       "      <td>3.089699</td>\n",
       "      <td>1.141443e+06</td>\n",
       "      <td>2.463861</td>\n",
       "      <td>3104.039061</td>\n",
       "      <td>1.540792</td>\n",
       "      <td>1.668578</td>\n",
       "      <td>518.467864</td>\n",
       "      <td>-37.805732</td>\n",
       "      <td>144.995944</td>\n",
       "      <td>7279.173772</td>\n",
       "    </tr>\n",
       "    <tr>\n",
       "      <th>std</th>\n",
       "      <td>0.688823</td>\n",
       "      <td>5.998456e+05</td>\n",
       "      <td>0.748582</td>\n",
       "      <td>96.912810</td>\n",
       "      <td>0.634226</td>\n",
       "      <td>0.776219</td>\n",
       "      <td>218.649564</td>\n",
       "      <td>0.085761</td>\n",
       "      <td>0.114066</td>\n",
       "      <td>4382.738183</td>\n",
       "    </tr>\n",
       "    <tr>\n",
       "      <th>min</th>\n",
       "      <td>1.000000</td>\n",
       "      <td>1.310000e+05</td>\n",
       "      <td>1.000000</td>\n",
       "      <td>3000.000000</td>\n",
       "      <td>0.000000</td>\n",
       "      <td>0.000000</td>\n",
       "      <td>167.000000</td>\n",
       "      <td>-38.168020</td>\n",
       "      <td>144.431810</td>\n",
       "      <td>389.000000</td>\n",
       "    </tr>\n",
       "    <tr>\n",
       "      <th>25%</th>\n",
       "      <td>3.000000</td>\n",
       "      <td>7.300000e+05</td>\n",
       "      <td>2.000000</td>\n",
       "      <td>3042.000000</td>\n",
       "      <td>1.000000</td>\n",
       "      <td>1.000000</td>\n",
       "      <td>320.000000</td>\n",
       "      <td>-37.860640</td>\n",
       "      <td>144.916500</td>\n",
       "      <td>3891.000000</td>\n",
       "    </tr>\n",
       "    <tr>\n",
       "      <th>50%</th>\n",
       "      <td>3.000000</td>\n",
       "      <td>9.850000e+05</td>\n",
       "      <td>3.000000</td>\n",
       "      <td>3081.000000</td>\n",
       "      <td>1.000000</td>\n",
       "      <td>2.000000</td>\n",
       "      <td>542.000000</td>\n",
       "      <td>-37.793585</td>\n",
       "      <td>145.007000</td>\n",
       "      <td>6388.000000</td>\n",
       "    </tr>\n",
       "    <tr>\n",
       "      <th>75%</th>\n",
       "      <td>4.000000</td>\n",
       "      <td>1.400000e+06</td>\n",
       "      <td>3.000000</td>\n",
       "      <td>3147.000000</td>\n",
       "      <td>2.000000</td>\n",
       "      <td>2.000000</td>\n",
       "      <td>666.000000</td>\n",
       "      <td>-37.744912</td>\n",
       "      <td>145.069675</td>\n",
       "      <td>9758.000000</td>\n",
       "    </tr>\n",
       "    <tr>\n",
       "      <th>max</th>\n",
       "      <td>4.000000</td>\n",
       "      <td>9.000000e+06</td>\n",
       "      <td>3.000000</td>\n",
       "      <td>3977.000000</td>\n",
       "      <td>5.000000</td>\n",
       "      <td>3.000000</td>\n",
       "      <td>1228.000000</td>\n",
       "      <td>-37.408530</td>\n",
       "      <td>145.526350</td>\n",
       "      <td>21650.000000</td>\n",
       "    </tr>\n",
       "  </tbody>\n",
       "</table>\n",
       "</div>"
      ],
      "text/plain": [
       "             Rooms         Price     Distance     Postcode     Bathroom  \\\n",
       "count  9242.000000  9.242000e+03  9242.000000  9242.000000  9242.000000   \n",
       "mean      3.089699  1.141443e+06     2.463861  3104.039061     1.540792   \n",
       "std       0.688823  5.998456e+05     0.748582    96.912810     0.634226   \n",
       "min       1.000000  1.310000e+05     1.000000  3000.000000     0.000000   \n",
       "25%       3.000000  7.300000e+05     2.000000  3042.000000     1.000000   \n",
       "50%       3.000000  9.850000e+05     3.000000  3081.000000     1.000000   \n",
       "75%       4.000000  1.400000e+06     3.000000  3147.000000     2.000000   \n",
       "max       4.000000  9.000000e+06     3.000000  3977.000000     5.000000   \n",
       "\n",
       "               Car     Landsize    Lattitude   Longtitude  Propertycount  \n",
       "count  9242.000000  9242.000000  9242.000000  9242.000000    9242.000000  \n",
       "mean      1.668578   518.467864   -37.805732   144.995944    7279.173772  \n",
       "std       0.776219   218.649564     0.085761     0.114066    4382.738183  \n",
       "min       0.000000   167.000000   -38.168020   144.431810     389.000000  \n",
       "25%       1.000000   320.000000   -37.860640   144.916500    3891.000000  \n",
       "50%       2.000000   542.000000   -37.793585   145.007000    6388.000000  \n",
       "75%       2.000000   666.000000   -37.744912   145.069675    9758.000000  \n",
       "max       3.000000  1228.000000   -37.408530   145.526350   21650.000000  "
      ]
     },
     "execution_count": 72,
     "metadata": {},
     "output_type": "execute_result"
    }
   ],
   "source": [
    "melb_df = melb_df.drop(['BuildingArea'], axis=1)\n",
    "melb_df = melb_df.drop(['YearBuilt'], axis=1)\n",
    "melb_df.describe()"
   ]
  },
  {
   "cell_type": "markdown",
   "metadata": {},
   "source": [
    "### Gráfico de probabilidad\n",
    "Cuanto más se parezca nuestra gráfica a una línea de 45 grados, más normal será utilizando el metodo qqplot."
   ]
  },
  {
   "cell_type": "code",
   "execution_count": 73,
   "metadata": {},
   "outputs": [
    {
     "data": {
      "image/png": "[encoded data removed]",
      "text/plain": [
       "<Figure size 432x288 with 1 Axes>"
      ]
     },
     "metadata": {
      "needs_background": "light"
     },
     "output_type": "display_data"
    },
    {
     "data": {
      "image/png": "[encoded data removed]",
      "text/plain": [
       "<Figure size 432x288 with 1 Axes>"
      ]
     },
     "metadata": {
      "needs_background": "light"
     },
     "output_type": "display_data"
    },
    {
     "data": {
      "image/png": "[encoded data removed]",
      "text/plain": [
       "<Figure size 432x288 with 1 Axes>"
      ]
     },
     "metadata": {
      "needs_background": "light"
     },
     "output_type": "display_data"
    },
    {
     "data": {
      "image/png": "[encoded data removed]",
      "text/plain": [
       "<Figure size 432x288 with 1 Axes>"
      ]
     },
     "metadata": {
      "needs_background": "light"
     },
     "output_type": "display_data"
    },
    {
     "data": {
      "image/png": "[encoded data removed]",
      "text/plain": [
       "<Figure size 432x288 with 1 Axes>"
      ]
     },
     "metadata": {
      "needs_background": "light"
     },
     "output_type": "display_data"
    },
    {
     "data": {
      "image/png": "[encoded data removed]",
      "text/plain": [
       "<Figure size 432x288 with 1 Axes>"
      ]
     },
     "metadata": {
      "needs_background": "light"
     },
     "output_type": "display_data"
    },
    {
     "data": {
      "image/png": "[encoded data removed]",
      "text/plain": [
       "<Figure size 432x288 with 1 Axes>"
      ]
     },
     "metadata": {
      "needs_background": "light"
     },
     "output_type": "display_data"
    },
    {
     "data": {
      "image/png": "[encoded data removed]",
      "text/plain": [
       "<Figure size 432x288 with 1 Axes>"
      ]
     },
     "metadata": {
      "needs_background": "light"
     },
     "output_type": "display_data"
    },
    {
     "data": {
      "image/png": "[encoded data removed]",
      "text/plain": [
       "<Figure size 432x288 with 1 Axes>"
      ]
     },
     "metadata": {
      "needs_background": "light"
     },
     "output_type": "display_data"
    },
    {
     "data": {
      "image/png": "[encoded data removed]",
      "text/plain": [
       "<Figure size 432x288 with 1 Axes>"
      ]
     },
     "metadata": {
      "needs_background": "light"
     },
     "output_type": "display_data"
    }
   ],
   "source": [
    "def normalidad_variable_numerica(col):\n",
    "    stats.probplot(melb_df[col], plot=plot)\n",
    "    plot.xlabel('Diagrama de Probabilidad(normal) de la variable {}'.format(col))\n",
    "    plot.show()\n",
    "    \n",
    "#cols = melb_df[['Price','Rooms','Distance','Postcode','Bathroom','Car','Landsize']].columns\n",
    "cols = melb_df.select_dtypes(['int', 'float']).columns\n",
    "\n",
    "for col in cols:\n",
    "    normalidad_variable_numerica(col)"
   ]
  },
  {
   "cell_type": "markdown",
   "metadata": {},
   "source": [
    "### Histogramas\n",
    "Podemos crear un histograma para ver la distribución de las variables."
   ]
  },
  {
   "cell_type": "code",
   "execution_count": 74,
   "metadata": {},
   "outputs": [
    {
     "data": {
      "text/plain": [
       "Index(['Suburb', 'Address', 'Rooms', 'Type', 'Price', 'Method', 'SellerG',\n",
       "       'Date', 'Distance', 'Postcode', 'Bathroom', 'Car', 'Landsize',\n",
       "       'CouncilArea', 'Lattitude', 'Longtitude', 'Regionname',\n",
       "       'Propertycount'],\n",
       "      dtype='object')"
      ]
     },
     "execution_count": 74,
     "metadata": {},
     "output_type": "execute_result"
    }
   ],
   "source": [
    "melb_df.columns"
   ]
  },
  {
   "cell_type": "code",
   "execution_count": 75,
   "metadata": {},
   "outputs": [
    {
     "data": {
      "image/png": "[encoded data removed]",
      "text/plain": [
       "<Figure size 720x2520 with 10 Axes>"
      ]
     },
     "metadata": {
      "needs_background": "light"
     },
     "output_type": "display_data"
    }
   ],
   "source": [
    "fig, axs = plot.subplots(len(cols), figsize=(10, 35))\n",
    "for n, col in enumerate(cols):\n",
    "    melb_df[col].hist(ax=axs[n],bins=50, label=col)\n",
    "    axs[n].legend()"
   ]
  },
  {
   "cell_type": "markdown",
   "metadata": {},
   "source": [
    "Con estos graficos podemos determinar que las variables price, distance, latitude y longitud tienden a una distribucion aproximadamente normal."
   ]
  },
  {
   "cell_type": "code",
   "execution_count": 76,
   "metadata": {},
   "outputs": [
    {
     "data": {
      "text/plain": [
       "Index(['Suburb', 'Address', 'Rooms', 'Type', 'Price', 'Method', 'SellerG',\n",
       "       'Date', 'Distance', 'Postcode', 'Bathroom', 'Car', 'Landsize',\n",
       "       'CouncilArea', 'Lattitude', 'Longtitude', 'Regionname',\n",
       "       'Propertycount'],\n",
       "      dtype='object')"
      ]
     },
     "execution_count": 76,
     "metadata": {},
     "output_type": "execute_result"
    }
   ],
   "source": [
    "melb_df.columns"
   ]
  },
  {
   "cell_type": "code",
   "execution_count": 77,
   "metadata": {},
   "outputs": [
    {
     "data": {
      "text/html": [
       "<div>\n",
       "<style scoped>\n",
       "    .dataframe tbody tr th:only-of-type {\n",
       "        vertical-align: middle;\n",
       "    }\n",
       "\n",
       "    .dataframe tbody tr th {\n",
       "        vertical-align: top;\n",
       "    }\n",
       "\n",
       "    .dataframe thead th {\n",
       "        text-align: right;\n",
       "    }\n",
       "</style>\n",
       "<table border=\"1\" class=\"dataframe\">\n",
       "  <thead>\n",
       "    <tr style=\"text-align: right;\">\n",
       "      <th></th>\n",
       "      <th>Suburb</th>\n",
       "      <th>Rooms</th>\n",
       "      <th>Type</th>\n",
       "      <th>Price</th>\n",
       "      <th>Postcode</th>\n",
       "      <th>Distance</th>\n",
       "      <th>Bathroom</th>\n",
       "      <th>Car</th>\n",
       "      <th>Landsize</th>\n",
       "      <th>CouncilArea</th>\n",
       "    </tr>\n",
       "  </thead>\n",
       "  <tbody>\n",
       "    <tr>\n",
       "      <th>0</th>\n",
       "      <td>Abbotsford</td>\n",
       "      <td>2</td>\n",
       "      <td>h</td>\n",
       "      <td>1480000.0</td>\n",
       "      <td>3067.0</td>\n",
       "      <td>1.0</td>\n",
       "      <td>1.0</td>\n",
       "      <td>1.0</td>\n",
       "      <td>202.0</td>\n",
       "      <td>Yarra</td>\n",
       "    </tr>\n",
       "    <tr>\n",
       "      <th>5</th>\n",
       "      <td>Abbotsford</td>\n",
       "      <td>2</td>\n",
       "      <td>h</td>\n",
       "      <td>941000.0</td>\n",
       "      <td>3067.0</td>\n",
       "      <td>1.0</td>\n",
       "      <td>1.0</td>\n",
       "      <td>0.0</td>\n",
       "      <td>181.0</td>\n",
       "      <td>Yarra</td>\n",
       "    </tr>\n",
       "    <tr>\n",
       "      <th>6</th>\n",
       "      <td>Abbotsford</td>\n",
       "      <td>3</td>\n",
       "      <td>h</td>\n",
       "      <td>1876000.0</td>\n",
       "      <td>3067.0</td>\n",
       "      <td>1.0</td>\n",
       "      <td>2.0</td>\n",
       "      <td>0.0</td>\n",
       "      <td>245.0</td>\n",
       "      <td>Yarra</td>\n",
       "    </tr>\n",
       "    <tr>\n",
       "      <th>7</th>\n",
       "      <td>Abbotsford</td>\n",
       "      <td>2</td>\n",
       "      <td>h</td>\n",
       "      <td>1636000.0</td>\n",
       "      <td>3067.0</td>\n",
       "      <td>1.0</td>\n",
       "      <td>1.0</td>\n",
       "      <td>2.0</td>\n",
       "      <td>256.0</td>\n",
       "      <td>Yarra</td>\n",
       "    </tr>\n",
       "    <tr>\n",
       "      <th>9</th>\n",
       "      <td>Abbotsford</td>\n",
       "      <td>2</td>\n",
       "      <td>h</td>\n",
       "      <td>1097000.0</td>\n",
       "      <td>3067.0</td>\n",
       "      <td>1.0</td>\n",
       "      <td>1.0</td>\n",
       "      <td>2.0</td>\n",
       "      <td>220.0</td>\n",
       "      <td>Yarra</td>\n",
       "    </tr>\n",
       "    <tr>\n",
       "      <th>...</th>\n",
       "      <td>...</td>\n",
       "      <td>...</td>\n",
       "      <td>...</td>\n",
       "      <td>...</td>\n",
       "      <td>...</td>\n",
       "      <td>...</td>\n",
       "      <td>...</td>\n",
       "      <td>...</td>\n",
       "      <td>...</td>\n",
       "      <td>...</td>\n",
       "    </tr>\n",
       "    <tr>\n",
       "      <th>13575</th>\n",
       "      <td>Wheelers Hill</td>\n",
       "      <td>4</td>\n",
       "      <td>h</td>\n",
       "      <td>1245000.0</td>\n",
       "      <td>3150.0</td>\n",
       "      <td>3.0</td>\n",
       "      <td>2.0</td>\n",
       "      <td>2.0</td>\n",
       "      <td>652.0</td>\n",
       "      <td>Monash</td>\n",
       "    </tr>\n",
       "    <tr>\n",
       "      <th>13576</th>\n",
       "      <td>Williamstown</td>\n",
       "      <td>3</td>\n",
       "      <td>h</td>\n",
       "      <td>1031000.0</td>\n",
       "      <td>3016.0</td>\n",
       "      <td>2.0</td>\n",
       "      <td>2.0</td>\n",
       "      <td>2.0</td>\n",
       "      <td>333.0</td>\n",
       "      <td>Hobsons Bay</td>\n",
       "    </tr>\n",
       "    <tr>\n",
       "      <th>13577</th>\n",
       "      <td>Williamstown</td>\n",
       "      <td>3</td>\n",
       "      <td>h</td>\n",
       "      <td>1170000.0</td>\n",
       "      <td>3016.0</td>\n",
       "      <td>2.0</td>\n",
       "      <td>2.0</td>\n",
       "      <td>3.0</td>\n",
       "      <td>436.0</td>\n",
       "      <td>Hobsons Bay</td>\n",
       "    </tr>\n",
       "    <tr>\n",
       "      <th>13578</th>\n",
       "      <td>Williamstown</td>\n",
       "      <td>4</td>\n",
       "      <td>h</td>\n",
       "      <td>2500000.0</td>\n",
       "      <td>3016.0</td>\n",
       "      <td>2.0</td>\n",
       "      <td>1.0</td>\n",
       "      <td>3.0</td>\n",
       "      <td>866.0</td>\n",
       "      <td>Hobsons Bay</td>\n",
       "    </tr>\n",
       "    <tr>\n",
       "      <th>13579</th>\n",
       "      <td>Yarraville</td>\n",
       "      <td>4</td>\n",
       "      <td>h</td>\n",
       "      <td>1285000.0</td>\n",
       "      <td>3013.0</td>\n",
       "      <td>2.0</td>\n",
       "      <td>1.0</td>\n",
       "      <td>1.0</td>\n",
       "      <td>362.0</td>\n",
       "      <td>Maribyrnong</td>\n",
       "    </tr>\n",
       "  </tbody>\n",
       "</table>\n",
       "<p>9242 rows × 10 columns</p>\n",
       "</div>"
      ],
      "text/plain": [
       "              Suburb  Rooms Type      Price  Postcode  Distance  Bathroom  \\\n",
       "0         Abbotsford      2    h  1480000.0    3067.0       1.0       1.0   \n",
       "5         Abbotsford      2    h   941000.0    3067.0       1.0       1.0   \n",
       "6         Abbotsford      3    h  1876000.0    3067.0       1.0       2.0   \n",
       "7         Abbotsford      2    h  1636000.0    3067.0       1.0       1.0   \n",
       "9         Abbotsford      2    h  1097000.0    3067.0       1.0       1.0   \n",
       "...              ...    ...  ...        ...       ...       ...       ...   \n",
       "13575  Wheelers Hill      4    h  1245000.0    3150.0       3.0       2.0   \n",
       "13576   Williamstown      3    h  1031000.0    3016.0       2.0       2.0   \n",
       "13577   Williamstown      3    h  1170000.0    3016.0       2.0       2.0   \n",
       "13578   Williamstown      4    h  2500000.0    3016.0       2.0       1.0   \n",
       "13579     Yarraville      4    h  1285000.0    3013.0       2.0       1.0   \n",
       "\n",
       "       Car  Landsize  CouncilArea  \n",
       "0      1.0     202.0        Yarra  \n",
       "5      0.0     181.0        Yarra  \n",
       "6      0.0     245.0        Yarra  \n",
       "7      2.0     256.0        Yarra  \n",
       "9      2.0     220.0        Yarra  \n",
       "...    ...       ...          ...  \n",
       "13575  2.0     652.0       Monash  \n",
       "13576  2.0     333.0  Hobsons Bay  \n",
       "13577  3.0     436.0  Hobsons Bay  \n",
       "13578  3.0     866.0  Hobsons Bay  \n",
       "13579  1.0     362.0  Maribyrnong  \n",
       "\n",
       "[9242 rows x 10 columns]"
      ]
     },
     "execution_count": 77,
     "metadata": {},
     "output_type": "execute_result"
    }
   ],
   "source": [
    "selected_columns = ['Suburb','Rooms','Type','Price','Postcode','Distance','Bathroom','Car','Landsize','CouncilArea']\n",
    "melb_df = melb_df[selected_columns]\n",
    "melb_df"
   ]
  },
  {
   "cell_type": "markdown",
   "metadata": {},
   "source": [
    "### Columnas no seleccionadas\n",
    "\n",
    "- Address, Method, SeleerG, Date, Bedroom2, BuildingArea, YearBuilt, Lattitude, Longitude, Regionname y Propertycount: se descartan porque no aportan informacion relevante o aportan informacion duplicada que se puede inferir de otra variable."
   ]
  },
  {
   "cell_type": "markdown",
   "metadata": {},
   "source": [
    "---"
   ]
  },
  {
   "cell_type": "markdown",
   "metadata": {},
   "source": [
    "## AIRBNB_DF"
   ]
  },
  {
   "cell_type": "code",
   "execution_count": 78,
   "metadata": {},
   "outputs": [
    {
     "data": {
      "text/html": [
       "<div>\n",
       "<style scoped>\n",
       "    .dataframe tbody tr th:only-of-type {\n",
       "        vertical-align: middle;\n",
       "    }\n",
       "\n",
       "    .dataframe tbody tr th {\n",
       "        vertical-align: top;\n",
       "    }\n",
       "\n",
       "    .dataframe thead th {\n",
       "        text-align: right;\n",
       "    }\n",
       "</style>\n",
       "<table border=\"1\" class=\"dataframe\">\n",
       "  <thead>\n",
       "    <tr style=\"text-align: right;\">\n",
       "      <th></th>\n",
       "      <th>description</th>\n",
       "      <th>neighborhood_overview</th>\n",
       "      <th>street</th>\n",
       "      <th>neighborhood</th>\n",
       "      <th>city</th>\n",
       "      <th>suburb</th>\n",
       "      <th>state</th>\n",
       "      <th>zipcode</th>\n",
       "      <th>latitude</th>\n",
       "      <th>longitude</th>\n",
       "      <th>price</th>\n",
       "      <th>weekly_price</th>\n",
       "      <th>monthly_price</th>\n",
       "    </tr>\n",
       "  </thead>\n",
       "  <tbody>\n",
       "    <tr>\n",
       "      <th>0</th>\n",
       "      <td>House: Clean, New, Modern, Quite, Safe. 10Km f...</td>\n",
       "      <td>Very safe! Family oriented. Older age group.</td>\n",
       "      <td>Bulleen, VIC, Australia</td>\n",
       "      <td>Balwyn North</td>\n",
       "      <td>Manningham</td>\n",
       "      <td>Bulleen</td>\n",
       "      <td>VIC</td>\n",
       "      <td>3105</td>\n",
       "      <td>-37.772684</td>\n",
       "      <td>145.092133</td>\n",
       "      <td>60</td>\n",
       "      <td>NaN</td>\n",
       "      <td>NaN</td>\n",
       "    </tr>\n",
       "    <tr>\n",
       "      <th>1</th>\n",
       "      <td>A large air conditioned room with queen spring...</td>\n",
       "      <td>This hip area is a crossroads between two grea...</td>\n",
       "      <td>Brunswick East, VIC, Australia</td>\n",
       "      <td>Brunswick</td>\n",
       "      <td>Moreland</td>\n",
       "      <td>Brunswick East</td>\n",
       "      <td>VIC</td>\n",
       "      <td>3057</td>\n",
       "      <td>-37.766505</td>\n",
       "      <td>144.980736</td>\n",
       "      <td>35</td>\n",
       "      <td>200.0</td>\n",
       "      <td>803.0</td>\n",
       "    </tr>\n",
       "    <tr>\n",
       "      <th>2</th>\n",
       "      <td>RIGHT IN THE HEART OF ST KILDA! It doesn't get...</td>\n",
       "      <td>A stay at our apartment means you can enjoy so...</td>\n",
       "      <td>St Kilda, VIC, Australia</td>\n",
       "      <td>St Kilda</td>\n",
       "      <td>Port Phillip</td>\n",
       "      <td>St Kilda</td>\n",
       "      <td>VIC</td>\n",
       "      <td>3182</td>\n",
       "      <td>-37.859755</td>\n",
       "      <td>144.977369</td>\n",
       "      <td>159</td>\n",
       "      <td>1253.0</td>\n",
       "      <td>4452.0</td>\n",
       "    </tr>\n",
       "    <tr>\n",
       "      <th>3</th>\n",
       "      <td>Comfortable, relaxed house, a home away from  ...</td>\n",
       "      <td>This is a great neighbourhood – it is quiet, y...</td>\n",
       "      <td>Thornbury, VIC, Australia</td>\n",
       "      <td>Thornbury</td>\n",
       "      <td>Darebin</td>\n",
       "      <td>Thornbury</td>\n",
       "      <td>VIC</td>\n",
       "      <td>3071</td>\n",
       "      <td>-37.758971</td>\n",
       "      <td>144.989228</td>\n",
       "      <td>50</td>\n",
       "      <td>250.0</td>\n",
       "      <td>920.0</td>\n",
       "    </tr>\n",
       "    <tr>\n",
       "      <th>4</th>\n",
       "      <td>We offer comfortable accommodation in Inner Me...</td>\n",
       "      <td>NaN</td>\n",
       "      <td>St Kilda East, VIC, Australia</td>\n",
       "      <td>St Kilda East</td>\n",
       "      <td>Port Phillip</td>\n",
       "      <td>St Kilda East</td>\n",
       "      <td>VIC</td>\n",
       "      <td>3183</td>\n",
       "      <td>-37.864530</td>\n",
       "      <td>144.992238</td>\n",
       "      <td>69</td>\n",
       "      <td>400.0</td>\n",
       "      <td>1900.0</td>\n",
       "    </tr>\n",
       "  </tbody>\n",
       "</table>\n",
       "</div>"
      ],
      "text/plain": [
       "                                         description  \\\n",
       "0  House: Clean, New, Modern, Quite, Safe. 10Km f...   \n",
       "1  A large air conditioned room with queen spring...   \n",
       "2  RIGHT IN THE HEART OF ST KILDA! It doesn't get...   \n",
       "3  Comfortable, relaxed house, a home away from  ...   \n",
       "4  We offer comfortable accommodation in Inner Me...   \n",
       "\n",
       "                               neighborhood_overview  \\\n",
       "0       Very safe! Family oriented. Older age group.   \n",
       "1  This hip area is a crossroads between two grea...   \n",
       "2  A stay at our apartment means you can enjoy so...   \n",
       "3  This is a great neighbourhood – it is quiet, y...   \n",
       "4                                                NaN   \n",
       "\n",
       "                           street   neighborhood          city  \\\n",
       "0         Bulleen, VIC, Australia   Balwyn North    Manningham   \n",
       "1  Brunswick East, VIC, Australia      Brunswick      Moreland   \n",
       "2        St Kilda, VIC, Australia       St Kilda  Port Phillip   \n",
       "3       Thornbury, VIC, Australia      Thornbury       Darebin   \n",
       "4   St Kilda East, VIC, Australia  St Kilda East  Port Phillip   \n",
       "\n",
       "           suburb state zipcode   latitude   longitude  price  weekly_price  \\\n",
       "0         Bulleen   VIC    3105 -37.772684  145.092133     60           NaN   \n",
       "1  Brunswick East   VIC    3057 -37.766505  144.980736     35         200.0   \n",
       "2        St Kilda   VIC    3182 -37.859755  144.977369    159        1253.0   \n",
       "3       Thornbury   VIC    3071 -37.758971  144.989228     50         250.0   \n",
       "4   St Kilda East   VIC    3183 -37.864530  144.992238     69         400.0   \n",
       "\n",
       "   monthly_price  \n",
       "0            NaN  \n",
       "1          803.0  \n",
       "2         4452.0  \n",
       "3          920.0  \n",
       "4         1900.0  "
      ]
     },
     "execution_count": 78,
     "metadata": {},
     "output_type": "execute_result"
    }
   ],
   "source": [
    "airbnb_df.head()"
   ]
  },
  {
   "cell_type": "code",
   "execution_count": 79,
   "metadata": {},
   "outputs": [
    {
     "data": {
      "text/plain": [
       "Index(['description', 'neighborhood_overview', 'street', 'neighborhood',\n",
       "       'city', 'suburb', 'state', 'zipcode', 'latitude', 'longitude', 'price',\n",
       "       'weekly_price', 'monthly_price'],\n",
       "      dtype='object')"
      ]
     },
     "execution_count": 79,
     "metadata": {},
     "output_type": "execute_result"
    }
   ],
   "source": [
    "airbnb_df.columns"
   ]
  },
  {
   "cell_type": "markdown",
   "metadata": {},
   "source": [
    "### Feature description"
   ]
  },
  {
   "cell_type": "code",
   "execution_count": 80,
   "metadata": {},
   "outputs": [
    {
     "name": "stdout",
     "output_type": "stream",
     "text": [
      "Hay 22563 elementos.\n",
      "Hay 21678 elementos únicos.\n",
      "El elemento mas frecuente es nan y ocurre 332 veces.\n",
      "Hay 332 elementos nulos.\n",
      "Hay 0 elementos vacíos.\n",
      "Hay 0 elementos con ceros.\n"
     ]
    }
   ],
   "source": [
    "describe(airbnb_df,'description')"
   ]
  },
  {
   "cell_type": "markdown",
   "metadata": {},
   "source": [
    "### Feature neighborhood_overview"
   ]
  },
  {
   "cell_type": "code",
   "execution_count": 81,
   "metadata": {},
   "outputs": [
    {
     "name": "stdout",
     "output_type": "stream",
     "text": [
      "Hay 14424 elementos.\n",
      "Hay 12042 elementos únicos.\n",
      "El elemento mas frecuente es nan y ocurre 8471 veces.\n",
      "Hay 8471 elementos nulos.\n",
      "Hay 0 elementos vacíos.\n",
      "Hay 0 elementos con ceros.\n"
     ]
    }
   ],
   "source": [
    "describe(airbnb_df,'neighborhood_overview')"
   ]
  },
  {
   "cell_type": "markdown",
   "metadata": {},
   "source": [
    "### Feature street"
   ]
  },
  {
   "cell_type": "code",
   "execution_count": 82,
   "metadata": {},
   "outputs": [
    {
     "name": "stdout",
     "output_type": "stream",
     "text": [
      "Hay 22895 elementos.\n",
      "Hay 637 elementos únicos.\n",
      "El elemento mas frecuente es Melbourne, VIC, Australia y ocurre 4222 veces.\n",
      "Hay 0 elementos nulos.\n",
      "Hay 0 elementos vacíos.\n",
      "Hay 0 elementos con ceros.\n"
     ]
    }
   ],
   "source": [
    "describe(airbnb_df,'street')"
   ]
  },
  {
   "cell_type": "markdown",
   "metadata": {},
   "source": [
    "### Feature neighborhood"
   ]
  },
  {
   "cell_type": "code",
   "execution_count": 83,
   "metadata": {},
   "outputs": [
    {
     "name": "stdout",
     "output_type": "stream",
     "text": [
      "Hay 17082 elementos.\n",
      "Hay 60 elementos únicos.\n",
      "El elemento mas frecuente es nan y ocurre 5813 veces.\n",
      "Hay 5813 elementos nulos.\n",
      "Hay 0 elementos vacíos.\n",
      "Hay 0 elementos con ceros.\n"
     ]
    }
   ],
   "source": [
    "describe(airbnb_df,'neighborhood')"
   ]
  },
  {
   "cell_type": "markdown",
   "metadata": {},
   "source": [
    "### Feature city"
   ]
  },
  {
   "cell_type": "code",
   "execution_count": 84,
   "metadata": {},
   "outputs": [
    {
     "name": "stdout",
     "output_type": "stream",
     "text": [
      "Hay 22895 elementos.\n",
      "Hay 30 elementos únicos.\n",
      "El elemento mas frecuente es Melbourne y ocurre 7368 veces.\n",
      "Hay 0 elementos nulos.\n",
      "Hay 0 elementos vacíos.\n",
      "Hay 0 elementos con ceros.\n"
     ]
    }
   ],
   "source": [
    "describe(airbnb_df,'city')"
   ]
  },
  {
   "cell_type": "markdown",
   "metadata": {},
   "source": [
    "### Feature suburb"
   ]
  },
  {
   "cell_type": "code",
   "execution_count": 85,
   "metadata": {},
   "outputs": [
    {
     "name": "stdout",
     "output_type": "stream",
     "text": [
      "Hay 22872 elementos.\n",
      "Hay 543 elementos únicos.\n",
      "El elemento mas frecuente es Melbourne y ocurre 4274 veces.\n",
      "Hay 23 elementos nulos.\n",
      "Hay 0 elementos vacíos.\n",
      "Hay 0 elementos con ceros.\n"
     ]
    },
    {
     "data": {
      "text/plain": [
       "<AxesSubplot:xlabel='suburb'>"
      ]
     },
     "execution_count": 85,
     "metadata": {},
     "output_type": "execute_result"
    },
    {
     "data": {
      "image/png": "[encoded data removed]",
      "text/plain": [
       "<Figure size 432x288 with 1 Axes>"
      ]
     },
     "metadata": {
      "needs_background": "light"
     },
     "output_type": "display_data"
    }
   ],
   "source": [
    "describe(airbnb_df,'suburb')\n",
    "vc = airbnb_df.suburb.value_counts()\n",
    "seaborn.boxplot(x=vc)"
   ]
  },
  {
   "cell_type": "code",
   "execution_count": 86,
   "metadata": {},
   "outputs": [
    {
     "name": "stdout",
     "output_type": "stream",
     "text": [
      "Después de remover outlier con IQR mantenemos un porcentaje del 2.06 % sobre el dataset original\n",
      "Hay 471 elementos.\n",
      "Hay 47 elementos únicos.\n",
      "El elemento mas frecuente es 1 y ocurre 139 veces.\n",
      "Hay 0 elementos nulos.\n",
      "Hay 0 elementos vacíos.\n",
      "Hay 0 elementos con ceros.\n"
     ]
    },
    {
     "data": {
      "text/plain": [
       "<AxesSubplot:xlabel='suburb'>"
      ]
     },
     "execution_count": 86,
     "metadata": {},
     "output_type": "execute_result"
    },
    {
     "data": {
      "image/png": "[encoded data removed]",
      "text/plain": [
       "<Figure size 432x288 with 1 Axes>"
      ]
     },
     "metadata": {
      "needs_background": "light"
     },
     "output_type": "display_data"
    }
   ],
   "source": [
    "iqr_factor = 1.5\n",
    "suburb = airbnb_df.copy()\n",
    "suburb_main_inliers, suburb_main_outliers = remove_outlier(pandas.DataFrame(airbnb_df.suburb.value_counts()), \"suburb\", iqr_factor)\n",
    "p = (len(suburb_main_inliers) / len(suburb)) * 100\n",
    "print(f'Después de remover outlier con IQR mantenemos un porcentaje del {round(p,2)} % sobre el dataset original')\n",
    "describe(suburb_main_inliers,'suburb')\n",
    "seaborn.boxplot(data=suburb_main_inliers, x='suburb')"
   ]
  },
  {
   "cell_type": "markdown",
   "metadata": {},
   "source": [
    "### Feature state"
   ]
  },
  {
   "cell_type": "code",
   "execution_count": 87,
   "metadata": {},
   "outputs": [
    {
     "name": "stdout",
     "output_type": "stream",
     "text": [
      "Hay 22834 elementos.\n",
      "Hay 28 elementos únicos.\n",
      "El elemento mas frecuente es VIC y ocurre 21858 veces.\n",
      "Hay 61 elementos nulos.\n",
      "Hay 0 elementos vacíos.\n",
      "Hay 0 elementos con ceros.\n"
     ]
    }
   ],
   "source": [
    "describe(airbnb_df,'state')"
   ]
  },
  {
   "cell_type": "markdown",
   "metadata": {},
   "source": [
    "### Feature zipcode"
   ]
  },
  {
   "cell_type": "code",
   "execution_count": 88,
   "metadata": {},
   "outputs": [
    {
     "name": "stdout",
     "output_type": "stream",
     "text": [
      "Hay 22753 elementos.\n",
      "Hay 252 elementos únicos.\n",
      "El elemento mas frecuente es 3000 y ocurre 3367 veces.\n",
      "Hay 142 elementos nulos.\n",
      "Hay 0 elementos vacíos.\n",
      "Hay 0 elementos con ceros.\n"
     ]
    }
   ],
   "source": [
    "describe(airbnb_df,'zipcode')"
   ]
  },
  {
   "cell_type": "code",
   "execution_count": 89,
   "metadata": {},
   "outputs": [],
   "source": [
    "airbnb_df['zipcode'] = pandas.to_numeric(airbnb_df.zipcode, errors='coerce')"
   ]
  },
  {
   "cell_type": "code",
   "execution_count": 90,
   "metadata": {},
   "outputs": [
    {
     "name": "stdout",
     "output_type": "stream",
     "text": [
      "Airbnb unique zipcodes 248\n",
      "Sales unique zipcodes 192\n",
      "Common zipcodes 187\n",
      "Records in Sales df with corresponding zipcode form Sales df 0.998701579744644\n",
      "Records in Airbnb df with corresponding zipcode form Airbnb df 0.9026424983620878\n"
     ]
    }
   ],
   "source": [
    "intersection = numpy.intersect1d(airbnb_df.zipcode.values, melb_df.Postcode.values, assume_unique=False)\n",
    "print(\"Airbnb unique zipcodes\", len(airbnb_df.zipcode.unique()))\n",
    "print(\"Sales unique zipcodes\", len(melb_df.Postcode.unique()))\n",
    "print(\"Common zipcodes\", len(intersection))\n",
    "print('Records in Sales df with corresponding zipcode form Sales df',\n",
    "      melb_df.Postcode.isin(intersection).sum() / len(melb_df))\n",
    "print('Records in Airbnb df with corresponding zipcode form Airbnb df',\n",
    "      airbnb_df.zipcode.isin(intersection).sum() / len(airbnb_df))"
   ]
  },
  {
   "cell_type": "code",
   "execution_count": 91,
   "metadata": {},
   "outputs": [
    {
     "data": {
      "text/html": [
       "<div>\n",
       "<style scoped>\n",
       "    .dataframe tbody tr th:only-of-type {\n",
       "        vertical-align: middle;\n",
       "    }\n",
       "\n",
       "    .dataframe tbody tr th {\n",
       "        vertical-align: top;\n",
       "    }\n",
       "\n",
       "    .dataframe thead th {\n",
       "        text-align: right;\n",
       "    }\n",
       "</style>\n",
       "<table border=\"1\" class=\"dataframe\">\n",
       "  <thead>\n",
       "    <tr style=\"text-align: right;\">\n",
       "      <th></th>\n",
       "      <th>zipcode</th>\n",
       "      <th>airbnb_record_count</th>\n",
       "      <th>airbnb_price_day_mean</th>\n",
       "    </tr>\n",
       "  </thead>\n",
       "  <tbody>\n",
       "    <tr>\n",
       "      <th>0</th>\n",
       "      <td>2010.0</td>\n",
       "      <td>1</td>\n",
       "      <td>40.000000</td>\n",
       "    </tr>\n",
       "    <tr>\n",
       "      <th>1</th>\n",
       "      <td>2134.0</td>\n",
       "      <td>1</td>\n",
       "      <td>50.000000</td>\n",
       "    </tr>\n",
       "    <tr>\n",
       "      <th>2</th>\n",
       "      <td>2582.0</td>\n",
       "      <td>1</td>\n",
       "      <td>104.000000</td>\n",
       "    </tr>\n",
       "    <tr>\n",
       "      <th>3</th>\n",
       "      <td>3000.0</td>\n",
       "      <td>3367</td>\n",
       "      <td>150.504307</td>\n",
       "    </tr>\n",
       "    <tr>\n",
       "      <th>4</th>\n",
       "      <td>3001.0</td>\n",
       "      <td>2</td>\n",
       "      <td>132.500000</td>\n",
       "    </tr>\n",
       "  </tbody>\n",
       "</table>\n",
       "</div>"
      ],
      "text/plain": [
       "   zipcode  airbnb_record_count  airbnb_price_day_mean\n",
       "0   2010.0                    1              40.000000\n",
       "1   2134.0                    1              50.000000\n",
       "2   2582.0                    1             104.000000\n",
       "3   3000.0                 3367             150.504307\n",
       "4   3001.0                    2             132.500000"
      ]
     },
     "execution_count": 91,
     "metadata": {},
     "output_type": "execute_result"
    }
   ],
   "source": [
    "#utilizo la funcion count y mean a price para agregarlo como variables\n",
    "priceByZipCode = airbnb_df[['price','zipcode']].groupby('zipcode')\\\n",
    "   .agg(airbnb_record_count=('price', 'count'),\n",
    "    airbnb_price_day_mean=('price', 'mean'))\\\n",
    "   .reset_index()\n",
    "priceByZipCode.head()"
   ]
  },
  {
   "cell_type": "markdown",
   "metadata": {},
   "source": [
    "### Feature latitude y longitude"
   ]
  },
  {
   "cell_type": "code",
   "execution_count": 92,
   "metadata": {},
   "outputs": [
    {
     "name": "stdout",
     "output_type": "stream",
     "text": [
      "Hay 22895 elementos.\n",
      "Hay 22874 elementos únicos.\n",
      "El elemento mas frecuente es -37.801278 y ocurre 2 veces.\n",
      "Hay 0 elementos nulos.\n",
      "Hay 0 elementos vacíos.\n",
      "Hay 0 elementos con ceros.\n",
      "\n",
      "\n",
      "Hay 22895 elementos.\n",
      "Hay 22700 elementos únicos.\n",
      "El elemento mas frecuente es 144.9802035 y ocurre 3 veces.\n",
      "Hay 0 elementos nulos.\n",
      "Hay 0 elementos vacíos.\n",
      "Hay 0 elementos con ceros.\n"
     ]
    }
   ],
   "source": [
    "describe(airbnb_df,'latitude')\n",
    "print(\"\\n\")\n",
    "describe(airbnb_df,'longitude')"
   ]
  },
  {
   "cell_type": "markdown",
   "metadata": {},
   "source": [
    "### Feature price"
   ]
  },
  {
   "cell_type": "code",
   "execution_count": 93,
   "metadata": {
    "tags": []
   },
   "outputs": [
    {
     "name": "stdout",
     "output_type": "stream",
     "text": [
      "Hay 22895 elementos.\n",
      "Hay 458 elementos únicos.\n",
      "El elemento mas frecuente es 100 y ocurre 1209 veces.\n",
      "Hay 0 elementos nulos.\n",
      "Hay 0 elementos vacíos.\n",
      "Hay 21 elementos con ceros.\n"
     ]
    },
    {
     "data": {
      "text/plain": [
       "<AxesSubplot:xlabel='price'>"
      ]
     },
     "execution_count": 93,
     "metadata": {},
     "output_type": "execute_result"
    },
    {
     "data": {
      "image/png": "[encoded data removed]",
      "text/plain": [
       "<Figure size 432x288 with 1 Axes>"
      ]
     },
     "metadata": {
      "needs_background": "light"
     },
     "output_type": "display_data"
    }
   ],
   "source": [
    "describe(airbnb_df,'price')\n",
    "seaborn.boxplot(data=airbnb_df, x='price')"
   ]
  },
  {
   "cell_type": "code",
   "execution_count": 94,
   "metadata": {},
   "outputs": [
    {
     "name": "stdout",
     "output_type": "stream",
     "text": [
      "Después de remover outlier con IQR mantenemos un porcentaje del 93.68 % sobre el dataset original\n",
      "Hay 21448 elementos.\n",
      "Hay 210 elementos únicos.\n",
      "El elemento mas frecuente es 100 y ocurre 1209 veces.\n",
      "Hay 0 elementos nulos.\n",
      "Hay 0 elementos vacíos.\n",
      "Hay 21 elementos con ceros.\n"
     ]
    },
    {
     "data": {
      "text/plain": [
       "<AxesSubplot:xlabel='price'>"
      ]
     },
     "execution_count": 94,
     "metadata": {},
     "output_type": "execute_result"
    },
    {
     "data": {
      "image/png": "[encoded data removed]",
      "text/plain": [
       "<Figure size 432x288 with 1 Axes>"
      ]
     },
     "metadata": {
      "needs_background": "light"
     },
     "output_type": "display_data"
    }
   ],
   "source": [
    "iqr_factor = 1.5\n",
    "price = airbnb_df.copy()\n",
    "price_main_inliers, price_main_outliers = remove_outlier(price, \"price\", iqr_factor)\n",
    "p = (len(price_main_inliers) / len(price)) * 100\n",
    "print(f'Después de remover outlier con IQR mantenemos un porcentaje del {round(p,2)} % sobre el dataset original')\n",
    "describe(price_main_inliers,'price')\n",
    "seaborn.boxplot(data=price_main_inliers, x='price')"
   ]
  },
  {
   "cell_type": "code",
   "execution_count": 95,
   "metadata": {},
   "outputs": [],
   "source": [
    "airbnb_df = price_main_inliers.copy()"
   ]
  },
  {
   "cell_type": "markdown",
   "metadata": {},
   "source": [
    "### Feature weekly_price"
   ]
  },
  {
   "cell_type": "code",
   "execution_count": 96,
   "metadata": {},
   "outputs": [
    {
     "name": "stdout",
     "output_type": "stream",
     "text": [
      "Hay 2365 elementos.\n",
      "Hay 530 elementos únicos.\n",
      "El elemento mas frecuente es 700.0 y ocurre 74 veces.\n",
      "Hay 19083 elementos nulos.\n",
      "Hay 0 elementos vacíos.\n",
      "Hay 0 elementos con ceros.\n"
     ]
    }
   ],
   "source": [
    "describe(airbnb_df,'weekly_price')"
   ]
  },
  {
   "cell_type": "markdown",
   "metadata": {},
   "source": [
    "### Feature monthly_price"
   ]
  },
  {
   "cell_type": "code",
   "execution_count": 97,
   "metadata": {},
   "outputs": [
    {
     "name": "stdout",
     "output_type": "stream",
     "text": [
      "Hay 1782 elementos.\n",
      "Hay 572 elementos únicos.\n",
      "El elemento mas frecuente es 2000.0 y ocurre 51 veces.\n",
      "Hay 19666 elementos nulos.\n",
      "Hay 0 elementos vacíos.\n",
      "Hay 0 elementos con ceros.\n"
     ]
    }
   ],
   "source": [
    "describe(airbnb_df,'monthly_price')"
   ]
  },
  {
   "cell_type": "markdown",
   "metadata": {},
   "source": [
    "Antes de unir los conjuntos de datos, tenemos que asegurarnos de que tengamos suficientes registros en común como para agregar información relevantes."
   ]
  },
  {
   "cell_type": "markdown",
   "metadata": {},
   "source": [
    "### Análisis valores faltantes"
   ]
  },
  {
   "cell_type": "code",
   "execution_count": 98,
   "metadata": {},
   "outputs": [
    {
     "data": {
      "text/plain": [
       "<AxesSubplot:>"
      ]
     },
     "execution_count": 98,
     "metadata": {},
     "output_type": "execute_result"
    },
    {
     "data": {
      "image/png": "[encoded data removed]",
      "text/plain": [
       "<Figure size 864x432 with 3 Axes>"
      ]
     },
     "metadata": {
      "needs_background": "light"
     },
     "output_type": "display_data"
    }
   ],
   "source": [
    "msno.bar(airbnb_df,figsize=(12, 6), fontsize=12, color='steelblue')"
   ]
  },
  {
   "cell_type": "code",
   "execution_count": 99,
   "metadata": {},
   "outputs": [
    {
     "data": {
      "text/plain": [
       "<AxesSubplot:>"
      ]
     },
     "execution_count": 99,
     "metadata": {},
     "output_type": "execute_result"
    },
    {
     "data": {
      "image/png": "[encoded data removed]",
      "text/plain": [
       "<Figure size 864x432 with 2 Axes>"
      ]
     },
     "metadata": {
      "needs_background": "light"
     },
     "output_type": "display_data"
    }
   ],
   "source": [
    "msno.matrix(airbnb_df,figsize=(12, 6), fontsize=12, color=[0,0,0.2])"
   ]
  },
  {
   "cell_type": "markdown",
   "metadata": {},
   "source": [
    "## Análisis AIRBNB VS MELB_DF"
   ]
  },
  {
   "cell_type": "code",
   "execution_count": 100,
   "metadata": {},
   "outputs": [
    {
     "name": "stdout",
     "output_type": "stream",
     "text": [
      "Airbnb unique suburb 532\n",
      "Sales unique suburb 306\n",
      "Common suburb 291\n"
     ]
    },
    {
     "name": "stderr",
     "output_type": "stream",
     "text": [
      "<ipython-input-100-ed6fe28e5176>:15: DeprecationWarning: Using or importing the ABCs from 'collections' instead of from 'collections.abc' is deprecated since Python 3.3, and in 3.10 it will stop working\n",
      "  if isinstance(x, collections.Iterable) and not isinstance(el, str):\n"
     ]
    }
   ],
   "source": [
    "#genero un array de los valores en formato str\n",
    "array=melb_df.Suburb.values\n",
    "array_str_df=[]\n",
    "for i in array:\n",
    "    array_str_df.append(str(i))\n",
    "array2=airbnb_df.suburb.values\n",
    "array_str_airbnb=[]\n",
    "for i in array2:\n",
    "    array_str_airbnb.append(str(i))\n",
    "    \n",
    "#realizo la interseccion de arrays en formato str\n",
    "def flatten(x):\n",
    "    result = []\n",
    "    for el in x:\n",
    "        if isinstance(x, collections.Iterable) and not isinstance(el, str):\n",
    "            result.extend(flatten(el))\n",
    "        else:\n",
    "            result.append(el)\n",
    "    return result\n",
    " \n",
    "a = flatten(array_str_airbnb)\n",
    "b = flatten(array_str_df)\n",
    "common_elements = list(set(a).intersection(set(b)))\n",
    "\n",
    "\n",
    "print(\"Airbnb unique suburb\", len(airbnb_df.suburb.unique()))\n",
    "print(\"Sales unique suburb\", len(melb_df.Suburb.unique()))\n",
    "print(\"Common suburb\", len(common_elements))"
   ]
  },
  {
   "cell_type": "markdown",
   "metadata": {},
   "source": [
    "Podemos observar que la mayoría coinciden"
   ]
  },
  {
   "cell_type": "code",
   "execution_count": 101,
   "metadata": {},
   "outputs": [
    {
     "name": "stdout",
     "output_type": "stream",
     "text": [
      "Airbnb unique neighborhood 60\n",
      "Sales unique suburb 306\n",
      "Common suburb 50\n"
     ]
    }
   ],
   "source": [
    "#genero un array de los valores en formato str\n",
    "array=melb_df.Suburb.values\n",
    "array_str_df=[]\n",
    "for i in array:\n",
    "    array_str_df.append(str(i))\n",
    "array2=airbnb_df.neighborhood.values\n",
    "array_str_airbnb=[]\n",
    "for i in array2:\n",
    "    array_str_airbnb.append(str(i))\n",
    "    \n",
    "#realizo la interseccion de arrays en formato str\n",
    "import collections\n",
    "def flatten(x):\n",
    "    result = []\n",
    "    for el in x:\n",
    "        if isinstance(x, collections.Iterable) and not isinstance(el, str):\n",
    "            result.extend(flatten(el))\n",
    "        else:\n",
    "            result.append(el)\n",
    "    return result\n",
    " \n",
    "a = flatten(array_str_airbnb)\n",
    "b = flatten(array_str_df)\n",
    "common_elements = list(set(a).intersection(set(b)))\n",
    "\n",
    "\n",
    "print(\"Airbnb unique neighborhood\", len(airbnb_df.neighborhood.unique()))\n",
    "print(\"Sales unique suburb\", len(melb_df.Suburb.unique()))\n",
    "print(\"Common suburb\", len(common_elements))\n",
    "#se ve que la mayoria de los valores de sales estan en el de airbnb"
   ]
  },
  {
   "cell_type": "markdown",
   "metadata": {},
   "source": [
    "Analizamos las dos variables que se podrian utilizar para realizar la union, de las cuales observamos que las variables suburb y neighborhood del dataframe airbnb podria utilizarse para realizar el merge con la variable suburb de melb_df. \n",
    "Podriamos utilizar un join para unir los valores de neighboorhood con suburb para que incluya todos los valores de suburb y no solo los comunes."
   ]
  },
  {
   "cell_type": "markdown",
   "metadata": {},
   "source": [
    "## MERGE"
   ]
  },
  {
   "cell_type": "code",
   "execution_count": 102,
   "metadata": {},
   "outputs": [
    {
     "data": {
      "text/html": [
       "<div>\n",
       "<style scoped>\n",
       "    .dataframe tbody tr th:only-of-type {\n",
       "        vertical-align: middle;\n",
       "    }\n",
       "\n",
       "    .dataframe tbody tr th {\n",
       "        vertical-align: top;\n",
       "    }\n",
       "\n",
       "    .dataframe thead th {\n",
       "        text-align: right;\n",
       "    }\n",
       "</style>\n",
       "<table border=\"1\" class=\"dataframe\">\n",
       "  <thead>\n",
       "    <tr style=\"text-align: right;\">\n",
       "      <th></th>\n",
       "      <th>Suburb</th>\n",
       "      <th>Rooms</th>\n",
       "      <th>Type</th>\n",
       "      <th>Price</th>\n",
       "      <th>Postcode</th>\n",
       "      <th>Distance</th>\n",
       "      <th>Bathroom</th>\n",
       "      <th>Car</th>\n",
       "      <th>Landsize</th>\n",
       "      <th>CouncilArea</th>\n",
       "      <th>zipcode</th>\n",
       "      <th>airbnb_record_count</th>\n",
       "      <th>airbnb_price_day_mean</th>\n",
       "    </tr>\n",
       "  </thead>\n",
       "  <tbody>\n",
       "    <tr>\n",
       "      <th>0</th>\n",
       "      <td>Abbotsford</td>\n",
       "      <td>2</td>\n",
       "      <td>h</td>\n",
       "      <td>1480000.0</td>\n",
       "      <td>3067.0</td>\n",
       "      <td>1.0</td>\n",
       "      <td>1.0</td>\n",
       "      <td>1.0</td>\n",
       "      <td>202.0</td>\n",
       "      <td>Yarra</td>\n",
       "      <td>3067.0</td>\n",
       "      <td>258.0</td>\n",
       "      <td>130.624031</td>\n",
       "    </tr>\n",
       "    <tr>\n",
       "      <th>1</th>\n",
       "      <td>Abbotsford</td>\n",
       "      <td>2</td>\n",
       "      <td>h</td>\n",
       "      <td>941000.0</td>\n",
       "      <td>3067.0</td>\n",
       "      <td>1.0</td>\n",
       "      <td>1.0</td>\n",
       "      <td>0.0</td>\n",
       "      <td>181.0</td>\n",
       "      <td>Yarra</td>\n",
       "      <td>3067.0</td>\n",
       "      <td>258.0</td>\n",
       "      <td>130.624031</td>\n",
       "    </tr>\n",
       "    <tr>\n",
       "      <th>2</th>\n",
       "      <td>Abbotsford</td>\n",
       "      <td>3</td>\n",
       "      <td>h</td>\n",
       "      <td>1876000.0</td>\n",
       "      <td>3067.0</td>\n",
       "      <td>1.0</td>\n",
       "      <td>2.0</td>\n",
       "      <td>0.0</td>\n",
       "      <td>245.0</td>\n",
       "      <td>Yarra</td>\n",
       "      <td>3067.0</td>\n",
       "      <td>258.0</td>\n",
       "      <td>130.624031</td>\n",
       "    </tr>\n",
       "    <tr>\n",
       "      <th>3</th>\n",
       "      <td>Abbotsford</td>\n",
       "      <td>2</td>\n",
       "      <td>h</td>\n",
       "      <td>1636000.0</td>\n",
       "      <td>3067.0</td>\n",
       "      <td>1.0</td>\n",
       "      <td>1.0</td>\n",
       "      <td>2.0</td>\n",
       "      <td>256.0</td>\n",
       "      <td>Yarra</td>\n",
       "      <td>3067.0</td>\n",
       "      <td>258.0</td>\n",
       "      <td>130.624031</td>\n",
       "    </tr>\n",
       "    <tr>\n",
       "      <th>4</th>\n",
       "      <td>Abbotsford</td>\n",
       "      <td>2</td>\n",
       "      <td>h</td>\n",
       "      <td>1097000.0</td>\n",
       "      <td>3067.0</td>\n",
       "      <td>1.0</td>\n",
       "      <td>1.0</td>\n",
       "      <td>2.0</td>\n",
       "      <td>220.0</td>\n",
       "      <td>Yarra</td>\n",
       "      <td>3067.0</td>\n",
       "      <td>258.0</td>\n",
       "      <td>130.624031</td>\n",
       "    </tr>\n",
       "    <tr>\n",
       "      <th>...</th>\n",
       "      <td>...</td>\n",
       "      <td>...</td>\n",
       "      <td>...</td>\n",
       "      <td>...</td>\n",
       "      <td>...</td>\n",
       "      <td>...</td>\n",
       "      <td>...</td>\n",
       "      <td>...</td>\n",
       "      <td>...</td>\n",
       "      <td>...</td>\n",
       "      <td>...</td>\n",
       "      <td>...</td>\n",
       "      <td>...</td>\n",
       "    </tr>\n",
       "    <tr>\n",
       "      <th>9237</th>\n",
       "      <td>Wheelers Hill</td>\n",
       "      <td>4</td>\n",
       "      <td>h</td>\n",
       "      <td>1245000.0</td>\n",
       "      <td>3150.0</td>\n",
       "      <td>3.0</td>\n",
       "      <td>2.0</td>\n",
       "      <td>2.0</td>\n",
       "      <td>652.0</td>\n",
       "      <td>Monash</td>\n",
       "      <td>3150.0</td>\n",
       "      <td>189.0</td>\n",
       "      <td>124.026455</td>\n",
       "    </tr>\n",
       "    <tr>\n",
       "      <th>9238</th>\n",
       "      <td>Williamstown</td>\n",
       "      <td>3</td>\n",
       "      <td>h</td>\n",
       "      <td>1031000.0</td>\n",
       "      <td>3016.0</td>\n",
       "      <td>2.0</td>\n",
       "      <td>2.0</td>\n",
       "      <td>2.0</td>\n",
       "      <td>333.0</td>\n",
       "      <td>Hobsons Bay</td>\n",
       "      <td>3016.0</td>\n",
       "      <td>74.0</td>\n",
       "      <td>191.094595</td>\n",
       "    </tr>\n",
       "    <tr>\n",
       "      <th>9239</th>\n",
       "      <td>Williamstown</td>\n",
       "      <td>3</td>\n",
       "      <td>h</td>\n",
       "      <td>1170000.0</td>\n",
       "      <td>3016.0</td>\n",
       "      <td>2.0</td>\n",
       "      <td>2.0</td>\n",
       "      <td>3.0</td>\n",
       "      <td>436.0</td>\n",
       "      <td>Hobsons Bay</td>\n",
       "      <td>3016.0</td>\n",
       "      <td>74.0</td>\n",
       "      <td>191.094595</td>\n",
       "    </tr>\n",
       "    <tr>\n",
       "      <th>9240</th>\n",
       "      <td>Williamstown</td>\n",
       "      <td>4</td>\n",
       "      <td>h</td>\n",
       "      <td>2500000.0</td>\n",
       "      <td>3016.0</td>\n",
       "      <td>2.0</td>\n",
       "      <td>1.0</td>\n",
       "      <td>3.0</td>\n",
       "      <td>866.0</td>\n",
       "      <td>Hobsons Bay</td>\n",
       "      <td>3016.0</td>\n",
       "      <td>74.0</td>\n",
       "      <td>191.094595</td>\n",
       "    </tr>\n",
       "    <tr>\n",
       "      <th>9241</th>\n",
       "      <td>Yarraville</td>\n",
       "      <td>4</td>\n",
       "      <td>h</td>\n",
       "      <td>1285000.0</td>\n",
       "      <td>3013.0</td>\n",
       "      <td>2.0</td>\n",
       "      <td>1.0</td>\n",
       "      <td>1.0</td>\n",
       "      <td>362.0</td>\n",
       "      <td>Maribyrnong</td>\n",
       "      <td>3013.0</td>\n",
       "      <td>82.0</td>\n",
       "      <td>135.609756</td>\n",
       "    </tr>\n",
       "  </tbody>\n",
       "</table>\n",
       "<p>9242 rows × 13 columns</p>\n",
       "</div>"
      ],
      "text/plain": [
       "             Suburb  Rooms Type      Price  Postcode  Distance  Bathroom  Car  \\\n",
       "0        Abbotsford      2    h  1480000.0    3067.0       1.0       1.0  1.0   \n",
       "1        Abbotsford      2    h   941000.0    3067.0       1.0       1.0  0.0   \n",
       "2        Abbotsford      3    h  1876000.0    3067.0       1.0       2.0  0.0   \n",
       "3        Abbotsford      2    h  1636000.0    3067.0       1.0       1.0  2.0   \n",
       "4        Abbotsford      2    h  1097000.0    3067.0       1.0       1.0  2.0   \n",
       "...             ...    ...  ...        ...       ...       ...       ...  ...   \n",
       "9237  Wheelers Hill      4    h  1245000.0    3150.0       3.0       2.0  2.0   \n",
       "9238   Williamstown      3    h  1031000.0    3016.0       2.0       2.0  2.0   \n",
       "9239   Williamstown      3    h  1170000.0    3016.0       2.0       2.0  3.0   \n",
       "9240   Williamstown      4    h  2500000.0    3016.0       2.0       1.0  3.0   \n",
       "9241     Yarraville      4    h  1285000.0    3013.0       2.0       1.0  1.0   \n",
       "\n",
       "      Landsize  CouncilArea  zipcode  airbnb_record_count  \\\n",
       "0        202.0        Yarra   3067.0                258.0   \n",
       "1        181.0        Yarra   3067.0                258.0   \n",
       "2        245.0        Yarra   3067.0                258.0   \n",
       "3        256.0        Yarra   3067.0                258.0   \n",
       "4        220.0        Yarra   3067.0                258.0   \n",
       "...        ...          ...      ...                  ...   \n",
       "9237     652.0       Monash   3150.0                189.0   \n",
       "9238     333.0  Hobsons Bay   3016.0                 74.0   \n",
       "9239     436.0  Hobsons Bay   3016.0                 74.0   \n",
       "9240     866.0  Hobsons Bay   3016.0                 74.0   \n",
       "9241     362.0  Maribyrnong   3013.0                 82.0   \n",
       "\n",
       "      airbnb_price_day_mean  \n",
       "0                130.624031  \n",
       "1                130.624031  \n",
       "2                130.624031  \n",
       "3                130.624031  \n",
       "4                130.624031  \n",
       "...                     ...  \n",
       "9237             124.026455  \n",
       "9238             191.094595  \n",
       "9239             191.094595  \n",
       "9240             191.094595  \n",
       "9241             135.609756  \n",
       "\n",
       "[9242 rows x 13 columns]"
      ]
     },
     "execution_count": 102,
     "metadata": {},
     "output_type": "execute_result"
    }
   ],
   "source": [
    "merged_df = melb_df[selected_columns].merge(\n",
    "    priceByZipCode, how='left',\n",
    "    left_on='Postcode', right_on='zipcode'\n",
    ")\n",
    "merged_df"
   ]
  },
  {
   "cell_type": "markdown",
   "metadata": {
    "id": "ismngxPcfoWb"
   },
   "source": [
    "# Ejercicio 2: Imputación\n",
    "\n",
    "1. Imputar los valores faltantes de la columna CouncilArea en base a la información presente en Suburb. (Si en el punto anterior no seleccionó ninguna de estas variables, agréguelas ahora el conjunto de datos).\n",
    "\n",
    "2. Imputar los valores faltantes de la(s) columna(s) que se agregaron a partir del conjunto de datos de AirBnB.\n",
    "\n"
   ]
  },
  {
   "cell_type": "code",
   "execution_count": 103,
   "metadata": {},
   "outputs": [
    {
     "name": "stdout",
     "output_type": "stream",
     "text": [
      "Existen 3 filas con valores nulos en CouncilArea\n"
     ]
    }
   ],
   "source": [
    "missing_values_count = merged_df['CouncilArea'].isna().sum() \n",
    "print(f\"Existen {missing_values_count} filas con valores nulos en CouncilArea\")"
   ]
  },
  {
   "cell_type": "code",
   "execution_count": 104,
   "metadata": {},
   "outputs": [
    {
     "data": {
      "text/html": [
       "<div>\n",
       "<style scoped>\n",
       "    .dataframe tbody tr th:only-of-type {\n",
       "        vertical-align: middle;\n",
       "    }\n",
       "\n",
       "    .dataframe tbody tr th {\n",
       "        vertical-align: top;\n",
       "    }\n",
       "\n",
       "    .dataframe thead th {\n",
       "        text-align: right;\n",
       "    }\n",
       "</style>\n",
       "<table border=\"1\" class=\"dataframe\">\n",
       "  <thead>\n",
       "    <tr style=\"text-align: right;\">\n",
       "      <th></th>\n",
       "      <th>Suburb</th>\n",
       "      <th>Rooms</th>\n",
       "      <th>Type</th>\n",
       "      <th>Price</th>\n",
       "      <th>Postcode</th>\n",
       "      <th>Distance</th>\n",
       "      <th>Bathroom</th>\n",
       "      <th>Car</th>\n",
       "      <th>Landsize</th>\n",
       "      <th>CouncilArea</th>\n",
       "      <th>zipcode</th>\n",
       "      <th>airbnb_record_count</th>\n",
       "      <th>airbnb_price_day_mean</th>\n",
       "    </tr>\n",
       "  </thead>\n",
       "  <tbody>\n",
       "    <tr>\n",
       "      <th>0</th>\n",
       "      <td>Abbotsford</td>\n",
       "      <td>2</td>\n",
       "      <td>h</td>\n",
       "      <td>1480000.0</td>\n",
       "      <td>3067.0</td>\n",
       "      <td>1.0</td>\n",
       "      <td>1.0</td>\n",
       "      <td>1.0</td>\n",
       "      <td>202.0</td>\n",
       "      <td>Yarra</td>\n",
       "      <td>3067.0</td>\n",
       "      <td>258.0</td>\n",
       "      <td>130.624031</td>\n",
       "    </tr>\n",
       "    <tr>\n",
       "      <th>1</th>\n",
       "      <td>Abbotsford</td>\n",
       "      <td>2</td>\n",
       "      <td>h</td>\n",
       "      <td>941000.0</td>\n",
       "      <td>3067.0</td>\n",
       "      <td>1.0</td>\n",
       "      <td>1.0</td>\n",
       "      <td>0.0</td>\n",
       "      <td>181.0</td>\n",
       "      <td>Yarra</td>\n",
       "      <td>3067.0</td>\n",
       "      <td>258.0</td>\n",
       "      <td>130.624031</td>\n",
       "    </tr>\n",
       "    <tr>\n",
       "      <th>2</th>\n",
       "      <td>Abbotsford</td>\n",
       "      <td>3</td>\n",
       "      <td>h</td>\n",
       "      <td>1876000.0</td>\n",
       "      <td>3067.0</td>\n",
       "      <td>1.0</td>\n",
       "      <td>2.0</td>\n",
       "      <td>0.0</td>\n",
       "      <td>245.0</td>\n",
       "      <td>Yarra</td>\n",
       "      <td>3067.0</td>\n",
       "      <td>258.0</td>\n",
       "      <td>130.624031</td>\n",
       "    </tr>\n",
       "    <tr>\n",
       "      <th>3</th>\n",
       "      <td>Abbotsford</td>\n",
       "      <td>2</td>\n",
       "      <td>h</td>\n",
       "      <td>1636000.0</td>\n",
       "      <td>3067.0</td>\n",
       "      <td>1.0</td>\n",
       "      <td>1.0</td>\n",
       "      <td>2.0</td>\n",
       "      <td>256.0</td>\n",
       "      <td>Yarra</td>\n",
       "      <td>3067.0</td>\n",
       "      <td>258.0</td>\n",
       "      <td>130.624031</td>\n",
       "    </tr>\n",
       "    <tr>\n",
       "      <th>4</th>\n",
       "      <td>Abbotsford</td>\n",
       "      <td>2</td>\n",
       "      <td>h</td>\n",
       "      <td>1097000.0</td>\n",
       "      <td>3067.0</td>\n",
       "      <td>1.0</td>\n",
       "      <td>1.0</td>\n",
       "      <td>2.0</td>\n",
       "      <td>220.0</td>\n",
       "      <td>Yarra</td>\n",
       "      <td>3067.0</td>\n",
       "      <td>258.0</td>\n",
       "      <td>130.624031</td>\n",
       "    </tr>\n",
       "    <tr>\n",
       "      <th>...</th>\n",
       "      <td>...</td>\n",
       "      <td>...</td>\n",
       "      <td>...</td>\n",
       "      <td>...</td>\n",
       "      <td>...</td>\n",
       "      <td>...</td>\n",
       "      <td>...</td>\n",
       "      <td>...</td>\n",
       "      <td>...</td>\n",
       "      <td>...</td>\n",
       "      <td>...</td>\n",
       "      <td>...</td>\n",
       "      <td>...</td>\n",
       "    </tr>\n",
       "    <tr>\n",
       "      <th>9237</th>\n",
       "      <td>Wheelers Hill</td>\n",
       "      <td>4</td>\n",
       "      <td>h</td>\n",
       "      <td>1245000.0</td>\n",
       "      <td>3150.0</td>\n",
       "      <td>3.0</td>\n",
       "      <td>2.0</td>\n",
       "      <td>2.0</td>\n",
       "      <td>652.0</td>\n",
       "      <td>Monash</td>\n",
       "      <td>3150.0</td>\n",
       "      <td>189.0</td>\n",
       "      <td>124.026455</td>\n",
       "    </tr>\n",
       "    <tr>\n",
       "      <th>9238</th>\n",
       "      <td>Williamstown</td>\n",
       "      <td>3</td>\n",
       "      <td>h</td>\n",
       "      <td>1031000.0</td>\n",
       "      <td>3016.0</td>\n",
       "      <td>2.0</td>\n",
       "      <td>2.0</td>\n",
       "      <td>2.0</td>\n",
       "      <td>333.0</td>\n",
       "      <td>Hobsons Bay</td>\n",
       "      <td>3016.0</td>\n",
       "      <td>74.0</td>\n",
       "      <td>191.094595</td>\n",
       "    </tr>\n",
       "    <tr>\n",
       "      <th>9239</th>\n",
       "      <td>Williamstown</td>\n",
       "      <td>3</td>\n",
       "      <td>h</td>\n",
       "      <td>1170000.0</td>\n",
       "      <td>3016.0</td>\n",
       "      <td>2.0</td>\n",
       "      <td>2.0</td>\n",
       "      <td>3.0</td>\n",
       "      <td>436.0</td>\n",
       "      <td>Hobsons Bay</td>\n",
       "      <td>3016.0</td>\n",
       "      <td>74.0</td>\n",
       "      <td>191.094595</td>\n",
       "    </tr>\n",
       "    <tr>\n",
       "      <th>9240</th>\n",
       "      <td>Williamstown</td>\n",
       "      <td>4</td>\n",
       "      <td>h</td>\n",
       "      <td>2500000.0</td>\n",
       "      <td>3016.0</td>\n",
       "      <td>2.0</td>\n",
       "      <td>1.0</td>\n",
       "      <td>3.0</td>\n",
       "      <td>866.0</td>\n",
       "      <td>Hobsons Bay</td>\n",
       "      <td>3016.0</td>\n",
       "      <td>74.0</td>\n",
       "      <td>191.094595</td>\n",
       "    </tr>\n",
       "    <tr>\n",
       "      <th>9241</th>\n",
       "      <td>Yarraville</td>\n",
       "      <td>4</td>\n",
       "      <td>h</td>\n",
       "      <td>1285000.0</td>\n",
       "      <td>3013.0</td>\n",
       "      <td>2.0</td>\n",
       "      <td>1.0</td>\n",
       "      <td>1.0</td>\n",
       "      <td>362.0</td>\n",
       "      <td>Maribyrnong</td>\n",
       "      <td>3013.0</td>\n",
       "      <td>82.0</td>\n",
       "      <td>135.609756</td>\n",
       "    </tr>\n",
       "  </tbody>\n",
       "</table>\n",
       "<p>9242 rows × 13 columns</p>\n",
       "</div>"
      ],
      "text/plain": [
       "             Suburb  Rooms Type      Price  Postcode  Distance  Bathroom  Car  \\\n",
       "0        Abbotsford      2    h  1480000.0    3067.0       1.0       1.0  1.0   \n",
       "1        Abbotsford      2    h   941000.0    3067.0       1.0       1.0  0.0   \n",
       "2        Abbotsford      3    h  1876000.0    3067.0       1.0       2.0  0.0   \n",
       "3        Abbotsford      2    h  1636000.0    3067.0       1.0       1.0  2.0   \n",
       "4        Abbotsford      2    h  1097000.0    3067.0       1.0       1.0  2.0   \n",
       "...             ...    ...  ...        ...       ...       ...       ...  ...   \n",
       "9237  Wheelers Hill      4    h  1245000.0    3150.0       3.0       2.0  2.0   \n",
       "9238   Williamstown      3    h  1031000.0    3016.0       2.0       2.0  2.0   \n",
       "9239   Williamstown      3    h  1170000.0    3016.0       2.0       2.0  3.0   \n",
       "9240   Williamstown      4    h  2500000.0    3016.0       2.0       1.0  3.0   \n",
       "9241     Yarraville      4    h  1285000.0    3013.0       2.0       1.0  1.0   \n",
       "\n",
       "      Landsize  CouncilArea  zipcode  airbnb_record_count  \\\n",
       "0        202.0        Yarra   3067.0                258.0   \n",
       "1        181.0        Yarra   3067.0                258.0   \n",
       "2        245.0        Yarra   3067.0                258.0   \n",
       "3        256.0        Yarra   3067.0                258.0   \n",
       "4        220.0        Yarra   3067.0                258.0   \n",
       "...        ...          ...      ...                  ...   \n",
       "9237     652.0       Monash   3150.0                189.0   \n",
       "9238     333.0  Hobsons Bay   3016.0                 74.0   \n",
       "9239     436.0  Hobsons Bay   3016.0                 74.0   \n",
       "9240     866.0  Hobsons Bay   3016.0                 74.0   \n",
       "9241     362.0  Maribyrnong   3013.0                 82.0   \n",
       "\n",
       "      airbnb_price_day_mean  \n",
       "0                130.624031  \n",
       "1                130.624031  \n",
       "2                130.624031  \n",
       "3                130.624031  \n",
       "4                130.624031  \n",
       "...                     ...  \n",
       "9237             124.026455  \n",
       "9238             191.094595  \n",
       "9239             191.094595  \n",
       "9240             191.094595  \n",
       "9241             135.609756  \n",
       "\n",
       "[9242 rows x 13 columns]"
      ]
     },
     "execution_count": 104,
     "metadata": {},
     "output_type": "execute_result"
    }
   ],
   "source": [
    "merged_df"
   ]
  },
  {
   "cell_type": "code",
   "execution_count": 105,
   "metadata": {},
   "outputs": [
    {
     "data": {
      "text/plain": [
       "Suburb                   False\n",
       "Rooms                    False\n",
       "Type                     False\n",
       "Price                    False\n",
       "Postcode                 False\n",
       "Distance                 False\n",
       "Bathroom                 False\n",
       "Car                      False\n",
       "Landsize                 False\n",
       "CouncilArea               True\n",
       "zipcode                   True\n",
       "airbnb_record_count       True\n",
       "airbnb_price_day_mean     True\n",
       "dtype: bool"
      ]
     },
     "execution_count": 105,
     "metadata": {},
     "output_type": "execute_result"
    }
   ],
   "source": [
    "merged_df.isna().any()\n",
    "#observamos los valores true en las variables que tienen valores nulos."
   ]
  },
  {
   "cell_type": "code",
   "execution_count": 106,
   "metadata": {},
   "outputs": [],
   "source": [
    "# Get CouncilArea & Suburb dummies\n",
    "dummies_variables = merged_df[['CouncilArea','Suburb']]\n",
    "df_dummies = pandas.get_dummies(dummies_variables,dummy_na=True)\n",
    "\n",
    "#borro las columnas generadas con nan. Se pone en las columnas correspondientes un nan y no un 0.\n",
    "nan_df = df_dummies.loc[:, df_dummies.columns.str.endswith(\"_nan\")]\n",
    "pattern = \"^([^_]*)_\"\n",
    "regex = re.compile(pattern)\n",
    "\n",
    "for index in df_dummies.index:\n",
    "    for col_nan in nan_df.columns:\n",
    "        if df_dummies.loc[index,col_nan] == 1:\n",
    "            col_id = regex.search(col_nan).group(1)\n",
    "            targets = df_dummies.columns[df_dummies.columns.str.startswith(col_id+'_')]\n",
    "            df_dummies.loc[index, targets] = numpy.nan\n",
    "            \n",
    "df_dummies.drop(df_dummies.columns[df_dummies.columns.str.endswith('_nan')], axis=1, inplace=True)\n",
    "\n",
    "# Inputing by suburb\n",
    "imputer = KNNImputer(n_neighbors=5)\n",
    "df_dummies = pandas.DataFrame(imputer.fit_transform(df_dummies),columns = df_dummies.columns)\n",
    "\n",
    "# Concat new dummies vars and drop unused columns\n",
    "df = pandas.concat([merged_df,df_dummies],axis=1)\n",
    "df=df.drop([\"CouncilArea\"],axis=1)\n",
    "df=df.drop([\"Suburb\"],axis=1)"
   ]
  },
  {
   "cell_type": "code",
   "execution_count": 107,
   "metadata": {},
   "outputs": [
    {
     "data": {
      "text/html": [
       "<div>\n",
       "<style scoped>\n",
       "    .dataframe tbody tr th:only-of-type {\n",
       "        vertical-align: middle;\n",
       "    }\n",
       "\n",
       "    .dataframe tbody tr th {\n",
       "        vertical-align: top;\n",
       "    }\n",
       "\n",
       "    .dataframe thead th {\n",
       "        text-align: right;\n",
       "    }\n",
       "</style>\n",
       "<table border=\"1\" class=\"dataframe\">\n",
       "  <thead>\n",
       "    <tr style=\"text-align: right;\">\n",
       "      <th></th>\n",
       "      <th>Rooms</th>\n",
       "      <th>Price</th>\n",
       "      <th>Postcode</th>\n",
       "      <th>Distance</th>\n",
       "      <th>Bathroom</th>\n",
       "      <th>Car</th>\n",
       "      <th>Landsize</th>\n",
       "      <th>zipcode</th>\n",
       "      <th>airbnb_record_count</th>\n",
       "      <th>airbnb_price_day_mean</th>\n",
       "      <th>...</th>\n",
       "      <th>Suburb_Williamstown North</th>\n",
       "      <th>Suburb_Windsor</th>\n",
       "      <th>Suburb_Wollert</th>\n",
       "      <th>Suburb_Wyndham Vale</th>\n",
       "      <th>Suburb_Yallambie</th>\n",
       "      <th>Suburb_Yarra Glen</th>\n",
       "      <th>Suburb_Yarraville</th>\n",
       "      <th>Type_h</th>\n",
       "      <th>Type_t</th>\n",
       "      <th>Type_u</th>\n",
       "    </tr>\n",
       "  </thead>\n",
       "  <tbody>\n",
       "    <tr>\n",
       "      <th>0</th>\n",
       "      <td>0.333333</td>\n",
       "      <td>0.152103</td>\n",
       "      <td>0.068577</td>\n",
       "      <td>0.0</td>\n",
       "      <td>0.2</td>\n",
       "      <td>0.333333</td>\n",
       "      <td>0.032988</td>\n",
       "      <td>0.068577</td>\n",
       "      <td>0.076352</td>\n",
       "      <td>0.126027</td>\n",
       "      <td>...</td>\n",
       "      <td>0.0</td>\n",
       "      <td>0.0</td>\n",
       "      <td>0.0</td>\n",
       "      <td>0.0</td>\n",
       "      <td>0.0</td>\n",
       "      <td>0.0</td>\n",
       "      <td>0.0</td>\n",
       "      <td>1.0</td>\n",
       "      <td>0.0</td>\n",
       "      <td>0.0</td>\n",
       "    </tr>\n",
       "    <tr>\n",
       "      <th>1</th>\n",
       "      <td>0.333333</td>\n",
       "      <td>0.091329</td>\n",
       "      <td>0.068577</td>\n",
       "      <td>0.0</td>\n",
       "      <td>0.2</td>\n",
       "      <td>0.000000</td>\n",
       "      <td>0.013195</td>\n",
       "      <td>0.068577</td>\n",
       "      <td>0.076352</td>\n",
       "      <td>0.126027</td>\n",
       "      <td>...</td>\n",
       "      <td>0.0</td>\n",
       "      <td>0.0</td>\n",
       "      <td>0.0</td>\n",
       "      <td>0.0</td>\n",
       "      <td>0.0</td>\n",
       "      <td>0.0</td>\n",
       "      <td>0.0</td>\n",
       "      <td>1.0</td>\n",
       "      <td>0.0</td>\n",
       "      <td>0.0</td>\n",
       "    </tr>\n",
       "    <tr>\n",
       "      <th>2</th>\n",
       "      <td>0.666667</td>\n",
       "      <td>0.196753</td>\n",
       "      <td>0.068577</td>\n",
       "      <td>0.0</td>\n",
       "      <td>0.4</td>\n",
       "      <td>0.000000</td>\n",
       "      <td>0.073516</td>\n",
       "      <td>0.068577</td>\n",
       "      <td>0.076352</td>\n",
       "      <td>0.126027</td>\n",
       "      <td>...</td>\n",
       "      <td>0.0</td>\n",
       "      <td>0.0</td>\n",
       "      <td>0.0</td>\n",
       "      <td>0.0</td>\n",
       "      <td>0.0</td>\n",
       "      <td>0.0</td>\n",
       "      <td>0.0</td>\n",
       "      <td>1.0</td>\n",
       "      <td>0.0</td>\n",
       "      <td>0.0</td>\n",
       "    </tr>\n",
       "    <tr>\n",
       "      <th>3</th>\n",
       "      <td>0.333333</td>\n",
       "      <td>0.169692</td>\n",
       "      <td>0.068577</td>\n",
       "      <td>0.0</td>\n",
       "      <td>0.2</td>\n",
       "      <td>0.666667</td>\n",
       "      <td>0.083883</td>\n",
       "      <td>0.068577</td>\n",
       "      <td>0.076352</td>\n",
       "      <td>0.126027</td>\n",
       "      <td>...</td>\n",
       "      <td>0.0</td>\n",
       "      <td>0.0</td>\n",
       "      <td>0.0</td>\n",
       "      <td>0.0</td>\n",
       "      <td>0.0</td>\n",
       "      <td>0.0</td>\n",
       "      <td>0.0</td>\n",
       "      <td>1.0</td>\n",
       "      <td>0.0</td>\n",
       "      <td>0.0</td>\n",
       "    </tr>\n",
       "    <tr>\n",
       "      <th>4</th>\n",
       "      <td>0.333333</td>\n",
       "      <td>0.108919</td>\n",
       "      <td>0.068577</td>\n",
       "      <td>0.0</td>\n",
       "      <td>0.2</td>\n",
       "      <td>0.666667</td>\n",
       "      <td>0.049953</td>\n",
       "      <td>0.068577</td>\n",
       "      <td>0.076352</td>\n",
       "      <td>0.126027</td>\n",
       "      <td>...</td>\n",
       "      <td>0.0</td>\n",
       "      <td>0.0</td>\n",
       "      <td>0.0</td>\n",
       "      <td>0.0</td>\n",
       "      <td>0.0</td>\n",
       "      <td>0.0</td>\n",
       "      <td>0.0</td>\n",
       "      <td>1.0</td>\n",
       "      <td>0.0</td>\n",
       "      <td>0.0</td>\n",
       "    </tr>\n",
       "    <tr>\n",
       "      <th>...</th>\n",
       "      <td>...</td>\n",
       "      <td>...</td>\n",
       "      <td>...</td>\n",
       "      <td>...</td>\n",
       "      <td>...</td>\n",
       "      <td>...</td>\n",
       "      <td>...</td>\n",
       "      <td>...</td>\n",
       "      <td>...</td>\n",
       "      <td>...</td>\n",
       "      <td>...</td>\n",
       "      <td>...</td>\n",
       "      <td>...</td>\n",
       "      <td>...</td>\n",
       "      <td>...</td>\n",
       "      <td>...</td>\n",
       "      <td>...</td>\n",
       "      <td>...</td>\n",
       "      <td>...</td>\n",
       "      <td>...</td>\n",
       "      <td>...</td>\n",
       "    </tr>\n",
       "    <tr>\n",
       "      <th>9237</th>\n",
       "      <td>1.000000</td>\n",
       "      <td>0.125606</td>\n",
       "      <td>0.153531</td>\n",
       "      <td>1.0</td>\n",
       "      <td>0.4</td>\n",
       "      <td>0.666667</td>\n",
       "      <td>0.457116</td>\n",
       "      <td>0.153531</td>\n",
       "      <td>0.055853</td>\n",
       "      <td>0.116852</td>\n",
       "      <td>...</td>\n",
       "      <td>0.0</td>\n",
       "      <td>0.0</td>\n",
       "      <td>0.0</td>\n",
       "      <td>0.0</td>\n",
       "      <td>0.0</td>\n",
       "      <td>0.0</td>\n",
       "      <td>0.0</td>\n",
       "      <td>1.0</td>\n",
       "      <td>0.0</td>\n",
       "      <td>0.0</td>\n",
       "    </tr>\n",
       "    <tr>\n",
       "      <th>9238</th>\n",
       "      <td>0.666667</td>\n",
       "      <td>0.101477</td>\n",
       "      <td>0.016377</td>\n",
       "      <td>0.5</td>\n",
       "      <td>0.4</td>\n",
       "      <td>0.666667</td>\n",
       "      <td>0.156456</td>\n",
       "      <td>0.016377</td>\n",
       "      <td>0.021687</td>\n",
       "      <td>0.210121</td>\n",
       "      <td>...</td>\n",
       "      <td>0.0</td>\n",
       "      <td>0.0</td>\n",
       "      <td>0.0</td>\n",
       "      <td>0.0</td>\n",
       "      <td>0.0</td>\n",
       "      <td>0.0</td>\n",
       "      <td>0.0</td>\n",
       "      <td>1.0</td>\n",
       "      <td>0.0</td>\n",
       "      <td>0.0</td>\n",
       "    </tr>\n",
       "    <tr>\n",
       "      <th>9239</th>\n",
       "      <td>0.666667</td>\n",
       "      <td>0.117150</td>\n",
       "      <td>0.016377</td>\n",
       "      <td>0.5</td>\n",
       "      <td>0.4</td>\n",
       "      <td>1.000000</td>\n",
       "      <td>0.253534</td>\n",
       "      <td>0.016377</td>\n",
       "      <td>0.021687</td>\n",
       "      <td>0.210121</td>\n",
       "      <td>...</td>\n",
       "      <td>0.0</td>\n",
       "      <td>0.0</td>\n",
       "      <td>0.0</td>\n",
       "      <td>0.0</td>\n",
       "      <td>0.0</td>\n",
       "      <td>0.0</td>\n",
       "      <td>0.0</td>\n",
       "      <td>1.0</td>\n",
       "      <td>0.0</td>\n",
       "      <td>0.0</td>\n",
       "    </tr>\n",
       "    <tr>\n",
       "      <th>9240</th>\n",
       "      <td>1.000000</td>\n",
       "      <td>0.267110</td>\n",
       "      <td>0.016377</td>\n",
       "      <td>0.5</td>\n",
       "      <td>0.2</td>\n",
       "      <td>1.000000</td>\n",
       "      <td>0.658812</td>\n",
       "      <td>0.016377</td>\n",
       "      <td>0.021687</td>\n",
       "      <td>0.210121</td>\n",
       "      <td>...</td>\n",
       "      <td>0.0</td>\n",
       "      <td>0.0</td>\n",
       "      <td>0.0</td>\n",
       "      <td>0.0</td>\n",
       "      <td>0.0</td>\n",
       "      <td>0.0</td>\n",
       "      <td>0.0</td>\n",
       "      <td>1.0</td>\n",
       "      <td>0.0</td>\n",
       "      <td>0.0</td>\n",
       "    </tr>\n",
       "    <tr>\n",
       "      <th>9241</th>\n",
       "      <td>1.000000</td>\n",
       "      <td>0.130116</td>\n",
       "      <td>0.013306</td>\n",
       "      <td>0.5</td>\n",
       "      <td>0.2</td>\n",
       "      <td>0.333333</td>\n",
       "      <td>0.183789</td>\n",
       "      <td>0.013306</td>\n",
       "      <td>0.024064</td>\n",
       "      <td>0.132961</td>\n",
       "      <td>...</td>\n",
       "      <td>0.0</td>\n",
       "      <td>0.0</td>\n",
       "      <td>0.0</td>\n",
       "      <td>0.0</td>\n",
       "      <td>0.0</td>\n",
       "      <td>0.0</td>\n",
       "      <td>1.0</td>\n",
       "      <td>1.0</td>\n",
       "      <td>0.0</td>\n",
       "      <td>0.0</td>\n",
       "    </tr>\n",
       "  </tbody>\n",
       "</table>\n",
       "<p>9242 rows × 351 columns</p>\n",
       "</div>"
      ],
      "text/plain": [
       "         Rooms     Price  Postcode  Distance  Bathroom       Car  Landsize  \\\n",
       "0     0.333333  0.152103  0.068577       0.0       0.2  0.333333  0.032988   \n",
       "1     0.333333  0.091329  0.068577       0.0       0.2  0.000000  0.013195   \n",
       "2     0.666667  0.196753  0.068577       0.0       0.4  0.000000  0.073516   \n",
       "3     0.333333  0.169692  0.068577       0.0       0.2  0.666667  0.083883   \n",
       "4     0.333333  0.108919  0.068577       0.0       0.2  0.666667  0.049953   \n",
       "...        ...       ...       ...       ...       ...       ...       ...   \n",
       "9237  1.000000  0.125606  0.153531       1.0       0.4  0.666667  0.457116   \n",
       "9238  0.666667  0.101477  0.016377       0.5       0.4  0.666667  0.156456   \n",
       "9239  0.666667  0.117150  0.016377       0.5       0.4  1.000000  0.253534   \n",
       "9240  1.000000  0.267110  0.016377       0.5       0.2  1.000000  0.658812   \n",
       "9241  1.000000  0.130116  0.013306       0.5       0.2  0.333333  0.183789   \n",
       "\n",
       "       zipcode  airbnb_record_count  airbnb_price_day_mean  ...  \\\n",
       "0     0.068577             0.076352               0.126027  ...   \n",
       "1     0.068577             0.076352               0.126027  ...   \n",
       "2     0.068577             0.076352               0.126027  ...   \n",
       "3     0.068577             0.076352               0.126027  ...   \n",
       "4     0.068577             0.076352               0.126027  ...   \n",
       "...        ...                  ...                    ...  ...   \n",
       "9237  0.153531             0.055853               0.116852  ...   \n",
       "9238  0.016377             0.021687               0.210121  ...   \n",
       "9239  0.016377             0.021687               0.210121  ...   \n",
       "9240  0.016377             0.021687               0.210121  ...   \n",
       "9241  0.013306             0.024064               0.132961  ...   \n",
       "\n",
       "      Suburb_Williamstown North  Suburb_Windsor  Suburb_Wollert  \\\n",
       "0                           0.0             0.0             0.0   \n",
       "1                           0.0             0.0             0.0   \n",
       "2                           0.0             0.0             0.0   \n",
       "3                           0.0             0.0             0.0   \n",
       "4                           0.0             0.0             0.0   \n",
       "...                         ...             ...             ...   \n",
       "9237                        0.0             0.0             0.0   \n",
       "9238                        0.0             0.0             0.0   \n",
       "9239                        0.0             0.0             0.0   \n",
       "9240                        0.0             0.0             0.0   \n",
       "9241                        0.0             0.0             0.0   \n",
       "\n",
       "      Suburb_Wyndham Vale  Suburb_Yallambie  Suburb_Yarra Glen  \\\n",
       "0                     0.0               0.0                0.0   \n",
       "1                     0.0               0.0                0.0   \n",
       "2                     0.0               0.0                0.0   \n",
       "3                     0.0               0.0                0.0   \n",
       "4                     0.0               0.0                0.0   \n",
       "...                   ...               ...                ...   \n",
       "9237                  0.0               0.0                0.0   \n",
       "9238                  0.0               0.0                0.0   \n",
       "9239                  0.0               0.0                0.0   \n",
       "9240                  0.0               0.0                0.0   \n",
       "9241                  0.0               0.0                0.0   \n",
       "\n",
       "      Suburb_Yarraville  Type_h  Type_t  Type_u  \n",
       "0                   0.0     1.0     0.0     0.0  \n",
       "1                   0.0     1.0     0.0     0.0  \n",
       "2                   0.0     1.0     0.0     0.0  \n",
       "3                   0.0     1.0     0.0     0.0  \n",
       "4                   0.0     1.0     0.0     0.0  \n",
       "...                 ...     ...     ...     ...  \n",
       "9237                0.0     1.0     0.0     0.0  \n",
       "9238                0.0     1.0     0.0     0.0  \n",
       "9239                0.0     1.0     0.0     0.0  \n",
       "9240                0.0     1.0     0.0     0.0  \n",
       "9241                1.0     1.0     0.0     0.0  \n",
       "\n",
       "[9242 rows x 351 columns]"
      ]
     },
     "execution_count": 107,
     "metadata": {},
     "output_type": "execute_result"
    }
   ],
   "source": [
    "# Get dummies for Type\n",
    "new_dummies_variables = df[['Type']]\n",
    "new_df_dummies = pandas.get_dummies(new_dummies_variables)\n",
    "\n",
    "## Concat type dummies\n",
    "new_df = pandas.concat([df,new_df_dummies],axis=1)\n",
    "new_df = new_df.drop(['Type'],axis=1)\n",
    "\n",
    "# Scalling\n",
    "scaler = MinMaxScaler()\n",
    "new_df = pandas.DataFrame(scaler.fit_transform(new_df), columns = new_df.columns)\n",
    "\n",
    "# Inputing rest of the missing values\n",
    "imputer = KNNImputer(n_neighbors=5)\n",
    "new_df = pandas.DataFrame(imputer.fit_transform(new_df),columns = new_df.columns)\n",
    "new_df"
   ]
  },
  {
   "cell_type": "code",
   "execution_count": 108,
   "metadata": {},
   "outputs": [
    {
     "name": "stdout",
     "output_type": "stream",
     "text": [
      "Hay 0 valores con nulos\n"
     ]
    }
   ],
   "source": [
    "print(f\"Hay {new_df.isna().any().head(60).sum()} valores con nulos\")\n",
    "#No hay mas valores nulos en el df"
   ]
  },
  {
   "cell_type": "markdown",
   "metadata": {},
   "source": [
    "Se elimina los dummies que comienzan con \"suburb\" ya que fueron utilizadas en la imputación de CouncilArea utilizando esta variable como variable de región.\n",
    "\n",
    "También sacamos zipcode y postcode debido a que fueron utilizados para la realización del merge y no lo utilizaremos para predecir el precio."
   ]
  },
  {
   "cell_type": "code",
   "execution_count": 109,
   "metadata": {},
   "outputs": [],
   "source": [
    "new_df.drop(new_df.columns[new_df.columns.str.startswith('Suburb_')], axis=1, inplace=True)"
   ]
  },
  {
   "cell_type": "code",
   "execution_count": 110,
   "metadata": {},
   "outputs": [],
   "source": [
    "new_df.drop(['zipcode','Postcode'] ,axis=1, inplace=True)"
   ]
  },
  {
   "cell_type": "code",
   "execution_count": 111,
   "metadata": {},
   "outputs": [
    {
     "data": {
      "text/html": [
       "<div>\n",
       "<style scoped>\n",
       "    .dataframe tbody tr th:only-of-type {\n",
       "        vertical-align: middle;\n",
       "    }\n",
       "\n",
       "    .dataframe tbody tr th {\n",
       "        vertical-align: top;\n",
       "    }\n",
       "\n",
       "    .dataframe thead th {\n",
       "        text-align: right;\n",
       "    }\n",
       "</style>\n",
       "<table border=\"1\" class=\"dataframe\">\n",
       "  <thead>\n",
       "    <tr style=\"text-align: right;\">\n",
       "      <th></th>\n",
       "      <th>Rooms</th>\n",
       "      <th>Price</th>\n",
       "      <th>Distance</th>\n",
       "      <th>Bathroom</th>\n",
       "      <th>Car</th>\n",
       "      <th>Landsize</th>\n",
       "      <th>airbnb_record_count</th>\n",
       "      <th>airbnb_price_day_mean</th>\n",
       "      <th>CouncilArea_Banyule</th>\n",
       "      <th>CouncilArea_Bayside</th>\n",
       "      <th>...</th>\n",
       "      <th>CouncilArea_Port Phillip</th>\n",
       "      <th>CouncilArea_Stonnington</th>\n",
       "      <th>CouncilArea_Whitehorse</th>\n",
       "      <th>CouncilArea_Whittlesea</th>\n",
       "      <th>CouncilArea_Wyndham</th>\n",
       "      <th>CouncilArea_Yarra</th>\n",
       "      <th>CouncilArea_Yarra Ranges</th>\n",
       "      <th>Type_h</th>\n",
       "      <th>Type_t</th>\n",
       "      <th>Type_u</th>\n",
       "    </tr>\n",
       "  </thead>\n",
       "  <tbody>\n",
       "    <tr>\n",
       "      <th>0</th>\n",
       "      <td>0.333333</td>\n",
       "      <td>0.152103</td>\n",
       "      <td>0.0</td>\n",
       "      <td>0.2</td>\n",
       "      <td>0.333333</td>\n",
       "      <td>0.032988</td>\n",
       "      <td>0.076352</td>\n",
       "      <td>0.126027</td>\n",
       "      <td>0.0</td>\n",
       "      <td>0.0</td>\n",
       "      <td>...</td>\n",
       "      <td>0.0</td>\n",
       "      <td>0.0</td>\n",
       "      <td>0.0</td>\n",
       "      <td>0.0</td>\n",
       "      <td>0.0</td>\n",
       "      <td>1.0</td>\n",
       "      <td>0.0</td>\n",
       "      <td>1.0</td>\n",
       "      <td>0.0</td>\n",
       "      <td>0.0</td>\n",
       "    </tr>\n",
       "    <tr>\n",
       "      <th>1</th>\n",
       "      <td>0.333333</td>\n",
       "      <td>0.091329</td>\n",
       "      <td>0.0</td>\n",
       "      <td>0.2</td>\n",
       "      <td>0.000000</td>\n",
       "      <td>0.013195</td>\n",
       "      <td>0.076352</td>\n",
       "      <td>0.126027</td>\n",
       "      <td>0.0</td>\n",
       "      <td>0.0</td>\n",
       "      <td>...</td>\n",
       "      <td>0.0</td>\n",
       "      <td>0.0</td>\n",
       "      <td>0.0</td>\n",
       "      <td>0.0</td>\n",
       "      <td>0.0</td>\n",
       "      <td>1.0</td>\n",
       "      <td>0.0</td>\n",
       "      <td>1.0</td>\n",
       "      <td>0.0</td>\n",
       "      <td>0.0</td>\n",
       "    </tr>\n",
       "    <tr>\n",
       "      <th>2</th>\n",
       "      <td>0.666667</td>\n",
       "      <td>0.196753</td>\n",
       "      <td>0.0</td>\n",
       "      <td>0.4</td>\n",
       "      <td>0.000000</td>\n",
       "      <td>0.073516</td>\n",
       "      <td>0.076352</td>\n",
       "      <td>0.126027</td>\n",
       "      <td>0.0</td>\n",
       "      <td>0.0</td>\n",
       "      <td>...</td>\n",
       "      <td>0.0</td>\n",
       "      <td>0.0</td>\n",
       "      <td>0.0</td>\n",
       "      <td>0.0</td>\n",
       "      <td>0.0</td>\n",
       "      <td>1.0</td>\n",
       "      <td>0.0</td>\n",
       "      <td>1.0</td>\n",
       "      <td>0.0</td>\n",
       "      <td>0.0</td>\n",
       "    </tr>\n",
       "    <tr>\n",
       "      <th>3</th>\n",
       "      <td>0.333333</td>\n",
       "      <td>0.169692</td>\n",
       "      <td>0.0</td>\n",
       "      <td>0.2</td>\n",
       "      <td>0.666667</td>\n",
       "      <td>0.083883</td>\n",
       "      <td>0.076352</td>\n",
       "      <td>0.126027</td>\n",
       "      <td>0.0</td>\n",
       "      <td>0.0</td>\n",
       "      <td>...</td>\n",
       "      <td>0.0</td>\n",
       "      <td>0.0</td>\n",
       "      <td>0.0</td>\n",
       "      <td>0.0</td>\n",
       "      <td>0.0</td>\n",
       "      <td>1.0</td>\n",
       "      <td>0.0</td>\n",
       "      <td>1.0</td>\n",
       "      <td>0.0</td>\n",
       "      <td>0.0</td>\n",
       "    </tr>\n",
       "    <tr>\n",
       "      <th>4</th>\n",
       "      <td>0.333333</td>\n",
       "      <td>0.108919</td>\n",
       "      <td>0.0</td>\n",
       "      <td>0.2</td>\n",
       "      <td>0.666667</td>\n",
       "      <td>0.049953</td>\n",
       "      <td>0.076352</td>\n",
       "      <td>0.126027</td>\n",
       "      <td>0.0</td>\n",
       "      <td>0.0</td>\n",
       "      <td>...</td>\n",
       "      <td>0.0</td>\n",
       "      <td>0.0</td>\n",
       "      <td>0.0</td>\n",
       "      <td>0.0</td>\n",
       "      <td>0.0</td>\n",
       "      <td>1.0</td>\n",
       "      <td>0.0</td>\n",
       "      <td>1.0</td>\n",
       "      <td>0.0</td>\n",
       "      <td>0.0</td>\n",
       "    </tr>\n",
       "    <tr>\n",
       "      <th>...</th>\n",
       "      <td>...</td>\n",
       "      <td>...</td>\n",
       "      <td>...</td>\n",
       "      <td>...</td>\n",
       "      <td>...</td>\n",
       "      <td>...</td>\n",
       "      <td>...</td>\n",
       "      <td>...</td>\n",
       "      <td>...</td>\n",
       "      <td>...</td>\n",
       "      <td>...</td>\n",
       "      <td>...</td>\n",
       "      <td>...</td>\n",
       "      <td>...</td>\n",
       "      <td>...</td>\n",
       "      <td>...</td>\n",
       "      <td>...</td>\n",
       "      <td>...</td>\n",
       "      <td>...</td>\n",
       "      <td>...</td>\n",
       "      <td>...</td>\n",
       "    </tr>\n",
       "    <tr>\n",
       "      <th>9237</th>\n",
       "      <td>1.000000</td>\n",
       "      <td>0.125606</td>\n",
       "      <td>1.0</td>\n",
       "      <td>0.4</td>\n",
       "      <td>0.666667</td>\n",
       "      <td>0.457116</td>\n",
       "      <td>0.055853</td>\n",
       "      <td>0.116852</td>\n",
       "      <td>0.0</td>\n",
       "      <td>0.0</td>\n",
       "      <td>...</td>\n",
       "      <td>0.0</td>\n",
       "      <td>0.0</td>\n",
       "      <td>0.0</td>\n",
       "      <td>0.0</td>\n",
       "      <td>0.0</td>\n",
       "      <td>0.0</td>\n",
       "      <td>0.0</td>\n",
       "      <td>1.0</td>\n",
       "      <td>0.0</td>\n",
       "      <td>0.0</td>\n",
       "    </tr>\n",
       "    <tr>\n",
       "      <th>9238</th>\n",
       "      <td>0.666667</td>\n",
       "      <td>0.101477</td>\n",
       "      <td>0.5</td>\n",
       "      <td>0.4</td>\n",
       "      <td>0.666667</td>\n",
       "      <td>0.156456</td>\n",
       "      <td>0.021687</td>\n",
       "      <td>0.210121</td>\n",
       "      <td>0.0</td>\n",
       "      <td>0.0</td>\n",
       "      <td>...</td>\n",
       "      <td>0.0</td>\n",
       "      <td>0.0</td>\n",
       "      <td>0.0</td>\n",
       "      <td>0.0</td>\n",
       "      <td>0.0</td>\n",
       "      <td>0.0</td>\n",
       "      <td>0.0</td>\n",
       "      <td>1.0</td>\n",
       "      <td>0.0</td>\n",
       "      <td>0.0</td>\n",
       "    </tr>\n",
       "    <tr>\n",
       "      <th>9239</th>\n",
       "      <td>0.666667</td>\n",
       "      <td>0.117150</td>\n",
       "      <td>0.5</td>\n",
       "      <td>0.4</td>\n",
       "      <td>1.000000</td>\n",
       "      <td>0.253534</td>\n",
       "      <td>0.021687</td>\n",
       "      <td>0.210121</td>\n",
       "      <td>0.0</td>\n",
       "      <td>0.0</td>\n",
       "      <td>...</td>\n",
       "      <td>0.0</td>\n",
       "      <td>0.0</td>\n",
       "      <td>0.0</td>\n",
       "      <td>0.0</td>\n",
       "      <td>0.0</td>\n",
       "      <td>0.0</td>\n",
       "      <td>0.0</td>\n",
       "      <td>1.0</td>\n",
       "      <td>0.0</td>\n",
       "      <td>0.0</td>\n",
       "    </tr>\n",
       "    <tr>\n",
       "      <th>9240</th>\n",
       "      <td>1.000000</td>\n",
       "      <td>0.267110</td>\n",
       "      <td>0.5</td>\n",
       "      <td>0.2</td>\n",
       "      <td>1.000000</td>\n",
       "      <td>0.658812</td>\n",
       "      <td>0.021687</td>\n",
       "      <td>0.210121</td>\n",
       "      <td>0.0</td>\n",
       "      <td>0.0</td>\n",
       "      <td>...</td>\n",
       "      <td>0.0</td>\n",
       "      <td>0.0</td>\n",
       "      <td>0.0</td>\n",
       "      <td>0.0</td>\n",
       "      <td>0.0</td>\n",
       "      <td>0.0</td>\n",
       "      <td>0.0</td>\n",
       "      <td>1.0</td>\n",
       "      <td>0.0</td>\n",
       "      <td>0.0</td>\n",
       "    </tr>\n",
       "    <tr>\n",
       "      <th>9241</th>\n",
       "      <td>1.000000</td>\n",
       "      <td>0.130116</td>\n",
       "      <td>0.5</td>\n",
       "      <td>0.2</td>\n",
       "      <td>0.333333</td>\n",
       "      <td>0.183789</td>\n",
       "      <td>0.024064</td>\n",
       "      <td>0.132961</td>\n",
       "      <td>0.0</td>\n",
       "      <td>0.0</td>\n",
       "      <td>...</td>\n",
       "      <td>0.0</td>\n",
       "      <td>0.0</td>\n",
       "      <td>0.0</td>\n",
       "      <td>0.0</td>\n",
       "      <td>0.0</td>\n",
       "      <td>0.0</td>\n",
       "      <td>0.0</td>\n",
       "      <td>1.0</td>\n",
       "      <td>0.0</td>\n",
       "      <td>0.0</td>\n",
       "    </tr>\n",
       "  </tbody>\n",
       "</table>\n",
       "<p>9242 rows × 43 columns</p>\n",
       "</div>"
      ],
      "text/plain": [
       "         Rooms     Price  Distance  Bathroom       Car  Landsize  \\\n",
       "0     0.333333  0.152103       0.0       0.2  0.333333  0.032988   \n",
       "1     0.333333  0.091329       0.0       0.2  0.000000  0.013195   \n",
       "2     0.666667  0.196753       0.0       0.4  0.000000  0.073516   \n",
       "3     0.333333  0.169692       0.0       0.2  0.666667  0.083883   \n",
       "4     0.333333  0.108919       0.0       0.2  0.666667  0.049953   \n",
       "...        ...       ...       ...       ...       ...       ...   \n",
       "9237  1.000000  0.125606       1.0       0.4  0.666667  0.457116   \n",
       "9238  0.666667  0.101477       0.5       0.4  0.666667  0.156456   \n",
       "9239  0.666667  0.117150       0.5       0.4  1.000000  0.253534   \n",
       "9240  1.000000  0.267110       0.5       0.2  1.000000  0.658812   \n",
       "9241  1.000000  0.130116       0.5       0.2  0.333333  0.183789   \n",
       "\n",
       "      airbnb_record_count  airbnb_price_day_mean  CouncilArea_Banyule  \\\n",
       "0                0.076352               0.126027                  0.0   \n",
       "1                0.076352               0.126027                  0.0   \n",
       "2                0.076352               0.126027                  0.0   \n",
       "3                0.076352               0.126027                  0.0   \n",
       "4                0.076352               0.126027                  0.0   \n",
       "...                   ...                    ...                  ...   \n",
       "9237             0.055853               0.116852                  0.0   \n",
       "9238             0.021687               0.210121                  0.0   \n",
       "9239             0.021687               0.210121                  0.0   \n",
       "9240             0.021687               0.210121                  0.0   \n",
       "9241             0.024064               0.132961                  0.0   \n",
       "\n",
       "      CouncilArea_Bayside  ...  CouncilArea_Port Phillip  \\\n",
       "0                     0.0  ...                       0.0   \n",
       "1                     0.0  ...                       0.0   \n",
       "2                     0.0  ...                       0.0   \n",
       "3                     0.0  ...                       0.0   \n",
       "4                     0.0  ...                       0.0   \n",
       "...                   ...  ...                       ...   \n",
       "9237                  0.0  ...                       0.0   \n",
       "9238                  0.0  ...                       0.0   \n",
       "9239                  0.0  ...                       0.0   \n",
       "9240                  0.0  ...                       0.0   \n",
       "9241                  0.0  ...                       0.0   \n",
       "\n",
       "      CouncilArea_Stonnington  CouncilArea_Whitehorse  CouncilArea_Whittlesea  \\\n",
       "0                         0.0                     0.0                     0.0   \n",
       "1                         0.0                     0.0                     0.0   \n",
       "2                         0.0                     0.0                     0.0   \n",
       "3                         0.0                     0.0                     0.0   \n",
       "4                         0.0                     0.0                     0.0   \n",
       "...                       ...                     ...                     ...   \n",
       "9237                      0.0                     0.0                     0.0   \n",
       "9238                      0.0                     0.0                     0.0   \n",
       "9239                      0.0                     0.0                     0.0   \n",
       "9240                      0.0                     0.0                     0.0   \n",
       "9241                      0.0                     0.0                     0.0   \n",
       "\n",
       "      CouncilArea_Wyndham  CouncilArea_Yarra  CouncilArea_Yarra Ranges  \\\n",
       "0                     0.0                1.0                       0.0   \n",
       "1                     0.0                1.0                       0.0   \n",
       "2                     0.0                1.0                       0.0   \n",
       "3                     0.0                1.0                       0.0   \n",
       "4                     0.0                1.0                       0.0   \n",
       "...                   ...                ...                       ...   \n",
       "9237                  0.0                0.0                       0.0   \n",
       "9238                  0.0                0.0                       0.0   \n",
       "9239                  0.0                0.0                       0.0   \n",
       "9240                  0.0                0.0                       0.0   \n",
       "9241                  0.0                0.0                       0.0   \n",
       "\n",
       "      Type_h  Type_t  Type_u  \n",
       "0        1.0     0.0     0.0  \n",
       "1        1.0     0.0     0.0  \n",
       "2        1.0     0.0     0.0  \n",
       "3        1.0     0.0     0.0  \n",
       "4        1.0     0.0     0.0  \n",
       "...      ...     ...     ...  \n",
       "9237     1.0     0.0     0.0  \n",
       "9238     1.0     0.0     0.0  \n",
       "9239     1.0     0.0     0.0  \n",
       "9240     1.0     0.0     0.0  \n",
       "9241     1.0     0.0     0.0  \n",
       "\n",
       "[9242 rows x 43 columns]"
      ]
     },
     "execution_count": 111,
     "metadata": {},
     "output_type": "execute_result"
    }
   ],
   "source": [
    "new_df"
   ]
  },
  {
   "cell_type": "markdown",
   "metadata": {
    "id": "NBN7-5OIxjJW"
   },
   "source": [
    "# Ejercicio 3\n",
    "\n",
    "Crear y guardar un nuevo conjunto de datos con todas las transformaciones realizadas anteriormente."
   ]
  },
  {
   "cell_type": "code",
   "execution_count": 112,
   "metadata": {
    "id": "DfchYPgTxvQ4"
   },
   "outputs": [],
   "source": [
    "new_df.to_csv('Dataframe_melb_B.csv',index=False)"
   ]
  },
  {
   "cell_type": "code",
   "execution_count": 113,
   "metadata": {},
   "outputs": [
    {
     "data": {
      "text/html": [
       "<div>\n",
       "<style scoped>\n",
       "    .dataframe tbody tr th:only-of-type {\n",
       "        vertical-align: middle;\n",
       "    }\n",
       "\n",
       "    .dataframe tbody tr th {\n",
       "        vertical-align: top;\n",
       "    }\n",
       "\n",
       "    .dataframe thead th {\n",
       "        text-align: right;\n",
       "    }\n",
       "</style>\n",
       "<table border=\"1\" class=\"dataframe\">\n",
       "  <thead>\n",
       "    <tr style=\"text-align: right;\">\n",
       "      <th></th>\n",
       "      <th>Rooms</th>\n",
       "      <th>Price</th>\n",
       "      <th>Distance</th>\n",
       "      <th>Bathroom</th>\n",
       "      <th>Car</th>\n",
       "      <th>Landsize</th>\n",
       "      <th>airbnb_record_count</th>\n",
       "      <th>airbnb_price_day_mean</th>\n",
       "      <th>CouncilArea_Banyule</th>\n",
       "      <th>CouncilArea_Bayside</th>\n",
       "      <th>...</th>\n",
       "      <th>CouncilArea_Port Phillip</th>\n",
       "      <th>CouncilArea_Stonnington</th>\n",
       "      <th>CouncilArea_Whitehorse</th>\n",
       "      <th>CouncilArea_Whittlesea</th>\n",
       "      <th>CouncilArea_Wyndham</th>\n",
       "      <th>CouncilArea_Yarra</th>\n",
       "      <th>CouncilArea_Yarra Ranges</th>\n",
       "      <th>Type_h</th>\n",
       "      <th>Type_t</th>\n",
       "      <th>Type_u</th>\n",
       "    </tr>\n",
       "  </thead>\n",
       "  <tbody>\n",
       "    <tr>\n",
       "      <th>0</th>\n",
       "      <td>0.333333</td>\n",
       "      <td>0.152103</td>\n",
       "      <td>0.0</td>\n",
       "      <td>0.2</td>\n",
       "      <td>0.333333</td>\n",
       "      <td>0.032988</td>\n",
       "      <td>0.076352</td>\n",
       "      <td>0.126027</td>\n",
       "      <td>0.0</td>\n",
       "      <td>0.0</td>\n",
       "      <td>...</td>\n",
       "      <td>0.0</td>\n",
       "      <td>0.0</td>\n",
       "      <td>0.0</td>\n",
       "      <td>0.0</td>\n",
       "      <td>0.0</td>\n",
       "      <td>1.0</td>\n",
       "      <td>0.0</td>\n",
       "      <td>1.0</td>\n",
       "      <td>0.0</td>\n",
       "      <td>0.0</td>\n",
       "    </tr>\n",
       "    <tr>\n",
       "      <th>1</th>\n",
       "      <td>0.333333</td>\n",
       "      <td>0.091329</td>\n",
       "      <td>0.0</td>\n",
       "      <td>0.2</td>\n",
       "      <td>0.000000</td>\n",
       "      <td>0.013195</td>\n",
       "      <td>0.076352</td>\n",
       "      <td>0.126027</td>\n",
       "      <td>0.0</td>\n",
       "      <td>0.0</td>\n",
       "      <td>...</td>\n",
       "      <td>0.0</td>\n",
       "      <td>0.0</td>\n",
       "      <td>0.0</td>\n",
       "      <td>0.0</td>\n",
       "      <td>0.0</td>\n",
       "      <td>1.0</td>\n",
       "      <td>0.0</td>\n",
       "      <td>1.0</td>\n",
       "      <td>0.0</td>\n",
       "      <td>0.0</td>\n",
       "    </tr>\n",
       "    <tr>\n",
       "      <th>2</th>\n",
       "      <td>0.666667</td>\n",
       "      <td>0.196753</td>\n",
       "      <td>0.0</td>\n",
       "      <td>0.4</td>\n",
       "      <td>0.000000</td>\n",
       "      <td>0.073516</td>\n",
       "      <td>0.076352</td>\n",
       "      <td>0.126027</td>\n",
       "      <td>0.0</td>\n",
       "      <td>0.0</td>\n",
       "      <td>...</td>\n",
       "      <td>0.0</td>\n",
       "      <td>0.0</td>\n",
       "      <td>0.0</td>\n",
       "      <td>0.0</td>\n",
       "      <td>0.0</td>\n",
       "      <td>1.0</td>\n",
       "      <td>0.0</td>\n",
       "      <td>1.0</td>\n",
       "      <td>0.0</td>\n",
       "      <td>0.0</td>\n",
       "    </tr>\n",
       "    <tr>\n",
       "      <th>3</th>\n",
       "      <td>0.333333</td>\n",
       "      <td>0.169692</td>\n",
       "      <td>0.0</td>\n",
       "      <td>0.2</td>\n",
       "      <td>0.666667</td>\n",
       "      <td>0.083883</td>\n",
       "      <td>0.076352</td>\n",
       "      <td>0.126027</td>\n",
       "      <td>0.0</td>\n",
       "      <td>0.0</td>\n",
       "      <td>...</td>\n",
       "      <td>0.0</td>\n",
       "      <td>0.0</td>\n",
       "      <td>0.0</td>\n",
       "      <td>0.0</td>\n",
       "      <td>0.0</td>\n",
       "      <td>1.0</td>\n",
       "      <td>0.0</td>\n",
       "      <td>1.0</td>\n",
       "      <td>0.0</td>\n",
       "      <td>0.0</td>\n",
       "    </tr>\n",
       "    <tr>\n",
       "      <th>4</th>\n",
       "      <td>0.333333</td>\n",
       "      <td>0.108919</td>\n",
       "      <td>0.0</td>\n",
       "      <td>0.2</td>\n",
       "      <td>0.666667</td>\n",
       "      <td>0.049953</td>\n",
       "      <td>0.076352</td>\n",
       "      <td>0.126027</td>\n",
       "      <td>0.0</td>\n",
       "      <td>0.0</td>\n",
       "      <td>...</td>\n",
       "      <td>0.0</td>\n",
       "      <td>0.0</td>\n",
       "      <td>0.0</td>\n",
       "      <td>0.0</td>\n",
       "      <td>0.0</td>\n",
       "      <td>1.0</td>\n",
       "      <td>0.0</td>\n",
       "      <td>1.0</td>\n",
       "      <td>0.0</td>\n",
       "      <td>0.0</td>\n",
       "    </tr>\n",
       "    <tr>\n",
       "      <th>...</th>\n",
       "      <td>...</td>\n",
       "      <td>...</td>\n",
       "      <td>...</td>\n",
       "      <td>...</td>\n",
       "      <td>...</td>\n",
       "      <td>...</td>\n",
       "      <td>...</td>\n",
       "      <td>...</td>\n",
       "      <td>...</td>\n",
       "      <td>...</td>\n",
       "      <td>...</td>\n",
       "      <td>...</td>\n",
       "      <td>...</td>\n",
       "      <td>...</td>\n",
       "      <td>...</td>\n",
       "      <td>...</td>\n",
       "      <td>...</td>\n",
       "      <td>...</td>\n",
       "      <td>...</td>\n",
       "      <td>...</td>\n",
       "      <td>...</td>\n",
       "    </tr>\n",
       "    <tr>\n",
       "      <th>9237</th>\n",
       "      <td>1.000000</td>\n",
       "      <td>0.125606</td>\n",
       "      <td>1.0</td>\n",
       "      <td>0.4</td>\n",
       "      <td>0.666667</td>\n",
       "      <td>0.457116</td>\n",
       "      <td>0.055853</td>\n",
       "      <td>0.116852</td>\n",
       "      <td>0.0</td>\n",
       "      <td>0.0</td>\n",
       "      <td>...</td>\n",
       "      <td>0.0</td>\n",
       "      <td>0.0</td>\n",
       "      <td>0.0</td>\n",
       "      <td>0.0</td>\n",
       "      <td>0.0</td>\n",
       "      <td>0.0</td>\n",
       "      <td>0.0</td>\n",
       "      <td>1.0</td>\n",
       "      <td>0.0</td>\n",
       "      <td>0.0</td>\n",
       "    </tr>\n",
       "    <tr>\n",
       "      <th>9238</th>\n",
       "      <td>0.666667</td>\n",
       "      <td>0.101477</td>\n",
       "      <td>0.5</td>\n",
       "      <td>0.4</td>\n",
       "      <td>0.666667</td>\n",
       "      <td>0.156456</td>\n",
       "      <td>0.021687</td>\n",
       "      <td>0.210121</td>\n",
       "      <td>0.0</td>\n",
       "      <td>0.0</td>\n",
       "      <td>...</td>\n",
       "      <td>0.0</td>\n",
       "      <td>0.0</td>\n",
       "      <td>0.0</td>\n",
       "      <td>0.0</td>\n",
       "      <td>0.0</td>\n",
       "      <td>0.0</td>\n",
       "      <td>0.0</td>\n",
       "      <td>1.0</td>\n",
       "      <td>0.0</td>\n",
       "      <td>0.0</td>\n",
       "    </tr>\n",
       "    <tr>\n",
       "      <th>9239</th>\n",
       "      <td>0.666667</td>\n",
       "      <td>0.117150</td>\n",
       "      <td>0.5</td>\n",
       "      <td>0.4</td>\n",
       "      <td>1.000000</td>\n",
       "      <td>0.253534</td>\n",
       "      <td>0.021687</td>\n",
       "      <td>0.210121</td>\n",
       "      <td>0.0</td>\n",
       "      <td>0.0</td>\n",
       "      <td>...</td>\n",
       "      <td>0.0</td>\n",
       "      <td>0.0</td>\n",
       "      <td>0.0</td>\n",
       "      <td>0.0</td>\n",
       "      <td>0.0</td>\n",
       "      <td>0.0</td>\n",
       "      <td>0.0</td>\n",
       "      <td>1.0</td>\n",
       "      <td>0.0</td>\n",
       "      <td>0.0</td>\n",
       "    </tr>\n",
       "    <tr>\n",
       "      <th>9240</th>\n",
       "      <td>1.000000</td>\n",
       "      <td>0.267110</td>\n",
       "      <td>0.5</td>\n",
       "      <td>0.2</td>\n",
       "      <td>1.000000</td>\n",
       "      <td>0.658812</td>\n",
       "      <td>0.021687</td>\n",
       "      <td>0.210121</td>\n",
       "      <td>0.0</td>\n",
       "      <td>0.0</td>\n",
       "      <td>...</td>\n",
       "      <td>0.0</td>\n",
       "      <td>0.0</td>\n",
       "      <td>0.0</td>\n",
       "      <td>0.0</td>\n",
       "      <td>0.0</td>\n",
       "      <td>0.0</td>\n",
       "      <td>0.0</td>\n",
       "      <td>1.0</td>\n",
       "      <td>0.0</td>\n",
       "      <td>0.0</td>\n",
       "    </tr>\n",
       "    <tr>\n",
       "      <th>9241</th>\n",
       "      <td>1.000000</td>\n",
       "      <td>0.130116</td>\n",
       "      <td>0.5</td>\n",
       "      <td>0.2</td>\n",
       "      <td>0.333333</td>\n",
       "      <td>0.183789</td>\n",
       "      <td>0.024064</td>\n",
       "      <td>0.132961</td>\n",
       "      <td>0.0</td>\n",
       "      <td>0.0</td>\n",
       "      <td>...</td>\n",
       "      <td>0.0</td>\n",
       "      <td>0.0</td>\n",
       "      <td>0.0</td>\n",
       "      <td>0.0</td>\n",
       "      <td>0.0</td>\n",
       "      <td>0.0</td>\n",
       "      <td>0.0</td>\n",
       "      <td>1.0</td>\n",
       "      <td>0.0</td>\n",
       "      <td>0.0</td>\n",
       "    </tr>\n",
       "  </tbody>\n",
       "</table>\n",
       "<p>9242 rows × 43 columns</p>\n",
       "</div>"
      ],
      "text/plain": [
       "         Rooms     Price  Distance  Bathroom       Car  Landsize  \\\n",
       "0     0.333333  0.152103       0.0       0.2  0.333333  0.032988   \n",
       "1     0.333333  0.091329       0.0       0.2  0.000000  0.013195   \n",
       "2     0.666667  0.196753       0.0       0.4  0.000000  0.073516   \n",
       "3     0.333333  0.169692       0.0       0.2  0.666667  0.083883   \n",
       "4     0.333333  0.108919       0.0       0.2  0.666667  0.049953   \n",
       "...        ...       ...       ...       ...       ...       ...   \n",
       "9237  1.000000  0.125606       1.0       0.4  0.666667  0.457116   \n",
       "9238  0.666667  0.101477       0.5       0.4  0.666667  0.156456   \n",
       "9239  0.666667  0.117150       0.5       0.4  1.000000  0.253534   \n",
       "9240  1.000000  0.267110       0.5       0.2  1.000000  0.658812   \n",
       "9241  1.000000  0.130116       0.5       0.2  0.333333  0.183789   \n",
       "\n",
       "      airbnb_record_count  airbnb_price_day_mean  CouncilArea_Banyule  \\\n",
       "0                0.076352               0.126027                  0.0   \n",
       "1                0.076352               0.126027                  0.0   \n",
       "2                0.076352               0.126027                  0.0   \n",
       "3                0.076352               0.126027                  0.0   \n",
       "4                0.076352               0.126027                  0.0   \n",
       "...                   ...                    ...                  ...   \n",
       "9237             0.055853               0.116852                  0.0   \n",
       "9238             0.021687               0.210121                  0.0   \n",
       "9239             0.021687               0.210121                  0.0   \n",
       "9240             0.021687               0.210121                  0.0   \n",
       "9241             0.024064               0.132961                  0.0   \n",
       "\n",
       "      CouncilArea_Bayside  ...  CouncilArea_Port Phillip  \\\n",
       "0                     0.0  ...                       0.0   \n",
       "1                     0.0  ...                       0.0   \n",
       "2                     0.0  ...                       0.0   \n",
       "3                     0.0  ...                       0.0   \n",
       "4                     0.0  ...                       0.0   \n",
       "...                   ...  ...                       ...   \n",
       "9237                  0.0  ...                       0.0   \n",
       "9238                  0.0  ...                       0.0   \n",
       "9239                  0.0  ...                       0.0   \n",
       "9240                  0.0  ...                       0.0   \n",
       "9241                  0.0  ...                       0.0   \n",
       "\n",
       "      CouncilArea_Stonnington  CouncilArea_Whitehorse  CouncilArea_Whittlesea  \\\n",
       "0                         0.0                     0.0                     0.0   \n",
       "1                         0.0                     0.0                     0.0   \n",
       "2                         0.0                     0.0                     0.0   \n",
       "3                         0.0                     0.0                     0.0   \n",
       "4                         0.0                     0.0                     0.0   \n",
       "...                       ...                     ...                     ...   \n",
       "9237                      0.0                     0.0                     0.0   \n",
       "9238                      0.0                     0.0                     0.0   \n",
       "9239                      0.0                     0.0                     0.0   \n",
       "9240                      0.0                     0.0                     0.0   \n",
       "9241                      0.0                     0.0                     0.0   \n",
       "\n",
       "      CouncilArea_Wyndham  CouncilArea_Yarra  CouncilArea_Yarra Ranges  \\\n",
       "0                     0.0                1.0                       0.0   \n",
       "1                     0.0                1.0                       0.0   \n",
       "2                     0.0                1.0                       0.0   \n",
       "3                     0.0                1.0                       0.0   \n",
       "4                     0.0                1.0                       0.0   \n",
       "...                   ...                ...                       ...   \n",
       "9237                  0.0                0.0                       0.0   \n",
       "9238                  0.0                0.0                       0.0   \n",
       "9239                  0.0                0.0                       0.0   \n",
       "9240                  0.0                0.0                       0.0   \n",
       "9241                  0.0                0.0                       0.0   \n",
       "\n",
       "      Type_h  Type_t  Type_u  \n",
       "0        1.0     0.0     0.0  \n",
       "1        1.0     0.0     0.0  \n",
       "2        1.0     0.0     0.0  \n",
       "3        1.0     0.0     0.0  \n",
       "4        1.0     0.0     0.0  \n",
       "...      ...     ...     ...  \n",
       "9237     1.0     0.0     0.0  \n",
       "9238     1.0     0.0     0.0  \n",
       "9239     1.0     0.0     0.0  \n",
       "9240     1.0     0.0     0.0  \n",
       "9241     1.0     0.0     0.0  \n",
       "\n",
       "[9242 rows x 43 columns]"
      ]
     },
     "execution_count": 113,
     "metadata": {},
     "output_type": "execute_result"
    }
   ],
   "source": [
    "new_df=pandas.read_csv(\"Dataframe_melb_B.csv\")\n",
    "new_df"
   ]
  }
 ],
 "metadata": {
  "colab": {
   "collapsed_sections": [],
   "include_colab_link": true,
   "name": "Entregable - Parte 1.ipynb",
   "provenance": []
  },
  "kernelspec": {
   "display_name": "Python 3",
   "language": "python",
   "name": "python3"
  },
  "language_info": {
   "codemirror_mode": {
    "name": "ipython",
    "version": 3
   },
   "file_extension": ".py",
   "mimetype": "text/x-python",
   "name": "python",
   "nbconvert_exporter": "python",
   "pygments_lexer": "ipython3",
   "version": "3.8.10"
  }
 },
 "nbformat": 4,
 "nbformat_minor": 4
}
