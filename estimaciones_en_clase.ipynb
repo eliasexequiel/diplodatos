{
 "cells": [
  {
   "cell_type": "markdown",
   "metadata": {
    "colab_type": "text",
    "id": "view-in-github"
   },
   "source": [
    "<a href=\"https://colab.research.google.com/github/DiploDatos/AnalisisyVisualizacion/blob/master/04_Estimacion.ipynb\" target=\"_parent\"><img src=\"https://colab.research.google.com/assets/colab-badge.svg\" alt=\"Open In Colab\"/></a>"
   ]
  },
  {
   "cell_type": "code",
   "execution_count": 3,
   "metadata": {
    "id": "RMExMm55oNLa"
   },
   "outputs": [],
   "source": [
    "import numpy\n",
    "import scipy.stats\n",
    "import seaborn\n",
    "\n",
    "seaborn.set_context('talk')"
   ]
  },
  {
   "cell_type": "markdown",
   "metadata": {
    "id": "sJSeWq4-oQo_"
   },
   "source": [
    "# TCL, distribución de estadísticos, estimación puntual y por intervalos\n",
    "\n",
    "\n",
    "## Generación de datos\n",
    "\n",
    "1. Generamos 1 realización de una muestra aleatoria $X_1,  ... X_n$ (de tamaño n)\n",
    "\n",
    "$X_1,  ... X_n$ (i.i.d) con cada $X_i$ con distribución conocida (mejor no normal). Por ejemplo: Poisson. Graficar la distribución de la muestra.\n",
    "\n",
    "2. Luego tenemos 1 realización del estadístico $\\overline{X}= \\frac{1}{n} \\sum_{i=1}^{n} X_i$.\n",
    "\n"
   ]
  },
  {
   "cell_type": "code",
   "execution_count": 4,
   "metadata": {
    "colab": {
     "base_uri": "https://localhost:8080/",
     "height": 296
    },
    "id": "3UO2q_UUwsrl",
    "outputId": "6d8dec51-f699-446a-f130-173767260b1c"
   },
   "outputs": [
    {
     "name": "stdout",
     "output_type": "stream",
     "text": [
      "promedio de la muestra= 5.106 , una realización del estadístico media muestral\n"
     ]
    },
    {
     "data": {
      "image/png": "[encoded data removed]",
      "text/plain": [
       "<Figure size 432x288 with 1 Axes>"
      ]
     },
     "metadata": {
      "needs_background": "light"
     },
     "output_type": "display_data"
    }
   ],
   "source": [
    "# Generación de muestras de una distribución poisson\n",
    "\n",
    "n = 500 \n",
    "\n",
    "lambd = 5 \n",
    "\n",
    "sample = scipy.stats.poisson.rvs(lambd, size=n) #realización de una muestra aleatoria X_1,  ... X_n (de tamaño n)\n",
    "\n",
    "seaborn.histplot(sample, bins=12)\n",
    "print ('promedio de la muestra=', sample.mean(), ', una realización del estadístico media muestral')\n"
   ]
  },
  {
   "cell_type": "markdown",
   "metadata": {
    "id": "1Shfeq87wEkA"
   },
   "source": [
    "1. Generamos N realizaciones de una muestra aleatoria $X_1,  ... X_n$ (de tamaño n)\n",
    "\n",
    "$X_1,  ... X_n$ (i.i.d) con cada $X_i$ con distribución no normal. Por ejemplo: Poisson. Elegir una realización y graficar la distribución de la muestra.\n",
    "\n",
    "2. Luego tendríamos N realizaciones del estadístico $\\overline{X}= \\frac{1}{n} \\sum_{i=1}^{n} X_i$.\n",
    "\n",
    "Graficar la distribución de estas realizaciones (de las medias muestrales). ¿Se parece a una distribución normal?"
   ]
  },
  {
   "cell_type": "code",
   "execution_count": 5,
   "metadata": {
    "id": "ldyZ2ipIomKf"
   },
   "outputs": [],
   "source": [
    "# Generación de muestras de una distribución poisson\n",
    "\n",
    "N = 400 #N filas, N realizaciones de una muestra aleatoria X_1,  ... X_n (tamaño n)\n",
    "n = 5000 \n",
    "\n",
    "lambd = 10\n",
    "\n",
    "samples = scipy.stats.poisson.rvs(lambd, size=(N, n))"
   ]
  },
  {
   "cell_type": "code",
   "execution_count": 6,
   "metadata": {
    "id": "-LUccLEUosjq"
   },
   "outputs": [
    {
     "name": "stdout",
     "output_type": "stream",
     "text": [
      "[16  2  6 13] ... [14 10  8 12]\n",
      "media=  10.073\n"
     ]
    },
    {
     "data": {
      "image/png": "[encoded data removed]",
      "text/plain": [
       "<Figure size 432x288 with 1 Axes>"
      ]
     },
     "metadata": {
      "needs_background": "light"
     },
     "output_type": "display_data"
    }
   ],
   "source": [
    "#primera realización de la m.a.\n",
    "print(samples[0][:4],'...', samples[0][-5:-1])\n",
    "\n",
    "# Histograma de la i-ésima realización de la muestra\n",
    "i=0\n",
    "seaborn.histplot(samples[i], bins=15)\n",
    "print('media= ', samples[i].mean())"
   ]
  },
  {
   "cell_type": "code",
   "execution_count": 7,
   "metadata": {
    "colab": {
     "base_uri": "https://localhost:8080/"
    },
    "id": "vTMoYOYcggHG",
    "outputId": "06d63108-3074-4c77-b535-ac5210c7c38a"
   },
   "outputs": [
    {
     "data": {
      "text/plain": [
       "(400,)"
      ]
     },
     "execution_count": 7,
     "metadata": {},
     "output_type": "execute_result"
    }
   ],
   "source": [
    "# Calculamos la media para cada una de las muestras. \n",
    "sample_means = samples.mean(axis=1) #media de cada fila, tendremos N medias\n",
    "sample_means.shape"
   ]
  },
  {
   "cell_type": "markdown",
   "metadata": {
    "id": "pYke1s7RzDip"
   },
   "source": [
    "Veamos la distribución de las N realizaciones del estadístico $\\overline{X}= \\frac{1}{n} \\sum_{i=1}^{n} X_i$ "
   ]
  },
  {
   "cell_type": "code",
   "execution_count": 8,
   "metadata": {
    "colab": {
     "base_uri": "https://localhost:8080/",
     "height": 313
    },
    "id": "hc9eGpQ9grtr",
    "outputId": "0869216c-9f42-436e-b538-c4b67e539f42"
   },
   "outputs": [
    {
     "name": "stdout",
     "output_type": "stream",
     "text": [
      "Media de medias = 9.998977\n",
      "Varianza de medias = 0.0017336044710000004\n"
     ]
    },
    {
     "data": {
      "image/png": "[encoded data removed]",
      "text/plain": [
       "<Figure size 432x288 with 1 Axes>"
      ]
     },
     "metadata": {
      "needs_background": "light"
     },
     "output_type": "display_data"
    }
   ],
   "source": [
    "seaborn.histplot(sample_means, bins=30)\n",
    "print('Media de medias =', sample_means. mean())\n",
    "print('Varianza de medias =', sample_means. var())"
   ]
  },
  {
   "cell_type": "code",
   "execution_count": 9,
   "metadata": {
    "colab": {
     "base_uri": "https://localhost:8080/"
    },
    "id": "HKXWKs-m1A-p",
    "outputId": "69f1ff80-d708-4fb7-a6d1-190ba54f06c9"
   },
   "outputs": [
    {
     "data": {
      "text/plain": [
       "(9.998977, 0.04163657612004138, 0.0017336044710000002)"
      ]
     },
     "execution_count": 9,
     "metadata": {},
     "output_type": "execute_result"
    }
   ],
   "source": [
    "# documentación de la función norm de scipy\n",
    "# https://docs.scipy.org/doc/scipy/reference/generated/scipy.stats.norm.html\n",
    "# Estima la media y el desvío (los parámetros de una normal)  \n",
    "mu, std = scipy.stats.norm.fit(sample_means)\n",
    "mu, std, std**2"
   ]
  },
  {
   "cell_type": "markdown",
   "metadata": {
    "id": "BvmZXXqappna"
   },
   "source": [
    "## Ejercicio 1 (para realizar en grupo en clase 3)\n",
    "\n",
    "1. Analizar qué pasa cuando crece $n$ y ver la distribución de $\\overline{X}= \\frac{1}{n} \\sum_{i=1}^{n} X_i$ cuando $n\\rightarrow \\infty$ (el tamaño de la muestra). ¿Qué sucede con la varianza?\n",
    "\n",
    "2. Realizar el mismo análisis con otra distribución no normal, por ejemplo, exponencial."
   ]
  },
  {
   "cell_type": "code",
   "execution_count": 10,
   "metadata": {
    "id": "93fsFbSt0TbY"
   },
   "outputs": [],
   "source": [
    "# Generación de muestras de una distribución exponencial\n",
    "# https://docs.scipy.org/doc/scipy/reference/generated/scipy.stats.expon.html\n",
    "l = 5\n",
    "s = 2\n",
    "# media=l+s\n",
    "# varianza=s^2\n",
    "N = 1000 #N filas, N realizaciones de una muestra aleatoria X_1,  ... X_n (tamaño n)\n",
    "n = 10000\n",
    "samples = scipy.stats.expon.rvs(loc=l,scale=s,size=(N, n))"
   ]
  },
  {
   "cell_type": "code",
   "execution_count": 11,
   "metadata": {
    "scrolled": true
   },
   "outputs": [
    {
     "name": "stdout",
     "output_type": "stream",
     "text": [
      "[5.19872165 6.47045823 8.24590491 8.27393992] ... [7.94196015 6.84482389 5.67920435 5.30729456]\n",
      "media=  6.999639607184875\n",
      "varianza= 0.00041488655197666153\n"
     ]
    },
    {
     "data": {
      "image/png": "[encoded data removed]",
      "text/plain": [
       "<Figure size 432x288 with 1 Axes>"
      ]
     },
     "metadata": {
      "needs_background": "light"
     },
     "output_type": "display_data"
    }
   ],
   "source": [
    "#primera realización de la m.a.\n",
    "print(samples[0][:4],'...', samples[0][-5:-1])\n",
    "\n",
    "# Histograma de la i-ésima realización de la muestra\n",
    "# Calculamos la media para cada una de las muestras. \n",
    "sample_means = samples.mean(axis=1) #media de cada fila, tendremos N medias\n",
    "sample_means.shape\n",
    "seaborn.histplot(sample_means, bins=\"sqrt\")\n",
    "print('media= ', sample_means.mean())\n",
    "print('varianza=', sample_means.var())"
   ]
  },
  {
   "cell_type": "markdown",
   "metadata": {},
   "source": [
    "Si varia N la gráfica tienda a una normal y si varía la n la varianza disminuye"
   ]
  },
  {
   "cell_type": "code",
   "execution_count": 12,
   "metadata": {
    "scrolled": true
   },
   "outputs": [
    {
     "name": "stdout",
     "output_type": "stream",
     "text": [
      "Media de medias = 6.999639607184875\n",
      "Varianza de medias = 0.00041488655197666153\n"
     ]
    },
    {
     "data": {
      "image/png": "[encoded data removed]",
      "text/plain": [
       "<Figure size 432x288 with 1 Axes>"
      ]
     },
     "metadata": {
      "needs_background": "light"
     },
     "output_type": "display_data"
    }
   ],
   "source": [
    "seaborn.histplot(sample_means, bins=30)\n",
    "print('Media de medias =', sample_means. mean())\n",
    "print('Varianza de medias =', sample_means. var())"
   ]
  },
  {
   "cell_type": "code",
   "execution_count": 25,
   "metadata": {},
   "outputs": [],
   "source": [
    "# Generación de muestras de una distribución exponencial\n",
    "# https://docs.scipy.org/doc/scipy/reference/generated/scipy.stats.expon.html\n",
    "l = 5\n",
    "s = 2\n",
    "# media=l+s\n",
    "# varianza=s^2\n",
    "N = 1 #N filas, N realizaciones de una muestra aleatoria X_1,  ... X_n (tamaño n)\n",
    "n = 1000\n",
    "samples = scipy.stats.expon.rvs(loc=l,scale=s,size=n)"
   ]
  },
  {
   "cell_type": "code",
   "execution_count": 26,
   "metadata": {},
   "outputs": [
    {
     "name": "stdout",
     "output_type": "stream",
     "text": [
      "Media de medias = 6.880892124684153\n",
      "Varianza de medias = 3.290096705101752\n"
     ]
    },
    {
     "data": {
      "image/png": "[encoded data removed]",
      "text/plain": [
       "<Figure size 432x288 with 1 Axes>"
      ]
     },
     "metadata": {
      "needs_background": "light"
     },
     "output_type": "display_data"
    }
   ],
   "source": [
    "seaborn.histplot(samples, bins=30)\n",
    "print('Media de medias =', samples.mean())\n",
    "print('Varianza de medias =', samples.var())"
   ]
  },
  {
   "cell_type": "markdown",
   "metadata": {
    "id": "BHgXE4R70mKw"
   },
   "source": [
    "## Ejercicio 2: Estimadores puntuales y por intervalos (para realizar en grupo en clase 3)\n",
    "0. Fijar n=1000\n",
    "1. Dar un estimador puntual de la media de la distribución generada"
   ]
  },
  {
   "cell_type": "code",
   "execution_count": 27,
   "metadata": {
    "scrolled": false
   },
   "outputs": [
    {
     "data": {
      "text/plain": [
       "(5.000567896637632, 1.880324228046521, 3.5356192025787454)"
      ]
     },
     "execution_count": 27,
     "metadata": {},
     "output_type": "execute_result"
    }
   ],
   "source": [
    "mu, std = scipy.stats.expon.fit(samples)\n",
    "mu, std, std**2"
   ]
  },
  {
   "cell_type": "code",
   "execution_count": 36,
   "metadata": {
    "scrolled": true
   },
   "outputs": [],
   "source": [
    "mean = samples.mean()\n",
    "var = samples.var()"
   ]
  },
  {
   "cell_type": "code",
   "execution_count": 51,
   "metadata": {},
   "outputs": [],
   "source": [
    "alpha = 0.4\n",
    "df=n-1\n",
    "result = scipy.stats.t.ppf([alpha/2,1-alpha/2],df)"
   ]
  },
  {
   "cell_type": "code",
   "execution_count": 50,
   "metadata": {
    "scrolled": true
   },
   "outputs": [
    {
     "data": {
      "text/plain": [
       "array([6.82870731, 7.17129269])"
      ]
     },
     "execution_count": 50,
     "metadata": {},
     "output_type": "execute_result"
    }
   ],
   "source": [
    "7+result*var/numpy.sqrt(n)"
   ]
  },
  {
   "cell_type": "code",
   "execution_count": 52,
   "metadata": {},
   "outputs": [
    {
     "data": {
      "text/plain": [
       "array([6.9123986, 7.0876014])"
      ]
     },
     "execution_count": 52,
     "metadata": {},
     "output_type": "execute_result"
    }
   ],
   "source": [
    "7+result*var/numpy.sqrt(n)"
   ]
  },
  {
   "cell_type": "markdown",
   "metadata": {
    "id": "skMmesMK2Aud"
   },
   "source": [
    "2. Dar un intervalo de confianza (IC) para la media de nivel asintótico 0.95=(1-alpha), calcular la longitud del intervalo.\n",
    "3. Dar N=1000 realizaciones del intervalo de confianza para la media de nivel 0.95 y contar cuantos contienen a la media verdadera. \n",
    "4. Incrementar n=4000 (por 4) y repetir el paso 2. Qué le pasó a la longitud el IC ?\n"
   ]
  },
  {
   "cell_type": "code",
   "execution_count": null,
   "metadata": {},
   "outputs": [],
   "source": []
  }
 ],
 "metadata": {
  "colab": {
   "include_colab_link": true,
   "name": "04 Estimacion.ipynb",
   "provenance": [],
   "toc_visible": true
  },
  "kernelspec": {
   "display_name": "Python 3",
   "language": "python",
   "name": "python3"
  },
  "language_info": {
   "codemirror_mode": {
    "name": "ipython",
    "version": 3
   },
   "file_extension": ".py",
   "mimetype": "text/x-python",
   "name": "python",
   "nbconvert_exporter": "python",
   "pygments_lexer": "ipython3",
   "version": "3.9.4"
  }
 },
 "nbformat": 4,
 "nbformat_minor": 1
}
