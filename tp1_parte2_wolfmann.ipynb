{
 "cells": [
  {
   "cell_type": "code",
   "execution_count": 1,
   "metadata": {},
   "outputs": [],
   "source": [
    "import io\n",
    "import matplotlib\n",
    "import matplotlib.pyplot as plt\n",
    "import numpy as np\n",
    "import pandas as pd\n",
    "import seaborn as sns\n",
    "import scipy.stats as stats\n",
    "\n",
    "sns.set_context('talk')"
   ]
  },
  {
   "cell_type": "code",
   "execution_count": 2,
   "metadata": {},
   "outputs": [],
   "source": [
    "url = 'https://cs.famaf.unc.edu.ar/~mteruel/datasets/diplodatos/sysarmy_survey_2020_processed.csv'\n",
    "df = pd.read_csv(url)"
   ]
  },
  {
   "cell_type": "code",
   "execution_count": 4,
   "metadata": {},
   "outputs": [],
   "source": [
    "def remove_outlier(df_in, col_name, iqr_factor):\n",
    "    \"\"\"\n",
    "  IQR outliers removal (https://machinelearningmastery.com/how-to-use-statistics-to-identify-outliers-in-data/)\n",
    "  accept a dataframe, remove outliers, return cleaned data in a new dataframe\n",
    "  see http://www.itl.nist.gov/div898/handbook/prc/section1/prc16.htm\n",
    "  \"\"\"\n",
    "    q1 = df_in[col_name].quantile(0.25)\n",
    "    q3 = df_in[col_name].quantile(0.75)\n",
    "    iqr = q3 - q1  # interquartile range\n",
    "    fence_low = q1 - iqr_factor * iqr\n",
    "    fence_high = q3 + iqr_factor * iqr\n",
    "    df_inliers = df_in.loc[\n",
    "        (df_in[col_name] > fence_low) & (df_in[col_name] < fence_high)\n",
    "    ]\n",
    "    df_outliers = df_in.loc[\n",
    "        (df_in[col_name] < fence_low) | (df_in[col_name] > fence_high)\n",
    "    ]\n",
    "    return df_inliers, df_outliers"
   ]
  },
  {
   "cell_type": "code",
   "execution_count": 6,
   "metadata": {},
   "outputs": [
    {
     "data": {
      "text/plain": [
       "0.8720262510254306"
      ]
     },
     "metadata": {},
     "output_type": "display_data"
    }
   ],
   "source": [
    "iqr_factor = 2.5\n",
    "df_main_inliers, df_main_outliers = remove_outlier(df, \"salary_monthly_NETO\", iqr_factor)\n",
    "df_main_inliers = df_main_inliers[df_main_inliers[\"salary_monthly_NETO\"] > 24000]\n",
    "# Filtramos por el mínimo vital y móvil\n",
    "\n",
    "display(len(df_main_inliers) / len(df))\n"
   ]
  },
  {
   "cell_type": "code",
   "execution_count": 8,
   "metadata": {},
   "outputs": [
    {
     "data": {
      "text/html": [
       "<div>\n",
       "<style scoped>\n",
       "    .dataframe tbody tr th:only-of-type {\n",
       "        vertical-align: middle;\n",
       "    }\n",
       "\n",
       "    .dataframe tbody tr th {\n",
       "        vertical-align: top;\n",
       "    }\n",
       "\n",
       "    .dataframe thead tr th {\n",
       "        text-align: left;\n",
       "    }\n",
       "\n",
       "    .dataframe thead tr:last-of-type th {\n",
       "        text-align: right;\n",
       "    }\n",
       "</style>\n",
       "<table border=\"1\" class=\"dataframe\">\n",
       "  <thead>\n",
       "    <tr>\n",
       "      <th></th>\n",
       "      <th colspan=\"8\" halign=\"left\">salary_monthly_NETO</th>\n",
       "    </tr>\n",
       "    <tr>\n",
       "      <th></th>\n",
       "      <th>count</th>\n",
       "      <th>mean</th>\n",
       "      <th>std</th>\n",
       "      <th>min</th>\n",
       "      <th>25%</th>\n",
       "      <th>50%</th>\n",
       "      <th>75%</th>\n",
       "      <th>max</th>\n",
       "    </tr>\n",
       "    <tr>\n",
       "      <th>profile_gender</th>\n",
       "      <th></th>\n",
       "      <th></th>\n",
       "      <th></th>\n",
       "      <th></th>\n",
       "      <th></th>\n",
       "      <th></th>\n",
       "      <th></th>\n",
       "      <th></th>\n",
       "    </tr>\n",
       "  </thead>\n",
       "  <tbody>\n",
       "    <tr>\n",
       "      <th>Hombre</th>\n",
       "      <td>4464.0</td>\n",
       "      <td>85788.666004</td>\n",
       "      <td>39867.724585</td>\n",
       "      <td>24500.0</td>\n",
       "      <td>56000.0</td>\n",
       "      <td>80000.0</td>\n",
       "      <td>105000.0</td>\n",
       "      <td>240000.0</td>\n",
       "    </tr>\n",
       "    <tr>\n",
       "      <th>Mujer</th>\n",
       "      <td>826.0</td>\n",
       "      <td>74645.487397</td>\n",
       "      <td>33861.570050</td>\n",
       "      <td>25000.0</td>\n",
       "      <td>49800.0</td>\n",
       "      <td>68000.0</td>\n",
       "      <td>92978.5</td>\n",
       "      <td>230000.0</td>\n",
       "    </tr>\n",
       "    <tr>\n",
       "      <th>Otros</th>\n",
       "      <td>25.0</td>\n",
       "      <td>80260.000000</td>\n",
       "      <td>44573.628227</td>\n",
       "      <td>34000.0</td>\n",
       "      <td>40000.0</td>\n",
       "      <td>74000.0</td>\n",
       "      <td>101000.0</td>\n",
       "      <td>190000.0</td>\n",
       "    </tr>\n",
       "  </tbody>\n",
       "</table>\n",
       "</div>"
      ],
      "text/plain": [
       "               salary_monthly_NETO                                       \\\n",
       "                             count          mean           std      min   \n",
       "profile_gender                                                            \n",
       "Hombre                      4464.0  85788.666004  39867.724585  24500.0   \n",
       "Mujer                        826.0  74645.487397  33861.570050  25000.0   \n",
       "Otros                         25.0  80260.000000  44573.628227  34000.0   \n",
       "\n",
       "                                                      \n",
       "                    25%      50%       75%       max  \n",
       "profile_gender                                        \n",
       "Hombre          56000.0  80000.0  105000.0  240000.0  \n",
       "Mujer           49800.0  68000.0   92978.5  230000.0  \n",
       "Otros           40000.0  74000.0  101000.0  190000.0  "
      ]
     },
     "execution_count": 8,
     "metadata": {},
     "output_type": "execute_result"
    }
   ],
   "source": [
    "df_main_inliers[['profile_gender', 'salary_monthly_NETO']].groupby('profile_gender').describe()"
   ]
  },
  {
   "cell_type": "code",
   "execution_count": 9,
   "metadata": {},
   "outputs": [],
   "source": [
    "alpha = 0.05"
   ]
  },
  {
   "cell_type": "code",
   "execution_count": 21,
   "metadata": {},
   "outputs": [
    {
     "data": {
      "text/plain": [
       "74810.42607520563"
      ]
     },
     "execution_count": 21,
     "metadata": {},
     "output_type": "execute_result"
    }
   ],
   "source": [
    "\n",
    "groupA = df_main_inliers[df_main_inliers['profile_gender']=='Hombre']\n",
    "groupB = df_main_inliers[df_main_inliers['profile_gender']!='Hombre']\n"
   ]
  },
  {
   "cell_type": "code",
   "execution_count": 74,
   "metadata": {},
   "outputs": [
    {
     "name": "stdout",
     "output_type": "stream",
     "text": [
      "Diferencia entre la media del grupo A y B:  10978.239928378636\n",
      "El intervalo de confianza va entre:  8399.737113128342  -  13556.74274362893\n",
      "El estadístico es:  8.34474748136859\n"
     ]
    }
   ],
   "source": [
    "import statistics\n",
    "import math\n",
    "\n",
    "def calcEst(groupA, groupB, alpha):\n",
    "  meanA = groupA.mean()\n",
    "  meanB = groupB.mean()\n",
    "  desv_standA = statistics.stdev(groupA)\n",
    "  desv_standB = statistics.stdev(groupB)\n",
    "  n_A = len(groupA)\n",
    "  n_B = len(groupB)\n",
    "  dif_means = meanA - meanB\n",
    "  varA = np.var(groupA, ddof=1)\n",
    "  varB = np.var(groupB, ddof=1)\n",
    "  dif_desv_nA = varA / n_A\n",
    "  dif_desv_nB = varB / n_B\n",
    "  raiz_ABsum = math.sqrt(dif_desv_nA + dif_desv_nB)\n",
    "  interv_conf_sum = dif_means + (stats.norm.ppf((1-alpha/2)) * raiz_ABsum) \n",
    "  interv_conf_rest = dif_means - (stats.norm.ppf((1-alpha/2)) * raiz_ABsum)\n",
    "  print('Diferencia entre la media del grupo A y B: ', dif_means)\n",
    "  print('El intervalo de confianza va entre: ' ,interv_conf_rest,\" - \",interv_conf_sum)\n",
    "  print('El estadístico es: ', dif_means/raiz_ABsum)\n",
    "\n",
    "calcEst(groupA['salary_monthly_NETO'], groupB['salary_monthly_NETO'], alpha)"
   ]
  },
  {
   "cell_type": "markdown",
   "metadata": {},
   "source": [
    "si aumento el n el intervalo de confianza se hace mas chico."
   ]
  },
  {
   "cell_type": "code",
   "execution_count": 56,
   "metadata": {},
   "outputs": [
    {
     "data": {
      "text/plain": [
       "Ttest_indResult(statistic=8.344747481368538, pvalue=1.765856701540995e-16)"
      ]
     },
     "execution_count": 56,
     "metadata": {},
     "output_type": "execute_result"
    }
   ],
   "source": [
    "stats.ttest_ind(groupA['salary_monthly_NETO'], groupB['salary_monthly_NETO'], equal_var=False)\n"
   ]
  },
  {
   "cell_type": "markdown",
   "metadata": {},
   "source": [
    "If we observe a large p-value, for example larger than 0.05 or 0.1, then we cannot reject the null hypothesis of identical average scores. If the p-value is smaller than the threshold, e.g. 1%, 5% or 10%, then we reject the null hypothesis of equal averages."
   ]
  },
  {
   "cell_type": "code",
   "execution_count": 75,
   "metadata": {},
   "outputs": [
    {
     "name": "stderr",
     "output_type": "stream",
     "text": [
      "<ipython-input-75-464f62b88bba>:17: UserWarning: Matplotlib is currently using module://ipykernel.pylab.backend_inline, which is a non-GUI backend, so cannot show the figure.\n",
      "  fig.show()\n"
     ]
    },
    {
     "data": {
      "image/png": "[encoded data removed]",
      "text/plain": [
       "<Figure size 1080x720 with 2 Axes>"
      ]
     },
     "metadata": {
      "needs_background": "light"
     },
     "output_type": "display_data"
    }
   ],
   "source": [
    "fig, ax = plt.subplots(nrows=1, ncols=2, figsize=(15,10), sharey=True,sharex=True)\n",
    "\n",
    "sns.histplot(data=groupA,x='salary_monthly_NETO' ,ax=ax[0],kde=True)\n",
    "ax[0].axvline(groupA['salary_monthly_NETO'].mean(), color='orangered',\n",
    "            linestyle='--', label='Media')\n",
    "ax[0].axvline(groupA['salary_monthly_NETO'].median(), color='indigo',\n",
    "            linestyle='-.', label='Mediana')\n",
    "\n",
    "sns.histplot(data=groupB,x='salary_monthly_NETO' , ax=ax[1],kde=True)\n",
    "ax[1].axvline(groupB['salary_monthly_NETO'].mean(), color='orangered',\n",
    "            linestyle='--', label='Media')\n",
    "ax[1].axvline(groupB['salary_monthly_NETO'].median(), color='indigo',\n",
    "            linestyle='-.', label='Mediana')\n",
    "\n",
    "ax[0].legend()\n",
    "ax[1].legend()\n",
    "fig.show()"
   ]
  },
  {
   "cell_type": "code",
   "execution_count": null,
   "metadata": {},
   "outputs": [],
   "source": []
  }
 ],
 "metadata": {
  "kernelspec": {
   "display_name": "Python 3",
   "language": "python",
   "name": "python3"
  },
  "language_info": {
   "codemirror_mode": {
    "name": "ipython",
    "version": 3
   },
   "file_extension": ".py",
   "mimetype": "text/x-python",
   "name": "python",
   "nbconvert_exporter": "python",
   "pygments_lexer": "ipython3",
   "version": "3.8.5"
  }
 },
 "nbformat": 4,
 "nbformat_minor": 4
}
