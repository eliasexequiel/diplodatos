{
 "cells": [
  {
   "cell_type": "code",
   "execution_count": 1,
   "metadata": {},
   "outputs": [],
   "source": [
    "import numpy as np\n",
    "import pandas as pd\n",
    "import matplotlib.pyplot as plt\n",
    "# TODO: Agregar las librerías que hagan falta\n",
    "from sklearn.model_selection import train_test_split\n",
    "from sklearn.linear_model import SGDClassifier\n",
    "from sklearn.metrics import mean_squared_error\n",
    "from sklearn.metrics import accuracy_score\n",
    "from sklearn.pipeline import make_pipeline\n",
    "from sklearn.preprocessing import StandardScaler\n",
    "from sklearn.metrics import precision_score\n",
    "from sklearn.metrics import recall_score\n",
    "from sklearn.metrics import f1_score\n",
    "from sklearn.metrics import confusion_matrix\n",
    "from sklearn.metrics import plot_confusion_matrix\n",
    "from sklearn.model_selection import KFold\n",
    "from sklearn.model_selection import StratifiedKFold\n",
    "from sklearn.model_selection import ParameterGrid\n",
    "from sklearn.model_selection import GridSearchCV\n",
    "from sklearn.utils.fixes import loguniform\n",
    "from scipy import stats\n",
    "from sklearn.model_selection import ParameterSampler\n",
    "from sklearn.model_selection import RandomizedSearchCV\n",
    "from sklearn.tree import DecisionTreeClassifier\n",
    "from sklearn.tree import plot_tree\n",
    "from random import randint\n",
    "from sklearn.metrics import classification_report"
   ]
  },
  {
   "cell_type": "code",
   "execution_count": 2,
   "metadata": {},
   "outputs": [],
   "source": [
    "dataset = pd.read_csv(\"loan_data.csv\", comment=\"#\")\n",
    "\n",
    "# División entre instancias y etiquetas\n",
    "X, y = dataset.iloc[:, 1:], dataset.TARGET\n",
    "\n",
    "# división entre entrenamiento y evaluación\n",
    "X_train, X_test, y_train, y_test = train_test_split(X, y, test_size=0.2, random_state=0)"
   ]
  },
  {
   "cell_type": "code",
   "execution_count": 3,
   "metadata": {},
   "outputs": [
    {
     "data": {
      "text/html": [
       "<div>\n",
       "<style scoped>\n",
       "    .dataframe tbody tr th:only-of-type {\n",
       "        vertical-align: middle;\n",
       "    }\n",
       "\n",
       "    .dataframe tbody tr th {\n",
       "        vertical-align: top;\n",
       "    }\n",
       "\n",
       "    .dataframe thead th {\n",
       "        text-align: right;\n",
       "    }\n",
       "</style>\n",
       "<table border=\"1\" class=\"dataframe\">\n",
       "  <thead>\n",
       "    <tr style=\"text-align: right;\">\n",
       "      <th></th>\n",
       "      <th>TARGET</th>\n",
       "      <th>LOAN</th>\n",
       "      <th>MORTDUE</th>\n",
       "      <th>VALUE</th>\n",
       "      <th>YOJ</th>\n",
       "      <th>DEROG</th>\n",
       "      <th>DELINQ</th>\n",
       "      <th>CLAGE</th>\n",
       "      <th>NINQ</th>\n",
       "      <th>CLNO</th>\n",
       "      <th>DEBTINC</th>\n",
       "    </tr>\n",
       "  </thead>\n",
       "  <tbody>\n",
       "    <tr>\n",
       "      <th>0</th>\n",
       "      <td>0</td>\n",
       "      <td>4700</td>\n",
       "      <td>88026.0</td>\n",
       "      <td>115506.0</td>\n",
       "      <td>6.0</td>\n",
       "      <td>0.0</td>\n",
       "      <td>0.0</td>\n",
       "      <td>182.248332</td>\n",
       "      <td>0.0</td>\n",
       "      <td>27.0</td>\n",
       "      <td>29.209023</td>\n",
       "    </tr>\n",
       "    <tr>\n",
       "      <th>1</th>\n",
       "      <td>0</td>\n",
       "      <td>19300</td>\n",
       "      <td>39926.0</td>\n",
       "      <td>101208.0</td>\n",
       "      <td>4.0</td>\n",
       "      <td>0.0</td>\n",
       "      <td>0.0</td>\n",
       "      <td>140.051638</td>\n",
       "      <td>0.0</td>\n",
       "      <td>14.0</td>\n",
       "      <td>31.545694</td>\n",
       "    </tr>\n",
       "    <tr>\n",
       "      <th>2</th>\n",
       "      <td>0</td>\n",
       "      <td>5700</td>\n",
       "      <td>71556.0</td>\n",
       "      <td>79538.0</td>\n",
       "      <td>2.0</td>\n",
       "      <td>0.0</td>\n",
       "      <td>0.0</td>\n",
       "      <td>92.643085</td>\n",
       "      <td>0.0</td>\n",
       "      <td>15.0</td>\n",
       "      <td>41.210012</td>\n",
       "    </tr>\n",
       "    <tr>\n",
       "      <th>3</th>\n",
       "      <td>0</td>\n",
       "      <td>13000</td>\n",
       "      <td>44875.0</td>\n",
       "      <td>57713.0</td>\n",
       "      <td>0.0</td>\n",
       "      <td>1.0</td>\n",
       "      <td>0.0</td>\n",
       "      <td>184.990324</td>\n",
       "      <td>1.0</td>\n",
       "      <td>12.0</td>\n",
       "      <td>28.602076</td>\n",
       "    </tr>\n",
       "    <tr>\n",
       "      <th>4</th>\n",
       "      <td>0</td>\n",
       "      <td>19300</td>\n",
       "      <td>72752.0</td>\n",
       "      <td>106084.0</td>\n",
       "      <td>11.0</td>\n",
       "      <td>0.0</td>\n",
       "      <td>0.0</td>\n",
       "      <td>193.707100</td>\n",
       "      <td>1.0</td>\n",
       "      <td>13.0</td>\n",
       "      <td>30.686106</td>\n",
       "    </tr>\n",
       "    <tr>\n",
       "      <th>...</th>\n",
       "      <td>...</td>\n",
       "      <td>...</td>\n",
       "      <td>...</td>\n",
       "      <td>...</td>\n",
       "      <td>...</td>\n",
       "      <td>...</td>\n",
       "      <td>...</td>\n",
       "      <td>...</td>\n",
       "      <td>...</td>\n",
       "      <td>...</td>\n",
       "      <td>...</td>\n",
       "    </tr>\n",
       "    <tr>\n",
       "      <th>1849</th>\n",
       "      <td>1</td>\n",
       "      <td>53400</td>\n",
       "      <td>228236.0</td>\n",
       "      <td>305514.0</td>\n",
       "      <td>6.0</td>\n",
       "      <td>0.0</td>\n",
       "      <td>0.0</td>\n",
       "      <td>11.148069</td>\n",
       "      <td>0.0</td>\n",
       "      <td>2.0</td>\n",
       "      <td>34.558417</td>\n",
       "    </tr>\n",
       "    <tr>\n",
       "      <th>1850</th>\n",
       "      <td>1</td>\n",
       "      <td>53600</td>\n",
       "      <td>235895.0</td>\n",
       "      <td>299772.0</td>\n",
       "      <td>5.0</td>\n",
       "      <td>0.0</td>\n",
       "      <td>0.0</td>\n",
       "      <td>112.748282</td>\n",
       "      <td>7.0</td>\n",
       "      <td>22.0</td>\n",
       "      <td>44.945929</td>\n",
       "    </tr>\n",
       "    <tr>\n",
       "      <th>1851</th>\n",
       "      <td>1</td>\n",
       "      <td>53600</td>\n",
       "      <td>208197.0</td>\n",
       "      <td>297280.0</td>\n",
       "      <td>4.0</td>\n",
       "      <td>1.0</td>\n",
       "      <td>1.0</td>\n",
       "      <td>160.485251</td>\n",
       "      <td>2.0</td>\n",
       "      <td>29.0</td>\n",
       "      <td>41.646731</td>\n",
       "    </tr>\n",
       "    <tr>\n",
       "      <th>1852</th>\n",
       "      <td>1</td>\n",
       "      <td>65500</td>\n",
       "      <td>205156.0</td>\n",
       "      <td>290239.0</td>\n",
       "      <td>2.0</td>\n",
       "      <td>0.0</td>\n",
       "      <td>0.0</td>\n",
       "      <td>98.808206</td>\n",
       "      <td>1.0</td>\n",
       "      <td>21.0</td>\n",
       "      <td>144.189001</td>\n",
       "    </tr>\n",
       "    <tr>\n",
       "      <th>1853</th>\n",
       "      <td>1</td>\n",
       "      <td>77400</td>\n",
       "      <td>87651.0</td>\n",
       "      <td>224630.0</td>\n",
       "      <td>9.0</td>\n",
       "      <td>0.0</td>\n",
       "      <td>2.0</td>\n",
       "      <td>73.469630</td>\n",
       "      <td>3.0</td>\n",
       "      <td>13.0</td>\n",
       "      <td>40.929793</td>\n",
       "    </tr>\n",
       "  </tbody>\n",
       "</table>\n",
       "<p>1854 rows × 11 columns</p>\n",
       "</div>"
      ],
      "text/plain": [
       "      TARGET   LOAN   MORTDUE     VALUE   YOJ  DEROG  DELINQ       CLAGE  \\\n",
       "0          0   4700   88026.0  115506.0   6.0    0.0     0.0  182.248332   \n",
       "1          0  19300   39926.0  101208.0   4.0    0.0     0.0  140.051638   \n",
       "2          0   5700   71556.0   79538.0   2.0    0.0     0.0   92.643085   \n",
       "3          0  13000   44875.0   57713.0   0.0    1.0     0.0  184.990324   \n",
       "4          0  19300   72752.0  106084.0  11.0    0.0     0.0  193.707100   \n",
       "...      ...    ...       ...       ...   ...    ...     ...         ...   \n",
       "1849       1  53400  228236.0  305514.0   6.0    0.0     0.0   11.148069   \n",
       "1850       1  53600  235895.0  299772.0   5.0    0.0     0.0  112.748282   \n",
       "1851       1  53600  208197.0  297280.0   4.0    1.0     1.0  160.485251   \n",
       "1852       1  65500  205156.0  290239.0   2.0    0.0     0.0   98.808206   \n",
       "1853       1  77400   87651.0  224630.0   9.0    0.0     2.0   73.469630   \n",
       "\n",
       "      NINQ  CLNO     DEBTINC  \n",
       "0      0.0  27.0   29.209023  \n",
       "1      0.0  14.0   31.545694  \n",
       "2      0.0  15.0   41.210012  \n",
       "3      1.0  12.0   28.602076  \n",
       "4      1.0  13.0   30.686106  \n",
       "...    ...   ...         ...  \n",
       "1849   0.0   2.0   34.558417  \n",
       "1850   7.0  22.0   44.945929  \n",
       "1851   2.0  29.0   41.646731  \n",
       "1852   1.0  21.0  144.189001  \n",
       "1853   3.0  13.0   40.929793  \n",
       "\n",
       "[1854 rows x 11 columns]"
      ]
     },
     "execution_count": 3,
     "metadata": {},
     "output_type": "execute_result"
    }
   ],
   "source": [
    "dataset"
   ]
  },
  {
   "cell_type": "markdown",
   "metadata": {},
   "source": [
    "## Ejercicio 1: Descripción de los Datos y la Tarea\n",
    "\n",
    "Responder las siguientes preguntas:\n",
    "\n",
    "1. ¿De qué se trata el conjunto de datos?\n",
    "2. ¿Cuál es la variable objetivo que hay que predecir? ¿Qué significado tiene?\n",
    "3. ¿Qué información (atributos) hay disponible para hacer la predicción?\n",
    "4. ¿Qué atributos imagina ud. que son los más determinantes para la predicción?\n",
    "\n",
    "**No hace falta escribir código para responder estas preguntas.**"
   ]
  },
  {
   "cell_type": "markdown",
   "metadata": {},
   "source": [
    "1. El conjunto de datos trata sobre préstamos y está basado en el conjunto de datos de Kaggle Home Equity. El conjunto de datos trata sobre el valor líquido de la vivienda (HMEQ) contiene información de referencia y de rendimiento de préstamos.\n",
    "2. La variable objetivo a predecir es TARGET, es una variable binaria que indica si un solicitante eventualmente incurrió en incumplimiento o fue gravemente moroso.\n",
    "3. Los atributos disponibles para hacer la predicción son:\n",
    "\n",
    "\n",
    "* LOAN: Monto de la solicitud de préstamo\n",
    "* MORTDUE: Monto adeudado de la hipoteca existente\n",
    "* VALUE: Valor de la propiedad actual\n",
    "* YOJ: Años en el trabajo actual\n",
    "* DEROG: Número de informes despectivos importantes\n",
    "* DELINQ: Número de líneas de crédito morosas\n",
    "* CLAGE: Antigüedad de la línea comercial más antigua en meses\n",
    "* NINQ: Número de líneas de crédito recientes\n",
    "* CLNO: Número de líneas de crédito\n",
    "* DEBTINC: Relación deuda-ingresos\n",
    "4. Consideramos que los atributos mas determinantes para realizar la predicción son:\n",
    "* LOAN, MORTDUE, YOJ, DELINQ, DEBTINC"
   ]
  },
  {
   "cell_type": "markdown",
   "metadata": {},
   "source": [
    "## Ejercicio 2: Predicción con Modelos Lineales\n",
    "\n",
    "En este ejercicio se entrenarán modelos lineales de clasificación para predecir la variable objetivo.\n",
    "\n",
    "Para ello, deberán utilizar la clase SGDClassifier de scikit-learn.\n",
    "\n",
    "Documentación:\n",
    "- https://scikit-learn.org/stable/modules/sgd.html\n",
    "- https://scikit-learn.org/stable/modules/generated/sklearn.linear_model.SGDClassifier.html\n"
   ]
  },
  {
   "cell_type": "markdown",
   "metadata": {},
   "source": [
    "### Ejercicio 2.1: SGDClassifier con hiperparámetros por defecto\n",
    "\n",
    "Entrenar y evaluar el clasificador SGDClassifier usando los valores por omisión de scikit-learn para todos los parámetros. Únicamente **fijar la semilla aleatoria** para hacer repetible el experimento.\n",
    "\n",
    "Evaluar sobre el conjunto de **entrenamiento** y sobre el conjunto de **evaluación**, reportando:\n",
    "- Accuracy\n",
    "- Precision\n",
    "- Recall\n",
    "- F1\n",
    "- matriz de confusión"
   ]
  },
  {
   "cell_type": "code",
   "execution_count": 4,
   "metadata": {},
   "outputs": [
    {
     "name": "stdout",
     "output_type": "stream",
     "text": [
      "train accuracy score  0.85\n",
      "test accuracy score  0.85\n",
      "train precision score  0.58\n",
      "test precision score  0.57\n",
      "train recall score  0.33\n",
      "test recall score  0.29\n",
      "train f1 score  0.42\n",
      "test f1 score  0.39\n"
     ]
    }
   ],
   "source": [
    "#pruebo escalando previamente los datos por recomendacion de la documentacion\n",
    "model = make_pipeline(StandardScaler(), SGDClassifier(random_state=123))\n",
    "model.fit(X_train, y_train)\n",
    "y_train_pred = model.predict(X_train)\n",
    "y_test_pred = model.predict(X_test)\n",
    "print('train accuracy score ', accuracy_score(y_train,y_train_pred).round(2))\n",
    "print('test accuracy score ', accuracy_score(y_test,y_test_pred).round(2))\n",
    "print('train precision score ', precision_score(y_train,y_train_pred).round(2))\n",
    "print('test precision score ', precision_score(y_test,y_test_pred).round(2))\n",
    "print('train recall score ', recall_score(y_train,y_train_pred) .round(2))\n",
    "print('test recall score ', recall_score(y_test,y_test_pred) .round(2))\n",
    "print('train f1 score ', f1_score(y_train,y_train_pred).round(2))\n",
    "print('test f1 score ', f1_score(y_test,y_test_pred).round(2))"
   ]
  },
  {
   "cell_type": "code",
   "execution_count": 5,
   "metadata": {},
   "outputs": [
    {
     "name": "stdout",
     "output_type": "stream",
     "text": [
      "Reporte de train\n",
      "              precision    recall  f1-score   support\n",
      "\n",
      "      repaid       0.88      0.95      0.91      1232\n",
      "   defaulted       0.58      0.33      0.42       251\n",
      "\n",
      "    accuracy                           0.85      1483\n",
      "   macro avg       0.73      0.64      0.67      1483\n",
      "weighted avg       0.83      0.85      0.83      1483\n",
      "\n"
     ]
    }
   ],
   "source": [
    "target_names = ['repaid', 'defaulted']\n",
    "print(\"Reporte de train\")\n",
    "print(classification_report(y_train, y_train_pred, target_names=target_names))"
   ]
  },
  {
   "cell_type": "code",
   "execution_count": 6,
   "metadata": {},
   "outputs": [
    {
     "name": "stdout",
     "output_type": "stream",
     "text": [
      "Reporte de test\n",
      "              precision    recall  f1-score   support\n",
      "\n",
      "      repaid       0.88      0.96      0.92       313\n",
      "   defaulted       0.57      0.29      0.39        58\n",
      "\n",
      "    accuracy                           0.85       371\n",
      "   macro avg       0.72      0.63      0.65       371\n",
      "weighted avg       0.83      0.85      0.83       371\n",
      "\n"
     ]
    }
   ],
   "source": [
    "target_names = ['repaid', 'defaulted']\n",
    "print(\"Reporte de test\")\n",
    "print(classification_report(y_test, y_test_pred, target_names=target_names))"
   ]
  },
  {
   "cell_type": "code",
   "execution_count": 7,
   "metadata": {},
   "outputs": [
    {
     "name": "stdout",
     "output_type": "stream",
     "text": [
      "matriz de confusion train\n",
      "[[1171   61]\n",
      " [ 167   84]]\n",
      "matriz de confusion train\n"
     ]
    },
    {
     "data": {
      "text/plain": [
       "<sklearn.metrics._plot.confusion_matrix.ConfusionMatrixDisplay at 0x7f8b3d02e190>"
      ]
     },
     "execution_count": 7,
     "metadata": {},
     "output_type": "execute_result"
    },
    {
     "data": {
      "image/png": "[encoded data removed]",
      "text/plain": [
       "<Figure size 432x288 with 2 Axes>"
      ]
     },
     "metadata": {
      "needs_background": "light"
     },
     "output_type": "display_data"
    }
   ],
   "source": [
    "cm=confusion_matrix(y_train,y_train_pred)\n",
    "print('matriz de confusion train')\n",
    "print(cm)\n",
    "tn, fp, fn, tp = confusion_matrix(y_train,y_train_pred).ravel()\n",
    "print('matriz de confusion train')\n",
    "plot_confusion_matrix(model.fit(X_train, y_train), X_train, y_train,\n",
    "                                 display_labels=target_names,\n",
    "                                 cmap=plt.cm.Blues,\n",
    "                                 normalize='true')"
   ]
  },
  {
   "cell_type": "code",
   "execution_count": 8,
   "metadata": {},
   "outputs": [
    {
     "name": "stdout",
     "output_type": "stream",
     "text": [
      "matriz de confusion test\n",
      "[[300  13]\n",
      " [ 41  17]]\n",
      "matriz de confusion test\n"
     ]
    },
    {
     "data": {
      "text/plain": [
       "<sklearn.metrics._plot.confusion_matrix.ConfusionMatrixDisplay at 0x7f8b3cfe6910>"
      ]
     },
     "execution_count": 8,
     "metadata": {},
     "output_type": "execute_result"
    },
    {
     "data": {
      "image/png": "[encoded data removed]",
      "text/plain": [
       "<Figure size 432x288 with 2 Axes>"
      ]
     },
     "metadata": {
      "needs_background": "light"
     },
     "output_type": "display_data"
    }
   ],
   "source": [
    "cm=confusion_matrix(y_test,y_test_pred)\n",
    "print('matriz de confusion test')\n",
    "print(cm)\n",
    "tn, fp, fn, tp = confusion_matrix(y_test,y_test_pred).ravel()\n",
    "print('matriz de confusion test')\n",
    "plot_confusion_matrix(model.fit(X_train, y_train), X_test, y_test,\n",
    "                                 display_labels=target_names,\n",
    "                                 cmap=plt.cm.Blues,\n",
    "                                 normalize='true')"
   ]
  },
  {
   "cell_type": "markdown",
   "metadata": {},
   "source": [
    "Se puede ver como los datos están desbalanceados, por ello podemos ver que las métricas pueden ser muy altas para predecir el repaid y muy malas para el defaulted."
   ]
  },
  {
   "cell_type": "code",
   "execution_count": 9,
   "metadata": {},
   "outputs": [],
   "source": [
    "# Balanceamos el dataset\n",
    "from imblearn.over_sampling import SMOTE\n",
    "over = SMOTE()\n",
    "X_bal, y_bal = over.fit_resample(X_train, y_train)"
   ]
  },
  {
   "cell_type": "code",
   "execution_count": 10,
   "metadata": {},
   "outputs": [
    {
     "name": "stdout",
     "output_type": "stream",
     "text": [
      "train accuracy score  0.75\n",
      "test accuracy score  0.74\n",
      "train precision score  0.76\n",
      "test precision score  0.33\n",
      "train recall score  0.74\n",
      "test recall score  0.67\n",
      "train f1 score  0.75\n",
      "test f1 score  0.45\n"
     ]
    }
   ],
   "source": [
    "#pruebo escalando previamente los datos por recomendacion de la documentacion\n",
    "model_balanced = make_pipeline(StandardScaler(), SGDClassifier(random_state=123))\n",
    "model_balanced.fit(X_bal, y_bal)\n",
    "y_train_pred = model_balanced.predict(X_bal)\n",
    "y_test_pred = model_balanced.predict(X_test)\n",
    "print('train accuracy score ', accuracy_score(y_bal,y_train_pred).round(2))\n",
    "print('test accuracy score ', accuracy_score(y_test,y_test_pred).round(2))\n",
    "print('train precision score ', precision_score(y_bal,y_train_pred).round(2))\n",
    "print('test precision score ', precision_score(y_test,y_test_pred).round(2))\n",
    "print('train recall score ', recall_score(y_bal,y_train_pred) .round(2))\n",
    "print('test recall score ', recall_score(y_test,y_test_pred) .round(2))\n",
    "print('train f1 score ', f1_score(y_bal,y_train_pred).round(2))\n",
    "print('test f1 score ', f1_score(y_test,y_test_pred).round(2))"
   ]
  },
  {
   "cell_type": "code",
   "execution_count": 11,
   "metadata": {},
   "outputs": [
    {
     "name": "stdout",
     "output_type": "stream",
     "text": [
      "Reporte de train\n",
      "              precision    recall  f1-score   support\n",
      "\n",
      "      repaid       0.75      0.77      0.76      1232\n",
      "   defaulted       0.76      0.74      0.75      1232\n",
      "\n",
      "    accuracy                           0.75      2464\n",
      "   macro avg       0.75      0.75      0.75      2464\n",
      "weighted avg       0.75      0.75      0.75      2464\n",
      "\n"
     ]
    }
   ],
   "source": [
    "print(\"Reporte de train\")\n",
    "print(classification_report(y_bal, y_train_pred, target_names=target_names))"
   ]
  },
  {
   "cell_type": "code",
   "execution_count": 12,
   "metadata": {},
   "outputs": [
    {
     "name": "stdout",
     "output_type": "stream",
     "text": [
      "Reporte de test\n",
      "              precision    recall  f1-score   support\n",
      "\n",
      "      repaid       0.93      0.75      0.83       313\n",
      "   defaulted       0.33      0.67      0.45        58\n",
      "\n",
      "    accuracy                           0.74       371\n",
      "   macro avg       0.63      0.71      0.64       371\n",
      "weighted avg       0.83      0.74      0.77       371\n",
      "\n"
     ]
    }
   ],
   "source": [
    "print(\"Reporte de test\")\n",
    "print(classification_report(y_test, y_test_pred, target_names=target_names))"
   ]
  },
  {
   "cell_type": "code",
   "execution_count": 13,
   "metadata": {},
   "outputs": [
    {
     "name": "stdout",
     "output_type": "stream",
     "text": [
      "matriz de confusion train\n",
      "[[945 287]\n",
      " [321 911]]\n",
      "matriz de confusion train\n"
     ]
    },
    {
     "data": {
      "text/plain": [
       "<sklearn.metrics._plot.confusion_matrix.ConfusionMatrixDisplay at 0x7f8b3c367d90>"
      ]
     },
     "execution_count": 13,
     "metadata": {},
     "output_type": "execute_result"
    },
    {
     "data": {
      "image/png": "[encoded data removed]",
      "text/plain": [
       "<Figure size 432x288 with 2 Axes>"
      ]
     },
     "metadata": {
      "needs_background": "light"
     },
     "output_type": "display_data"
    }
   ],
   "source": [
    "cm=confusion_matrix(y_bal,y_train_pred)\n",
    "print('matriz de confusion train')\n",
    "print(cm)\n",
    "tn, fp, fn, tp = confusion_matrix(y_bal,y_train_pred).ravel()\n",
    "print('matriz de confusion train')\n",
    "plot_confusion_matrix(model_balanced.fit(X_bal, y_bal), X_bal, y_bal,\n",
    "                                 display_labels=target_names,\n",
    "                                 cmap=plt.cm.Blues,\n",
    "                                 normalize='true')"
   ]
  },
  {
   "cell_type": "code",
   "execution_count": 14,
   "metadata": {},
   "outputs": [
    {
     "name": "stdout",
     "output_type": "stream",
     "text": [
      "matriz de confusion test\n",
      "[[235  78]\n",
      " [ 19  39]]\n",
      "matriz de confusion test\n"
     ]
    },
    {
     "data": {
      "text/plain": [
       "<sklearn.metrics._plot.confusion_matrix.ConfusionMatrixDisplay at 0x7f8b3c2ffe20>"
      ]
     },
     "execution_count": 14,
     "metadata": {},
     "output_type": "execute_result"
    },
    {
     "data": {
      "image/png": "[encoded data removed]",
      "text/plain": [
       "<Figure size 432x288 with 2 Axes>"
      ]
     },
     "metadata": {
      "needs_background": "light"
     },
     "output_type": "display_data"
    }
   ],
   "source": [
    "cm=confusion_matrix(y_test,y_test_pred)\n",
    "print('matriz de confusion test')\n",
    "print(cm)\n",
    "tn, fp, fn, tp = confusion_matrix(y_test,y_test_pred).ravel()\n",
    "print('matriz de confusion test')\n",
    "plot_confusion_matrix(model_balanced.fit(X_bal, y_bal), X_test, y_test,\n",
    "                                 display_labels=target_names,\n",
    "                                 cmap=plt.cm.Blues,\n",
    "                                 normalize='true')"
   ]
  },
  {
   "cell_type": "markdown",
   "metadata": {},
   "source": [
    "Vemos como el modelo balanceado predice mejor los valores de test de ambas clases. Es capaz de predecir las dos etiquetas con un accuracy mas balanceado. En el anterior veiamos como el modelo solo era bueno prediciendo una sola etiqueta, con la otra tenía mucho porcentaje de predecidos como repaid siendo defaulted."
   ]
  },
  {
   "cell_type": "markdown",
   "metadata": {},
   "source": [
    "### Ejercicio 2.2: Ajuste de Hiperparámetros\n",
    "\n",
    "Seleccionar valores para los hiperparámetros principales del SGDClassifier. Como mínimo, probar diferentes funciones de loss, tasas de entrenamiento y tasas de regularización.\n",
    "\n",
    "Para ello, usar grid-search y 5-fold cross-validation sobre el conjunto de entrenamiento para explorar muchas combinaciones posibles de valores.\n",
    "\n",
    "Reportar accuracy promedio y varianza para todas las configuraciones.\n",
    "\n",
    "Para la mejor configuración encontrada, evaluar sobre el conjunto de **entrenamiento** y sobre el conjunto de **evaluación**, reportando:\n",
    "- Accuracy\n",
    "- Precision\n",
    "- Recall\n",
    "- F1\n",
    "- matriz de confusión\n",
    "\n",
    "Documentación:\n",
    "- https://scikit-learn.org/stable/modules/grid_search.html\n",
    "- https://scikit-learn.org/stable/modules/generated/sklearn.model_selection.GridSearchCV.html"
   ]
  },
  {
   "cell_type": "code",
   "execution_count": 15,
   "metadata": {},
   "outputs": [],
   "source": [
    "param_grid = {\n",
    "    'loss': [ 'hinge', 'log', 'modified_huber', 'squared_hinge', 'perceptron'],\n",
    "    'learning_rate': ['optimal','constant','invscaling','adaptive'],\n",
    "    'alpha':loguniform(1e-1, 1e2),\n",
    "    'penalty':['l2', 'l1', 'elasticnet']\n",
    "}"
   ]
  },
  {
   "cell_type": "code",
   "execution_count": 16,
   "metadata": {},
   "outputs": [],
   "source": [
    "#tengo que escalar por separado\n",
    "scaler=StandardScaler()\n",
    "X_bal_scaled = scaler.fit_transform(X_bal)\n",
    "model = SGDClassifier(random_state=123,eta0=1)\n",
    "\n",
    "cv = RandomizedSearchCV(model, param_grid, n_iter=10, cv=5, random_state=123)\n",
    "cv.fit(X_bal_scaled, y_bal);#aca no deberia ir X_train e y_train?"
   ]
  },
  {
   "cell_type": "code",
   "execution_count": 17,
   "metadata": {},
   "outputs": [
    {
     "data": {
      "text/html": [
       "<div>\n",
       "<style scoped>\n",
       "    .dataframe tbody tr th:only-of-type {\n",
       "        vertical-align: middle;\n",
       "    }\n",
       "\n",
       "    .dataframe tbody tr th {\n",
       "        vertical-align: top;\n",
       "    }\n",
       "\n",
       "    .dataframe thead th {\n",
       "        text-align: right;\n",
       "    }\n",
       "</style>\n",
       "<table border=\"1\" class=\"dataframe\">\n",
       "  <thead>\n",
       "    <tr style=\"text-align: right;\">\n",
       "      <th></th>\n",
       "      <th>param_loss</th>\n",
       "      <th>param_alpha</th>\n",
       "      <th>param_penalty</th>\n",
       "      <th>param_learning_rate</th>\n",
       "      <th>mean_test_score</th>\n",
       "      <th>std_test_score</th>\n",
       "      <th>rank_test_score</th>\n",
       "    </tr>\n",
       "  </thead>\n",
       "  <tbody>\n",
       "    <tr>\n",
       "      <th>0</th>\n",
       "      <td>modified_huber</td>\n",
       "      <td>12.285916</td>\n",
       "      <td>l2</td>\n",
       "      <td>invscaling</td>\n",
       "      <td>0.626263</td>\n",
       "      <td>0.068702</td>\n",
       "      <td>5</td>\n",
       "    </tr>\n",
       "    <tr>\n",
       "      <th>1</th>\n",
       "      <td>squared_hinge</td>\n",
       "      <td>11.821009</td>\n",
       "      <td>elasticnet</td>\n",
       "      <td>constant</td>\n",
       "      <td>0.525152</td>\n",
       "      <td>0.048785</td>\n",
       "      <td>6</td>\n",
       "    </tr>\n",
       "    <tr>\n",
       "      <th>2</th>\n",
       "      <td>log</td>\n",
       "      <td>1.859171</td>\n",
       "      <td>l2</td>\n",
       "      <td>invscaling</td>\n",
       "      <td>0.709416</td>\n",
       "      <td>0.005456</td>\n",
       "      <td>4</td>\n",
       "    </tr>\n",
       "    <tr>\n",
       "      <th>3</th>\n",
       "      <td>log</td>\n",
       "      <td>5.483816</td>\n",
       "      <td>l2</td>\n",
       "      <td>adaptive</td>\n",
       "      <td>0.735809</td>\n",
       "      <td>0.022311</td>\n",
       "      <td>3</td>\n",
       "    </tr>\n",
       "    <tr>\n",
       "      <th>4</th>\n",
       "      <td>log</td>\n",
       "      <td>1.07037</td>\n",
       "      <td>elasticnet</td>\n",
       "      <td>adaptive</td>\n",
       "      <td>0.499189</td>\n",
       "      <td>0.000406</td>\n",
       "      <td>10</td>\n",
       "    </tr>\n",
       "    <tr>\n",
       "      <th>5</th>\n",
       "      <td>hinge</td>\n",
       "      <td>0.15102</td>\n",
       "      <td>l2</td>\n",
       "      <td>optimal</td>\n",
       "      <td>0.739458</td>\n",
       "      <td>0.016613</td>\n",
       "      <td>1</td>\n",
       "    </tr>\n",
       "    <tr>\n",
       "      <th>6</th>\n",
       "      <td>modified_huber</td>\n",
       "      <td>7.859159</td>\n",
       "      <td>l2</td>\n",
       "      <td>adaptive</td>\n",
       "      <td>0.737841</td>\n",
       "      <td>0.022658</td>\n",
       "      <td>2</td>\n",
       "    </tr>\n",
       "    <tr>\n",
       "      <th>7</th>\n",
       "      <td>hinge</td>\n",
       "      <td>3.932368</td>\n",
       "      <td>l1</td>\n",
       "      <td>optimal</td>\n",
       "      <td>0.500000</td>\n",
       "      <td>0.000907</td>\n",
       "      <td>8</td>\n",
       "    </tr>\n",
       "    <tr>\n",
       "      <th>8</th>\n",
       "      <td>squared_hinge</td>\n",
       "      <td>35.342347</td>\n",
       "      <td>l2</td>\n",
       "      <td>constant</td>\n",
       "      <td>0.515822</td>\n",
       "      <td>0.056379</td>\n",
       "      <td>7</td>\n",
       "    </tr>\n",
       "    <tr>\n",
       "      <th>9</th>\n",
       "      <td>log</td>\n",
       "      <td>1.18355</td>\n",
       "      <td>l1</td>\n",
       "      <td>invscaling</td>\n",
       "      <td>0.500000</td>\n",
       "      <td>0.000907</td>\n",
       "      <td>8</td>\n",
       "    </tr>\n",
       "  </tbody>\n",
       "</table>\n",
       "</div>"
      ],
      "text/plain": [
       "       param_loss param_alpha param_penalty param_learning_rate  \\\n",
       "0  modified_huber   12.285916            l2          invscaling   \n",
       "1   squared_hinge   11.821009    elasticnet            constant   \n",
       "2             log    1.859171            l2          invscaling   \n",
       "3             log    5.483816            l2            adaptive   \n",
       "4             log     1.07037    elasticnet            adaptive   \n",
       "5           hinge     0.15102            l2             optimal   \n",
       "6  modified_huber    7.859159            l2            adaptive   \n",
       "7           hinge    3.932368            l1             optimal   \n",
       "8   squared_hinge   35.342347            l2            constant   \n",
       "9             log     1.18355            l1          invscaling   \n",
       "\n",
       "   mean_test_score  std_test_score  rank_test_score  \n",
       "0         0.626263        0.068702                5  \n",
       "1         0.525152        0.048785                6  \n",
       "2         0.709416        0.005456                4  \n",
       "3         0.735809        0.022311                3  \n",
       "4         0.499189        0.000406               10  \n",
       "5         0.739458        0.016613                1  \n",
       "6         0.737841        0.022658                2  \n",
       "7         0.500000        0.000907                8  \n",
       "8         0.515822        0.056379                7  \n",
       "9         0.500000        0.000907                8  "
      ]
     },
     "execution_count": 17,
     "metadata": {},
     "output_type": "execute_result"
    }
   ],
   "source": [
    "results = cv.cv_results_\n",
    "df = pd.DataFrame(results)\n",
    "df[['param_loss', 'param_alpha','param_penalty','param_learning_rate', 'mean_test_score', \n",
    "    'std_test_score', 'rank_test_score']]"
   ]
  },
  {
   "cell_type": "code",
   "execution_count": 18,
   "metadata": {},
   "outputs": [
    {
     "name": "stdout",
     "output_type": "stream",
     "text": [
      "Reporte de train\n",
      "              precision    recall  f1-score   support\n",
      "\n",
      "      repaid       0.70      0.86      0.77      1232\n",
      "   defaulted       0.82      0.62      0.71      1232\n",
      "\n",
      "    accuracy                           0.74      2464\n",
      "   macro avg       0.76      0.74      0.74      2464\n",
      "weighted avg       0.76      0.74      0.74      2464\n",
      "\n",
      "Reporte de test\n",
      "              precision    recall  f1-score   support\n",
      "\n",
      "      repaid       0.93      0.86      0.89       313\n",
      "   defaulted       0.46      0.64      0.54        58\n",
      "\n",
      "    accuracy                           0.83       371\n",
      "   macro avg       0.70      0.75      0.72       371\n",
      "weighted avg       0.86      0.83      0.84       371\n",
      "\n"
     ]
    }
   ],
   "source": [
    "#utilizo el mejor rankeado\n",
    "model_rank = make_pipeline(StandardScaler(), \n",
    "                      SGDClassifier(\n",
    "                          loss='hinge',\n",
    "                          alpha=0.15102\t,\n",
    "                          penalty='l2',\n",
    "                          learning_rate='optimal',\n",
    "                          eta0=1,\n",
    "                          random_state=123))\n",
    "model_rank.fit(X_bal, y_bal)\n",
    "y_train_pred = model_rank.predict(X_bal)\n",
    "y_test_pred = model_rank.predict(X_test)\n",
    "print(\"Reporte de train\")\n",
    "print(classification_report(y_bal, y_train_pred, target_names=target_names))\n",
    "print(\"Reporte de test\")\n",
    "print(classification_report(y_test, y_test_pred, target_names=target_names))"
   ]
  },
  {
   "cell_type": "code",
   "execution_count": 19,
   "metadata": {},
   "outputs": [
    {
     "name": "stdout",
     "output_type": "stream",
     "text": [
      "matriz de confusion train\n",
      "[[1059  173]\n",
      " [ 462  770]]\n",
      "matriz de confusion train\n"
     ]
    },
    {
     "data": {
      "text/plain": [
       "<sklearn.metrics._plot.confusion_matrix.ConfusionMatrixDisplay at 0x7f8b3d02ef40>"
      ]
     },
     "execution_count": 19,
     "metadata": {},
     "output_type": "execute_result"
    },
    {
     "data": {
      "image/png": "[encoded data removed]",
      "text/plain": [
       "<Figure size 432x288 with 2 Axes>"
      ]
     },
     "metadata": {
      "needs_background": "light"
     },
     "output_type": "display_data"
    }
   ],
   "source": [
    "cm=confusion_matrix(y_bal,y_train_pred)\n",
    "print('matriz de confusion train')\n",
    "print(cm)\n",
    "tn, fp, fn, tp = confusion_matrix(y_bal,y_train_pred).ravel()\n",
    "print('matriz de confusion train')\n",
    "plot_confusion_matrix(model_rank.fit(X_bal, y_bal), X_bal, y_bal,\n",
    "                                 display_labels=target_names,\n",
    "                                 cmap=plt.cm.Blues,\n",
    "                                 normalize='true')"
   ]
  },
  {
   "cell_type": "code",
   "execution_count": 20,
   "metadata": {},
   "outputs": [
    {
     "name": "stdout",
     "output_type": "stream",
     "text": [
      "matriz de confusion test\n",
      "[[270  43]\n",
      " [ 21  37]]\n",
      "matriz de confusion test\n"
     ]
    },
    {
     "data": {
      "text/plain": [
       "<sklearn.metrics._plot.confusion_matrix.ConfusionMatrixDisplay at 0x7f8b3a9a9be0>"
      ]
     },
     "execution_count": 20,
     "metadata": {},
     "output_type": "execute_result"
    },
    {
     "data": {
      "image/png": "[encoded data removed]",
      "text/plain": [
       "<Figure size 432x288 with 2 Axes>"
      ]
     },
     "metadata": {
      "needs_background": "light"
     },
     "output_type": "display_data"
    }
   ],
   "source": [
    "cm=confusion_matrix(y_test,y_test_pred)\n",
    "print('matriz de confusion test')\n",
    "print(cm)\n",
    "tn, fp, fn, tp = confusion_matrix(y_test,y_test_pred).ravel()\n",
    "print('matriz de confusion test')\n",
    "plot_confusion_matrix(model_rank.fit(X_bal, y_bal), X_test, y_test,\n",
    "                                 display_labels=target_names,\n",
    "                                 cmap=plt.cm.Blues,\n",
    "                                 normalize='true')"
   ]
  },
  {
   "cell_type": "markdown",
   "metadata": {},
   "source": [
    "Al seleccionar los hiperparámetros, mejoraron los métricas de accuracy y f1-score. En problemas de clasificación de datos desbalanceados, f1-score es una mejor métrica para evaluar un modelo."
   ]
  },
  {
   "cell_type": "markdown",
   "metadata": {},
   "source": [
    "## Ejercicio 3: Árboles de Decisión\n",
    "\n",
    "En este ejercicio se entrenarán árboles de decisión para predecir la variable objetivo.\n",
    "\n",
    "Para ello, deberán utilizar la clase DecisionTreeClassifier de scikit-learn.\n",
    "\n",
    "Documentación:\n",
    "- https://scikit-learn.org/stable/modules/tree.html\n",
    "  - https://scikit-learn.org/stable/modules/tree.html#tips-on-practical-use\n",
    "- https://scikit-learn.org/stable/modules/generated/sklearn.tree.DecisionTreeClassifier.html\n",
    "- https://scikit-learn.org/stable/auto_examples/tree/plot_unveil_tree_structure.html"
   ]
  },
  {
   "cell_type": "markdown",
   "metadata": {},
   "source": [
    "### Ejercicio 3.1: DecisionTreeClassifier con hiperparámetros por defecto\n",
    "\n",
    "Entrenar y evaluar el clasificador DecisionTreeClassifier usando los valores por omisión de scikit-learn para todos los parámetros. Únicamente **fijar la semilla aleatoria** para hacer repetible el experimento.\n",
    "\n",
    "Evaluar sobre el conjunto de **entrenamiento** y sobre el conjunto de **evaluación**, reportando:\n",
    "- Accuracy\n",
    "- Precision\n",
    "- Recall\n",
    "- F1\n",
    "- matriz de confusión"
   ]
  },
  {
   "cell_type": "code",
   "execution_count": 21,
   "metadata": {},
   "outputs": [
    {
     "name": "stdout",
     "output_type": "stream",
     "text": [
      "Reporte de train\n",
      "              precision    recall  f1-score   support\n",
      "\n",
      "      repaid       1.00      1.00      1.00      1232\n",
      "   defaulted       1.00      1.00      1.00      1232\n",
      "\n",
      "    accuracy                           1.00      2464\n",
      "   macro avg       1.00      1.00      1.00      2464\n",
      "weighted avg       1.00      1.00      1.00      2464\n",
      "\n",
      "Reporte de test\n",
      "              precision    recall  f1-score   support\n",
      "\n",
      "      repaid       0.94      0.92      0.93       313\n",
      "   defaulted       0.61      0.71      0.66        58\n",
      "\n",
      "    accuracy                           0.88       371\n",
      "   macro avg       0.78      0.81      0.79       371\n",
      "weighted avg       0.89      0.88      0.89       371\n",
      "\n"
     ]
    }
   ],
   "source": [
    "model_dtc = DecisionTreeClassifier(random_state=123)\n",
    "model_dtc.fit(X_bal, y_bal)\n",
    "y_train_pred = model_dtc.predict(X_bal)\n",
    "y_test_pred = model_dtc.predict(X_test)\n",
    "print(\"Reporte de train\")\n",
    "print(classification_report(y_bal, y_train_pred, target_names=target_names))\n",
    "print(\"Reporte de test\")\n",
    "print(classification_report(y_test, y_test_pred, target_names=target_names))"
   ]
  },
  {
   "cell_type": "markdown",
   "metadata": {},
   "source": [
    "Si no se le hace pruning el arbol de decisión overfitea por los datos de train."
   ]
  },
  {
   "cell_type": "code",
   "execution_count": 22,
   "metadata": {},
   "outputs": [
    {
     "name": "stdout",
     "output_type": "stream",
     "text": [
      "matriz de confusion train\n",
      "[[1232    0]\n",
      " [   0 1232]]\n",
      "matriz de confusion train\n"
     ]
    },
    {
     "data": {
      "text/plain": [
       "<sklearn.metrics._plot.confusion_matrix.ConfusionMatrixDisplay at 0x7f8b3a8afb50>"
      ]
     },
     "execution_count": 22,
     "metadata": {},
     "output_type": "execute_result"
    },
    {
     "data": {
      "image/png": "[encoded data removed]",
      "text/plain": [
       "<Figure size 432x288 with 2 Axes>"
      ]
     },
     "metadata": {
      "needs_background": "light"
     },
     "output_type": "display_data"
    }
   ],
   "source": [
    "cm=confusion_matrix(y_bal,y_train_pred)\n",
    "print('matriz de confusion train')\n",
    "print(cm)\n",
    "tn, fp, fn, tp = confusion_matrix(y_bal,y_train_pred).ravel()\n",
    "print('matriz de confusion train')\n",
    "plot_confusion_matrix(model_dtc.fit(X_bal, y_bal), X_bal, y_bal,\n",
    "                                 display_labels=target_names,\n",
    "                                 cmap=plt.cm.Blues,\n",
    "                                 normalize='true')"
   ]
  },
  {
   "cell_type": "code",
   "execution_count": 23,
   "metadata": {},
   "outputs": [
    {
     "name": "stdout",
     "output_type": "stream",
     "text": [
      "matriz de confusion test\n",
      "[[287  26]\n",
      " [ 17  41]]\n",
      "matriz de confusion test\n"
     ]
    },
    {
     "data": {
      "text/plain": [
       "<sklearn.metrics._plot.confusion_matrix.ConfusionMatrixDisplay at 0x7f8b3a9a9ca0>"
      ]
     },
     "execution_count": 23,
     "metadata": {},
     "output_type": "execute_result"
    },
    {
     "data": {
      "image/png": "[encoded data removed]",
      "text/plain": [
       "<Figure size 432x288 with 2 Axes>"
      ]
     },
     "metadata": {
      "needs_background": "light"
     },
     "output_type": "display_data"
    }
   ],
   "source": [
    "cm=confusion_matrix(y_test,y_test_pred)\n",
    "print('matriz de confusion test')\n",
    "print(cm)\n",
    "tn, fp, fn, tp = confusion_matrix(y_test,y_test_pred).ravel()\n",
    "print('matriz de confusion test')\n",
    "plot_confusion_matrix(model_dtc.fit(X_bal, y_bal), X_test, y_test,\n",
    "                                 display_labels=target_names,\n",
    "                                 cmap=plt.cm.Blues,\n",
    "                                 normalize='true')"
   ]
  },
  {
   "cell_type": "code",
   "execution_count": 24,
   "metadata": {},
   "outputs": [
    {
     "data": {
      "image/png": "[encoded data removed]",
      "text/plain": [
       "<Figure size 432x288 with 1 Axes>"
      ]
     },
     "metadata": {
      "needs_background": "light"
     },
     "output_type": "display_data"
    }
   ],
   "source": [
    "plot_tree(model_dtc);"
   ]
  },
  {
   "cell_type": "markdown",
   "metadata": {},
   "source": [
    "### Ejercicio 3.2: Ajuste de Hiperparámetros\n",
    "\n",
    "Seleccionar valores para los hiperparámetros principales del DecisionTreeClassifier. Como mínimo, probar diferentes criterios de partición (criterion), profundidad máxima del árbol (max_depth), y cantidad mínima de samples por hoja (min_samples_leaf).\n",
    "\n",
    "Para ello, usar grid-search y 5-fold cross-validation sobre el conjunto de entrenamiento para explorar muchas combinaciones posibles de valores.\n",
    "\n",
    "Reportar accuracy promedio y varianza para todas las configuraciones.\n",
    "\n",
    "Para la mejor configuración encontrada, evaluar sobre el conjunto de **entrenamiento** y sobre el conjunto de **evaluación**, reportando:\n",
    "- Accuracy\n",
    "- Precision\n",
    "- Recall\n",
    "- F1\n",
    "- matriz de confusión\n",
    "\n",
    "\n",
    "Documentación:\n",
    "- https://scikit-learn.org/stable/modules/grid_search.html\n",
    "- https://scikit-learn.org/stable/modules/generated/sklearn.model_selection.GridSearchCV.html"
   ]
  },
  {
   "cell_type": "code",
   "execution_count": 34,
   "metadata": {},
   "outputs": [],
   "source": [
    "param_grid = {\n",
    "    'criterion': [ 'gini', 'entropy'],\n",
    "    'max_depth': [4,5,6,7,8,9,10,11,12,13,14],\n",
    "    'min_samples_leaf':[2,3,4,5,6,7,8,9,10,11,12]\n",
    "}"
   ]
  },
  {
   "cell_type": "code",
   "execution_count": 35,
   "metadata": {},
   "outputs": [
    {
     "data": {
      "text/plain": [
       "RandomizedSearchCV(cv=5, estimator=DecisionTreeClassifier(random_state=123),\n",
       "                   param_distributions={'criterion': ['gini', 'entropy'],\n",
       "                                        'max_depth': [4, 5, 6, 7, 8, 9, 10, 11,\n",
       "                                                      12, 13, 14],\n",
       "                                        'min_samples_leaf': [2, 3, 4, 5, 6, 7,\n",
       "                                                             8, 9, 10, 11,\n",
       "                                                             12]},\n",
       "                   random_state=123)"
      ]
     },
     "execution_count": 35,
     "metadata": {},
     "output_type": "execute_result"
    }
   ],
   "source": [
    "model = DecisionTreeClassifier(random_state=123)\n",
    "\n",
    "cv = RandomizedSearchCV(model, param_grid, n_iter=10, cv=5, random_state=123)\n",
    "cv.fit(X_bal, y_bal)"
   ]
  },
  {
   "cell_type": "code",
   "execution_count": 36,
   "metadata": {},
   "outputs": [
    {
     "data": {
      "text/html": [
       "<div>\n",
       "<style scoped>\n",
       "    .dataframe tbody tr th:only-of-type {\n",
       "        vertical-align: middle;\n",
       "    }\n",
       "\n",
       "    .dataframe tbody tr th {\n",
       "        vertical-align: top;\n",
       "    }\n",
       "\n",
       "    .dataframe thead th {\n",
       "        text-align: right;\n",
       "    }\n",
       "</style>\n",
       "<table border=\"1\" class=\"dataframe\">\n",
       "  <thead>\n",
       "    <tr style=\"text-align: right;\">\n",
       "      <th></th>\n",
       "      <th>param_criterion</th>\n",
       "      <th>param_max_depth</th>\n",
       "      <th>param_min_samples_leaf</th>\n",
       "      <th>mean_test_score</th>\n",
       "      <th>std_test_score</th>\n",
       "      <th>rank_test_score</th>\n",
       "    </tr>\n",
       "  </thead>\n",
       "  <tbody>\n",
       "    <tr>\n",
       "      <th>0</th>\n",
       "      <td>entropy</td>\n",
       "      <td>5</td>\n",
       "      <td>7</td>\n",
       "      <td>0.817791</td>\n",
       "      <td>0.058152</td>\n",
       "      <td>10</td>\n",
       "    </tr>\n",
       "    <tr>\n",
       "      <th>1</th>\n",
       "      <td>gini</td>\n",
       "      <td>5</td>\n",
       "      <td>10</td>\n",
       "      <td>0.819412</td>\n",
       "      <td>0.046054</td>\n",
       "      <td>9</td>\n",
       "    </tr>\n",
       "    <tr>\n",
       "      <th>2</th>\n",
       "      <td>entropy</td>\n",
       "      <td>12</td>\n",
       "      <td>4</td>\n",
       "      <td>0.876631</td>\n",
       "      <td>0.064787</td>\n",
       "      <td>1</td>\n",
       "    </tr>\n",
       "    <tr>\n",
       "      <th>3</th>\n",
       "      <td>entropy</td>\n",
       "      <td>8</td>\n",
       "      <td>4</td>\n",
       "      <td>0.848628</td>\n",
       "      <td>0.062260</td>\n",
       "      <td>5</td>\n",
       "    </tr>\n",
       "    <tr>\n",
       "      <th>4</th>\n",
       "      <td>gini</td>\n",
       "      <td>6</td>\n",
       "      <td>11</td>\n",
       "      <td>0.823871</td>\n",
       "      <td>0.045969</td>\n",
       "      <td>8</td>\n",
       "    </tr>\n",
       "    <tr>\n",
       "      <th>5</th>\n",
       "      <td>entropy</td>\n",
       "      <td>9</td>\n",
       "      <td>9</td>\n",
       "      <td>0.842536</td>\n",
       "      <td>0.049068</td>\n",
       "      <td>6</td>\n",
       "    </tr>\n",
       "    <tr>\n",
       "      <th>6</th>\n",
       "      <td>entropy</td>\n",
       "      <td>10</td>\n",
       "      <td>8</td>\n",
       "      <td>0.856740</td>\n",
       "      <td>0.049902</td>\n",
       "      <td>4</td>\n",
       "    </tr>\n",
       "    <tr>\n",
       "      <th>7</th>\n",
       "      <td>gini</td>\n",
       "      <td>11</td>\n",
       "      <td>5</td>\n",
       "      <td>0.863644</td>\n",
       "      <td>0.043207</td>\n",
       "      <td>3</td>\n",
       "    </tr>\n",
       "    <tr>\n",
       "      <th>8</th>\n",
       "      <td>gini</td>\n",
       "      <td>12</td>\n",
       "      <td>5</td>\n",
       "      <td>0.872167</td>\n",
       "      <td>0.042060</td>\n",
       "      <td>2</td>\n",
       "    </tr>\n",
       "    <tr>\n",
       "      <th>9</th>\n",
       "      <td>gini</td>\n",
       "      <td>6</td>\n",
       "      <td>4</td>\n",
       "      <td>0.841324</td>\n",
       "      <td>0.037399</td>\n",
       "      <td>7</td>\n",
       "    </tr>\n",
       "  </tbody>\n",
       "</table>\n",
       "</div>"
      ],
      "text/plain": [
       "  param_criterion param_max_depth param_min_samples_leaf  mean_test_score  \\\n",
       "0         entropy               5                      7         0.817791   \n",
       "1            gini               5                     10         0.819412   \n",
       "2         entropy              12                      4         0.876631   \n",
       "3         entropy               8                      4         0.848628   \n",
       "4            gini               6                     11         0.823871   \n",
       "5         entropy               9                      9         0.842536   \n",
       "6         entropy              10                      8         0.856740   \n",
       "7            gini              11                      5         0.863644   \n",
       "8            gini              12                      5         0.872167   \n",
       "9            gini               6                      4         0.841324   \n",
       "\n",
       "   std_test_score  rank_test_score  \n",
       "0        0.058152               10  \n",
       "1        0.046054                9  \n",
       "2        0.064787                1  \n",
       "3        0.062260                5  \n",
       "4        0.045969                8  \n",
       "5        0.049068                6  \n",
       "6        0.049902                4  \n",
       "7        0.043207                3  \n",
       "8        0.042060                2  \n",
       "9        0.037399                7  "
      ]
     },
     "execution_count": 36,
     "metadata": {},
     "output_type": "execute_result"
    }
   ],
   "source": [
    "results = cv.cv_results_\n",
    "df = pd.DataFrame(results)\n",
    "df[['param_criterion', 'param_max_depth','param_min_samples_leaf', 'mean_test_score', \n",
    "    'std_test_score', 'rank_test_score']]"
   ]
  },
  {
   "cell_type": "code",
   "execution_count": 37,
   "metadata": {},
   "outputs": [
    {
     "name": "stdout",
     "output_type": "stream",
     "text": [
      "Reporte de train\n",
      "              precision    recall  f1-score   support\n",
      "\n",
      "      repaid       0.96      0.96      0.96      1232\n",
      "   defaulted       0.96      0.96      0.96      1232\n",
      "\n",
      "    accuracy                           0.96      2464\n",
      "   macro avg       0.96      0.96      0.96      2464\n",
      "weighted avg       0.96      0.96      0.96      2464\n",
      "\n",
      "Reporte de test\n",
      "              precision    recall  f1-score   support\n",
      "\n",
      "      repaid       0.93      0.87      0.90       313\n",
      "   defaulted       0.47      0.64      0.54        58\n",
      "\n",
      "    accuracy                           0.83       371\n",
      "   macro avg       0.70      0.75      0.72       371\n",
      "weighted avg       0.86      0.83      0.84       371\n",
      "\n"
     ]
    }
   ],
   "source": [
    "#utilizo el mejor rankeado\n",
    "model =  DecisionTreeClassifier(criterion='entropy',max_depth=12,min_samples_leaf=4,random_state=123)\n",
    "                            \n",
    "model.fit(X_bal, y_bal)\n",
    "y_train_pred = model.predict(X_bal)\n",
    "y_test_pred = model.predict(X_test)\n",
    "print(\"Reporte de train\")\n",
    "print(classification_report(y_bal, y_train_pred, target_names=target_names))\n",
    "print(\"Reporte de test\")\n",
    "print(classification_report(y_test, y_test_pred, target_names=target_names))"
   ]
  },
  {
   "cell_type": "code",
   "execution_count": 38,
   "metadata": {},
   "outputs": [
    {
     "name": "stdout",
     "output_type": "stream",
     "text": [
      "matriz de confusion train\n",
      "[[1185   47]\n",
      " [  50 1182]]\n",
      "matriz de confusion train\n"
     ]
    },
    {
     "data": {
      "text/plain": [
       "<sklearn.metrics._plot.confusion_matrix.ConfusionMatrixDisplay at 0x7f8b3c724f70>"
      ]
     },
     "execution_count": 38,
     "metadata": {},
     "output_type": "execute_result"
    },
    {
     "data": {
      "image/png": "[encoded data removed]",
      "text/plain": [
       "<Figure size 432x288 with 2 Axes>"
      ]
     },
     "metadata": {
      "needs_background": "light"
     },
     "output_type": "display_data"
    }
   ],
   "source": [
    "cm=confusion_matrix(y_bal,y_train_pred)\n",
    "print('matriz de confusion train')\n",
    "print(cm)\n",
    "tn, fp, fn, tp = confusion_matrix(y_bal,y_train_pred).ravel()\n",
    "print('matriz de confusion train')\n",
    "plot_confusion_matrix(model.fit(X_bal, y_bal), X_bal, y_bal,\n",
    "                                 display_labels=target_names,\n",
    "                                 cmap=plt.cm.Blues,\n",
    "                                 normalize='true')"
   ]
  },
  {
   "cell_type": "code",
   "execution_count": 39,
   "metadata": {},
   "outputs": [
    {
     "name": "stdout",
     "output_type": "stream",
     "text": [
      "matriz de confusion test\n",
      "[[272  41]\n",
      " [ 21  37]]\n",
      "matriz de confusion test\n"
     ]
    },
    {
     "data": {
      "text/plain": [
       "<sklearn.metrics._plot.confusion_matrix.ConfusionMatrixDisplay at 0x7f8b3a584850>"
      ]
     },
     "execution_count": 39,
     "metadata": {},
     "output_type": "execute_result"
    },
    {
     "data": {
      "image/png": "[encoded data removed]",
      "text/plain": [
       "<Figure size 432x288 with 2 Axes>"
      ]
     },
     "metadata": {
      "needs_background": "light"
     },
     "output_type": "display_data"
    }
   ],
   "source": [
    "cm=confusion_matrix(y_test,y_test_pred)\n",
    "print('matriz de confusion test')\n",
    "print(cm)\n",
    "tn, fp, fn, tp = confusion_matrix(y_test,y_test_pred).ravel()\n",
    "print('matriz de confusion test')\n",
    "plot_confusion_matrix(model.fit(X_bal, y_bal), X_test, y_test,\n",
    "                                 display_labels=target_names,\n",
    "                                 cmap=plt.cm.Blues,\n",
    "                                 normalize='true')"
   ]
  },
  {
   "cell_type": "code",
   "execution_count": 42,
   "metadata": {},
   "outputs": [
    {
     "data": {
      "image/png": "[encoded data removed]",
      "text/plain": [
       "<Figure size 432x288 with 1 Axes>"
      ]
     },
     "metadata": {
      "needs_background": "light"
     },
     "output_type": "display_data"
    }
   ],
   "source": [
    "plot_tree(model);"
   ]
  },
  {
   "cell_type": "markdown",
   "metadata": {},
   "source": [
    "No se observan mejors en test realizando la selección de hiperparámetros.\n",
    "\n",
    "Obtenemos mejores resultados con el modelo de árboles de clasificación comparado con el SDGClassifier"
   ]
  },
  {
   "cell_type": "code",
   "execution_count": null,
   "metadata": {},
   "outputs": [],
   "source": []
  }
 ],
 "metadata": {
  "kernelspec": {
   "display_name": "Python 3",
   "language": "python",
   "name": "python3"
  },
  "language_info": {
   "codemirror_mode": {
    "name": "ipython",
    "version": 3
   },
   "file_extension": ".py",
   "mimetype": "text/x-python",
   "name": "python",
   "nbconvert_exporter": "python",
   "pygments_lexer": "ipython3",
   "version": "3.8.10"
  }
 },
 "nbformat": 4,
 "nbformat_minor": 4
}
