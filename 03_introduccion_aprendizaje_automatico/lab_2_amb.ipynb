{
 "cells": [
  {
   "cell_type": "markdown",
   "metadata": {},
   "source": [
    "# Laboratorio 2: Armado de un esquema de aprendizaje automático\n",
    "\n",
    "En el laboratorio final se espera que puedan poner en práctica los conocimientos adquiridos en el curso, trabajando con un conjunto de datos de clasificación.\n",
    "\n",
    "El objetivo es que se introduzcan en el desarrollo de un esquema para hacer tareas de aprendizaje automático: selección de un modelo, ajuste de hiperparámetros y evaluación.\n",
    "\n",
    "El conjunto de datos a utilizar está en `./data/loan_data.csv`. Si abren el archivo verán que al principio (las líneas que empiezan con `#`) describen el conjunto de datos y sus atributos (incluyendo el atributo de etiqueta o clase).\n",
    "\n",
    "Se espera que hagan uso de las herramientas vistas en el curso. Se espera que hagan uso especialmente de las herramientas brindadas por `scikit-learn`."
   ]
  },
  {
   "cell_type": "code",
   "execution_count": 33,
   "metadata": {},
   "outputs": [],
   "source": [
    "import numpy as np\n",
    "import pandas as pd\n",
    "\n",
    "# TODO: Agregar las librerías que hagan falta\n",
    "from sklearn.model_selection import train_test_split, GridSearchCV, KFold, StratifiedKFold, ParameterGrid, ParameterSampler, RandomizedSearchCV\n",
    "import missingno as msno\n",
    "from sklearn.linear_model import SGDClassifier\n",
    "from sklearn.preprocessing import StandardScaler\n",
    "from sklearn.pipeline import make_pipeline\n",
    "from sklearn.metrics import accuracy_score, precision_score, recall_score, f1_score, confusion_matrix, plot_confusion_matrix\n",
    "from sklearn.utils.fixes import loguniform\n",
    "from scipy import stats\n",
    "from sklearn.tree import DecisionTreeClassifier, plot_tree\n",
    "from random import randint\n",
    "import matplotlib.pyplot as plt"
   ]
  },
  {
   "cell_type": "markdown",
   "metadata": {},
   "source": [
    "## Carga de datos y división en entrenamiento y evaluación\n",
    "\n",
    "La celda siguiente se encarga de la carga de datos (haciendo uso de pandas). Estos serán los que se trabajarán en el resto del laboratorio."
   ]
  },
  {
   "cell_type": "code",
   "execution_count": 2,
   "metadata": {},
   "outputs": [],
   "source": [
    "dataset = pd.read_csv(\"loan_data.csv\", comment=\"#\")\n",
    "\n",
    "# División entre instancias y etiquetas\n",
    "X, y = dataset.iloc[:, 1:], dataset.TARGET\n",
    "\n",
    "# división entre entrenamiento y evaluación\n",
    "X_train, X_test, y_train, y_test = train_test_split(X, y, test_size=0.2, random_state=0)"
   ]
  },
  {
   "cell_type": "markdown",
   "metadata": {},
   "source": [
    "\n",
    "Documentación:\n",
    "\n",
    "- https://scikit-learn.org/stable/modules/generated/sklearn.model_selection.train_test_split.html"
   ]
  },
  {
   "cell_type": "code",
   "execution_count": 3,
   "metadata": {},
   "outputs": [
    {
     "data": {
      "text/html": [
       "<div>\n",
       "<style scoped>\n",
       "    .dataframe tbody tr th:only-of-type {\n",
       "        vertical-align: middle;\n",
       "    }\n",
       "\n",
       "    .dataframe tbody tr th {\n",
       "        vertical-align: top;\n",
       "    }\n",
       "\n",
       "    .dataframe thead th {\n",
       "        text-align: right;\n",
       "    }\n",
       "</style>\n",
       "<table border=\"1\" class=\"dataframe\">\n",
       "  <thead>\n",
       "    <tr style=\"text-align: right;\">\n",
       "      <th></th>\n",
       "      <th>TARGET</th>\n",
       "      <th>LOAN</th>\n",
       "      <th>MORTDUE</th>\n",
       "      <th>VALUE</th>\n",
       "      <th>YOJ</th>\n",
       "      <th>DEROG</th>\n",
       "      <th>DELINQ</th>\n",
       "      <th>CLAGE</th>\n",
       "      <th>NINQ</th>\n",
       "      <th>CLNO</th>\n",
       "      <th>DEBTINC</th>\n",
       "    </tr>\n",
       "  </thead>\n",
       "  <tbody>\n",
       "    <tr>\n",
       "      <th>0</th>\n",
       "      <td>0</td>\n",
       "      <td>4700</td>\n",
       "      <td>88026.0</td>\n",
       "      <td>115506.0</td>\n",
       "      <td>6.0</td>\n",
       "      <td>0.0</td>\n",
       "      <td>0.0</td>\n",
       "      <td>182.248332</td>\n",
       "      <td>0.0</td>\n",
       "      <td>27.0</td>\n",
       "      <td>29.209023</td>\n",
       "    </tr>\n",
       "    <tr>\n",
       "      <th>1</th>\n",
       "      <td>0</td>\n",
       "      <td>19300</td>\n",
       "      <td>39926.0</td>\n",
       "      <td>101208.0</td>\n",
       "      <td>4.0</td>\n",
       "      <td>0.0</td>\n",
       "      <td>0.0</td>\n",
       "      <td>140.051638</td>\n",
       "      <td>0.0</td>\n",
       "      <td>14.0</td>\n",
       "      <td>31.545694</td>\n",
       "    </tr>\n",
       "    <tr>\n",
       "      <th>2</th>\n",
       "      <td>0</td>\n",
       "      <td>5700</td>\n",
       "      <td>71556.0</td>\n",
       "      <td>79538.0</td>\n",
       "      <td>2.0</td>\n",
       "      <td>0.0</td>\n",
       "      <td>0.0</td>\n",
       "      <td>92.643085</td>\n",
       "      <td>0.0</td>\n",
       "      <td>15.0</td>\n",
       "      <td>41.210012</td>\n",
       "    </tr>\n",
       "    <tr>\n",
       "      <th>3</th>\n",
       "      <td>0</td>\n",
       "      <td>13000</td>\n",
       "      <td>44875.0</td>\n",
       "      <td>57713.0</td>\n",
       "      <td>0.0</td>\n",
       "      <td>1.0</td>\n",
       "      <td>0.0</td>\n",
       "      <td>184.990324</td>\n",
       "      <td>1.0</td>\n",
       "      <td>12.0</td>\n",
       "      <td>28.602076</td>\n",
       "    </tr>\n",
       "    <tr>\n",
       "      <th>4</th>\n",
       "      <td>0</td>\n",
       "      <td>19300</td>\n",
       "      <td>72752.0</td>\n",
       "      <td>106084.0</td>\n",
       "      <td>11.0</td>\n",
       "      <td>0.0</td>\n",
       "      <td>0.0</td>\n",
       "      <td>193.707100</td>\n",
       "      <td>1.0</td>\n",
       "      <td>13.0</td>\n",
       "      <td>30.686106</td>\n",
       "    </tr>\n",
       "    <tr>\n",
       "      <th>...</th>\n",
       "      <td>...</td>\n",
       "      <td>...</td>\n",
       "      <td>...</td>\n",
       "      <td>...</td>\n",
       "      <td>...</td>\n",
       "      <td>...</td>\n",
       "      <td>...</td>\n",
       "      <td>...</td>\n",
       "      <td>...</td>\n",
       "      <td>...</td>\n",
       "      <td>...</td>\n",
       "    </tr>\n",
       "    <tr>\n",
       "      <th>1849</th>\n",
       "      <td>1</td>\n",
       "      <td>53400</td>\n",
       "      <td>228236.0</td>\n",
       "      <td>305514.0</td>\n",
       "      <td>6.0</td>\n",
       "      <td>0.0</td>\n",
       "      <td>0.0</td>\n",
       "      <td>11.148069</td>\n",
       "      <td>0.0</td>\n",
       "      <td>2.0</td>\n",
       "      <td>34.558417</td>\n",
       "    </tr>\n",
       "    <tr>\n",
       "      <th>1850</th>\n",
       "      <td>1</td>\n",
       "      <td>53600</td>\n",
       "      <td>235895.0</td>\n",
       "      <td>299772.0</td>\n",
       "      <td>5.0</td>\n",
       "      <td>0.0</td>\n",
       "      <td>0.0</td>\n",
       "      <td>112.748282</td>\n",
       "      <td>7.0</td>\n",
       "      <td>22.0</td>\n",
       "      <td>44.945929</td>\n",
       "    </tr>\n",
       "    <tr>\n",
       "      <th>1851</th>\n",
       "      <td>1</td>\n",
       "      <td>53600</td>\n",
       "      <td>208197.0</td>\n",
       "      <td>297280.0</td>\n",
       "      <td>4.0</td>\n",
       "      <td>1.0</td>\n",
       "      <td>1.0</td>\n",
       "      <td>160.485251</td>\n",
       "      <td>2.0</td>\n",
       "      <td>29.0</td>\n",
       "      <td>41.646731</td>\n",
       "    </tr>\n",
       "    <tr>\n",
       "      <th>1852</th>\n",
       "      <td>1</td>\n",
       "      <td>65500</td>\n",
       "      <td>205156.0</td>\n",
       "      <td>290239.0</td>\n",
       "      <td>2.0</td>\n",
       "      <td>0.0</td>\n",
       "      <td>0.0</td>\n",
       "      <td>98.808206</td>\n",
       "      <td>1.0</td>\n",
       "      <td>21.0</td>\n",
       "      <td>144.189001</td>\n",
       "    </tr>\n",
       "    <tr>\n",
       "      <th>1853</th>\n",
       "      <td>1</td>\n",
       "      <td>77400</td>\n",
       "      <td>87651.0</td>\n",
       "      <td>224630.0</td>\n",
       "      <td>9.0</td>\n",
       "      <td>0.0</td>\n",
       "      <td>2.0</td>\n",
       "      <td>73.469630</td>\n",
       "      <td>3.0</td>\n",
       "      <td>13.0</td>\n",
       "      <td>40.929793</td>\n",
       "    </tr>\n",
       "  </tbody>\n",
       "</table>\n",
       "<p>1854 rows × 11 columns</p>\n",
       "</div>"
      ],
      "text/plain": [
       "      TARGET   LOAN   MORTDUE     VALUE   YOJ  DEROG  DELINQ       CLAGE  \\\n",
       "0          0   4700   88026.0  115506.0   6.0    0.0     0.0  182.248332   \n",
       "1          0  19300   39926.0  101208.0   4.0    0.0     0.0  140.051638   \n",
       "2          0   5700   71556.0   79538.0   2.0    0.0     0.0   92.643085   \n",
       "3          0  13000   44875.0   57713.0   0.0    1.0     0.0  184.990324   \n",
       "4          0  19300   72752.0  106084.0  11.0    0.0     0.0  193.707100   \n",
       "...      ...    ...       ...       ...   ...    ...     ...         ...   \n",
       "1849       1  53400  228236.0  305514.0   6.0    0.0     0.0   11.148069   \n",
       "1850       1  53600  235895.0  299772.0   5.0    0.0     0.0  112.748282   \n",
       "1851       1  53600  208197.0  297280.0   4.0    1.0     1.0  160.485251   \n",
       "1852       1  65500  205156.0  290239.0   2.0    0.0     0.0   98.808206   \n",
       "1853       1  77400   87651.0  224630.0   9.0    0.0     2.0   73.469630   \n",
       "\n",
       "      NINQ  CLNO     DEBTINC  \n",
       "0      0.0  27.0   29.209023  \n",
       "1      0.0  14.0   31.545694  \n",
       "2      0.0  15.0   41.210012  \n",
       "3      1.0  12.0   28.602076  \n",
       "4      1.0  13.0   30.686106  \n",
       "...    ...   ...         ...  \n",
       "1849   0.0   2.0   34.558417  \n",
       "1850   7.0  22.0   44.945929  \n",
       "1851   2.0  29.0   41.646731  \n",
       "1852   1.0  21.0  144.189001  \n",
       "1853   3.0  13.0   40.929793  \n",
       "\n",
       "[1854 rows x 11 columns]"
      ]
     },
     "execution_count": 3,
     "metadata": {},
     "output_type": "execute_result"
    }
   ],
   "source": [
    "dataset"
   ]
  },
  {
   "cell_type": "code",
   "execution_count": 4,
   "metadata": {},
   "outputs": [
    {
     "data": {
      "text/plain": [
       "<AxesSubplot:>"
      ]
     },
     "execution_count": 4,
     "metadata": {},
     "output_type": "execute_result"
    },
    {
     "data": {
      "image/png": "[encoded data removed]",
      "text/plain": [
       "<Figure size 864x432 with 3 Axes>"
      ]
     },
     "metadata": {
      "needs_background": "light"
     },
     "output_type": "display_data"
    }
   ],
   "source": [
    "msno.bar(dataset,figsize=(12, 6), fontsize=12, color='steelblue')"
   ]
  },
  {
   "cell_type": "markdown",
   "metadata": {},
   "source": [
    "## Ejercicio 1: Descripción de los Datos y la Tarea\n",
    "\n",
    "Responder las siguientes preguntas:\n",
    "\n",
    "1. ¿De qué se trata el conjunto de datos?\n",
    "2. ¿Cuál es la variable objetivo que hay que predecir? ¿Qué significado tiene?\n",
    "3. ¿Qué información (atributos) hay disponible para hacer la predicción?\n",
    "4. ¿Qué atributos imagina ud. que son los más determinantes para la predicción?\n",
    "\n",
    "**No hace falta escribir código para responder estas preguntas.**"
   ]
  },
  {
   "cell_type": "markdown",
   "metadata": {},
   "source": [
    "1. Es un conjunto de datos de préstamos basados en Kaggle Home Equity\n",
    "2. El (BAD) es una variable binaria que indica si un solicitante eventualmente incurrió en incumplimiento o fue gravemente moroso.\n",
    "3. Atributos:\n",
    "- TARGET: Label: 1 = cliente incumplidor con el préstamo - 0 = préstamo reembolsado\n",
    "- LOAN: Monto de la solicitud de préstamo\n",
    "- MORTDUE: Monto adeudado de la hipoteca existente\n",
    "- VALUE: Valor de la propiedad actual\n",
    "- YOJ Años en el trabajo actual\n",
    "- DEROG Número de informes despectivos importantes\n",
    "- DELINQ Número de líneas de crédito morosas\n",
    "- CLAGE Edad de la línea comercial más antigua en meses\n",
    "- NINQ Número de líneas de crédito recientes\n",
    "- CLNO Número de líneas de crédito\n",
    "- DEBTINC Relación deuda-ingresos\n",
    "4. Los atributos determinantes para la predicción pueden ser: LOAN, DEBTINC"
   ]
  },
  {
   "cell_type": "markdown",
   "metadata": {},
   "source": [
    "## Ejercicio 2: Predicción con Modelos Lineales\n",
    "\n",
    "En este ejercicio se entrenarán modelos lineales de clasificación para predecir la variable objetivo.\n",
    "\n",
    "Para ello, deberán utilizar la clase SGDClassifier de scikit-learn.\n",
    "\n",
    "Documentación:\n",
    "- https://scikit-learn.org/stable/modules/sgd.html\n",
    "- https://scikit-learn.org/stable/modules/generated/sklearn.linear_model.SGDClassifier.html\n"
   ]
  },
  {
   "cell_type": "markdown",
   "metadata": {},
   "source": [
    "### Ejercicio 2.1: SGDClassifier con hiperparámetros por defecto\n",
    "\n",
    "Entrenar y evaluar el clasificador SGDClassifier usando los valores por omisión de scikit-learn para todos los parámetros. Únicamente **fijar la semilla aleatoria** para hacer repetible el experimento.\n",
    "\n",
    "Evaluar sobre el conjunto de **entrenamiento** y sobre el conjunto de **evaluación**, reportando:\n",
    "- Accuracy: (proporcion de ejemplos bien clasificados dividido el total de muestras del conjunto)\n",
    "- Precision: es la proporción de positivos propuestos por el modelo que fueron correctos (fraccion de predicciones correctas de la clase + sobre el total de predicciones +)\n",
    "- Recall: es la proporción de positivos correctos que fueron encontrados por el modelo (% de puntos que predije ccomo + sobre el total de +)\n",
    "- F1: (media armonica de precision y recall. Va a tener un valor alto si precision y recall tienen un num alto)\n",
    "- matriz de confusión"
   ]
  },
  {
   "cell_type": "code",
   "execution_count": 5,
   "metadata": {},
   "outputs": [
    {
     "data": {
      "text/plain": [
       "SGDClassifier(random_state=100)"
      ]
     },
     "execution_count": 5,
     "metadata": {},
     "output_type": "execute_result"
    }
   ],
   "source": [
    "# Entrenar el modelo\n",
    "clf = SGDClassifier(random_state=100)\n",
    "clf.fit(X_train, y_train)"
   ]
  },
  {
   "cell_type": "code",
   "execution_count": 6,
   "metadata": {},
   "outputs": [],
   "source": [
    "# Predicción \n",
    "y_train_pred = clf.predict(X_train)\n",
    "y_test_pred = clf.predict(X_test)"
   ]
  },
  {
   "cell_type": "code",
   "execution_count": 7,
   "metadata": {},
   "outputs": [
    {
     "name": "stdout",
     "output_type": "stream",
     "text": [
      "accuracy = 0.8436657681940701\n",
      "precision = 1.0\n",
      "recall = 0.0\n",
      "f1_score = 0.0\n"
     ]
    }
   ],
   "source": [
    "# Evaluar\n",
    "accuracy = accuracy_score(y_test, y_test_pred)\n",
    "print(f'accuracy = {accuracy}')\n",
    "precision = precision_score(y_test, y_test_pred, zero_division=1) # va 0 o 1??\n",
    "print(f'precision = {precision}')\n",
    "recall = recall_score(y_test, y_test_pred)\n",
    "print(f'recall = {recall}')\n",
    "f1_score_ = f1_score(y_test, y_test_pred)\n",
    "print(f'f1_score = {f1_score_}')"
   ]
  },
  {
   "cell_type": "markdown",
   "metadata": {},
   "source": [
    "### Matriz de Confusión\n",
    "- True Positive (TP): observation is positive, and is predicted to be positive.\n",
    "- False Negative (FN): observation is positive, but is predicted negative.\n",
    "- True Negative (TN): observation is negative, and is predicted to be negative.\n",
    "- False Positive (FP): observation is negative, but is predicted positive."
   ]
  },
  {
   "cell_type": "code",
   "execution_count": 8,
   "metadata": {},
   "outputs": [
    {
     "name": "stdout",
     "output_type": "stream",
     "text": [
      "matriz_confusion = [[313   0]\n",
      " [ 58   0]]\n"
     ]
    }
   ],
   "source": [
    "# Matriz de confusión\n",
    "matriz_confusion = confusion_matrix(y_test, y_test_pred)\n",
    "print(f'matriz_confusion = {matriz_confusion}')"
   ]
  },
  {
   "cell_type": "code",
   "execution_count": 9,
   "metadata": {},
   "outputs": [
    {
     "data": {
      "text/plain": [
       "<sklearn.metrics._plot.confusion_matrix.ConfusionMatrixDisplay at 0x7ff7a075b760>"
      ]
     },
     "execution_count": 9,
     "metadata": {},
     "output_type": "execute_result"
    },
    {
     "data": {
      "image/png": "[encoded data removed]",
      "text/plain": [
       "<Figure size 432x288 with 2 Axes>"
      ]
     },
     "metadata": {
      "needs_background": "light"
     },
     "output_type": "display_data"
    }
   ],
   "source": [
    "plot_confusion_matrix(clf, X_test, y_test)   "
   ]
  },
  {
   "cell_type": "markdown",
   "metadata": {},
   "source": [
    "Label: \n",
    "- 1 = cliente incumplidor con el préstamo \n",
    "- 0 = préstamo reembolsado"
   ]
  },
  {
   "cell_type": "markdown",
   "metadata": {},
   "source": [
    "Según el modelo, 313 son los tomadores de préstamos que reembolsaron su deuda y es correcto. (TP)\n",
    "\n",
    "58 son los tomadores de préstamos que reembolsaron su deuda y en realidad son clienters inclumplidores. (FP)"
   ]
  },
  {
   "cell_type": "code",
   "execution_count": 24,
   "metadata": {},
   "outputs": [
    {
     "name": "stdout",
     "output_type": "stream",
     "text": [
      "accuracy = 0.8814016172506739\n",
      "precision = 0.85\n",
      "recall = 0.29310344827586204\n",
      "f1_score = 0.4358974358974359\n"
     ]
    }
   ],
   "source": [
    "# Probamos normalizando\n",
    "\n",
    "# Entrenamos el modelo\n",
    "clf_2 = make_pipeline(StandardScaler(), SGDClassifier(random_state=100))\n",
    "clf_2.fit(X_train, y_train)\n",
    "\n",
    "# Predecimos\n",
    "y_train_pred_2 = clf_2.predict(X_train)\n",
    "y_test_pred_2 = clf_2.predict(X_test)\n",
    "\n",
    "# Evaluamos\n",
    "accuracy_n = accuracy_score(y_test, y_test_pred_2)\n",
    "print(f'accuracy = {accuracy_n}')\n",
    "precision_n = precision_score(y_test, y_test_pred_2, zero_division=1) # va 0 o 1??\n",
    "print(f'precision = {precision_n}')\n",
    "recall_n = recall_score(y_test, y_test_pred_2)\n",
    "print(f'recall = {recall_n}')\n",
    "f1_score_n = f1_score(y_test, y_test_pred_2, zero_division=1)\n",
    "print(f'f1_score = {f1_score_n}')"
   ]
  },
  {
   "cell_type": "code",
   "execution_count": 25,
   "metadata": {},
   "outputs": [
    {
     "name": "stdout",
     "output_type": "stream",
     "text": [
      "matriz_confusion = [[310   3]\n",
      " [ 41  17]]\n"
     ]
    }
   ],
   "source": [
    "# Matriz de confusión\n",
    "matriz_confusion_2 = confusion_matrix(y_test, y_test_pred_2)\n",
    "print(f'matriz_confusion = {matriz_confusion_2}')"
   ]
  },
  {
   "cell_type": "code",
   "execution_count": 12,
   "metadata": {},
   "outputs": [
    {
     "data": {
      "text/plain": [
       "<sklearn.metrics._plot.confusion_matrix.ConfusionMatrixDisplay at 0x7ff7a0bd9f40>"
      ]
     },
     "execution_count": 12,
     "metadata": {},
     "output_type": "execute_result"
    },
    {
     "data": {
      "image/png": "[encoded data removed]",
      "text/plain": [
       "<Figure size 432x288 with 2 Axes>"
      ]
     },
     "metadata": {
      "needs_background": "light"
     },
     "output_type": "display_data"
    }
   ],
   "source": [
    "plot_confusion_matrix(clf_2, X_test, y_test)"
   ]
  },
  {
   "cell_type": "markdown",
   "metadata": {},
   "source": [
    "Label: \n",
    "- 1 = cliente incumplidor con el préstamo \n",
    "- 0 = préstamo reembolsado"
   ]
  },
  {
   "cell_type": "markdown",
   "metadata": {},
   "source": [
    "Según el modelo, 310 son los tomadores de préstamos que reembolsaron su deuda y es correcto. (TP)\n",
    "\n",
    "41 son los tomadores de préstamos que reembolsaron su deuda y en realidad son clienters inclumplidores. (FP)\n",
    "\n",
    "3 son clientes incumplidores que en realidad reembolsaron su deuda. (FN)\n",
    "\n",
    "17 son tomadores de préstamos incumplidores y es correcto. (TN)"
   ]
  },
  {
   "cell_type": "markdown",
   "metadata": {},
   "source": [
    "### Modelo Normalizado\n",
    "-    accuracy = 0.8436657681940701\n",
    "-    precision = 0.85\n",
    "-    recall = 0.29310344827586204\n",
    "-    f1_score = 0.4358974358974359\n",
    "\n",
    "### Modelo Sin Normalizar\n",
    "-    accuracy = 0.8814016172506739\n",
    "-    precision = 1.0\n",
    "-    recall = 0.0\n",
    "-    f1_score = 0.0\n",
    "\n",
    "“Precision” se refiere a lo cerca que está el resultado de una medición del valor verdadero: \n",
    "\n",
    "### TERMINAR DE ARMAR\n"
   ]
  },
  {
   "cell_type": "markdown",
   "metadata": {},
   "source": [
    "### Ejercicio 2.2: Ajuste de Hiperparámetros\n",
    "\n",
    "Seleccionar valores para los hiperparámetros principales del SGDClassifier. Como mínimo, probar diferentes funciones de loss, tasas de entrenamiento y tasas de regularización.\n",
    "\n",
    "Para ello, usar grid-search y 5-fold cross-validation sobre el conjunto de entrenamiento para explorar muchas combinaciones posibles de valores.\n",
    "\n",
    "Reportar accuracy promedio y varianza para todas las configuraciones.\n",
    "\n",
    "Para la mejor configuración encontrada, evaluar sobre el conjunto de **entrenamiento** y sobre el conjunto de **evaluación**, reportando:\n",
    "- Accuracy\n",
    "- Precision\n",
    "- Recall\n",
    "- F1\n",
    "- matriz de confusión\n",
    "\n",
    "Documentación:\n",
    "- https://scikit-learn.org/stable/modules/grid_search.html\n",
    "- https://scikit-learn.org/stable/modules/generated/sklearn.model_selection.GridSearchCV.html"
   ]
  },
  {
   "cell_type": "markdown",
   "metadata": {},
   "source": [
    "entre 8 y 27 modelos. \n",
    "\n"
   ]
  },
  {
   "cell_type": "markdown",
   "metadata": {},
   "source": [
    "Seleccion de hiperparametros: los que hacen mi accurany estimate mas alto (lo menos sesgado)"
   ]
  },
  {
   "cell_type": "code",
   "execution_count": 15,
   "metadata": {},
   "outputs": [],
   "source": [
    "param_grid = {\n",
    "    'loss': [ 'hinge', 'log', 'modified_huber', 'squared_hinge', 'perceptron'],\n",
    "    'learning_rate': ['optimal','constant','invscaling','adaptive'],\n",
    "    'alpha':loguniform(1e-1, 1e2),\n",
    "    'penalty':['l2', 'l1', 'elasticnet']\n",
    "}"
   ]
  },
  {
   "cell_type": "markdown",
   "metadata": {},
   "source": [
    "## Ejercicio 3: Árboles de Decisión\n",
    "\n",
    "En este ejercicio se entrenarán árboles de decisión para predecir la variable objetivo.\n",
    "\n",
    "Para ello, deberán utilizar la clase DecisionTreeClassifier de scikit-learn.\n",
    "\n",
    "Documentación:\n",
    "- https://scikit-learn.org/stable/modules/tree.html\n",
    "  - https://scikit-learn.org/stable/modules/tree.html#tips-on-practical-use\n",
    "- https://scikit-learn.org/stable/modules/generated/sklearn.tree.DecisionTreeClassifier.html\n",
    "- https://scikit-learn.org/stable/auto_examples/tree/plot_unveil_tree_structure.html"
   ]
  },
  {
   "cell_type": "markdown",
   "metadata": {},
   "source": [
    "### Ejercicio 3.1: DecisionTreeClassifier con hiperparámetros por defecto\n",
    "\n",
    "Entrenar y evaluar el clasificador DecisionTreeClassifier usando los valores por omisión de scikit-learn para todos los parámetros. Únicamente **fijar la semilla aleatoria** para hacer repetible el experimento.\n",
    "\n",
    "Evaluar sobre el conjunto de **entrenamiento** y sobre el conjunto de **evaluación**, reportando:\n",
    "- Accuracy\n",
    "- Precision\n",
    "- Recall\n",
    "- F1\n",
    "- matriz de confusión\n"
   ]
  },
  {
   "cell_type": "code",
   "execution_count": 17,
   "metadata": {},
   "outputs": [
    {
     "data": {
      "text/plain": [
       "DecisionTreeClassifier(random_state=100)"
      ]
     },
     "execution_count": 17,
     "metadata": {},
     "output_type": "execute_result"
    }
   ],
   "source": [
    "# Entrenar el modelo\n",
    "clf_tree = DecisionTreeClassifier(random_state=100)\n",
    "clf_tree.fit(X_train, y_train)"
   ]
  },
  {
   "cell_type": "code",
   "execution_count": 19,
   "metadata": {},
   "outputs": [],
   "source": [
    "# Predicción \n",
    "y_train_pr_tree = clf_tree.predict(X_train)\n",
    "y_test_pr_tree = clf_tree.predict(X_test)"
   ]
  },
  {
   "cell_type": "code",
   "execution_count": 20,
   "metadata": {},
   "outputs": [
    {
     "name": "stdout",
     "output_type": "stream",
     "text": [
      "accuracy = 0.9056603773584906\n",
      "precision = 0.7169811320754716\n",
      "recall = 0.6551724137931034\n",
      "f1_score = 0.6846846846846846\n"
     ]
    }
   ],
   "source": [
    "# Evaluar\n",
    "accuracy_t = accuracy_score(y_test, y_test_pr_tree)\n",
    "print(f'accuracy = {accuracy_t}')\n",
    "precision_t = precision_score(y_test, y_test_pr_tree, zero_division=1) # va 0 o 1??\n",
    "print(f'precision = {precision_t}')\n",
    "recall_t = recall_score(y_test, y_test_pr_tree)\n",
    "print(f'recall = {recall_t}')\n",
    "f1_score_t = f1_score(y_test, y_test_pr_tree)\n",
    "print(f'f1_score = {f1_score_t}')"
   ]
  },
  {
   "cell_type": "code",
   "execution_count": 22,
   "metadata": {},
   "outputs": [
    {
     "name": "stdout",
     "output_type": "stream",
     "text": [
      "matriz_confusion = [[298  15]\n",
      " [ 20  38]]\n"
     ]
    }
   ],
   "source": [
    "# Matriz de confusión\n",
    "matriz_confusion_t = confusion_matrix(y_test, y_test_pr_tree)\n",
    "print(f'matriz_confusion = {matriz_confusion_t}')"
   ]
  },
  {
   "cell_type": "code",
   "execution_count": 23,
   "metadata": {},
   "outputs": [
    {
     "data": {
      "text/plain": [
       "<sklearn.metrics._plot.confusion_matrix.ConfusionMatrixDisplay at 0x7ff7a0bbab80>"
      ]
     },
     "execution_count": 23,
     "metadata": {},
     "output_type": "execute_result"
    },
    {
     "data": {
      "image/png": "[encoded data removed]",
      "text/plain": [
       "<Figure size 432x288 with 2 Axes>"
      ]
     },
     "metadata": {
      "needs_background": "light"
     },
     "output_type": "display_data"
    }
   ],
   "source": [
    "plot_confusion_matrix(clf_tree, X_test, y_test)   "
   ]
  },
  {
   "cell_type": "markdown",
   "metadata": {},
   "source": [
    "Label: \n",
    "- 1 = cliente incumplidor con el préstamo \n",
    "- 0 = préstamo reembolsado"
   ]
  },
  {
   "cell_type": "markdown",
   "metadata": {},
   "source": [
    "Según el modelo, 298 son los tomadores de préstamos que reembolsaron su deuda y es correcto. (TP)\n",
    "\n",
    "20 son los tomadores de préstamos que reembolsaron su deuda y en realidad son clientes inclumplidores. (FP)\n",
    "\n",
    "15 son clientes incumplidores que en realidad reembolsaron su deuda. (FN)\n",
    "\n",
    "38 son tomadores de préstamos incumplidores y es correcto. (TN)"
   ]
  },
  {
   "cell_type": "code",
   "execution_count": 38,
   "metadata": {},
   "outputs": [
    {
     "data": {
      "image/png": "[encoded data removed]",
      "text/plain": [
       "<Figure size 1152x1152 with 1 Axes>"
      ]
     },
     "metadata": {
      "needs_background": "light"
     },
     "output_type": "display_data"
    }
   ],
   "source": [
    "plt.figure(figsize=(16,16))\n",
    "plot_tree(clf_tree, fontsize=2);"
   ]
  },
  {
   "cell_type": "code",
   "execution_count": 26,
   "metadata": {},
   "outputs": [
    {
     "name": "stdout",
     "output_type": "stream",
     "text": [
      "accuracy = 0.9056603773584906\n",
      "precision = 0.7169811320754716\n",
      "recall = 0.6551724137931034\n",
      "f1_score = 0.6846846846846846\n"
     ]
    }
   ],
   "source": [
    "# Probamos normalizando\n",
    "\n",
    "# Entrenamos el modelo\n",
    "clf_tree2 = make_pipeline(StandardScaler(), DecisionTreeClassifier(random_state=100))\n",
    "clf_tree2.fit(X_train, y_train)\n",
    "\n",
    "# Predecimos\n",
    "y_train_pr_2 = clf_tree2.predict(X_train)\n",
    "y_test_pr_2 = clf_tree2.predict(X_test)\n",
    "\n",
    "# Evaluamos\n",
    "accuracy_tn = accuracy_score(y_test, y_test_pr_2)\n",
    "print(f'accuracy = {accuracy_tn}')\n",
    "precision_tn = precision_score(y_test, y_test_pr_2, zero_division=1) # va 0 o 1??\n",
    "print(f'precision = {precision_tn}')\n",
    "recall_tn = recall_score(y_test, y_test_pr_2)\n",
    "print(f'recall = {recall_tn}')\n",
    "f1_score_tn = f1_score(y_test, y_test_pr_2, zero_division=1)\n",
    "print(f'f1_score = {f1_score_tn}')"
   ]
  },
  {
   "cell_type": "code",
   "execution_count": 27,
   "metadata": {},
   "outputs": [
    {
     "name": "stdout",
     "output_type": "stream",
     "text": [
      "matriz_confusion = [[298  15]\n",
      " [ 20  38]]\n"
     ]
    }
   ],
   "source": [
    "# Matriz de confusión\n",
    "matriz_confusion_tn = confusion_matrix(y_test, y_test_pr_2)\n",
    "print(f'matriz_confusion = {matriz_confusion_tn}')"
   ]
  },
  {
   "cell_type": "code",
   "execution_count": 28,
   "metadata": {},
   "outputs": [
    {
     "data": {
      "text/plain": [
       "<sklearn.metrics._plot.confusion_matrix.ConfusionMatrixDisplay at 0x7ff7a0bc1550>"
      ]
     },
     "execution_count": 28,
     "metadata": {},
     "output_type": "execute_result"
    },
    {
     "data": {
      "image/png": "[encoded data removed]",
      "text/plain": [
       "<Figure size 432x288 with 2 Axes>"
      ]
     },
     "metadata": {
      "needs_background": "light"
     },
     "output_type": "display_data"
    }
   ],
   "source": [
    "plot_confusion_matrix(clf_tree2, X_test, y_test)   "
   ]
  },
  {
   "cell_type": "markdown",
   "metadata": {},
   "source": [
    "### Ejercicio 3.2: Ajuste de Hiperparámetros\n",
    "\n",
    "Seleccionar valores para los hiperparámetros principales del DecisionTreeClassifier. Como mínimo, probar diferentes criterios de partición (criterion), profundidad máxima del árbol (max_depth), y cantidad mínima de samples por hoja (min_samples_leaf).\n",
    "\n",
    "Para ello, usar grid-search y 5-fold cross-validation sobre el conjunto de entrenamiento para explorar muchas combinaciones posibles de valores.\n",
    "\n",
    "Reportar accuracy promedio y varianza para todas las configuraciones.\n",
    "\n",
    "Para la mejor configuración encontrada, evaluar sobre el conjunto de **entrenamiento** y sobre el conjunto de **evaluación**, reportando:\n",
    "- Accuracy\n",
    "- Precision\n",
    "- Recall\n",
    "- F1\n",
    "- matriz de confusión\n",
    "\n",
    "\n",
    "Documentación:\n",
    "- https://scikit-learn.org/stable/modules/grid_search.html\n",
    "- https://scikit-learn.org/stable/modules/generated/sklearn.model_selection.GridSearchCV.html"
   ]
  }
 ],
 "metadata": {
  "kernelspec": {
   "display_name": "Python 3",
   "language": "python",
   "name": "python3"
  },
  "language_info": {
   "codemirror_mode": {
    "name": "ipython",
    "version": 3
   },
   "file_extension": ".py",
   "mimetype": "text/x-python",
   "name": "python",
   "nbconvert_exporter": "python",
   "pygments_lexer": "ipython3",
   "version": "3.8.8"
  }
 },
 "nbformat": 4,
 "nbformat_minor": 4
}
