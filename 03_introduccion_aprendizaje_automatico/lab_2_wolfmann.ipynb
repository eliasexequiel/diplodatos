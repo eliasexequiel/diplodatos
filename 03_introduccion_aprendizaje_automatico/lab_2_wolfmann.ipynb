{
 "cells": [
  {
   "cell_type": "code",
   "execution_count": 66,
   "metadata": {},
   "outputs": [],
   "source": [
    "import numpy as np\n",
    "import pandas as pd\n",
    "import matplotlib.pyplot as plt\n",
    "# TODO: Agregar las librerías que hagan falta\n",
    "from sklearn.model_selection import train_test_split\n",
    "from sklearn.linear_model import SGDClassifier\n",
    "from sklearn.metrics import mean_squared_error\n",
    "from sklearn.metrics import accuracy_score\n",
    "from sklearn.pipeline import make_pipeline\n",
    "from sklearn.preprocessing import StandardScaler\n",
    "from sklearn.metrics import precision_score\n",
    "from sklearn.metrics import recall_score\n",
    "from sklearn.metrics import f1_score\n",
    "from sklearn.metrics import confusion_matrix\n",
    "from sklearn.metrics import plot_confusion_matrix\n",
    "from sklearn.model_selection import KFold\n",
    "from sklearn.model_selection import StratifiedKFold\n",
    "from sklearn.model_selection import ParameterGrid\n",
    "from sklearn.model_selection import GridSearchCV\n",
    "from sklearn.utils.fixes import loguniform\n",
    "from scipy import stats\n",
    "from sklearn.model_selection import ParameterSampler\n",
    "from sklearn.model_selection import RandomizedSearchCV\n",
    "from sklearn.tree import DecisionTreeClassifier\n",
    "from sklearn.tree import plot_tree\n",
    "from random import randint"
   ]
  },
  {
   "cell_type": "code",
   "execution_count": 2,
   "metadata": {},
   "outputs": [],
   "source": [
    "dataset = pd.read_csv(\"loan_data.csv\", comment=\"#\")\n",
    "\n",
    "# División entre instancias y etiquetas\n",
    "X, y = dataset.iloc[:, 1:], dataset.TARGET\n",
    "\n",
    "# división entre entrenamiento y evaluación\n",
    "X_train, X_test, y_train, y_test = train_test_split(X, y, test_size=0.2, random_state=0)"
   ]
  },
  {
   "cell_type": "code",
   "execution_count": null,
   "metadata": {},
   "outputs": [],
   "source": []
  },
  {
   "cell_type": "code",
   "execution_count": 3,
   "metadata": {},
   "outputs": [
    {
     "data": {
      "text/html": [
       "<div>\n",
       "<style scoped>\n",
       "    .dataframe tbody tr th:only-of-type {\n",
       "        vertical-align: middle;\n",
       "    }\n",
       "\n",
       "    .dataframe tbody tr th {\n",
       "        vertical-align: top;\n",
       "    }\n",
       "\n",
       "    .dataframe thead th {\n",
       "        text-align: right;\n",
       "    }\n",
       "</style>\n",
       "<table border=\"1\" class=\"dataframe\">\n",
       "  <thead>\n",
       "    <tr style=\"text-align: right;\">\n",
       "      <th></th>\n",
       "      <th>TARGET</th>\n",
       "      <th>LOAN</th>\n",
       "      <th>MORTDUE</th>\n",
       "      <th>VALUE</th>\n",
       "      <th>YOJ</th>\n",
       "      <th>DEROG</th>\n",
       "      <th>DELINQ</th>\n",
       "      <th>CLAGE</th>\n",
       "      <th>NINQ</th>\n",
       "      <th>CLNO</th>\n",
       "      <th>DEBTINC</th>\n",
       "    </tr>\n",
       "  </thead>\n",
       "  <tbody>\n",
       "    <tr>\n",
       "      <th>0</th>\n",
       "      <td>0</td>\n",
       "      <td>4700</td>\n",
       "      <td>88026.0</td>\n",
       "      <td>115506.0</td>\n",
       "      <td>6.0</td>\n",
       "      <td>0.0</td>\n",
       "      <td>0.0</td>\n",
       "      <td>182.248332</td>\n",
       "      <td>0.0</td>\n",
       "      <td>27.0</td>\n",
       "      <td>29.209023</td>\n",
       "    </tr>\n",
       "    <tr>\n",
       "      <th>1</th>\n",
       "      <td>0</td>\n",
       "      <td>19300</td>\n",
       "      <td>39926.0</td>\n",
       "      <td>101208.0</td>\n",
       "      <td>4.0</td>\n",
       "      <td>0.0</td>\n",
       "      <td>0.0</td>\n",
       "      <td>140.051638</td>\n",
       "      <td>0.0</td>\n",
       "      <td>14.0</td>\n",
       "      <td>31.545694</td>\n",
       "    </tr>\n",
       "    <tr>\n",
       "      <th>2</th>\n",
       "      <td>0</td>\n",
       "      <td>5700</td>\n",
       "      <td>71556.0</td>\n",
       "      <td>79538.0</td>\n",
       "      <td>2.0</td>\n",
       "      <td>0.0</td>\n",
       "      <td>0.0</td>\n",
       "      <td>92.643085</td>\n",
       "      <td>0.0</td>\n",
       "      <td>15.0</td>\n",
       "      <td>41.210012</td>\n",
       "    </tr>\n",
       "    <tr>\n",
       "      <th>3</th>\n",
       "      <td>0</td>\n",
       "      <td>13000</td>\n",
       "      <td>44875.0</td>\n",
       "      <td>57713.0</td>\n",
       "      <td>0.0</td>\n",
       "      <td>1.0</td>\n",
       "      <td>0.0</td>\n",
       "      <td>184.990324</td>\n",
       "      <td>1.0</td>\n",
       "      <td>12.0</td>\n",
       "      <td>28.602076</td>\n",
       "    </tr>\n",
       "    <tr>\n",
       "      <th>4</th>\n",
       "      <td>0</td>\n",
       "      <td>19300</td>\n",
       "      <td>72752.0</td>\n",
       "      <td>106084.0</td>\n",
       "      <td>11.0</td>\n",
       "      <td>0.0</td>\n",
       "      <td>0.0</td>\n",
       "      <td>193.707100</td>\n",
       "      <td>1.0</td>\n",
       "      <td>13.0</td>\n",
       "      <td>30.686106</td>\n",
       "    </tr>\n",
       "    <tr>\n",
       "      <th>...</th>\n",
       "      <td>...</td>\n",
       "      <td>...</td>\n",
       "      <td>...</td>\n",
       "      <td>...</td>\n",
       "      <td>...</td>\n",
       "      <td>...</td>\n",
       "      <td>...</td>\n",
       "      <td>...</td>\n",
       "      <td>...</td>\n",
       "      <td>...</td>\n",
       "      <td>...</td>\n",
       "    </tr>\n",
       "    <tr>\n",
       "      <th>1849</th>\n",
       "      <td>1</td>\n",
       "      <td>53400</td>\n",
       "      <td>228236.0</td>\n",
       "      <td>305514.0</td>\n",
       "      <td>6.0</td>\n",
       "      <td>0.0</td>\n",
       "      <td>0.0</td>\n",
       "      <td>11.148069</td>\n",
       "      <td>0.0</td>\n",
       "      <td>2.0</td>\n",
       "      <td>34.558417</td>\n",
       "    </tr>\n",
       "    <tr>\n",
       "      <th>1850</th>\n",
       "      <td>1</td>\n",
       "      <td>53600</td>\n",
       "      <td>235895.0</td>\n",
       "      <td>299772.0</td>\n",
       "      <td>5.0</td>\n",
       "      <td>0.0</td>\n",
       "      <td>0.0</td>\n",
       "      <td>112.748282</td>\n",
       "      <td>7.0</td>\n",
       "      <td>22.0</td>\n",
       "      <td>44.945929</td>\n",
       "    </tr>\n",
       "    <tr>\n",
       "      <th>1851</th>\n",
       "      <td>1</td>\n",
       "      <td>53600</td>\n",
       "      <td>208197.0</td>\n",
       "      <td>297280.0</td>\n",
       "      <td>4.0</td>\n",
       "      <td>1.0</td>\n",
       "      <td>1.0</td>\n",
       "      <td>160.485251</td>\n",
       "      <td>2.0</td>\n",
       "      <td>29.0</td>\n",
       "      <td>41.646731</td>\n",
       "    </tr>\n",
       "    <tr>\n",
       "      <th>1852</th>\n",
       "      <td>1</td>\n",
       "      <td>65500</td>\n",
       "      <td>205156.0</td>\n",
       "      <td>290239.0</td>\n",
       "      <td>2.0</td>\n",
       "      <td>0.0</td>\n",
       "      <td>0.0</td>\n",
       "      <td>98.808206</td>\n",
       "      <td>1.0</td>\n",
       "      <td>21.0</td>\n",
       "      <td>144.189001</td>\n",
       "    </tr>\n",
       "    <tr>\n",
       "      <th>1853</th>\n",
       "      <td>1</td>\n",
       "      <td>77400</td>\n",
       "      <td>87651.0</td>\n",
       "      <td>224630.0</td>\n",
       "      <td>9.0</td>\n",
       "      <td>0.0</td>\n",
       "      <td>2.0</td>\n",
       "      <td>73.469630</td>\n",
       "      <td>3.0</td>\n",
       "      <td>13.0</td>\n",
       "      <td>40.929793</td>\n",
       "    </tr>\n",
       "  </tbody>\n",
       "</table>\n",
       "<p>1854 rows × 11 columns</p>\n",
       "</div>"
      ],
      "text/plain": [
       "      TARGET   LOAN   MORTDUE     VALUE   YOJ  DEROG  DELINQ       CLAGE  \\\n",
       "0          0   4700   88026.0  115506.0   6.0    0.0     0.0  182.248332   \n",
       "1          0  19300   39926.0  101208.0   4.0    0.0     0.0  140.051638   \n",
       "2          0   5700   71556.0   79538.0   2.0    0.0     0.0   92.643085   \n",
       "3          0  13000   44875.0   57713.0   0.0    1.0     0.0  184.990324   \n",
       "4          0  19300   72752.0  106084.0  11.0    0.0     0.0  193.707100   \n",
       "...      ...    ...       ...       ...   ...    ...     ...         ...   \n",
       "1849       1  53400  228236.0  305514.0   6.0    0.0     0.0   11.148069   \n",
       "1850       1  53600  235895.0  299772.0   5.0    0.0     0.0  112.748282   \n",
       "1851       1  53600  208197.0  297280.0   4.0    1.0     1.0  160.485251   \n",
       "1852       1  65500  205156.0  290239.0   2.0    0.0     0.0   98.808206   \n",
       "1853       1  77400   87651.0  224630.0   9.0    0.0     2.0   73.469630   \n",
       "\n",
       "      NINQ  CLNO     DEBTINC  \n",
       "0      0.0  27.0   29.209023  \n",
       "1      0.0  14.0   31.545694  \n",
       "2      0.0  15.0   41.210012  \n",
       "3      1.0  12.0   28.602076  \n",
       "4      1.0  13.0   30.686106  \n",
       "...    ...   ...         ...  \n",
       "1849   0.0   2.0   34.558417  \n",
       "1850   7.0  22.0   44.945929  \n",
       "1851   2.0  29.0   41.646731  \n",
       "1852   1.0  21.0  144.189001  \n",
       "1853   3.0  13.0   40.929793  \n",
       "\n",
       "[1854 rows x 11 columns]"
      ]
     },
     "execution_count": 3,
     "metadata": {},
     "output_type": "execute_result"
    }
   ],
   "source": [
    "dataset"
   ]
  },
  {
   "cell_type": "markdown",
   "metadata": {},
   "source": [
    "## Ejercicio 1: Descripción de los Datos y la Tarea\n",
    "\n",
    "Responder las siguientes preguntas:\n",
    "\n",
    "1. ¿De qué se trata el conjunto de datos?\n",
    "2. ¿Cuál es la variable objetivo que hay que predecir? ¿Qué significado tiene?\n",
    "3. ¿Qué información (atributos) hay disponible para hacer la predicción?\n",
    "4. ¿Qué atributos imagina ud. que son los más determinantes para la predicción?\n",
    "\n",
    "**No hace falta escribir código para responder estas preguntas.**"
   ]
  },
  {
   "cell_type": "markdown",
   "metadata": {},
   "source": [
    "1. El conjunto de datos se trata de informacion sobre el rendimiento de prestamos realizados por un banco para automatizar la decision de aprobar o no los creditos..\n",
    "\n",
    "2. Se busca predecir BAD la cual es una variable binaria indicando si el aplicante del credito va a devolver el credito o es un delincuente.\n",
    "\n",
    "3. Atributos: todos los mismos son valores numericos. SON 12:\n",
    "-Target: objetivo a predecir el cual es 1 si el cliente incumplio el prestamo o 0 si lo devolvio.\n",
    "-Loan: monto de la solicitud del prestamo\n",
    "-Mortdue: monto debido a la hipoteca existente\n",
    "-Value: valor de la propiedad actualmente\n",
    "-YOJ: cantidad de anos en el trabajo actual\n",
    "-DEROG: Numero de informes despectivos\n",
    "-DELINQ: numero de creditos impagos.\n",
    "-CLAGE: Antigüedad de la línea comercial más antigua en meses\n",
    "-NINQ: Número de líneas de crédito recientes\n",
    "-CLNO:Número de líneas de crédito\n",
    "-DEBTINC: Relación deuda-ingresos\n",
    "\n",
    "4. Para la prediccion se cree que las variables mas relevantes podrian ser Loan, Derog, DEBTINC."
   ]
  },
  {
   "cell_type": "markdown",
   "metadata": {},
   "source": [
    "## Ejercicio 2: Predicción con Modelos Lineales\n",
    "\n",
    "En este ejercicio se entrenarán modelos lineales de clasificación para predecir la variable objetivo.\n",
    "\n",
    "Para ello, deberán utilizar la clase SGDClassifier de scikit-learn.\n",
    "\n",
    "Documentación:\n",
    "- https://scikit-learn.org/stable/modules/sgd.html\n",
    "- https://scikit-learn.org/stable/modules/generated/sklearn.linear_model.SGDClassifier.html\n"
   ]
  },
  {
   "cell_type": "markdown",
   "metadata": {},
   "source": [
    "### Ejercicio 2.1: SGDClassifier con hiperparámetros por defecto\n",
    "\n",
    "Entrenar y evaluar el clasificador SGDClassifier usando los valores por omisión de scikit-learn para todos los parámetros. Únicamente **fijar la semilla aleatoria** para hacer repetible el experimento.\n",
    "\n",
    "Evaluar sobre el conjunto de **entrenamiento** y sobre el conjunto de **evaluación**, reportando:\n",
    "- Accuracy\n",
    "- Precision\n",
    "- Recall\n",
    "- F1\n",
    "- matriz de confusión"
   ]
  },
  {
   "cell_type": "code",
   "execution_count": 4,
   "metadata": {},
   "outputs": [
    {
     "name": "stdout",
     "output_type": "stream",
     "text": [
      "Train error:  0.17\n",
      "Test error:  0.16\n",
      "accuracy score  0.84\n",
      "precision score  0.0\n",
      "recall score  0.0\n",
      "f1 score  0.0\n"
     ]
    },
    {
     "name": "stderr",
     "output_type": "stream",
     "text": [
      "/home/ariel/anaconda3/lib/python3.8/site-packages/sklearn/metrics/_classification.py:1221: UndefinedMetricWarning: Precision is ill-defined and being set to 0.0 due to no predicted samples. Use `zero_division` parameter to control this behavior.\n",
      "  _warn_prf(average, modifier, msg_start, len(result))\n"
     ]
    }
   ],
   "source": [
    "model = SGDClassifier(random_state=123)\n",
    "model.fit(X_train, y_train)\n",
    "y_train_pred = model.predict(X_train)\n",
    "y_test_pred = model.predict(X_test)\n",
    "train_error = mean_squared_error(y_train, y_train_pred)\n",
    "test_error = mean_squared_error(y_test, y_test_pred)\n",
    "print('Train error: ' , train_error.round(2))\n",
    "print('Test error: ', test_error.round(2))\n",
    "print('accuracy score ', accuracy_score(y_test,y_test_pred).round(2))\n",
    "print('precision score ', precision_score(y_test,y_test_pred).round(2))\n",
    "print('recall score ', recall_score(y_test,y_test_pred) .round(2))\n",
    "print('f1 score ', f1_score(y_test,y_test_pred).round(2))"
   ]
  },
  {
   "cell_type": "code",
   "execution_count": 5,
   "metadata": {},
   "outputs": [
    {
     "data": {
      "text/plain": [
       "array([[ -4559.75247058, -15807.34188715,    489.48771352,\n",
       "         -1576.28585877,    729.56039529,   1112.59674475,\n",
       "        -42692.95026732,    852.12517035,   1468.12030204,\n",
       "         11304.68254415]])"
      ]
     },
     "execution_count": 5,
     "metadata": {},
     "output_type": "execute_result"
    }
   ],
   "source": [
    "model.coef_"
   ]
  },
  {
   "cell_type": "code",
   "execution_count": 6,
   "metadata": {},
   "outputs": [
    {
     "name": "stdout",
     "output_type": "stream",
     "text": [
      "Train error:  0.15\n",
      "Test error:  0.15\n",
      "train accuracy score  0.85\n",
      "test accuracy score  0.85\n",
      "train precision score  0.58\n",
      "test precision score  0.57\n",
      "train recall score  0.33\n",
      "test recall score  0.29\n",
      "train f1 score  0.42\n",
      "test f1 score  0.39\n"
     ]
    }
   ],
   "source": [
    "#pruebo escalando previamente los datos por recomendacion de la documentacion\n",
    "model = make_pipeline(StandardScaler(), SGDClassifier(random_state=123))\n",
    "model.fit(X_train, y_train)\n",
    "y_train_pred = model.predict(X_train)\n",
    "y_test_pred = model.predict(X_test)\n",
    "train_error = mean_squared_error(y_train, y_train_pred)#tiene sentido esta variable?\n",
    "test_error = mean_squared_error(y_test, y_test_pred)\n",
    "print('Train error: ' , train_error.round(2))\n",
    "print('Test error: ', test_error.round(2))\n",
    "print('train accuracy score ', accuracy_score(y_train,y_train_pred).round(2))\n",
    "print('test accuracy score ', accuracy_score(y_test,y_test_pred).round(2))\n",
    "print('train precision score ', precision_score(y_train,y_train_pred).round(2))\n",
    "print('test precision score ', precision_score(y_test,y_test_pred).round(2))\n",
    "print('train recall score ', recall_score(y_train,y_train_pred) .round(2))\n",
    "print('test recall score ', recall_score(y_test,y_test_pred) .round(2))\n",
    "print('train f1 score ', f1_score(y_train,y_train_pred).round(2))\n",
    "print('test f1 score ', f1_score(y_test,y_test_pred).round(2))\n",
    "\n",
    "\n"
   ]
  },
  {
   "cell_type": "code",
   "execution_count": 7,
   "metadata": {},
   "outputs": [
    {
     "name": "stdout",
     "output_type": "stream",
     "text": [
      "matriz de confusion train\n",
      "[[1171   61]\n",
      " [ 167   84]]\n",
      "matriz de confusion train\n"
     ]
    },
    {
     "data": {
      "text/plain": [
       "<sklearn.metrics._plot.confusion_matrix.ConfusionMatrixDisplay at 0x7f69fc2ca280>"
      ]
     },
     "execution_count": 7,
     "metadata": {},
     "output_type": "execute_result"
    },
    {
     "data": {
      "image/png": "[encoded data removed]",
      "text/plain": [
       "<Figure size 432x288 with 2 Axes>"
      ]
     },
     "metadata": {
      "needs_background": "light"
     },
     "output_type": "display_data"
    }
   ],
   "source": [
    "cm=confusion_matrix(y_train,y_train_pred)\n",
    "print('matriz de confusion train')\n",
    "print(cm)\n",
    "tn, fp, fn, tp = confusion_matrix(y_train,y_train_pred).ravel()\n",
    "print('matriz de confusion train')\n",
    "plot_confusion_matrix(model.fit(X_train, y_train), X_train, y_train,\n",
    "                                 display_labels=['client defaulted on loan','loan repaid'],\n",
    "                                 cmap=plt.cm.Blues,\n",
    "                                 normalize='true')"
   ]
  },
  {
   "cell_type": "code",
   "execution_count": 8,
   "metadata": {},
   "outputs": [
    {
     "name": "stdout",
     "output_type": "stream",
     "text": [
      "matriz de confusion test\n",
      "[[300  13]\n",
      " [ 41  17]]\n",
      "matriz de confusion test\n"
     ]
    },
    {
     "data": {
      "text/plain": [
       "<sklearn.metrics._plot.confusion_matrix.ConfusionMatrixDisplay at 0x7f6a28561190>"
      ]
     },
     "execution_count": 8,
     "metadata": {},
     "output_type": "execute_result"
    },
    {
     "data": {
      "image/png": "[encoded data removed]",
      "text/plain": [
       "<Figure size 432x288 with 2 Axes>"
      ]
     },
     "metadata": {
      "needs_background": "light"
     },
     "output_type": "display_data"
    }
   ],
   "source": [
    "cm=confusion_matrix(y_test,y_test_pred)\n",
    "print('matriz de confusion test')\n",
    "print(cm)\n",
    "tn, fp, fn, tp = confusion_matrix(y_test,y_test_pred).ravel()\n",
    "print('matriz de confusion test')\n",
    "plot_confusion_matrix(model.fit(X_train, y_train), X_test, y_test,\n",
    "                                 display_labels=['client defaulted on loan','loan repaid'],\n",
    "                                 cmap=plt.cm.Blues,\n",
    "                                 normalize='true')"
   ]
  },
  {
   "cell_type": "markdown",
   "metadata": {},
   "source": [
    "### Ejercicio 2.2: Ajuste de Hiperparámetros\n",
    "\n",
    "Seleccionar valores para los hiperparámetros principales del SGDClassifier. Como mínimo, probar diferentes funciones de loss, tasas de entrenamiento y tasas de regularización.\n",
    "\n",
    "Para ello, usar grid-search y 5-fold cross-validation sobre el conjunto de entrenamiento para explorar muchas combinaciones posibles de valores.\n",
    "\n",
    "Reportar accuracy promedio y varianza para todas las configuraciones.\n",
    "\n",
    "Para la mejor configuración encontrada, evaluar sobre el conjunto de **entrenamiento** y sobre el conjunto de **evaluación**, reportando:\n",
    "- Accuracy\n",
    "- Precision\n",
    "- Recall\n",
    "- F1\n",
    "- matriz de confusión\n",
    "\n",
    "Documentación:\n",
    "- https://scikit-learn.org/stable/modules/grid_search.html\n",
    "- https://scikit-learn.org/stable/modules/generated/sklearn.model_selection.GridSearchCV.html"
   ]
  },
  {
   "cell_type": "code",
   "execution_count": 67,
   "metadata": {},
   "outputs": [],
   "source": [
    "param_grid = {\n",
    "    'loss': [ 'hinge', 'log', 'modified_huber', 'squared_hinge', 'perceptron'],\n",
    "    'learning_rate': ['optimal','constant','invscaling','adaptive'],\n",
    "    'alpha':loguniform(1e-1, 1e2),\n",
    "    'penalty':['l2', 'l1', 'elasticnet']\n",
    "}"
   ]
  },
  {
   "cell_type": "code",
   "execution_count": 68,
   "metadata": {},
   "outputs": [],
   "source": [
    "#tengo que escalar por separado\n",
    "scaler=StandardScaler()\n",
    "scaler.fit_transform(X)\n",
    "model = SGDClassifier(random_state=0,eta0=1)\n",
    "\n",
    "cv = RandomizedSearchCV(model, param_grid, n_iter=10, cv=3, random_state=0)\n",
    "cv.fit(X_train, y_train);#aca no deberia ir X_train e y_train?"
   ]
  },
  {
   "cell_type": "code",
   "execution_count": 69,
   "metadata": {},
   "outputs": [
    {
     "data": {
      "text/html": [
       "<div>\n",
       "<style scoped>\n",
       "    .dataframe tbody tr th:only-of-type {\n",
       "        vertical-align: middle;\n",
       "    }\n",
       "\n",
       "    .dataframe tbody tr th {\n",
       "        vertical-align: top;\n",
       "    }\n",
       "\n",
       "    .dataframe thead th {\n",
       "        text-align: right;\n",
       "    }\n",
       "</style>\n",
       "<table border=\"1\" class=\"dataframe\">\n",
       "  <thead>\n",
       "    <tr style=\"text-align: right;\">\n",
       "      <th></th>\n",
       "      <th>param_loss</th>\n",
       "      <th>param_alpha</th>\n",
       "      <th>param_penalty</th>\n",
       "      <th>param_learning_rate</th>\n",
       "      <th>mean_test_score</th>\n",
       "      <th>std_test_score</th>\n",
       "      <th>rank_test_score</th>\n",
       "    </tr>\n",
       "  </thead>\n",
       "  <tbody>\n",
       "    <tr>\n",
       "      <th>0</th>\n",
       "      <td>hinge</td>\n",
       "      <td>4.43038</td>\n",
       "      <td>l1</td>\n",
       "      <td>constant</td>\n",
       "      <td>0.831424</td>\n",
       "      <td>0.001833</td>\n",
       "      <td>1</td>\n",
       "    </tr>\n",
       "    <tr>\n",
       "      <th>1</th>\n",
       "      <td>perceptron</td>\n",
       "      <td>7.42491</td>\n",
       "      <td>elasticnet</td>\n",
       "      <td>invscaling</td>\n",
       "      <td>0.610776</td>\n",
       "      <td>0.311648</td>\n",
       "      <td>9</td>\n",
       "    </tr>\n",
       "    <tr>\n",
       "      <th>2</th>\n",
       "      <td>modified_huber</td>\n",
       "      <td>0.147958</td>\n",
       "      <td>l1</td>\n",
       "      <td>optimal</td>\n",
       "      <td>0.777459</td>\n",
       "      <td>0.058172</td>\n",
       "      <td>8</td>\n",
       "    </tr>\n",
       "    <tr>\n",
       "      <th>3</th>\n",
       "      <td>hinge</td>\n",
       "      <td>23.7233</td>\n",
       "      <td>l1</td>\n",
       "      <td>adaptive</td>\n",
       "      <td>0.788913</td>\n",
       "      <td>0.058291</td>\n",
       "      <td>7</td>\n",
       "    </tr>\n",
       "    <tr>\n",
       "      <th>4</th>\n",
       "      <td>hinge</td>\n",
       "      <td>59.8122</td>\n",
       "      <td>l1</td>\n",
       "      <td>constant</td>\n",
       "      <td>0.828055</td>\n",
       "      <td>0.004207</td>\n",
       "      <td>4</td>\n",
       "    </tr>\n",
       "    <tr>\n",
       "      <th>5</th>\n",
       "      <td>squared_hinge</td>\n",
       "      <td>8.80067</td>\n",
       "      <td>l1</td>\n",
       "      <td>optimal</td>\n",
       "      <td>0.828724</td>\n",
       "      <td>0.003489</td>\n",
       "      <td>3</td>\n",
       "    </tr>\n",
       "    <tr>\n",
       "      <th>6</th>\n",
       "      <td>hinge</td>\n",
       "      <td>21.6008</td>\n",
       "      <td>elasticnet</td>\n",
       "      <td>adaptive</td>\n",
       "      <td>0.830749</td>\n",
       "      <td>0.000884</td>\n",
       "      <td>2</td>\n",
       "    </tr>\n",
       "    <tr>\n",
       "      <th>7</th>\n",
       "      <td>squared_hinge</td>\n",
       "      <td>2.63526</td>\n",
       "      <td>l1</td>\n",
       "      <td>constant</td>\n",
       "      <td>0.828055</td>\n",
       "      <td>0.004207</td>\n",
       "      <td>4</td>\n",
       "    </tr>\n",
       "    <tr>\n",
       "      <th>8</th>\n",
       "      <td>hinge</td>\n",
       "      <td>21.9577</td>\n",
       "      <td>l1</td>\n",
       "      <td>invscaling</td>\n",
       "      <td>0.827382</td>\n",
       "      <td>0.005144</td>\n",
       "      <td>6</td>\n",
       "    </tr>\n",
       "    <tr>\n",
       "      <th>9</th>\n",
       "      <td>hinge</td>\n",
       "      <td>0.269191</td>\n",
       "      <td>elasticnet</td>\n",
       "      <td>adaptive</td>\n",
       "      <td>0.310233</td>\n",
       "      <td>0.158138</td>\n",
       "      <td>10</td>\n",
       "    </tr>\n",
       "  </tbody>\n",
       "</table>\n",
       "</div>"
      ],
      "text/plain": [
       "       param_loss param_alpha param_penalty param_learning_rate  \\\n",
       "0           hinge     4.43038            l1            constant   \n",
       "1      perceptron     7.42491    elasticnet          invscaling   \n",
       "2  modified_huber    0.147958            l1             optimal   \n",
       "3           hinge     23.7233            l1            adaptive   \n",
       "4           hinge     59.8122            l1            constant   \n",
       "5   squared_hinge     8.80067            l1             optimal   \n",
       "6           hinge     21.6008    elasticnet            adaptive   \n",
       "7   squared_hinge     2.63526            l1            constant   \n",
       "8           hinge     21.9577            l1          invscaling   \n",
       "9           hinge    0.269191    elasticnet            adaptive   \n",
       "\n",
       "   mean_test_score  std_test_score  rank_test_score  \n",
       "0         0.831424        0.001833                1  \n",
       "1         0.610776        0.311648                9  \n",
       "2         0.777459        0.058172                8  \n",
       "3         0.788913        0.058291                7  \n",
       "4         0.828055        0.004207                4  \n",
       "5         0.828724        0.003489                3  \n",
       "6         0.830749        0.000884                2  \n",
       "7         0.828055        0.004207                4  \n",
       "8         0.827382        0.005144                6  \n",
       "9         0.310233        0.158138               10  "
      ]
     },
     "execution_count": 69,
     "metadata": {},
     "output_type": "execute_result"
    }
   ],
   "source": [
    "results = cv.cv_results_\n",
    "df = pd.DataFrame(results)\n",
    "df[['param_loss', 'param_alpha','param_penalty','param_learning_rate', 'mean_test_score', \n",
    "    'std_test_score', 'rank_test_score']]"
   ]
  },
  {
   "cell_type": "code",
   "execution_count": 108,
   "metadata": {},
   "outputs": [
    {
     "name": "stdout",
     "output_type": "stream",
     "text": [
      "Train error:  0.17\n",
      "Test error:  0.16\n",
      "train accuracy score  0.83\n",
      "test accuracy score  0.84\n",
      "train precision score  0.0\n",
      "test precision score  0.0\n",
      "train recall score  0.0\n",
      "test recall score  0.0\n",
      "train f1 score  0.0\n",
      "test f1 score  0.0\n"
     ]
    },
    {
     "name": "stderr",
     "output_type": "stream",
     "text": [
      "/home/ariel/anaconda3/lib/python3.8/site-packages/sklearn/metrics/_classification.py:1221: UndefinedMetricWarning: Precision is ill-defined and being set to 0.0 due to no predicted samples. Use `zero_division` parameter to control this behavior.\n",
      "  _warn_prf(average, modifier, msg_start, len(result))\n"
     ]
    }
   ],
   "source": [
    "#utilizo el mejor rankeado\n",
    "model = make_pipeline(StandardScaler(), \n",
    "                      SGDClassifier(loss='hinge',alpha=4.43,penalty='l1',learning_rate='constant',eta0=1,\n",
    "                                    random_state=0))\n",
    "model.fit(X_train, y_train)\n",
    "y_train_pred = model.predict(X_train)\n",
    "y_test_pred = model.predict(X_test)\n",
    "train_error = mean_squared_error(y_train, y_train_pred)\n",
    "test_error = mean_squared_error(y_test, y_test_pred)\n",
    "print('Train error: ' , train_error.round(2))\n",
    "print('Test error: ', test_error.round(2))\n",
    "print('train accuracy score ', accuracy_score(y_train,y_train_pred).round(2))\n",
    "print('test accuracy score ', accuracy_score(y_test,y_test_pred).round(2))\n",
    "print('train precision score ', precision_score(y_train,y_train_pred).round(2))\n",
    "print('test precision score ', precision_score(y_test,y_test_pred).round(2))\n",
    "print('train recall score ', recall_score(y_train,y_train_pred) .round(2))\n",
    "print('test recall score ', recall_score(y_test,y_test_pred) .round(2))\n",
    "print('train f1 score ', f1_score(y_train,y_train_pred).round(2))\n",
    "print('test f1 score ', f1_score(y_test,y_test_pred).round(2))\n",
    "#esta overfitteando?"
   ]
  },
  {
   "cell_type": "code",
   "execution_count": 71,
   "metadata": {},
   "outputs": [
    {
     "name": "stdout",
     "output_type": "stream",
     "text": [
      "matriz de confusion train\n",
      "[[1232    0]\n",
      " [ 251    0]]\n",
      "matriz de confusion train\n"
     ]
    },
    {
     "data": {
      "text/plain": [
       "<sklearn.metrics._plot.confusion_matrix.ConfusionMatrixDisplay at 0x7f69fb0b9940>"
      ]
     },
     "execution_count": 71,
     "metadata": {},
     "output_type": "execute_result"
    },
    {
     "data": {
      "image/png": "[encoded data removed]",
      "text/plain": [
       "<Figure size 432x288 with 2 Axes>"
      ]
     },
     "metadata": {
      "needs_background": "light"
     },
     "output_type": "display_data"
    }
   ],
   "source": [
    "cm=confusion_matrix(y_train,y_train_pred)\n",
    "print('matriz de confusion train')\n",
    "print(cm)\n",
    "tn, fp, fn, tp = confusion_matrix(y_train,y_train_pred).ravel()\n",
    "print('matriz de confusion train')\n",
    "plot_confusion_matrix(model.fit(X_train, y_train), X_train, y_train,\n",
    "                                 display_labels=['client defaulted on loan','loan repaid'],\n",
    "                                 cmap=plt.cm.Blues,\n",
    "                                 normalize='true')"
   ]
  },
  {
   "cell_type": "code",
   "execution_count": 72,
   "metadata": {},
   "outputs": [
    {
     "name": "stdout",
     "output_type": "stream",
     "text": [
      "matriz de confusion test\n",
      "[[313   0]\n",
      " [ 58   0]]\n",
      "matriz de confusion test\n"
     ]
    },
    {
     "data": {
      "text/plain": [
       "<sklearn.metrics._plot.confusion_matrix.ConfusionMatrixDisplay at 0x7f69faee7670>"
      ]
     },
     "execution_count": 72,
     "metadata": {},
     "output_type": "execute_result"
    },
    {
     "data": {
      "image/png": "[encoded data removed]",
      "text/plain": [
       "<Figure size 432x288 with 2 Axes>"
      ]
     },
     "metadata": {
      "needs_background": "light"
     },
     "output_type": "display_data"
    }
   ],
   "source": [
    "cm=confusion_matrix(y_test,y_test_pred)\n",
    "print('matriz de confusion test')\n",
    "print(cm)\n",
    "tn, fp, fn, tp = confusion_matrix(y_test,y_test_pred).ravel()\n",
    "print('matriz de confusion test')\n",
    "plot_confusion_matrix(model.fit(X_train, y_train), X_test, y_test,\n",
    "                                 display_labels=['client defaulted on loan','loan repaid'],\n",
    "                                 cmap=plt.cm.Blues,\n",
    "                                 normalize='true')"
   ]
  },
  {
   "cell_type": "markdown",
   "metadata": {},
   "source": [
    "## Ejercicio 3: Árboles de Decisión\n",
    "\n",
    "En este ejercicio se entrenarán árboles de decisión para predecir la variable objetivo.\n",
    "\n",
    "Para ello, deberán utilizar la clase DecisionTreeClassifier de scikit-learn.\n",
    "\n",
    "Documentación:\n",
    "- https://scikit-learn.org/stable/modules/tree.html\n",
    "  - https://scikit-learn.org/stable/modules/tree.html#tips-on-practical-use\n",
    "- https://scikit-learn.org/stable/modules/generated/sklearn.tree.DecisionTreeClassifier.html\n",
    "- https://scikit-learn.org/stable/auto_examples/tree/plot_unveil_tree_structure.html"
   ]
  },
  {
   "cell_type": "markdown",
   "metadata": {},
   "source": [
    "### Ejercicio 3.1: DecisionTreeClassifier con hiperparámetros por defecto\n",
    "\n",
    "Entrenar y evaluar el clasificador DecisionTreeClassifier usando los valores por omisión de scikit-learn para todos los parámetros. Únicamente **fijar la semilla aleatoria** para hacer repetible el experimento.\n",
    "\n",
    "Evaluar sobre el conjunto de **entrenamiento** y sobre el conjunto de **evaluación**, reportando:\n",
    "- Accuracy\n",
    "- Precision\n",
    "- Recall\n",
    "- F1\n",
    "- matriz de confusión"
   ]
  },
  {
   "cell_type": "code",
   "execution_count": 61,
   "metadata": {},
   "outputs": [
    {
     "name": "stdout",
     "output_type": "stream",
     "text": [
      "Train error:  0.0\n",
      "Test error:  0.12\n",
      "train accuracy score  1.0\n",
      "test accuracy score  0.88\n",
      "train precision score  1.0\n",
      "test precision score  0.62\n",
      "train recall score  1.0\n",
      "test recall score  0.64\n",
      "train f1 score  1.0\n",
      "test f1 score  0.63\n"
     ]
    }
   ],
   "source": [
    "model = DecisionTreeClassifier(random_state=0)\n",
    "model.fit(X_train, y_train)\n",
    "y_train_pred = model.predict(X_train)\n",
    "y_test_pred = model.predict(X_test)\n",
    "train_error = mean_squared_error(y_train, y_train_pred)\n",
    "test_error = mean_squared_error(y_test, y_test_pred)\n",
    "print('Train error: ' , train_error.round(2))\n",
    "print('Test error: ', test_error.round(2))\n",
    "print('train accuracy score ', accuracy_score(y_train,y_train_pred).round(2))\n",
    "print('test accuracy score ', accuracy_score(y_test,y_test_pred).round(2))\n",
    "print('train precision score ', precision_score(y_train,y_train_pred).round(2))\n",
    "print('test precision score ', precision_score(y_test,y_test_pred).round(2))\n",
    "print('train recall score ', recall_score(y_train,y_train_pred) .round(2))\n",
    "print('test recall score ', recall_score(y_test,y_test_pred) .round(2))\n",
    "print('train f1 score ', f1_score(y_train,y_train_pred).round(2))\n",
    "print('test f1 score ', f1_score(y_test,y_test_pred).round(2))\n"
   ]
  },
  {
   "cell_type": "code",
   "execution_count": 62,
   "metadata": {},
   "outputs": [
    {
     "name": "stdout",
     "output_type": "stream",
     "text": [
      "matriz de confusion train\n",
      "[[1232    0]\n",
      " [   0  251]]\n",
      "matriz de confusion train\n"
     ]
    },
    {
     "data": {
      "text/plain": [
       "<sklearn.metrics._plot.confusion_matrix.ConfusionMatrixDisplay at 0x7f69fb1b7be0>"
      ]
     },
     "execution_count": 62,
     "metadata": {},
     "output_type": "execute_result"
    },
    {
     "data": {
      "image/png": "[encoded data removed]",
      "text/plain": [
       "<Figure size 432x288 with 2 Axes>"
      ]
     },
     "metadata": {
      "needs_background": "light"
     },
     "output_type": "display_data"
    }
   ],
   "source": [
    "cm=confusion_matrix(y_train,y_train_pred)\n",
    "print('matriz de confusion train')\n",
    "print(cm)\n",
    "tn, fp, fn, tp = confusion_matrix(y_train,y_train_pred).ravel()\n",
    "print('matriz de confusion train')\n",
    "plot_confusion_matrix(model.fit(X_train, y_train), X_train, y_train,\n",
    "                                 display_labels=['client defaulted on loan','loan repaid'],\n",
    "                                 cmap=plt.cm.Blues,\n",
    "                                 normalize='true')"
   ]
  },
  {
   "cell_type": "code",
   "execution_count": 63,
   "metadata": {},
   "outputs": [
    {
     "name": "stdout",
     "output_type": "stream",
     "text": [
      "matriz de confusion test\n",
      "[[290  23]\n",
      " [ 21  37]]\n",
      "matriz de confusion test\n"
     ]
    },
    {
     "data": {
      "text/plain": [
       "<sklearn.metrics._plot.confusion_matrix.ConfusionMatrixDisplay at 0x7f69faed1610>"
      ]
     },
     "execution_count": 63,
     "metadata": {},
     "output_type": "execute_result"
    },
    {
     "data": {
      "image/png": "[encoded data removed]",
      "text/plain": [
       "<Figure size 432x288 with 2 Axes>"
      ]
     },
     "metadata": {
      "needs_background": "light"
     },
     "output_type": "display_data"
    }
   ],
   "source": [
    "cm=confusion_matrix(y_test,y_test_pred)\n",
    "print('matriz de confusion test')\n",
    "print(cm)\n",
    "tn, fp, fn, tp = confusion_matrix(y_test,y_test_pred).ravel()\n",
    "print('matriz de confusion test')\n",
    "plot_confusion_matrix(model.fit(X_train, y_train), X_test, y_test,\n",
    "                                 display_labels=['client defaulted on loan','loan repaid'],\n",
    "                                 cmap=plt.cm.Blues,\n",
    "                                 normalize='true')"
   ]
  },
  {
   "cell_type": "code",
   "execution_count": 64,
   "metadata": {},
   "outputs": [
    {
     "data": {
      "image/png": "[encoded data removed]",
      "text/plain": [
       "<Figure size 432x288 with 1 Axes>"
      ]
     },
     "metadata": {
      "needs_background": "light"
     },
     "output_type": "display_data"
    }
   ],
   "source": [
    "plot_tree(model);"
   ]
  },
  {
   "cell_type": "markdown",
   "metadata": {},
   "source": [
    "### Ejercicio 3.2: Ajuste de Hiperparámetros\n",
    "\n",
    "Seleccionar valores para los hiperparámetros principales del DecisionTreeClassifier. Como mínimo, probar diferentes criterios de partición (criterion), profundidad máxima del árbol (max_depth), y cantidad mínima de samples por hoja (min_samples_leaf).\n",
    "\n",
    "Para ello, usar grid-search y 5-fold cross-validation sobre el conjunto de entrenamiento para explorar muchas combinaciones posibles de valores.\n",
    "\n",
    "Reportar accuracy promedio y varianza para todas las configuraciones.\n",
    "\n",
    "Para la mejor configuración encontrada, evaluar sobre el conjunto de **entrenamiento** y sobre el conjunto de **evaluación**, reportando:\n",
    "- Accuracy\n",
    "- Precision\n",
    "- Recall\n",
    "- F1\n",
    "- matriz de confusión\n",
    "\n",
    "\n",
    "Documentación:\n",
    "- https://scikit-learn.org/stable/modules/grid_search.html\n",
    "- https://scikit-learn.org/stable/modules/generated/sklearn.model_selection.GridSearchCV.html"
   ]
  },
  {
   "cell_type": "code",
   "execution_count": 97,
   "metadata": {},
   "outputs": [],
   "source": [
    "param_grid = {\n",
    "    'criterion': [ 'gini', 'entropy'],\n",
    "    'max_depth': [4,5,6,7,8,9,10,11,12,13,14,15,16,17,19,20],\n",
    "    'min_samples_leaf':[1,2,3,4,5,6,7,8,9,10,11,12]\n",
    "}"
   ]
  },
  {
   "cell_type": "code",
   "execution_count": 98,
   "metadata": {},
   "outputs": [],
   "source": [
    "model = DecisionTreeClassifier(random_state=0)\n",
    "\n",
    "cv = RandomizedSearchCV(model, param_grid, n_iter=10, cv=3, random_state=0)\n",
    "cv.fit(X_train, y_train);#aca no deberia ir X_train e y_train?"
   ]
  },
  {
   "cell_type": "code",
   "execution_count": 99,
   "metadata": {},
   "outputs": [
    {
     "data": {
      "text/html": [
       "<div>\n",
       "<style scoped>\n",
       "    .dataframe tbody tr th:only-of-type {\n",
       "        vertical-align: middle;\n",
       "    }\n",
       "\n",
       "    .dataframe tbody tr th {\n",
       "        vertical-align: top;\n",
       "    }\n",
       "\n",
       "    .dataframe thead th {\n",
       "        text-align: right;\n",
       "    }\n",
       "</style>\n",
       "<table border=\"1\" class=\"dataframe\">\n",
       "  <thead>\n",
       "    <tr style=\"text-align: right;\">\n",
       "      <th></th>\n",
       "      <th>param_criterion</th>\n",
       "      <th>param_max_depth</th>\n",
       "      <th>param_min_samples_leaf</th>\n",
       "      <th>mean_test_score</th>\n",
       "      <th>std_test_score</th>\n",
       "      <th>rank_test_score</th>\n",
       "    </tr>\n",
       "  </thead>\n",
       "  <tbody>\n",
       "    <tr>\n",
       "      <th>0</th>\n",
       "      <td>entropy</td>\n",
       "      <td>5</td>\n",
       "      <td>10</td>\n",
       "      <td>0.863135</td>\n",
       "      <td>0.021164</td>\n",
       "      <td>4</td>\n",
       "    </tr>\n",
       "    <tr>\n",
       "      <th>1</th>\n",
       "      <td>gini</td>\n",
       "      <td>14</td>\n",
       "      <td>5</td>\n",
       "      <td>0.859743</td>\n",
       "      <td>0.004177</td>\n",
       "      <td>7</td>\n",
       "    </tr>\n",
       "    <tr>\n",
       "      <th>2</th>\n",
       "      <td>gini</td>\n",
       "      <td>20</td>\n",
       "      <td>11</td>\n",
       "      <td>0.868518</td>\n",
       "      <td>0.008451</td>\n",
       "      <td>2</td>\n",
       "    </tr>\n",
       "    <tr>\n",
       "      <th>3</th>\n",
       "      <td>gini</td>\n",
       "      <td>8</td>\n",
       "      <td>5</td>\n",
       "      <td>0.875256</td>\n",
       "      <td>0.003321</td>\n",
       "      <td>1</td>\n",
       "    </tr>\n",
       "    <tr>\n",
       "      <th>4</th>\n",
       "      <td>entropy</td>\n",
       "      <td>8</td>\n",
       "      <td>11</td>\n",
       "      <td>0.863136</td>\n",
       "      <td>0.022345</td>\n",
       "      <td>3</td>\n",
       "    </tr>\n",
       "    <tr>\n",
       "      <th>5</th>\n",
       "      <td>entropy</td>\n",
       "      <td>15</td>\n",
       "      <td>5</td>\n",
       "      <td>0.852364</td>\n",
       "      <td>0.040021</td>\n",
       "      <td>10</td>\n",
       "    </tr>\n",
       "    <tr>\n",
       "      <th>6</th>\n",
       "      <td>entropy</td>\n",
       "      <td>13</td>\n",
       "      <td>9</td>\n",
       "      <td>0.859090</td>\n",
       "      <td>0.022034</td>\n",
       "      <td>8</td>\n",
       "    </tr>\n",
       "    <tr>\n",
       "      <th>7</th>\n",
       "      <td>gini</td>\n",
       "      <td>19</td>\n",
       "      <td>9</td>\n",
       "      <td>0.861778</td>\n",
       "      <td>0.012695</td>\n",
       "      <td>5</td>\n",
       "    </tr>\n",
       "    <tr>\n",
       "      <th>8</th>\n",
       "      <td>entropy</td>\n",
       "      <td>11</td>\n",
       "      <td>3</td>\n",
       "      <td>0.861125</td>\n",
       "      <td>0.034661</td>\n",
       "      <td>6</td>\n",
       "    </tr>\n",
       "    <tr>\n",
       "      <th>9</th>\n",
       "      <td>entropy</td>\n",
       "      <td>12</td>\n",
       "      <td>7</td>\n",
       "      <td>0.858415</td>\n",
       "      <td>0.021323</td>\n",
       "      <td>9</td>\n",
       "    </tr>\n",
       "  </tbody>\n",
       "</table>\n",
       "</div>"
      ],
      "text/plain": [
       "  param_criterion param_max_depth param_min_samples_leaf  mean_test_score  \\\n",
       "0         entropy               5                     10         0.863135   \n",
       "1            gini              14                      5         0.859743   \n",
       "2            gini              20                     11         0.868518   \n",
       "3            gini               8                      5         0.875256   \n",
       "4         entropy               8                     11         0.863136   \n",
       "5         entropy              15                      5         0.852364   \n",
       "6         entropy              13                      9         0.859090   \n",
       "7            gini              19                      9         0.861778   \n",
       "8         entropy              11                      3         0.861125   \n",
       "9         entropy              12                      7         0.858415   \n",
       "\n",
       "   std_test_score  rank_test_score  \n",
       "0        0.021164                4  \n",
       "1        0.004177                7  \n",
       "2        0.008451                2  \n",
       "3        0.003321                1  \n",
       "4        0.022345                3  \n",
       "5        0.040021               10  \n",
       "6        0.022034                8  \n",
       "7        0.012695                5  \n",
       "8        0.034661                6  \n",
       "9        0.021323                9  "
      ]
     },
     "execution_count": 99,
     "metadata": {},
     "output_type": "execute_result"
    }
   ],
   "source": [
    "results = cv.cv_results_\n",
    "df = pd.DataFrame(results)\n",
    "df[['param_criterion', 'param_max_depth','param_min_samples_leaf', 'mean_test_score', \n",
    "    'std_test_score', 'rank_test_score']]"
   ]
  },
  {
   "cell_type": "code",
   "execution_count": 102,
   "metadata": {},
   "outputs": [
    {
     "name": "stdout",
     "output_type": "stream",
     "text": [
      "Train error:  0.08\n",
      "Test error:  0.13\n",
      "train accuracy score  0.92\n",
      "test accuracy score  0.87\n",
      "train precision score  0.87\n",
      "test precision score  0.6\n",
      "train recall score  0.63\n",
      "test recall score  0.5\n",
      "train f1 score  0.73\n",
      "test f1 score  0.55\n"
     ]
    }
   ],
   "source": [
    "#utilizo el mejor rankeado\n",
    "model =  DecisionTreeClassifier(criterion='gini',max_depth=8,min_samples_leaf=5,random_state=0)\n",
    "                            \n",
    "model.fit(X_train, y_train)\n",
    "y_train_pred = model.predict(X_train)\n",
    "y_test_pred = model.predict(X_test)\n",
    "train_error = mean_squared_error(y_train, y_train_pred)\n",
    "test_error = mean_squared_error(y_test, y_test_pred)\n",
    "print('Train error: ' , train_error.round(2))\n",
    "print('Test error: ', test_error.round(2))\n",
    "print('train accuracy score ', accuracy_score(y_train,y_train_pred).round(2))\n",
    "print('test accuracy score ', accuracy_score(y_test,y_test_pred).round(2))\n",
    "print('train precision score ', precision_score(y_train,y_train_pred).round(2))\n",
    "print('test precision score ', precision_score(y_test,y_test_pred).round(2))\n",
    "print('train recall score ', recall_score(y_train,y_train_pred) .round(2))\n",
    "print('test recall score ', recall_score(y_test,y_test_pred) .round(2))\n",
    "print('train f1 score ', f1_score(y_train,y_train_pred).round(2))\n",
    "print('test f1 score ', f1_score(y_test,y_test_pred).round(2))\n",
    "#esta overfitteando?"
   ]
  },
  {
   "cell_type": "code",
   "execution_count": 103,
   "metadata": {},
   "outputs": [
    {
     "name": "stdout",
     "output_type": "stream",
     "text": [
      "matriz de confusion train\n",
      "[[1208   24]\n",
      " [  93  158]]\n",
      "matriz de confusion train\n"
     ]
    },
    {
     "data": {
      "text/plain": [
       "<sklearn.metrics._plot.confusion_matrix.ConfusionMatrixDisplay at 0x7f69fa9391c0>"
      ]
     },
     "execution_count": 103,
     "metadata": {},
     "output_type": "execute_result"
    },
    {
     "data": {
      "image/png": "[encoded data removed]",
      "text/plain": [
       "<Figure size 432x288 with 2 Axes>"
      ]
     },
     "metadata": {
      "needs_background": "light"
     },
     "output_type": "display_data"
    }
   ],
   "source": [
    "cm=confusion_matrix(y_train,y_train_pred)\n",
    "print('matriz de confusion train')\n",
    "print(cm)\n",
    "tn, fp, fn, tp = confusion_matrix(y_train,y_train_pred).ravel()\n",
    "print('matriz de confusion train')\n",
    "plot_confusion_matrix(model.fit(X_train, y_train), X_train, y_train,\n",
    "                                 display_labels=['client defaulted on loan','loan repaid'],\n",
    "                                 cmap=plt.cm.Blues,\n",
    "                                 normalize='true')"
   ]
  },
  {
   "cell_type": "code",
   "execution_count": 104,
   "metadata": {},
   "outputs": [
    {
     "name": "stdout",
     "output_type": "stream",
     "text": [
      "matriz de confusion test\n",
      "[[294  19]\n",
      " [ 29  29]]\n",
      "matriz de confusion test\n"
     ]
    },
    {
     "data": {
      "text/plain": [
       "<sklearn.metrics._plot.confusion_matrix.ConfusionMatrixDisplay at 0x7f69fa8ba7c0>"
      ]
     },
     "execution_count": 104,
     "metadata": {},
     "output_type": "execute_result"
    },
    {
     "data": {
      "image/png": "[encoded data removed]",
      "text/plain": [
       "<Figure size 432x288 with 2 Axes>"
      ]
     },
     "metadata": {
      "needs_background": "light"
     },
     "output_type": "display_data"
    }
   ],
   "source": [
    "cm=confusion_matrix(y_test,y_test_pred)\n",
    "print('matriz de confusion test')\n",
    "print(cm)\n",
    "tn, fp, fn, tp = confusion_matrix(y_test,y_test_pred).ravel()\n",
    "print('matriz de confusion test')\n",
    "plot_confusion_matrix(model.fit(X_train, y_train), X_test, y_test,\n",
    "                                 display_labels=['client defaulted on loan','loan repaid'],\n",
    "                                 cmap=plt.cm.Blues,\n",
    "                                 normalize='true')"
   ]
  },
  {
   "cell_type": "code",
   "execution_count": 105,
   "metadata": {},
   "outputs": [
    {
     "data": {
      "image/png": "[encoded data removed]",
      "text/plain": [
       "<Figure size 432x288 with 1 Axes>"
      ]
     },
     "metadata": {
      "needs_background": "light"
     },
     "output_type": "display_data"
    }
   ],
   "source": [
    "plot_tree(model);"
   ]
  },
  {
   "cell_type": "code",
   "execution_count": null,
   "metadata": {},
   "outputs": [],
   "source": []
  }
 ],
 "metadata": {
  "kernelspec": {
   "display_name": "Python 3",
   "language": "python",
   "name": "python3"
  },
  "language_info": {
   "codemirror_mode": {
    "name": "ipython",
    "version": 3
   },
   "file_extension": ".py",
   "mimetype": "text/x-python",
   "name": "python",
   "nbconvert_exporter": "python",
   "pygments_lexer": "ipython3",
   "version": "3.8.5"
  }
 },
 "nbformat": 4,
 "nbformat_minor": 4
}
